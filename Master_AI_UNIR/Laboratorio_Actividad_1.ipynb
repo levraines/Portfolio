{
 "cells": [
  {
   "cell_type": "markdown",
   "id": "e7acabdb",
   "metadata": {},
   "source": [
    "_Aprendizaje Automático_\n",
    "\n",
    "_Máster Universitario en Inteligencia Artificial_\n",
    "\n",
    "# Laboratorio: Regresión lineal y árboles de decisión para tareas de regresión\n",
    "\n",
    "\n",
    "## Objetivos\n",
    "\n",
    "Mediante esta actividad se pretende que ponga en práctica los pasos para la resolución de un problema de machine learning, el tratamiento de datos y la creación de modelos basados en regresión lineal y árboles de decisión. El objetivo es comprender de forma práctica con un problema determinado las diferencias que existen a la hora de entrenar los diferentes modelos.\n",
    "\n",
    "- Iniciarse en el Análisis Exploratorio de Datos (EDA) para los problemas de Machine Learning.\n",
    "- Entender y aplicar los conceptos de la Regresión Lineal Múltiple a un problema de regresión.\n",
    "- Entender y aplicar los conceptos de Árboles de Decisión a un problema de regresión.\n",
    "- Evaluar y analizar los resultados de los clasificadores.\n",
    "- Investigar la aplicación de los modelos de clasificación a problemas reales.\n",
    "\n",
    "\n",
    "## Descripción de la actividad\n",
    "\n",
    "Debes completar los espacios indicados en el notebook con el código solicitado y la respuesta, en función de lo que se solicite. Ten encuenta que las celdas vacías indican cuántas líneas debe ocupar la respuesta, por lo general no más de una línea.\n",
    "\n",
    "El conjunto de datos con el que vamos a trabajar se encuentra en el siguiente enlace: https://archive-beta.ics.uci.edu/dataset/360/air+quality\n",
    "\n",
    "Se trata de un dataset con un conjunto de datos sobre calidad del aire. El conjunto de datos contiene 9358 instancias de respuestas promediadas por hora de una matriz de 5 sensores químicos de óxido de metal integrados en un dispositivo multisensor químico de calidad del aire. El dispositivo estaba ubicado en un área significativamente contaminada, al nivel de la carretera, dentro de una ciudad italiana. Los datos se registraron desde marzo de 2004 hasta febrero de 2005 (un año).\n",
    "\n",
    "El objetivo de la regresión será predecir la calidad del aire para un determinado día.\n",
    "\n",
    "### Tareas que se deben realizar\n",
    "\n",
    "- Análisis descriptivo de los datos:\n",
    "   - Debe completarse el código solicitado y responder a las preguntas. Todo ello en el notebook dado como base.\n",
    "- Regresión:\n",
    "  - Debe completarse el código solicitado y responder a las preguntas. Todo ello en el notebook dado como base.\n",
    "- Investigación:\n",
    "  - Buscar un artículo científico (https://scholar.google.es/) con un caso de uso de regresión empleando una de las dos técnicas (o ambas) vistas en la actividad. Los artículos deben estar en revistas científicas, y deben ser posteriores a 2015. No debe utilizar técnicas de Deep Learning.\n",
    "  - Para el artículo indicar:\n",
    "    - Objetivo: cuál es el objetivo de la investigación, es decir a qué problema real está aplicando la regresión.\n",
    "    - Cómo utilizan las técnicas de regresión, si realizan alguna adaptación de los algoritmos indicarse.\n",
    "    - Principales resultados de la aplicación y de la investigación.\n"
   ]
  },
  {
   "cell_type": "markdown",
   "id": "19ceaba2",
   "metadata": {},
   "source": [
    "### Análisis descriptivo de los datos\n",
    "A continuación vas a encontrar una serie de preguntas que tendrás que responder. Para responder tendrás que escribir (y ejecutar) una (o más de una) línea de código, y a continuación indicar la respuesta en la celda indicada."
   ]
  },
  {
   "cell_type": "code",
   "execution_count": 1,
   "id": "bff4b5f9",
   "metadata": {},
   "outputs": [],
   "source": [
    "## cargar el dataset"
   ]
  },
  {
   "cell_type": "code",
   "execution_count": null,
   "id": "933235df",
   "metadata": {},
   "outputs": [],
   "source": [
    "import pandas as pd\n",
    "import numpy as np\n",
    "import matplotlib.pyplot as plt\n",
    "import seaborn as sns\n",
    "\n",
    "\n",
    "data = pd.read_csv(\""
   ]
  },
  {
   "cell_type": "code",
   "execution_count": 2,
   "id": "51f405b4",
   "metadata": {},
   "outputs": [],
   "source": [
    "## ¿cuántas instancias tiene el dataset?"
   ]
  },
  {
   "cell_type": "markdown",
   "id": "672c0ed2",
   "metadata": {},
   "source": [
    "_indica aquí tu respuesta_"
   ]
  },
  {
   "cell_type": "code",
   "execution_count": 3,
   "id": "e18abd86",
   "metadata": {},
   "outputs": [],
   "source": [
    "## ¿cuál es el tipo de datos de cada una de las columnas?\n"
   ]
  },
  {
   "cell_type": "markdown",
   "id": "d1c990c1",
   "metadata": {},
   "source": [
    "_indica aquí tu respuesta_"
   ]
  },
  {
   "cell_type": "code",
   "execution_count": 4,
   "id": "150ac3f5",
   "metadata": {},
   "outputs": [],
   "source": [
    "## ¿cuántas columnas categóricas hay? ¿y cuántas continuas?"
   ]
  },
  {
   "cell_type": "markdown",
   "id": "dc913654",
   "metadata": {},
   "source": [
    "_indica aquí tu respuesta_"
   ]
  },
  {
   "cell_type": "code",
   "execution_count": 5,
   "id": "a52b4cf2",
   "metadata": {},
   "outputs": [],
   "source": [
    "## ¿existen valores nulos en el dataset?"
   ]
  },
  {
   "cell_type": "markdown",
   "id": "6a417398",
   "metadata": {},
   "source": [
    "_indica aquí tu respuesta_"
   ]
  },
  {
   "cell_type": "code",
   "execution_count": 6,
   "id": "e4c1b97d",
   "metadata": {},
   "outputs": [],
   "source": [
    "## ¿cuál es la variable respuesta?¿de qué tipo es?"
   ]
  },
  {
   "cell_type": "markdown",
   "id": "b1c1fdde",
   "metadata": {},
   "source": [
    "_indica aquí tu respuesta_"
   ]
  },
  {
   "cell_type": "code",
   "execution_count": 7,
   "id": "159b126d",
   "metadata": {},
   "outputs": [],
   "source": [
    "## Si te fijas en los estadísticos del dataset, ¿cómo es la distribución de las variables, CO, NOx y NO2? "
   ]
  },
  {
   "cell_type": "markdown",
   "id": "189880ab",
   "metadata": {},
   "source": [
    "_indica aquí tu respuesta_"
   ]
  },
  {
   "cell_type": "markdown",
   "id": "dab9bd22",
   "metadata": {},
   "source": [
    "¿Estas variables muestran alguna distribución especial?¿Tienen datos faltantes?¿y datos anómalos?"
   ]
  },
  {
   "cell_type": "markdown",
   "id": "43f922c8",
   "metadata": {},
   "source": [
    "_indica aquí tu respuesta_"
   ]
  },
  {
   "cell_type": "code",
   "execution_count": 8,
   "id": "895be4fe",
   "metadata": {},
   "outputs": [],
   "source": [
    "## ¿cómo son las correlaciones entre las variables del dataset?"
   ]
  },
  {
   "cell_type": "code",
   "execution_count": null,
   "id": "cc8d1c50",
   "metadata": {},
   "outputs": [],
   "source": []
  },
  {
   "cell_type": "markdown",
   "id": "3b0603eb",
   "metadata": {},
   "source": [
    "_indica aquí tu respuesta_"
   ]
  },
  {
   "cell_type": "code",
   "execution_count": 9,
   "id": "72192498",
   "metadata": {},
   "outputs": [],
   "source": [
    "## ¿qué tres variables son las más correlacionadas con la variable objetivo?"
   ]
  },
  {
   "cell_type": "markdown",
   "id": "d3763b5c",
   "metadata": {},
   "source": [
    "_indica aquí tu respuesta_"
   ]
  },
  {
   "cell_type": "code",
   "execution_count": null,
   "id": "92241ae1",
   "metadata": {},
   "outputs": [],
   "source": []
  },
  {
   "cell_type": "code",
   "execution_count": 10,
   "id": "33dbcc4f",
   "metadata": {},
   "outputs": [],
   "source": [
    "## ¿existe alguna variable que no tenga correlación?"
   ]
  },
  {
   "cell_type": "markdown",
   "id": "3f368719",
   "metadata": {},
   "source": [
    "_indica aquí tu respuesta_"
   ]
  },
  {
   "cell_type": "code",
   "execution_count": null,
   "id": "a8ee5560",
   "metadata": {},
   "outputs": [],
   "source": []
  },
  {
   "cell_type": "markdown",
   "id": "ce7c5aa2",
   "metadata": {},
   "source": [
    "En base al EDA realizado, ¿qué suposiciones se pueden hacer sobre los datos?¿qué conclusiones extraes para implementar el modelo predictivo?"
   ]
  },
  {
   "cell_type": "markdown",
   "id": "aae42f2d",
   "metadata": {},
   "source": [
    "_indica aquí tu respuesta_"
   ]
  },
  {
   "cell_type": "markdown",
   "id": "cec604c3",
   "metadata": {},
   "source": [
    "### Regresión\n",
    "\n",
    "Para llevar a cabo la tarea de regresión deseada se pretender hacer una comparativa de varios modelos. Unos usarán el algortimo de regresión lineal, y otros realizarán la predicción haciendo uso de árboles de decisión.\n",
    "\n",
    "Para los primeros modelos hay que usar el módulo https://scikit-learn.org/stable/modules/generated/sklearn.linear_model.LinearRegression.html \n",
    "\n",
    "El algortimo de Regresión Lineal necesita saber cuáles son las variables que va a tener en cuenta para realizar la estimación.\n",
    "\n",
    "El primero modelo que se debe construir usará una regresión lineal simple. Para ello sigue los siguientes pasos."
   ]
  },
  {
   "cell_type": "markdown",
   "id": "151b0658",
   "metadata": {},
   "source": [
    "Antes de empezar con la implementación de los modelos hace falta realizar una transformación de datos, escalarlos."
   ]
  },
  {
   "cell_type": "code",
   "execution_count": null,
   "id": "36baf00e",
   "metadata": {},
   "outputs": [],
   "source": [
    "from sklearn.preprocessing import MinMaxScaler\n",
    "from pandas import DataFrame\n",
    "\n",
    "\n",
    "scaler = StandardScaler()\n",
    "\n",
    "X_train = DataFrame(scaler.fit_transform(X_train))\n",
    "X_test = DataFrame(scaler.fit_transform(X_test))"
   ]
  },
  {
   "cell_type": "code",
   "execution_count": null,
   "id": "67581e8a",
   "metadata": {},
   "outputs": [],
   "source": [
    "# separar datos de entrenamiento y test"
   ]
  },
  {
   "cell_type": "code",
   "execution_count": null,
   "id": "c21728d4",
   "metadata": {},
   "outputs": [],
   "source": []
  },
  {
   "cell_type": "code",
   "execution_count": null,
   "id": "79d85a9d",
   "metadata": {},
   "outputs": [],
   "source": [
    "# escoger la variable que a partir del EDA realizado, consideres que mejor va a realizar la predicción"
   ]
  },
  {
   "cell_type": "code",
   "execution_count": null,
   "id": "8a58cecb",
   "metadata": {},
   "outputs": [],
   "source": []
  },
  {
   "cell_type": "code",
   "execution_count": null,
   "id": "c50feba1",
   "metadata": {},
   "outputs": [],
   "source": [
    "# entrena el modelo con los datos de entrenamiento"
   ]
  },
  {
   "cell_type": "code",
   "execution_count": null,
   "id": "fca81958",
   "metadata": {},
   "outputs": [],
   "source": []
  },
  {
   "cell_type": "code",
   "execution_count": null,
   "id": "2d84aebf",
   "metadata": {},
   "outputs": [],
   "source": [
    "# ¿cuáles son los valores aprendidos por el modelo para los parámetros?"
   ]
  },
  {
   "cell_type": "code",
   "execution_count": null,
   "id": "a26e799f",
   "metadata": {},
   "outputs": [],
   "source": []
  },
  {
   "cell_type": "markdown",
   "id": "fe08b6a5",
   "metadata": {},
   "source": [
    "Explica qué indican estos parámetros"
   ]
  },
  {
   "cell_type": "markdown",
   "id": "3a1790ad",
   "metadata": {},
   "source": [
    "_indica aquí tu respuesta_"
   ]
  },
  {
   "cell_type": "code",
   "execution_count": null,
   "id": "c9cb2757",
   "metadata": {},
   "outputs": [],
   "source": []
  },
  {
   "cell_type": "code",
   "execution_count": null,
   "id": "a47f6206",
   "metadata": {},
   "outputs": [],
   "source": [
    "# realiza las predicciones para el conjunto de datos de test"
   ]
  },
  {
   "cell_type": "code",
   "execution_count": null,
   "id": "fddecaad",
   "metadata": {},
   "outputs": [],
   "source": []
  },
  {
   "cell_type": "code",
   "execution_count": null,
   "id": "29b2919f",
   "metadata": {},
   "outputs": [],
   "source": [
    "# Ahora es necesario evaluar el modelo. ¿Qué métrica es mejor utilizar en este caso?"
   ]
  },
  {
   "cell_type": "markdown",
   "id": "3badc9dc",
   "metadata": {},
   "source": [
    "_indica aquí tu respuesta_"
   ]
  },
  {
   "cell_type": "code",
   "execution_count": null,
   "id": "21ad02dc",
   "metadata": {},
   "outputs": [],
   "source": []
  },
  {
   "cell_type": "code",
   "execution_count": null,
   "id": "7e62392a",
   "metadata": {},
   "outputs": [],
   "source": [
    "# ¿Qué error tiene el modelo? Explícalo."
   ]
  },
  {
   "cell_type": "markdown",
   "id": "32a87fc5",
   "metadata": {},
   "source": [
    "_indica aquí tu respuesta_"
   ]
  },
  {
   "cell_type": "code",
   "execution_count": null,
   "id": "b8dfd0d2",
   "metadata": {},
   "outputs": [],
   "source": []
  },
  {
   "cell_type": "markdown",
   "id": "fe964d5b",
   "metadata": {},
   "source": [
    "Ahora debes entrenar un segundo modelo que haga uso de una regresión lineal múltiple con todas las variables del dataset. Después de entrenar, realiza las predicciones para este segundo modelo."
   ]
  },
  {
   "cell_type": "code",
   "execution_count": null,
   "id": "322a1443",
   "metadata": {},
   "outputs": [],
   "source": []
  },
  {
   "cell_type": "code",
   "execution_count": null,
   "id": "c0e5837f",
   "metadata": {},
   "outputs": [],
   "source": []
  },
  {
   "cell_type": "code",
   "execution_count": null,
   "id": "776a7831",
   "metadata": {},
   "outputs": [],
   "source": []
  },
  {
   "cell_type": "markdown",
   "id": "9f545c06",
   "metadata": {},
   "source": [
    "¿Qué error tiene este modelo?¿Es mejor o peor que el anterior?"
   ]
  },
  {
   "cell_type": "markdown",
   "id": "9d348b07",
   "metadata": {},
   "source": [
    "_indica aquí tu respuesta_"
   ]
  },
  {
   "cell_type": "code",
   "execution_count": null,
   "id": "4d030be8",
   "metadata": {},
   "outputs": [],
   "source": []
  },
  {
   "cell_type": "markdown",
   "id": "bdf217a2",
   "metadata": {},
   "source": [
    "#### Regresión con árboles de decisión\n",
    "\n",
    "A continuación, se requiere hacer dos modelos que usen árboles de decisión para realizar las predicciones.\n",
    "\n",
    "Para los árboles de decisión, al ser una tarea de regresión, hay que usar el módulo https://scikit-learn.org/stable/modules/generated/sklearn.tree.DecisionTreeRegressor.html\n",
    "\n",
    "El algortimo de DTRegresson necesitar ajustar una serie de hiperparámetros para realizar las predicciones. La implementación de sklearn nos da mucha flexibilidad para nuestros modelos. En general, para los problemas más comunes de regresión, nos tenemos que preocupar de los siguientes hiperparámetros:\n",
    "\n",
    "* criterion\n",
    "* splitter\n",
    "* max_depth\n",
    "* min_samples_split\n",
    "* min_samples_leaf\n",
    "* max_features\n",
    "\n",
    "Indica qué son cada uno de estos hiperparámetros\n",
    "\n",
    "_indica aquí tu respuesta_\n",
    "\n",
    "Además de los hiperparámetros que acabas de descubrir, la implementación de sklearn tiene el hiperparámetro min_impurity_decrease\n",
    "\n",
    "¿Qué indica ese parámetro? ¿Para qué puede ser útil?\n",
    "\n",
    "_indica aquí tu respuesta_"
   ]
  },
  {
   "cell_type": "markdown",
   "id": "ee600bfe",
   "metadata": {},
   "source": [
    "Entrena un modelo de árboles de decisión donde, el criterio para realizar las particiones sea _poisson_, la profundidad máxima de los árboles debe ser 10, el número mínimo de ejemplos para realizar una partición debe ser 10, el número mínimo de ejemplos para considerarlo una hoja debe ser 2, y el número máximo de características deben ser todas."
   ]
  },
  {
   "cell_type": "code",
   "execution_count": null,
   "id": "0fdab3c8",
   "metadata": {},
   "outputs": [],
   "source": []
  },
  {
   "cell_type": "code",
   "execution_count": null,
   "id": "de30cfaa",
   "metadata": {},
   "outputs": [],
   "source": []
  },
  {
   "cell_type": "markdown",
   "id": "026fd3c0",
   "metadata": {},
   "source": [
    "Calcula MAE, R2 y RMSLE"
   ]
  },
  {
   "cell_type": "code",
   "execution_count": null,
   "id": "8d8427d2",
   "metadata": {},
   "outputs": [],
   "source": []
  },
  {
   "cell_type": "markdown",
   "id": "995d4579",
   "metadata": {},
   "source": [
    "¿Existe overfitting? Indica qué debes hacer para comprobar si hay overfitting."
   ]
  },
  {
   "cell_type": "code",
   "execution_count": null,
   "id": "1864f069",
   "metadata": {},
   "outputs": [],
   "source": []
  },
  {
   "cell_type": "markdown",
   "id": "fddad551",
   "metadata": {},
   "source": [
    "¿Este modelo es mejor, peor o igual que los de regresión lineal simple y múltiple? Razona tu respuesta."
   ]
  },
  {
   "cell_type": "markdown",
   "id": "e615537e",
   "metadata": {},
   "source": [
    "_indica aquí tu respuesta_"
   ]
  },
  {
   "cell_type": "markdown",
   "id": "cbe59d0d",
   "metadata": {},
   "source": [
    "**Comparativa**\n",
    "\n",
    "En base al EDA realizado, a las decisiones tomadas sobre los datos e hiperparámetros y a las características computacionales de tu equipo. ¿Qué modelo obtiene mejores resultados de regresión?"
   ]
  },
  {
   "cell_type": "code",
   "execution_count": null,
   "id": "4d40bbe5",
   "metadata": {},
   "outputs": [],
   "source": []
  },
  {
   "cell_type": "code",
   "execution_count": null,
   "id": "01353241",
   "metadata": {},
   "outputs": [],
   "source": []
  },
  {
   "cell_type": "markdown",
   "id": "2feb7854",
   "metadata": {},
   "source": [
    "## Investigación\n",
    "\n",
    "Buscar un artículo científico (https://scholar.google.es/) con un caso de uso de regresión empleando una de las dos técnicas (o ambas) vistas en la actividad. Los artículos deben estar en revistas científicas, y deben ser posteriores a 2015. No debe utilizar técnicas de Deep Learning.\n",
    "\n",
    "_introduce aquí la referencia APA del artículo_\n",
    "\n",
    "título, autores, revista, año de publicación\n",
    "\n",
    "Objetivo: cuál es el objetivo de la investigación, es decir a qué problema real está aplicando la regresión. Técnicas de regresión empleadas y si realiza alguna adaptación. Principales resultados de la aplicación y de la investigación."
   ]
  },
  {
   "cell_type": "code",
   "execution_count": null,
   "id": "6061c04d",
   "metadata": {},
   "outputs": [],
   "source": []
  }
 ],
 "metadata": {
  "kernelspec": {
   "display_name": "Python 3 (ipykernel)",
   "language": "python",
   "name": "python3"
  },
  "language_info": {
   "codemirror_mode": {
    "name": "ipython",
    "version": 3
   },
   "file_extension": ".py",
   "mimetype": "text/x-python",
   "name": "python",
   "nbconvert_exporter": "python",
   "pygments_lexer": "ipython3",
   "version": "3.9.13"
  }
 },
 "nbformat": 4,
 "nbformat_minor": 5
}
