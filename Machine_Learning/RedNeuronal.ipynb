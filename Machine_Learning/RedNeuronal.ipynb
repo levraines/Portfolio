{
 "cells": [
  {
   "cell_type": "markdown",
   "metadata": {},
   "source": [
    "# Estudiante: Heiner Romero Leiva"
   ]
  },
  {
   "cell_type": "code",
   "execution_count": 1,
   "metadata": {},
   "outputs": [
    {
     "name": "stdout",
     "output_type": "stream",
     "text": [
      "/Users/heinerleivagmail.com\n"
     ]
    }
   ],
   "source": [
    "import os\n",
    "print(os.getcwd())\n",
    "os.chdir(\"/Users/heinerleivagmail.com\")"
   ]
  },
  {
   "cell_type": "code",
   "execution_count": 2,
   "metadata": {},
   "outputs": [
    {
     "name": "stderr",
     "output_type": "stream",
     "text": [
      "/Users/heinerleivagmail.com/opt/anaconda3/lib/python3.7/site-packages/statsmodels/tools/_testing.py:19: FutureWarning: pandas.util.testing is deprecated. Use the functions in the public API at pandas.testing instead.\n",
      "  import pandas.util.testing as tm\n"
     ]
    }
   ],
   "source": [
    "# Importando librerias\n",
    "\n",
    "import numpy as np\n",
    "import matplotlib.pyplot as plt\n",
    "import pandas as pd\n",
    "import seaborn as sns\n",
    "import pandas.util.testing as tm"
   ]
  },
  {
   "cell_type": "code",
   "execution_count": 3,
   "metadata": {},
   "outputs": [],
   "source": [
    "data = pd.read_csv(\"neuronal.csv\", delimiter = ',', decimal ='.')"
   ]
  },
  {
   "cell_type": "code",
   "execution_count": 4,
   "metadata": {},
   "outputs": [
    {
     "data": {
      "text/html": [
       "<div>\n",
       "<style scoped>\n",
       "    .dataframe tbody tr th:only-of-type {\n",
       "        vertical-align: middle;\n",
       "    }\n",
       "\n",
       "    .dataframe tbody tr th {\n",
       "        vertical-align: top;\n",
       "    }\n",
       "\n",
       "    .dataframe thead th {\n",
       "        text-align: right;\n",
       "    }\n",
       "</style>\n",
       "<table border=\"1\" class=\"dataframe\">\n",
       "  <thead>\n",
       "    <tr style=\"text-align: right;\">\n",
       "      <th></th>\n",
       "      <th>customerID</th>\n",
       "      <th>gender</th>\n",
       "      <th>SeniorCitizen</th>\n",
       "      <th>Partner</th>\n",
       "      <th>Dependents</th>\n",
       "      <th>tenure</th>\n",
       "      <th>PhoneService</th>\n",
       "      <th>MultipleLines</th>\n",
       "      <th>InternetService</th>\n",
       "      <th>OnlineSecurity</th>\n",
       "      <th>...</th>\n",
       "      <th>DeviceProtection</th>\n",
       "      <th>TechSupport</th>\n",
       "      <th>StreamingTV</th>\n",
       "      <th>StreamingMovies</th>\n",
       "      <th>Contract</th>\n",
       "      <th>PaperlessBilling</th>\n",
       "      <th>PaymentMethod</th>\n",
       "      <th>MonthlyCharges</th>\n",
       "      <th>TotalCharges</th>\n",
       "      <th>Churn</th>\n",
       "    </tr>\n",
       "  </thead>\n",
       "  <tbody>\n",
       "    <tr>\n",
       "      <th>0</th>\n",
       "      <td>7590-VHVEG</td>\n",
       "      <td>Female</td>\n",
       "      <td>0</td>\n",
       "      <td>Yes</td>\n",
       "      <td>No</td>\n",
       "      <td>1</td>\n",
       "      <td>No</td>\n",
       "      <td>No phone service</td>\n",
       "      <td>DSL</td>\n",
       "      <td>No</td>\n",
       "      <td>...</td>\n",
       "      <td>No</td>\n",
       "      <td>No</td>\n",
       "      <td>No</td>\n",
       "      <td>No</td>\n",
       "      <td>Month-to-month</td>\n",
       "      <td>Yes</td>\n",
       "      <td>Electronic check</td>\n",
       "      <td>29.85</td>\n",
       "      <td>29.85</td>\n",
       "      <td>No</td>\n",
       "    </tr>\n",
       "    <tr>\n",
       "      <th>1</th>\n",
       "      <td>5575-GNVDE</td>\n",
       "      <td>Male</td>\n",
       "      <td>0</td>\n",
       "      <td>No</td>\n",
       "      <td>No</td>\n",
       "      <td>34</td>\n",
       "      <td>Yes</td>\n",
       "      <td>No</td>\n",
       "      <td>DSL</td>\n",
       "      <td>Yes</td>\n",
       "      <td>...</td>\n",
       "      <td>Yes</td>\n",
       "      <td>No</td>\n",
       "      <td>No</td>\n",
       "      <td>No</td>\n",
       "      <td>One year</td>\n",
       "      <td>No</td>\n",
       "      <td>Mailed check</td>\n",
       "      <td>56.95</td>\n",
       "      <td>1889.50</td>\n",
       "      <td>No</td>\n",
       "    </tr>\n",
       "    <tr>\n",
       "      <th>2</th>\n",
       "      <td>3668-QPYBK</td>\n",
       "      <td>Male</td>\n",
       "      <td>0</td>\n",
       "      <td>No</td>\n",
       "      <td>No</td>\n",
       "      <td>2</td>\n",
       "      <td>Yes</td>\n",
       "      <td>No</td>\n",
       "      <td>DSL</td>\n",
       "      <td>Yes</td>\n",
       "      <td>...</td>\n",
       "      <td>No</td>\n",
       "      <td>No</td>\n",
       "      <td>No</td>\n",
       "      <td>No</td>\n",
       "      <td>Month-to-month</td>\n",
       "      <td>Yes</td>\n",
       "      <td>Mailed check</td>\n",
       "      <td>53.85</td>\n",
       "      <td>108.15</td>\n",
       "      <td>Yes</td>\n",
       "    </tr>\n",
       "    <tr>\n",
       "      <th>3</th>\n",
       "      <td>7795-CFOCW</td>\n",
       "      <td>Male</td>\n",
       "      <td>0</td>\n",
       "      <td>No</td>\n",
       "      <td>No</td>\n",
       "      <td>45</td>\n",
       "      <td>No</td>\n",
       "      <td>No phone service</td>\n",
       "      <td>DSL</td>\n",
       "      <td>Yes</td>\n",
       "      <td>...</td>\n",
       "      <td>Yes</td>\n",
       "      <td>Yes</td>\n",
       "      <td>No</td>\n",
       "      <td>No</td>\n",
       "      <td>One year</td>\n",
       "      <td>No</td>\n",
       "      <td>Bank transfer (automatic)</td>\n",
       "      <td>42.30</td>\n",
       "      <td>1840.75</td>\n",
       "      <td>No</td>\n",
       "    </tr>\n",
       "    <tr>\n",
       "      <th>4</th>\n",
       "      <td>9237-HQITU</td>\n",
       "      <td>Female</td>\n",
       "      <td>0</td>\n",
       "      <td>No</td>\n",
       "      <td>No</td>\n",
       "      <td>2</td>\n",
       "      <td>Yes</td>\n",
       "      <td>No</td>\n",
       "      <td>Fiber optic</td>\n",
       "      <td>No</td>\n",
       "      <td>...</td>\n",
       "      <td>No</td>\n",
       "      <td>No</td>\n",
       "      <td>No</td>\n",
       "      <td>No</td>\n",
       "      <td>Month-to-month</td>\n",
       "      <td>Yes</td>\n",
       "      <td>Electronic check</td>\n",
       "      <td>70.70</td>\n",
       "      <td>151.65</td>\n",
       "      <td>Yes</td>\n",
       "    </tr>\n",
       "  </tbody>\n",
       "</table>\n",
       "<p>5 rows × 21 columns</p>\n",
       "</div>"
      ],
      "text/plain": [
       "   customerID  gender  SeniorCitizen Partner Dependents  tenure PhoneService  \\\n",
       "0  7590-VHVEG  Female              0     Yes         No       1           No   \n",
       "1  5575-GNVDE    Male              0      No         No      34          Yes   \n",
       "2  3668-QPYBK    Male              0      No         No       2          Yes   \n",
       "3  7795-CFOCW    Male              0      No         No      45           No   \n",
       "4  9237-HQITU  Female              0      No         No       2          Yes   \n",
       "\n",
       "      MultipleLines InternetService OnlineSecurity  ... DeviceProtection  \\\n",
       "0  No phone service             DSL             No  ...               No   \n",
       "1                No             DSL            Yes  ...              Yes   \n",
       "2                No             DSL            Yes  ...               No   \n",
       "3  No phone service             DSL            Yes  ...              Yes   \n",
       "4                No     Fiber optic             No  ...               No   \n",
       "\n",
       "  TechSupport StreamingTV StreamingMovies        Contract PaperlessBilling  \\\n",
       "0          No          No              No  Month-to-month              Yes   \n",
       "1          No          No              No        One year               No   \n",
       "2          No          No              No  Month-to-month              Yes   \n",
       "3         Yes          No              No        One year               No   \n",
       "4          No          No              No  Month-to-month              Yes   \n",
       "\n",
       "               PaymentMethod MonthlyCharges  TotalCharges  Churn  \n",
       "0           Electronic check          29.85         29.85     No  \n",
       "1               Mailed check          56.95       1889.50     No  \n",
       "2               Mailed check          53.85        108.15    Yes  \n",
       "3  Bank transfer (automatic)          42.30       1840.75     No  \n",
       "4           Electronic check          70.70        151.65    Yes  \n",
       "\n",
       "[5 rows x 21 columns]"
      ]
     },
     "execution_count": 4,
     "metadata": {},
     "output_type": "execute_result"
    }
   ],
   "source": [
    "data.head()"
   ]
  },
  {
   "cell_type": "code",
   "execution_count": 5,
   "metadata": {},
   "outputs": [
    {
     "name": "stdout",
     "output_type": "stream",
     "text": [
      "Index(['customerID', 'gender', 'SeniorCitizen', 'Partner', 'Dependents',\n",
      "       'tenure', 'PhoneService', 'MultipleLines', 'InternetService',\n",
      "       'OnlineSecurity', 'OnlineBackup', 'DeviceProtection', 'TechSupport',\n",
      "       'StreamingTV', 'StreamingMovies', 'Contract', 'PaperlessBilling',\n",
      "       'PaymentMethod', 'MonthlyCharges', 'TotalCharges', 'Churn'],\n",
      "      dtype='object')\n"
     ]
    }
   ],
   "source": [
    "print(data.columns)"
   ]
  },
  {
   "cell_type": "markdown",
   "metadata": {},
   "source": [
    "## Exploratory Data Analysis"
   ]
  },
  {
   "cell_type": "code",
   "execution_count": 6,
   "metadata": {},
   "outputs": [
    {
     "name": "stdout",
     "output_type": "stream",
     "text": [
      "<class 'pandas.core.frame.DataFrame'>\n",
      "RangeIndex: 7043 entries, 0 to 7042\n",
      "Data columns (total 21 columns):\n",
      " #   Column            Non-Null Count  Dtype  \n",
      "---  ------            --------------  -----  \n",
      " 0   customerID        7043 non-null   object \n",
      " 1   gender            7043 non-null   object \n",
      " 2   SeniorCitizen     7043 non-null   int64  \n",
      " 3   Partner           7043 non-null   object \n",
      " 4   Dependents        7043 non-null   object \n",
      " 5   tenure            7043 non-null   int64  \n",
      " 6   PhoneService      7043 non-null   object \n",
      " 7   MultipleLines     7043 non-null   object \n",
      " 8   InternetService   7043 non-null   object \n",
      " 9   OnlineSecurity    7043 non-null   object \n",
      " 10  OnlineBackup      7043 non-null   object \n",
      " 11  DeviceProtection  7043 non-null   object \n",
      " 12  TechSupport       7043 non-null   object \n",
      " 13  StreamingTV       7043 non-null   object \n",
      " 14  StreamingMovies   7043 non-null   object \n",
      " 15  Contract          7043 non-null   object \n",
      " 16  PaperlessBilling  7043 non-null   object \n",
      " 17  PaymentMethod     7043 non-null   object \n",
      " 18  MonthlyCharges    7043 non-null   float64\n",
      " 19  TotalCharges      7032 non-null   float64\n",
      " 20  Churn             7043 non-null   object \n",
      "dtypes: float64(2), int64(2), object(17)\n",
      "memory usage: 1.1+ MB\n"
     ]
    }
   ],
   "source": [
    "data.info()"
   ]
  },
  {
   "cell_type": "code",
   "execution_count": 7,
   "metadata": {},
   "outputs": [
    {
     "data": {
      "text/html": [
       "<div>\n",
       "<style scoped>\n",
       "    .dataframe tbody tr th:only-of-type {\n",
       "        vertical-align: middle;\n",
       "    }\n",
       "\n",
       "    .dataframe tbody tr th {\n",
       "        vertical-align: top;\n",
       "    }\n",
       "\n",
       "    .dataframe thead th {\n",
       "        text-align: right;\n",
       "    }\n",
       "</style>\n",
       "<table border=\"1\" class=\"dataframe\">\n",
       "  <thead>\n",
       "    <tr style=\"text-align: right;\">\n",
       "      <th></th>\n",
       "      <th>count</th>\n",
       "      <th>mean</th>\n",
       "      <th>std</th>\n",
       "      <th>min</th>\n",
       "      <th>25%</th>\n",
       "      <th>50%</th>\n",
       "      <th>75%</th>\n",
       "      <th>max</th>\n",
       "    </tr>\n",
       "  </thead>\n",
       "  <tbody>\n",
       "    <tr>\n",
       "      <th>SeniorCitizen</th>\n",
       "      <td>7043.0</td>\n",
       "      <td>0.162147</td>\n",
       "      <td>0.368612</td>\n",
       "      <td>0.00</td>\n",
       "      <td>0.00</td>\n",
       "      <td>0.000</td>\n",
       "      <td>0.0000</td>\n",
       "      <td>1.00</td>\n",
       "    </tr>\n",
       "    <tr>\n",
       "      <th>tenure</th>\n",
       "      <td>7043.0</td>\n",
       "      <td>32.371149</td>\n",
       "      <td>24.559481</td>\n",
       "      <td>0.00</td>\n",
       "      <td>9.00</td>\n",
       "      <td>29.000</td>\n",
       "      <td>55.0000</td>\n",
       "      <td>72.00</td>\n",
       "    </tr>\n",
       "    <tr>\n",
       "      <th>MonthlyCharges</th>\n",
       "      <td>7043.0</td>\n",
       "      <td>64.761692</td>\n",
       "      <td>30.090047</td>\n",
       "      <td>18.25</td>\n",
       "      <td>35.50</td>\n",
       "      <td>70.350</td>\n",
       "      <td>89.8500</td>\n",
       "      <td>118.75</td>\n",
       "    </tr>\n",
       "    <tr>\n",
       "      <th>TotalCharges</th>\n",
       "      <td>7032.0</td>\n",
       "      <td>2283.300441</td>\n",
       "      <td>2266.771362</td>\n",
       "      <td>18.80</td>\n",
       "      <td>401.45</td>\n",
       "      <td>1397.475</td>\n",
       "      <td>3794.7375</td>\n",
       "      <td>8684.80</td>\n",
       "    </tr>\n",
       "  </tbody>\n",
       "</table>\n",
       "</div>"
      ],
      "text/plain": [
       "                 count         mean          std    min     25%       50%  \\\n",
       "SeniorCitizen   7043.0     0.162147     0.368612   0.00    0.00     0.000   \n",
       "tenure          7043.0    32.371149    24.559481   0.00    9.00    29.000   \n",
       "MonthlyCharges  7043.0    64.761692    30.090047  18.25   35.50    70.350   \n",
       "TotalCharges    7032.0  2283.300441  2266.771362  18.80  401.45  1397.475   \n",
       "\n",
       "                      75%      max  \n",
       "SeniorCitizen      0.0000     1.00  \n",
       "tenure            55.0000    72.00  \n",
       "MonthlyCharges    89.8500   118.75  \n",
       "TotalCharges    3794.7375  8684.80  "
      ]
     },
     "execution_count": 7,
     "metadata": {},
     "output_type": "execute_result"
    }
   ],
   "source": [
    "data.describe().T"
   ]
  },
  {
   "cell_type": "code",
   "execution_count": 8,
   "metadata": {},
   "outputs": [],
   "source": [
    "# Solo tenemos 3 variables numericas las demas son categoricas, algunas de ellas ordinales y las otras nominales. Ademas se puede apreciar como los datos no se encuentran en la misma escala, \n",
    "# por lo que sera necesario reescalarlos. "
   ]
  },
  {
   "cell_type": "code",
   "execution_count": 9,
   "metadata": {},
   "outputs": [
    {
     "data": {
      "text/plain": [
       "customerID           0\n",
       "gender               0\n",
       "SeniorCitizen        0\n",
       "Partner              0\n",
       "Dependents           0\n",
       "tenure               0\n",
       "PhoneService         0\n",
       "MultipleLines        0\n",
       "InternetService      0\n",
       "OnlineSecurity       0\n",
       "OnlineBackup         0\n",
       "DeviceProtection     0\n",
       "TechSupport          0\n",
       "StreamingTV          0\n",
       "StreamingMovies      0\n",
       "Contract             0\n",
       "PaperlessBilling     0\n",
       "PaymentMethod        0\n",
       "MonthlyCharges       0\n",
       "TotalCharges        11\n",
       "Churn                0\n",
       "dtype: int64"
      ]
     },
     "execution_count": 9,
     "metadata": {},
     "output_type": "execute_result"
    }
   ],
   "source": [
    "# Inspeccionando Dataset en busca de NaN values\n",
    "data.isnull().sum()"
   ]
  },
  {
   "cell_type": "code",
   "execution_count": 10,
   "metadata": {},
   "outputs": [
    {
     "data": {
      "text/plain": [
       "1397.475"
      ]
     },
     "execution_count": 10,
     "metadata": {},
     "output_type": "execute_result"
    }
   ],
   "source": [
    "# Dataset no cuenta con 11 Nan Values, se van a reemaplzar por la mediana\n",
    "data['TotalCharges'].median()"
   ]
  },
  {
   "cell_type": "code",
   "execution_count": 11,
   "metadata": {},
   "outputs": [],
   "source": [
    "data['TotalCharges'].fillna(1397.38, inplace = True)"
   ]
  },
  {
   "cell_type": "code",
   "execution_count": 12,
   "metadata": {},
   "outputs": [
    {
     "data": {
      "text/plain": [
       "customerID          0\n",
       "gender              0\n",
       "SeniorCitizen       0\n",
       "Partner             0\n",
       "Dependents          0\n",
       "tenure              0\n",
       "PhoneService        0\n",
       "MultipleLines       0\n",
       "InternetService     0\n",
       "OnlineSecurity      0\n",
       "OnlineBackup        0\n",
       "DeviceProtection    0\n",
       "TechSupport         0\n",
       "StreamingTV         0\n",
       "StreamingMovies     0\n",
       "Contract            0\n",
       "PaperlessBilling    0\n",
       "PaymentMethod       0\n",
       "MonthlyCharges      0\n",
       "TotalCharges        0\n",
       "Churn               0\n",
       "dtype: int64"
      ]
     },
     "execution_count": 12,
     "metadata": {},
     "output_type": "execute_result"
    }
   ],
   "source": [
    "# Inspeccionando de nuevo dataset y ya no hay valores nulos. \n",
    "data.isnull().sum()"
   ]
  },
  {
   "cell_type": "markdown",
   "metadata": {},
   "source": [
    "### Construyendo graficos de pastel para analizar datos categoricos"
   ]
  },
  {
   "cell_type": "code",
   "execution_count": 13,
   "metadata": {},
   "outputs": [
    {
     "data": {
      "image/png": "[encoded data removed]",
      "text/plain": [
       "<Figure size 1440x1512 with 4 Axes>"
      ]
     },
     "metadata": {},
     "output_type": "display_data"
    }
   ],
   "source": [
    "# Pie charts\n",
    "f, ax = plt.subplots(figsize=(20, 21))\n",
    "\n",
    "# Gender\n",
    "plt.subplot(2, 2, 1)\n",
    "plt.title(\"Indica el genero del cliente\")\n",
    "sums = data[\"gender\"].value_counts()\n",
    "labels = data[\"gender\"].unique()\n",
    "plt.pie(sums, labels=labels, autopct='%1.1f%%')\n",
    "\n",
    "\n",
    "# SeniorCitizen\n",
    "plt.subplot(2, 2, 2)\n",
    "plt.title(\"Indica si es adulto mayor\")\n",
    "sums = data[\"SeniorCitizen\"].value_counts()\n",
    "labels = data[\"SeniorCitizen\"].unique()\n",
    "plt.pie(sums, labels=labels, autopct='%1.1f%%')\n",
    "\n",
    "# Partner\n",
    "plt.subplot(2, 2, 3)\n",
    "plt.title(\"Indica si tiene companero sentimental\")\n",
    "sums = data[\"Partner\"].value_counts()\n",
    "labels = data[\"Partner\"].unique()\n",
    "plt.pie(sums, labels=labels, autopct='%1.1f%%')\n",
    "\n",
    "# Dependents\n",
    "plt.subplot(2, 2, 4)\n",
    "plt.title(\"Indica si personas dependen economicamente de el\")\n",
    "sums = data[\"Dependents\"].value_counts().tolist()\n",
    "labels = data[\"Dependents\"].unique()\n",
    "plt.pie(sums, labels=labels, autopct='%1.1f%%')\n",
    "\n",
    "plt.show()"
   ]
  },
  {
   "cell_type": "markdown",
   "metadata": {},
   "source": [
    "### Analisis\n",
    "\n",
    "Con estos primeros graficos de pastel se pueden ver mas detalles de los clientes:\n",
    "\n",
    "* Gender: casi que se tiene el mismo porcentaje en cuanto al sexo, pero hay mas hombres clientes que mujeres por un 1%. \n",
    "* SeniorCitizen: lado la mayoria de clientes no son adultos mayores o no se encuentran pensionados; solo un 16.2% se encuentran en dicho segmento, el restante se encuentra en etapa productiva.\n",
    "* Partner: un 51.7% asegura tener una pareja o estar en una relacion frente a un 48.3% que indica que se encuentran solos.\n",
    "* Dependents: un 70% de los clientes indican que no tienen personas que dependen economicamente de ellos, versus un 30% que indica que si cuentan con personas dependientes. "
   ]
  },
  {
   "cell_type": "code",
   "execution_count": 14,
   "metadata": {},
   "outputs": [
    {
     "data": {
      "image/png": "[encoded data removed]",
      "text/plain": [
       "<Figure size 1440x1512 with 4 Axes>"
      ]
     },
     "metadata": {},
     "output_type": "display_data"
    }
   ],
   "source": [
    "# Pie charts\n",
    "f, ax = plt.subplots(figsize=(20, 21))\n",
    "\n",
    "# PhoneService\n",
    "plt.subplot(2, 2, 1)\n",
    "plt.title(\"Indica si el cliente cuenta con servicio telefonico\")\n",
    "sums = data[\"PhoneService\"].value_counts()\n",
    "labels = data[\"PhoneService\"].unique()\n",
    "plt.pie(sums, labels=labels, autopct='%1.1f%%')\n",
    "\n",
    "\n",
    "# MultipleLines\n",
    "plt.subplot(2, 2, 2)\n",
    "plt.title(\"Indica si el cliente cuenta con multiples lineas\")\n",
    "sums = data[\"MultipleLines\"].value_counts()\n",
    "labels = data[\"MultipleLines\"].unique()\n",
    "plt.pie(sums, labels=labels, autopct='%1.1f%%')\n",
    "\n",
    "# InternetService\n",
    "plt.subplot(2, 2, 3)\n",
    "plt.title(\"Indica si cliente cuenta con servicio de Internet\")\n",
    "sums = data[\"InternetService\"].value_counts()\n",
    "labels = data[\"InternetService\"].unique()\n",
    "plt.pie(sums, labels=labels, autopct='%1.1f%%')\n",
    "\n",
    "# OnlineSecurity\n",
    "plt.subplot(2, 2, 4)\n",
    "plt.title(\"Indica si el cliente cuenta con Seguridad Online\")\n",
    "sums = data[\"OnlineSecurity\"].value_counts().tolist()\n",
    "labels = data[\"OnlineSecurity\"].unique()\n",
    "plt.pie(sums, labels=labels, autopct='%1.1f%%')\n",
    "\n",
    "plt.show()"
   ]
  },
  {
   "cell_type": "markdown",
   "metadata": {},
   "source": [
    "### Analisis\n",
    "\n",
    "* PhoneService: se puede apreciar como un 90.3% de los clientes no cuentan con servicio telefonico, frente a un 9.7% que si. \n",
    "* MultipleLines: un 48.1% indica que del todo no tiene servicio telefonico, un 42.4% dice que no tiene multiples lineas y solo un 9.7% dice que si tiene multiples lineas. Es curioso porque se puede apreciar que si se suman las personas que dicen no tener servicio telefonico como en el primer grafico cdon las que dicen que no tienen multiples lineas y que del todo no tienen servicio telefonico se obtiene el 90.3% que se vio de primero, lo cual indica que los que tienen multiples lineas no tienen asociado un servicio telefonico a ellos, sino otro servicio. \n",
    "* InternetService: indica que un 44% cuenta con internet DSL y una menor cantidad cuenta con Fibra Optica (34.4%), un 21.7% dice que no tiene servicio de internet. \n",
    "* OnlineSecurity: un 49.7% de los clientes asegura que no cuenta con seguridad online, mientras que un 28.7% dice que si cuenta con ella, un 21.7% indica que no cuentan con internet por lo que, seria innecesario contar con la misma; lo cual calza con el grafico anterior. "
   ]
  },
  {
   "cell_type": "code",
   "execution_count": 15,
   "metadata": {},
   "outputs": [
    {
     "data": {
      "image/png": "[encoded data removed]",
      "text/plain": [
       "<Figure size 1440x1512 with 4 Axes>"
      ]
     },
     "metadata": {},
     "output_type": "display_data"
    }
   ],
   "source": [
    "# Pie charts\n",
    "f, ax = plt.subplots(figsize=(20, 21))\n",
    "\n",
    "# OnlineBackup\n",
    "plt.subplot(2, 2, 1)\n",
    "plt.title(\"Indica si el cliente tiene proteccion de datos online\")\n",
    "sums = data[\"OnlineBackup\"].value_counts()\n",
    "labels = data[\"OnlineBackup\"].unique()\n",
    "plt.pie(sums, labels=labels, autopct='%1.1f%%')\n",
    "\n",
    "\n",
    "# DeviceProtection\n",
    "plt.subplot(2, 2, 2)\n",
    "plt.title(\"Indica si el dispositivo tiene proteccion\")\n",
    "sums = data[\"DeviceProtection\"].value_counts()\n",
    "labels = data[\"DeviceProtection\"].unique()\n",
    "plt.pie(sums, labels=labels, autopct='%1.1f%%')\n",
    "\n",
    "# TechSupport\n",
    "plt.subplot(2, 2, 3)\n",
    "plt.title(\"Indica si el cliente tiene soporte tecnico\")\n",
    "sums = data[\"TechSupport\"].value_counts()\n",
    "labels = data[\"TechSupport\"].unique()\n",
    "plt.pie(sums, labels=labels, autopct='%1.1f%%')\n",
    "\n",
    "# StreamingTV\n",
    "plt.subplot(2, 2, 4)\n",
    "plt.title(\"Indica si el cliente cuenta con paquete de streaming de television\")\n",
    "sums = data[\"StreamingTV\"].value_counts().tolist()\n",
    "labels = data[\"StreamingTV\"].unique()\n",
    "plt.pie(sums, labels=labels, autopct='%1.1f%%')\n",
    "\n",
    "plt.show()"
   ]
  },
  {
   "cell_type": "markdown",
   "metadata": {},
   "source": [
    "### Analisis\n",
    "\n",
    "* OnlineBackup: un 43.8% indica que si tiene un servicio de respaldo online (cloud) versus un 34.5% que no tiene ninguna clase de servicio, se sigue manteniendo el 21.7% de los suscriptores que no cuentan con internet. \n",
    "* DeviceProtection: un 43.9% asegura no tener su dispositivo con algun sistema de proteccion, un 34.4% asegura tenerlo protegido, y se sigue manteniendo el mismo porcentaje de los que no cuentan con internet. Ya que se puede ver que estos clientes no quieren contratar servicios de proteccion online o de sus dispositivos, pero si les gusta tener respaldos en la nube. \n",
    "* TechSupport: como era de esperar, un 49.3% de los clientes asegura no tener ningun servicio de soporte tecnico, porque muchos no tienen servicios de proteccion, y solo un 29% asegura tener este servicio. \n",
    "* StreamingTV: un 39.9% de los clientes no tiene ningun paquete de Streaming y un 38.4% asegura tenerlo. "
   ]
  },
  {
   "cell_type": "code",
   "execution_count": 16,
   "metadata": {},
   "outputs": [
    {
     "data": {
      "image/png": "[encoded data removed]",
      "text/plain": [
       "<Figure size 1440x1512 with 4 Axes>"
      ]
     },
     "metadata": {},
     "output_type": "display_data"
    }
   ],
   "source": [
    "# Pie charts\n",
    "f, ax = plt.subplots(figsize=(20, 21))\n",
    "\n",
    "# StreamingMovies\n",
    "plt.subplot(2, 2, 1)\n",
    "plt.title(\"Indica si el cliente tiene algun servicio de Streaming para Peliculas\")\n",
    "sums = data[\"StreamingMovies\"].value_counts()\n",
    "labels = data[\"StreamingMovies\"].unique()\n",
    "plt.pie(sums, labels=labels, autopct='%1.1f%%')\n",
    "\n",
    "\n",
    "# Contract\n",
    "plt.subplot(2, 2, 2)\n",
    "plt.title(\"Indica si el cliente tiene Contrato\")\n",
    "sums = data[\"Contract\"].value_counts()\n",
    "labels = data[\"Contract\"].unique()\n",
    "plt.pie(sums, labels=labels, autopct='%1.1f%%')\n",
    "\n",
    "# PaperlessBilling\n",
    "plt.subplot(2, 2, 3)\n",
    "plt.title(\"Indica si el cliente cuenta con facturacion digital\")\n",
    "sums = data[\"PaperlessBilling\"].value_counts()\n",
    "labels = data[\"PaperlessBilling\"].unique()\n",
    "plt.pie(sums, labels=labels, autopct='%1.1f%%')\n",
    "\n",
    "# PaymentMethod\n",
    "plt.subplot(2, 2, 4)\n",
    "plt.title(\"Indica el tipo de metodo de pago del cliente\")\n",
    "sums = data[\"PaymentMethod\"].value_counts().tolist()\n",
    "labels = data[\"PaymentMethod\"].unique()\n",
    "plt.pie(sums, labels=labels, autopct='%1.1f%%')\n",
    "\n",
    "plt.show()"
   ]
  },
  {
   "cell_type": "markdown",
   "metadata": {},
   "source": [
    "### Analisis:\n",
    "\n",
    "* StreamingMovies: Un 39.5% indica que no tienen un servicio de streaming de peliculas, versus un 38.8% que indica que si lo tiene, es decir las personas que tienen un servicio de Streaming de TV tambien tienen uno de Peliculas. \n",
    "* Contract: un 55% de los clientes indica que pagan ekl servicio mes a mes, mientras que un 24.1% indica que tienen un contrato a un ano, y finalmente un 20.9% tienen un contrato a dos anos, esto debe despertarnos nuestra atencion, ya que la mayoria tienen contratos mes a mes, convirtiendolos en potenciales clientes que pueden en cualquier momento optar por abandonar el servicio de Telco.\n",
    "* PaperlessBilling: un 59.2% sonb clientes que tienen factura electronica, mientras que un 40.8% indica recibir factura fisica. \n",
    "* PaymentMethod: por ultimo, un 33.6% pagan sus servicios mediante cheque electronico, un 22.9% paga sus servicios mediante un cheque enviado por correo, un 21.9% paga sus servicios mediante transferencia bancaria y finalmente un 21.6% paga su servicio mediante un debito automatico a su tarjeta de credito. Es decir la mayoria de los clientes prefieren canales mas tradicionales de pago que afiliar sus tarjetas o cuenta para ek debito automatico, lo que potencia que puedan dimitir el servicio en cualquier momento.  "
   ]
  },
  {
   "cell_type": "code",
   "execution_count": 17,
   "metadata": {},
   "outputs": [],
   "source": [
    "# Hay que transformar a numéricas las variables categóricas para poder trabajar con ellas\n",
    "data['SeniorCitizen']= data['SeniorCitizen'].astype('int') # esta variable ya esta convertida en 0 y 1, entonces solo se convertira a int"
   ]
  },
  {
   "cell_type": "code",
   "execution_count": 18,
   "metadata": {},
   "outputs": [
    {
     "name": "stdout",
     "output_type": "stream",
     "text": [
      "Index(['customerID', 'gender', 'Partner', 'Dependents', 'PhoneService',\n",
      "       'MultipleLines', 'InternetService', 'OnlineSecurity', 'OnlineBackup',\n",
      "       'DeviceProtection', 'TechSupport', 'StreamingTV', 'StreamingMovies',\n",
      "       'Contract', 'PaperlessBilling', 'PaymentMethod', 'Churn'],\n",
      "      dtype='object')\n"
     ]
    }
   ],
   "source": [
    "obj_df = data.select_dtypes(include=['object']).copy() # se eligen las variables categoricas (object)\n",
    "print(obj_df.columns)"
   ]
  },
  {
   "cell_type": "code",
   "execution_count": 19,
   "metadata": {},
   "outputs": [],
   "source": [
    "from sklearn.preprocessing import LabelEncoder"
   ]
  },
  {
   "cell_type": "code",
   "execution_count": 20,
   "metadata": {},
   "outputs": [],
   "source": [
    "lb_encoder = LabelEncoder()\n",
    "for col in obj_df.columns:\n",
    "    data[col] = lb_encoder.fit_transform(data[col])"
   ]
  },
  {
   "cell_type": "code",
   "execution_count": 21,
   "metadata": {},
   "outputs": [
    {
     "data": {
      "text/html": [
       "<div>\n",
       "<style scoped>\n",
       "    .dataframe tbody tr th:only-of-type {\n",
       "        vertical-align: middle;\n",
       "    }\n",
       "\n",
       "    .dataframe tbody tr th {\n",
       "        vertical-align: top;\n",
       "    }\n",
       "\n",
       "    .dataframe thead th {\n",
       "        text-align: right;\n",
       "    }\n",
       "</style>\n",
       "<table border=\"1\" class=\"dataframe\">\n",
       "  <thead>\n",
       "    <tr style=\"text-align: right;\">\n",
       "      <th></th>\n",
       "      <th>customerID</th>\n",
       "      <th>gender</th>\n",
       "      <th>SeniorCitizen</th>\n",
       "      <th>Partner</th>\n",
       "      <th>Dependents</th>\n",
       "      <th>tenure</th>\n",
       "      <th>PhoneService</th>\n",
       "      <th>MultipleLines</th>\n",
       "      <th>InternetService</th>\n",
       "      <th>OnlineSecurity</th>\n",
       "      <th>...</th>\n",
       "      <th>DeviceProtection</th>\n",
       "      <th>TechSupport</th>\n",
       "      <th>StreamingTV</th>\n",
       "      <th>StreamingMovies</th>\n",
       "      <th>Contract</th>\n",
       "      <th>PaperlessBilling</th>\n",
       "      <th>PaymentMethod</th>\n",
       "      <th>MonthlyCharges</th>\n",
       "      <th>TotalCharges</th>\n",
       "      <th>Churn</th>\n",
       "    </tr>\n",
       "  </thead>\n",
       "  <tbody>\n",
       "    <tr>\n",
       "      <th>0</th>\n",
       "      <td>5375</td>\n",
       "      <td>0</td>\n",
       "      <td>0</td>\n",
       "      <td>1</td>\n",
       "      <td>0</td>\n",
       "      <td>1</td>\n",
       "      <td>0</td>\n",
       "      <td>1</td>\n",
       "      <td>0</td>\n",
       "      <td>0</td>\n",
       "      <td>...</td>\n",
       "      <td>0</td>\n",
       "      <td>0</td>\n",
       "      <td>0</td>\n",
       "      <td>0</td>\n",
       "      <td>0</td>\n",
       "      <td>1</td>\n",
       "      <td>2</td>\n",
       "      <td>29.85</td>\n",
       "      <td>29.85</td>\n",
       "      <td>0</td>\n",
       "    </tr>\n",
       "    <tr>\n",
       "      <th>1</th>\n",
       "      <td>3962</td>\n",
       "      <td>1</td>\n",
       "      <td>0</td>\n",
       "      <td>0</td>\n",
       "      <td>0</td>\n",
       "      <td>34</td>\n",
       "      <td>1</td>\n",
       "      <td>0</td>\n",
       "      <td>0</td>\n",
       "      <td>2</td>\n",
       "      <td>...</td>\n",
       "      <td>2</td>\n",
       "      <td>0</td>\n",
       "      <td>0</td>\n",
       "      <td>0</td>\n",
       "      <td>1</td>\n",
       "      <td>0</td>\n",
       "      <td>3</td>\n",
       "      <td>56.95</td>\n",
       "      <td>1889.50</td>\n",
       "      <td>0</td>\n",
       "    </tr>\n",
       "    <tr>\n",
       "      <th>2</th>\n",
       "      <td>2564</td>\n",
       "      <td>1</td>\n",
       "      <td>0</td>\n",
       "      <td>0</td>\n",
       "      <td>0</td>\n",
       "      <td>2</td>\n",
       "      <td>1</td>\n",
       "      <td>0</td>\n",
       "      <td>0</td>\n",
       "      <td>2</td>\n",
       "      <td>...</td>\n",
       "      <td>0</td>\n",
       "      <td>0</td>\n",
       "      <td>0</td>\n",
       "      <td>0</td>\n",
       "      <td>0</td>\n",
       "      <td>1</td>\n",
       "      <td>3</td>\n",
       "      <td>53.85</td>\n",
       "      <td>108.15</td>\n",
       "      <td>1</td>\n",
       "    </tr>\n",
       "    <tr>\n",
       "      <th>3</th>\n",
       "      <td>5535</td>\n",
       "      <td>1</td>\n",
       "      <td>0</td>\n",
       "      <td>0</td>\n",
       "      <td>0</td>\n",
       "      <td>45</td>\n",
       "      <td>0</td>\n",
       "      <td>1</td>\n",
       "      <td>0</td>\n",
       "      <td>2</td>\n",
       "      <td>...</td>\n",
       "      <td>2</td>\n",
       "      <td>2</td>\n",
       "      <td>0</td>\n",
       "      <td>0</td>\n",
       "      <td>1</td>\n",
       "      <td>0</td>\n",
       "      <td>0</td>\n",
       "      <td>42.30</td>\n",
       "      <td>1840.75</td>\n",
       "      <td>0</td>\n",
       "    </tr>\n",
       "    <tr>\n",
       "      <th>4</th>\n",
       "      <td>6511</td>\n",
       "      <td>0</td>\n",
       "      <td>0</td>\n",
       "      <td>0</td>\n",
       "      <td>0</td>\n",
       "      <td>2</td>\n",
       "      <td>1</td>\n",
       "      <td>0</td>\n",
       "      <td>1</td>\n",
       "      <td>0</td>\n",
       "      <td>...</td>\n",
       "      <td>0</td>\n",
       "      <td>0</td>\n",
       "      <td>0</td>\n",
       "      <td>0</td>\n",
       "      <td>0</td>\n",
       "      <td>1</td>\n",
       "      <td>2</td>\n",
       "      <td>70.70</td>\n",
       "      <td>151.65</td>\n",
       "      <td>1</td>\n",
       "    </tr>\n",
       "    <tr>\n",
       "      <th>5</th>\n",
       "      <td>6551</td>\n",
       "      <td>0</td>\n",
       "      <td>0</td>\n",
       "      <td>0</td>\n",
       "      <td>0</td>\n",
       "      <td>8</td>\n",
       "      <td>1</td>\n",
       "      <td>2</td>\n",
       "      <td>1</td>\n",
       "      <td>0</td>\n",
       "      <td>...</td>\n",
       "      <td>2</td>\n",
       "      <td>0</td>\n",
       "      <td>2</td>\n",
       "      <td>2</td>\n",
       "      <td>0</td>\n",
       "      <td>1</td>\n",
       "      <td>2</td>\n",
       "      <td>99.65</td>\n",
       "      <td>820.50</td>\n",
       "      <td>1</td>\n",
       "    </tr>\n",
       "    <tr>\n",
       "      <th>6</th>\n",
       "      <td>1002</td>\n",
       "      <td>1</td>\n",
       "      <td>0</td>\n",
       "      <td>0</td>\n",
       "      <td>1</td>\n",
       "      <td>22</td>\n",
       "      <td>1</td>\n",
       "      <td>2</td>\n",
       "      <td>1</td>\n",
       "      <td>0</td>\n",
       "      <td>...</td>\n",
       "      <td>0</td>\n",
       "      <td>0</td>\n",
       "      <td>2</td>\n",
       "      <td>0</td>\n",
       "      <td>0</td>\n",
       "      <td>1</td>\n",
       "      <td>1</td>\n",
       "      <td>89.10</td>\n",
       "      <td>1949.40</td>\n",
       "      <td>0</td>\n",
       "    </tr>\n",
       "    <tr>\n",
       "      <th>7</th>\n",
       "      <td>4770</td>\n",
       "      <td>0</td>\n",
       "      <td>0</td>\n",
       "      <td>0</td>\n",
       "      <td>0</td>\n",
       "      <td>10</td>\n",
       "      <td>0</td>\n",
       "      <td>1</td>\n",
       "      <td>0</td>\n",
       "      <td>2</td>\n",
       "      <td>...</td>\n",
       "      <td>0</td>\n",
       "      <td>0</td>\n",
       "      <td>0</td>\n",
       "      <td>0</td>\n",
       "      <td>0</td>\n",
       "      <td>0</td>\n",
       "      <td>3</td>\n",
       "      <td>29.75</td>\n",
       "      <td>301.90</td>\n",
       "      <td>0</td>\n",
       "    </tr>\n",
       "    <tr>\n",
       "      <th>8</th>\n",
       "      <td>5604</td>\n",
       "      <td>0</td>\n",
       "      <td>0</td>\n",
       "      <td>1</td>\n",
       "      <td>0</td>\n",
       "      <td>28</td>\n",
       "      <td>1</td>\n",
       "      <td>2</td>\n",
       "      <td>1</td>\n",
       "      <td>0</td>\n",
       "      <td>...</td>\n",
       "      <td>2</td>\n",
       "      <td>2</td>\n",
       "      <td>2</td>\n",
       "      <td>2</td>\n",
       "      <td>0</td>\n",
       "      <td>1</td>\n",
       "      <td>2</td>\n",
       "      <td>104.80</td>\n",
       "      <td>3046.05</td>\n",
       "      <td>1</td>\n",
       "    </tr>\n",
       "    <tr>\n",
       "      <th>9</th>\n",
       "      <td>4534</td>\n",
       "      <td>1</td>\n",
       "      <td>0</td>\n",
       "      <td>0</td>\n",
       "      <td>1</td>\n",
       "      <td>62</td>\n",
       "      <td>1</td>\n",
       "      <td>0</td>\n",
       "      <td>0</td>\n",
       "      <td>2</td>\n",
       "      <td>...</td>\n",
       "      <td>0</td>\n",
       "      <td>0</td>\n",
       "      <td>0</td>\n",
       "      <td>0</td>\n",
       "      <td>1</td>\n",
       "      <td>0</td>\n",
       "      <td>0</td>\n",
       "      <td>56.15</td>\n",
       "      <td>3487.95</td>\n",
       "      <td>0</td>\n",
       "    </tr>\n",
       "  </tbody>\n",
       "</table>\n",
       "<p>10 rows × 21 columns</p>\n",
       "</div>"
      ],
      "text/plain": [
       "   customerID  gender  SeniorCitizen  Partner  Dependents  tenure  \\\n",
       "0        5375       0              0        1           0       1   \n",
       "1        3962       1              0        0           0      34   \n",
       "2        2564       1              0        0           0       2   \n",
       "3        5535       1              0        0           0      45   \n",
       "4        6511       0              0        0           0       2   \n",
       "5        6551       0              0        0           0       8   \n",
       "6        1002       1              0        0           1      22   \n",
       "7        4770       0              0        0           0      10   \n",
       "8        5604       0              0        1           0      28   \n",
       "9        4534       1              0        0           1      62   \n",
       "\n",
       "   PhoneService  MultipleLines  InternetService  OnlineSecurity  ...  \\\n",
       "0             0              1                0               0  ...   \n",
       "1             1              0                0               2  ...   \n",
       "2             1              0                0               2  ...   \n",
       "3             0              1                0               2  ...   \n",
       "4             1              0                1               0  ...   \n",
       "5             1              2                1               0  ...   \n",
       "6             1              2                1               0  ...   \n",
       "7             0              1                0               2  ...   \n",
       "8             1              2                1               0  ...   \n",
       "9             1              0                0               2  ...   \n",
       "\n",
       "   DeviceProtection  TechSupport  StreamingTV  StreamingMovies  Contract  \\\n",
       "0                 0            0            0                0         0   \n",
       "1                 2            0            0                0         1   \n",
       "2                 0            0            0                0         0   \n",
       "3                 2            2            0                0         1   \n",
       "4                 0            0            0                0         0   \n",
       "5                 2            0            2                2         0   \n",
       "6                 0            0            2                0         0   \n",
       "7                 0            0            0                0         0   \n",
       "8                 2            2            2                2         0   \n",
       "9                 0            0            0                0         1   \n",
       "\n",
       "   PaperlessBilling  PaymentMethod  MonthlyCharges  TotalCharges  Churn  \n",
       "0                 1              2           29.85         29.85      0  \n",
       "1                 0              3           56.95       1889.50      0  \n",
       "2                 1              3           53.85        108.15      1  \n",
       "3                 0              0           42.30       1840.75      0  \n",
       "4                 1              2           70.70        151.65      1  \n",
       "5                 1              2           99.65        820.50      1  \n",
       "6                 1              1           89.10       1949.40      0  \n",
       "7                 0              3           29.75        301.90      0  \n",
       "8                 1              2          104.80       3046.05      1  \n",
       "9                 0              0           56.15       3487.95      0  \n",
       "\n",
       "[10 rows x 21 columns]"
      ]
     },
     "execution_count": 21,
     "metadata": {},
     "output_type": "execute_result"
    }
   ],
   "source": [
    "data.head(10)"
   ]
  },
  {
   "cell_type": "code",
   "execution_count": 22,
   "metadata": {},
   "outputs": [
    {
     "name": "stdout",
     "output_type": "stream",
     "text": [
      "<class 'pandas.core.frame.DataFrame'>\n",
      "RangeIndex: 7043 entries, 0 to 7042\n",
      "Data columns (total 21 columns):\n",
      " #   Column            Non-Null Count  Dtype  \n",
      "---  ------            --------------  -----  \n",
      " 0   customerID        7043 non-null   int64  \n",
      " 1   gender            7043 non-null   int64  \n",
      " 2   SeniorCitizen     7043 non-null   int64  \n",
      " 3   Partner           7043 non-null   int64  \n",
      " 4   Dependents        7043 non-null   int64  \n",
      " 5   tenure            7043 non-null   int64  \n",
      " 6   PhoneService      7043 non-null   int64  \n",
      " 7   MultipleLines     7043 non-null   int64  \n",
      " 8   InternetService   7043 non-null   int64  \n",
      " 9   OnlineSecurity    7043 non-null   int64  \n",
      " 10  OnlineBackup      7043 non-null   int64  \n",
      " 11  DeviceProtection  7043 non-null   int64  \n",
      " 12  TechSupport       7043 non-null   int64  \n",
      " 13  StreamingTV       7043 non-null   int64  \n",
      " 14  StreamingMovies   7043 non-null   int64  \n",
      " 15  Contract          7043 non-null   int64  \n",
      " 16  PaperlessBilling  7043 non-null   int64  \n",
      " 17  PaymentMethod     7043 non-null   int64  \n",
      " 18  MonthlyCharges    7043 non-null   float64\n",
      " 19  TotalCharges      7043 non-null   float64\n",
      " 20  Churn             7043 non-null   int64  \n",
      "dtypes: float64(2), int64(19)\n",
      "memory usage: 1.1 MB\n"
     ]
    }
   ],
   "source": [
    "data.info()"
   ]
  },
  {
   "cell_type": "code",
   "execution_count": 23,
   "metadata": {},
   "outputs": [],
   "source": [
    "# Todas las variables se convirtieron a numericas y se puede trabajar con ellas"
   ]
  },
  {
   "cell_type": "code",
   "execution_count": 24,
   "metadata": {},
   "outputs": [
    {
     "data": {
      "image/png": "[encoded data removed]",
      "text/plain": [
       "<Figure size 576x432 with 1 Axes>"
      ]
     },
     "metadata": {
      "needs_background": "light"
     },
     "output_type": "display_data"
    }
   ],
   "source": [
    "# Boxplots para las variables que eran numericas\n",
    "fig = plt.figure(figsize=(8,6))\n",
    "ax = fig.gca()\n",
    "data.boxplot(column='tenure', ax=ax);"
   ]
  },
  {
   "cell_type": "code",
   "execution_count": 25,
   "metadata": {},
   "outputs": [
    {
     "data": {
      "image/png": "[encoded data removed]",
      "text/plain": [
       "<Figure size 576x432 with 1 Axes>"
      ]
     },
     "metadata": {
      "needs_background": "light"
     },
     "output_type": "display_data"
    }
   ],
   "source": [
    "fig = plt.figure(figsize=(8,6))\n",
    "ax = fig.gca()\n",
    "data.boxplot(column='MonthlyCharges', ax=ax);"
   ]
  },
  {
   "cell_type": "code",
   "execution_count": 26,
   "metadata": {},
   "outputs": [
    {
     "data": {
      "image/png": "[encoded data removed]",
      "text/plain": [
       "<Figure size 576x432 with 1 Axes>"
      ]
     },
     "metadata": {
      "needs_background": "light"
     },
     "output_type": "display_data"
    }
   ],
   "source": [
    "fig = plt.figure(figsize=(8,6))\n",
    "ax = fig.gca()\n",
    "data.boxplot(column='TotalCharges', ax=ax);"
   ]
  },
  {
   "cell_type": "markdown",
   "metadata": {},
   "source": [
    "### Analisis\n",
    "\n",
    "Con respecto a los boxplots se observa que la variable tenure un 25% de los datos son iguales o menores a 10, mientras que un 75% son iguales o mayores a 55. \n",
    "\n",
    "La variable MonthlyCharges, muestra que un 50% de los cargos mensuales son iguales o menores a 55, y el mnayor de ellos es de 120. \n",
    "\n",
    "La variable TotalCharges muestra que un 50% de los datos son menores o iguales a 1800, y el mayor es mas de 8000, lo que, se ve que hay algunas desviaciones a la izquierda, sin embargo vamos a ver como se distribuyen los datos con un histograma. "
   ]
  },
  {
   "cell_type": "code",
   "execution_count": 27,
   "metadata": {},
   "outputs": [
    {
     "data": {
      "image/png": "[encoded data removed]",
      "text/plain": [
       "<Figure size 432x288 with 1 Axes>"
      ]
     },
     "metadata": {
      "needs_background": "light"
     },
     "output_type": "display_data"
    }
   ],
   "source": [
    "# TotalCharges Histogram\n",
    "plt.hist(data['TotalCharges'], color = 'blue')\n",
    "plt.title('TotalCharges Histograma')\n",
    "plt.xlabel('TotalCharges');"
   ]
  },
  {
   "cell_type": "code",
   "execution_count": 28,
   "metadata": {},
   "outputs": [],
   "source": [
    "# Como se habia predicho, la mayoria de las observaciones estan a la derecha, lo que causa desviaciones importantes a la izquierda y por lo que, los datos no se comportan de manera normal (binomial).\n",
    "# Para tratar de ajustar los datos se van a tratar usando la mediana, ya que como no es una distribucion normal, para tratar de balancearlos. "
   ]
  },
  {
   "cell_type": "code",
   "execution_count": 29,
   "metadata": {},
   "outputs": [
    {
     "data": {
      "text/plain": [
       "1397.38"
      ]
     },
     "execution_count": 29,
     "metadata": {},
     "output_type": "execute_result"
    }
   ],
   "source": [
    "data['TotalCharges'].median()"
   ]
  },
  {
   "cell_type": "code",
   "execution_count": 30,
   "metadata": {},
   "outputs": [],
   "source": [
    "data['TotalCharges'] = [1397.475 if x > 2000 else x for x in data['TotalCharges']]"
   ]
  },
  {
   "cell_type": "code",
   "execution_count": 31,
   "metadata": {},
   "outputs": [
    {
     "data": {
      "image/png": "[encoded data removed]",
      "text/plain": [
       "<Figure size 576x432 with 1 Axes>"
      ]
     },
     "metadata": {
      "needs_background": "light"
     },
     "output_type": "display_data"
    }
   ],
   "source": [
    "fig = plt.figure(figsize=(8,6))\n",
    "ax = fig.gca()\n",
    "data.boxplot(column='TotalCharges', ax=ax);"
   ]
  },
  {
   "cell_type": "code",
   "execution_count": 32,
   "metadata": {},
   "outputs": [
    {
     "data": {
      "image/png": "[encoded data removed]",
      "text/plain": [
       "<Figure size 432x288 with 1 Axes>"
      ]
     },
     "metadata": {
      "needs_background": "light"
     },
     "output_type": "display_data"
    }
   ],
   "source": [
    "# TotalCharges Histogram\n",
    "plt.hist(data['TotalCharges'], color = 'blue')\n",
    "plt.title('TotalCharges Histograma')\n",
    "plt.xlabel('TotalCharges');"
   ]
  },
  {
   "cell_type": "code",
   "execution_count": 33,
   "metadata": {},
   "outputs": [],
   "source": [
    "# Los datos tienen un mejor aspecto ahora, y ya no se ve una disminucion tan dramatica, aunque siguen sin cumplir un patron binomial. \n",
    "# Por las demas variables numericas no se van a tratar, ya que distribuciones relativamente normales. "
   ]
  },
  {
   "cell_type": "markdown",
   "metadata": {},
   "source": [
    "## Seleccion de variables"
   ]
  },
  {
   "cell_type": "code",
   "execution_count": 34,
   "metadata": {},
   "outputs": [
    {
     "name": "stdout",
     "output_type": "stream",
     "text": [
      "Index(['customerID', 'gender', 'SeniorCitizen', 'Partner', 'Dependents',\n",
      "       'tenure', 'PhoneService', 'MultipleLines', 'InternetService',\n",
      "       'OnlineSecurity', 'OnlineBackup', 'DeviceProtection', 'TechSupport',\n",
      "       'StreamingTV', 'StreamingMovies', 'Contract', 'PaperlessBilling',\n",
      "       'PaymentMethod', 'MonthlyCharges', 'TotalCharges', 'Churn'],\n",
      "      dtype='object')\n"
     ]
    }
   ],
   "source": [
    "print(data.columns)"
   ]
  },
  {
   "cell_type": "code",
   "execution_count": 35,
   "metadata": {},
   "outputs": [],
   "source": [
    "# Se va proceder a hacer una matriz de correlaciones unicamnete con las variables categoricas ordinales y que sean binarias (solo 0 y 1) y con las numericas originales"
   ]
  },
  {
   "cell_type": "code",
   "execution_count": 36,
   "metadata": {},
   "outputs": [],
   "source": [
    "data_num = data[['gender', 'SeniorCitizen', 'Partner', 'Dependents','tenure', 'PhoneService', 'InternetService', 'PaperlessBilling','MonthlyCharges', 'TotalCharges', 'Churn']]"
   ]
  },
  {
   "cell_type": "code",
   "execution_count": 37,
   "metadata": {},
   "outputs": [
    {
     "data": {
      "image/png": "[encoded data removed]",
      "text/plain": [
       "<Figure size 1080x1080 with 2 Axes>"
      ]
     },
     "metadata": {
      "needs_background": "light"
     },
     "output_type": "display_data"
    }
   ],
   "source": [
    "# Correlacion entre variables numericas y categoricas ordinales binarias\n",
    "f,ax = plt.subplots(figsize=(15,15))\n",
    "sns.heatmap(data_num.corr(method='spearman'),annot=True,fmt=\".1f\",linewidths=1,ax=ax)\n",
    "plt.show()"
   ]
  },
  {
   "cell_type": "markdown",
   "metadata": {},
   "source": [
    "### Analisis\n",
    "\n",
    "Se ven fuertes correlaciones negativas entre la variable a predecir Churn y MonthlyCharges, asi como con Tenure, Dependents y Partner, lo que indica que si alguna de ellas disminuye, Churn va a aumentar y viceversa.\n",
    "Hay otras variables que tienen correlaciones positivas como es el caso de PaperlessBilling, InternetService y SeniorCitizen, lo que indica que si una de las mencionadas aumenta, churn tambien aumentara y viceversa.\n",
    "\n",
    "A nivel de las variables entre si, se ve que tenure y TotalCharges tienen correlaciones positivas muy fuertes, casi de 1, al igual que tenure y partner, asi como Dependents y partners.\n",
    "\n",
    "SeniorCitizen presneta correlacion negativa con Dependents, al igual que InternetService y TotalCharges y MonthlyCharges. \n",
    "\n",
    "Por ultimo, TotalCharges y MonthlyCharges presentan altas correlaciones tambien, lo que hace que si una aumenta la otra tambien lo haga. \n",
    "\n",
    "Las demas variables presenten correlaciones muy bajas tanto negativas como positivas, por lo que, no se hara un analisis exhaustivo de ellas, porque no se ve necesario, dado al tan bajo nivel de correlacion. \n"
   ]
  },
  {
   "cell_type": "code",
   "execution_count": 38,
   "metadata": {},
   "outputs": [
    {
     "data": {
      "text/plain": [
       "customerID          0.017447\n",
       "gender              0.008612\n",
       "SeniorCitizen       0.150889\n",
       "Partner             0.150448\n",
       "Dependents          0.164221\n",
       "tenure              0.352229\n",
       "PhoneService        0.011942\n",
       "MultipleLines       0.038037\n",
       "InternetService     0.047291\n",
       "OnlineSecurity      0.289309\n",
       "OnlineBackup        0.195525\n",
       "DeviceProtection    0.178134\n",
       "TechSupport         0.282492\n",
       "StreamingTV         0.036581\n",
       "StreamingMovies     0.038492\n",
       "Contract            0.396713\n",
       "PaperlessBilling    0.191825\n",
       "PaymentMethod       0.107062\n",
       "MonthlyCharges      0.193356\n",
       "TotalCharges        0.228477\n",
       "Churn               1.000000\n",
       "Name: Churn, dtype: float64"
      ]
     },
     "execution_count": 38,
     "metadata": {},
     "output_type": "execute_result"
    }
   ],
   "source": [
    "abs(data.corr()[\"Churn\"])"
   ]
  },
  {
   "cell_type": "code",
   "execution_count": 39,
   "metadata": {},
   "outputs": [],
   "source": [
    "# Creando una matriz de correlaciones solamente con las variables numericas y con la de salida"
   ]
  },
  {
   "cell_type": "code",
   "execution_count": 40,
   "metadata": {},
   "outputs": [],
   "source": [
    "numero = data[['tenure', 'MonthlyCharges',  'TotalCharges', 'Churn']]"
   ]
  },
  {
   "cell_type": "code",
   "execution_count": 41,
   "metadata": {},
   "outputs": [
    {
     "data": {
      "image/png": "[encoded data removed]",
      "text/plain": [
       "<Figure size 720x720 with 2 Axes>"
      ]
     },
     "metadata": {
      "needs_background": "light"
     },
     "output_type": "display_data"
    }
   ],
   "source": [
    "f,ax = plt.subplots(figsize=(10,10))\n",
    "sns.heatmap(numero.corr(method='pearson'),cmap=sns.diverging_palette(220, 10, as_cmap=True), annot=True,fmt=\".1f\",linewidths=1,ax=ax)\n",
    "plt.show()"
   ]
  },
  {
   "cell_type": "markdown",
   "metadata": {},
   "source": [
    "# Analisis\n",
    "\n",
    "Con esta matriz y solo tomando en cuenta datos numericos con la variable de salida, se observa que, TotalCharges, tenure y MonthlyCharges, todas tienen correlaciones ya sea positivas o negativas y la que tienen la correlacion mas marcada es Tenure. \n",
    "\n",
    "Entre estas mismas variables se observa que Tenure y TotalCharges cuentan con altas correlaciones, asi como TotalCharges y MonthlyCharges.\n"
   ]
  },
  {
   "cell_type": "markdown",
   "metadata": {},
   "source": [
    "## ANOVA"
   ]
  },
  {
   "cell_type": "code",
   "execution_count": 42,
   "metadata": {},
   "outputs": [],
   "source": [
    "import scipy.stats as stats"
   ]
  },
  {
   "cell_type": "code",
   "execution_count": 43,
   "metadata": {},
   "outputs": [
    {
     "name": "stdout",
     "output_type": "stream",
     "text": [
      "<class 'pandas.core.frame.DataFrame'>\n",
      "RangeIndex: 7043 entries, 0 to 7042\n",
      "Data columns (total 21 columns):\n",
      " #   Column            Non-Null Count  Dtype  \n",
      "---  ------            --------------  -----  \n",
      " 0   customerID        7043 non-null   int64  \n",
      " 1   gender            7043 non-null   int64  \n",
      " 2   SeniorCitizen     7043 non-null   int64  \n",
      " 3   Partner           7043 non-null   int64  \n",
      " 4   Dependents        7043 non-null   int64  \n",
      " 5   tenure            7043 non-null   int64  \n",
      " 6   PhoneService      7043 non-null   int64  \n",
      " 7   MultipleLines     7043 non-null   int64  \n",
      " 8   InternetService   7043 non-null   int64  \n",
      " 9   OnlineSecurity    7043 non-null   int64  \n",
      " 10  OnlineBackup      7043 non-null   int64  \n",
      " 11  DeviceProtection  7043 non-null   int64  \n",
      " 12  TechSupport       7043 non-null   int64  \n",
      " 13  StreamingTV       7043 non-null   int64  \n",
      " 14  StreamingMovies   7043 non-null   int64  \n",
      " 15  Contract          7043 non-null   int64  \n",
      " 16  PaperlessBilling  7043 non-null   int64  \n",
      " 17  PaymentMethod     7043 non-null   int64  \n",
      " 18  MonthlyCharges    7043 non-null   float64\n",
      " 19  TotalCharges      7043 non-null   float64\n",
      " 20  Churn             7043 non-null   int64  \n",
      "dtypes: float64(2), int64(19)\n",
      "memory usage: 1.1 MB\n"
     ]
    }
   ],
   "source": [
    "data.info()"
   ]
  },
  {
   "cell_type": "code",
   "execution_count": 44,
   "metadata": {},
   "outputs": [
    {
     "name": "stdout",
     "output_type": "stream",
     "text": [
      "Influencia del genero en abandonar la compania\n",
      "F_onewayResult(statistic=0.5222569018402895, pvalue=0.4699045390966534)\n",
      "\n",
      "Influencia de estar retirado en abandonar la compania\n",
      "F_onewayResult(statistic=164.04142445613573, pvalue=3.839860055793829e-37)\n",
      "\n",
      "Influencia de estar con alguien en abandonar la compania\n",
      "F_onewayResult(statistic=163.06003598399533, pvalue=6.220731129635033e-37)\n",
      "\n",
      "Influencia de tener a alguien dependiente en abandonar la compania\n",
      "F_onewayResult(statistic=195.14931377324126, pvalue=9.140432989108222e-44)\n",
      "\n",
      "Influencia de tener servicio telefonico en abdonar la compania\n",
      "F_onewayResult(statistic=1.004266474792063, pvalue=0.31631478134436675)\n",
      "\n",
      "Influencia de tener servicio de internet en abandonar la compania\n",
      "F_onewayResult(statistic=350.09814353308536, pvalue=8.602536885732369e-76)\n",
      "\n",
      "Influencia de tener factura digital en abandonar la compania\n",
      "F_onewayResult(statistic=268.9852180928115, pvalue=2.3565543205872124e-59)\n",
      "\n"
     ]
    }
   ],
   "source": [
    "print(\"Influencia del genero en abandonar la compania\")\n",
    "print(stats.f_oneway(data[data[\"gender\"]==0][\"Churn\"], \n",
    "               data[data[\"gender\"]==1][\"Churn\"]))\n",
    "print()\n",
    "\n",
    "print(\"Influencia de estar retirado en abandonar la compania\")\n",
    "print(stats.f_oneway(data[data[\"SeniorCitizen\"]==0][\"Churn\"], \n",
    "               data[data[\"SeniorCitizen\"]==1][\"Churn\"]))\n",
    "print()\n",
    "\n",
    "\n",
    "print(\"Influencia de estar con alguien en abandonar la compania\")\n",
    "print(stats.f_oneway(data[data[\"Partner\"]==0][\"Churn\"], \n",
    "               data[data[\"Partner\"]==1][\"Churn\"]))\n",
    "print()\n",
    "\n",
    "\n",
    "print(\"Influencia de tener a alguien dependiente en abandonar la compania\")\n",
    "print(stats.f_oneway(data[data[\"Dependents\"]==0][\"Churn\"], \n",
    "               data[data[\"Dependents\"]==1][\"Churn\"]))\n",
    "print()\n",
    "\n",
    "\n",
    "print(\"Influencia de tener servicio telefonico en abdonar la compania\")\n",
    "print(stats.f_oneway(data[data[\"PhoneService\"]==0][\"Churn\"], \n",
    "               data[data[\"PhoneService\"]==1][\"Churn\"]))\n",
    "print()\n",
    "\n",
    "\n",
    "print(\"Influencia de tener servicio de internet en abandonar la compania\")\n",
    "print(stats.f_oneway(data[data[\"InternetService\"]==0][\"Churn\"], \n",
    "               data[data[\"InternetService\"]==1][\"Churn\"]))\n",
    "print()\n",
    "\n",
    "\n",
    "print(\"Influencia de tener factura digital en abandonar la compania\")\n",
    "print(stats.f_oneway(data[data[\"PaperlessBilling\"]==0][\"Churn\"], \n",
    "               data[data[\"PaperlessBilling\"]==1][\"Churn\"]))\n",
    "print()"
   ]
  },
  {
   "cell_type": "markdown",
   "metadata": {},
   "source": [
    "### Analisis\n",
    "\n",
    "En este caso interesa comprobar si el p-valor obtenido es mayor que un valor de referencia de contraste para comprobar si existen diferencias significativas en la media de valores de ambos grupos y poder así analizar si los dos grupos de datos para una variable binaria obtienen, en este caso, calificaciones significativamente diferentes: Con un α=0.05α=0.05 y H0−>μ1=μ2=...=μnH0−>μ1=μ2=...=μn\n",
    "* Si p-valor < 0.05 -> se rechaza H0 y por tanto hay diferencias entre los grupos\n",
    "* Si p-valor >= 0.05 -> no se rechaza H0\n",
    "\n",
    "Analizando los resultados anteriores se puede ver que los dos casos en los que más se ven las diferencias entre grupos (donde hay un p-valor menor) es en el caso de:\n",
    "\n",
    "* SeniorCitizen\n",
    "* Partner\n",
    "* Dependents\n",
    "* InternetService\n",
    "* PaperlessBilling\n",
    "\n",
    "Por lo que, resultado de lo anterior, seran variables necesarias para considerar en el analisis. "
   ]
  },
  {
   "cell_type": "code",
   "execution_count": 45,
   "metadata": {},
   "outputs": [],
   "source": [
    "# Hay varias variables que son categoricas pero no binarias, por lo que, se usara el test de Tukey para comprobar sus resultados. "
   ]
  },
  {
   "cell_type": "markdown",
   "metadata": {},
   "source": [
    "### Test de Tukey"
   ]
  },
  {
   "cell_type": "code",
   "execution_count": 46,
   "metadata": {},
   "outputs": [],
   "source": [
    "from statsmodels.stats.multicomp import pairwise_tukeyhsd\n",
    "import statsmodels.stats.multicomp as multi"
   ]
  },
  {
   "cell_type": "code",
   "execution_count": 47,
   "metadata": {},
   "outputs": [
    {
     "name": "stdout",
     "output_type": "stream",
     "text": [
      "Influencia de tener Multiples lineas\n",
      "Multiple Comparison of Means - Tukey HSD, FWER=0.05\n",
      "===================================================\n",
      "group1 group2 meandiff p-adj   lower  upper  reject\n",
      "---------------------------------------------------\n",
      "     0      1  -0.0012    0.9 -0.0446 0.0422  False\n",
      "     0      2   0.0357 0.0037  0.0097 0.0617   True\n",
      "     1      2   0.0368  0.121 -0.0071 0.0808  False\n",
      "---------------------------------------------------\n"
     ]
    }
   ],
   "source": [
    "# Influencia de tener Multiples lineas\n",
    "x = data[\"MultipleLines\"]\n",
    "y = data[\"Churn\"]\n",
    "\n",
    "mcDate = multi.MultiComparison(y,x)\n",
    "Results = mcDate.tukeyhsd()\n",
    "print(\"Influencia de tener Multiples lineas\")\n",
    "print(Results)"
   ]
  },
  {
   "cell_type": "code",
   "execution_count": 48,
   "metadata": {},
   "outputs": [
    {
     "name": "stdout",
     "output_type": "stream",
     "text": [
      "Influencia de tener OnlineSecurity\n",
      "Multiple Comparison of Means - Tukey HSD, FWER=0.05\n",
      "===================================================\n",
      "group1 group2 meandiff p-adj  lower   upper  reject\n",
      "---------------------------------------------------\n",
      "     0      1  -0.3436 0.001 -0.3734 -0.3138   True\n",
      "     0      2  -0.2716 0.001 -0.2987 -0.2444   True\n",
      "     1      2   0.0721 0.001  0.0391   0.105   True\n",
      "---------------------------------------------------\n"
     ]
    }
   ],
   "source": [
    "# Influencia de tener OnlineSecurity\n",
    "x = data[\"OnlineSecurity\"]\n",
    "y = data[\"Churn\"]\n",
    "\n",
    "mcDate = multi.MultiComparison(y,x)\n",
    "Results = mcDate.tukeyhsd()\n",
    "print(\"Influencia de tener OnlineSecurity\")\n",
    "print(Results)"
   ]
  },
  {
   "cell_type": "code",
   "execution_count": 49,
   "metadata": {},
   "outputs": [
    {
     "name": "stdout",
     "output_type": "stream",
     "text": [
      "Influencia de tener OnlineBackup\n",
      "Multiple Comparison of Means - Tukey HSD, FWER=0.05\n",
      "===================================================\n",
      "group1 group2 meandiff p-adj  lower   upper  reject\n",
      "---------------------------------------------------\n",
      "     0      1  -0.3252 0.001 -0.3562 -0.2943   True\n",
      "     0      2   -0.184 0.001 -0.2108 -0.1571   True\n",
      "     1      2   0.1413 0.001  0.1089  0.1736   True\n",
      "---------------------------------------------------\n"
     ]
    }
   ],
   "source": [
    "# Influencia de tener OnlineBackup\n",
    "x = data[\"OnlineBackup\"]\n",
    "y = data[\"Churn\"]\n",
    "\n",
    "mcDate = multi.MultiComparison(y,x)\n",
    "Results = mcDate.tukeyhsd()\n",
    "print(\"Influencia de tener OnlineBackup\")\n",
    "print(Results)"
   ]
  },
  {
   "cell_type": "code",
   "execution_count": 50,
   "metadata": {},
   "outputs": [
    {
     "name": "stdout",
     "output_type": "stream",
     "text": [
      "Influencia de tener DeviceProtection\n",
      "Multiple Comparison of Means - Tukey HSD, FWER=0.05\n",
      "===================================================\n",
      "group1 group2 meandiff p-adj  lower   upper  reject\n",
      "---------------------------------------------------\n",
      "     0      1  -0.3172 0.001 -0.3483 -0.2862   True\n",
      "     0      2  -0.1663 0.001 -0.1932 -0.1393   True\n",
      "     1      2    0.151 0.001  0.1185  0.1834   True\n",
      "---------------------------------------------------\n"
     ]
    }
   ],
   "source": [
    "# Influencia de tener DeviceProtection\n",
    "x = data[\"DeviceProtection\"]\n",
    "y = data[\"Churn\"]\n",
    "\n",
    "mcDate = multi.MultiComparison(y,x)\n",
    "Results = mcDate.tukeyhsd()\n",
    "print(\"Influencia de tener DeviceProtection\")\n",
    "print(Results)"
   ]
  },
  {
   "cell_type": "code",
   "execution_count": 51,
   "metadata": {},
   "outputs": [
    {
     "name": "stdout",
     "output_type": "stream",
     "text": [
      "Influencia de tener TechSupport\n",
      "Multiple Comparison of Means - Tukey HSD, FWER=0.05\n",
      "===================================================\n",
      "group1 group2 meandiff p-adj  lower   upper  reject\n",
      "---------------------------------------------------\n",
      "     0      1  -0.3423 0.001 -0.3722 -0.3124   True\n",
      "     0      2  -0.2647 0.001 -0.2918 -0.2376   True\n",
      "     1      2   0.0776 0.001  0.0447  0.1105   True\n",
      "---------------------------------------------------\n"
     ]
    }
   ],
   "source": [
    "# Influencia de tener TechSupport\n",
    "x = data[\"TechSupport\"]\n",
    "y = data[\"Churn\"]\n",
    "\n",
    "mcDate = multi.MultiComparison(y,x)\n",
    "Results = mcDate.tukeyhsd()\n",
    "print(\"Influencia de tener TechSupport\")\n",
    "print(Results)"
   ]
  },
  {
   "cell_type": "code",
   "execution_count": 52,
   "metadata": {},
   "outputs": [
    {
     "name": "stdout",
     "output_type": "stream",
     "text": [
      "Influencia de tener StreamingTV\n",
      "Multiple Comparison of Means - Tukey HSD, FWER=0.05\n",
      "===================================================\n",
      "group1 group2 meandiff p-adj  lower   upper  reject\n",
      "---------------------------------------------------\n",
      "     0      1  -0.2612 0.001 -0.2932 -0.2291   True\n",
      "     0      2  -0.0345 0.008 -0.0617 -0.0074   True\n",
      "     1      2   0.2267 0.001  0.1944  0.2589   True\n",
      "---------------------------------------------------\n"
     ]
    }
   ],
   "source": [
    "# Influencia de tener StreamingTV\n",
    "x = data[\"StreamingTV\"]\n",
    "y = data[\"Churn\"]\n",
    "\n",
    "mcDate = multi.MultiComparison(y,x)\n",
    "Results = mcDate.tukeyhsd()\n",
    "print(\"Influencia de tener StreamingTV\")\n",
    "print(Results)"
   ]
  },
  {
   "cell_type": "code",
   "execution_count": 53,
   "metadata": {},
   "outputs": [
    {
     "name": "stdout",
     "output_type": "stream",
     "text": [
      "Influencia de tener StreamingMovies\n",
      "Multiple Comparison of Means - Tukey HSD, FWER=0.05 \n",
      "====================================================\n",
      "group1 group2 meandiff p-adj   lower   upper  reject\n",
      "----------------------------------------------------\n",
      "     0      1  -0.2628  0.001 -0.2948 -0.2307   True\n",
      "     0      2  -0.0374 0.0035 -0.0645 -0.0103   True\n",
      "     1      2   0.2254  0.001  0.1932  0.2576   True\n",
      "----------------------------------------------------\n"
     ]
    }
   ],
   "source": [
    "# Influencia de tener StreamingMovies\n",
    "x = data[\"StreamingMovies\"]\n",
    "y = data[\"Churn\"]\n",
    "\n",
    "mcDate = multi.MultiComparison(y,x)\n",
    "Results = mcDate.tukeyhsd()\n",
    "print(\"Influencia de tener StreamingMovies\")\n",
    "print(Results)"
   ]
  },
  {
   "cell_type": "code",
   "execution_count": 54,
   "metadata": {},
   "outputs": [
    {
     "name": "stdout",
     "output_type": "stream",
     "text": [
      "Influencia de tener Contract\n",
      "Multiple Comparison of Means - Tukey HSD, FWER=0.05\n",
      "===================================================\n",
      "group1 group2 meandiff p-adj  lower   upper  reject\n",
      "---------------------------------------------------\n",
      "     0      1  -0.3144 0.001 -0.3433 -0.2855   True\n",
      "     0      2  -0.3988 0.001 -0.4263 -0.3713   True\n",
      "     1      2  -0.0844 0.001  -0.118 -0.0507   True\n",
      "---------------------------------------------------\n"
     ]
    }
   ],
   "source": [
    "# Influencia de tener Contract\n",
    "x = data[\"Contract\"]\n",
    "y = data[\"Churn\"]\n",
    "\n",
    "mcDate = multi.MultiComparison(y,x)\n",
    "Results = mcDate.tukeyhsd()\n",
    "print(\"Influencia de tener Contract\")\n",
    "print(Results)"
   ]
  },
  {
   "cell_type": "code",
   "execution_count": 55,
   "metadata": {},
   "outputs": [
    {
     "name": "stdout",
     "output_type": "stream",
     "text": [
      "Influencia del PaymentMethod\n",
      "Multiple Comparison of Means - Tukey HSD, FWER=0.05 \n",
      "====================================================\n",
      "group1 group2 meandiff p-adj   lower   upper  reject\n",
      "----------------------------------------------------\n",
      "     0      1  -0.0147 0.7436 -0.0537  0.0244  False\n",
      "     0      2   0.2858  0.001  0.2504  0.3211   True\n",
      "     0      3    0.024   0.38 -0.0145  0.0625  False\n",
      "     1      2   0.3004  0.001  0.2649   0.336   True\n",
      "     1      3   0.0386 0.0501    -0.0  0.0773  False\n",
      "     2      3  -0.2618  0.001 -0.2967 -0.2269   True\n",
      "----------------------------------------------------\n"
     ]
    }
   ],
   "source": [
    "# Influencia del PaymentMethod\n",
    "x = data[\"PaymentMethod\"]\n",
    "y = data[\"Churn\"]\n",
    "\n",
    "mcDate = multi.MultiComparison(y,x)\n",
    "Results = mcDate.tukeyhsd()\n",
    "print(\"Influencia del PaymentMethod\")\n",
    "print(Results)"
   ]
  },
  {
   "cell_type": "markdown",
   "metadata": {},
   "source": [
    "### Analisis:\n",
    "\n",
    "Con todas las variables analizadas se puede ver como la hipotesis nula se puede rechazar, por lo que con estas variables, es necesario trabajar:\n",
    "    \n",
    "    * MultipleLines\n",
    "    * OnlineSecurity\n",
    "    * OnlineBackup\n",
    "    * DeviceProtection\n",
    "    * TechSupport\n",
    "    * StreamingTV\n",
    "    * StreamingMovies\n",
    "    * Contract\n",
    "    * PaymentMethod"
   ]
  },
  {
   "cell_type": "markdown",
   "metadata": {},
   "source": [
    "# Seleccion de variables: \n",
    "\n",
    "Habiendo hecho los analisis anteriores, se identificaron varias variables con las que era necesario trabajar, por lo que, se trabajara con:\n",
    "\n",
    "* MultipleLines\n",
    "* OnlineSecurity\n",
    "* OnlineBackup\n",
    "* DeviceProtection\n",
    "* TechSupport\n",
    "* StreamingTV\n",
    "* StreamingMovies\n",
    "* Contract\n",
    "* PaymentMethod\n",
    "* SeniorCitizen\n",
    "* Partner\n",
    "* Dependents\n",
    "* InternetService\n",
    "* PaperlessBilling\n",
    "* CustomerID\n",
    "* MonthlyCharges\n",
    "\n",
    "\n",
    "No se toman en cuenta a Tenure por el grado tan alto de correlacion que tiene con Churn y con TotalCharges y MonthlyCharges. Gender con las pruebas de hipotesis, asi como PhoneService dieron resultados mayores a 0.05, entonces aceptan la hipotesis nula y no se van a considerar. TotalCharges tampoco se va a considerar dada la alta relacion con MonthlyCharges y esta a su vez con Churn. "
   ]
  },
  {
   "cell_type": "code",
   "execution_count": 56,
   "metadata": {},
   "outputs": [
    {
     "name": "stdout",
     "output_type": "stream",
     "text": [
      "Index(['customerID', 'gender', 'SeniorCitizen', 'Partner', 'Dependents',\n",
      "       'tenure', 'PhoneService', 'MultipleLines', 'InternetService',\n",
      "       'OnlineSecurity', 'OnlineBackup', 'DeviceProtection', 'TechSupport',\n",
      "       'StreamingTV', 'StreamingMovies', 'Contract', 'PaperlessBilling',\n",
      "       'PaymentMethod', 'MonthlyCharges', 'TotalCharges', 'Churn'],\n",
      "      dtype='object')\n"
     ]
    }
   ],
   "source": [
    "print(data.columns)"
   ]
  },
  {
   "cell_type": "code",
   "execution_count": 57,
   "metadata": {},
   "outputs": [],
   "source": [
    "# Haciendo eleccion de variables \n",
    "dataset = data[['customerID', 'SeniorCitizen', 'Partner', 'Dependents',  'MultipleLines', 'InternetService', 'OnlineSecurity', 'OnlineBackup', 'DeviceProtection', 'TechSupport','StreamingTV', 'StreamingMovies', 'Contract', 'PaperlessBilling','PaymentMethod', 'MonthlyCharges']]"
   ]
  },
  {
   "cell_type": "code",
   "execution_count": 58,
   "metadata": {},
   "outputs": [
    {
     "name": "stdout",
     "output_type": "stream",
     "text": [
      "<class 'pandas.core.frame.DataFrame'>\n",
      "RangeIndex: 7043 entries, 0 to 7042\n",
      "Data columns (total 16 columns):\n",
      " #   Column            Non-Null Count  Dtype  \n",
      "---  ------            --------------  -----  \n",
      " 0   customerID        7043 non-null   int64  \n",
      " 1   SeniorCitizen     7043 non-null   int64  \n",
      " 2   Partner           7043 non-null   int64  \n",
      " 3   Dependents        7043 non-null   int64  \n",
      " 4   MultipleLines     7043 non-null   int64  \n",
      " 5   InternetService   7043 non-null   int64  \n",
      " 6   OnlineSecurity    7043 non-null   int64  \n",
      " 7   OnlineBackup      7043 non-null   int64  \n",
      " 8   DeviceProtection  7043 non-null   int64  \n",
      " 9   TechSupport       7043 non-null   int64  \n",
      " 10  StreamingTV       7043 non-null   int64  \n",
      " 11  StreamingMovies   7043 non-null   int64  \n",
      " 12  Contract          7043 non-null   int64  \n",
      " 13  PaperlessBilling  7043 non-null   int64  \n",
      " 14  PaymentMethod     7043 non-null   int64  \n",
      " 15  MonthlyCharges    7043 non-null   float64\n",
      "dtypes: float64(1), int64(15)\n",
      "memory usage: 880.5 KB\n"
     ]
    }
   ],
   "source": [
    "dataset.info()"
   ]
  },
  {
   "cell_type": "code",
   "execution_count": 59,
   "metadata": {},
   "outputs": [
    {
     "name": "stderr",
     "output_type": "stream",
     "text": [
      "Using TensorFlow backend.\n"
     ]
    }
   ],
   "source": [
    "from sklearn.model_selection import train_test_split\n",
    "from sklearn.neural_network import MLPClassifier\n",
    "from sklearn.metrics import confusion_matrix\n",
    "from keras.models import Sequential\n",
    "from keras.layers import Dense\n",
    "from sklearn.preprocessing import MinMaxScaler\n",
    "from pandas import DataFrame\n",
    "from matplotlib import colors as mcolors"
   ]
  },
  {
   "cell_type": "markdown",
   "metadata": {},
   "source": [
    "### Función para calcular los índices de calidad de la predicción"
   ]
  },
  {
   "cell_type": "code",
   "execution_count": 60,
   "metadata": {},
   "outputs": [],
   "source": [
    "def indices_general(MC, nombres = None):\n",
    "    precision_global = np.sum(MC.diagonal()) / np.sum(MC)\n",
    "    error_global = 1 - precision_global\n",
    "    precision_categoria  = pd.DataFrame(MC.diagonal()/np.sum(MC,axis = 1)).T\n",
    "    if nombres!=None:\n",
    "        precision_categoria.columns = nombres\n",
    "    return {\"Matriz de Confusión\":MC, \n",
    "            \"Precisión Global\":precision_global, \n",
    "            \"Error Global\":error_global, \n",
    "            \"Precisión por categoría\":precision_categoria}"
   ]
  },
  {
   "cell_type": "markdown",
   "metadata": {},
   "source": [
    "### Función para graficar la distribución de la variable a predecir"
   ]
  },
  {
   "cell_type": "code",
   "execution_count": 61,
   "metadata": {},
   "outputs": [],
   "source": [
    "def distribucion_variable_predecir(data:DataFrame,variable_predict:str):\n",
    "    colors = list(dict(**mcolors.CSS4_COLORS))\n",
    "    df = pd.crosstab(index=data[variable_predict],columns=\"valor\") / data[variable_predict].count()\n",
    "    fig = plt.figure(figsize=(10,9))\n",
    "    g = fig.add_subplot(111)\n",
    "    countv = 0\n",
    "    titulo = \"Distribución de la variable %s\" % variable_predict\n",
    "    for i in range(df.shape[0]):\n",
    "        g.barh(1,df.iloc[i],left = countv, align='center',color=colors[11+i],label= df.iloc[i].name)\n",
    "        countv = countv + df.iloc[i]\n",
    "    vals = g.get_xticks()\n",
    "    g.set_xlim(0,1)\n",
    "    g.set_yticklabels(\"\")\n",
    "    g.set_title(titulo)\n",
    "    g.set_ylabel(variable_predict)\n",
    "    g.set_xticklabels(['{:.0%}'.format(x) for x in vals])\n",
    "    countv = 0 \n",
    "    for v in df.iloc[:,0]:\n",
    "        g.text(np.mean([countv,countv+v]) - 0.03, 1 , '{:.1%}'.format(v), color='black', fontweight='bold')\n",
    "        countv = countv + v\n",
    "    g.legend(loc='upper center', bbox_to_anchor=(1.08, 1), shadow=True, ncol=1)"
   ]
  },
  {
   "cell_type": "markdown",
   "metadata": {},
   "source": [
    "### Función para ver la distribución de una variable categórica respecto a la predecir"
   ]
  },
  {
   "cell_type": "code",
   "execution_count": 62,
   "metadata": {},
   "outputs": [],
   "source": [
    "def poder_predictivo_categorica(data:DataFrame, var:str, variable_predict:str):\n",
    "    df = pd.crosstab(index= data[var],columns=data[variable_predict])\n",
    "    df = df.div(df.sum(axis=1),axis=0)\n",
    "    titulo = \"Distribución de la variable %s según la variable %s\" % (var,variable_predict)\n",
    "    g = df.plot(kind='barh',stacked=True,legend = True, figsize = (10,9), \\\n",
    "                xlim = (0,1),title = titulo, width = 0.8)\n",
    "    vals = g.get_xticks()\n",
    "    g.set_xticklabels(['{:.0%}'.format(x) for x in vals])\n",
    "    g.legend(loc='upper center', bbox_to_anchor=(1.08, 1), shadow=True, ncol=1)\n",
    "    for bars in g.containers:\n",
    "        plt.setp(bars, width=.9)\n",
    "    for i in range(df.shape[0]):\n",
    "        countv = 0 \n",
    "        for v in df.iloc[i]:\n",
    "            g.text(np.mean([countv,countv+v]) - 0.03, i , '{:.1%}'.format(v), color='black', fontweight='bold')\n",
    "            countv = countv + v"
   ]
  },
  {
   "cell_type": "markdown",
   "metadata": {},
   "source": [
    "### Función para ver la distribución de una variable numérica respecto a la predecir"
   ]
  },
  {
   "cell_type": "code",
   "execution_count": 63,
   "metadata": {},
   "outputs": [],
   "source": [
    "def poder_predictivo_numerica(data:DataFrame, var:str, variable_predict:str):\n",
    "    sns.FacetGrid(data, hue=variable_predict, height=6).map(sns.kdeplot, var, shade=True).add_legend()"
   ]
  },
  {
   "cell_type": "markdown",
   "metadata": {},
   "source": [
    "### Distribucion de la variable a predecir"
   ]
  },
  {
   "cell_type": "code",
   "execution_count": 64,
   "metadata": {},
   "outputs": [
    {
     "data": {
      "image/png": "[encoded data removed]",
      "text/plain": [
       "<Figure size 720x648 with 1 Axes>"
      ]
     },
     "metadata": {
      "needs_background": "light"
     },
     "output_type": "display_data"
    }
   ],
   "source": [
    "distribucion_variable_predecir(data,\"Churn\") #Problema altamente desequilibrado. "
   ]
  },
  {
   "cell_type": "code",
   "execution_count": 65,
   "metadata": {},
   "outputs": [
    {
     "name": "stderr",
     "output_type": "stream",
     "text": [
      "/Users/heinerleivagmail.com/opt/anaconda3/lib/python3.7/site-packages/pandas/core/indexing.py:966: SettingWithCopyWarning: \n",
      "A value is trying to be set on a copy of a slice from a DataFrame.\n",
      "Try using .loc[row_indexer,col_indexer] = value instead\n",
      "\n",
      "See the caveats in the documentation: https://pandas.pydata.org/pandas-docs/stable/user_guide/indexing.html#returning-a-view-versus-a-copy\n",
      "  self.obj[item] = s\n"
     ]
    },
    {
     "data": {
      "text/html": [
       "<div>\n",
       "<style scoped>\n",
       "    .dataframe tbody tr th:only-of-type {\n",
       "        vertical-align: middle;\n",
       "    }\n",
       "\n",
       "    .dataframe tbody tr th {\n",
       "        vertical-align: top;\n",
       "    }\n",
       "\n",
       "    .dataframe thead th {\n",
       "        text-align: right;\n",
       "    }\n",
       "</style>\n",
       "<table border=\"1\" class=\"dataframe\">\n",
       "  <thead>\n",
       "    <tr style=\"text-align: right;\">\n",
       "      <th></th>\n",
       "      <th>customerID</th>\n",
       "      <th>SeniorCitizen</th>\n",
       "      <th>Partner</th>\n",
       "      <th>Dependents</th>\n",
       "      <th>MultipleLines</th>\n",
       "      <th>InternetService</th>\n",
       "      <th>OnlineSecurity</th>\n",
       "      <th>OnlineBackup</th>\n",
       "      <th>DeviceProtection</th>\n",
       "      <th>TechSupport</th>\n",
       "      <th>StreamingTV</th>\n",
       "      <th>StreamingMovies</th>\n",
       "      <th>Contract</th>\n",
       "      <th>PaperlessBilling</th>\n",
       "      <th>PaymentMethod</th>\n",
       "      <th>MonthlyCharges</th>\n",
       "    </tr>\n",
       "  </thead>\n",
       "  <tbody>\n",
       "    <tr>\n",
       "      <th>0</th>\n",
       "      <td>0.911890</td>\n",
       "      <td>-0.439916</td>\n",
       "      <td>1.034530</td>\n",
       "      <td>-0.654012</td>\n",
       "      <td>0.062723</td>\n",
       "      <td>-1.183234</td>\n",
       "      <td>-0.918838</td>\n",
       "      <td>1.242550</td>\n",
       "      <td>-1.027910</td>\n",
       "      <td>-0.925262</td>\n",
       "      <td>-1.113495</td>\n",
       "      <td>-1.121405</td>\n",
       "      <td>-0.828207</td>\n",
       "      <td>0.829798</td>\n",
       "      <td>0.398558</td>\n",
       "      <td>-1.160323</td>\n",
       "    </tr>\n",
       "    <tr>\n",
       "      <th>1</th>\n",
       "      <td>0.216906</td>\n",
       "      <td>-0.439916</td>\n",
       "      <td>-0.966622</td>\n",
       "      <td>-0.654012</td>\n",
       "      <td>-0.991588</td>\n",
       "      <td>-1.183234</td>\n",
       "      <td>1.407321</td>\n",
       "      <td>-1.029919</td>\n",
       "      <td>1.245111</td>\n",
       "      <td>-0.925262</td>\n",
       "      <td>-1.113495</td>\n",
       "      <td>-1.121405</td>\n",
       "      <td>0.371271</td>\n",
       "      <td>-1.205113</td>\n",
       "      <td>1.334863</td>\n",
       "      <td>-0.259629</td>\n",
       "    </tr>\n",
       "    <tr>\n",
       "      <th>2</th>\n",
       "      <td>-0.470701</td>\n",
       "      <td>-0.439916</td>\n",
       "      <td>-0.966622</td>\n",
       "      <td>-0.654012</td>\n",
       "      <td>-0.991588</td>\n",
       "      <td>-1.183234</td>\n",
       "      <td>1.407321</td>\n",
       "      <td>1.242550</td>\n",
       "      <td>-1.027910</td>\n",
       "      <td>-0.925262</td>\n",
       "      <td>-1.113495</td>\n",
       "      <td>-1.121405</td>\n",
       "      <td>-0.828207</td>\n",
       "      <td>0.829798</td>\n",
       "      <td>1.334863</td>\n",
       "      <td>-0.362660</td>\n",
       "    </tr>\n",
       "    <tr>\n",
       "      <th>3</th>\n",
       "      <td>0.990587</td>\n",
       "      <td>-0.439916</td>\n",
       "      <td>-0.966622</td>\n",
       "      <td>-0.654012</td>\n",
       "      <td>0.062723</td>\n",
       "      <td>-1.183234</td>\n",
       "      <td>1.407321</td>\n",
       "      <td>-1.029919</td>\n",
       "      <td>1.245111</td>\n",
       "      <td>1.396299</td>\n",
       "      <td>-1.113495</td>\n",
       "      <td>-1.121405</td>\n",
       "      <td>0.371271</td>\n",
       "      <td>-1.205113</td>\n",
       "      <td>-1.474052</td>\n",
       "      <td>-0.746535</td>\n",
       "    </tr>\n",
       "    <tr>\n",
       "      <th>4</th>\n",
       "      <td>1.470632</td>\n",
       "      <td>-0.439916</td>\n",
       "      <td>-0.966622</td>\n",
       "      <td>-0.654012</td>\n",
       "      <td>-0.991588</td>\n",
       "      <td>0.172250</td>\n",
       "      <td>-0.918838</td>\n",
       "      <td>-1.029919</td>\n",
       "      <td>-1.027910</td>\n",
       "      <td>-0.925262</td>\n",
       "      <td>-1.113495</td>\n",
       "      <td>-1.121405</td>\n",
       "      <td>-0.828207</td>\n",
       "      <td>0.829798</td>\n",
       "      <td>0.398558</td>\n",
       "      <td>0.197365</td>\n",
       "    </tr>\n",
       "  </tbody>\n",
       "</table>\n",
       "</div>"
      ],
      "text/plain": [
       "   customerID  SeniorCitizen   Partner  Dependents  MultipleLines  \\\n",
       "0    0.911890      -0.439916  1.034530   -0.654012       0.062723   \n",
       "1    0.216906      -0.439916 -0.966622   -0.654012      -0.991588   \n",
       "2   -0.470701      -0.439916 -0.966622   -0.654012      -0.991588   \n",
       "3    0.990587      -0.439916 -0.966622   -0.654012       0.062723   \n",
       "4    1.470632      -0.439916 -0.966622   -0.654012      -0.991588   \n",
       "\n",
       "   InternetService  OnlineSecurity  OnlineBackup  DeviceProtection  \\\n",
       "0        -1.183234       -0.918838      1.242550         -1.027910   \n",
       "1        -1.183234        1.407321     -1.029919          1.245111   \n",
       "2        -1.183234        1.407321      1.242550         -1.027910   \n",
       "3        -1.183234        1.407321     -1.029919          1.245111   \n",
       "4         0.172250       -0.918838     -1.029919         -1.027910   \n",
       "\n",
       "   TechSupport  StreamingTV  StreamingMovies  Contract  PaperlessBilling  \\\n",
       "0    -0.925262    -1.113495        -1.121405 -0.828207          0.829798   \n",
       "1    -0.925262    -1.113495        -1.121405  0.371271         -1.205113   \n",
       "2    -0.925262    -1.113495        -1.121405 -0.828207          0.829798   \n",
       "3     1.396299    -1.113495        -1.121405  0.371271         -1.205113   \n",
       "4    -0.925262    -1.113495        -1.121405 -0.828207          0.829798   \n",
       "\n",
       "   PaymentMethod  MonthlyCharges  \n",
       "0       0.398558       -1.160323  \n",
       "1       1.334863       -0.259629  \n",
       "2       1.334863       -0.362660  \n",
       "3      -1.474052       -0.746535  \n",
       "4       0.398558        0.197365  "
      ]
     },
     "execution_count": 65,
     "metadata": {},
     "output_type": "execute_result"
    }
   ],
   "source": [
    "# Normalizando y centrando la tabla ya que hay valores en diferentes escalas\n",
    "from sklearn.preprocessing import StandardScaler\n",
    "scaler = StandardScaler()\n",
    "scaled_values = scaler.fit_transform(dataset) \n",
    "dataset.loc[:,:] = scaled_values\n",
    "dataset.head()\n",
    "\n",
    "# Variables con escalas diferentes han sido reescaladas."
   ]
  },
  {
   "cell_type": "markdown",
   "metadata": {},
   "source": [
    "### Elimina la variable catégorica, deja las variables predictoras en X"
   ]
  },
  {
   "cell_type": "code",
   "execution_count": 66,
   "metadata": {},
   "outputs": [
    {
     "data": {
      "text/html": [
       "<div>\n",
       "<style scoped>\n",
       "    .dataframe tbody tr th:only-of-type {\n",
       "        vertical-align: middle;\n",
       "    }\n",
       "\n",
       "    .dataframe tbody tr th {\n",
       "        vertical-align: top;\n",
       "    }\n",
       "\n",
       "    .dataframe thead th {\n",
       "        text-align: right;\n",
       "    }\n",
       "</style>\n",
       "<table border=\"1\" class=\"dataframe\">\n",
       "  <thead>\n",
       "    <tr style=\"text-align: right;\">\n",
       "      <th></th>\n",
       "      <th>customerID</th>\n",
       "      <th>SeniorCitizen</th>\n",
       "      <th>Partner</th>\n",
       "      <th>Dependents</th>\n",
       "      <th>MultipleLines</th>\n",
       "      <th>InternetService</th>\n",
       "      <th>OnlineSecurity</th>\n",
       "      <th>OnlineBackup</th>\n",
       "      <th>DeviceProtection</th>\n",
       "      <th>TechSupport</th>\n",
       "      <th>StreamingTV</th>\n",
       "      <th>StreamingMovies</th>\n",
       "      <th>Contract</th>\n",
       "      <th>PaperlessBilling</th>\n",
       "      <th>PaymentMethod</th>\n",
       "      <th>MonthlyCharges</th>\n",
       "    </tr>\n",
       "  </thead>\n",
       "  <tbody>\n",
       "    <tr>\n",
       "      <th>0</th>\n",
       "      <td>0.911890</td>\n",
       "      <td>-0.439916</td>\n",
       "      <td>1.034530</td>\n",
       "      <td>-0.654012</td>\n",
       "      <td>0.062723</td>\n",
       "      <td>-1.183234</td>\n",
       "      <td>-0.918838</td>\n",
       "      <td>1.242550</td>\n",
       "      <td>-1.027910</td>\n",
       "      <td>-0.925262</td>\n",
       "      <td>-1.113495</td>\n",
       "      <td>-1.121405</td>\n",
       "      <td>-0.828207</td>\n",
       "      <td>0.829798</td>\n",
       "      <td>0.398558</td>\n",
       "      <td>-1.160323</td>\n",
       "    </tr>\n",
       "    <tr>\n",
       "      <th>1</th>\n",
       "      <td>0.216906</td>\n",
       "      <td>-0.439916</td>\n",
       "      <td>-0.966622</td>\n",
       "      <td>-0.654012</td>\n",
       "      <td>-0.991588</td>\n",
       "      <td>-1.183234</td>\n",
       "      <td>1.407321</td>\n",
       "      <td>-1.029919</td>\n",
       "      <td>1.245111</td>\n",
       "      <td>-0.925262</td>\n",
       "      <td>-1.113495</td>\n",
       "      <td>-1.121405</td>\n",
       "      <td>0.371271</td>\n",
       "      <td>-1.205113</td>\n",
       "      <td>1.334863</td>\n",
       "      <td>-0.259629</td>\n",
       "    </tr>\n",
       "    <tr>\n",
       "      <th>2</th>\n",
       "      <td>-0.470701</td>\n",
       "      <td>-0.439916</td>\n",
       "      <td>-0.966622</td>\n",
       "      <td>-0.654012</td>\n",
       "      <td>-0.991588</td>\n",
       "      <td>-1.183234</td>\n",
       "      <td>1.407321</td>\n",
       "      <td>1.242550</td>\n",
       "      <td>-1.027910</td>\n",
       "      <td>-0.925262</td>\n",
       "      <td>-1.113495</td>\n",
       "      <td>-1.121405</td>\n",
       "      <td>-0.828207</td>\n",
       "      <td>0.829798</td>\n",
       "      <td>1.334863</td>\n",
       "      <td>-0.362660</td>\n",
       "    </tr>\n",
       "    <tr>\n",
       "      <th>3</th>\n",
       "      <td>0.990587</td>\n",
       "      <td>-0.439916</td>\n",
       "      <td>-0.966622</td>\n",
       "      <td>-0.654012</td>\n",
       "      <td>0.062723</td>\n",
       "      <td>-1.183234</td>\n",
       "      <td>1.407321</td>\n",
       "      <td>-1.029919</td>\n",
       "      <td>1.245111</td>\n",
       "      <td>1.396299</td>\n",
       "      <td>-1.113495</td>\n",
       "      <td>-1.121405</td>\n",
       "      <td>0.371271</td>\n",
       "      <td>-1.205113</td>\n",
       "      <td>-1.474052</td>\n",
       "      <td>-0.746535</td>\n",
       "    </tr>\n",
       "    <tr>\n",
       "      <th>4</th>\n",
       "      <td>1.470632</td>\n",
       "      <td>-0.439916</td>\n",
       "      <td>-0.966622</td>\n",
       "      <td>-0.654012</td>\n",
       "      <td>-0.991588</td>\n",
       "      <td>0.172250</td>\n",
       "      <td>-0.918838</td>\n",
       "      <td>-1.029919</td>\n",
       "      <td>-1.027910</td>\n",
       "      <td>-0.925262</td>\n",
       "      <td>-1.113495</td>\n",
       "      <td>-1.121405</td>\n",
       "      <td>-0.828207</td>\n",
       "      <td>0.829798</td>\n",
       "      <td>0.398558</td>\n",
       "      <td>0.197365</td>\n",
       "    </tr>\n",
       "  </tbody>\n",
       "</table>\n",
       "</div>"
      ],
      "text/plain": [
       "   customerID  SeniorCitizen   Partner  Dependents  MultipleLines  \\\n",
       "0    0.911890      -0.439916  1.034530   -0.654012       0.062723   \n",
       "1    0.216906      -0.439916 -0.966622   -0.654012      -0.991588   \n",
       "2   -0.470701      -0.439916 -0.966622   -0.654012      -0.991588   \n",
       "3    0.990587      -0.439916 -0.966622   -0.654012       0.062723   \n",
       "4    1.470632      -0.439916 -0.966622   -0.654012      -0.991588   \n",
       "\n",
       "   InternetService  OnlineSecurity  OnlineBackup  DeviceProtection  \\\n",
       "0        -1.183234       -0.918838      1.242550         -1.027910   \n",
       "1        -1.183234        1.407321     -1.029919          1.245111   \n",
       "2        -1.183234        1.407321      1.242550         -1.027910   \n",
       "3        -1.183234        1.407321     -1.029919          1.245111   \n",
       "4         0.172250       -0.918838     -1.029919         -1.027910   \n",
       "\n",
       "   TechSupport  StreamingTV  StreamingMovies  Contract  PaperlessBilling  \\\n",
       "0    -0.925262    -1.113495        -1.121405 -0.828207          0.829798   \n",
       "1    -0.925262    -1.113495        -1.121405  0.371271         -1.205113   \n",
       "2    -0.925262    -1.113495        -1.121405 -0.828207          0.829798   \n",
       "3     1.396299    -1.113495        -1.121405  0.371271         -1.205113   \n",
       "4    -0.925262    -1.113495        -1.121405 -0.828207          0.829798   \n",
       "\n",
       "   PaymentMethod  MonthlyCharges  \n",
       "0       0.398558       -1.160323  \n",
       "1       1.334863       -0.259629  \n",
       "2       1.334863       -0.362660  \n",
       "3      -1.474052       -0.746535  \n",
       "4       0.398558        0.197365  "
      ]
     },
     "execution_count": 66,
     "metadata": {},
     "output_type": "execute_result"
    }
   ],
   "source": [
    "X = dataset.iloc[:,0:16] \n",
    "X.head()"
   ]
  },
  {
   "cell_type": "markdown",
   "metadata": {},
   "source": [
    "### Deja la variable a predecir en y\n"
   ]
  },
  {
   "cell_type": "markdown",
   "metadata": {},
   "source": [
    "### Como la variable a predecir la dan en terminos de 0 y 1, es necesario con vertirla a Si y No."
   ]
  },
  {
   "cell_type": "code",
   "execution_count": 67,
   "metadata": {},
   "outputs": [
    {
     "data": {
      "text/html": [
       "<div>\n",
       "<style scoped>\n",
       "    .dataframe tbody tr th:only-of-type {\n",
       "        vertical-align: middle;\n",
       "    }\n",
       "\n",
       "    .dataframe tbody tr th {\n",
       "        vertical-align: top;\n",
       "    }\n",
       "\n",
       "    .dataframe thead th {\n",
       "        text-align: right;\n",
       "    }\n",
       "</style>\n",
       "<table border=\"1\" class=\"dataframe\">\n",
       "  <thead>\n",
       "    <tr style=\"text-align: right;\">\n",
       "      <th></th>\n",
       "      <th>customerID</th>\n",
       "      <th>gender</th>\n",
       "      <th>SeniorCitizen</th>\n",
       "      <th>Partner</th>\n",
       "      <th>Dependents</th>\n",
       "      <th>tenure</th>\n",
       "      <th>PhoneService</th>\n",
       "      <th>MultipleLines</th>\n",
       "      <th>InternetService</th>\n",
       "      <th>OnlineSecurity</th>\n",
       "      <th>...</th>\n",
       "      <th>DeviceProtection</th>\n",
       "      <th>TechSupport</th>\n",
       "      <th>StreamingTV</th>\n",
       "      <th>StreamingMovies</th>\n",
       "      <th>Contract</th>\n",
       "      <th>PaperlessBilling</th>\n",
       "      <th>PaymentMethod</th>\n",
       "      <th>MonthlyCharges</th>\n",
       "      <th>TotalCharges</th>\n",
       "      <th>Churn</th>\n",
       "    </tr>\n",
       "  </thead>\n",
       "  <tbody>\n",
       "    <tr>\n",
       "      <th>0</th>\n",
       "      <td>5375</td>\n",
       "      <td>0</td>\n",
       "      <td>0</td>\n",
       "      <td>1</td>\n",
       "      <td>0</td>\n",
       "      <td>1</td>\n",
       "      <td>0</td>\n",
       "      <td>1</td>\n",
       "      <td>0</td>\n",
       "      <td>0</td>\n",
       "      <td>...</td>\n",
       "      <td>0</td>\n",
       "      <td>0</td>\n",
       "      <td>0</td>\n",
       "      <td>0</td>\n",
       "      <td>0</td>\n",
       "      <td>1</td>\n",
       "      <td>2</td>\n",
       "      <td>29.85</td>\n",
       "      <td>29.850</td>\n",
       "      <td>0</td>\n",
       "    </tr>\n",
       "    <tr>\n",
       "      <th>1</th>\n",
       "      <td>3962</td>\n",
       "      <td>1</td>\n",
       "      <td>0</td>\n",
       "      <td>0</td>\n",
       "      <td>0</td>\n",
       "      <td>34</td>\n",
       "      <td>1</td>\n",
       "      <td>0</td>\n",
       "      <td>0</td>\n",
       "      <td>2</td>\n",
       "      <td>...</td>\n",
       "      <td>2</td>\n",
       "      <td>0</td>\n",
       "      <td>0</td>\n",
       "      <td>0</td>\n",
       "      <td>1</td>\n",
       "      <td>0</td>\n",
       "      <td>3</td>\n",
       "      <td>56.95</td>\n",
       "      <td>1889.500</td>\n",
       "      <td>0</td>\n",
       "    </tr>\n",
       "    <tr>\n",
       "      <th>2</th>\n",
       "      <td>2564</td>\n",
       "      <td>1</td>\n",
       "      <td>0</td>\n",
       "      <td>0</td>\n",
       "      <td>0</td>\n",
       "      <td>2</td>\n",
       "      <td>1</td>\n",
       "      <td>0</td>\n",
       "      <td>0</td>\n",
       "      <td>2</td>\n",
       "      <td>...</td>\n",
       "      <td>0</td>\n",
       "      <td>0</td>\n",
       "      <td>0</td>\n",
       "      <td>0</td>\n",
       "      <td>0</td>\n",
       "      <td>1</td>\n",
       "      <td>3</td>\n",
       "      <td>53.85</td>\n",
       "      <td>108.150</td>\n",
       "      <td>1</td>\n",
       "    </tr>\n",
       "    <tr>\n",
       "      <th>3</th>\n",
       "      <td>5535</td>\n",
       "      <td>1</td>\n",
       "      <td>0</td>\n",
       "      <td>0</td>\n",
       "      <td>0</td>\n",
       "      <td>45</td>\n",
       "      <td>0</td>\n",
       "      <td>1</td>\n",
       "      <td>0</td>\n",
       "      <td>2</td>\n",
       "      <td>...</td>\n",
       "      <td>2</td>\n",
       "      <td>2</td>\n",
       "      <td>0</td>\n",
       "      <td>0</td>\n",
       "      <td>1</td>\n",
       "      <td>0</td>\n",
       "      <td>0</td>\n",
       "      <td>42.30</td>\n",
       "      <td>1840.750</td>\n",
       "      <td>0</td>\n",
       "    </tr>\n",
       "    <tr>\n",
       "      <th>4</th>\n",
       "      <td>6511</td>\n",
       "      <td>0</td>\n",
       "      <td>0</td>\n",
       "      <td>0</td>\n",
       "      <td>0</td>\n",
       "      <td>2</td>\n",
       "      <td>1</td>\n",
       "      <td>0</td>\n",
       "      <td>1</td>\n",
       "      <td>0</td>\n",
       "      <td>...</td>\n",
       "      <td>0</td>\n",
       "      <td>0</td>\n",
       "      <td>0</td>\n",
       "      <td>0</td>\n",
       "      <td>0</td>\n",
       "      <td>1</td>\n",
       "      <td>2</td>\n",
       "      <td>70.70</td>\n",
       "      <td>151.650</td>\n",
       "      <td>1</td>\n",
       "    </tr>\n",
       "    <tr>\n",
       "      <th>...</th>\n",
       "      <td>...</td>\n",
       "      <td>...</td>\n",
       "      <td>...</td>\n",
       "      <td>...</td>\n",
       "      <td>...</td>\n",
       "      <td>...</td>\n",
       "      <td>...</td>\n",
       "      <td>...</td>\n",
       "      <td>...</td>\n",
       "      <td>...</td>\n",
       "      <td>...</td>\n",
       "      <td>...</td>\n",
       "      <td>...</td>\n",
       "      <td>...</td>\n",
       "      <td>...</td>\n",
       "      <td>...</td>\n",
       "      <td>...</td>\n",
       "      <td>...</td>\n",
       "      <td>...</td>\n",
       "      <td>...</td>\n",
       "      <td>...</td>\n",
       "    </tr>\n",
       "    <tr>\n",
       "      <th>7038</th>\n",
       "      <td>4853</td>\n",
       "      <td>1</td>\n",
       "      <td>0</td>\n",
       "      <td>1</td>\n",
       "      <td>1</td>\n",
       "      <td>24</td>\n",
       "      <td>1</td>\n",
       "      <td>2</td>\n",
       "      <td>0</td>\n",
       "      <td>2</td>\n",
       "      <td>...</td>\n",
       "      <td>2</td>\n",
       "      <td>2</td>\n",
       "      <td>2</td>\n",
       "      <td>2</td>\n",
       "      <td>1</td>\n",
       "      <td>1</td>\n",
       "      <td>3</td>\n",
       "      <td>84.80</td>\n",
       "      <td>1990.500</td>\n",
       "      <td>0</td>\n",
       "    </tr>\n",
       "    <tr>\n",
       "      <th>7039</th>\n",
       "      <td>1525</td>\n",
       "      <td>0</td>\n",
       "      <td>0</td>\n",
       "      <td>1</td>\n",
       "      <td>1</td>\n",
       "      <td>72</td>\n",
       "      <td>1</td>\n",
       "      <td>2</td>\n",
       "      <td>1</td>\n",
       "      <td>0</td>\n",
       "      <td>...</td>\n",
       "      <td>2</td>\n",
       "      <td>0</td>\n",
       "      <td>2</td>\n",
       "      <td>2</td>\n",
       "      <td>1</td>\n",
       "      <td>1</td>\n",
       "      <td>1</td>\n",
       "      <td>103.20</td>\n",
       "      <td>1397.475</td>\n",
       "      <td>0</td>\n",
       "    </tr>\n",
       "    <tr>\n",
       "      <th>7040</th>\n",
       "      <td>3367</td>\n",
       "      <td>0</td>\n",
       "      <td>0</td>\n",
       "      <td>1</td>\n",
       "      <td>1</td>\n",
       "      <td>11</td>\n",
       "      <td>0</td>\n",
       "      <td>1</td>\n",
       "      <td>0</td>\n",
       "      <td>2</td>\n",
       "      <td>...</td>\n",
       "      <td>0</td>\n",
       "      <td>0</td>\n",
       "      <td>0</td>\n",
       "      <td>0</td>\n",
       "      <td>0</td>\n",
       "      <td>1</td>\n",
       "      <td>2</td>\n",
       "      <td>29.60</td>\n",
       "      <td>346.450</td>\n",
       "      <td>0</td>\n",
       "    </tr>\n",
       "    <tr>\n",
       "      <th>7041</th>\n",
       "      <td>5934</td>\n",
       "      <td>1</td>\n",
       "      <td>1</td>\n",
       "      <td>1</td>\n",
       "      <td>0</td>\n",
       "      <td>4</td>\n",
       "      <td>1</td>\n",
       "      <td>2</td>\n",
       "      <td>1</td>\n",
       "      <td>0</td>\n",
       "      <td>...</td>\n",
       "      <td>0</td>\n",
       "      <td>0</td>\n",
       "      <td>0</td>\n",
       "      <td>0</td>\n",
       "      <td>0</td>\n",
       "      <td>1</td>\n",
       "      <td>3</td>\n",
       "      <td>74.40</td>\n",
       "      <td>306.600</td>\n",
       "      <td>1</td>\n",
       "    </tr>\n",
       "    <tr>\n",
       "      <th>7042</th>\n",
       "      <td>2226</td>\n",
       "      <td>1</td>\n",
       "      <td>0</td>\n",
       "      <td>0</td>\n",
       "      <td>0</td>\n",
       "      <td>66</td>\n",
       "      <td>1</td>\n",
       "      <td>0</td>\n",
       "      <td>1</td>\n",
       "      <td>2</td>\n",
       "      <td>...</td>\n",
       "      <td>2</td>\n",
       "      <td>2</td>\n",
       "      <td>2</td>\n",
       "      <td>2</td>\n",
       "      <td>2</td>\n",
       "      <td>1</td>\n",
       "      <td>0</td>\n",
       "      <td>105.65</td>\n",
       "      <td>1397.475</td>\n",
       "      <td>0</td>\n",
       "    </tr>\n",
       "  </tbody>\n",
       "</table>\n",
       "<p>7043 rows × 21 columns</p>\n",
       "</div>"
      ],
      "text/plain": [
       "      customerID  gender  SeniorCitizen  Partner  Dependents  tenure  \\\n",
       "0           5375       0              0        1           0       1   \n",
       "1           3962       1              0        0           0      34   \n",
       "2           2564       1              0        0           0       2   \n",
       "3           5535       1              0        0           0      45   \n",
       "4           6511       0              0        0           0       2   \n",
       "...          ...     ...            ...      ...         ...     ...   \n",
       "7038        4853       1              0        1           1      24   \n",
       "7039        1525       0              0        1           1      72   \n",
       "7040        3367       0              0        1           1      11   \n",
       "7041        5934       1              1        1           0       4   \n",
       "7042        2226       1              0        0           0      66   \n",
       "\n",
       "      PhoneService  MultipleLines  InternetService  OnlineSecurity  ...  \\\n",
       "0                0              1                0               0  ...   \n",
       "1                1              0                0               2  ...   \n",
       "2                1              0                0               2  ...   \n",
       "3                0              1                0               2  ...   \n",
       "4                1              0                1               0  ...   \n",
       "...            ...            ...              ...             ...  ...   \n",
       "7038             1              2                0               2  ...   \n",
       "7039             1              2                1               0  ...   \n",
       "7040             0              1                0               2  ...   \n",
       "7041             1              2                1               0  ...   \n",
       "7042             1              0                1               2  ...   \n",
       "\n",
       "      DeviceProtection  TechSupport  StreamingTV  StreamingMovies  Contract  \\\n",
       "0                    0            0            0                0         0   \n",
       "1                    2            0            0                0         1   \n",
       "2                    0            0            0                0         0   \n",
       "3                    2            2            0                0         1   \n",
       "4                    0            0            0                0         0   \n",
       "...                ...          ...          ...              ...       ...   \n",
       "7038                 2            2            2                2         1   \n",
       "7039                 2            0            2                2         1   \n",
       "7040                 0            0            0                0         0   \n",
       "7041                 0            0            0                0         0   \n",
       "7042                 2            2            2                2         2   \n",
       "\n",
       "      PaperlessBilling  PaymentMethod  MonthlyCharges  TotalCharges  Churn  \n",
       "0                    1              2           29.85        29.850      0  \n",
       "1                    0              3           56.95      1889.500      0  \n",
       "2                    1              3           53.85       108.150      1  \n",
       "3                    0              0           42.30      1840.750      0  \n",
       "4                    1              2           70.70       151.650      1  \n",
       "...                ...            ...             ...           ...    ...  \n",
       "7038                 1              3           84.80      1990.500      0  \n",
       "7039                 1              1          103.20      1397.475      0  \n",
       "7040                 1              2           29.60       346.450      0  \n",
       "7041                 1              3           74.40       306.600      1  \n",
       "7042                 1              0          105.65      1397.475      0  \n",
       "\n",
       "[7043 rows x 21 columns]"
      ]
     },
     "execution_count": 67,
     "metadata": {},
     "output_type": "execute_result"
    }
   ],
   "source": [
    "import pandas as pd\n",
    "d = data\n",
    "df = pd.DataFrame(data=d)\n",
    "df"
   ]
  },
  {
   "cell_type": "code",
   "execution_count": 68,
   "metadata": {},
   "outputs": [
    {
     "name": "stdout",
     "output_type": "stream",
     "text": [
      "     Churn\n",
      "0       No\n",
      "1       No\n",
      "2       Si\n",
      "3       No\n",
      "4       Si\n",
      "...    ...\n",
      "7038    No\n",
      "7039    No\n",
      "7040    No\n",
      "7041    Si\n",
      "7042    No\n",
      "\n",
      "[7043 rows x 1 columns]\n"
     ]
    }
   ],
   "source": [
    "df.replace({0: \"No\", 1: \"Si\"}, inplace = True)\n",
    "print(df.iloc[:,20:21]) #Resultado fue reemplazado con exito."
   ]
  },
  {
   "cell_type": "code",
   "execution_count": 69,
   "metadata": {},
   "outputs": [
    {
     "data": {
      "text/html": [
       "<div>\n",
       "<style scoped>\n",
       "    .dataframe tbody tr th:only-of-type {\n",
       "        vertical-align: middle;\n",
       "    }\n",
       "\n",
       "    .dataframe tbody tr th {\n",
       "        vertical-align: top;\n",
       "    }\n",
       "\n",
       "    .dataframe thead th {\n",
       "        text-align: right;\n",
       "    }\n",
       "</style>\n",
       "<table border=\"1\" class=\"dataframe\">\n",
       "  <thead>\n",
       "    <tr style=\"text-align: right;\">\n",
       "      <th></th>\n",
       "      <th>Churn</th>\n",
       "    </tr>\n",
       "  </thead>\n",
       "  <tbody>\n",
       "    <tr>\n",
       "      <th>0</th>\n",
       "      <td>No</td>\n",
       "    </tr>\n",
       "    <tr>\n",
       "      <th>1</th>\n",
       "      <td>No</td>\n",
       "    </tr>\n",
       "    <tr>\n",
       "      <th>2</th>\n",
       "      <td>Si</td>\n",
       "    </tr>\n",
       "    <tr>\n",
       "      <th>3</th>\n",
       "      <td>No</td>\n",
       "    </tr>\n",
       "    <tr>\n",
       "      <th>4</th>\n",
       "      <td>Si</td>\n",
       "    </tr>\n",
       "  </tbody>\n",
       "</table>\n",
       "</div>"
      ],
      "text/plain": [
       "  Churn\n",
       "0    No\n",
       "1    No\n",
       "2    Si\n",
       "3    No\n",
       "4    Si"
      ]
     },
     "execution_count": 69,
     "metadata": {},
     "output_type": "execute_result"
    }
   ],
   "source": [
    "y = df.iloc[:,20:21] \n",
    "y.head()"
   ]
  },
  {
   "cell_type": "markdown",
   "metadata": {},
   "source": [
    "### Se separan los datos con el 70% de los datos para entrenamiento y el 30% para testing\n",
    "\n",
    "Como la variable a predecir ya viene dada por \"0\" y \"1\" no es necesario utilizar codigo disyuntivo ni reescalar"
   ]
  },
  {
   "cell_type": "code",
   "execution_count": 70,
   "metadata": {},
   "outputs": [
    {
     "name": "stdout",
     "output_type": "stream",
     "text": [
      "      Churn_No  Churn_Si\n",
      "0            1         0\n",
      "1            1         0\n",
      "2            0         1\n",
      "3            1         0\n",
      "4            0         1\n",
      "...        ...       ...\n",
      "7038         1         0\n",
      "7039         1         0\n",
      "7040         1         0\n",
      "7041         0         1\n",
      "7042         1         0\n",
      "\n",
      "[7043 rows x 2 columns]\n"
     ]
    }
   ],
   "source": [
    "dummy_y = pd.get_dummies(y)\n",
    "scaler = MinMaxScaler(feature_range = (0, 1))\n",
    "scaled_X  = pd.DataFrame(scaler.fit_transform(X), columns = list(X))\n",
    "X_train, X_test, y_train, y_test = train_test_split(scaled_X, dummy_y, train_size = 0.7, random_state = 0)\n",
    "print(dummy_y)"
   ]
  },
  {
   "cell_type": "markdown",
   "metadata": {},
   "source": [
    "### Creando Modelo en Keras"
   ]
  },
  {
   "cell_type": "code",
   "execution_count": 71,
   "metadata": {},
   "outputs": [],
   "source": [
    "model = Sequential()\n",
    "model.add(Dense(300, input_dim = 16, activation = 'relu'))  # primera capa oculta con 300 neuronas\n",
    "model.add(Dense(50, activation = 'sigmoid'))  # segunda capa oculta con 50 neuronas\n",
    "model.add(Dense(30, activation = 'sigmoid'))  # tercera capa oculta con 30 neuronas\n",
    "model.add(Dense(20, activation = 'relu'))  # Agregamos cuarta capa oculta con 20 neuronas\n",
    "model.add(Dense(2, activation = 'softmax')) # Agregamos capa output con 2 neuronas"
   ]
  },
  {
   "cell_type": "markdown",
   "metadata": {},
   "source": [
    "### Compilando Modelo"
   ]
  },
  {
   "cell_type": "code",
   "execution_count": 72,
   "metadata": {},
   "outputs": [],
   "source": [
    "model.compile(loss = 'categorical_crossentropy', optimizer = 'adam', metrics = ['accuracy'])"
   ]
  },
  {
   "cell_type": "markdown",
   "metadata": {},
   "source": [
    "### Resumen del Modelo"
   ]
  },
  {
   "cell_type": "code",
   "execution_count": 73,
   "metadata": {},
   "outputs": [
    {
     "name": "stdout",
     "output_type": "stream",
     "text": [
      "Model: \"sequential_1\"\n",
      "_________________________________________________________________\n",
      "Layer (type)                 Output Shape              Param #   \n",
      "=================================================================\n",
      "dense_1 (Dense)              (None, 300)               5100      \n",
      "_________________________________________________________________\n",
      "dense_2 (Dense)              (None, 50)                15050     \n",
      "_________________________________________________________________\n",
      "dense_3 (Dense)              (None, 30)                1530      \n",
      "_________________________________________________________________\n",
      "dense_4 (Dense)              (None, 20)                620       \n",
      "_________________________________________________________________\n",
      "dense_5 (Dense)              (None, 2)                 42        \n",
      "=================================================================\n",
      "Total params: 22,342\n",
      "Trainable params: 22,342\n",
      "Non-trainable params: 0\n",
      "_________________________________________________________________\n",
      "None\n"
     ]
    }
   ],
   "source": [
    "print(model.summary())"
   ]
  },
  {
   "cell_type": "markdown",
   "metadata": {},
   "source": [
    "### Ajustes del Modelo"
   ]
  },
  {
   "cell_type": "markdown",
   "metadata": {},
   "source": [
    "### Usando 1000 etapas de entrenamiento (epochs) y actualizando los pesos de la red cada 50 observaciones procesadas (batch_size)."
   ]
  },
  {
   "cell_type": "code",
   "execution_count": 74,
   "metadata": {},
   "outputs": [],
   "source": [
    "model.fit(X_train, y_train, epochs = 1000, batch_size = 50, verbose = 0)\n",
    "# La predicción es una matriz con 3 columnas\n",
    "y_pred = model.predict(X_test)\n",
    "# Convertimos a columna\n",
    "y_test_class = np.argmax(np.asanyarray(y_test), axis = 1)  # Convertimos a array\n",
    "y_pred_class = np.argmax(y_pred, axis = 1)"
   ]
  },
  {
   "cell_type": "markdown",
   "metadata": {},
   "source": [
    "### Predicciones y Calidad del Modelo"
   ]
  },
  {
   "cell_type": "code",
   "execution_count": 75,
   "metadata": {},
   "outputs": [
    {
     "name": "stdout",
     "output_type": "stream",
     "text": [
      "2113/2113 [==============================] - 0s 44us/step\n",
      "\n",
      "Matriz de Confusión:\n",
      "[[1295  265]\n",
      " [ 298  255]]\n",
      "\n",
      "Precisión Global:\n",
      "0.7335541883577852\n",
      "\n",
      "Error Global:\n",
      "0.2664458116422148\n",
      "\n",
      "Precisión por categoría:\n",
      "         No        Si\n",
      "0  0.830128  0.461121\n"
     ]
    }
   ],
   "source": [
    "scores = model.evaluate(X_test, y_test)\n",
    "MC = confusion_matrix(y_test_class, y_pred_class)\n",
    "indices = indices_general(MC,list(np.unique(y)))\n",
    "for k in indices:\n",
    "    print(\"\\n%s:\\n%s\"%(k,str(indices[k])))"
   ]
  },
  {
   "cell_type": "markdown",
   "metadata": {},
   "source": [
    "### Validacion Cruzada"
   ]
  },
  {
   "cell_type": "code",
   "execution_count": 84,
   "metadata": {},
   "outputs": [
    {
     "name": "stdout",
     "output_type": "stream",
     "text": [
      "0.7647332191467285\n"
     ]
    }
   ],
   "source": [
    "from keras.models import Sequential\n",
    "from keras.layers import Dense\n",
    "from keras.wrappers.scikit_learn import KerasClassifier\n",
    "from sklearn.model_selection import StratifiedKFold\n",
    "from sklearn.model_selection import cross_val_score\n",
    "\n",
    "# funcion para crear el modelo, requerido por KerasClassifier\n",
    "def create_model():\n",
    "    model = Sequential()\n",
    "    model.add(Dense(12, input_dim = 16, activation = 'relu'))  # primera capa oculta con 300 neuronas\n",
    "    model.add(Dense(8, activation = 'sigmoid'))  # segunda capa oculta con 50 neuronas\n",
    "    model.add(Dense(1, activation = 'sigmoid'))  # tercera capa oculta con 30 neuronas\n",
    "  # Compila el modelo\n",
    "    model.compile(loss='binary_crossentropy', optimizer='adam', metrics=['accuracy'])\n",
    "    return model\n",
    "\n",
    "# Fija las semillas aleatorias para la reproducibilidad\n",
    "import numpy\n",
    "seed = 7\n",
    "numpy.random.seed(seed)\n",
    "\n",
    "# split para la variables predictoras (X) y a predecir (y)\n",
    "X = dataset.iloc[:,0:16] \n",
    "Y = data.iloc[:,20:21]\n",
    "\n",
    "# crea el modelo\n",
    "model = KerasClassifier(build_fn=create_model, epochs=1000, batch_size=50, verbose=0)\n",
    "\n",
    "# evalua usando 5 - fold validacion cruzada\n",
    "kfold = StratifiedKFold(n_splits=5, shuffle=True, random_state=seed)\n",
    "results = cross_val_score(model, X, Y, cv=kfold)\n",
    "print(results.mean())\n",
    "\n",
    "# Asignando variable para grafico\n",
    "res_keras = results.mean()"
   ]
  },
  {
   "cell_type": "markdown",
   "metadata": {},
   "source": [
    "### Curva ROC"
   ]
  },
  {
   "cell_type": "markdown",
   "metadata": {},
   "source": [
    "### Funcion para graficar la Curva ROC"
   ]
  },
  {
   "cell_type": "code",
   "execution_count": 88,
   "metadata": {},
   "outputs": [],
   "source": [
    "from sklearn.metrics import confusion_matrix, roc_curve, roc_auc_score"
   ]
  },
  {
   "cell_type": "code",
   "execution_count": 89,
   "metadata": {},
   "outputs": [],
   "source": [
    "def plotROC(real, prediccion, color = \"red\", label = None):\n",
    "    fp_r, tp_r, umbral = roc_curve(real, prediccion)\n",
    "    plt.plot(fp_r, tp_r, lw = 1, color = color, label = label)\n",
    "    plt.plot([0, 1], [0, 1], lw = 1, color = \"black\")\n",
    "    plt.xlabel(\"Tasa de Falsos Positivos\")\n",
    "    plt.ylabel(\"Tasa de Verdaderos Positivos\")\n",
    "    plt.title(\"Curva ROC\")"
   ]
  },
  {
   "cell_type": "code",
   "execution_count": 90,
   "metadata": {},
   "outputs": [
    {
     "data": {
      "image/png": "[encoded data removed]",
      "text/plain": [
       "<Figure size 720x720 with 1 Axes>"
      ]
     },
     "metadata": {
      "needs_background": "light"
     },
     "output_type": "display_data"
    }
   ],
   "source": [
    "# Definiendo Modelo\n",
    "model = Sequential()\n",
    "model.add(Dense(300, input_dim = 16, activation = 'relu'))  # primera capa oculta con 300 neuronas\n",
    "model.add(Dense(50, activation = 'sigmoid'))  # segunda capa oculta con 50 neuronas\n",
    "model.add(Dense(30, activation = 'sigmoid'))  # tercera capa oculta con 30 neuronas\n",
    "model.add(Dense(20, activation = 'relu'))  # Agregamos cuarta capa oculta con 20 neuronas\n",
    "model.add(Dense(2, activation = 'softmax')) # Agregamos capa output con 2 neuronas\n",
    "model.compile(loss = 'categorical_crossentropy', optimizer = 'adam', metrics = ['accuracy'])  \n",
    "model.fit(X_train, y_train, epochs = 1000, batch_size = 50, verbose = 0)\n",
    "# La predicción es una matriz con 3 columnas\n",
    "y_pred = model.predict(X_test)\n",
    "# Convertimos a columna\n",
    "y_test_class = np.argmax(np.asanyarray(y_test), axis = 1)  # Convertimos a array\n",
    "y_pred_class = np.argmax(y_pred, axis = 1)\n",
    "# Genera la Curva ROC para Redes Neuronales usando paquete Keras\n",
    "plt.figure(figsize=(10,10))\n",
    "plotROC(y_test_class, y_pred_class, color = \"gold\")"
   ]
  },
  {
   "cell_type": "code",
   "execution_count": 91,
   "metadata": {},
   "outputs": [
    {
     "name": "stdout",
     "output_type": "stream",
     "text": [
      "Área bajo la curva ROC en Redes Neuronales Paquete Keras: 0.641\n"
     ]
    }
   ],
   "source": [
    "Keras = roc_auc_score(y_test_class, y_pred_class)\n",
    "print(\"Área bajo la curva ROC en Redes Neuronales Paquete Keras: {:.3f}\".format(Keras))"
   ]
  },
  {
   "cell_type": "markdown",
   "metadata": {},
   "source": [
    "### Analisis General del Modelo"
   ]
  },
  {
   "cell_type": "markdown",
   "metadata": {},
   "source": [
    "### En cuanto al modelo, se puede ver que dado a que la variable a predecir esta desbalanceada, las predicciones del No son mejores que las del Si, y para el modelo se tiene una precision gloabl de mas de un 73%, y una por categoria del Si, de un 46% y del No de un 83%. La validacion cruzada da una media de mas de 76% mientras que la Cu"
   ]
  }
 ],
 "metadata": {
  "kernelspec": {
   "display_name": "Python 3",
   "language": "python",
   "name": "python3"
  },
  "language_info": {
   "codemirror_mode": {
    "name": "ipython",
    "version": 3
   },
   "file_extension": ".py",
   "mimetype": "text/x-python",
   "name": "python",
   "nbconvert_exporter": "python",
   "pygments_lexer": "ipython3",
   "version": "3.7.4"
  }
 },
 "nbformat": 4,
 "nbformat_minor": 4
}
