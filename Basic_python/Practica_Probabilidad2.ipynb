{
 "cells": [
  {
   "cell_type": "markdown",
   "metadata": {},
   "source": [
    "## Practica completa Probabilidad"
   ]
  },
  {
   "cell_type": "markdown",
   "metadata": {},
   "source": [
    "En una universidad, se sabe que el 25% de los alumnos realizan algún tipo de deporte. Se ha obtenido una muestra de 30 alumnos.\n",
    "\n",
    "a) Si llamamos X a la variable aleatoria que cuenta el número de alumnos que realizan algún tipo de deporte, ¿qué tipo de distribución sigue X?\n",
    "\n",
    "b) ¿Qué esperanza tiene X?\n",
    "\n",
    "c) ¿Y varianza?\n",
    "\n",
    "d) Calcula con R (o Python) la probabilidad de que más de 25 alumnos practiquen algún deporte.\n",
    "\n",
    "e) Calcula con R (o Python) la probabilidad de que exactamente 15 alumnos practiquen algún deporte.\n",
    "\n",
    "f) Calcula con R (o Python) la probabilidad de que de 10 alumnos o menos practiquen algún deporte."
   ]
  },
  {
   "cell_type": "code",
   "execution_count": 4,
   "metadata": {},
   "outputs": [],
   "source": [
    "from scipy.stats import binom\n",
    "import numpy as np"
   ]
  },
  {
   "cell_type": "code",
   "execution_count": 1,
   "metadata": {},
   "outputs": [],
   "source": [
    "# a) Es una distribucion binomial, ya que nos dice el porcentaje en que es probable obtener un resultado entre dos posibles\n",
    "# al realizar un número n de pruebas."
   ]
  },
  {
   "cell_type": "code",
   "execution_count": 2,
   "metadata": {},
   "outputs": [
    {
     "name": "stdout",
     "output_type": "stream",
     "text": [
      "7.5\n"
     ]
    }
   ],
   "source": [
    "# b)\n",
    "\n",
    "n = 30\n",
    "p = 0.25\n",
    "\n",
    "Esperanza = n * p\n",
    "print(Esperanza)"
   ]
  },
  {
   "cell_type": "code",
   "execution_count": 5,
   "metadata": {},
   "outputs": [
    {
     "name": "stdout",
     "output_type": "stream",
     "text": [
      "5.625\n"
     ]
    }
   ],
   "source": [
    "# c) \n",
    "\n",
    "print(binom.stats(n, p, moments = 'v'))"
   ]
  },
  {
   "cell_type": "code",
   "execution_count": 7,
   "metadata": {},
   "outputs": [
    {
     "name": "stdout",
     "output_type": "stream",
     "text": [
      "2.0239365738916604e-12\n"
     ]
    }
   ],
   "source": [
    "# d) función de densidad acumulada o distribución\n",
    "\n",
    "print(1-binom.cdf(25, n, p))"
   ]
  },
  {
   "cell_type": "code",
   "execution_count": 8,
   "metadata": {},
   "outputs": [
    {
     "name": "stdout",
     "output_type": "stream",
     "text": [
      "0.0008189891446772624\n"
     ]
    }
   ],
   "source": [
    "# e) \n",
    "\n",
    "print(1-binom.cdf(15, n, p))"
   ]
  },
  {
   "cell_type": "code",
   "execution_count": 10,
   "metadata": {},
   "outputs": [
    {
     "name": "stdout",
     "output_type": "stream",
     "text": [
      "0.8942718773073399\n"
     ]
    }
   ],
   "source": [
    "# f) \n",
    "\n",
    "print(binom.cdf(10, n, p))"
   ]
  },
  {
   "cell_type": "markdown",
   "metadata": {},
   "source": [
    "El número medio de accidentes de coche en la ciudad de Mahón en 2 meses es de 2 accidentes.\n",
    "\n",
    "a) ¿Qué distribución sigue la v.a. que cuenta el número de accidentes en 2 meses?\n",
    "\n",
    "b) Calcula la esperanza\n",
    "\n",
    "c) Calcula con R (o Python) la probabilidad de que no ocurra ningún accidente en 2 meses."
   ]
  },
  {
   "cell_type": "code",
   "execution_count": 11,
   "metadata": {},
   "outputs": [],
   "source": [
    "# a) Poisson porque mide el numero de sucesos o hechos que suceden en una determinada cantidad de tiempo."
   ]
  },
  {
   "cell_type": "code",
   "execution_count": 12,
   "metadata": {},
   "outputs": [],
   "source": [
    "# b)\n",
    "\n",
    "# Esperanza es la cantidad de accidentes por periodo de tiempo, en este caso serian 2. "
   ]
  },
  {
   "cell_type": "code",
   "execution_count": 15,
   "metadata": {},
   "outputs": [
    {
     "data": {
      "text/plain": [
       "0.1353352832366127"
      ]
     },
     "execution_count": 15,
     "metadata": {},
     "output_type": "execute_result"
    }
   ],
   "source": [
    "# c) \n",
    "from scipy.stats import poisson\n",
    "\n",
    "k = 0\n",
    "mu = 2\n",
    "\n",
    "poisson.cdf(k, mu)"
   ]
  },
  {
   "cell_type": "markdown",
   "metadata": {},
   "source": [
    "El 40% de un pueblo a las afueras de la ciudad de Pensilvania ve un concurso que dan por la tele. El concurso llama por teléfono a 15 personas del pueblo elegidas al azar. ¿De qué distribución se trata?"
   ]
  },
  {
   "cell_type": "code",
   "execution_count": 17,
   "metadata": {},
   "outputs": [],
   "source": [
    "# Se trata de una distribución binomial, porque nos dice la probabilidad de ser llamado o no, con n=15  y p= 0.4"
   ]
  },
  {
   "cell_type": "markdown",
   "metadata": {},
   "source": [
    "Un test de matemáticas consta de 200 preguntas de verdadero o falso. Para una persona que respondiese al azar, ¿qué distribución seguiría la v.a. que cuenta el número de preguntas acertadas?\n",
    "\n",
    "Da también la esperanza y la varianza de esta variable aleatoria."
   ]
  },
  {
   "cell_type": "code",
   "execution_count": 18,
   "metadata": {},
   "outputs": [],
   "source": [
    "# Sigue una distribucion de Bernoulli, porque mide los aciertos y los fallos. "
   ]
  },
  {
   "cell_type": "code",
   "execution_count": 20,
   "metadata": {},
   "outputs": [
    {
     "name": "stdout",
     "output_type": "stream",
     "text": [
      "0.5\n"
     ]
    }
   ],
   "source": [
    "from scipy.stats import bernoulli\n",
    "\n",
    "n = 200\n",
    "p = 0.50\n",
    "\n",
    "Esperanza = p \n",
    "\n",
    "print(Esperanza)"
   ]
  },
  {
   "cell_type": "code",
   "execution_count": 21,
   "metadata": {},
   "outputs": [
    {
     "data": {
      "text/plain": [
       "array(0.25)"
      ]
     },
     "execution_count": 21,
     "metadata": {},
     "output_type": "execute_result"
    }
   ],
   "source": [
    "bernoulli.stats(p, moments = 'v')"
   ]
  },
  {
   "cell_type": "markdown",
   "metadata": {},
   "source": [
    "Un test de matemáticas consta de 200 preguntas. Cada pregunta consta de 4 posibles respuestas con solo una correcta. Para una persona que respondiese al azar, ¿qué distribución seguiría la v.a. que cuenta el número de preguntas acertadas?\n",
    "\n",
    "Da también la esperanza y la varianza de esta variable aleatoria.\n",
    "\n"
   ]
  },
  {
   "cell_type": "code",
   "execution_count": 22,
   "metadata": {},
   "outputs": [],
   "source": [
    "# La v.a. sigue una ditribución Binomial, ya que nos dice el porcentaje en que es probable obtener un resultado positivo\n",
    "# entre un número n de pruebas."
   ]
  },
  {
   "cell_type": "code",
   "execution_count": 24,
   "metadata": {},
   "outputs": [
    {
     "name": "stdout",
     "output_type": "stream",
     "text": [
      "50.0\n"
     ]
    }
   ],
   "source": [
    "n = 200\n",
    "p = 0.25 # son 4 respuestas pero solo una es correcta\n",
    "\n",
    "Esperanza = n * p\n",
    "print(Esperanza)"
   ]
  },
  {
   "cell_type": "code",
   "execution_count": 25,
   "metadata": {},
   "outputs": [
    {
     "name": "stdout",
     "output_type": "stream",
     "text": [
      "37.5\n"
     ]
    }
   ],
   "source": [
    "print(binom.stats(n, p, moments = 'v'))"
   ]
  },
  {
   "cell_type": "markdown",
   "metadata": {},
   "source": [
    "Un test de matemáticas consta de 200 preguntas de verdadero o falso. Para una persona que respondiese al azar y por orden, ¿qué distribución seguiría la v.a. que cuenta el número de preguntas respondidas hasta el primer acierto?\n",
    "\n",
    "Da también la esperanza y la varianza de esta variable aleatoria."
   ]
  },
  {
   "cell_type": "code",
   "execution_count": 26,
   "metadata": {},
   "outputs": [],
   "source": [
    "# Se trata de una distribución Geométrica, porque esta funcion se modela por la probabilidad de exito asociada a n intentos. "
   ]
  },
  {
   "cell_type": "code",
   "execution_count": 38,
   "metadata": {},
   "outputs": [
    {
     "name": "stdout",
     "output_type": "stream",
     "text": [
      "1.0\n"
     ]
    }
   ],
   "source": [
    "from scipy.stats import geom\n",
    "\n",
    "p = 0.5\n",
    "\n",
    "Esperanza = (1-p)/p\n",
    "print(Esperanza)"
   ]
  },
  {
   "cell_type": "code",
   "execution_count": 43,
   "metadata": {},
   "outputs": [
    {
     "name": "stdout",
     "output_type": "stream",
     "text": [
      "2.0\n"
     ]
    }
   ],
   "source": [
    "varianza = (1-p)/p**2\n",
    "print(varianza)"
   ]
  },
  {
   "cell_type": "markdown",
   "metadata": {},
   "source": [
    "Para evitar ser arrestado al pasar el control de seguridad, un viajero ha colocado 7 pastillas de droga en una botella que contiene 14 píldoras de vitaminas, las cuales son muy similares a las otras. Si el policía de turno selecciona 4 pastillas aleatoriamente para analizarlas, ¿qué distribución sigue la v.a. que cuenta el número de pastillas de droga?"
   ]
  },
  {
   "cell_type": "code",
   "execution_count": 45,
   "metadata": {},
   "outputs": [],
   "source": [
    "# Se trata de una hipergeometrica, porque hay dos elementos de diferente tipo y se toman aleatoriamente cualesquiera de los\n",
    "# dos sin retornarlos. "
   ]
  },
  {
   "cell_type": "code",
   "execution_count": null,
   "metadata": {},
   "outputs": [],
   "source": [
    "# [M, n, N] = [14, 7, 4]"
   ]
  },
  {
   "cell_type": "markdown",
   "metadata": {},
   "source": [
    "Un servicio dedicado a la reparación de aires acondicionados recibe de media 27 llamadas diarias. ¿Qué distribución sigue la v.a. que cuenta el número de llamadas diarias?"
   ]
  },
  {
   "cell_type": "code",
   "execution_count": 48,
   "metadata": {},
   "outputs": [],
   "source": [
    "# Es una Poisson, porque mide la cantidad de observaciones en un periodo de tiempo determinado. \n",
    "\n",
    "# Donde: \n",
    "\n",
    "k = 27"
   ]
  },
  {
   "cell_type": "markdown",
   "metadata": {},
   "source": [
    "Se lanza 53 veces un dado. ¿Qué distribución sigue la v.a. que cuenta cuántas veces ha salido un número impar? ¿Y la v.a. que cuenta el número de veces que ha salido un número par? ¿Y la v.a. que cuenta las veces que hemos obtenido exactamente el número \"5\"?"
   ]
  },
  {
   "cell_type": "code",
   "execution_count": null,
   "metadata": {},
   "outputs": [],
   "source": [
    "# Se trata de una distribución binominal negativa. \n",
    "\n",
    "# Numero par\n",
    "NP(k = 53, p = 3/6)\n",
    "\n",
    "# Numero impar\n",
    "\n",
    "NI(k = 53, p = 3/6)\n",
    "\n",
    "# Numero 5\n",
    "\n",
    "N5(k = 53, p = 1/6) "
   ]
  },
  {
   "cell_type": "markdown",
   "metadata": {},
   "source": [
    "El precio medio del litro de gasolina durante el próximo año se estima que puede oscilar entre 1.09€ y 2.53€. ¿De qué distribución de probabilidad se trata?\n",
    "\n",
    "Da la esperanza"
   ]
  },
  {
   "cell_type": "code",
   "execution_count": 49,
   "metadata": {},
   "outputs": [
    {
     "name": "stdout",
     "output_type": "stream",
     "text": [
      "1.81\n"
     ]
    }
   ],
   "source": [
    "# Es una distribución continua, ya que modela el elegir un elemento del intervalo  [𝑎,𝑏]  de manera equiprobable\n",
    "\n",
    "a = 1.09\n",
    "b = 2.53\n",
    " \n",
    "Esperanza = (a+b)/2\n",
    "print(Esperanza)"
   ]
  },
  {
   "cell_type": "markdown",
   "metadata": {},
   "source": [
    "En una tienda del centro comercial, el tiempo medio de cola para poder pagar en caja es de 7 minutos. ¿De qué distribución de probabilidad se trata?\n",
    "\n",
    "Da la esperanza y varianza"
   ]
  },
  {
   "cell_type": "code",
   "execution_count": null,
   "metadata": {},
   "outputs": [],
   "source": [
    "# Es una distribucion exponencial porque hace alusiomn al tiempo de espera, es decir, el tiempo que pasa entre \n",
    "# dos sucesos consecutivos. \n",
    "\n",
    "lam = 7\n",
    "\n",
    "Esperanza = 1/7\n",
    "print(Espera)"
   ]
  }
 ],
 "metadata": {
  "kernelspec": {
   "display_name": "Python 3",
   "language": "python",
   "name": "python3"
  },
  "language_info": {
   "codemirror_mode": {
    "name": "ipython",
    "version": 3
   },
   "file_extension": ".py",
   "mimetype": "text/x-python",
   "name": "python",
   "nbconvert_exporter": "python",
   "pygments_lexer": "ipython3",
   "version": "3.7.4"
  }
 },
 "nbformat": 4,
 "nbformat_minor": 4
}
