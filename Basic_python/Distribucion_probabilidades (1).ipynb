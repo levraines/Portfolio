{
 "cells": [
  {
   "cell_type": "markdown",
   "metadata": {},
   "source": [
    "# Conceptos básicos\n",
    "\n",
    "## Experimento aleatorio\n",
    "\n",
    "<l class = \"definition\">Experimento aleatorio. </l> Experimento que efectuado en las mismas condiciones puede dar lugar a resultados diferentes\n",
    "\n",
    "<l class = \"definition\">Suceso elemental. </l> Cada uno de los posibles resultados del experimento aleatorio\n",
    "\n",
    "<l class = \"definition\">Espacio muestral. </l> Conjunto $\\Omega$ formado por todos los sucesos elementales del experimento aleatorio\n",
    "\n",
    "<div class = \"example\">\n",
    "**Ejemplo**\n",
    "\n",
    "Lanzar una moneda es un experimento aleatorio\n",
    "\n",
    "Los sucesos elementales son: sacar cara ($C$) y sacar cruz ($+$)\n",
    "\n",
    "El espacio muestral de este experimento aleatorio es $\\Omega = \\{C,+\\}$\n",
    "</div>\n",
    "\n",
    "## Sucesos\n",
    "\n",
    "<l class = \"definition\">Suceso. </l> Subconjunto del espacio muestral\n",
    "\n",
    "<l class = \"definition\">Suceso total o seguro. </l> $\\Omega$\n",
    "\n",
    "<l class = \"definition\">Suceso vacío o imposible. </l> $\\emptyset$\n",
    "\n",
    "<div class = \"example\">\n",
    "**Ejemplo**\n",
    "\n",
    "Lanzar un dado es un experimento aleatorio\n",
    "\n",
    "Algunos sucesos podrían ser: sacar número par ($\\{2,4,6\\}$), sacar mayor que 4 ($\\{5,6\\}$), sacar número múltiplo de 3 ($\\{3,6\\}$)...\n",
    "\n",
    "El suceso total de este experimento aleatorio es $\\Omega = \\{1,2,3,4,5,6\\}$\n",
    "\n",
    "Un ejemplo de suceso imposible de este experimento aleatorio es $\\emptyset = \\{7\\}$ (sacar 7)\n",
    "</div>\n",
    "\n",
    "\n",
    "## Sucesos\n",
    "\n",
    "<l class = \"prop\">Operaciones con sucesos. </l> Sean $A,B\\subseteq \\Omega$ sucesos. Entonces,\n",
    "\n",
    "- $A\\cup B$ es el suceso unión (resultados pertenecen a $A$, o a $B$, o a ambos)\n",
    "- $A\\cap B$ es el suceso intersección (resultados pertenecen a $A$ y $B$)\n",
    "- $A^c$ es el suceso complementario (resultados que no pertenecen a $A$)\n",
    "- $A-B = A\\cap B^c$ es el suceso diferencia (resultados que pertenecen a $A$ pero no a $B$)\n",
    "\n",
    "<l class = \"definition\">Sucesos incompatibles. </l> Si $A\\cap B = \\emptyset$\n",
    "\n",
    "## Probabilidad\n",
    "\n",
    "<l class = \"definition\">Probabilidad de un suceso. </l>Número entre 0 y 1 (ambos incluidos) que mide la expectativa de que se dé este suceso\n",
    "\n",
    "<div class = \"example\">\n",
    "**Ejemplo**\n",
    "\n",
    "- La probabilidad de sacar un 6 al lanzar un dado estándar no trucado es $\\frac{1}{6}$\n",
    "- La probabilidad de sacar un 6 al lanzar un dado de 4 caras es $0$\n",
    "- La probabilidad de sacar un 6 al lanzar un dado de 20 caras es $\\frac{1}{20}$\n",
    "\n",
    "</div>\n",
    "\n",
    "<div class = \"aligncenter\">\n",
    "![](Imgs/dado.png)\n",
    "</div>\n",
    "\n",
    "## Probabilidad\n",
    "\n",
    "<l class = \"definition\">Probabilidad. </l> Sea $\\Omega$ el espacio muestral de un experimento aleatorio. Suponiendo que $\\Omega$ es **finito**, una probabilidad sobre $\\Omega$ es una aplicación $$p: \\mathcal{P}(\\Omega)\\longrightarrow [0,1]$$ que satisface\n",
    "\n",
    "- $0\\le p(A)\\le 1 \\ \\forall A\\in\\mathcal{P}(\\Omega)$\n",
    "- $p(\\Omega) = 1$\n",
    "- Si $\\{A_1,\\dots,A_n\\}$ son sucesos incompatibles dos a dos ($A_i\\cap A_j=\\emptyset \\ \\forall i\\ne j$), entonces $$p(A_1\\cup\\cdots \\cup A_n)=p(A_1)+\\cdots+p(A_n)$$\n",
    "\n",
    "<l class = \"important\">Notación: </l> Si $a\\in\\Omega$, escribiremos $p(a)$ en vez de $p(\\{a\\})$\n",
    "\n",
    "# Variables aleatorias\n",
    "\n",
    "## Variable aleatoria\n",
    "\n",
    "<l class = \"definition\">Variable aleatoria. </l> Una variable aleatoria (v.a.) sobre $\\Omega$ es una aplicación $$X: \\Omega\\longrightarrow \\mathbb{R}$$ que asigna a cada suceso elemental $\\omega$ un número real $X(\\omega)$ \n",
    "\n",
    "Puede entenderse como una descripción numérica de los resultados de un experimento aleatorio\n",
    "\n",
    "<l class = \"definition\">Dominio de una variable aleatoria. </l> $D_X$, es el conjunto de los valores que puede tomar\n",
    "\n",
    "## Sucesos de variables aleatorias\n",
    "\n",
    "Una variable aleatoria puede definir sucesos, de los cuales queremos conocer la probabilidad $p$\n",
    "\n",
    "- $p(X=a) = p(\\{\\omega\\in\\Omega \\ |\\  X(\\omega) = a\\})$\n",
    "- $p(X<b) = p(\\{\\omega\\in\\Omega \\ |\\  X(\\omega) < b\\})$\n",
    "- $p(X\\le b) = p(\\{\\omega\\in\\Omega \\ |\\  X(\\omega) \\le b\\})$\n",
    "- $p(a<X) = p(\\{\\omega\\in\\Omega \\ |\\  a<X(\\omega)\\})$\n",
    "- $p(a\\le X) = p(\\{\\omega\\in\\Omega \\ |\\  a\\le X(\\omega)\\})$\n",
    "- $p(a\\le X\\le b) = p(\\{\\omega\\in\\Omega \\ |\\  a\\le X(\\omega) \\le b\\})$\n",
    "- $p(a< X< b) = p(\\{\\omega\\in\\Omega \\ |\\  a< X(\\omega) < b\\})$\n",
    "- $p(X\\in A) = p(\\{\\omega\\in\\Omega \\ |\\  X(\\omega)\\in A\\})$\n",
    "\n",
    "## Función de distribución\n",
    "\n",
    "<l class = \"definition\">Función de distribución de la v.a. $X$.</l> Es una función  $$F:\\mathbb{R}\\longrightarrow [0,1]$$ definida por $F(x)=p(X\\le x)$\n",
    "\n",
    "\n",
    "Sea $F$ una función de distribución de una v.a. $X$ y digamos $$F(a^-)=\\lim_{x\\rightarrow a^-}F(x)$$\n",
    "\n",
    "- $p(X\\le a)=F(a)$\n",
    "- $p(X<a)=\\lim_{b\\rightarrow a,\\  b<a}p(X\\le b) = \\lim_{b\\rightarrow a,\\  b<a} F(b) = F(a^-)$\n",
    "- $p(X=a) = p(X\\le a)-p(X<a)=F(a)-F(a^-)$\n",
    "- $p(a\\le X\\le b) = p(X\\le b)-p(X< a)=F(b)-F(a^-)$\n",
    "\n",
    "## Cuantiles\n",
    "\n",
    "<l class = \"definition\">Cuantil de orden $p$ de una v.a. $X$.</l> Es el $x_p\\in\\mathbb{R}$ más pequeño tal que $F(x_p)\\ge p$\n",
    "\n",
    "Nótese que la mediana es el cuantil de orden 0.5\n",
    "\n",
    "# Variables aleatorias discretas\n",
    "\n",
    "## Variable aleatoria discreta\n",
    "\n",
    "<l class = \"definition\">Variable aleatoria discreta.</l> Una v.a. $X:\\Omega\\longrightarrow \\mathbb{R}$ es discreta cuando $D_X$ es finito o un subconjunto de $\\mathbb{N}$ \n",
    "\n",
    "<l class = \"definition\">Función de probabilidad.</l> Es la función $f:\\mathbb{R}\\longrightarrow[0,1]$ definida por $$f(x) = p(X=x)$$\n",
    "\n",
    "Nótese que $f(x)=0$ si $x\\not\\in D_X$. Por tanto, interpretaremos la función de probabilidad como la función $$f:D_X\\longrightarrow [0,1]$$\n",
    "\n",
    "## Esperanza\n",
    "\n",
    "<l class = \"definition\">Esperanza de una v.a. discreta.</l> Sea $f:D_X\\longrightarrow[0,1]$ la función de probabilidad de $X$, entonces la esperanza respecto de la función de probabilidad es la suma ponderada de los elementos de $D_X$, multiplicando cada elemento $x$ de $D_X$ por su probabilidad, $$E(X) = \\sum_{x\\in D_X}x\\cdot f(x)$$\n",
    "\n",
    "Si $g:D_X\\longrightarrow \\mathbb{R}$ es una aplicación $$E(g(X))=\\sum_{x\\in D_X}g(x)\\cdot f(x)$$\n",
    "\n",
    "\n",
    "## Varianza\n",
    "\n",
    "<l class = \"definition\">Varianza de una v.a. discreta.</l> Sea $f:D_X\\longrightarrow[0,1]$ la función de probabilidad de $X$, entonces la varianza respecto de la función de probabilidad es el valor esperado de la diferencia al cuadrado entre $X$ y su valor medio $E(X)$, $$Var(X)= E((X-E(X))^2) $$\n",
    "\n",
    "La varianza mide como de variados son los resultados de $X$ respecto de la media\n",
    "\n",
    "<div class = \"exercise\"> **Ejercicio.** Demostrar la siguiente igualdad. $$Var(X)= E(X^2)-(E(X))^2$$</div>\n",
    "\n",
    "## Varianza\n",
    "\n",
    "Si $X$ es una v.a. discreta y $g:D_X\\longrightarrow \\mathbb{R}$ una función, $$Var(g(X))=E((g(X)-E(g(X)))^2)=E(g(X)^2)-(E(g(X)))^2$$\n",
    "\n",
    "## Desviación típica\n",
    "\n",
    "<l class = \"definition\">Desviación típica de una v.a. discreta.</l> Sea $f:D_X\\longrightarrow[0,1]$ la función de probabilidad de $X$, entonces la desviación típica respecto de la función de probabilidad es $$\\sigma(X)=\\sqrt{Var(X)}$$\n",
    "\n",
    "Las unidades de la varianza son las de $X$ al cuadrado. En cambio, las de la desviación típica son las mismas unidades que las de $X$\n",
    "\n",
    "Si $X$ es una v.a. discreta y $g:D_X\\longrightarrow \\mathbb{R}$ una función, $$\\sigma(g(X))=\\sqrt{Var(g(X))}$$\n",
    "\n",
    "# Distribuciones de probabilidad\n",
    "\n",
    "## Distribución de probabilidad\n",
    "\n",
    "<l class = \"definition\">[Distribución de probabilidad](https://es.wikipedia.org/wiki/Distribución_de_probabilidad).</l> En teoría de la probabilidad y estadística, la distribución de probabilidad de una variable aleatoria es una función que asigna a cada suceso definido sobre la variable la probabilidad de que dicho suceso ocurra.\n"
   ]
  },
  {
   "cell_type": "markdown",
   "metadata": {},
   "source": [
    "## Distribuciones en `Python`\n",
    "\n",
    "Dada cualquier variable aleatoria, en `Python` tenemos las mismas cuatro funciones, sin que su nombre dependa de la misma:\n",
    "\n",
    "- `pmf(k,...)` o `pdf(x,...)`: Función de probabilidad $f(k)$ o de densidad $f(x)$ de la variable aleatoria para los valores $k$ o $x$ del dominio.\n",
    "- `cdf(x,...)`: Función de distribución $F(x)$ de la variable aleatoria para el valor $k$ del dominio.\n",
    "- `ppf(p,...)`: Cuantil $p$-ésimo de la variable aleatoria (el valor de $x$ más pequeño tal que $F(x)\\geq p$).\n",
    "- `rvs(size,...)`: Generador de $size$ observaciones siguiendo la distribución de la variable aleatoria.\n",
    "\n",
    "También vale la pena conocer la función `stats(moments='mvsk')` que nos devuelve cuatro valores con los estadísticos de la media `m`, la varianza `v`, el sesgo `s` y la curtosis `k` de la distribución.\n",
    "\n",
    "# Distribuciones discretas más conocidas\n",
    "\n",
    "## Distribuciones discretas \n",
    "\n",
    "- [Bernoulli](https://es.wikipedia.org/wiki/Distribución_de_Bernoulli)\n",
    "- [Binomial](https://es.wikipedia.org/wiki/Distribución_binomial)\n",
    "- [Geométrica](https://es.wikipedia.org/wiki/Distribución_geométrica)\n",
    "- [Hipergeométrica](https://es.wikipedia.org/wiki/Distribución_hipergeométrica)\n",
    "- [Poisson](https://es.wikipedia.org/wiki/Distribución_de_Poisson)\n",
    "- [Binomial Negativa](https://es.wikipedia.org/wiki/Distribución_binomial_negativa)"
   ]
  },
  {
   "cell_type": "markdown",
   "metadata": {},
   "source": [
    "## Distribuciones de Probabilidad"
   ]
  },
  {
   "cell_type": "markdown",
   "metadata": {},
   "source": [
    "#### **Distribucion de Bernoulli**: es una distribución de probabilidad discreta.\n",
    "\n",
    "Toma valor 1 para la probabilidad de éxito $p$ y valor 0 para la probabilidad de fracaso $q = 1 - p$\n",
    "\n",
    "Si $X$ es variable aleatoria que mide el \"numero de exitos\" y se realiza un unico experimento con dos posibles resultados (exito, que toma valor de 1, o fracaso, que toma el valor de 0), diremos que $X$ se distribuye como una Bernoulli con parametro $p$:\n",
    "\n",
    "$X$ ~ $Be(p)$\n",
    "\n",
    "donde $p$ es la probabilidad de exito y que $q = 1 - p$ es la probabilidad de fracaso.\n",
    "\n",
    "* El dominio de $X$ sera $X(\\Omega) = {0,1}$\n",
    "* La funcion de probabilidad vendra por:\n",
    "\n",
    "$$    \n",
    "f(k) = p^k(1-p)^{1-k} = \\left\\{\n",
    "\\begin{array}{rl}\n",
    "        p & \\text{si } k=1\n",
    "        \\\\ 1-p & \\text{si } k=0\n",
    "        \\\\ 0& \\text{en cualquier otro caso}\n",
    "\\end{array}\n",
    "\\right.\n",
    "$$"
   ]
  },
  {
   "cell_type": "markdown",
   "metadata": {},
   "source": [
    "Ejemplo: tirar una moneda y que salga cara o cruz, es exito o fracaso. \n",
    "\n",
    "La distribucion vendra dada por:\n",
    "\n",
    "$$    \n",
    "f(k)  = \\left\\{\n",
    "\\begin{array}{rl}\n",
    "      0 & \\text{si } \\ k < 0\\\\\n",
    "      q & \\text{si } \\ 0 ≤  k < 1 \\\\\n",
    "      1 & \\text{si } \\ k ≥ 1\n",
    "\\end{array}\n",
    "\\right.\n",
    "$$\n",
    "\n",
    "* Esperanza $E(X) = p$\n",
    "* Varianza $Var(X) = pq$\n",
    "\n",
    "#### Funcion de densidad:\n",
    "\n",
    "\n",
    "\n",
    "$$f(k) = p^k(1-p)^{1-p},\\ k\\in \\{0,1\\}$$\n",
    "\n",
    "## Distribución de Bernoulli\n",
    "\n",
    "El código de la distribución de Beroulli:\n",
    "\n",
    "- En `R` tenemos las funciones del paquete `Rlab`: `dbenr(x,prob), pbenr(q,prob), qbenr(p,prob), rbenr(n, prob)` donde `prob` es la probabilidad de éxito.\n",
    "- En `Python` tenemos las funciones del paquete `scipy.stats.bernoulli`: `pmf(k,p), cdf(k,p), ppf(q,p), rvs(p, size)` donde `p` es la probabilidad de éxito."
   ]
  },
  {
   "cell_type": "markdown",
   "metadata": {},
   "source": [
    "### Experimentos de probabilidad:"
   ]
  },
  {
   "cell_type": "markdown",
   "metadata": {},
   "source": [
    "### Ejemplo:\n",
    "\n",
    "Sea $X = Be(p =0.7)$, la distribucion que modela la probabilidad de obtener una cara usando una moneda trucada (se puede usar tambien para saber si aprobar un examen o no, si tener una enfermedad o no, etc.)."
   ]
  },
  {
   "cell_type": "code",
   "execution_count": 1,
   "metadata": {},
   "outputs": [],
   "source": [
    "from scipy.stats import bernoulli\n",
    "import matplotlib.pyplot as plt"
   ]
  },
  {
   "cell_type": "code",
   "execution_count": 2,
   "metadata": {},
   "outputs": [],
   "source": [
    "p = 0.7"
   ]
  },
  {
   "cell_type": "code",
   "execution_count": 8,
   "metadata": {},
   "outputs": [
    {
     "data": {
      "text/plain": [
       "0.7"
      ]
     },
     "execution_count": 8,
     "metadata": {},
     "output_type": "execute_result"
    }
   ],
   "source": [
    "bernoulli.pmf(1, p) # probabilidad de obtener un exito."
   ]
  },
  {
   "cell_type": "code",
   "execution_count": 10,
   "metadata": {},
   "outputs": [
    {
     "data": {
      "text/plain": [
       "0.30000000000000004"
      ]
     },
     "execution_count": 10,
     "metadata": {},
     "output_type": "execute_result"
    }
   ],
   "source": [
    "bernoulli.pmf(0, p) # probabilidad de obtener un fracaso. "
   ]
  },
  {
   "cell_type": "code",
   "execution_count": 12,
   "metadata": {},
   "outputs": [
    {
     "data": {
      "text/plain": [
       "1.0"
      ]
     },
     "execution_count": 12,
     "metadata": {},
     "output_type": "execute_result"
    }
   ],
   "source": [
    "bernoulli.cdf(1, p) # probabilidad acumulada de obtener un exito."
   ]
  },
  {
   "cell_type": "code",
   "execution_count": 15,
   "metadata": {},
   "outputs": [
    {
     "data": {
      "text/plain": [
       "0.30000000000000004"
      ]
     },
     "execution_count": 15,
     "metadata": {},
     "output_type": "execute_result"
    }
   ],
   "source": [
    "bernoulli.cdf(0, p) # probabilidad acumulada de obtener un fracaso. "
   ]
  },
  {
   "cell_type": "code",
   "execution_count": 18,
   "metadata": {},
   "outputs": [
    {
     "data": {
      "text/plain": [
       "0.0"
      ]
     },
     "execution_count": 18,
     "metadata": {},
     "output_type": "execute_result"
    }
   ],
   "source": [
    "bernoulli.ppf(0.25, p) # el 25% de los datos o menos tendran un fracaso"
   ]
  },
  {
   "cell_type": "code",
   "execution_count": 22,
   "metadata": {},
   "outputs": [
    {
     "data": {
      "text/plain": [
       "1.0"
      ]
     },
     "execution_count": 22,
     "metadata": {},
     "output_type": "execute_result"
    }
   ],
   "source": [
    "bernoulli.ppf(0.50, p) # el 50% de los datos o menos tendran un exito"
   ]
  },
  {
   "cell_type": "code",
   "execution_count": 24,
   "metadata": {},
   "outputs": [
    {
     "data": {
      "text/plain": [
       "1.0"
      ]
     },
     "execution_count": 24,
     "metadata": {},
     "output_type": "execute_result"
    }
   ],
   "source": [
    "bernoulli.ppf(0.75, p) # el 75% de los datos o menos tendran un exito"
   ]
  },
  {
   "cell_type": "code",
   "execution_count": 26,
   "metadata": {},
   "outputs": [
    {
     "data": {
      "text/plain": [
       "1.0"
      ]
     },
     "execution_count": 26,
     "metadata": {},
     "output_type": "execute_result"
    }
   ],
   "source": [
    "bernoulli.ppf(1, p) # el 100% de los datos o menos tendran un exito."
   ]
  },
  {
   "cell_type": "code",
   "execution_count": 3,
   "metadata": {},
   "outputs": [],
   "source": [
    "mean, var, skew, kurt = bernoulli.stats(p, moments = 'mvsk')"
   ]
  },
  {
   "cell_type": "code",
   "execution_count": 4,
   "metadata": {},
   "outputs": [
    {
     "name": "stdout",
     "output_type": "stream",
     "text": [
      "Media 0.700000\n",
      "Varianza 0.210000\n",
      "Sesgo -0.872872\n",
      "Curtosis -1.238095\n"
     ]
    }
   ],
   "source": [
    "print(\"Media %f\"% mean) # es el valor que mas se repite. \n",
    "print(\"Varianza %f\"% var)\n",
    "print(\"Sesgo %f\"% skew) # sesgo a la izquierda. \n",
    "print(\"Curtosis %f\"% kurt)"
   ]
  },
  {
   "cell_type": "code",
   "execution_count": 5,
   "metadata": {},
   "outputs": [
    {
     "data": {
      "image/png": "[encoded data removed]",
      "text/plain": [
       "<Figure size 432x288 with 1 Axes>"
      ]
     },
     "metadata": {
      "needs_background": "light"
     },
     "output_type": "display_data"
    }
   ],
   "source": [
    "fix, ax = plt.subplots(1,1)\n",
    "x = bernoulli.rvs(p, size = 1000)\n",
    "ax.plot(x)\n",
    "plt.show()\n",
    "\n",
    "# valor relleno es un exito y un valor vacio es un fracaso. "
   ]
  },
  {
   "cell_type": "markdown",
   "metadata": {},
   "source": [
    "#### Ejemplo con muestras y tamanos: "
   ]
  },
  {
   "cell_type": "code",
   "execution_count": 6,
   "metadata": {},
   "outputs": [
    {
     "data": {
      "image/png": "[encoded data removed]",
      "text/plain": [
       "<Figure size 432x288 with 1 Axes>"
      ]
     },
     "metadata": {
      "needs_background": "light"
     },
     "output_type": "display_data"
    }
   ],
   "source": [
    "fix, ax = plt.subplots(1,1)\n",
    "x = bernoulli.rvs(p, size = 1000)\n",
    "ax.hist(x)\n",
    "plt.show()"
   ]
  },
  {
   "cell_type": "markdown",
   "metadata": {},
   "source": [
    "#### **Distribucion Binomial** es una distribución de probabilidad discreta.\n",
    "\n",
    "Nos dice el porcentaje en que es probable obtener un resultado entre dos posibles al realizar un número n de pruebas. \n",
    "\n",
    "Si $X$ es variable aleatoria que mide el \"numero de exitos\" y se realizan $n$ ensayos de Bernoulli independientes entre si, diremos que $X$ se distribuye como una Binomial con parametros $n$ y $p$.\n",
    "\n",
    "$X$ ~ $B(n,p)$\n",
    "\n",
    "donde $p$ es la probabilidad de exito y $q = 1-p$ es la probabilidd de frascaso.\n",
    "\n",
    "* El domonio de $X$ sera $D_{X} = {0,1,2,..., n}$\n",
    "* La funcion de densidad vendra dada por:\n",
    "\n",
    "$$f(k) = (\\frac{n}{k})p^{k}(1-p)^{n-k}$$\n",
    "En este caso, la probabilidad puede ser 1, 2, 3, ..., n. \n",
    "\n",
    "- La **función de distribución** vendrá dada por \n",
    "\n",
    "$$F(x) = \\left\\{\n",
    "\\begin{array}{cl}\n",
    "     0 & \\text{si } x<0 \n",
    "  \\\\ \\sum_{k=0}^xf(k) & \\text{si } 0\\le x<n\n",
    "  \\\\ 1 & \\text{si } x\\ge n\n",
    "\\end{array}\n",
    "\\right.$$\n",
    "\n",
    "\n",
    "- **Esperanza** $E(X) = np$\n",
    "- **Varianza** $Var(X) = npq$\n",
    "\n",
    "<l class = \"important\">Atención.</l> Observar que la distribución de Bernoulli es un caso particular de la Binomial. Basta tomar $n=1$ y tendremos que $X\\sim \\text{Be}(p)$ y $X\\sim\\text{B}(1,p)$ son equivalentes.\n",
    "\n",
    "## Distribución Binomial\n",
    "\n",
    "El código de la distribución Binomial:\n",
    "\n",
    "- En `R` tenemos las funciones del paquete `Rlab`: `dbinom(x, size, prob), pbinom(q,size, prob), qbinom(p, size, prob), rbinom(n, size, prob)` donde `prob` es la probabilidad de éxito y `size` el número de ensayos del experimento.\n",
    "- En `Python` tenemos las funciones del paquete `scipy.stats.binom`: `pmf(k,n,p), cdf(k,n,p), ppf(q,n,p), rvs(n, p, size)` donde `p` es la probabilidad de éxito y `n` el número de ensayos del experimento.\n",
    "\n"
   ]
  },
  {
   "cell_type": "markdown",
   "metadata": {},
   "source": [
    "#### Ejemplo:"
   ]
  },
  {
   "cell_type": "markdown",
   "metadata": {},
   "source": [
    "Teniendo una n de 7 experimentos y una probabilida de 0.4, calcular las probabilidad asociadas:"
   ]
  },
  {
   "cell_type": "code",
   "execution_count": 2,
   "metadata": {},
   "outputs": [
    {
     "name": "stdout",
     "output_type": "stream",
     "text": [
      "Media 2.800000\n",
      "Varianza 1.680000\n",
      "Sesgo 0.154303\n",
      "Curtosis -0.261905\n"
     ]
    },
    {
     "data": {
      "image/png": "[encoded data removed]",
      "text/plain": [
       "<Figure size 432x288 with 1 Axes>"
      ]
     },
     "metadata": {
      "needs_background": "light"
     },
     "output_type": "display_data"
    }
   ],
   "source": [
    "from scipy.stats import binom\n",
    "import numpy as np\n",
    "\n",
    "ig, ax = plt.subplots(1,1)\n",
    "n = 7\n",
    "p = 0.4\n",
    "\n",
    "mean, var, skew, kurt = binom.stats(n, p, moments = 'mvsk')\n",
    "\n",
    "print(\"Media %f\"% mean) # es el valor que mas se repite. \n",
    "print(\"Varianza %f\"% var)\n",
    "print(\"Sesgo %f\"% skew) # sesgo a la derecha, positivo.\n",
    "print(\"Curtosis %f\"% kurt) # tiene una concentracion de datos y luego baja a la derecha. \n",
    "\n",
    "x = np.arange(0, n+1) # n+1 porque python empieza en 0. \n",
    "ax.plot(x, binom.pmf(x,n,p), 'bo', ms = 8, label = 'Funcion de densidad de B(7,0.4)')\n",
    "ax.vlines(x, 0, binom.pmf(x,n,p), colors = 'b', lw = 4, alpha = 0.5)\n",
    "\n",
    "rv = binom(n,p)\n",
    "ax.vlines(x,0,rv.pmf(x), colors = \"k\", linestyles = \"--\", lw = 1, label = \"Distribucion teorica\")\n",
    "\n",
    "ax.legend(loc = \"upper left\", frameon = False)\n",
    "\n",
    "plt.show()"
   ]
  },
  {
   "cell_type": "code",
   "execution_count": 8,
   "metadata": {},
   "outputs": [
    {
     "name": "stdout",
     "output_type": "stream",
     "text": [
      "[1 2 4 3 4 1 3 4 4 3]\n"
     ]
    }
   ],
   "source": [
    "r = binom.rvs(n, p, size = 10)\n",
    "print(r) # los valores aleatorios obtenidos de rango 1 a 7. "
   ]
  },
  {
   "cell_type": "code",
   "execution_count": 11,
   "metadata": {},
   "outputs": [
    {
     "data": {
      "image/png": "[encoded data removed]",
      "text/plain": [
       "<Figure size 432x288 with 1 Axes>"
      ]
     },
     "metadata": {
      "needs_background": "light"
     },
     "output_type": "display_data"
    }
   ],
   "source": [
    "fix,ax = plt.subplots(1,1)\n",
    "r = binom.rvs(n,p, size = 10000)\n",
    "ax.hist(r, bins = n)\n",
    "plt.show()"
   ]
  },
  {
   "cell_type": "markdown",
   "metadata": {},
   "source": [
    "#### Ejemplo 2:"
   ]
  },
  {
   "cell_type": "markdown",
   "metadata": {},
   "source": [
    "Teniendo una n de 11 experimentos y una probabilida de 0.5, calcular las probabilidad asociadas: (recordar que en este caso se tiene que para 11 experimentos sacar los numeros (valores de exitos) con la misma probabilidad de salir y siendo independientes entre ellos). "
   ]
  },
  {
   "cell_type": "code",
   "execution_count": 25,
   "metadata": {},
   "outputs": [],
   "source": [
    "n = 11 # probabilidad de exitos a obtener\n",
    "p = 0.5 # probabilidad asociada\n",
    "k = np.arange(0, 77)"
   ]
  },
  {
   "cell_type": "code",
   "execution_count": 18,
   "metadata": {},
   "outputs": [
    {
     "data": {
      "text/plain": [
       "array([0.00048828, 0.00537109, 0.02685547, 0.08056641, 0.16113281,\n",
       "       0.22558594, 0.22558594, 0.16113281, 0.08056641, 0.02685547,\n",
       "       0.00537109, 0.00048828, 0.        , 0.        , 0.        ,\n",
       "       0.        , 0.        , 0.        , 0.        , 0.        ,\n",
       "       0.        , 0.        , 0.        , 0.        , 0.        ,\n",
       "       0.        , 0.        , 0.        , 0.        , 0.        ,\n",
       "       0.        , 0.        , 0.        , 0.        , 0.        ,\n",
       "       0.        , 0.        , 0.        , 0.        , 0.        ,\n",
       "       0.        , 0.        , 0.        , 0.        , 0.        ,\n",
       "       0.        , 0.        , 0.        , 0.        , 0.        ,\n",
       "       0.        , 0.        , 0.        , 0.        , 0.        ,\n",
       "       0.        , 0.        , 0.        , 0.        , 0.        ,\n",
       "       0.        , 0.        , 0.        , 0.        , 0.        ,\n",
       "       0.        , 0.        , 0.        , 0.        , 0.        ,\n",
       "       0.        , 0.        , 0.        , 0.        , 0.        ,\n",
       "       0.        , 0.        ])"
      ]
     },
     "execution_count": 18,
     "metadata": {},
     "output_type": "execute_result"
    }
   ],
   "source": [
    "binom.pmf(k, n, p)\n",
    "# Recordar que: \n",
    "\n",
    "# Para n =1, hay una probabilidad de obtener 0.00048828, para n = 2, 0.00537109 (...)"
   ]
  },
  {
   "cell_type": "code",
   "execution_count": 20,
   "metadata": {},
   "outputs": [
    {
     "data": {
      "text/plain": [
       "array([4.88281250e-04, 5.85937500e-03, 3.27148437e-02, 1.13281250e-01,\n",
       "       2.74414062e-01, 5.00000000e-01, 7.25585938e-01, 8.86718750e-01,\n",
       "       9.67285156e-01, 9.94140625e-01, 9.99511719e-01, 1.00000000e+00,\n",
       "       1.00000000e+00, 1.00000000e+00, 1.00000000e+00, 1.00000000e+00,\n",
       "       1.00000000e+00, 1.00000000e+00, 1.00000000e+00, 1.00000000e+00,\n",
       "       1.00000000e+00, 1.00000000e+00, 1.00000000e+00, 1.00000000e+00,\n",
       "       1.00000000e+00, 1.00000000e+00, 1.00000000e+00, 1.00000000e+00,\n",
       "       1.00000000e+00, 1.00000000e+00, 1.00000000e+00, 1.00000000e+00,\n",
       "       1.00000000e+00, 1.00000000e+00, 1.00000000e+00, 1.00000000e+00,\n",
       "       1.00000000e+00, 1.00000000e+00, 1.00000000e+00, 1.00000000e+00,\n",
       "       1.00000000e+00, 1.00000000e+00, 1.00000000e+00, 1.00000000e+00,\n",
       "       1.00000000e+00, 1.00000000e+00, 1.00000000e+00, 1.00000000e+00,\n",
       "       1.00000000e+00, 1.00000000e+00, 1.00000000e+00, 1.00000000e+00,\n",
       "       1.00000000e+00, 1.00000000e+00, 1.00000000e+00, 1.00000000e+00,\n",
       "       1.00000000e+00, 1.00000000e+00, 1.00000000e+00, 1.00000000e+00,\n",
       "       1.00000000e+00, 1.00000000e+00, 1.00000000e+00, 1.00000000e+00,\n",
       "       1.00000000e+00, 1.00000000e+00, 1.00000000e+00, 1.00000000e+00,\n",
       "       1.00000000e+00, 1.00000000e+00, 1.00000000e+00, 1.00000000e+00,\n",
       "       1.00000000e+00, 1.00000000e+00, 1.00000000e+00, 1.00000000e+00,\n",
       "       1.00000000e+00])"
      ]
     },
     "execution_count": 20,
     "metadata": {},
     "output_type": "execute_result"
    }
   ],
   "source": [
    "binom.cdf(k, n, p)\n",
    "\n",
    "# Recordar que esta es la funcion de probabilidad acumulada: \n",
    "\n",
    "# Para n =1, hay una probabilidad de obtener 4.88281250e-04, para n = 2, 5.85937500e-03 (...)"
   ]
  },
  {
   "cell_type": "code",
   "execution_count": 21,
   "metadata": {},
   "outputs": [
    {
     "data": {
      "text/plain": [
       "4.0"
      ]
     },
     "execution_count": 21,
     "metadata": {},
     "output_type": "execute_result"
    }
   ],
   "source": [
    "binom.ppf(0.25, n, p) # el 25% del experimento es o esta por debajo de 4 exitos. "
   ]
  },
  {
   "cell_type": "code",
   "execution_count": 23,
   "metadata": {},
   "outputs": [
    {
     "data": {
      "text/plain": [
       "6.0"
      ]
     },
     "execution_count": 23,
     "metadata": {},
     "output_type": "execute_result"
    }
   ],
   "source": [
    "binom.ppf(0.5, n, p) # el 50% del experimento es o esta por debajo de 6 exitos. "
   ]
  },
  {
   "cell_type": "code",
   "execution_count": 26,
   "metadata": {},
   "outputs": [
    {
     "data": {
      "text/plain": [
       "array([5, 6, 7, 8, 4, 4, 7, 3, 4, 4, 5, 8, 8, 6, 5, 6, 7, 7, 5, 6])"
      ]
     },
     "execution_count": 26,
     "metadata": {},
     "output_type": "execute_result"
    }
   ],
   "source": [
    "binom.rvs(n, p, size = 20) # asi se obtienen los valores independientes y con la misma probabilidad"
   ]
  },
  {
   "cell_type": "code",
   "execution_count": 35,
   "metadata": {},
   "outputs": [
    {
     "data": {
      "image/png": "[encoded data removed]",
      "text/plain": [
       "<Figure size 432x288 with 1 Axes>"
      ]
     },
     "metadata": {
      "needs_background": "light"
     },
     "output_type": "display_data"
    }
   ],
   "source": [
    "fix,ax = plt.subplots(1,1)\n",
    "plt.title(\"Probabilidades de X cantidad de numeros independientes\")\n",
    "r = binom.rvs(n,p, size = 20)\n",
    "ax.hist(r, bins = n)\n",
    "plt.show()\n",
    "\n",
    "# Representaciomn grafica "
   ]
  },
  {
   "cell_type": "markdown",
   "metadata": {},
   "source": [
    "#### **Distribución Geométrica** distribucion de probabilidad discreta:\n",
    "\n",
    "Si $X$ es variable aleatoria que mide el \"número de repeticiones independientes del experimento hasta haber conseguido éxito\", diremos que $X$ se distribuye como una Geométrica con parámetro $p$\n",
    "\n",
    "$$X\\sim \\text{Ge}(p)$$\n",
    "donde $p$ es la probabilidad de éxito y $q = 1-p$ es la probabilidad de fracaso\n",
    "\n",
    "- El **dominio** de $X$ será $D_X= \\{0,1,2,\\dots\\}$ o bien $D_X = \\{1,2,\\dots\\}$ en función de si empieza en 0 o en 1, respectivamente\n",
    "\n",
    "- La **función de probabilidad** vendrá dada por $$f(k) = (1-p)^{k}p \\qquad\\text{ si empieza en 0}$$\n",
    "$$f(k) = (1-p)^{k-1}p \\qquad\\text{ si empieza en 1}$$\n",
    "\n",
    "### Ejemplo: \n",
    "\n",
    "Recordar que esta funcion se modela por la probabilidad de exito asociada, entonces un ejemplo puede ser:\n",
    "\n",
    "1. Si una persona esta ebria, y anda un juego de llaves y tiene n cantodad de llaves, entonces tienen que probar n veces hasta tener un exito. Sin embargo, tener cuidado porque se puede probar 500 veces y hay un fallo, pero se prueba 100 mas y hay fallo, entonces no hay exito.\n",
    "2. Cuando una pareja intenta quedar embarazada, el exito va a estar modelado por cuando la mujer logre quedar embarazada. \n",
    "\n",
    "\n",
    "#### Distribución Geométrica\n",
    "\n",
    "- La **función de distribución** vendrá dada por \n",
    "\n",
    "$$F(x) = \\left\\{\n",
    "\\begin{array}{cl}\n",
    "     0 & \\text{si } x<0 \n",
    "  \\\\ 1-(1-p)^{k+1} & \\text{si } k\\le x<k+1,\\ k\\in\\mathbb{N}\n",
    "\\end{array}\n",
    "\\right.$$ \n",
    "\n",
    "\n",
    "- **Esperanza** $E(X) = \\frac{1-p}{p}$ si empieza en 0 y E$(X) = \\frac{1}{p}$ si empieza en 1\n",
    "- **Varianza** $Var(X) = \\frac{1-p}{p^2}$\n",
    "- <l class = \"prop\">Propiedad de la falta de memoria.</l> Si $X$ es una v.a. $\\text{Ge}(p)$, entonces, $$p\\{X\\ge m+n:\\ X\\ge n\\} = p\\{X\\ge m\\}\\ \\forall m,n=0,1,\\dots$$\n",
    "\n",
    "\n",
    "#### Distribución Geométrica\n",
    "\n",
    "El código de la distribución Geométrica:\n",
    "\n",
    "- En `R` tenemos las funciones del paquete `Rlab`: `dgeom(x, prob), pgeom(q, prob), qgeom(p, prob), rgeom(n, prob)` donde `prob` es la probabilidad de éxito  del experimento.\n",
    "- En `Python` tenemos las funciones del paquete `scipy.stats.geom`: `pmf(k,p), cdf(k,p), ppf(q,p), rvs(p, size)` donde `p` es la probabilidad de éxito del experimento."
   ]
  },
  {
   "cell_type": "code",
   "execution_count": 36,
   "metadata": {},
   "outputs": [],
   "source": [
    "from scipy.stats import geom"
   ]
  },
  {
   "cell_type": "code",
   "execution_count": 38,
   "metadata": {},
   "outputs": [
    {
     "name": "stdout",
     "output_type": "stream",
     "text": [
      "Media 3.300000\n",
      "Varianza 2.310000\n",
      "Sesgo 0.263181\n",
      "Curtosis -0.112554\n"
     ]
    },
    {
     "data": {
      "image/png": "[encoded data removed]",
      "text/plain": [
       "<Figure size 432x288 with 1 Axes>"
      ]
     },
     "metadata": {
      "needs_background": "light"
     },
     "output_type": "display_data"
    }
   ],
   "source": [
    "fig, ax = plt.subplots(1,1)\n",
    "\n",
    "p = 0.3\n",
    "\n",
    "mean, var, skew, kurt = binom.stats(n, p, moments = 'mvsk')\n",
    "\n",
    "print(\"Media %f\"% mean) # en promedio hay que probar 3.30 veces hasta acertar\n",
    "print(\"Varianza %f\"% var) # la varianza es de 2.31\n",
    "print(\"Sesgo %f\"% skew) # sesgo positivo a la derecha\n",
    "print(\"Curtosis %f\"% kurt) #curtosis negativa \n",
    "\n",
    "x = np.arange(geom.ppf(0.01, p), geom.ppf(0.99, p))\n",
    "ax.plot(x, geom.ppf(x,p), 'bo', ms = 8, label = 'Funcion de probabilidad de Geom(0.3)')\n",
    "ax.vlines(x, 0, geom.pmf(x, p), colors = 'b', lw = 4, alpha = 0.5)\n",
    "\n",
    "rv = geom(p)\n",
    "ax.vlines(x, 0, rv.pmf(x), colors = 'k', linestyles = \"--\", lw = 1, label = \"Frozen PMF\")\n",
    "ax.legend(loc = \"best\")\n",
    "plt.show()"
   ]
  },
  {
   "cell_type": "code",
   "execution_count": 40,
   "metadata": {},
   "outputs": [
    {
     "data": {
      "image/png": "[encoded data removed]",
      "text/plain": [
       "<Figure size 432x288 with 1 Axes>"
      ]
     },
     "metadata": {
      "needs_background": "light"
     },
     "output_type": "display_data"
    }
   ],
   "source": [
    "fig, ax = plt.subplots(1,1)\n",
    "prob = geom.cdf(x,p)\n",
    "ax.plot(x, prob, 'bo', ms = 8, label = \"Funcion de distribucion acumulada\")\n",
    "plt.show()\n",
    "\n",
    "# Funcion de probabilidad acumulada"
   ]
  },
  {
   "cell_type": "code",
   "execution_count": 46,
   "metadata": {},
   "outputs": [
    {
     "data": {
      "image/png": "[encoded data removed]",
      "text/plain": [
       "<Figure size 432x288 with 1 Axes>"
      ]
     },
     "metadata": {
      "needs_background": "light"
     },
     "output_type": "display_data"
    }
   ],
   "source": [
    "fig, ax = plt.subplots(1,1)\n",
    "plt.title(\"Distribucion de probabilidades Geometrica\")\n",
    "r = geom.rvs(p, size = 10000)\n",
    "plt.hist(r)\n",
    "plt.show()"
   ]
  },
  {
   "cell_type": "markdown",
   "metadata": {},
   "source": [
    "#### Ejemplo 3: \n",
    "\n",
    "Teniendo una $k$ de dominio [0,45] y una probabilidad de 0.35, calcular las probabilidad asociadas:"
   ]
  },
  {
   "cell_type": "code",
   "execution_count": 45,
   "metadata": {},
   "outputs": [],
   "source": [
    "p = 0.35\n",
    "k = np.arange(0,45)"
   ]
  },
  {
   "cell_type": "code",
   "execution_count": 48,
   "metadata": {},
   "outputs": [
    {
     "data": {
      "text/plain": [
       "array([0.00000000e+00, 3.50000000e-01, 2.27500000e-01, 1.47875000e-01,\n",
       "       9.61187500e-02, 6.24771875e-02, 4.06101719e-02, 2.63966117e-02,\n",
       "       1.71577976e-02, 1.11525685e-02, 7.24916949e-03, 4.71196017e-03,\n",
       "       3.06277411e-03, 1.99080317e-03, 1.29402206e-03, 8.41114340e-04,\n",
       "       5.46724321e-04, 3.55370809e-04, 2.30991026e-04, 1.50144167e-04,\n",
       "       9.75937083e-05, 6.34359104e-05, 4.12333418e-05, 2.68016722e-05,\n",
       "       1.74210869e-05, 1.13237065e-05, 7.36040922e-06, 4.78426599e-06,\n",
       "       3.10977289e-06, 2.02135238e-06, 1.31387905e-06, 8.54021381e-07,\n",
       "       5.55113898e-07, 3.60824033e-07, 2.34535622e-07, 1.52448154e-07,\n",
       "       9.90913002e-08, 6.44093451e-08, 4.18660743e-08, 2.72129483e-08,\n",
       "       1.76884164e-08, 1.14974707e-08, 7.47335593e-09, 4.85768135e-09,\n",
       "       3.15749288e-09])"
      ]
     },
     "execution_count": 48,
     "metadata": {},
     "output_type": "execute_result"
    }
   ],
   "source": [
    "geom.pmf(k,p) # esto da las probabilidades de exito para cada uno de los intentos. "
   ]
  },
  {
   "cell_type": "code",
   "execution_count": 50,
   "metadata": {},
   "outputs": [
    {
     "data": {
      "text/plain": [
       "array([0.        , 0.35      , 0.5775    , 0.725375  , 0.82149375,\n",
       "       0.88397094, 0.92458111, 0.95097772, 0.96813552, 0.97928809,\n",
       "       0.98653726, 0.99124922, 0.99431199, 0.99630279, 0.99759682,\n",
       "       0.99843793, 0.99898465, 0.99934003, 0.99957102, 0.99972116,\n",
       "       0.99981875, 0.99988219, 0.99992342, 0.99995023, 0.99996765,\n",
       "       0.99997897, 0.99998633, 0.99999111, 0.99999422, 0.99999625,\n",
       "       0.99999756, 0.99999841, 0.99999897, 0.99999933, 0.99999956,\n",
       "       0.99999972, 0.99999982, 0.99999988, 0.99999992, 0.99999995,\n",
       "       0.99999997, 0.99999998, 0.99999999, 0.99999999, 0.99999999])"
      ]
     },
     "execution_count": 50,
     "metadata": {},
     "output_type": "execute_result"
    }
   ],
   "source": [
    "geom.cdf(k,p) # Probabilidades acumuladas de exito para las distribucione. \n",
    "# Atencion: a partir del intento 12 es cuando se empieza a ver una mejoria. "
   ]
  },
  {
   "cell_type": "code",
   "execution_count": 52,
   "metadata": {},
   "outputs": [
    {
     "data": {
      "text/plain": [
       "1.0"
      ]
     },
     "execution_count": 52,
     "metadata": {},
     "output_type": "execute_result"
    }
   ],
   "source": [
    "geom.ppf(0.25, p) # el 25% de los datos o menos hay una probabilidad de exito de 1. "
   ]
  },
  {
   "cell_type": "code",
   "execution_count": 58,
   "metadata": {},
   "outputs": [
    {
     "data": {
      "text/plain": [
       "2.0"
      ]
     },
     "execution_count": 58,
     "metadata": {},
     "output_type": "execute_result"
    }
   ],
   "source": [
    "geom.ppf(0.50, p) # el 50% de los datos o menos registra una probabilidad de exito de 2."
   ]
  },
  {
   "cell_type": "code",
   "execution_count": 61,
   "metadata": {},
   "outputs": [
    {
     "data": {
      "text/plain": [
       "4.0"
      ]
     },
     "execution_count": 61,
     "metadata": {},
     "output_type": "execute_result"
    }
   ],
   "source": [
    "geom.ppf(0.75, p)  # el 75% de los datos o menos registra una probabilidad de exito de 4."
   ]
  },
  {
   "cell_type": "code",
   "execution_count": 63,
   "metadata": {},
   "outputs": [
    {
     "data": {
      "text/plain": [
       "inf"
      ]
     },
     "execution_count": 63,
     "metadata": {},
     "output_type": "execute_result"
    }
   ],
   "source": [
    "geom.ppf(1, p) # el 100% de los datos o menos registra una probabilidad de exito inf. "
   ]
  },
  {
   "cell_type": "code",
   "execution_count": 66,
   "metadata": {},
   "outputs": [],
   "source": [
    "media = geom.rvs(p, size = 17) # Podemos observar que en muchas ocasiones solo tuvo que intentar una vez, lo que \n",
    "# lo hace experimentos mas certeros. \n",
    "\n",
    "# Comprobemos la media del experimento"
   ]
  },
  {
   "cell_type": "code",
   "execution_count": 69,
   "metadata": {},
   "outputs": [
    {
     "data": {
      "text/plain": [
       "2.8823529411764706"
      ]
     },
     "execution_count": 69,
     "metadata": {},
     "output_type": "execute_result"
    }
   ],
   "source": [
    "media.mean() # en promedio la cantidad de veces que tiene que intentar hasta obtener un exito es 2.88 veces."
   ]
  },
  {
   "cell_type": "code",
   "execution_count": 71,
   "metadata": {},
   "outputs": [
    {
     "data": {
      "text/plain": [
       "1.6407441977625121"
      ]
     },
     "execution_count": 71,
     "metadata": {},
     "output_type": "execute_result"
    }
   ],
   "source": [
    "media.std() # la desviacion de los datos con respecto a la media es de 1.64 intentos. "
   ]
  },
  {
   "cell_type": "markdown",
   "metadata": {},
   "source": [
    "#### **Distribución Hipergeométrica** es una distribución discreta relacionada con muestreos aleatorios y sin reemplazo.\n",
    "\n",
    "Consideremos el experimento \"extraer a la vez (o una detrás de otra, sin retornarlos) $n$ objetos donde hay $N$ de tipo A y $M$ de tipo B\". Si $X$ es variable aleatoria que mide el \"número de objetos del tipo A\", diremos que $X$ se distribuye como una Hipergeométrica con parámetros $N,M,n$\n",
    "$$X\\sim \\text{H}(N,M,n)$$\n",
    "\n",
    "- El **dominio** de $X$ será $D_X = \\{0,1,2,\\dots,N\\}$ (en general)\n",
    "- La **función de probabilidad** vendrá dada por \n",
    "\n",
    "$$f(k) = \\frac{{N\\choose k}{M\\choose n-k}}{N+M\\choose n}$$\n",
    "\n",
    "Por ejemplo: se tiene una bolsa o una caja y se tienen objetos de dos tipos, entonces contabiliza la cantidad de $n$ objetos extraidos y sin retornarlos. Donde podemos obtener un objeto A y de B, solo de A, o solo de B y con $n$ combinatorias conocidas. Este es un problema tradicional de combinatorias. Aunque se trabaka tradicionalmente con bolas, se puede aplicar a infinidad de escenarios, como peces (diferentes especies) o diversos animales, diversos tipos de zapatos, diversos tipos de monedas, etc. \n",
    "\n",
    "#### Distribución Hipergeométrica\n",
    "\n",
    "- La **función de distribución** vendrá dada por $$F(x) = \\left\\{\n",
    "\\begin{array}{cl}\n",
    "     0 & \\text{si } x<0 \n",
    "  \\\\ \\sum_{k=0}^xf(k) & \\text{si } 0\\le x<n\n",
    "  \\\\ 1 & \\text{si } x\\ge n\n",
    "\\end{array}\n",
    "\\right.$$\n",
    "- **Esperanza** $E(X) = \\frac{nN}{N+M}$ \n",
    "- **Varianza** $Var(X) = \\frac{nNM}{(N+M)^2}\\cdot\\frac{N+M-n}{N+M-1}$\n",
    "\n",
    "#### Distribución Hipergeométrica\n",
    "\n",
    "El código de la distribución Hipergeométrica:\n",
    "\n",
    "- En `R` tenemos las funciones del paquete `Rlab`: `dhyper(x, m, n, k), phyper(q,  m, n, k), qhyper(p,  m, n, k), rhyper(nn,  m, n, k)` donde `m` es el número de objetos del primer tipo, `n` el número de objetos del segundo tipo y `k` el número de extracciones realizadas.\n",
    "- En `Python` tenemos las funciones del paquete `scipy.stats.hypergeom`: `pmf(k,M, n, N), cdf(k,M, n, N), ppf(q,M, n, N), rvs(M, n, N, size)` donde `M` es el número de objetos del primer tipo, `N` el número de objetos del segundo tipo y `n` el número de extracciones realizadas.\n",
    "\n"
   ]
  },
  {
   "cell_type": "code",
   "execution_count": 72,
   "metadata": {},
   "outputs": [],
   "source": [
    "from scipy.stats import hypergeom"
   ]
  },
  {
   "cell_type": "code",
   "execution_count": 74,
   "metadata": {},
   "outputs": [],
   "source": [
    "[M, n, N] = [20, 7, 12]\n",
    "rv = hypergeom(M, n, N)\n",
    "x = np.arange(0, n+1)\n",
    "y = rv.pmf(x)"
   ]
  },
  {
   "cell_type": "code",
   "execution_count": 75,
   "metadata": {},
   "outputs": [
    {
     "data": {
      "image/png": "[encoded data removed]",
      "text/plain": [
       "<Figure size 432x288 with 1 Axes>"
      ]
     },
     "metadata": {
      "needs_background": "light"
     },
     "output_type": "display_data"
    }
   ],
   "source": [
    "fig = plt.figure()\n",
    "ax = fig.add_subplot(111)\n",
    "ax.plot(x, y, 'bo')\n",
    "ax.vlines(x, 0, y, lw = 2, alpha = 0.5)\n",
    "ax.set_xlabel(\"Numero de perros entre los 12 elegidos al azar\")\n",
    "ax.set_ylabel(\"Distribicion de probabilida de una H(12, 7, 12)\")\n",
    "plt.show()\n",
    "\n",
    "# La probabilida de que salgan 0 es casi nula, hay mas probabilidad de que salgan 4. "
   ]
  },
  {
   "cell_type": "code",
   "execution_count": 76,
   "metadata": {},
   "outputs": [
    {
     "name": "stdout",
     "output_type": "stream",
     "text": [
      "Media 4.200000\n",
      "Varianza 1.149474\n",
      "Sesgo -0.062181\n",
      "Curtosis -0.152661\n"
     ]
    }
   ],
   "source": [
    "mean, var, skew, kurt = rv.stats(moments = 'mvsk')\n",
    "\n",
    "print(\"Media %f\"% mean) # en promedio se pueden sacar 4.20 perros\n",
    "print(\"Varianza %f\"% var) # la varianza es de 1.14\n",
    "print(\"Sesgo %f\"% skew) # sesgo negativo a la izquierda. \n",
    "print(\"Curtosis %f\"% kurt) #curtosis negativa, ya que tiene un ligero pico"
   ]
  },
  {
   "cell_type": "markdown",
   "metadata": {},
   "source": [
    "#### Ejemplo 4: \n",
    "\n",
    "Supongamos que en una caja tenemos 30 animales y de esos 30, 11 son perros, entonces queremos medir la probabilidad de encontrar un numero determinado de perros si elegimos $x=9$ animales al azar."
   ]
  },
  {
   "cell_type": "code",
   "execution_count": 79,
   "metadata": {},
   "outputs": [],
   "source": [
    "[M, n, N] = [30, 11, 9]\n",
    "k = np.arange(0, 30)"
   ]
  },
  {
   "cell_type": "code",
   "execution_count": 83,
   "metadata": {},
   "outputs": [
    {
     "data": {
      "text/plain": [
       "array([6.45677161e-03, 5.81109445e-02, 1.93703148e-01, 3.12905086e-01,\n",
       "       2.68204359e-01, 1.25162034e-01, 3.12905086e-02, 3.94418176e-03,\n",
       "       2.19121209e-04, 3.84423173e-06, 0.00000000e+00, 0.00000000e+00,\n",
       "       0.00000000e+00, 0.00000000e+00, 0.00000000e+00, 0.00000000e+00,\n",
       "       0.00000000e+00, 0.00000000e+00, 0.00000000e+00, 0.00000000e+00,\n",
       "       0.00000000e+00, 0.00000000e+00, 0.00000000e+00, 0.00000000e+00,\n",
       "       0.00000000e+00, 0.00000000e+00, 0.00000000e+00, 0.00000000e+00,\n",
       "       0.00000000e+00, 0.00000000e+00])"
      ]
     },
     "execution_count": 83,
     "metadata": {},
     "output_type": "execute_result"
    }
   ],
   "source": [
    "hypergeom.pmf(k, M, n, N)\n",
    "# La probabilidad de sacar en el intento 0, elijamos perros es de 6.45677161e-03, en el intento 1 es de \n",
    "# 5.81109445e-02, en el intento 2 es de 1.93703148e-01 y asi consecutivamente. "
   ]
  },
  {
   "cell_type": "code",
   "execution_count": 84,
   "metadata": {},
   "outputs": [
    {
     "data": {
      "text/plain": [
       "array([0.00645677, 0.06456772, 0.25827086, 0.57117595, 0.83938031,\n",
       "       0.96454234, 0.99583285, 0.99977703, 0.99999616, 1.        ,\n",
       "       1.        , 1.        , 1.        , 1.        , 1.        ,\n",
       "       1.        , 1.        , 1.        , 1.        , 1.        ,\n",
       "       1.        , 1.        , 1.        , 1.        , 1.        ,\n",
       "       1.        , 1.        , 1.        , 1.        , 1.        ])"
      ]
     },
     "execution_count": 84,
     "metadata": {},
     "output_type": "execute_result"
    }
   ],
   "source": [
    "hypergeom.cdf(k, M, n, N) # La probabilidad acumulada de obtener en el intento 0 perros es de: 0.00645677\n",
    "# en el intento 1 es de 0.06456772, en el dos es de 0.25827086 y asi consecutivamente. "
   ]
  },
  {
   "cell_type": "code",
   "execution_count": 85,
   "metadata": {},
   "outputs": [
    {
     "data": {
      "text/plain": [
       "2.0"
      ]
     },
     "execution_count": 85,
     "metadata": {},
     "output_type": "execute_result"
    }
   ],
   "source": [
    "hypergeom.ppf(0.25, M, n, N) # en el primer cuartil podemos encontrar 2 perros o menos. "
   ]
  },
  {
   "cell_type": "code",
   "execution_count": 86,
   "metadata": {},
   "outputs": [
    {
     "data": {
      "text/plain": [
       "3.0"
      ]
     },
     "execution_count": 86,
     "metadata": {},
     "output_type": "execute_result"
    }
   ],
   "source": [
    "hypergeom.ppf(0.50, M, n, N) # en la mediana podemos encontrar 3 perros o menos. "
   ]
  },
  {
   "cell_type": "code",
   "execution_count": 88,
   "metadata": {},
   "outputs": [
    {
     "data": {
      "text/plain": [
       "4.0"
      ]
     },
     "execution_count": 88,
     "metadata": {},
     "output_type": "execute_result"
    }
   ],
   "source": [
    "hypergeom.ppf(0.75, M, n, N) # en el tercer cuartil podemos encontrar 4 perros o menos."
   ]
  },
  {
   "cell_type": "code",
   "execution_count": 90,
   "metadata": {},
   "outputs": [
    {
     "data": {
      "text/plain": [
       "array([3, 3, 4, 4, 5, 3, 3, 2, 3, 1, 3, 3, 4, 1, 4, 1, 5, 4, 4, 4, 5, 2,\n",
       "       2, 4, 2, 4, 3, 5, 2, 4, 5, 4, 2, 5, 6, 3, 4, 4, 4, 3, 3, 3, 2, 3,\n",
       "       2, 2, 4, 2, 2, 2, 3, 3, 3, 3, 4, 4, 3, 2, 3, 3, 4, 4, 4, 4, 2, 1,\n",
       "       4, 4, 4, 2, 3, 1, 4, 6, 3, 2, 5, 3, 4, 3, 1, 5, 6, 4, 3, 2, 2, 5,\n",
       "       4, 5, 4, 2, 5, 3, 4, 3, 1, 4, 4, 4])"
      ]
     },
     "execution_count": 90,
     "metadata": {},
     "output_type": "execute_result"
    }
   ],
   "source": [
    "hypergeom.rvs(M, n, N, size = 100)\n",
    "# estas serian las probabilidad haciendo 100 intentos aleatorios de exttaccion, por ejemplo, \n",
    "# en el intento 0, podemos encontrar 4 perros, en el 1, 5, en el 2 4 y asi sucesivamente. "
   ]
  },
  {
   "cell_type": "markdown",
   "metadata": {},
   "source": [
    "#### **Distribución de Poisson** es una distribución de probabilidad discreta. \n",
    "\n",
    "\n",
    "Si $X$ es variable aleatoria que mide el \"número de eventos en un cierto intervalo de tiempo\", diremos que $X$ se distribuye como una Poisson con parámetro $\\lambda$\n",
    "\n",
    "$$X\\sim \\text{Po}(\\lambda)$$\n",
    "donde $\\lambda$ representa el número de veces que se espera que ocurra el evento durante un intervalo dado\n",
    "\n",
    "- El **dominio** de $X$ será $D_X = \\{0,1,2,\\dots\\}$\n",
    "\n",
    "- La **función de probabilidad** vendrá dada por $$f(k) = \\frac{e^{-\\lambda}\\lambda^k}{k!}$$\n",
    "\n",
    "#### Ejemplo:\n",
    "\n",
    "El numero de personas por unidad de tiempo, por ejemplo el numero de personas que entran a una tienda por cada minuto/hora. \n",
    "\n",
    "El numero de errores que hay por cada pagina en un libro. \n",
    "\n",
    "#### Distribución de Poisson\n",
    " \n",
    "- La **función de distribución** vendrá dada por $$F(x) = \\left\\{\n",
    "\\begin{array}{cl}\n",
    "     0 & \\text{si } x<0 \n",
    "  \\\\ \\sum_{k=0}^xf(k) & \\text{si } 0\\le x<n\n",
    "  \\\\ 1 & \\text{si } x\\ge n\n",
    "\\end{array}\n",
    "\\right.$$ \n",
    "- **Esperanza** $E(X) = \\lambda$\n",
    "- **Varianza** $Var(X) = \\lambda$"
   ]
  },
  {
   "cell_type": "code",
   "execution_count": 91,
   "metadata": {},
   "outputs": [],
   "source": [
    "from scipy.stats import poisson"
   ]
  },
  {
   "cell_type": "code",
   "execution_count": 96,
   "metadata": {},
   "outputs": [
    {
     "name": "stdout",
     "output_type": "stream",
     "text": [
      "Media 0.800000\n",
      "Varianza 0.800000\n",
      "Sesgo 1.118034\n",
      "Curtosis 1.250000\n"
     ]
    },
    {
     "data": {
      "image/png": "[encoded data removed]",
      "text/plain": [
       "<Figure size 432x288 with 1 Axes>"
      ]
     },
     "metadata": {
      "needs_background": "light"
     },
     "output_type": "display_data"
    }
   ],
   "source": [
    "fig, ax = plt.subplots(1,1)\n",
    "mu = 0.8 # (0.8 errores por pagina)\n",
    "\n",
    "print(\"Media %f\"% mean) # en promedio hay 0.8 errores por pagina\n",
    "print(\"Varianza %f\"% var) # la varianza es de 0.8 por pagina\n",
    "print(\"Sesgo %f\"% skew) # sesgo positivo a la derecha\n",
    "print(\"Curtosis %f\"% kurt) # curtosis positiva ya no es tan puntiaguada la distribucion\n",
    "\n",
    "mean, var, skew, kurt = poisson.stats(mu, moments = 'mvsk')\n",
    "x = np.arange(0, 12)\n",
    "ax.plot(x, poisson.pmf(x, mu), 'bo', ms = 8, label = 'Funcion de Poisson (0.8)')\n",
    "ax.vlines(x, 0, poisson.pmf(x, mu), colors = 'b', lw = 4, alpha = 0.5)\n",
    "ax.legend(loc = 'best', frameon = False)\n",
    "plt.show()"
   ]
  },
  {
   "cell_type": "markdown",
   "metadata": {},
   "source": [
    "#### Ejemplo 5: \n",
    "\n",
    "Suponga que se quiere saber la probabilidad de clientes que entran a una tienda cada 10 minutos. \n",
    "\n",
    "Para ello tenemus que $\\mu = 3$\n",
    "\n",
    "Calcule todos los tipos de probabilidad:"
   ]
  },
  {
   "cell_type": "code",
   "execution_count": 99,
   "metadata": {},
   "outputs": [
    {
     "data": {
      "text/plain": [
       "array([0.04978707, 0.14936121, 0.22404181, 0.22404181, 0.16803136,\n",
       "       0.10081881, 0.05040941, 0.02160403, 0.00810151, 0.0027005 ])"
      ]
     },
     "execution_count": 99,
     "metadata": {},
     "output_type": "execute_result"
    }
   ],
   "source": [
    "mu = 3\n",
    "k = np.arange(0, 10)\n",
    "poisson.pmf(k, mu)\n",
    "\n",
    "# La probabilidad de que entren 3 clientes en 10 minutos para el minuto 0 es de 0.04978707, en el minuto 1: 0.14936121, en el 2:\n",
    "# 0.22404181 etc. "
   ]
  },
  {
   "cell_type": "code",
   "execution_count": 100,
   "metadata": {},
   "outputs": [
    {
     "data": {
      "text/plain": [
       "array([0.04978707, 0.19914827, 0.42319008, 0.64723189, 0.81526324,\n",
       "       0.91608206, 0.96649146, 0.9880955 , 0.99619701, 0.99889751])"
      ]
     },
     "execution_count": 100,
     "metadata": {},
     "output_type": "execute_result"
    }
   ],
   "source": [
    "poisson.cdf(k, mu) # la distribucion acumulada, la podemos plotear para ver que nos puede decir. "
   ]
  },
  {
   "cell_type": "code",
   "execution_count": 104,
   "metadata": {},
   "outputs": [
    {
     "data": {
      "image/png": "[encoded data removed]",
      "text/plain": [
       "<Figure size 432x288 with 1 Axes>"
      ]
     },
     "metadata": {
      "needs_background": "light"
     },
     "output_type": "display_data"
    }
   ],
   "source": [
    "plt.hist(poisson.cdf(k, mu))\n",
    "plt.title(\"Distribucion de Poisson Acumulada (0.3)\")\n",
    "plt.show()"
   ]
  },
  {
   "cell_type": "code",
   "execution_count": 105,
   "metadata": {},
   "outputs": [
    {
     "data": {
      "text/plain": [
       "2.0"
      ]
     },
     "execution_count": 105,
     "metadata": {},
     "output_type": "execute_result"
    }
   ],
   "source": [
    "poisson.ppf(0.25, mu) # en el 25% del tiempo van a entrar 2 clientes o menos."
   ]
  },
  {
   "cell_type": "code",
   "execution_count": 107,
   "metadata": {},
   "outputs": [
    {
     "data": {
      "text/plain": [
       "4.0"
      ]
     },
     "execution_count": 107,
     "metadata": {},
     "output_type": "execute_result"
    }
   ],
   "source": [
    "poisson.ppf(0.75, mu) # en el 75% del tiempo van a entrar 4 clientes o menos. "
   ]
  },
  {
   "cell_type": "code",
   "execution_count": 121,
   "metadata": {},
   "outputs": [
    {
     "name": "stdout",
     "output_type": "stream",
     "text": [
      "[5 1 3 3 1 3 3 5 2 2 3 1 3 4 2 5 6 3 3 2 0 2 3 2 3 4 3 3 5 6 3 3 1 5 3 2 0\n",
      " 3 2 2 4 3 0 4 5 4 3 6 3 1 3 1 1 4 6 2 1 2 3 3 3 8 2 2 2 4 3 5 0 5 4 3 4 2\n",
      " 3 3 4 7 3 3 6 4 3 3 2 4 3 1 4 4 2 1 4 1 3 5 5 2 4 4 1 3 8 3 2 1 4 2 1 3 7\n",
      " 3 9 0 4 4 3 4 1 2 3 4 1 0 1 1 1 2 0 4 2 1 1 4 1 1 2 1 4 6 2 3 1 2 4 1 5 4\n",
      " 6 4 1 3 3 2 0 3 2 3 1 5 2 2 2 3 3 2 2 3 3 4 2 2 0 0 4 4 5 2 3 3 2 1 6 2 3\n",
      " 0 4 3 3 4 7 1 4 3 2 1 2 2 5 2 2 7 2 1 9 5 7 3 4 1 2 3 3 2 4 3 1 6 3 5 3 4\n",
      " 5 1 4 1 8 0 3 0 5 3 4 0 4 1 1 2 3 4 0 3 3 3 3 2 2 4 4 0]\n"
     ]
    }
   ],
   "source": [
    "data = poisson.rvs(mu, size = 250)\n",
    "print(data) # numeros aleatorios de veces que pueden entrar personas a una tienda en 250 minutos. "
   ]
  },
  {
   "cell_type": "code",
   "execution_count": 119,
   "metadata": {},
   "outputs": [
    {
     "data": {
      "text/plain": [
       "(array([14., 35., 60., 51., 35., 29., 13.,  8.,  4.,  1.]),\n",
       " array([0. , 0.9, 1.8, 2.7, 3.6, 4.5, 5.4, 6.3, 7.2, 8.1, 9. ]),\n",
       " <a list of 10 Patch objects>)"
      ]
     },
     "execution_count": 119,
     "metadata": {},
     "output_type": "execute_result"
    },
    {
     "data": {
      "image/png": "[encoded data removed]",
      "text/plain": [
       "<Figure size 432x288 with 1 Axes>"
      ]
     },
     "metadata": {
      "needs_background": "light"
     },
     "output_type": "display_data"
    }
   ],
   "source": [
    "plt.hist(data)"
   ]
  },
  {
   "cell_type": "markdown",
   "metadata": {},
   "source": [
    "#### **Distribución Binomial Negativa** distribucion de probabilidad discreta. \n",
    "\n",
    "Si $X$ es variable aleatoria que mide el \"número de repeticiones hasta observar los $r$ éxitos en ensayos de Bernoulli\", diremos que $X$ se distribuye como una Binomial Negativa con parámetros $r$ y $p$, $$X\\sim\\text{BN}(r,p)$$ donde $p$ es la probabilidad de éxito.\n",
    "\n",
    "Mide la cantidad de exitos $r$ y probabilidad de exito en $p$.\n",
    "\n",
    "- El **dominio** de $X$ será $D_X = \\{r, r+1, r+2,\\dots\\}$\n",
    "- La **función de probabilidad** vendrá dada por $$f(k) = {k-1\\choose r-1}p^r(1-p)^{k-r}, k\\geq r$$\n",
    "\n",
    "Ejemplo 1: caja de cerillas de Banach. \n",
    "Ejemplo 2: Tenemos dos cajas de cigarrillos, una de cada lado en cada uno de los bolsillos de nuestro pantalon, cuando nos acabamos una caja de cigarrillos, cuantos cigarrillos nos quedan en la restante. \n",
    "\n",
    "\n",
    "#### Distribución Binomial Negativa\n",
    " \n",
    "- La **función de distribución** no tiene una expresión analítica. \n",
    "- **Esperanza** $E(X) = \\frac{r}{p}$\n",
    "- **Varianza** $Var(X) = r\\frac{1-p}{p^2}$\n",
    "\n",
    "#### Distribución Binomial Negativa\n",
    "\n",
    "```{r, echo = FALSE}\n",
    "par(mfrow = c(1,2))\n",
    "exitos = 5\n",
    "size = 20\n",
    "plot(c(rep(0,exitos),exitos:(size+exitos)), c(rep(0,exitos),dnbinom(0:size,exitos,0.5)),col = \"purple\", xlab = \"\", ylab = \"\", main = \"Función de probabilidad de una BN(5, 0.5)\")\n",
    "plot(c(rep(0,exitos),exitos:(size+exitos)), c(rep(0,exitos),pnbinom(0:size,exitos,0.5)),col = \"purple\", xlab = \"\", ylab = \"\", main = \"Función de distribución de una BN(5, 0.5)\")\n",
    "par(mfrow= c(1,1))\n",
    "```\n",
    "\n",
    "#### Distribución  Binomial Negativa\n",
    "\n",
    "El código de la distribución Binomial Negativa:\n",
    "\n",
    "- En `R` tenemos las funciones del paquete `Rlab`: `dnbinom(x, size, prop), pnbinom(q, size, prop), qnbinom(p, size, prop), rnbinom(n, size, prop)` donde `size` es el número de casos exitosos y `prob` la probabilidad del éxito.\n",
    "- En `Python` tenemos las funciones del paquete `scipy.stats.nbinom`: `pmf(k,n,p), cdf(k,n,p), ppf(q,n,p), rvs(n,p)` donde `n`es el número de casos exitosos y `p` la probabilidad del éxito.\n",
    "\n",
    "#### Ejemplo 6: \n",
    "\n",
    "Supongamos que tenemos dos cajas de bolas y cada una de ellas tienen 120 bolitas, calcule cuanta es la probabilidad de que en una caja queden 5 bolitas despues de sacar cantidades al azar de ellas, con una probabilidad dada de 0.4. "
   ]
  },
  {
   "cell_type": "code",
   "execution_count": 123,
   "metadata": {},
   "outputs": [],
   "source": [
    "from scipy.stats import nbinom"
   ]
  },
  {
   "cell_type": "code",
   "execution_count": 125,
   "metadata": {},
   "outputs": [
    {
     "name": "stdout",
     "output_type": "stream",
     "text": [
      "Media 2.000000\n",
      "Varianza 1.200000\n",
      "Sesgo 0.182574\n",
      "Curtosis -0.366667\n"
     ]
    }
   ],
   "source": [
    "k = np.arange(0,120)\n",
    "n = 5\n",
    "p = 0.4\n",
    "\n",
    "mean, var, skew, kurt = binom.stats(n, p, moments = 'mvsk')\n",
    "\n",
    "print(\"Media %f\"% mean) # en promedio hay que probar 3.30 veces hasta acertar\n",
    "print(\"Varianza %f\"% var) # la varianza es de 2.31\n",
    "print(\"Sesgo %f\"% skew) # sesgo positivo a la derecha\n",
    "print(\"Curtosis %f\"% kurt) #curtosis negativa "
   ]
  },
  {
   "cell_type": "code",
   "execution_count": 132,
   "metadata": {},
   "outputs": [
    {
     "name": "stdout",
     "output_type": "stream",
     "text": [
      "[1.02400000e-02 3.07200000e-02 5.52960000e-02 7.74144000e-02\n",
      " 9.28972800e-02 1.00329062e-01 1.00329062e-01 9.45959731e-02\n",
      " 8.51363758e-02 7.37848590e-02 6.19792816e-02 5.07103213e-02\n",
      " 4.05682570e-02 3.18304786e-02 2.45549406e-02 1.86617549e-02\n",
      " 1.39963162e-02 1.03737402e-02 7.60740949e-03 5.52538163e-03\n",
      " 3.97827477e-03 2.84162484e-03 2.01497034e-03 1.41923998e-03\n",
      " 9.93467985e-04 6.91453718e-04 4.78698728e-04 3.29770235e-04\n",
      " 2.26128161e-04 1.54390951e-04 1.04985847e-04 7.11194446e-05\n",
      " 4.80056251e-05 3.22946933e-05 2.16564414e-05 1.44788779e-05\n",
      " 9.65258529e-06 6.41766482e-06 4.25592509e-06 2.81545814e-06\n",
      " 1.85820237e-06 1.22369424e-06 8.04141931e-07 5.27367499e-07\n",
      " 3.45185999e-07 2.25521520e-07 1.47079252e-07 9.57579810e-08\n",
      " 6.22426877e-08 4.03942340e-08 2.61754637e-08 1.69370647e-08\n",
      " 1.09439495e-08 7.06194478e-09 4.55103108e-09 2.92920909e-09\n",
      " 1.88306299e-09 1.20912466e-09 7.75507538e-10 4.96850592e-10\n",
      " 3.17984379e-10 2.03301488e-10 1.29850628e-10 8.28570674e-11\n",
      " 5.28213805e-11 3.36431562e-11 2.14092812e-11 1.36124683e-11\n",
      " 8.64792107e-12 5.48954989e-12 3.48194308e-12 2.20686533e-12\n",
      " 1.39768138e-12 8.84559994e-13 5.59424428e-13 3.53556239e-13\n",
      " 2.23298677e-13 1.40939165e-13 8.89000887e-14 5.60408154e-14\n",
      " 3.53057137e-14 2.22295235e-14 1.39883343e-14 8.79748252e-15\n",
      " 5.52984615e-15 3.47404452e-15 2.18137679e-15 1.36900199e-15\n",
      " 8.58737611e-16 5.38399536e-16 3.37397042e-16 2.11336609e-16\n",
      " 1.32315094e-16 8.28036397e-17 5.17963193e-17 3.23863302e-17\n",
      " 2.02414564e-17 1.26456933e-17 7.89710646e-18 4.92970888e-18\n",
      " 3.07613834e-18 1.91877936e-18 1.19641537e-18 7.45726860e-19\n",
      " 4.64645197e-19 2.89407580e-19 1.80197172e-19 1.12160109e-19\n",
      " 6.97885124e-20 4.34097352e-20 2.69929626e-20 1.67794092e-20\n",
      " 1.04272043e-20 6.47778532e-21 4.02304562e-21 2.49778658e-21\n",
      " 1.55035029e-21 9.62012234e-22 5.96773691e-22 3.70099986e-22]\n"
     ]
    }
   ],
   "source": [
    "caja = nbinom.pmf(k, n, p) # la probabilidad en el intento 0 es de 1.02400000e-02, en el 1 es de 3.07200000e-02 (...)\n",
    "print(caja)"
   ]
  },
  {
   "cell_type": "code",
   "execution_count": 134,
   "metadata": {},
   "outputs": [
    {
     "data": {
      "image/png": "[encoded data removed]",
      "text/plain": [
       "<Figure size 432x288 with 1 Axes>"
      ]
     },
     "metadata": {
      "needs_background": "light"
     },
     "output_type": "display_data"
    }
   ],
   "source": [
    "plt.hist(caja)\n",
    "plt.title(\"Distribucion por cada intento binomial negativa\")\n",
    "plt.show()"
   ]
  },
  {
   "cell_type": "code",
   "execution_count": 130,
   "metadata": {},
   "outputs": [
    {
     "data": {
      "text/plain": [
       "array([0.01024   , 0.04096   , 0.096256  , 0.1736704 , 0.26656768,\n",
       "       0.36689674, 0.4672258 , 0.56182178, 0.64695815, 0.72074301,\n",
       "       0.78272229, 0.83343262, 0.87400087, 0.90583135, 0.93038629,\n",
       "       0.94904805, 0.96304436, 0.9734181 , 0.98102551, 0.98655089,\n",
       "       0.99052917, 0.99337079, 0.99538576, 0.996805  , 0.99779847,\n",
       "       0.99848993, 0.99896862, 0.99929839, 0.99952452, 0.99967891,\n",
       "       0.9997839 , 0.99985502, 0.99990302, 0.99993532, 0.99995698,\n",
       "       0.99997145, 0.99998111, 0.99998753, 0.99999178, 0.9999946 ,\n",
       "       0.99999645, 0.99999768, 0.99999848, 0.99999901, 0.99999936,\n",
       "       0.99999958, 0.99999973, 0.99999982, 0.99999989, 0.99999993,\n",
       "       0.99999995, 0.99999997, 0.99999998, 0.99999999, 0.99999999,\n",
       "       0.99999999, 1.        , 1.        , 1.        , 1.        ,\n",
       "       1.        , 1.        , 1.        , 1.        , 1.        ,\n",
       "       1.        , 1.        , 1.        , 1.        , 1.        ,\n",
       "       1.        , 1.        , 1.        , 1.        , 1.        ,\n",
       "       1.        , 1.        , 1.        , 1.        , 1.        ,\n",
       "       1.        , 1.        , 1.        , 1.        , 1.        ,\n",
       "       1.        , 1.        , 1.        , 1.        , 1.        ,\n",
       "       1.        , 1.        , 1.        , 1.        , 1.        ,\n",
       "       1.        , 1.        , 1.        , 1.        , 1.        ,\n",
       "       1.        , 1.        , 1.        , 1.        , 1.        ,\n",
       "       1.        , 1.        , 1.        , 1.        , 1.        ,\n",
       "       1.        , 1.        , 1.        , 1.        , 1.        ,\n",
       "       1.        , 1.        , 1.        , 1.        , 1.        ])"
      ]
     },
     "execution_count": 130,
     "metadata": {},
     "output_type": "execute_result"
    }
   ],
   "source": [
    "bino = nbinom.cdf(k, n, p)  # a partir del intento 6 se ve que hay mayor probabilidad. \n",
    "bino"
   ]
  },
  {
   "cell_type": "code",
   "execution_count": 131,
   "metadata": {},
   "outputs": [
    {
     "data": {
      "image/png": "[encoded data removed]",
      "text/plain": [
       "<Figure size 432x288 with 1 Axes>"
      ]
     },
     "metadata": {
      "needs_background": "light"
     },
     "output_type": "display_data"
    }
   ],
   "source": [
    "plt.hist(bino)\n",
    "plt.title(\"Distribucion acumulada binomial negativa\")\n",
    "plt.show()"
   ]
  },
  {
   "cell_type": "code",
   "execution_count": 139,
   "metadata": {},
   "outputs": [
    {
     "data": {
      "text/plain": [
       "4.0"
      ]
     },
     "execution_count": 139,
     "metadata": {},
     "output_type": "execute_result"
    }
   ],
   "source": [
    "nbinom.ppf(0.25, n, p) # en el primer cuartil el 25% de los datos o menos van a tener 4 exitos. "
   ]
  },
  {
   "cell_type": "code",
   "execution_count": 141,
   "metadata": {},
   "outputs": [
    {
     "data": {
      "text/plain": [
       "10.0"
      ]
     },
     "execution_count": 141,
     "metadata": {},
     "output_type": "execute_result"
    }
   ],
   "source": [
    "nbinom.ppf(0.75, n, p)  # en el tercer cuartil el 75% de los datos o menos van a tener 10 exitos. "
   ]
  },
  {
   "cell_type": "code",
   "execution_count": 145,
   "metadata": {},
   "outputs": [],
   "source": [
    "aleatorio = nbinom.rvs(n, p, size = 100) "
   ]
  },
  {
   "cell_type": "code",
   "execution_count": 146,
   "metadata": {},
   "outputs": [
    {
     "data": {
      "image/png": "[encoded data removed]",
      "text/plain": [
       "<Figure size 432x288 with 1 Axes>"
      ]
     },
     "metadata": {
      "needs_background": "light"
     },
     "output_type": "display_data"
    }
   ],
   "source": [
    "plt.hist(aleatorio)\n",
    "plt.title(\"Distribucion de probabilidades binomial (100)\")\n",
    "plt.show()"
   ]
  },
  {
   "cell_type": "markdown",
   "metadata": {},
   "source": [
    "## Distribuciones discretas en R y Python\n",
    "\n",
    "R y Python conocen las distribuciones de probabilidad más importantes.\n",
    "\n",
    "Distribución |  Instrucción en R  |  Instrucción en Python  |  Parámetros                                \n",
    "--------------------|--------------------|--------------------|--------------------\n",
    "Bernoulli | `bern` | `scipy.stats.bernoulli` | probabilidad de éxito $p$\n",
    "Binomial | `binom` | `scipy.stats.binom` | tamaño de la muestra $n$ y probabilidad de éxito $p$\n",
    "Geométrica | `geom` | `scipy.stats.geom` | probabilidad de éxito $p$\n",
    "Hipergeométrica | `hyper` | `scipy.stats.hypergeom` | $N,M,n$\n",
    "Poisson | `pois` | `scipy.stats.poisson` | esperanza $\\lambda$\n",
    "Binomial Negativa | `nbinom` | `scipy.stats.nbinom` | número de éxitos $r$ y probabilidad de éxito $p$"
   ]
  },
  {
   "cell_type": "markdown",
   "metadata": {},
   "source": [
    "# Variables aleatorias continuas\n",
    "\n",
    "#### Variable aleatoria continua\n",
    "\n",
    "<l class = \"definition\">Variable aleatoria continua.</l> Una v.a. $X:\\Omega\\longrightarrow\\mathbb{R}$ es continua cuando su función de distribución $F_X:\\mathbb{R}\\longrightarrow[0,1]$ es continua\n",
    "\n",
    "En este caso, $F_X(x)=F_X(x^-)$ y, por este motivo, $$p(X=x)=0\\ \\forall x\\in\\mathbb{R}$$\n",
    "pero esto no significa que sean sucesos imposibles\n",
    "\n",
    "#### Función de densidad\n",
    "\n",
    "<l class = \"definition\">Función de densidad.</l> Función $f:\\mathbb{R}\\longrightarrow\\mathbb{R}$ que satisface \n",
    "\n",
    "- $f(x)\\ge 0\\ \\forall x\\in\\mathbb{R}$\n",
    "- $\\int_{-\\infty}^{+\\infty}f(t)dt=1$\n",
    "\n",
    "Una función de densidad puede tener puntos de discontinuidad\n",
    "\n",
    "#### Variable aleatoria continua\n",
    "\n",
    "Toda variable aleatoria $X$ con función de distribución \n",
    "\n",
    "$$F(x)=\\int_{-\\infty}^{x}f(t)dt\\ \\forall x\\in\\mathbb{R}$$ para cualquier densidad $f$ es una v.a. continua\n",
    "\n",
    "Diremos entonces que $f$ es la función de densidad de $X$\n",
    "\n",
    "A partir de ahora, considerareos solamente las v.a. $X$ continuas que tienen función de densidad\n",
    "\n",
    "\n",
    "#### Esperanza\n",
    "\n",
    "<l class = \"definition\">Esperanza de una v.a. continua.</l> Sea $X$ v.a. continua con densidad $f_X$. La esperanza de $X$ es $$E(X)=\\int_{-\\infty}^{+\\infty}x\\cdot f_X(x)dx$$\n",
    "\n",
    "Si el dominio $D_X$ de $X$ es un intervalo de extremos $a<b$, entonces $$E(X)=\\int_a^b x\\cdot f_X(x)dx$$\n",
    "\n",
    "#### Esperanza\n",
    "\n",
    "Sea $g:D_X\\longrightarrow \\mathbb{R}$ una función continua. Entonces, \n",
    "\n",
    "$$E(g(X)) = \\int_{-\\infty}^{+\\infty}g(x)\\cdot f_X(x)dx$$\n",
    "\n",
    "Si el dominio $D_X$ de $X$ es un intervalo de extremos $a<b$, entonces $$E(g(X))=\\int_a^b g(x)\\cdot f_X(x)dx$$\n",
    "\n",
    "#### Varianza\n",
    "\n",
    "<l class = \"definition\">Varianza de una v.a. continua.</l> Como en el caso discreto, $$Var(X)=E((X-E(X))^2)$$\n",
    "\n",
    "y se puede demostrar que\n",
    "\n",
    "$$Var(X)=E(X^2)-(E(X))^2$$\n",
    "\n",
    "#### Desviación típica\n",
    "\n",
    "<l class = \"definition\">Desviación típica de una v.a. continua.</l> Como en el caso discreto, $$\\sigma = \\sqrt{Var(X)}$$\n",
    "\n",
    "#### Distribuciones continuas más conocidas\n",
    "\n",
    "#### Distribuciones continuas\n",
    "\n",
    "- [Uniforme](https://es.wikipedia.org/wiki/Distribución_uniforme_continua)\n",
    "- [Exponencial](https://es.wikipedia.org/wiki/Distribución_exponencial)\n",
    "- [Normal](https://es.wikipedia.org/wiki/Distribución_normal)\n",
    "- [Khi cuadrado](https://es.wikipedia.org/wiki/Distribución_χ²)\n",
    "- [t de Student](https://es.wikipedia.org/wiki/Distribución_t_de_Student)\n",
    "- [F de Fisher](https://es.wikipedia.org/wiki/Distribución_F)"
   ]
  },
  {
   "cell_type": "markdown",
   "metadata": {},
   "source": [
    "#### Distribución Uniforme\n",
    "\n",
    "Una v.a. continua $X$ tiene distribución uniforme sobre el intervalo real $[a,b]$ con $a<b$, $X\\sim\\text{U}(a,b)$ si su función de densidad es $$f_X(x)=\\left\\{\n",
    "\\begin{array}{rl}\n",
    "     \\frac{1}{b-a} & \\text{si } a\\le x\\le b\n",
    "  \\\\ 0 & \\text{en cualquier otro caso}\n",
    "\\end{array}\n",
    "\\right.$$\n",
    "\n",
    "Modela el elegir un elemento del intervalo $[a,b]$ de manera equiprobable\n",
    "\n",
    "#### Distribución Uniforme\n",
    "\n",
    "- El **dominio** de $X$ será $D_X = [a,b]$\n",
    "\n",
    "- La **función de distribución** vendrá dada por $$F_X(x)=\\left\\{\n",
    "\\begin{array}{rl}\n",
    "    0 & \\text{si } x<a\n",
    "  \\\\ \\frac{x-a}{b-a} & \\text{si } a\\le x< b\n",
    "  \\\\ 1 & \\text{si } x\\ge b\n",
    "\\end{array}\n",
    "\\right.$$\n",
    "\n",
    "- **Esperanza** $E(X) = \\frac{a+b}{2}$\n",
    "- **Varianza** $Var(X) = \\frac{(b-a)^2}{12}$\n",
    "\n",
    "#### Ejemplo:\n",
    "\n",
    "Elegir un numero al azar entre $a$ y $b$, es una distribucion uniforme en dicho intervalo porque es equiprobable. \n",
    "\n",
    "Posibilidad de mover un jugador en un juego en diferentes tipos de angulos o direcciones. \n",
    "\n",
    "\n",
    "#### Distribución Uniforme\n",
    "\n",
    "El código de la distribución Uniforme:\n",
    "\n",
    "- En `R` tenemos las funciones del paquete `stats`: `dunif(x, min, max), punif(q, min, max), qunif(p, min, max), runif(n,  min, max)` donde `min` y `max` són los extremos de los intervalos de la distribución uniforme.\n",
    "- En `Python` tenemos las funciones del paquete `scipy.stats.uniform`: `pdf(k,loc, scale), cdf(k,loc, scale), ppf(q,loc, scale), rvs(n,loc, scaler)` donde la distribución uniforme está definida en el intervalo `[loc, loc+scale]`."
   ]
  },
  {
   "cell_type": "markdown",
   "metadata": {},
   "source": [
    "#### Ejemplo: \n",
    "Supongamos que $X\\sim u([0,1])$ entonces podemos estudiar sus parametros:"
   ]
  },
  {
   "cell_type": "code",
   "execution_count": 5,
   "metadata": {},
   "outputs": [],
   "source": [
    "from scipy.stats import uniform\n",
    "\n",
    "a = 0\n",
    "b = 1\n",
    "\n",
    "loc = a\n",
    "scale = b-a # recordar que el scale en python es distinto y esta modelado por la escala entre a y b"
   ]
  },
  {
   "cell_type": "code",
   "execution_count": 168,
   "metadata": {},
   "outputs": [
    {
     "name": "stdout",
     "output_type": "stream",
     "text": [
      "Media 0.500000\n",
      "Varianza 0.083333\n",
      "Sesgo 0.000000\n",
      "Curtosis -1.200000\n"
     ]
    },
    {
     "data": {
      "image/png": "[encoded data removed]",
      "text/plain": [
       "<Figure size 432x288 with 1 Axes>"
      ]
     },
     "metadata": {
      "needs_background": "light"
     },
     "output_type": "display_data"
    }
   ],
   "source": [
    "fig, ax = plt.subplots(1,1)\n",
    "\n",
    "rv = uniform(loc = loc, scale = scale)\n",
    "mean, var, skew, kurt = rv.stats(moments = 'mvsk')\n",
    "\n",
    "print(\"Media %f\"% mean) # Se puede ver que la media es de 0.50 (porque es la mitad entre 0 y 1)\n",
    "print(\"Varianza %f\"% var) # la varianza es 0.083\n",
    "print(\"Sesgo %f\"% skew) # el sesgo es nulo\n",
    "print(\"Curtosis %f\"% kurt) # la curtosis es negativa \n",
    "\n",
    "\n",
    "x = np.linspace(-0.1, 1.1, 120) # se generan 120 valores entre los intervalos\n",
    "ax.plot(x, rv.pdf(x), 'k-', lw = 2, label = 'U(0,1)')\n",
    "r = rv.rvs(size = 100000)\n",
    "ax.hist(r, density = True, histtype = \"stepfilled\", alpha = 0.25)\n",
    "\n",
    "ax.legend(loc = 'best', frameon = False)\n",
    "plt.show()"
   ]
  },
  {
   "cell_type": "code",
   "execution_count": 3,
   "metadata": {},
   "outputs": [],
   "source": [
    "a = 0\n",
    "b = 1\n",
    "\n",
    "loc = a\n",
    "scale = b-a # recordar que el scale en python es distinto y esta modelado por la escala entre a y b\n",
    "x = x = np.linspace(-0.1, 1.1, 120) "
   ]
  },
  {
   "cell_type": "code",
   "execution_count": 6,
   "metadata": {},
   "outputs": [
    {
     "data": {
      "text/plain": [
       "array([0., 0., 0., 0., 0., 0., 0., 0., 0., 0., 1., 1., 1., 1., 1., 1., 1.,\n",
       "       1., 1., 1., 1., 1., 1., 1., 1., 1., 1., 1., 1., 1., 1., 1., 1., 1.,\n",
       "       1., 1., 1., 1., 1., 1., 1., 1., 1., 1., 1., 1., 1., 1., 1., 1., 1.,\n",
       "       1., 1., 1., 1., 1., 1., 1., 1., 1., 1., 1., 1., 1., 1., 1., 1., 1.,\n",
       "       1., 1., 1., 1., 1., 1., 1., 1., 1., 1., 1., 1., 1., 1., 1., 1., 1.,\n",
       "       1., 1., 1., 1., 1., 1., 1., 1., 1., 1., 1., 1., 1., 1., 1., 1., 1.,\n",
       "       1., 1., 1., 1., 1., 1., 1., 1., 0., 0., 0., 0., 0., 0., 0., 0., 0.,\n",
       "       0.])"
      ]
     },
     "execution_count": 6,
     "metadata": {},
     "output_type": "execute_result"
    }
   ],
   "source": [
    "uniform.pdf(x, loc, scale) # como se puede ver la distribicion es de 0 y 1 esperados. "
   ]
  },
  {
   "cell_type": "code",
   "execution_count": 7,
   "metadata": {},
   "outputs": [
    {
     "data": {
      "text/plain": [
       "array([0.00000000e+00, 0.00000000e+00, 0.00000000e+00, 0.00000000e+00,\n",
       "       0.00000000e+00, 0.00000000e+00, 0.00000000e+00, 0.00000000e+00,\n",
       "       0.00000000e+00, 0.00000000e+00, 8.40336134e-04, 1.09243697e-02,\n",
       "       2.10084034e-02, 3.10924370e-02, 4.11764706e-02, 5.12605042e-02,\n",
       "       6.13445378e-02, 7.14285714e-02, 8.15126050e-02, 9.15966387e-02,\n",
       "       1.01680672e-01, 1.11764706e-01, 1.21848739e-01, 1.31932773e-01,\n",
       "       1.42016807e-01, 1.52100840e-01, 1.62184874e-01, 1.72268908e-01,\n",
       "       1.82352941e-01, 1.92436975e-01, 2.02521008e-01, 2.12605042e-01,\n",
       "       2.22689076e-01, 2.32773109e-01, 2.42857143e-01, 2.52941176e-01,\n",
       "       2.63025210e-01, 2.73109244e-01, 2.83193277e-01, 2.93277311e-01,\n",
       "       3.03361345e-01, 3.13445378e-01, 3.23529412e-01, 3.33613445e-01,\n",
       "       3.43697479e-01, 3.53781513e-01, 3.63865546e-01, 3.73949580e-01,\n",
       "       3.84033613e-01, 3.94117647e-01, 4.04201681e-01, 4.14285714e-01,\n",
       "       4.24369748e-01, 4.34453782e-01, 4.44537815e-01, 4.54621849e-01,\n",
       "       4.64705882e-01, 4.74789916e-01, 4.84873950e-01, 4.94957983e-01,\n",
       "       5.05042017e-01, 5.15126050e-01, 5.25210084e-01, 5.35294118e-01,\n",
       "       5.45378151e-01, 5.55462185e-01, 5.65546218e-01, 5.75630252e-01,\n",
       "       5.85714286e-01, 5.95798319e-01, 6.05882353e-01, 6.15966387e-01,\n",
       "       6.26050420e-01, 6.36134454e-01, 6.46218487e-01, 6.56302521e-01,\n",
       "       6.66386555e-01, 6.76470588e-01, 6.86554622e-01, 6.96638655e-01,\n",
       "       7.06722689e-01, 7.16806723e-01, 7.26890756e-01, 7.36974790e-01,\n",
       "       7.47058824e-01, 7.57142857e-01, 7.67226891e-01, 7.77310924e-01,\n",
       "       7.87394958e-01, 7.97478992e-01, 8.07563025e-01, 8.17647059e-01,\n",
       "       8.27731092e-01, 8.37815126e-01, 8.47899160e-01, 8.57983193e-01,\n",
       "       8.68067227e-01, 8.78151261e-01, 8.88235294e-01, 8.98319328e-01,\n",
       "       9.08403361e-01, 9.18487395e-01, 9.28571429e-01, 9.38655462e-01,\n",
       "       9.48739496e-01, 9.58823529e-01, 9.68907563e-01, 9.78991597e-01,\n",
       "       9.89075630e-01, 9.99159664e-01, 1.00000000e+00, 1.00000000e+00,\n",
       "       1.00000000e+00, 1.00000000e+00, 1.00000000e+00, 1.00000000e+00,\n",
       "       1.00000000e+00, 1.00000000e+00, 1.00000000e+00, 1.00000000e+00])"
      ]
     },
     "execution_count": 7,
     "metadata": {},
     "output_type": "execute_result"
    }
   ],
   "source": [
    "uniform.cdf(x, loc, scale) # probabilidades acumuladas"
   ]
  },
  {
   "cell_type": "code",
   "execution_count": 8,
   "metadata": {},
   "outputs": [
    {
     "data": {
      "text/plain": [
       "0.25"
      ]
     },
     "execution_count": 8,
     "metadata": {},
     "output_type": "execute_result"
    }
   ],
   "source": [
    "uniform.ppf(0.25, loc, scale) # obviamente el 25% de los datos o menos va a estar en 0.25 "
   ]
  },
  {
   "cell_type": "code",
   "execution_count": 9,
   "metadata": {},
   "outputs": [
    {
     "data": {
      "text/plain": [
       "array([0.27859284, 0.99324074, 0.44788228, 0.74138837, 0.18687008,\n",
       "       0.59901167, 0.8524768 , 0.62961754, 0.90041981, 0.83397204,\n",
       "       0.88072361, 0.23649571, 0.10105318, 0.84405594, 0.46828119,\n",
       "       0.14296429, 0.79621487, 0.2360564 , 0.54696908, 0.07056541,\n",
       "       0.72552746, 0.31307954, 0.00813378, 0.72823054, 0.80906988,\n",
       "       0.09588176, 0.12039875, 0.48393084, 0.22609187, 0.53014935,\n",
       "       0.28618337, 0.95658108, 0.73543725, 0.72223462, 0.41019731,\n",
       "       0.88192507, 0.6017147 , 0.64827053, 0.59241645, 0.84716256])"
      ]
     },
     "execution_count": 9,
     "metadata": {},
     "output_type": "execute_result"
    }
   ],
   "source": [
    "uniform.rvs(loc, scale, size = 40) "
   ]
  },
  {
   "cell_type": "code",
   "execution_count": 12,
   "metadata": {},
   "outputs": [
    {
     "data": {
      "image/png": "[encoded data removed]",
      "text/plain": [
       "<Figure size 432x288 with 1 Axes>"
      ]
     },
     "metadata": {
      "needs_background": "light"
     },
     "output_type": "display_data"
    }
   ],
   "source": [
    "plt.hist(uniform.rvs(loc, scale, size = 100000))\n",
    "plt.show()"
   ]
  },
  {
   "cell_type": "markdown",
   "metadata": {},
   "source": [
    "#### Distribución Exponencial\n",
    "\n",
    "Una v.a. $X$ tiene distribución exponencial de parámetro $\\lambda$, $X\\sim\\text{Exp}(\\lambda)$, si su función de densidad es $$f_X(x)=\\left\\{\n",
    "\\begin{array}{rl}\n",
    "     0 & \\text{si }  x\\le 0\n",
    "  \\\\ \\lambda\\cdot e^{-\\lambda x} & \\text{si }x>0\n",
    "\\end{array}\n",
    "\\right.$$\n",
    "\n",
    "<l class = \"prop\">Teorema. </l> Si tenemos un proceso de Poisson de parámetro $\\lambda$ por unidad de tiempo, el tiempo que pasa entre dos sucesos consecutivos es una v.a. $\\text{Exp}(\\lambda)$ \n",
    "\n",
    "<l class = \"prop\">Propiedad de la pérdida de memoria. </l> Si $X$ es v.a. $\\text{Exp}(\\lambda)$, entonces $$p(X>s+t\\ :\\ X>s)=p(X>t)\\ \\forall s,t>0$$\n",
    "\n",
    "#### Por ejemplo: \n",
    "\n",
    "Frecuencia del bus, es decir, el tiempo que espera una persona para tomar un bus; es una exponencial de parametro $\\lambda$ (propiedad de falta de memoria). Si una persona tiene que espera el bus 10 minutos, entonces es: $1/\\lambda$\n",
    "\n",
    "#### Distribución Exponencial\n",
    "\n",
    "- El **dominio** de $X$ será $D_X = [0,\\infty)$\n",
    "\n",
    "- La **función de distribución** vendrá dada por $$F_X(x)=\\left\\{\n",
    "\\begin{array}{rl}\n",
    "    0 & \\text{si } x\\le 0\n",
    "  \\\\ 1-e^{-\\lambda x} & \\text{si } x>0\n",
    "\\end{array}\n",
    "\\right.$$\n",
    "\n",
    "- **Esperanza** $E(X) = \\frac{1}{\\lambda}$\n",
    "- **Varianza** $Var(X) = \\frac{1}{\\lambda^2}$\n",
    "\n",
    "#### Distribución Exponencial\n",
    "\n",
    "El código de la distribución Exponencial:\n",
    "\n",
    "- En `R` tenemos las funciones del paquete `stats`: `dexp(x, rate), pexp(q, rate), qexp(p, rate), rexp(n,  rate)` donde `rate`$=\\lambda$ es el tiempo entre dos sucesos consecutivos de la distribución.\n",
    "- En `Python` tenemos las funciones del paquete `scipy.stats.expon`: `pdf(k, scale), cdf(k, scale), ppf(q, scale), rvs(n, scaler)` donde `scale`$=1/\\lambda$ es la inversa del tiempo entre dos sucesos consecutivos de la distribución."
   ]
  },
  {
   "cell_type": "markdown",
   "metadata": {},
   "source": [
    "#### Ejemplo: \n",
    "\n",
    "Calcule la probabilidad de espera de un bus que pasa cada 3 minutos por el sitio donde usted vive. "
   ]
  },
  {
   "cell_type": "code",
   "execution_count": 19,
   "metadata": {},
   "outputs": [
    {
     "name": "stdout",
     "output_type": "stream",
     "text": [
      "Media 0.333333\n",
      "Varianza 0.111111\n",
      "Sesgo 2.000000\n",
      "Curtosis 6.000000\n"
     ]
    },
    {
     "data": {
      "image/png": "[encoded data removed]",
      "text/plain": [
       "<Figure size 432x288 with 1 Axes>"
      ]
     },
     "metadata": {
      "needs_background": "light"
     },
     "output_type": "display_data"
    }
   ],
   "source": [
    "from scipy.stats import expon\n",
    "\n",
    "fig, ax = plt.subplots(1,1)\n",
    "\n",
    "lam = 3\n",
    "rv = expon(scale = 1/lam)\n",
    "\n",
    "mean, var, skew, kurt = rv.stats(moments = 'mvsk')\n",
    "\n",
    "print(\"Media %f\"% mean) # la media de espera es de 0.333 \n",
    "print(\"Varianza %f\"% var) # la varianza es de 0.111\n",
    "print(\"Sesgo %f\"% skew) # es positivo a la derecha\n",
    "print(\"Curtosis %f\"% kurt) # es positiva y no es plana\n",
    "\n",
    "x = np.linspace(0, 3, 1000)\n",
    "ax.plot(x, rv.pdf(x), 'r-', lw = 5, alpha = 0.6, label = 'Exp(10)')\n",
    "\n",
    "r = rv.rvs(size = 100000)\n",
    "ax.hist(r, density = True, histtype = 'stepfilled', alpha = 0.2 )\n",
    "ax.legend(loc = 'best', frameon = False)\n",
    "plt.show()"
   ]
  },
  {
   "cell_type": "code",
   "execution_count": 40,
   "metadata": {},
   "outputs": [
    {
     "data": {
      "text/plain": [
       "array([0.00000000e+00, 9.88571554e-01, 7.00247217e-01, 4.96014844e-01,\n",
       "       3.51348380e-01, 2.48874980e-01, 1.76288718e-01, 1.24872786e-01,\n",
       "       8.84526979e-02, 6.26548026e-02, 4.43810577e-02, 3.14369881e-02,\n",
       "       2.22681538e-02, 1.57734791e-02, 1.11730252e-02, 7.91432825e-03,\n",
       "       5.60605483e-03, 3.97100673e-03, 2.81283272e-03, 1.99244888e-03,\n",
       "       1.41133616e-03, 9.99709344e-04, 7.08136587e-04, 5.01603220e-04,\n",
       "       3.55306864e-04, 2.51678942e-04, 1.78274884e-04, 1.26279672e-04,\n",
       "       8.94492547e-05, 6.33607061e-05])"
      ]
     },
     "execution_count": 40,
     "metadata": {},
     "output_type": "execute_result"
    }
   ],
   "source": [
    "lam = 3\n",
    "scale = 1/lam\n",
    "x = np.linspace(0, 10, 30)\n",
    "expon.pdf(x, scale) # probabilidad de que pase un bus cada 3 minutos durante 30 observaciones. "
   ]
  },
  {
   "cell_type": "code",
   "execution_count": 41,
   "metadata": {},
   "outputs": [
    {
     "data": {
      "text/plain": [
       "array([0.        , 0.01142845, 0.29975278, 0.50398516, 0.64865162,\n",
       "       0.75112502, 0.82371128, 0.87512721, 0.9115473 , 0.9373452 ,\n",
       "       0.95561894, 0.96856301, 0.97773185, 0.98422652, 0.98882697,\n",
       "       0.99208567, 0.99439395, 0.99602899, 0.99718717, 0.99800755,\n",
       "       0.99858866, 0.99900029, 0.99929186, 0.9994984 , 0.99964469,\n",
       "       0.99974832, 0.99982173, 0.99987372, 0.99991055, 0.99993664])"
      ]
     },
     "execution_count": 41,
     "metadata": {},
     "output_type": "execute_result"
    }
   ],
   "source": [
    "expon.cdf(x, scale) # acumulada"
   ]
  },
  {
   "cell_type": "code",
   "execution_count": 42,
   "metadata": {},
   "outputs": [
    {
     "data": {
      "text/plain": [
       "0.6210154057851143"
      ]
     },
     "execution_count": 42,
     "metadata": {},
     "output_type": "execute_result"
    }
   ],
   "source": [
    "expon.ppf(0.25, scale) # en el 25% de los datos o menos la probabilidad de que pase un bus cada 3 minutos es de 0.62%"
   ]
  },
  {
   "cell_type": "code",
   "execution_count": 43,
   "metadata": {},
   "outputs": [
    {
     "data": {
      "text/plain": [
       "1.7196276944532238"
      ]
     },
     "execution_count": 43,
     "metadata": {},
     "output_type": "execute_result"
    }
   ],
   "source": [
    "expon.ppf(0.75, scale)"
   ]
  },
  {
   "cell_type": "code",
   "execution_count": 46,
   "metadata": {},
   "outputs": [],
   "source": [
    "data = expon.rvs(size = 2000, scale = 1/lam)"
   ]
  },
  {
   "cell_type": "code",
   "execution_count": 47,
   "metadata": {},
   "outputs": [
    {
     "data": {
      "image/png": "[encoded data removed]",
      "text/plain": [
       "<Figure size 432x288 with 1 Axes>"
      ]
     },
     "metadata": {
      "needs_background": "light"
     },
     "output_type": "display_data"
    }
   ],
   "source": [
    "plt.hist(data)\n",
    "plt.show()"
   ]
  },
  {
   "cell_type": "markdown",
   "metadata": {},
   "source": [
    "#### **Distribución Normal**\n",
    "\n",
    "Una v.a. $X$ tiene distribución normal o gaussiana de parámetros $\\mu$ y $\\sigma$, $X\\sim\\mathcal{N}(\\mu,\\sigma)$ si su función de densidad es $$f_X(x)=\\frac{1}{\\sqrt{2\\pi}\\sigma}e^{-\\frac{(x-\\mu)^2}{2\\sigma^2}}\\quad \\forall x\\in\\mathbb{R}$$\n",
    "\n",
    "La gráfica de $f_X$ es conocida como la <l class = \"definition\">**Campana de Gauss**</l>\n",
    "\n",
    "Cuando $\\mu = 0$ y $\\sigma = 1$, diremos que la v.a. $X$ es <l class = \"definition\">estándar</l> y la indicaremos usualmente como $Z$, la cual tendrá función de densidad\n",
    "$$f_Z(z)=\\frac{1}{\\sqrt{2\\pi}}e^{-\\frac{z^2}{2}}\\quad \\forall z\\in\\mathbb{R}$$\n",
    "\n",
    "#### Distribución Normal\n",
    "\n",
    "- **Esperanza** $E(X) = \\mu$\n",
    "- **Varianza** $Var(X) = \\sigma^2$\n",
    "\n",
    "En particualr, si $Z$ sigue una distribución estándar,\n",
    "\n",
    "- **Esperanza** $E(X) = 0$\n",
    "- **Varianza** $Var(X) = 1$\n",
    "\n",
    "#### Ejemplo:\n",
    "\n",
    "1. Notas en un examen. \n",
    "2. Altura, peso de una persona. \n",
    "3. Tiempo que se le dedica a estudiar cada dia, a jugar, etc.\n",
    "\n",
    "#### Distribución Normal\n",
    "\n",
    "El código de la distribución Normal:\n",
    "\n",
    "- En `R` tenemos las funciones del paquete `stats`: `dnorm(x, mean, sd), pnorm(q,  mean, sd), qnorm(p,  mean, sd), rnorm(n,   mean, sd)` donde `mean` es la media y `sd` es la desviación estándar de la normal $N(\\mu, \\sigma)$.\n",
    "- En `Python` tenemos las funciones del paquete `scipy.stats.normal`: `pdf(k, mu, scale), cdf(k,  mu, scale), ppf(q,  mu, scale), rvs(n,  mu, scale)`  donde `mu` es la media y `scale` es la desviación estándar de la normal $N(\\mu, \\sigma)$."
   ]
  },
  {
   "cell_type": "markdown",
   "metadata": {},
   "source": [
    "#### Ejemplo: \n",
    "\n",
    "¿Cuál es la probabilidad de que una persona que se presenta el examen obtenga una calificación superior a 72?\n",
    "Se supone que los resultados del examen siguen una distribución normal con media 78 y desviación típica 36."
   ]
  },
  {
   "cell_type": "code",
   "execution_count": 155,
   "metadata": {},
   "outputs": [],
   "source": [
    "loc = 78\n",
    "scale = 36"
   ]
  },
  {
   "cell_type": "code",
   "execution_count": 156,
   "metadata": {},
   "outputs": [],
   "source": [
    "from scipy.stats import norm\n",
    "import scipy"
   ]
  },
  {
   "cell_type": "code",
   "execution_count": 185,
   "metadata": {},
   "outputs": [
    {
     "data": {
      "text/plain": [
       "0.010928881002831665"
      ]
     },
     "execution_count": 185,
     "metadata": {},
     "output_type": "execute_result"
    }
   ],
   "source": [
    "norm.pdf(72, loc, scale)  # se debe obtener p valor. "
   ]
  },
  {
   "cell_type": "code",
   "execution_count": 166,
   "metadata": {},
   "outputs": [
    {
     "data": {
      "text/plain": [
       "0.5043599059178193"
      ]
     },
     "execution_count": 166,
     "metadata": {},
     "output_type": "execute_result"
    }
   ],
   "source": [
    "norm.cdf(0.010928881002831665) # La probabilidad de que una persona tenga mas de un 70% es de un 50%"
   ]
  },
  {
   "cell_type": "code",
   "execution_count": 167,
   "metadata": {},
   "outputs": [
    {
     "data": {
      "text/plain": [
       "0.6744897501960817"
      ]
     },
     "execution_count": 167,
     "metadata": {},
     "output_type": "execute_result"
    }
   ],
   "source": [
    "norm.ppf(0.75, loc, scale) # el tercer cuartil es igual o menor a 102.28"
   ]
  },
  {
   "cell_type": "code",
   "execution_count": 168,
   "metadata": {},
   "outputs": [
    {
     "data": {
      "text/plain": [
       "1.2815515655446004"
      ]
     },
     "execution_count": 168,
     "metadata": {},
     "output_type": "execute_result"
    }
   ],
   "source": [
    "norm.ppf(.90, loc, scale) # el percentil 9 es de 78.06"
   ]
  },
  {
   "cell_type": "code",
   "execution_count": 137,
   "metadata": {},
   "outputs": [
    {
     "data": {
      "text/plain": [
       "array([ 70.24883803,  82.22141442,  68.00130626,  42.93914013,\n",
       "        47.26644141,  69.05503065,  38.1041301 ,  42.84421066,\n",
       "        53.90566124,  70.5700684 ,  68.25156418,  90.66708216,\n",
       "        52.80821932,  77.54500191,  58.87739845,  59.93998843,\n",
       "        49.2852175 ,  61.60380629,  38.82402872,  25.59625989,\n",
       "        42.99924743,  37.77760826,  34.26986177,  56.00012964,\n",
       "        54.98430566,  40.92326568,  56.48177851,  78.98663815,\n",
       "        52.1781605 ,  46.65508663,  55.35330277,  43.09050995,\n",
       "        74.79555059,  36.17825226,  70.41903219,  75.35637923,\n",
       "        66.1023753 ,  32.7196434 ,  46.00028796,  86.84644407,\n",
       "        52.76451524,  39.55040855,  30.82078751,  53.30368159,\n",
       "        62.57565111,  69.8524249 ,  39.19509367,  48.85153225,\n",
       "        81.79997891,  43.32654189,  58.75773107,  43.80536867,\n",
       "        51.31163444,  41.37586022,  67.10783519,  33.50520486,\n",
       "        53.42652709,  65.85539477,  81.1972479 ,  28.2146855 ,\n",
       "        60.74602896,  76.83568288,  82.54338621,  57.15355383,\n",
       "        67.43159785,  43.5062881 ,  57.11241581,  72.257209  ,\n",
       "        54.94183615,  61.02229997,  56.19760407,  57.47442755,\n",
       "        80.98283296,  60.83229167,  66.55558374,  48.20786089,\n",
       "        54.3644589 ,  73.77421926,  67.63411227,  33.38919739,\n",
       "        56.32187583,  45.70673977,  48.66141413,  67.16371001,\n",
       "        69.58239596,  63.38004609,  36.69951162,  45.82184641,\n",
       "        66.50451377,  67.90310891,  45.43393399,  90.43623406,\n",
       "        75.5992052 ,  59.09301297,  44.85102631,  55.68765024,\n",
       "       101.22572969,  47.54694801,  69.08996767,  56.83369674])"
      ]
     },
     "execution_count": 137,
     "metadata": {},
     "output_type": "execute_result"
    }
   ],
   "source": [
    "norm.rvs(loc, scale, size = 100) # notas aleatorias. "
   ]
  },
  {
   "cell_type": "code",
   "execution_count": 139,
   "metadata": {},
   "outputs": [
    {
     "data": {
      "image/png": "[encoded data removed]",
      "text/plain": [
       "<Figure size 432x288 with 1 Axes>"
      ]
     },
     "metadata": {
      "needs_background": "light"
     },
     "output_type": "display_data"
    }
   ],
   "source": [
    "data = norm.rvs(mu, scale, size = 100) # notas aleatorias\n",
    "plt.hist(data)\n",
    "plt.title(\"Distribucion normal de calificaciones\")\n",
    "plt.show()"
   ]
  },
  {
   "cell_type": "markdown",
   "metadata": {},
   "source": [
    "#### Distribución Normal\n",
    "\n",
    "<l class = \"prop\">Estandarización de una v.a. normal.</l> Si $X$ es una v.a. $\\mathcal{N}(\\mu,\\sigma)$, entonces $$Z=\\frac{X-\\mu}{\\sigma}\\sim\\mathcal{N}(0,1)$$\n",
    "\n",
    "Las probabilidades de una normal estándar $Z$ determinan las de cualquier $X$ de tipo $\\mathcal{N}(\\mu,\\sigma)$:\n",
    "\n",
    "$$p(X\\le x)=p\\left(\\frac{X-\\mu}{\\sigma}\\le\\frac{x-\\mu}{\\sigma}\\right)=p\\left(Z\\le\\frac{x-\\mu}{\\sigma}\\right)$$\n",
    "\n",
    "#### Distribución Normal\n",
    "\n",
    "$F_Z$ no tiene expresión conocida.\n",
    "\n",
    "Se puede calcular con cualquier programa, como por ejemplo R, o bien a mano utilizando las [tablas de la $\\mathcal{N}(0,1)$](https://github.com/joanby/r-basic/blob/master/teoria/TablaNormal.pdf)\n",
    "\n",
    "Con las tablas se pueden calcular tanto probabilidades como cuantiles\n",
    "\n",
    "#### Distribución Normal en R y Python\n",
    "\n",
    "Si a la hora de llamar a alguna de las 4 funciones siguientes: `dnorm`, `pnorm`, `qnorm` o `rnorm` no especificásemos los parámetros de  la media ni la desviación típica, R entiende que se trata de la normal estándar: la $\\mathcal{N}(0,1)$.\n",
    "\n",
    "Es decir, R interpreta $\\mu = 0$ y $\\sigma = 1$\n",
    "\n",
    "En Python ocurre exactamente lo mismo.\n",
    "\n",
    "#### Otras distribuciones importantes\n",
    "\n",
    "- La distribución $\\chi^2_k$, donde $k$ representa los grados de libertad de la misma y que procede de la suma de los cuadrados de $k$ distribuciones normales estándar independientes:\n",
    "\n",
    "$$X = Z_1^2 + Z_2^2+\\cdots + Z_k^2\\sim \\chi_k^2$$\n",
    "\n",
    "#### Otras distribuciones importantes\n",
    "\n",
    "- La distribución $t_k$ surge del problema de estimar la media de una población normalmente distribuida cuando el tamaño de la muestra es pequeña y procede del cociente\n",
    "\n",
    "$$T = \\frac{Z}{\\sqrt{\\chi^2_k/k}}\\sim T_k$$\n",
    "\n",
    "#### Otras distribuciones importantes\n",
    "\n",
    "- La distribución $F_{n_1,n_2}$ aparece frecuentemente como la distribución nula de una prueba estadística, especialmente en el análisis de varianza. Viene definida como el cociente\n",
    "\n",
    "$$F = \\frac{\\chi^2_{n_1}/n_1}{\\chi^2_{n_2}/n_2}\\sim F_{n_1,n_2}$$\n",
    "\n",
    "#### Distribuciones continuas en R y Python\n",
    "\n",
    "Distribución |  Instrucción en R |  Instrucción en Python |  Parámetros                                \n",
    "--------------------|--------------------|--------------------|--------------------\n",
    "Uniforme | `unif` | `scipy.stats.uniform` | mínimo y máximo\n",
    "Exponencial | `exp` | `scipy.stats.expon` | $\\lambda$\n",
    "Normal | `norm` | `scipy.stats.normal` | media $\\mu$, desviación típica $\\sigma$\n",
    "Khi cuadrado | `chisq` | `scipy.stats.chi2` | grados de libertad\n",
    "t de Student | `t` | `scipy.stats.t` | grados de libertad\n",
    "F de Fisher | `f` | `scipy.stats.f` | los dos grados de libertad\n",
    "\n",
    "#### Otras distribuciones conocidas\n",
    "\n",
    "- Distribución de Pareto (Power Law)\n",
    "- Distribución Gamma y Beta\n",
    "- Distribución Log Normal\n",
    "- Distribución de Weibull\n",
    "- Distribución de Cauchy\n",
    "- Distribución Exponencial Normal\n",
    "- Distribución Von Mises\n",
    "- Distribución Rayleigh\n",
    "- ..."
   ]
  },
  {
   "cell_type": "markdown",
   "metadata": {},
   "source": [
    "#### Ejemplo:\n",
    "\n",
    "Estandarizacion:\n",
    "\n",
    "La media de los pesos de 500 estudiantes de una calse universitaria es 75 kg, con una desviacion tipia de 4 kg. Suponiendo que los pesos se distribuyen normalmente, hallar cuantos estudiantes pesan: \n",
    "\n",
    "    a) Entre 65 y 80 kg.\n",
    "    b) Mas de 90 kg. \n",
    "    c) 69 kg. \n",
    "    d) Menos de 70 kg. \n",
    "    e) 69 kg o mas."
   ]
  },
  {
   "cell_type": "code",
   "execution_count": 140,
   "metadata": {},
   "outputs": [],
   "source": [
    "mu = 75\n",
    "scale = 4"
   ]
  },
  {
   "cell_type": "code",
   "execution_count": 141,
   "metadata": {},
   "outputs": [
    {
     "name": "stdout",
     "output_type": "stream",
     "text": [
      "1.25 -2.5\n"
     ]
    }
   ],
   "source": [
    "# A)\n",
    "\n",
    "p1 = (80 - 75)/4\n",
    "p2 = (65-75)/4\n",
    "\n",
    "print(p1, p2)"
   ]
  },
  {
   "cell_type": "code",
   "execution_count": 142,
   "metadata": {},
   "outputs": [
    {
     "name": "stdout",
     "output_type": "stream",
     "text": [
      "0.8943502263331446 0.006209665325776132\n"
     ]
    }
   ],
   "source": [
    "p1 = norm.cdf(1.25)\n",
    "p2 = norm.cdf(-2.5)\n",
    "print(p1, p2)"
   ]
  },
  {
   "cell_type": "code",
   "execution_count": 146,
   "metadata": {},
   "outputs": [
    {
     "name": "stdout",
     "output_type": "stream",
     "text": [
      "La respuesta es:0.8881405610073685\n"
     ]
    }
   ],
   "source": [
    "pvalue = p1 - p2\n",
    "print(\"La respuesta es:\" + str(pvalue))"
   ]
  },
  {
   "cell_type": "code",
   "execution_count": 169,
   "metadata": {},
   "outputs": [
    {
     "data": {
      "text/plain": [
       "3.75"
      ]
     },
     "execution_count": 169,
     "metadata": {},
     "output_type": "execute_result"
    }
   ],
   "source": [
    "# B)\n",
    "\n",
    "p4 = (90 - 75)/4\n",
    "p4"
   ]
  },
  {
   "cell_type": "code",
   "execution_count": 173,
   "metadata": {},
   "outputs": [],
   "source": [
    "p5 = norm.cdf(3.75)"
   ]
  },
  {
   "cell_type": "code",
   "execution_count": 175,
   "metadata": {},
   "outputs": [
    {
     "data": {
      "text/plain": [
       "8.841728520081471e-05"
      ]
     },
     "execution_count": 175,
     "metadata": {},
     "output_type": "execute_result"
    }
   ],
   "source": [
    "final = 1- p5\n",
    "final"
   ]
  },
  {
   "cell_type": "code",
   "execution_count": 176,
   "metadata": {},
   "outputs": [],
   "source": [
    "# C) \n",
    "# La probabilidad es de 0, porque es exacto. "
   ]
  },
  {
   "cell_type": "code",
   "execution_count": 177,
   "metadata": {},
   "outputs": [
    {
     "data": {
      "text/plain": [
       "-1.25"
      ]
     },
     "execution_count": 177,
     "metadata": {},
     "output_type": "execute_result"
    }
   ],
   "source": [
    "# D)\n",
    "\n",
    "p6 = (70 - 75)/4\n",
    "p6"
   ]
  },
  {
   "cell_type": "code",
   "execution_count": 179,
   "metadata": {},
   "outputs": [
    {
     "name": "stdout",
     "output_type": "stream",
     "text": [
      "La respuesta es:0.10564977366685535\n"
     ]
    }
   ],
   "source": [
    "prob = norm.cdf(-1.25)\n",
    "print(\"La respuesta es:\" + str(prob))"
   ]
  },
  {
   "cell_type": "code",
   "execution_count": 180,
   "metadata": {},
   "outputs": [
    {
     "data": {
      "text/plain": [
       "-1.5"
      ]
     },
     "execution_count": 180,
     "metadata": {},
     "output_type": "execute_result"
    }
   ],
   "source": [
    "# E)\n",
    "\n",
    "p6 = (69-75)/4\n",
    "p6"
   ]
  },
  {
   "cell_type": "code",
   "execution_count": 183,
   "metadata": {},
   "outputs": [
    {
     "data": {
      "text/plain": [
       "0.06680720126885807"
      ]
     },
     "execution_count": 183,
     "metadata": {},
     "output_type": "execute_result"
    }
   ],
   "source": [
    "calculo = norm.cdf(-1.5)\n",
    "calculo"
   ]
  },
  {
   "cell_type": "code",
   "execution_count": 184,
   "metadata": {},
   "outputs": [
    {
     "name": "stdout",
     "output_type": "stream",
     "text": [
      "La respuesta es: 0.9331927987311419\n"
     ]
    }
   ],
   "source": [
    "final = 1 - calculo\n",
    "print(\"La respuesta es: \" + str(final))"
   ]
  },
  {
   "cell_type": "markdown",
   "metadata": {},
   "source": [
    "## Resumen Grafico"
   ]
  },
  {
   "cell_type": "code",
   "execution_count": 189,
   "metadata": {},
   "outputs": [
    {
     "data": {
      "image/png": "[encoded data removed]",
      "text/plain": [
       "<IPython.core.display.Image object>"
      ]
     },
     "execution_count": 189,
     "metadata": {},
     "output_type": "execute_result"
    }
   ],
   "source": [
    "from IPython.display import Image\n",
    "Image(filename=\"/Users/heinerleivagmail.com/foto.png\")"
   ]
  },
  {
   "cell_type": "code",
   "execution_count": null,
   "metadata": {},
   "outputs": [],
   "source": []
  }
 ],
 "metadata": {
  "kernelspec": {
   "display_name": "Python 3",
   "language": "python",
   "name": "python3"
  },
  "language_info": {
   "codemirror_mode": {
    "name": "ipython",
    "version": 3
   },
   "file_extension": ".py",
   "mimetype": "text/x-python",
   "name": "python",
   "nbconvert_exporter": "python",
   "pygments_lexer": "ipython3",
   "version": "3.7.4"
  }
 },
 "nbformat": 4,
 "nbformat_minor": 4
}
