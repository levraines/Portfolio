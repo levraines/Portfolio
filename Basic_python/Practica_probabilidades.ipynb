{
 "cells": [
  {
   "cell_type": "markdown",
   "metadata": {},
   "source": [
    "## Tarea Distribuciones de Probabilidad"
   ]
  },
  {
   "cell_type": "markdown",
   "metadata": {},
   "source": [
    "1) La cantidad de tiempo (en horas) utilizada para completar un producto determinado sigue una distribución N(10, 2). Calcule la probabilidad de que se tarde:\n",
    "\n",
    "a) Menos de 6 horas\n",
    "\n",
    "b) Entre 7 y 13 horas\n",
    "\n",
    "Estandarice y luego calcule la probabilidad requerida mediante las tablas y compruebe su resultado en R (o Python)"
   ]
  },
  {
   "cell_type": "code",
   "execution_count": 5,
   "metadata": {},
   "outputs": [],
   "source": [
    "from scipy.stats import norm\n",
    "import scipy"
   ]
  },
  {
   "cell_type": "code",
   "execution_count": 6,
   "metadata": {},
   "outputs": [],
   "source": [
    "# Definicion\n",
    "mu = 10\n",
    "scale = 2"
   ]
  },
  {
   "cell_type": "code",
   "execution_count": 7,
   "metadata": {},
   "outputs": [
    {
     "data": {
      "text/plain": [
       "-2.0"
      ]
     },
     "execution_count": 7,
     "metadata": {},
     "output_type": "execute_result"
    }
   ],
   "source": [
    "# a)\n",
    " \n",
    "p = (6-10)/2\n",
    "p"
   ]
  },
  {
   "cell_type": "code",
   "execution_count": 21,
   "metadata": {},
   "outputs": [
    {
     "name": "stdout",
     "output_type": "stream",
     "text": [
      "La probabilidad de que tarde menos de 6 horas es de: 2.2750131948179195%\n"
     ]
    }
   ],
   "source": [
    "p = norm.cdf(-2)\n",
    "print(\"La probabilidad de que tarde menos de 6 horas es de: \" + str(p*100)+'%')"
   ]
  },
  {
   "cell_type": "code",
   "execution_count": 15,
   "metadata": {},
   "outputs": [],
   "source": [
    "# b)\n",
    "\n",
    "p1 = (13-10)/2\n",
    "p2 = (7-10)/2"
   ]
  },
  {
   "cell_type": "code",
   "execution_count": 16,
   "metadata": {},
   "outputs": [
    {
     "name": "stdout",
     "output_type": "stream",
     "text": [
      "0.9331927987311419 0.06680720126885807\n"
     ]
    }
   ],
   "source": [
    "px1 = norm.cdf(p1)\n",
    "px2 = norm.cdf(p2)\n",
    "print(px1, px2)"
   ]
  },
  {
   "cell_type": "code",
   "execution_count": 20,
   "metadata": {},
   "outputs": [
    {
     "name": "stdout",
     "output_type": "stream",
     "text": [
      "La probabilidad que tarde entre 7 y 13 horas es de:86.63855974622838%\n"
     ]
    }
   ],
   "source": [
    "pvalue = px1 - px2\n",
    "print(\"La probabilidad que tarde entre 7 y 13 horas es de:\" + str(pvalue*100)+'%')"
   ]
  },
  {
   "cell_type": "markdown",
   "metadata": {},
   "source": [
    "2) El valor (en millones) de las ventas anuales realizadas en la Discográfica \"Hasta quedarnos sin tímpanos\" sigue un modelo normal de media igual a 200 y desviación tíıpica igual a 40.\n",
    "\n",
    "a) Calcula la probabilidad de que el número de ventas sea exactamente igual a 200 (millones)\n",
    "\n",
    "b) Calcula la probabilidad de que el número de ventas sea mayor que 250 (millones)\n",
    "\n",
    "c) Calcula la probabilidad de que el número de ventas sea menor o igual que 100 (millones)\n",
    "\n",
    "Estandarice y luego calcule la probabilidad requerida mediante las tablas y compruebe su resultado en R (o Python)"
   ]
  },
  {
   "cell_type": "code",
   "execution_count": 22,
   "metadata": {},
   "outputs": [],
   "source": [
    "# Definicion\n",
    "\n",
    "mu = 200\n",
    "scale = 40"
   ]
  },
  {
   "cell_type": "code",
   "execution_count": 23,
   "metadata": {},
   "outputs": [],
   "source": [
    "# a) La probabilidad es 0, porque el valor es exacto. "
   ]
  },
  {
   "cell_type": "code",
   "execution_count": 24,
   "metadata": {},
   "outputs": [],
   "source": [
    "# b)\n",
    "\n",
    "p3 = (250-200)/40"
   ]
  },
  {
   "cell_type": "code",
   "execution_count": 25,
   "metadata": {},
   "outputs": [
    {
     "name": "stdout",
     "output_type": "stream",
     "text": [
      "0.8943502263331446\n"
     ]
    }
   ],
   "source": [
    "px3 = norm.cdf(p3)\n",
    "print(px3)"
   ]
  },
  {
   "cell_type": "code",
   "execution_count": 27,
   "metadata": {},
   "outputs": [
    {
     "name": "stdout",
     "output_type": "stream",
     "text": [
      "La respuesta es: 10.564977366685536%\n"
     ]
    }
   ],
   "source": [
    "pvalue = 1-px3\n",
    "\n",
    "print(\"La respuesta es: \"+str(pvalue*100) + '%')"
   ]
  },
  {
   "cell_type": "code",
   "execution_count": 28,
   "metadata": {},
   "outputs": [],
   "source": [
    "# C) Si es igual a 100 millones la probabilidad es 0, porque es exacto. \n",
    "\n",
    "p4 = (100-200)/40"
   ]
  },
  {
   "cell_type": "code",
   "execution_count": 31,
   "metadata": {},
   "outputs": [
    {
     "data": {
      "text/plain": [
       "0.006209665325776132"
      ]
     },
     "execution_count": 31,
     "metadata": {},
     "output_type": "execute_result"
    }
   ],
   "source": [
    "px4 = norm.cdf(p4)\n",
    "px4"
   ]
  },
  {
   "cell_type": "code",
   "execution_count": 30,
   "metadata": {},
   "outputs": [
    {
     "name": "stdout",
     "output_type": "stream",
     "text": [
      "La respuesta es: 0.6209665325776133%\n"
     ]
    }
   ],
   "source": [
    "print(\"La respuesta es: \"+str(px4*100) + '%')"
   ]
  },
  {
   "cell_type": "markdown",
   "metadata": {},
   "source": [
    "3) Las puntuaciones obtenidas en un examen tipo test realizado a un grupo de opositores se distribuyen normalmente con media 50 y desviación típica 6.5. Calcule:\n",
    "\n",
    "a) Probabilidad de tener una puntuación menor a 23 puntos.\n",
    "\n",
    "b) Probabilidad de tener entre 27.3 y 43.1 puntos\n",
    "\n",
    "c) Probabilidad de tener más de 62 puntos\n",
    "\n",
    "d) Probabilidad de tener 3.2 puntos o menos\n",
    "\n",
    "e) Halle el número de puntos que se deben obtener para que la probabilidad de sacar menos de esa cantidad de puntos sea de 0.045\n",
    "\n",
    "f) Repita el apartado anterior, pero esta vez para obtener una probabilidad de 0.45\n",
    "\n",
    "Estandarice y luego calcule la probabilidad requerida mediante las tablas y compruebe su resultado en R (o Python)"
   ]
  },
  {
   "cell_type": "code",
   "execution_count": 35,
   "metadata": {},
   "outputs": [],
   "source": [
    "# Definicion\n",
    "\n",
    "mu = 50\n",
    "scale = 6.5"
   ]
  },
  {
   "cell_type": "code",
   "execution_count": 36,
   "metadata": {},
   "outputs": [
    {
     "name": "stdout",
     "output_type": "stream",
     "text": [
      "La respuesta es: 0.0016346651367556875%\n"
     ]
    }
   ],
   "source": [
    "# a) \n",
    "\n",
    "p5 = (23-50)/6.5\n",
    "px5 = norm.cdf(p5)\n",
    "print(\"La respuesta es: \"+str(px5*100) + '%')"
   ]
  },
  {
   "cell_type": "code",
   "execution_count": 37,
   "metadata": {},
   "outputs": [
    {
     "name": "stdout",
     "output_type": "stream",
     "text": [
      "La respuesta es: 14.398319857424738%\n"
     ]
    }
   ],
   "source": [
    "# b)\n",
    "\n",
    "p6 = (43.1-50)/6.5\n",
    "p7 = (27.3-50)/6.5\n",
    "\n",
    "px6 = norm.cdf(p6)\n",
    "px7 = norm.cdf(p7)\n",
    "\n",
    "pvalue = px6 - px7\n",
    "\n",
    "print(\"La respuesta es: \"+str(pvalue*100) + '%')"
   ]
  },
  {
   "cell_type": "code",
   "execution_count": 38,
   "metadata": {},
   "outputs": [
    {
     "name": "stdout",
     "output_type": "stream",
     "text": [
      "La respuesta es: 3.2434935139979526%\n"
     ]
    }
   ],
   "source": [
    "# c) \n",
    "\n",
    "p8 = (62-50)/6.5\n",
    "px8 = norm.cdf(p8)\n",
    "pvalue = 1 - px8\n",
    "\n",
    "print(\"La respuesta es: \"+str(pvalue*100) + '%')"
   ]
  },
  {
   "cell_type": "code",
   "execution_count": 40,
   "metadata": {},
   "outputs": [
    {
     "name": "stdout",
     "output_type": "stream",
     "text": [
      "La respuesta es: 3.010627981117443e-11%\n"
     ]
    }
   ],
   "source": [
    "# d)\n",
    "\n",
    "# Probabilidad de tener exactamente 3.2 es 0. \n",
    "\n",
    "p9 = (3.2-50)/6.5\n",
    "px9 = norm.cdf(p9)\n",
    "\n",
    "print(\"La respuesta es: \"+str(px9*100) + '%')"
   ]
  },
  {
   "cell_type": "code",
   "execution_count": 44,
   "metadata": {},
   "outputs": [],
   "source": [
    "# e y f)\n",
    "\n",
    "p10 =  norm.ppf(0.045, loc = mu, scale = scale)\n",
    "p11 = norm.ppf(0.45, loc = mu, scale = scale)"
   ]
  },
  {
   "cell_type": "code",
   "execution_count": 46,
   "metadata": {},
   "outputs": [
    {
     "name": "stdout",
     "output_type": "stream",
     "text": [
      "La respuesta es: 38.97991488323112\n",
      "La respuesta es: 49.18320124544202\n"
     ]
    }
   ],
   "source": [
    "print(\"La respuesta es: \"+ str(p10))\n",
    "print(\"La respuesta es: \"+ str(p11))"
   ]
  },
  {
   "cell_type": "code",
   "execution_count": null,
   "metadata": {},
   "outputs": [],
   "source": []
  }
 ],
 "metadata": {
  "kernelspec": {
   "display_name": "Python 3",
   "language": "python",
   "name": "python3"
  },
  "language_info": {
   "codemirror_mode": {
    "name": "ipython",
    "version": 3
   },
   "file_extension": ".py",
   "mimetype": "text/x-python",
   "name": "python",
   "nbconvert_exporter": "python",
   "pygments_lexer": "ipython3",
   "version": "3.7.4"
  }
 },
 "nbformat": 4,
 "nbformat_minor": 4
}
