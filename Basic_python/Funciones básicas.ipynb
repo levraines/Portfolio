{
 "cells": [
  {
   "cell_type": "markdown",
   "metadata": {},
   "source": [
    "### Tarea funciones"
   ]
  },
  {
   "cell_type": "markdown",
   "metadata": {},
   "source": [
    "#### 1. Escriba una secuencia de instrucciones que permitan leer un número real por pantalla y que muestre si el número es positivo o no."
   ]
  },
  {
   "cell_type": "code",
   "execution_count": 1,
   "metadata": {},
   "outputs": [],
   "source": [
    "def numero ():\n",
    "    x = int(input(\"Escriba un numero: \"))\n",
    "    if x >= 0:\n",
    "        print(\"Ha ingresado un numero positivo\")\n",
    "    else:\n",
    "        print(\"Ha ingresado un numero negativo\")"
   ]
  },
  {
   "cell_type": "code",
   "execution_count": 6,
   "metadata": {},
   "outputs": [
    {
     "name": "stdin",
     "output_type": "stream",
     "text": [
      "Escriba un numero:  6\n"
     ]
    },
    {
     "name": "stdout",
     "output_type": "stream",
     "text": [
      "Ha ingresado un numero positivo\n"
     ]
    }
   ],
   "source": [
    "numero()"
   ]
  },
  {
   "cell_type": "code",
   "execution_count": 7,
   "metadata": {},
   "outputs": [
    {
     "name": "stdin",
     "output_type": "stream",
     "text": [
      "Escriba un numero:  -6\n"
     ]
    },
    {
     "name": "stdout",
     "output_type": "stream",
     "text": [
      "Ha ingresado un numero negativo\n"
     ]
    }
   ],
   "source": [
    "numero()"
   ]
  },
  {
   "cell_type": "markdown",
   "metadata": {},
   "source": [
    "#### 2. Escriba una secuencia de instrucciones que permitan leer un número real por pantalla y que muestre si el número está en el rango entre -5 y 5"
   ]
  },
  {
   "cell_type": "code",
   "execution_count": 8,
   "metadata": {},
   "outputs": [],
   "source": [
    "def rango():\n",
    "    x = int(input(\"Ingrese un numero: \"))\n",
    "    if x > 5:\n",
    "        print(\"El numero no esta dentro del rango [-5,5]\")\n",
    "    elif x < -5:\n",
    "        print(\"El numero no esta dentro del rango [-5,5] \")\n",
    "    else: \n",
    "        print(\"El numero ingresado esta dentro del rango [-5,5]\")"
   ]
  },
  {
   "cell_type": "code",
   "execution_count": 9,
   "metadata": {},
   "outputs": [
    {
     "name": "stdin",
     "output_type": "stream",
     "text": [
      "Ingrese un numero:  6\n"
     ]
    },
    {
     "name": "stdout",
     "output_type": "stream",
     "text": [
      "El numero no esta dentro del rango [-5,5]\n"
     ]
    }
   ],
   "source": [
    "rango()"
   ]
  },
  {
   "cell_type": "code",
   "execution_count": 10,
   "metadata": {},
   "outputs": [
    {
     "name": "stdin",
     "output_type": "stream",
     "text": [
      "Ingrese un numero:  -4\n"
     ]
    },
    {
     "name": "stdout",
     "output_type": "stream",
     "text": [
      "El numero ingresado esta dentro del rango [-5,5]\n"
     ]
    }
   ],
   "source": [
    "rango()"
   ]
  },
  {
   "cell_type": "code",
   "execution_count": 12,
   "metadata": {},
   "outputs": [
    {
     "name": "stdin",
     "output_type": "stream",
     "text": [
      "Ingrese un numero:  -5\n"
     ]
    },
    {
     "name": "stdout",
     "output_type": "stream",
     "text": [
      "El numero ingresado esta dentro del rango [-5,5]\n"
     ]
    }
   ],
   "source": [
    "rango()"
   ]
  },
  {
   "cell_type": "markdown",
   "metadata": {},
   "source": [
    "#### 3. Escriba una secuencia de instrucciones que permitan leer las coordenadas de un punto (x, y) e indique en cuál de los cuatro cuadrantes se encuentra dicho punto."
   ]
  },
  {
   "cell_type": "code",
   "execution_count": 13,
   "metadata": {},
   "outputs": [],
   "source": [
    "def cuadrante ():\n",
    "    x = int(input(\"Ingrese un valor para x: \"))\n",
    "    y = int(input(\"Ingrese un valor para y: \"))\n",
    "    if x > 0 and y > 0:\n",
    "        print(\"Las coordenadas ingresadas pertenecen al primer cuadrante\")\n",
    "    elif x < 0 and y > 0:\n",
    "        print(\"Las coordenadas ingresadas pertenecen al segundo cuadrante \")\n",
    "    elif x < 0 and y < 0: \n",
    "        print(\"Las coordenadas ingresadas pertenecen al tercer cuadrante\")\n",
    "    else:\n",
    "        print(\"Las coordenadas ingresadas pertenecen al cuarto cuadrante\")"
   ]
  },
  {
   "cell_type": "code",
   "execution_count": 14,
   "metadata": {},
   "outputs": [
    {
     "name": "stdin",
     "output_type": "stream",
     "text": [
      "Ingrese un valor para x:  -5\n",
      "Ingrese un valor para y:  7\n"
     ]
    },
    {
     "name": "stdout",
     "output_type": "stream",
     "text": [
      "Las coordenadas ingresadas pertenecen al segundo cuadrante \n"
     ]
    }
   ],
   "source": [
    "cuadrante()"
   ]
  },
  {
   "cell_type": "code",
   "execution_count": 15,
   "metadata": {},
   "outputs": [
    {
     "name": "stdin",
     "output_type": "stream",
     "text": [
      "Ingrese un valor para x:  5\n",
      "Ingrese un valor para y:  8\n"
     ]
    },
    {
     "name": "stdout",
     "output_type": "stream",
     "text": [
      "Las coordenadas ingresadas pertenecen al primer cuadrante\n"
     ]
    }
   ],
   "source": [
    "cuadrante()"
   ]
  },
  {
   "cell_type": "code",
   "execution_count": 16,
   "metadata": {},
   "outputs": [
    {
     "name": "stdin",
     "output_type": "stream",
     "text": [
      "Ingrese un valor para x:  -7\n",
      "Ingrese un valor para y:  -5\n"
     ]
    },
    {
     "name": "stdout",
     "output_type": "stream",
     "text": [
      "Las coordenadas ingresadas pertenecen al tercer cuadrante\n"
     ]
    }
   ],
   "source": [
    "cuadrante()"
   ]
  },
  {
   "cell_type": "code",
   "execution_count": 17,
   "metadata": {},
   "outputs": [
    {
     "name": "stdin",
     "output_type": "stream",
     "text": [
      "Ingrese un valor para x:  7\n",
      "Ingrese un valor para y:  -6\n"
     ]
    },
    {
     "name": "stdout",
     "output_type": "stream",
     "text": [
      "Las coordenadas ingresadas pertenecen al cuarto cuadrante\n"
     ]
    }
   ],
   "source": [
    "cuadrante()"
   ]
  },
  {
   "cell_type": "markdown",
   "metadata": {},
   "source": [
    "#### 4. Escriba una secuencia de instrucciones que permitan leer dos números enteros y muestre el cociente de la división entera y el resto."
   ]
  },
  {
   "cell_type": "code",
   "execution_count": 24,
   "metadata": {},
   "outputs": [],
   "source": [
    "import math as mt\n",
    "def division ():\n",
    "    x = int(input(\"Ingrese el primero numero entero: \"))\n",
    "    y = int(input(\"Ingrese el segundo numero entero: \"))\n",
    "    cociente = x//y\n",
    "    print(\"El cociente de la division entera es: \" + str(cociente))\n",
    "    resto = mt.fmod(x,y)\n",
    "    print(\"El resto de la division es: \" + str(resto))"
   ]
  },
  {
   "cell_type": "code",
   "execution_count": 28,
   "metadata": {},
   "outputs": [
    {
     "name": "stdin",
     "output_type": "stream",
     "text": [
      "Ingrese el primero numero entero:  15\n",
      "Ingrese el segundo numero entero:  4\n"
     ]
    },
    {
     "name": "stdout",
     "output_type": "stream",
     "text": [
      "El cociente de la division entera es: 3\n",
      "El resto de la division es: 3.0\n"
     ]
    }
   ],
   "source": [
    "division()"
   ]
  },
  {
   "cell_type": "code",
   "execution_count": 29,
   "metadata": {},
   "outputs": [
    {
     "name": "stdin",
     "output_type": "stream",
     "text": [
      "Ingrese el primero numero entero:  20\n",
      "Ingrese el segundo numero entero:  9\n"
     ]
    },
    {
     "name": "stdout",
     "output_type": "stream",
     "text": [
      "El cociente de la division entera es: 2\n",
      "El resto de la division es: 2.0\n"
     ]
    }
   ],
   "source": [
    "division()"
   ]
  },
  {
   "cell_type": "markdown",
   "metadata": {},
   "source": [
    "#### 5. Escribe una secuencia de instrucciones que permitan leer un número entero es cuadrado perfecto o no (piensa la mejor forma de hacerlo con lo que has aprendido hasta ahora)"
   ]
  },
  {
   "cell_type": "code",
   "execution_count": 42,
   "metadata": {},
   "outputs": [],
   "source": [
    "import math as mt\n",
    "def cuadrado ():\n",
    "    a = int(input(\"Ingrese un numero entero: \"))\n",
    "    if (mt.sqrt(a)-int(mt.sqrt(a))):\n",
    "        print(\"El numero ingresado no es un cuadrado perfecto\")\n",
    "    else: \n",
    "        print(\"El numero ingresado es un cuadrado perfecto\")"
   ]
  },
  {
   "cell_type": "code",
   "execution_count": 44,
   "metadata": {},
   "outputs": [
    {
     "name": "stdin",
     "output_type": "stream",
     "text": [
      "Ingrese un numero entero:  16\n"
     ]
    },
    {
     "name": "stdout",
     "output_type": "stream",
     "text": [
      "El numero ingresado es un cuadrado perfecto\n"
     ]
    }
   ],
   "source": [
    "cuadrado()"
   ]
  },
  {
   "cell_type": "code",
   "execution_count": 45,
   "metadata": {},
   "outputs": [
    {
     "name": "stdin",
     "output_type": "stream",
     "text": [
      "Ingrese un numero entero:  5\n"
     ]
    },
    {
     "name": "stdout",
     "output_type": "stream",
     "text": [
      "El numero ingresado no es un cuadrado perfecto\n"
     ]
    }
   ],
   "source": [
    "cuadrado()"
   ]
  },
  {
   "cell_type": "markdown",
   "metadata": {},
   "source": [
    "#### 6. Escriba una expresión que permita determinar si un número entero positivo puede corresponder a un año bisiesto o no. Se consideran años bisiestos aquellos cuyo número es divisible por cuatro excepto los años que son múltiplos de 100, a no ser que lo sean de 400 (por ejemplo el año 2000 fue bisiesto pero el 2100 no lo será)."
   ]
  },
  {
   "cell_type": "code",
   "execution_count": 55,
   "metadata": {},
   "outputs": [],
   "source": [
    "def bisiesto ():\n",
    "    anno = int(input(\"Ingrese un anno: \"))\n",
    "    if anno % 400 == 0:\n",
    "        print(\"El anno ingresado es bisiesto\")\n",
    "    elif anno % 100 == 0:\n",
    "        print(\"El anno ingresado no es bisiesto\")\n",
    "    elif anno % 4 == 0:\n",
    "        print(\"El anno ingresado es bisiesto\")\n",
    "    else:\n",
    "        print(\"El anno ingresado no es bisiesto\")"
   ]
  },
  {
   "cell_type": "code",
   "execution_count": 56,
   "metadata": {},
   "outputs": [
    {
     "name": "stdin",
     "output_type": "stream",
     "text": [
      "Ingrese un anno:  2000\n"
     ]
    },
    {
     "name": "stdout",
     "output_type": "stream",
     "text": [
      "El anno ingresado es bisiesto\n"
     ]
    }
   ],
   "source": [
    "bisiesto()"
   ]
  },
  {
   "cell_type": "code",
   "execution_count": 57,
   "metadata": {},
   "outputs": [
    {
     "name": "stdin",
     "output_type": "stream",
     "text": [
      "Ingrese un anno:  2001\n"
     ]
    },
    {
     "name": "stdout",
     "output_type": "stream",
     "text": [
      "El anno ingresado no es bisiesto\n"
     ]
    }
   ],
   "source": [
    "bisiesto()"
   ]
  },
  {
   "cell_type": "code",
   "execution_count": 59,
   "metadata": {},
   "outputs": [
    {
     "name": "stdin",
     "output_type": "stream",
     "text": [
      "Ingrese un anno:  2100\n"
     ]
    },
    {
     "name": "stdout",
     "output_type": "stream",
     "text": [
      "El anno ingresado no es bisiesto\n"
     ]
    }
   ],
   "source": [
    "bisiesto()"
   ]
  },
  {
   "cell_type": "markdown",
   "metadata": {},
   "source": [
    "#### 7. Busque la imagen de un tablero de ajedrez en Google y fíjate en la nomenclatura de las casillas. Escribe una expresión lea una letra y un número de teclado correspondiente a una casilla de un tablero de ajedrez y nos indique si esta casilla es negra o blanca."
   ]
  },
  {
   "cell_type": "code",
   "execution_count": 97,
   "metadata": {},
   "outputs": [],
   "source": [
    "def color ():\n",
    "    letra = str(input(\"Ingrese una letra entre a y h: \"))\n",
    "    numero = int(input(\"Ingrese un numero entre 1 y 8: \"))\n",
    "    if letra == 'a' or letra == 'c' or letra == 'e' or letra == 'g':\n",
    "        if numero % 2 == 0:\n",
    "            print(\"Es una casilla negra\")\n",
    "        else:\n",
    "            print(\"Es una casilla blanca\")\n",
    "    if letra == 'b' or letra == 'd' or letra == 'f' or letra == 'h':\n",
    "        if numero % 2 == 0:\n",
    "            print(\"Es una casilla blanca\")\n",
    "        else: \n",
    "            print(\"Es una casilla negra\")"
   ]
  },
  {
   "cell_type": "code",
   "execution_count": 101,
   "metadata": {},
   "outputs": [
    {
     "name": "stdin",
     "output_type": "stream",
     "text": [
      "Ingrese una letra entre a y h:  e\n",
      "Ingrese un numero entre 1 y 8:  7\n"
     ]
    },
    {
     "name": "stdout",
     "output_type": "stream",
     "text": [
      "Es una casilla blanca\n"
     ]
    }
   ],
   "source": [
    "color()"
   ]
  },
  {
   "cell_type": "code",
   "execution_count": 102,
   "metadata": {},
   "outputs": [
    {
     "name": "stdin",
     "output_type": "stream",
     "text": [
      "Ingrese una letra entre a y h:  h\n",
      "Ingrese un numero entre 1 y 8:  4\n"
     ]
    },
    {
     "name": "stdout",
     "output_type": "stream",
     "text": [
      "Es una casilla blanca\n"
     ]
    }
   ],
   "source": [
    "color()"
   ]
  },
  {
   "cell_type": "code",
   "execution_count": null,
   "metadata": {},
   "outputs": [],
   "source": []
  }
 ],
 "metadata": {
  "kernelspec": {
   "display_name": "Python 3",
   "language": "python",
   "name": "python3"
  },
  "language_info": {
   "codemirror_mode": {
    "name": "ipython",
    "version": 3
   },
   "file_extension": ".py",
   "mimetype": "text/x-python",
   "name": "python",
   "nbconvert_exporter": "python",
   "pygments_lexer": "ipython3",
   "version": "3.7.4"
  }
 },
 "nbformat": 4,
 "nbformat_minor": 4
}
