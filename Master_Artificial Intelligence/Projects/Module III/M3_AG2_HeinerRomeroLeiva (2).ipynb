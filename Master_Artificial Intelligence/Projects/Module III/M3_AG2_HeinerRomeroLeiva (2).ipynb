{
 "cells": [
  {
   "cell_type": "markdown",
   "metadata": {},
   "source": [
    "Primero se opta por importar las bibliotecas de trabajo y las dependencias necesarias. \n",
    "La presente tarea se realizó utilizando Firefox."
   ]
  },
  {
   "cell_type": "code",
   "execution_count": 1,
   "metadata": {},
   "outputs": [],
   "source": [
    "# Importando bibliotecas de trabajo\n",
    "import pandas as pd   \n",
    "import requests      \n",
    "from bs4 import BeautifulSoup \n",
    "import numpy as np \n",
    "import warnings\n",
    "import re\n",
    "warnings.filterwarnings(\"ignore\")\n",
    "from IPython import get_ipython\n",
    "if 'google.colab' in str(get_ipython()):\n",
    "  # instalar drivers\n",
    "  !apt install chromium-chromedriver\n",
    "  !cp /usr/lib/chromium-browser/chromedriver /usr/bin\n",
    "  !pip install selenium\n",
    "  !pip install cssselect"
   ]
  },
  {
   "cell_type": "code",
   "execution_count": 2,
   "metadata": {},
   "outputs": [],
   "source": [
    "from selenium import webdriver\n",
    "from selenium.webdriver.common.by import By\n",
    "from selenium.webdriver.common.by import By\n",
    "from selenium.webdriver.common.action_chains import ActionChains\n",
    "from selenium.webdriver.support import expected_conditions\n",
    "from selenium.webdriver.support.wait import WebDriverWait\n",
    "from selenium.webdriver.common.keys import Keys\n",
    "from selenium.webdriver.common.desired_capabilities import DesiredCapabilities\n",
    "if 'google.colab' in str(get_ipython()):\n",
    "  # instalar drivers\n",
    "  options = webdriver.ChromeOptions()\n",
    "  options.add_argument('-headless')\n",
    "  options.add_argument('-no-sandbox')\n",
    "  options.add_argument('-disable-dev-shm-usage')\n",
    "  #options.headless = True\n",
    "  #options.add_argument(\"--window-size=1920,1200\")\n",
    "  driver = webdriver.Chrome('chromedriver',options=options)\n",
    "else:\n",
    "  import os \n",
    "  os.environ[\"PATH\"] = '$PATH:.'\n",
    "  #driver = webdriver.Chrome('C:/Users/usuari/Documents/masterM2/Data_Digital/chromedriver')\n",
    "  driver = webdriver.Firefox()"
   ]
  },
  {
   "cell_type": "markdown",
   "metadata": {},
   "source": [
    "En este trabajo se va a optar por hacer dos ejercicios:\n",
    "1. El primero consiste en crear un Dataframe con los datos de las 1000 películas más taquilleras de todos los tiempos, para este se utilizará la página principal en las que salen los títulos. \n",
    "2. Se procede a utilizar Beautiful Soup para poder automatizar una gran cantidad de campos. \n",
    "3. El presente muestra cómo se vería a nivel de DF ya automatizado."
   ]
  },
  {
   "cell_type": "code",
   "execution_count": 3,
   "metadata": {},
   "outputs": [],
   "source": [
    "# Asignando la URL para buscar las peliculas por IMDB Top 1000\n",
    "url = 'https://www.imdb.com/search/title/?groups=top_1000'\n",
    "\n",
    "# Esperando la petiticion del HTTP \n",
    "response = requests.get(url)\n",
    "soup = BeautifulSoup(response.content, 'html.parser')"
   ]
  },
  {
   "cell_type": "code",
   "execution_count": 4,
   "metadata": {},
   "outputs": [],
   "source": [
    "# Creando listas para guardar los datos dentro de un df\n",
    "Nombre_pelicula = []\n",
    "Puntuacion = []\n",
    "Anno = []\n",
    "Descripcion = []\n",
    "Duracion = []\n",
    "Rating = []\n",
    "Genero = []"
   ]
  },
  {
   "cell_type": "code",
   "execution_count": 5,
   "metadata": {},
   "outputs": [],
   "source": [
    "#storing the meaningfull required data in the variable\n",
    "movie_data = soup.findAll('div', attrs= {'class': 'lister-item mode-advanced'})\n",
    "\n",
    "#calling one by one using for loop\n",
    "for store in movie_data:\n",
    "    name = store.h3.a.text\n",
    "    Nombre_pelicula.append(name)\n",
    "    \n",
    "    anno_lanzamiento = store.h3.find('span', class_ = 'lister-item-year text-muted unbold').text.replace('(', '').replace(')', '')\n",
    "    Anno.append(anno_lanzamiento)\n",
    "    \n",
    "    duracion_pelicula = store.p.find('span', class_ = 'runtime').text.replace(' min', '')\n",
    "    Duracion.append(duracion_pelicula)\n",
    "    \n",
    "    rate = store.find('div', class_ = 'inline-block ratings-imdb-rating').text.replace('\\n', '')\n",
    "    Rating.append(rate)\n",
    "    \n",
    "    puntuacion_pelicula  = store.find('span', class_ = 'metascore').text.replace(' ', '') if store.find('span', class_ = 'metascore') else '^^^^^^'\n",
    "    Puntuacion.append(puntuacion_pelicula)\n",
    "    \n",
    "    describe = store.find_all('p', class_ = 'text-muted')\n",
    "    descripcion_pelicula = describe[1].text.replace('\\n', '') if len(describe) >1 else '*****'\n",
    "    Descripcion.append(descripcion_pelicula)\n",
    "    \n",
    "    genero_pelicula   = store.find('span', class_ = 'genre').text.replace('\\n', '') if store.find('span', class_ = 'genre') else '^^^^^^'\n",
    "    Genero.append(genero_pelicula)\n",
    "    \n",
    "# Creando un DF usando la biblioteca de pandas\n",
    "movie_DF = pd.DataFrame({'Nombre pelicula': Nombre_pelicula, 'Año': Anno, 'Duración': Duracion, 'Puntuación': Rating,  'Descripción': Descripcion, \"Género\": Genero})"
   ]
  },
  {
   "cell_type": "code",
   "execution_count": 6,
   "metadata": {
    "scrolled": true
   },
   "outputs": [
    {
     "data": {
      "text/html": [
       "<div>\n",
       "<style scoped>\n",
       "    .dataframe tbody tr th:only-of-type {\n",
       "        vertical-align: middle;\n",
       "    }\n",
       "\n",
       "    .dataframe tbody tr th {\n",
       "        vertical-align: top;\n",
       "    }\n",
       "\n",
       "    .dataframe thead th {\n",
       "        text-align: right;\n",
       "    }\n",
       "</style>\n",
       "<table border=\"1\" class=\"dataframe\">\n",
       "  <thead>\n",
       "    <tr style=\"text-align: right;\">\n",
       "      <th></th>\n",
       "      <th>Nombre pelicula</th>\n",
       "      <th>Año</th>\n",
       "      <th>Duración</th>\n",
       "      <th>Puntuación</th>\n",
       "      <th>Descripción</th>\n",
       "      <th>Género</th>\n",
       "    </tr>\n",
       "  </thead>\n",
       "  <tbody>\n",
       "    <tr>\n",
       "      <th>0</th>\n",
       "      <td>The Batman</td>\n",
       "      <td>2022</td>\n",
       "      <td>176</td>\n",
       "      <td>8.4</td>\n",
       "      <td>When the Riddler, a sadistic serial killer, be...</td>\n",
       "      <td>Action, Crime, Drama</td>\n",
       "    </tr>\n",
       "    <tr>\n",
       "      <th>1</th>\n",
       "      <td>Spider-Man: No Way Home</td>\n",
       "      <td>2021</td>\n",
       "      <td>148</td>\n",
       "      <td>8.5</td>\n",
       "      <td>With Spider-Man's identity now revealed, Peter...</td>\n",
       "      <td>Action, Adventure, Fantasy</td>\n",
       "    </tr>\n",
       "    <tr>\n",
       "      <th>2</th>\n",
       "      <td>Dune: Part One</td>\n",
       "      <td>2021</td>\n",
       "      <td>155</td>\n",
       "      <td>8.1</td>\n",
       "      <td>A noble family becomes embroiled in a war for ...</td>\n",
       "      <td>Action, Adventure, Drama</td>\n",
       "    </tr>\n",
       "    <tr>\n",
       "      <th>3</th>\n",
       "      <td>The Dark Knight</td>\n",
       "      <td>2008</td>\n",
       "      <td>152</td>\n",
       "      <td>9.1</td>\n",
       "      <td>When the menace known as the Joker wreaks havo...</td>\n",
       "      <td>Action, Crime, Drama</td>\n",
       "    </tr>\n",
       "  </tbody>\n",
       "</table>\n",
       "</div>"
      ],
      "text/plain": [
       "           Nombre pelicula   Año Duración Puntuación  \\\n",
       "0               The Batman  2022      176        8.4   \n",
       "1  Spider-Man: No Way Home  2021      148        8.5   \n",
       "2           Dune: Part One  2021      155        8.1   \n",
       "3          The Dark Knight  2008      152        9.1   \n",
       "\n",
       "                                         Descripción  \\\n",
       "0  When the Riddler, a sadistic serial killer, be...   \n",
       "1  With Spider-Man's identity now revealed, Peter...   \n",
       "2  A noble family becomes embroiled in a war for ...   \n",
       "3  When the menace known as the Joker wreaks havo...   \n",
       "\n",
       "                                   Género  \n",
       "0        Action, Crime, Drama              \n",
       "1  Action, Adventure, Fantasy              \n",
       "2    Action, Adventure, Drama              \n",
       "3        Action, Crime, Drama              "
      ]
     },
     "execution_count": 6,
     "metadata": {},
     "output_type": "execute_result"
    }
   ],
   "source": [
    "# Visualizando datos\n",
    "movie_DF.head(4)"
   ]
  },
  {
   "cell_type": "markdown",
   "metadata": {},
   "source": [
    "Aquí se puede ver que las 4 películas que es necesario utilizar para obtener sus atributos son:\n",
    "1. The Batman. \n",
    "2. Spider-Man: No Way Home.\n",
    "3. Dune: Part One. \n",
    "4. The Dark Night. \n",
    "\n",
    "A continuación se empezará a ingresar en cada uno de los links propios de las películas, ya que, muchos de los campos solicitados no se encuentran en la página principal y es necesario abrir cada link por aparte para extraer los datos. Esto se procederá a hacer para las siguientes 4 películas y se procederá a hacer un diccionario para guardar los datos.\n",
    "\n",
    "Nota: cada link tiene la imagen de cada una de las portadas de las película, para verlo, solo es necesario copiar y pegar el link en el explorador. "
   ]
  },
  {
   "cell_type": "code",
   "execution_count": 7,
   "metadata": {},
   "outputs": [
    {
     "name": "stdout",
     "output_type": "stream",
     "text": [
      "<html xmlns:og=\"http://opengraphprotocol.org/schema/\" xmlns:fb=\"http://www.facebook.com/2008/fbml\" class=\" scriptsOn\" lang=\"es-ES\"><head><script async=\"\" src=\"https://images-na.ssl-images-amazon.com/images/I/31YXrY93hfL.js\" crossorigin=\"anonymous\"></script><meta name=\"viewport\" content=\"width=device-width\"><meta charset=\"utf-8\"><title>The Batman (2022) - IMDb</title><meta name=\"description\" content=\"The Batman: Dirigido por Matt Reeves. Con Robert Pattinson, Zoë Kravitz, Jeffrey Wright, Colin Fa\n"
     ]
    }
   ],
   "source": [
    "# Explorando la primera pelicula de la lista - The Batman -\n",
    "driver.get(\"https://www.imdb.com/title/tt1877830/?ref_=adv_li_tt\")\n",
    "print(driver.page_source[:500])\n",
    "html_text = driver.page_source\n",
    "from lxml import html\n",
    "from lxml import cssselect\n",
    "tree = html.document_fromstring(html_text)\n",
    "from urllib.request import urlopen\n",
    "from bs4 import BeautifulSoup\n",
    "\n",
    "#html = urlopen('https://www.imdb.com/title/tt1877830/?ref_=adv_li_tt')\n",
    "bs = BeautifulSoup(html_text, 'html.parser')"
   ]
  },
  {
   "cell_type": "code",
   "execution_count": 8,
   "metadata": {},
   "outputs": [],
   "source": [
    "# Se capturan todos los atributos buscados\n",
    "var1 = tree.cssselect(\".sc-b73cd867-0\")\n",
    "var2 = tree.cssselect(\".sc-52284603-0 > li:nth-child(1) > a:nth-child(1)\")\n",
    "var3 = tree.cssselect(\"section.ipc-page-section:nth-child(17) > div:nth-child(2) > ul:nth-child(1) > li:nth-child(1) > div:nth-child(2)\")\n",
    "var4 = tree.cssselect(\".sc-94726ce4-4 > div:nth-child(1) > div:nth-child(1) > a:nth-child(2) > div:nth-child(1) > div:nth-child(1) > div:nth-child(2) > div:nth-child(1) > span:nth-child(1)\")\n",
    "var5 = tree.cssselect(\".sc-16ede01-2\")\n",
    "var6 = tree.cssselect(\"div.ipc-chip-list:nth-child(1)\")\n",
    "var7 = tree.cssselect(\".sc-fa02f843-0 > ul:nth-child(1) > li:nth-child(1) > div:nth-child(2) > ul:nth-child(1) > li:nth-child(1) > a:nth-child(1)\")\n",
    "var8 = tree.cssselect(\".sc-fa02f843-0 > ul:nth-child(1) > li:nth-child(2) > div:nth-child(2) > ul:nth-child(1)\")\n",
    "var9 = tree.cssselect(\".sc-fa02f843-0 > ul:nth-child(1) > li:nth-child(3) > div:nth-child(2) > ul:nth-child(1)\")\n",
    "var10 = tree.cssselect(\"section.ipc-page-section:nth-child(8) > div:nth-child(2) > div:nth-child(2)\")\n",
    "images = bs.find('img', {'src':re.compile('.jpg')})\n",
    "\n",
    "prod_list = []\n",
    "\n",
    "for v1, v2, v3, v4, v5, v6, v7, v8, v9, v10 in zip(var1, var2, var3, var4, var5, var6, var7, var8, var9, var10):\n",
    "  auxTxt = {\n",
    "      'Nombre película ':v1.text_content(),\n",
    "      'Año': v2.text_content().replace('\\n', ''),\n",
    "      'Duracion': v3.text_content(),\n",
    "      'Puntuacion': v4.text_content(),\n",
    "      'Descripcion': v5.text_content().replace('\\n', ''),\n",
    "      'Genero': [v6[0].text_content(), v6[1].text_content(), v6[2].text_content()],\n",
    "      'Director': v7.text_content(),\n",
    "      'Guion': [v8[0].text_content(), v8[1].text_content(), v8[2].text_content()],\n",
    "      'Reparto': [v9[0].text_content(), v9[1].text_content(), v9[2].text_content()],\n",
    "      'Lista de Peliculas en \"Mas de este estilo\"': [v10[0][2].text_content(), v10[1][2].text_content(), v10[2][2].text_content(), v10[3][2].text_content()],\n",
    "      'Imagen': images['src']}\n",
    "\n",
    "  prod_list.append(auxTxt)"
   ]
  },
  {
   "cell_type": "code",
   "execution_count": 9,
   "metadata": {},
   "outputs": [
    {
     "data": {
      "text/plain": [
       "[{'Año': '2022',\n",
       "  'Descripcion': 'Cuando Enigma, un sádico asesino en serie, comienza a asesinar a las principales figuras políticas de Gotham, Batman se ve obligado a investigar la corrupción oculta de la ciudad y a cuestionar la participación de su familia.',\n",
       "  'Director': 'Matt Reeves',\n",
       "  'Duracion': '2 horas 56 minutos',\n",
       "  'Genero': ['Acción', 'Crimen', 'Drama'],\n",
       "  'Guion': ['Matt Reeves', 'Peter Craig', 'Bill Finger(Batman created by)'],\n",
       "  'Imagen': 'https://m.media-amazon.com/images/M/MV5BMDdmMTBiNTYtMDIzNi00NGVlLWIzMDYtZTk3MTQ3NGQxZGEwXkEyXkFqcGdeQXVyMzMwOTU5MDk@._V1_QL75_UX190_CR0,0,190,281_.jpg',\n",
       "  'Lista de Peliculas en \"Mas de este estilo\"': ['El caballero oscuro',\n",
       "   'Batman Begins',\n",
       "   'El caballero oscuro: La leyenda renace',\n",
       "   'Spider-Man: No Way Home'],\n",
       "  'Nombre película ': 'The Batman',\n",
       "  'Puntuacion': '8,4',\n",
       "  'Reparto': ['Robert Pattinson', 'Zoë Kravitz', 'Jeffrey Wright']}]"
      ]
     },
     "execution_count": 9,
     "metadata": {},
     "output_type": "execute_result"
    }
   ],
   "source": [
    "# Visualizando resultados\n",
    "prod_list"
   ]
  },
  {
   "cell_type": "code",
   "execution_count": 10,
   "metadata": {},
   "outputs": [
    {
     "name": "stdout",
     "output_type": "stream",
     "text": [
      "<html xmlns:og=\"http://opengraphprotocol.org/schema/\" xmlns:fb=\"http://www.facebook.com/2008/fbml\" class=\" scriptsOn\" lang=\"es-ES\"><head><script async=\"\" src=\"https://images-na.ssl-images-amazon.com/images/I/31YXrY93hfL.js\" crossorigin=\"anonymous\"></script><meta name=\"viewport\" content=\"width=device-width\"><meta charset=\"utf-8\"><title>Spider-Man: No Way Home (2021) - IMDb</title><meta name=\"description\" content=\"Spider-Man: No Way Home: Dirigido por Jon Watts. Con Tom Holland, Zendaya, Benedict \n"
     ]
    }
   ],
   "source": [
    "# Explorando la primera pelicula de la lista - Spiderman No Way Home -\n",
    "driver.get(\"https://www.imdb.com/title/tt10872600/?ref_=adv_li_tt\")\n",
    "print(driver.page_source[:500])\n",
    "html_text = driver.page_source\n",
    "from lxml import html\n",
    "from lxml import cssselect\n",
    "tree = html.document_fromstring(html_text)\n",
    "from urllib.request import urlopen\n",
    "from bs4 import BeautifulSoup\n",
    "\n",
    "#html = urlopen('https://www.imdb.com/title/tt1877830/?ref_=adv_li_tt')\n",
    "bs = BeautifulSoup(html_text, 'html.parser')"
   ]
  },
  {
   "cell_type": "code",
   "execution_count": 11,
   "metadata": {},
   "outputs": [],
   "source": [
    "# Se capturan todos los atributos buscados\n",
    "var1 = tree.cssselect(\".sc-b73cd867-0\")\n",
    "var2 = tree.cssselect(\".sc-52284603-0 > li:nth-child(1) > a:nth-child(1)\")\n",
    "var3 = tree.cssselect(\"section.ipc-page-section:nth-child(15) > div:nth-child(2) > ul:nth-child(1) > li:nth-child(1) > div:nth-child(2)\")\n",
    "var4 = tree.cssselect(\".sc-94726ce4-4 > div:nth-child(1) > div:nth-child(1) > a:nth-child(2) > div:nth-child(1) > div:nth-child(1) > div:nth-child(2) > div:nth-child(1) > span:nth-child(1)\")\n",
    "var5 = tree.cssselect(\".sc-16ede01-2\")\n",
    "var6 = tree.cssselect(\"div.ipc-chip-list:nth-child(1)\")\n",
    "var7 = tree.cssselect(\".sc-fa02f843-0 > ul:nth-child(1) > li:nth-child(1) > div:nth-child(2) > ul:nth-child(1) > li:nth-child(1) > a:nth-child(1)\")\n",
    "var8 = tree.cssselect(\".sc-fa02f843-0 > ul:nth-child(1) > li:nth-child(2) > div:nth-child(2) > ul:nth-child(1)\")\n",
    "var9 = tree.cssselect(\".sc-fa02f843-0 > ul:nth-child(1) > li:nth-child(3) > div:nth-child(2) > ul:nth-child(1)\")\n",
    "var10 = tree.cssselect(\"section.ipc-page-section:nth-child(7) > div:nth-child(2) > div:nth-child(2)\")\n",
    "images = bs.find('img', {'src':re.compile('.jpg')})\n",
    "\n",
    "prod_list = []\n",
    "\n",
    "for v1, v2, v3, v4, v5, v6, v7, v8, v9, v10 in zip(var1, var2, var3, var4, var5, var6, var7, var8, var9, var10):\n",
    "  auxTxt = {\n",
    "      'Nombre película ':v1.text_content(),\n",
    "      'Año': v2.text_content().replace('\\n', ''),\n",
    "      'Duracion': v3.text_content(),\n",
    "      'Puntuacion': v4.text_content(),\n",
    "      'Descripcion': v5.text_content().replace('\\n', ''),\n",
    "      'Genero': [v6[0].text_content(), v6[1].text_content(), v6[2].text_content()],\n",
    "      'Director': v7.text_content(),\n",
    "      'Guion': [v8[0].text_content(), v8[1].text_content(), v8[2].text_content()],\n",
    "      'Reparto': [v9[0].text_content(), v9[1].text_content(), v9[2].text_content()],\n",
    "      'Lista de Peliculas en \"Mas de este estilo\"': [v10[0][2].text_content(), v10[1][2].text_content(), v10[2][2].text_content(), v10[3][2].text_content()],\n",
    "      'Imagen': images['src']}\n",
    "\n",
    "  prod_list.append(auxTxt)"
   ]
  },
  {
   "cell_type": "code",
   "execution_count": 12,
   "metadata": {},
   "outputs": [
    {
     "data": {
      "text/plain": [
       "[{'Año': '2021',\n",
       "  'Descripcion': 'Con la identidad de Spider-Man ahora revelada, Peter recurre al Doctor Strange en busca de ayuda. Algo sale mal y el multiverso se convierte en la mayor amenaza. Ahora Peter debe descubrir qué significa realmente ser Spider-Man.',\n",
       "  'Director': 'Jon Watts',\n",
       "  'Duracion': '2 horas 28 minutos',\n",
       "  'Genero': ['Acción', 'Aventura', 'Fantasía'],\n",
       "  'Guion': ['Chris McKenna',\n",
       "   'Erik Sommers',\n",
       "   'Stan Lee(based on the Marvel comic book by)'],\n",
       "  'Imagen': 'https://m.media-amazon.com/images/M/MV5BN2MyZjc3ODAtODhmYy00YzI5LTgyZTQtMWM1NzQ0MGVjMzFhXkEyXkFqcGdeQXVyMTA3MDk2NDg2._V1_QL75_UX190_CR0,2,190,281_.jpg',\n",
       "  'Lista de Peliculas en \"Mas de este estilo\"': ['Spider-Man: Lejos de casa',\n",
       "   'Vengadores: Endgame',\n",
       "   'Spider-Man: Homecoming',\n",
       "   'Vengadores: Infinity War'],\n",
       "  'Nombre película ': 'Spider-Man: No Way Home',\n",
       "  'Puntuacion': '8,5',\n",
       "  'Reparto': ['Tom Holland', 'Zendaya', 'Benedict Cumberbatch']}]"
      ]
     },
     "execution_count": 12,
     "metadata": {},
     "output_type": "execute_result"
    }
   ],
   "source": [
    "# Visualizando resultados\n",
    "prod_list"
   ]
  },
  {
   "cell_type": "code",
   "execution_count": 13,
   "metadata": {},
   "outputs": [
    {
     "name": "stdout",
     "output_type": "stream",
     "text": [
      "<html xmlns:og=\"http://opengraphprotocol.org/schema/\" xmlns:fb=\"http://www.facebook.com/2008/fbml\" class=\" scriptsOn\" lang=\"es-ES\"><head><script async=\"\" src=\"https://images-na.ssl-images-amazon.com/images/I/31YXrY93hfL.js\" crossorigin=\"anonymous\"></script><meta name=\"viewport\" content=\"width=device-width\"><meta charset=\"utf-8\"><title>Dune (2021) - IMDb</title><meta name=\"description\" content=\"Dune: Dirigido por Denis Villeneuve. Con Timothée Chalamet, Rebecca Ferguson, Oscar Isaac, Jason Momoa.\n"
     ]
    }
   ],
   "source": [
    "# Explorando la primera pelicula de la lista - Dune -\n",
    "driver.get(\"https://www.imdb.com/title/tt1160419/?ref_=adv_li_tt\")\n",
    "print(driver.page_source[:500])\n",
    "html_text = driver.page_source\n",
    "from lxml import html\n",
    "from lxml import cssselect\n",
    "tree = html.document_fromstring(html_text)\n",
    "from urllib.request import urlopen\n",
    "from bs4 import BeautifulSoup\n",
    "\n",
    "#html = urlopen('https://www.imdb.com/title/tt1877830/?ref_=adv_li_tt')\n",
    "bs = BeautifulSoup(html_text, 'html.parser')"
   ]
  },
  {
   "cell_type": "code",
   "execution_count": 14,
   "metadata": {},
   "outputs": [],
   "source": [
    "# Se capturan todos los atributos buscados\n",
    "var1 = tree.cssselect(\".sc-b73cd867-0\")\n",
    "var2 = tree.cssselect(\"ul.ipc-inline-list--show-dividers:nth-child(2) > li:nth-child(1) > a:nth-child(1)\")\n",
    "var3 = tree.cssselect(\"section.ipc-page-section:nth-child(17) > div:nth-child(2) > ul:nth-child(1) > li:nth-child(1) > div:nth-child(2)\")\n",
    "var4 = tree.cssselect(\".sc-94726ce4-4 > div:nth-child(1) > div:nth-child(1) > a:nth-child(2) > div:nth-child(1) > div:nth-child(1) > div:nth-child(2) > div:nth-child(1) > span:nth-child(1)\")\n",
    "var5 = tree.cssselect(\".sc-16ede01-2\")\n",
    "var6 = tree.cssselect(\"div.ipc-chip-list:nth-child(1)\")\n",
    "var7 = tree.cssselect(\".sc-fa02f843-0 > ul:nth-child(1) > li:nth-child(1) > div:nth-child(2) > ul:nth-child(1) > li:nth-child(1) > a:nth-child(1)\")\n",
    "var8 = tree.cssselect(\".sc-fa02f843-0 > ul:nth-child(1) > li:nth-child(2) > div:nth-child(2) > ul:nth-child(1)\")\n",
    "var9 = tree.cssselect(\".sc-fa02f843-0 > ul:nth-child(1) > li:nth-child(3) > div:nth-child(2) > ul:nth-child(1)\")\n",
    "var10 = tree.cssselect(\"section.ipc-page-section:nth-child(8) > div:nth-child(2) > div:nth-child(2)\")\n",
    "images = bs.find('img', {'src':re.compile('.jpg')})\n",
    "\n",
    "prod_list = []\n",
    "\n",
    "for v1, v2, v3, v4, v5, v6, v7, v8, v9, v10 in zip(var1, var2, var3, var4, var5, var6, var7, var8, var9, var10):\n",
    "  auxTxt = {\n",
    "      'Nombre película ':v1.text_content(),\n",
    "      'Año': v2.text_content().replace('\\n', ''),\n",
    "      'Duracion': v3.text_content(),\n",
    "      'Puntuacion': v4.text_content(),\n",
    "      'Descripcion': v5.text_content().replace('\\n', ''),\n",
    "      'Genero': [v6[0].text_content(), v6[1].text_content(), v6[2].text_content()],\n",
    "      'Director': v7.text_content(),\n",
    "      'Guion': [v8[0].text_content(), v8[1].text_content(), v8[2].text_content()],\n",
    "      'Reparto': [v9[0].text_content(), v9[1].text_content(), v9[2].text_content()],\n",
    "      'Lista de Peliculas en \"Mas de este estilo\"': [v10[0][2].text_content(), v10[1][2].text_content(), v10[2][2].text_content(), v10[3][2].text_content()],\n",
    "      'Imagen': images['src']}\n",
    "\n",
    "  prod_list.append(auxTxt)\n"
   ]
  },
  {
   "cell_type": "code",
   "execution_count": 15,
   "metadata": {},
   "outputs": [
    {
     "data": {
      "text/plain": [
       "[{'Año': '2021',\n",
       "  'Descripcion': 'Adaptación de la novela de ciencia ficción de Frank Herbert sobre el hijo de una familia noble que trata de vengarse de la muerte de su padre y al mismo tiempo salvar un planeta que se le ha encomendado proteger.',\n",
       "  'Director': 'Denis Villeneuve',\n",
       "  'Duracion': '2 horas 35 minutos',\n",
       "  'Genero': ['Acción', 'Aventura', 'Drama'],\n",
       "  'Guion': ['Jon Spaihts(guión de)',\n",
       "   'Denis Villeneuve(guión de)',\n",
       "   'Eric Roth(guión de)'],\n",
       "  'Imagen': 'https://m.media-amazon.com/images/M/MV5BMmE1ZTA3MjQtY2E1My00NzM0LWIzN2EtMWJlZjc5ZTgzZTkwXkEyXkFqcGdeQXVyODIyOTEyMzY@._V1_QL75_UX190_CR0,0,190,281_.jpg',\n",
       "  'Lista de Peliculas en \"Mas de este estilo\"': ['No mires arriba',\n",
       "   'Free Guy',\n",
       "   'Sin tiempo para morir',\n",
       "   'Joker'],\n",
       "  'Nombre película ': 'Dune',\n",
       "  'Puntuacion': '8,1',\n",
       "  'Reparto': ['Timothée Chalamet', 'Rebecca Ferguson', 'Zendaya']}]"
      ]
     },
     "execution_count": 15,
     "metadata": {},
     "output_type": "execute_result"
    }
   ],
   "source": [
    "# Visualizando resultados\n",
    "prod_list"
   ]
  },
  {
   "cell_type": "code",
   "execution_count": 16,
   "metadata": {},
   "outputs": [
    {
     "name": "stdout",
     "output_type": "stream",
     "text": [
      "<html xmlns:og=\"http://opengraphprotocol.org/schema/\" xmlns:fb=\"http://www.facebook.com/2008/fbml\" class=\" scriptsOn\" lang=\"es-ES\"><head><script async=\"\" src=\"https://images-na.ssl-images-amazon.com/images/I/31YXrY93hfL.js\" crossorigin=\"anonymous\"></script><meta name=\"viewport\" content=\"width=device-width\"><meta charset=\"utf-8\"><title>El caballero oscuro (2008) - IMDb</title><meta name=\"description\" content=\"El caballero oscuro: Dirigido por Christopher Nolan. Con Christian Bale, Heath Ledger, A\n"
     ]
    }
   ],
   "source": [
    "# Explorando la primera pelicula de la lista - The Dark Knight -\n",
    "driver.get(\"https://www.imdb.com/title/tt0468569/?ref_=adv_li_tt\")\n",
    "print(driver.page_source[:500])\n",
    "html_text = driver.page_source\n",
    "from lxml import html\n",
    "from lxml import cssselect\n",
    "tree = html.document_fromstring(html_text)\n",
    "from urllib.request import urlopen\n",
    "from bs4 import BeautifulSoup\n",
    "\n",
    "#html = urlopen('https://www.imdb.com/title/tt1877830/?ref_=adv_li_tt')\n",
    "bs = BeautifulSoup(html_text, 'html.parser')"
   ]
  },
  {
   "cell_type": "code",
   "execution_count": 17,
   "metadata": {},
   "outputs": [],
   "source": [
    "# Se capturan todos los atributos buscados\n",
    "var1 = tree.cssselect(\".sc-b73cd867-0\")\n",
    "var2 = tree.cssselect(\"ul.ipc-inline-list--show-dividers:nth-child(2) > li:nth-child(1) > a:nth-child(1)\")\n",
    "var3 = tree.cssselect(\"section.ipc-page-section:nth-child(15) > div:nth-child(2) > ul:nth-child(1) > li:nth-child(1) > div:nth-child(2)\")\n",
    "var4 = tree.cssselect(\".sc-94726ce4-4 > div:nth-child(1) > div:nth-child(1) > a:nth-child(2) > div:nth-child(1) > div:nth-child(1) > div:nth-child(2) > div:nth-child(1) > span:nth-child(1)\")\n",
    "var5 = tree.cssselect(\".sc-16ede01-2\")\n",
    "var6 = tree.cssselect(\"div.ipc-chip-list:nth-child(1)\")\n",
    "var7 = tree.cssselect(\".sc-fa02f843-0 > ul:nth-child(1) > li:nth-child(1) > div:nth-child(2) > ul:nth-child(1) > li:nth-child(1) > a:nth-child(1)\")\n",
    "var8 = tree.cssselect(\".sc-fa02f843-0 > ul:nth-child(1) > li:nth-child(2) > div:nth-child(2) > ul:nth-child(1)\")\n",
    "var9 = tree.cssselect(\".sc-fa02f843-0 > ul:nth-child(1) > li:nth-child(3) > div:nth-child(2) > ul:nth-child(1)\")\n",
    "var10 = tree.cssselect(\"section.ipc-page-section:nth-child(7) > div:nth-child(2) > div:nth-child(2)\")\n",
    "images = bs.find('img', {'src':re.compile('.jpg')})\n",
    "\n",
    "prod_list = []\n",
    "\n",
    "for v1, v2, v3, v4, v5, v6, v7, v8, v9, v10 in zip(var1, var2, var3, var4, var5, var6, var7, var8, var9, var10):\n",
    "  auxTxt = {\n",
    "      'Nombre película ':v1.text_content(),\n",
    "      'Año': v2.text_content().replace('\\n', ''),\n",
    "      'Duracion': v3.text_content(),\n",
    "      'Puntuacion': v4.text_content(),\n",
    "      'Descripcion': v5.text_content().replace('\\n', ''),\n",
    "      'Genero': [v6[0].text_content(), v6[1].text_content(), v6[2].text_content()],\n",
    "      'Director': v7.text_content(),\n",
    "      'Guion': [v8[0].text_content(), v8[1].text_content(), v8[2].text_content()],\n",
    "      'Reparto': [v9[0].text_content(), v9[1].text_content(), v9[2].text_content()],\n",
    "      'Lista de Peliculas en \"Mas de este estilo\"': [v10[0][2].text_content(), v10[1][2].text_content(), v10[2][2].text_content(), v10[3][2].text_content()],\n",
    "      'Imagen': images['src']}\n",
    "\n",
    "  prod_list.append(auxTxt)"
   ]
  },
  {
   "cell_type": "code",
   "execution_count": 18,
   "metadata": {},
   "outputs": [
    {
     "data": {
      "text/plain": [
       "[{'Año': '2008',\n",
       "  'Descripcion': 'Cuando la amenaza conocida como el Joker causa estragos y el caos en Gotham City, Batman debe aceptar una de las mayores pruebas psicológicas y físicas para luchar contra la injusticia.',\n",
       "  'Director': 'Christopher Nolan',\n",
       "  'Duracion': '2 horas 32 minutos',\n",
       "  'Genero': ['Acción', 'Crimen', 'Drama'],\n",
       "  'Guion': ['Jonathan Nolan(guión)',\n",
       "   'Christopher Nolan(guión)',\n",
       "   'David S. Goyer(historia de)'],\n",
       "  'Imagen': 'https://m.media-amazon.com/images/M/MV5BMTMxNTMwODM0NF5BMl5BanBnXkFtZTcwODAyMTk2Mw@@._V1_QL75_UX190_CR0,0,190,281_.jpg',\n",
       "  'Lista de Peliculas en \"Mas de este estilo\"': ['El caballero oscuro: La leyenda renace',\n",
       "   'Batman Begins',\n",
       "   'Joker',\n",
       "   'Origen'],\n",
       "  'Nombre película ': 'El caballero oscuro',\n",
       "  'Puntuacion': '9,1',\n",
       "  'Reparto': ['Christian Bale', 'Heath Ledger', 'Aaron Eckhart']}]"
      ]
     },
     "execution_count": 18,
     "metadata": {},
     "output_type": "execute_result"
    }
   ],
   "source": [
    "# Visualizando resultados\n",
    "prod_list"
   ]
  }
 ],
 "metadata": {
  "kernelspec": {
   "display_name": "mbdds_rpy20",
   "language": "python",
   "name": "mbdds_rpy20"
  },
  "language_info": {
   "codemirror_mode": {
    "name": "ipython",
    "version": 3
   },
   "file_extension": ".py",
   "mimetype": "text/x-python",
   "name": "python",
   "nbconvert_exporter": "python",
   "pygments_lexer": "ipython3",
   "version": "3.7.4"
  }
 },
 "nbformat": 4,
 "nbformat_minor": 2
}
