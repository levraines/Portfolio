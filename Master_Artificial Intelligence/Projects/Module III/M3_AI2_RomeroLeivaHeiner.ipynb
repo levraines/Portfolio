{
  "nbformat": 4,
  "nbformat_minor": 0,
  "metadata": {
    "colab": {
      "name": "M3_AI2_RomeroLeivaHeiner.ipynb",
      "provenance": [],
      "collapsed_sections": []
    },
    "kernelspec": {
      "name": "python3",
      "display_name": "Python 3"
    },
    "language_info": {
      "name": "python"
    }
  },
  "cells": [
    {
      "cell_type": "code",
      "execution_count": null,
      "metadata": {
        "id": "MKmR9DJkiJe1"
      },
      "outputs": [],
      "source": [
        "# Importando bibliotecas de trabajo\n",
        "import json\n",
        "import pymongo\n",
        "import tweepy\n",
        "import urllib\n",
        "import time"
      ]
    },
    {
      "cell_type": "markdown",
      "source": [
        "**1. Autentícate en twitter.**"
      ],
      "metadata": {
        "id": "-tfGvq21_Ij7"
      }
    },
    {
      "cell_type": "code",
      "source": [
        "# Importando accesos a la API\n",
        "consumer_key = \"XXXXXX\"\n",
        "consumer_secret = \"XXXXXXX\"\n",
        "\n",
        "access_key = \"XXXXXXX\"\n",
        "access_secret = \"XXXXXXX\""
      ],
      "metadata": {
        "id": "JHIDmDQKiOyv"
      },
      "execution_count": null,
      "outputs": []
    },
    {
      "cell_type": "code",
      "source": [
        "# Autentificando en Twitter\n",
        "auth = tweepy.OAuthHandler(consumer_key, consumer_secret)\n",
        "auth.set_access_token(access_key, access_secret)\n",
        "api = tweepy.API(auth)"
      ],
      "metadata": {
        "id": "WKBQxL8IibED"
      },
      "execution_count": null,
      "outputs": []
    },
    {
      "cell_type": "code",
      "source": [
        "# Cambiando el limite de tiempo de la API\n",
        "api = tweepy.API(auth, wait_on_rate_limit=True)"
      ],
      "metadata": {
        "id": "5AELJS3hmeU8"
      },
      "execution_count": null,
      "outputs": []
    },
    {
      "cell_type": "code",
      "source": [
        "# ID de Rosalia en Twitter\n",
        "USER_NAME = \"rosalia\"\n",
        "user = api.get_user(id=USER_NAME)"
      ],
      "metadata": {
        "id": "aXgrypOTifwq"
      },
      "execution_count": null,
      "outputs": []
    },
    {
      "cell_type": "markdown",
      "source": [
        "**2. Cuál es el id de @rosalia en twitter?**"
      ],
      "metadata": {
        "id": "k0tBrhi5_fzQ"
      }
    },
    {
      "cell_type": "code",
      "source": [
        "# Id de Rosalia en Twitter\n",
        "user.id"
      ],
      "metadata": {
        "colab": {
          "base_uri": "https://localhost:8080/"
        },
        "id": "t2ZHVNxXipHN",
        "outputId": "35caf5b3-6546-4eb0-a152-c9047b2a6747"
      },
      "execution_count": null,
      "outputs": [
        {
          "output_type": "execute_result",
          "data": {
            "text/plain": [
              "1728956976"
            ]
          },
          "metadata": {},
          "execution_count": 6
        }
      ]
    },
    {
      "cell_type": "code",
      "source": [
        "# Corroborando el username \n",
        "user.screen_name"
      ],
      "metadata": {
        "colab": {
          "base_uri": "https://localhost:8080/",
          "height": 35
        },
        "id": "LXJvr0Y1isYJ",
        "outputId": "e4faef12-0899-4ce9-ecfb-8a78a481c535"
      },
      "execution_count": null,
      "outputs": [
        {
          "output_type": "execute_result",
          "data": {
            "application/vnd.google.colaboratory.intrinsic+json": {
              "type": "string"
            },
            "text/plain": [
              "'rosalia'"
            ]
          },
          "metadata": {},
          "execution_count": 9
        }
      ]
    },
    {
      "cell_type": "markdown",
      "source": [
        "**3. Lista los nombres de los usuarios a los que @rosalia está siguiendo.**"
      ],
      "metadata": {
        "id": "N3ncxCbL_l4o"
      }
    },
    {
      "cell_type": "code",
      "source": [
        "# Recuperando la lista de personas seguidas por Rosalia\n",
        "for friend in tweepy.Cursor(api.friends, screen_name = USER_NAME).items():\n",
        "    print(friend.screen_name)"
      ],
      "metadata": {
        "colab": {
          "base_uri": "https://localhost:8080/"
        },
        "id": "l-l1nt0iivBP",
        "outputId": "1a9c1cb7-37fa-4411-ed77-75c806ff2e61"
      },
      "execution_count": null,
      "outputs": [
        {
          "output_type": "stream",
          "name": "stdout",
          "text": [
            "jooleesah\n",
            "rociorotten\n",
            "caesarenas\n",
            "katbeee\n",
            "motovenus\n",
            "zanelowe\n",
            "dantijerina\n",
            "RollingStoneUK\n",
            "carolineplz\n",
            "ivangb00\n",
            "iamcardib\n",
            "Tainy\n",
            "rossydpalma\n",
            "officialDannyT\n",
            "DONOMAR\n",
            "OTHERtone\n",
            "brokemogul\n",
            "ChadHugo\n",
            "Pharrell\n",
            "TheNeptunes\n",
            "TheNeptunes\n",
            "babykeem\n",
            "Harry_Styles\n",
            "tokischa_\n",
            "secoweedcodein\n",
            "kaydyCain\n",
            "dragon___loco\n",
            "caetanoveloso\n",
            "0PN\n",
            "jimmyfallon\n",
            "MuraiHiro\n",
            "MayaCPopa\n",
            "historiayarte_\n",
            "yokoono\n",
            "elonmusk\n",
            "rauwalejandro\n",
            "MissyElliott\n",
            "YouTubeJapan\n",
            "jamesblake\n",
            "CharmLadonna\n",
            "arca1000000\n",
            "Camaron_Fans\n",
            "ptobella\n",
            "playboicarti\n",
            "caroshawmusic\n",
            "KylieJenner\n",
            "ChloeBailey\n",
            "rojuuaka\n",
            "RodoredaMerce\n",
            "leticia__sala\n",
            "michaeluzowuru\n",
            "daikyri_\n"
          ]
        }
      ]
    },
    {
      "cell_type": "code",
      "source": [
        "# Definiendo parametros\n",
        "screen_name = USER_NAME\n",
        "c = tweepy.Cursor(api.friends, screen_name)\n",
        "  \n",
        "# Contando la cantidad de personas a las que Rosalia sigue\n",
        "count = 0\n",
        "for friends in c.items():\n",
        "    count += 1\n",
        "print(screen_name + \" sigue a \" + str(count) + \" cuentas.\")"
      ],
      "metadata": {
        "colab": {
          "base_uri": "https://localhost:8080/"
        },
        "id": "lXV1-oEzkblQ",
        "outputId": "5736d63a-4564-41f9-8b25-7cc441940e4e"
      },
      "execution_count": null,
      "outputs": [
        {
          "output_type": "stream",
          "name": "stdout",
          "text": [
            "rosalia sigue a 51 cuentas.\n"
          ]
        }
      ]
    },
    {
      "cell_type": "markdown",
      "source": [
        "**¿Cuál de ellos tiene más seguidores?**"
      ],
      "metadata": {
        "id": "RJ2mOpL_-3lA"
      }
    },
    {
      "cell_type": "code",
      "source": [
        "# Recuperando la lista de personas seguidas por Rosalia y su cantidad de seguidores\n",
        "for friend in tweepy.Cursor(api.friends, screen_name = USER_NAME).items():\n",
        "    print(friend.screen_name, friend.followers_count)"
      ],
      "metadata": {
        "colab": {
          "base_uri": "https://localhost:8080/"
        },
        "id": "5H0bwMxv-FXo",
        "outputId": "88ea97f4-7ec3-41e0-b1e3-7f63df58030b"
      },
      "execution_count": null,
      "outputs": [
        {
          "output_type": "stream",
          "name": "stdout",
          "text": [
            "jooleesah 3433\n",
            "rociorotten 1467\n",
            "caesarenas 1581\n",
            "katbeee 4173\n",
            "motovenus 42\n",
            "zanelowe 676751\n",
            "dantijerina 339\n",
            "RollingStoneUK 3448\n",
            "carolineplz 81540\n",
            "ivangb00 547\n",
            "iamcardib 22060859\n",
            "Tainy 103988\n",
            "rossydpalma 67907\n",
            "officialDannyT 469240\n",
            "DONOMAR 5278606\n",
            "OTHERtone 1850\n",
            "brokemogul 60677\n",
            "ChadHugo 35101\n",
            "Pharrell 10659450\n",
            "TheNeptunes 19219\n",
            "babykeem 204918\n",
            "Harry_Styles 37426645\n",
            "tokischa_ 120074\n",
            "secoweedcodein 160336\n",
            "kaydyCain 135209\n",
            "dragon___loco 280\n",
            "caetanoveloso 1025871\n",
            "0PN 67561\n",
            "jimmyfallon 51454284\n",
            "MuraiHiro 31163\n",
            "MayaCPopa 20909\n",
            "historiayarte_ 94090\n",
            "yokoono 4609542\n",
            "elonmusk 76960658\n",
            "rauwalejandro 1827282\n",
            "MissyElliott 6965238\n",
            "YouTubeJapan 413719\n",
            "jamesblake 339681\n",
            "CharmLadonna 7447\n",
            "arca1000000 118481\n",
            "Camaron_Fans 24273\n",
            "ptobella 1130\n",
            "playboicarti 2228515\n",
            "caroshawmusic 8061\n",
            "KylieJenner 39685293\n",
            "ChloeBailey 1143484\n",
            "rojuuaka 75061\n",
            "RodoredaMerce 31218\n",
            "leticia__sala 6360\n",
            "michaeluzowuru 10010\n",
            "daikyri_ 34770\n"
          ]
        }
      ]
    },
    {
      "cell_type": "markdown",
      "source": [
        "El usuario que tiene la mayor cantidad de seguidores es Elon Musk, con 76.960.658 millones de seguidores, seguido por jimmyfallon con 51.454.284 millones de seguidores. "
      ],
      "metadata": {
        "id": "dFHReas5VQ58"
      }
    },
    {
      "cell_type": "markdown",
      "source": [
        "**5. Utiliza la api.user_timeline() para obtener el json completo con los cinco últimos tweets de Rosalia. Muestra por pantalla el día, la hora de creación y el texto.**"
      ],
      "metadata": {
        "id": "7UisPZUp_t7_"
      }
    },
    {
      "cell_type": "code",
      "source": [
        "\n",
        "# screen name of the account to be fetched\n",
        "screen_name = \"rosalia\"\n",
        "user = api.get_user(id=\"rosalia\")\n",
        "#user = api.get_status(id=\"rosalia\")\n",
        "  \n",
        "# number of statuses to be fetched\n",
        "count = 5\n",
        "  \n",
        "# fetching the statuses\n",
        "statuses = api.user_timeline(screen_name, count = count)\n",
        "#created_at = status.created_at \n",
        "  \n",
        "# printing the statuses\n",
        "for status in statuses:\n",
        "    print(status.text, status.created_at, end = \"\\n\\n\")"
      ],
      "metadata": {
        "colab": {
          "base_uri": "https://localhost:8080/"
        },
        "id": "5O8vVbFA1z0K",
        "outputId": "b12769f7-f30d-4d69-838e-a1914e656e00"
      },
      "execution_count": null,
      "outputs": [
        {
          "output_type": "stream",
          "name": "stdout",
          "text": [
            "RT @NewsRosalia: Podremos ver a Rosalía esta semana:\n",
            "\n",
            "- El jueves 10 de marzo en \"The Tonight Show Starring Jimmy Fallon\"\n",
            "\n",
            "- El sábado 12 d… 2022-03-08 03:34:35\n",
            "\n",
            "Una motomami es una leyenda del fitness pero siempre pide postre🍧 9/20 2022-03-07 18:54:07\n",
            "\n",
            "@daikyri_ jajaj 2022-03-07 16:18:52\n",
            "\n",
            "@colericacarlota Lo q sea que la lleve a su destino 2022-03-07 16:18:13\n",
            "\n",
            "Yo cuando voy mal combinada https://t.co/XN4t9WUfxX 2022-03-07 15:18:51\n",
            "\n"
          ]
        }
      ]
    },
    {
      "cell_type": "markdown",
      "source": [
        "**Recupera los cinco primeros tweets, a partir de la Steaming API, desde el rectángulo menor que contenga un país de tu elección (indica en tu solución qual es el país elegido). Muestra por pantalla el nombre del usuario que realiza el tweet, la fecha, la hora de creación y el texto.**"
      ],
      "metadata": {
        "id": "yZbzdrU0GTCZ"
      }
    },
    {
      "cell_type": "markdown",
      "source": [
        "El lugar escogido es **Madrid**, con los siguientes puntos de geolocalización: -3.888954,40.311977,-3.517916,40.643729."
      ],
      "metadata": {
        "id": "1vzIFIdRWHYl"
      }
    },
    {
      "cell_type": "code",
      "source": [
        "from tweepy import Stream,StreamListener\n",
        "\n",
        "class listener(StreamListener):\n",
        "    def __init__(self):\n",
        "        super().__init__()\n",
        "        self.counter = 0\n",
        "        self.limit = 5\n",
        "    def on_data(self, status):\n",
        "        json_data=json.loads(status)\n",
        "        print(str(json_data[\"user\"][\"screen_name\"])+' : ' + json_data[\"text\"] + ' fecha de creación: ' + json_data[\"created_at\"])\n",
        "        self.counter += 1\n",
        "        if self.counter < self.limit:\n",
        "            return True\n",
        "        else:\n",
        "            twitterStream.disconnect()\n",
        "    def on_error(self, status):\n",
        "        print(status)"
      ],
      "metadata": {
        "id": "Ewgw5FVrF_xo"
      },
      "execution_count": null,
      "outputs": []
    },
    {
      "cell_type": "code",
      "source": [
        "twitterStream = Stream(auth, listener()) \n",
        "twitterStream.filter(locations=[-3.888954,40.311977,-3.517916,40.643729],)"
      ],
      "metadata": {
        "colab": {
          "base_uri": "https://localhost:8080/"
        },
        "id": "CqY163LoGsTZ",
        "outputId": "726c4982-d410-47e1-daf5-06798b2e4205"
      },
      "execution_count": null,
      "outputs": [
        {
          "output_type": "stream",
          "name": "stdout",
          "text": [
            "MaraBrans : Acaba de publicar una foto en Madrid, Spain https://t.co/q1oOyH9Y21 fecha de creación: Tue Mar 08 07:07:45 +0000 2022\n",
            "gvspotter : @alexaviationmad @huxoavi Va fecha de creación: Tue Mar 08 07:08:15 +0000 2022\n",
            "MexicanosEspana : Acaba de publicar una foto en Madrid, Spain https://t.co/54yFFBFqHT fecha de creación: Tue Mar 08 07:08:29 +0000 2022\n",
            "RaulGuzzoConteG : @JuanPina @cristianchiclan Por ahí comienza \"el problema Putin\". Químicamente es un autocrata. fecha de creación: Tue Mar 08 07:08:31 +0000 2022\n",
            "CsPozuelo : #DiaInternacionalMujer \n",
            "Desde #CsPozuelo queremos felicitar a todas las mujeres en su día. \n",
            " #ciudadanos https://t.co/TxUO3Crohm fecha de creación: Tue Mar 08 07:08:40 +0000 2022\n"
          ]
        }
      ]
    }
  ]
}