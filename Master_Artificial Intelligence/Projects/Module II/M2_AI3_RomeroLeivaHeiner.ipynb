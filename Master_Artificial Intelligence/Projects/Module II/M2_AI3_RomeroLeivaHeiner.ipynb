{
  "nbformat": 4,
  "nbformat_minor": 0,
  "metadata": {
    "colab": {
      "name": "M2_AI3_RomeroLeivaHeiner.ipynb",
      "provenance": [],
      "collapsed_sections": []
    },
    "kernelspec": {
      "name": "python3",
      "display_name": "Python 3"
    },
    "language_info": {
      "name": "python"
    }
  },
  "cells": [
    {
      "cell_type": "code",
      "execution_count": null,
      "metadata": {
        "id": "MubZpj3U3HN6"
      },
      "outputs": [],
      "source": [
        "#Importación de bibliotecas\n",
        "import pandas as pd\n",
        "import numpy as np\n",
        "import matplotlib.pyplot as plt\n",
        "import seaborn as sns\n",
        "sns.set()"
      ]
    },
    {
      "cell_type": "code",
      "source": [
        "# Carga del fichero desde el enlace web y creación del dataframe\n",
        "url_data = 'https://raw.githubusercontent.com/levraines/data/master/datos_ventas.csv'\n",
        "\n",
        "# Creación Dataframe\n",
        "df = pd.read_csv(url_data, sep=';' , decimal=',' , encoding='utf-8')"
      ],
      "metadata": {
        "id": "Dlt5VrDO9S0r"
      },
      "execution_count": null,
      "outputs": []
    },
    {
      "cell_type": "code",
      "source": [
        "# Visualización del dataframe (la cabecera)\n",
        "df.head(5)"
      ],
      "metadata": {
        "colab": {
          "base_uri": "https://localhost:8080/",
          "height": 206
        },
        "id": "oxe_1KyW95jE",
        "outputId": "7427c5f9-c435-4d72-da29-1b89d9830fef"
      },
      "execution_count": null,
      "outputs": [
        {
          "output_type": "execute_result",
          "data": {
            "text/html": [
              "\n",
              "  <div id=\"df-81774481-636d-4693-9654-684c449b333e\">\n",
              "    <div class=\"colab-df-container\">\n",
              "      <div>\n",
              "<style scoped>\n",
              "    .dataframe tbody tr th:only-of-type {\n",
              "        vertical-align: middle;\n",
              "    }\n",
              "\n",
              "    .dataframe tbody tr th {\n",
              "        vertical-align: top;\n",
              "    }\n",
              "\n",
              "    .dataframe thead th {\n",
              "        text-align: right;\n",
              "    }\n",
              "</style>\n",
              "<table border=\"1\" class=\"dataframe\">\n",
              "  <thead>\n",
              "    <tr style=\"text-align: right;\">\n",
              "      <th></th>\n",
              "      <th>Fecha_anual</th>\n",
              "      <th>Inversion</th>\n",
              "      <th>Ventas</th>\n",
              "    </tr>\n",
              "  </thead>\n",
              "  <tbody>\n",
              "    <tr>\n",
              "      <th>0</th>\n",
              "      <td>1980</td>\n",
              "      <td>1.0</td>\n",
              "      <td>4.61</td>\n",
              "    </tr>\n",
              "    <tr>\n",
              "      <th>1</th>\n",
              "      <td>1981</td>\n",
              "      <td>1.5</td>\n",
              "      <td>5.18</td>\n",
              "    </tr>\n",
              "    <tr>\n",
              "      <th>2</th>\n",
              "      <td>1982</td>\n",
              "      <td>2.0</td>\n",
              "      <td>5.09</td>\n",
              "    </tr>\n",
              "    <tr>\n",
              "      <th>3</th>\n",
              "      <td>1983</td>\n",
              "      <td>2.5</td>\n",
              "      <td>5.44</td>\n",
              "    </tr>\n",
              "    <tr>\n",
              "      <th>4</th>\n",
              "      <td>1984</td>\n",
              "      <td>3.0</td>\n",
              "      <td>0.62</td>\n",
              "    </tr>\n",
              "  </tbody>\n",
              "</table>\n",
              "</div>\n",
              "      <button class=\"colab-df-convert\" onclick=\"convertToInteractive('df-81774481-636d-4693-9654-684c449b333e')\"\n",
              "              title=\"Convert this dataframe to an interactive table.\"\n",
              "              style=\"display:none;\">\n",
              "        \n",
              "  <svg xmlns=\"http://www.w3.org/2000/svg\" height=\"24px\"viewBox=\"0 0 24 24\"\n",
              "       width=\"24px\">\n",
              "    <path d=\"M0 0h24v24H0V0z\" fill=\"none\"/>\n",
              "    <path d=\"M18.56 5.44l.94 2.06.94-2.06 2.06-.94-2.06-.94-.94-2.06-.94 2.06-2.06.94zm-11 1L8.5 8.5l.94-2.06 2.06-.94-2.06-.94L8.5 2.5l-.94 2.06-2.06.94zm10 10l.94 2.06.94-2.06 2.06-.94-2.06-.94-.94-2.06-.94 2.06-2.06.94z\"/><path d=\"M17.41 7.96l-1.37-1.37c-.4-.4-.92-.59-1.43-.59-.52 0-1.04.2-1.43.59L10.3 9.45l-7.72 7.72c-.78.78-.78 2.05 0 2.83L4 21.41c.39.39.9.59 1.41.59.51 0 1.02-.2 1.41-.59l7.78-7.78 2.81-2.81c.8-.78.8-2.07 0-2.86zM5.41 20L4 18.59l7.72-7.72 1.47 1.35L5.41 20z\"/>\n",
              "  </svg>\n",
              "      </button>\n",
              "      \n",
              "  <style>\n",
              "    .colab-df-container {\n",
              "      display:flex;\n",
              "      flex-wrap:wrap;\n",
              "      gap: 12px;\n",
              "    }\n",
              "\n",
              "    .colab-df-convert {\n",
              "      background-color: #E8F0FE;\n",
              "      border: none;\n",
              "      border-radius: 50%;\n",
              "      cursor: pointer;\n",
              "      display: none;\n",
              "      fill: #1967D2;\n",
              "      height: 32px;\n",
              "      padding: 0 0 0 0;\n",
              "      width: 32px;\n",
              "    }\n",
              "\n",
              "    .colab-df-convert:hover {\n",
              "      background-color: #E2EBFA;\n",
              "      box-shadow: 0px 1px 2px rgba(60, 64, 67, 0.3), 0px 1px 3px 1px rgba(60, 64, 67, 0.15);\n",
              "      fill: #174EA6;\n",
              "    }\n",
              "\n",
              "    [theme=dark] .colab-df-convert {\n",
              "      background-color: #3B4455;\n",
              "      fill: #D2E3FC;\n",
              "    }\n",
              "\n",
              "    [theme=dark] .colab-df-convert:hover {\n",
              "      background-color: #434B5C;\n",
              "      box-shadow: 0px 1px 3px 1px rgba(0, 0, 0, 0.15);\n",
              "      filter: drop-shadow(0px 1px 2px rgba(0, 0, 0, 0.3));\n",
              "      fill: #FFFFFF;\n",
              "    }\n",
              "  </style>\n",
              "\n",
              "      <script>\n",
              "        const buttonEl =\n",
              "          document.querySelector('#df-81774481-636d-4693-9654-684c449b333e button.colab-df-convert');\n",
              "        buttonEl.style.display =\n",
              "          google.colab.kernel.accessAllowed ? 'block' : 'none';\n",
              "\n",
              "        async function convertToInteractive(key) {\n",
              "          const element = document.querySelector('#df-81774481-636d-4693-9654-684c449b333e');\n",
              "          const dataTable =\n",
              "            await google.colab.kernel.invokeFunction('convertToInteractive',\n",
              "                                                     [key], {});\n",
              "          if (!dataTable) return;\n",
              "\n",
              "          const docLinkHtml = 'Like what you see? Visit the ' +\n",
              "            '<a target=\"_blank\" href=https://colab.research.google.com/notebooks/data_table.ipynb>data table notebook</a>'\n",
              "            + ' to learn more about interactive tables.';\n",
              "          element.innerHTML = '';\n",
              "          dataTable['output_type'] = 'display_data';\n",
              "          await google.colab.output.renderOutput(dataTable, element);\n",
              "          const docLink = document.createElement('div');\n",
              "          docLink.innerHTML = docLinkHtml;\n",
              "          element.appendChild(docLink);\n",
              "        }\n",
              "      </script>\n",
              "    </div>\n",
              "  </div>\n",
              "  "
            ],
            "text/plain": [
              "   Fecha_anual  Inversion  Ventas\n",
              "0         1980        1.0    4.61\n",
              "1         1981        1.5    5.18\n",
              "2         1982        2.0    5.09\n",
              "3         1983        2.5    5.44\n",
              "4         1984        3.0    0.62"
            ]
          },
          "metadata": {},
          "execution_count": 3
        }
      ]
    },
    {
      "cell_type": "code",
      "source": [
        "# Resumen información del fichero\n",
        "print(df.info())"
      ],
      "metadata": {
        "colab": {
          "base_uri": "https://localhost:8080/"
        },
        "id": "xPnDiaCN9-92",
        "outputId": "69da704d-16b5-4188-a709-14400b602090"
      },
      "execution_count": null,
      "outputs": [
        {
          "output_type": "stream",
          "name": "stdout",
          "text": [
            "<class 'pandas.core.frame.DataFrame'>\n",
            "RangeIndex: 38 entries, 0 to 37\n",
            "Data columns (total 3 columns):\n",
            " #   Column       Non-Null Count  Dtype  \n",
            "---  ------       --------------  -----  \n",
            " 0   Fecha_anual  38 non-null     int64  \n",
            " 1   Inversion    38 non-null     float64\n",
            " 2   Ventas       38 non-null     float64\n",
            "dtypes: float64(2), int64(1)\n",
            "memory usage: 1.0 KB\n",
            "None\n"
          ]
        }
      ]
    },
    {
      "cell_type": "markdown",
      "source": [
        "**Análisis del tipo de variables con que se trabajará:**\n",
        "\n",
        "**1. Fecha anual:** corresponde al año en que se han realizado las inversiones y las ventas. La naturaleza de la variable es **cuantitativa continua**, ya que hace alusión a la variable tiempo. A nivel de dataset viene expresada como una variable de tipo **int64** sin embargo, corresponde a una variable de tipo cualitativa ordinal, ya que podemos ordenar los datos por el año específico en que sucedió cada inversión o venta. Por último a nivel de análisis de datos corresponde a una variable de **clasificación**, porque sus categorías o grupos son mutuamente excluyentes.\n",
        "\n",
        "**Inversión:** corresponde a la cantidad de millones de euros que se han tomado para inversión. La naturaleza de la variable es **cuantitativa continua**, ya que corresponde a una variable que puede tomar cualquier valor dentro de un intervalo. A nivel de dataset viene expresada como una variable de tipo **float** (cuantitativa continua), ya que puede tomar cualquier valor posible dentro de un intervalo. Por último a nivel de análisis de datos corresponde a una variable **analítica**. \n",
        "\n",
        "**Ventas:** corresponde a la cantidad de millones de euros que se han generado por rubro de ventas. La naturaleza de la variable es **cuantitativa continua**, ya que corresponde a una variable que puede tomar cualquier valor dentro de un intervalo. A nivel de dataset viene expresada como una variable de tipo **float** (cuantitativa continua), ya que puede tomar cualquier valor posible dentro de un intervalo. Por último a nivel de análisis de datos corresponde a una variable **analítica**. \n",
        "\n"
      ],
      "metadata": {
        "id": "KzLqKchQ-NvD"
      }
    },
    {
      "cell_type": "markdown",
      "source": [
        "**Medidas de centralización para las variables: Inversión y Ventas**"
      ],
      "metadata": {
        "id": "0Zi8_lMpdFUc"
      }
    },
    {
      "cell_type": "code",
      "source": [
        "# Box-plot de la variable Inversion\n",
        "import warnings\n",
        "warnings.filterwarnings(\"ignore\")\n",
        "\n",
        "plt.figure(figsize=(17,6))\n",
        "sns.boxplot(df[\"Inversion\"], notch = True, color = \"lightseagreen\")\n",
        "plt.title(\"Box Plot de la variable Inversion\")\n",
        "plt.text(df[\"Inversion\"].quantile(0.50), 0.00, \"Mediana: %.2f\" % df[\"Inversion\"].quantile(0.50), fontsize=14)\n",
        "plt.text(df[\"Inversion\"].quantile(0.25), 0.42, \"Primer Cuartil: %.2f\" % df[\"Inversion\"].quantile(0.25), fontsize=14)\n",
        "plt.text(df[\"Inversion\"].quantile(0.75), -0.4, \"Tercer Cuartil: %.2f\" % df[\"Inversion\"].quantile(0.75), fontsize=14)\n",
        "plt.text(df[\"Inversion\"].quantile(0.00), 0.00, \"Mínimo: %.2f\" % df[\"Inversion\"].quantile(0.00), fontsize=14)\n",
        "plt.text(df[\"Inversion\"].quantile(0.99), 0.00, \"Máximo: %.2f\" % df[\"Inversion\"].quantile(0.99), fontsize=14)\n",
        "plt.show()\n",
        "\n",
        "plt.figure(figsize=(17,6))\n",
        "sns.boxplot(df[\"Ventas\"], notch = True, color = \"purple\")\n",
        "plt.title(\"Box Plot de la variable Ventas\")\n",
        "plt.text(df[\"Ventas\"].quantile(0.50), 0.00, \"Mediana: %.2f\" % df[\"Ventas\"].quantile(0.50), fontsize=14)\n",
        "plt.text(df[\"Ventas\"].quantile(0.25), 0.42, \"Primer Cuartil: %.2f\" % df[\"Ventas\"].quantile(0.25), fontsize=14)\n",
        "plt.text(df[\"Ventas\"].quantile(0.75), -0.4, \"Tercer Cuartil: %.2f\" % df[\"Ventas\"].quantile(0.75), fontsize=14)\n",
        "plt.text(df[\"Ventas\"].quantile(0.00), 0.00, \"Mínimo: %.2f\" % df[\"Ventas\"].quantile(0.00), fontsize=14)\n",
        "plt.text(df[\"Ventas\"].quantile(0.99), 0.00, \"Máximo: %.2f\" % df[\"Ventas\"].quantile(0.99), fontsize=14)\n",
        "plt.show()"
      ],
      "metadata": {
        "colab": {
          "base_uri": "https://localhost:8080/",
          "height": 803
        },
        "id": "a_iDGpVmciF6",
        "outputId": "3fe18064-5aa5-4f28-d2f2-1af8686ddd69"
      },
      "execution_count": null,
      "outputs": [
        {
          "output_type": "display_data",
          "data": {
            "image/png": "[encoded data removed]",
            "text/plain": [
              "<Figure size 1224x432 with 1 Axes>"
            ]
          },
          "metadata": {
            "needs_background": "light"
          }
        },
        {
          "output_type": "display_data",
          "data": {
            "image/png": "[encoded data removed]",
            "text/plain": [
              "<Figure size 1224x432 with 1 Axes>"
            ]
          },
          "metadata": {
            "needs_background": "light"
          }
        }
      ]
    },
    {
      "cell_type": "markdown",
      "source": [
        "**Análisis:** \n",
        "\n",
        "**Inversión:** se puede visualizar como la inversión más pequeña en el lote de datos (mínimo) es de 1 millón. La inversión cuyo valor representa el más alto del set de datos (máximo) es de 19.32 millones, la mediana corresponde a 10.25 millones de euros, es decir, 50% de las inversiones son iguales o inferiores a 10.25 millones de euros, el primer cuartil corresponde a 5.62 millones, es decir, 25% de las inversiones son iguales o menores a  5.62 millones de euros y finalmente el tercer cuartil corrresponde a 14.88 millones de euros, esto quiere decir, que el 75% de las inversiones son iguales o menores a 14.88 millones de euros.\n",
        "\n",
        "**Ventas:** la venta más pequeña en el lote de datos (mínimo) es de 0.62 millones de euros. La venta cuyo valor representa el más alto del set de datos (máximo) es de 17.18 millones, la mediana corresponde a 11.08 millones de euros, es decir, 50% de las ventas son iguales o inferiores a 11.08 millones euros, el primer cuartil corresponde a 7.5650 millones, es decir, 25% de las ventas son iguales o menores a  7.57 millones de euros y finalmente el tercer cuartil corrresponde a 14.03 millones de euros, esto quiere decir, que el 75% de las ventas son iguales o menores a 14.03 millones de euros.\n",
        "\n",
        "Finalmente en ambas variables no se detectan outliers o valores extremos."
      ],
      "metadata": {
        "id": "X1B-PZMJNqZO"
      }
    },
    {
      "cell_type": "code",
      "source": [
        "# Rango variable Fecha anual\n",
        "df['Fecha_anual'].quantile(1)-df['Fecha_anual'].quantile(0)"
      ],
      "metadata": {
        "colab": {
          "base_uri": "https://localhost:8080/"
        },
        "id": "sSs76rSCQeJp",
        "outputId": "1c329f16-09c2-4d9a-af83-49d4a18c14fb"
      },
      "execution_count": null,
      "outputs": [
        {
          "output_type": "execute_result",
          "data": {
            "text/plain": [
              "37.0"
            ]
          },
          "metadata": {},
          "execution_count": 6
        }
      ]
    },
    {
      "cell_type": "markdown",
      "source": [
        "**Análisis:** Con respecto a la variable Fecha Anual se están tomando datos de 37 años, es decir, esta variable va desde 1980 hasta 2017 y ningún año se repite. "
      ],
      "metadata": {
        "id": "-6G3eVFYRFnM"
      }
    },
    {
      "cell_type": "markdown",
      "source": [
        "Primero antes de hacer el modelo de regresión se optará por hacer un estudio rápido de las variables a utilizar en el modelo, en este caso se quiere entender si hay alguna representación de linealidad entre las variables: inversión y ventas. "
      ],
      "metadata": {
        "id": "AiFEjaL8vlxG"
      }
    },
    {
      "cell_type": "code",
      "source": [
        "# Representación de variables: Inversión y ventas\n",
        "# raw data\n",
        "inversion = df[\"Inversion\"] \n",
        "ventas = df[\"Ventas\"] \n",
        "\n",
        "# labels\n",
        "plt.figure(figsize=(20,10))\n",
        "plt.title(\"Distribución de la inversión VS ventas\")\n",
        "plt.xlabel(\"Inversión\")\n",
        "plt.ylabel(\"Ventas\")\n",
        "\n",
        "# limits\n",
        "plt.xlim(inversion.min()-1 , ventas.max()+1 )\n",
        "plt.ylim(inversion.min()-1 , ventas.max()+1 )\n",
        "\n",
        "plt.scatter(inversion,ventas, color = 'red')\n",
        "plt.show()"
      ],
      "metadata": {
        "colab": {
          "base_uri": "https://localhost:8080/",
          "height": 627
        },
        "id": "T90FjutYBGgc",
        "outputId": "9d5ef328-c2bd-4086-f1cb-a1ad51d913a5"
      },
      "execution_count": null,
      "outputs": [
        {
          "output_type": "display_data",
          "data": {
            "image/png": "[encoded data removed]",
            "text/plain": [
              "<Figure size 1440x720 with 1 Axes>"
            ]
          },
          "metadata": {
            "needs_background": "light"
          }
        }
      ]
    },
    {
      "cell_type": "markdown",
      "source": [
        "Se puede visualizar cómo hay una línea recta \"imaginaria\" o \"invisible\" que pasa por las observaciones en la gráfica de dispersión. Esto hace que parezca que se trata de una recta de regresión lineal."
      ],
      "metadata": {
        "id": "YTBabVszDn4f"
      }
    },
    {
      "cell_type": "code",
      "source": [
        "# Calculando covarianza\n",
        "covarianza = df.cov()[\"Inversion\"][\"Ventas\"]\n",
        "covarianza"
      ],
      "metadata": {
        "colab": {
          "base_uri": "https://localhost:8080/"
        },
        "id": "C9LCuVXODCDD",
        "outputId": "ad5cf426-d5c4-4282-fc9d-9cec3b024540"
      },
      "execution_count": null,
      "outputs": [
        {
          "output_type": "execute_result",
          "data": {
            "text/plain": [
              "22.92993243243243"
            ]
          },
          "metadata": {},
          "execution_count": 8
        }
      ]
    },
    {
      "cell_type": "markdown",
      "source": [
        "Con la covarianza, vemos que la relación es positiva, es decir, presenta una relación directa. Esto implica que a medida que aumentan las inversiones, hay una tendencia a que suban las ventas.\n",
        "\n",
        "Para ver si las variables están correladas, se hallará el coeficiente de correlación lineal de Pearson, ya las variables que se están analizando son cuantitativas continuas. "
      ],
      "metadata": {
        "id": "LzPBgBoZD8S7"
      }
    },
    {
      "cell_type": "code",
      "source": [
        "# Matriz de correlacion utilizando coeficiente de correlacion lineal de Pearson\n",
        "import warnings\n",
        "warnings.filterwarnings(\"ignore\")\n",
        "\n",
        "import scipy.stats as ss\n",
        "df.corr(method = 'pearson').style.background_gradient(cmap='coolwarm').set_precision(3)"
      ],
      "metadata": {
        "colab": {
          "base_uri": "https://localhost:8080/",
          "height": 143
        },
        "id": "rlTyDufpFBNe",
        "outputId": "f94a7d67-a2ee-4136-eeb1-dbd0725790eb"
      },
      "execution_count": null,
      "outputs": [
        {
          "output_type": "execute_result",
          "data": {
            "text/html": [
              "<style type=\"text/css\">\n",
              "#T_ec6e5_row0_col0, #T_ec6e5_row0_col1, #T_ec6e5_row1_col0, #T_ec6e5_row1_col1, #T_ec6e5_row2_col2 {\n",
              "  background-color: #b40426;\n",
              "  color: #f1f1f1;\n",
              "}\n",
              "#T_ec6e5_row0_col2, #T_ec6e5_row1_col2, #T_ec6e5_row2_col0, #T_ec6e5_row2_col1 {\n",
              "  background-color: #3b4cc0;\n",
              "  color: #f1f1f1;\n",
              "}\n",
              "</style>\n",
              "<table id=\"T_ec6e5_\" class=\"dataframe\">\n",
              "  <thead>\n",
              "    <tr>\n",
              "      <th class=\"blank level0\" >&nbsp;</th>\n",
              "      <th class=\"col_heading level0 col0\" >Fecha_anual</th>\n",
              "      <th class=\"col_heading level0 col1\" >Inversion</th>\n",
              "      <th class=\"col_heading level0 col2\" >Ventas</th>\n",
              "    </tr>\n",
              "  </thead>\n",
              "  <tbody>\n",
              "    <tr>\n",
              "      <th id=\"T_ec6e5_level0_row0\" class=\"row_heading level0 row0\" >Fecha_anual</th>\n",
              "      <td id=\"T_ec6e5_row0_col0\" class=\"data row0 col0\" >1.000</td>\n",
              "      <td id=\"T_ec6e5_row0_col1\" class=\"data row0 col1\" >1.000</td>\n",
              "      <td id=\"T_ec6e5_row0_col2\" class=\"data row0 col2\" >0.956</td>\n",
              "    </tr>\n",
              "    <tr>\n",
              "      <th id=\"T_ec6e5_level0_row1\" class=\"row_heading level0 row1\" >Inversion</th>\n",
              "      <td id=\"T_ec6e5_row1_col0\" class=\"data row1 col0\" >1.000</td>\n",
              "      <td id=\"T_ec6e5_row1_col1\" class=\"data row1 col1\" >1.000</td>\n",
              "      <td id=\"T_ec6e5_row1_col2\" class=\"data row1 col2\" >0.956</td>\n",
              "    </tr>\n",
              "    <tr>\n",
              "      <th id=\"T_ec6e5_level0_row2\" class=\"row_heading level0 row2\" >Ventas</th>\n",
              "      <td id=\"T_ec6e5_row2_col0\" class=\"data row2 col0\" >0.956</td>\n",
              "      <td id=\"T_ec6e5_row2_col1\" class=\"data row2 col1\" >0.956</td>\n",
              "      <td id=\"T_ec6e5_row2_col2\" class=\"data row2 col2\" >1.000</td>\n",
              "    </tr>\n",
              "  </tbody>\n",
              "</table>\n"
            ],
            "text/plain": [
              "<pandas.io.formats.style.Styler at 0x7fadeaf95410>"
            ]
          },
          "metadata": {},
          "execution_count": 9
        }
      ]
    },
    {
      "cell_type": "markdown",
      "source": [
        "El resultado del coeficiente de correlación lineal de Pearson entre las variables Inversión y Ventas está cercano a uno (0.95 o 95%) lo que implica que existe una relación lineal muy fuerte entre las variables analizadas de inversión y ventas, lo que implica que si una crece la otra crecerá y si una decrece la otra también lo hará. "
      ],
      "metadata": {
        "id": "G4fFDisdGXJe"
      }
    },
    {
      "cell_type": "markdown",
      "source": [
        "**Ajustar un modelo de regresión lineal. Obtener una estimación de los parámetros del modelo y su interpretación.**"
      ],
      "metadata": {
        "id": "F7rniNsABbk8"
      }
    },
    {
      "cell_type": "code",
      "source": [
        "# Modelo matemático\n",
        "pendiente, coeficiente, pearson, p, error = ss.linregress(df[\"Inversion\"], df[\"Ventas\"])\n",
        "\n",
        "def consumption(income):\n",
        "    return coeficiente + income*pendiente"
      ],
      "metadata": {
        "id": "UGyRMuAPIqET"
      },
      "execution_count": null,
      "outputs": []
    },
    {
      "cell_type": "code",
      "source": [
        "# Obteniendo estimación delos parámetros\n",
        "print(pendiente, coeficiente, pearson, p, error)"
      ],
      "metadata": {
        "colab": {
          "base_uri": "https://localhost:8080/"
        },
        "id": "i1l_P5cCweAE",
        "outputId": "f33a7026-3507-44a8-e511-b95c505aa863"
      },
      "execution_count": null,
      "outputs": [
        {
          "output_type": "stream",
          "name": "stdout",
          "text": [
            "0.7426698763540868 2.8805285042127142 0.9562823420491505 8.25497955552195e-21 0.0378532029452961\n"
          ]
        }
      ]
    },
    {
      "cell_type": "markdown",
      "source": [
        "**Análisis:**\n",
        "\n",
        "1. Pendiente: este valor nos indica que por cada millón en inversión las ventas aumentan en promedio, 0.7426 millones de euros. \n",
        "\n",
        "2. Coeficiente: este valor representa el intercepto de la función. El valor de la intersección en Y (2.8805) esto indica las ventas promedio para los años que no recibieron inversiones. \n",
        "\n",
        "3. Pearson: indica el coeficiente de determinación de pearson, en este caso se puede observar que está cercano a uno (0.956) lo que implica que existe una relación lineal muy fuerte entre las variables analizadas de inversión y ventas, lo que implica que si una crece la otra crecerá y si una decrece la otra también lo hará.\n",
        "\n",
        "4. P: El valor p de cada término evalúa la hipótesis nula de que el coeficiente es igual a cero (no hay efecto). Un valor p bajo (< 0.05) indica que se puede rechazar la hipótesis nula. En otras palabras, es probable que un predictor que tenga un valor p bajo sea una adición significativa al modelo porque los cambios en el valor del predictor se relacionan con cambios en la variable de respuesta. En este caso los cambios que sucedan en la variable inversión se relacionan con cambios en la variable de ventas. Por el contrario, un valor p más grande (insignificante) sugiere que los cambios en el predictor (inversión) no están asociados con cambios en la respuesta (ventas). Para nuestro ejemplo podemos ver que el p valor es menor a 0.05 por lo que deberías de considerar dejar la variable inversión, ya que los cambios que sucedan en esta se relacionan con los cambios en la variable ventas. \n",
        "\n",
        "5. Error: el error estándar de la regresión es el valor que muestra la diferencia entre los valores reales y los estimados de una regresión. Esto indica que desde el punto de vista de las ventas hay una desviación de 0.0378 millones de euros, con este error siempre se busca que sea lo más bajo posible. \n",
        "\n",
        "6. Variable X o predictora, también llamada variable independiente: para nuestro ejemplo es la variable inversión. \n",
        "\n",
        "7. Variable Y o de respuesta, también llamada variable dependiente: para nuestro ejemplo es la variable ventas."
      ],
      "metadata": {
        "id": "3nOQonYjxFEI"
      }
    },
    {
      "cell_type": "markdown",
      "source": [
        "**¿Cuántas ventas se obtendrían si se invirtiesen 7 millones de euros?**"
      ],
      "metadata": {
        "id": "YNPzjjwAI6Ob"
      }
    },
    {
      "cell_type": "code",
      "source": [
        "# Obteniendo la estimación de las ventas si se invirtieran 7 millones de euros\n",
        "consumption(7)"
      ],
      "metadata": {
        "colab": {
          "base_uri": "https://localhost:8080/"
        },
        "id": "UyVWCKIQJCue",
        "outputId": "60158cb1-e57b-4c58-bc5e-c50f1659414a"
      },
      "execution_count": null,
      "outputs": [
        {
          "output_type": "execute_result",
          "data": {
            "text/plain": [
              "8.079217638691322"
            ]
          },
          "metadata": {},
          "execution_count": 12
        }
      ]
    },
    {
      "cell_type": "markdown",
      "source": [
        "**Análisis:** según podemos observar mediante la predicción del modelo de consumo, si se invierten 7 millones de euros se podría tener 8.07 millones de euros en ventas. Asimismo se corrobora dicho resultado con el generado en 1992, ya que en ese año se inviertieron 7 millones y se obtuvo 8.22 millones en ventas. Al ser una predicción es muy probable que siempre dé resultados diferentes, pero el resultado obtenido vs el real es bastante cercano."
      ],
      "metadata": {
        "id": "qQhfUGmYJliY"
      }
    },
    {
      "cell_type": "markdown",
      "source": [
        "**Evaluar el modelo a través de la SCE y el coeficiente de determinación.**"
      ],
      "metadata": {
        "id": "DPrZmF16J9n5"
      }
    },
    {
      "cell_type": "code",
      "source": [
        "# Calculando el coeficiente de determinación\n",
        "print(f\"R-squared: {pearson**2:.6f}\")"
      ],
      "metadata": {
        "colab": {
          "base_uri": "https://localhost:8080/"
        },
        "id": "WyP_lFb9NkGa",
        "outputId": "09fd80cb-e14b-48ad-b434-45233fc0f850"
      },
      "execution_count": null,
      "outputs": [
        {
          "output_type": "stream",
          "name": "stdout",
          "text": [
            "R-squared: 0.914476\n"
          ]
        }
      ]
    },
    {
      "cell_type": "code",
      "source": [
        "# Obteniendo la suma de los cuadrados de los residuos\n",
        "df_1 = df['Ventas'] - df['Inversion'].map(consumption)\n",
        "sce = sum(df_1**2)\n",
        "print(f\"SCE: {sce:.6f}\")"
      ],
      "metadata": {
        "colab": {
          "base_uri": "https://localhost:8080/"
        },
        "id": "gnRE974dBaDF",
        "outputId": "e6530b2b-571f-4a7a-8906-4bab5e0ee750"
      },
      "execution_count": null,
      "outputs": [
        {
          "output_type": "stream",
          "name": "stdout",
          "text": [
            "SCE: 58.927288\n"
          ]
        }
      ]
    },
    {
      "cell_type": "markdown",
      "source": [
        "**Análisis:**\n",
        "\n",
        "𝑅2 = 0.91 o 91%, al estar este valor cercano a 1, implica que es un buen ajuste. Como el coeficiente está cercano a  1 implica que casi todos los residuos son nulos.\n",
        "\n",
        "SCE: este estadístico representa con una cifra lo que un modelo no es capaz de explicar y para nuestro caso es  de 58.92 millones, tomando este estadístico solo no es tan informativo, porque la escala cambia en función de la variable respuesta, cuando adquiere más sentido es cuando lo utilizamos con el R2, para este caso podemos decir que nuestro modelo es explicativo. "
      ],
      "metadata": {
        "id": "-F93Es_XCUT7"
      }
    },
    {
      "cell_type": "markdown",
      "source": [
        "**Calculando la misma recta de regresión con el modelo de stats models**"
      ],
      "metadata": {
        "id": "kTQiorUoXlU_"
      }
    },
    {
      "cell_type": "code",
      "source": [
        "import statsmodels.api as sm\n",
        "\n",
        "# Definiendo la variable de respuesta\n",
        "y = df['Ventas']\n",
        "\n",
        "# Definiendo la variable predictora\n",
        "x = df['Inversion']\n",
        "\n",
        "# Agregando la constante a la variable predictora\n",
        "x = sm.add_constant(x)\n",
        "\n",
        "# Definiendo el modelo de regresión\n",
        "model = sm.OLS(y, x).fit()\n",
        "\n",
        "# Viendo estadísticos claves del modelo\n",
        "print(model.summary())"
      ],
      "metadata": {
        "colab": {
          "base_uri": "https://localhost:8080/"
        },
        "id": "hGd8w31eW8ko",
        "outputId": "b88a1a5a-fd72-4cb5-8085-7955f36e015f"
      },
      "execution_count": null,
      "outputs": [
        {
          "output_type": "stream",
          "name": "stdout",
          "text": [
            "                            OLS Regression Results                            \n",
            "==============================================================================\n",
            "Dep. Variable:                 Ventas   R-squared:                       0.914\n",
            "Model:                            OLS   Adj. R-squared:                  0.912\n",
            "Method:                 Least Squares   F-statistic:                     384.9\n",
            "Date:                Sun, 20 Feb 2022   Prob (F-statistic):           8.25e-21\n",
            "Time:                        21:50:45   Log-Likelihood:                -62.255\n",
            "No. Observations:                  38   AIC:                             128.5\n",
            "Df Residuals:                      36   BIC:                             131.8\n",
            "Df Model:                           1                                         \n",
            "Covariance Type:            nonrobust                                         \n",
            "==============================================================================\n",
            "                 coef    std err          t      P>|t|      [0.025      0.975]\n",
            "------------------------------------------------------------------------------\n",
            "const          2.8805      0.440      6.546      0.000       1.988       3.773\n",
            "Inversion      0.7427      0.038     19.620      0.000       0.666       0.819\n",
            "==============================================================================\n",
            "Omnibus:                       49.123   Durbin-Watson:                   2.334\n",
            "Prob(Omnibus):                  0.000   Jarque-Bera (JB):              209.563\n",
            "Skew:                          -3.131   Prob(JB):                     3.12e-46\n",
            "Kurtosis:                      12.651   Cond. No.                         24.8\n",
            "==============================================================================\n",
            "\n",
            "Warnings:\n",
            "[1] Standard Errors assume that the covariance matrix of the errors is correctly specified.\n"
          ]
        }
      ]
    },
    {
      "cell_type": "markdown",
      "source": [
        "**Análisis**: a nivel general con el paquete de stats Models, se ve que que existen resultados similares, por ejemplo el R2 es de 91.4% al igual que con el modelo de linregress, por otro lado se un R2 ajustado muy similar al R2 normal, ya que este adquiere mayor sentido cuando en el modelo hay más de un predictor y es un estadístico que se utiliza mucho cuando se quieren hacer comparaciones de varios modelos que tengan más de una variable. \n",
        "\n",
        "El coeficiente es prácticamente el mismo al igual que el error estándar. \n",
        "\n",
        "Omnibus describe la normalidad de la distribución de nuestros residuos usando sesgo y curtosis como medidas. Un 0 indicaría perfecta normalidad, en nuestro caso tenemos 49.123 lo que indica que nuestros residuos no son normales. \n",
        "Prob(Omnibus) es una prueba estadística que mide la probabilidad de que los residuos se distribuyan normalmente. Un 1 indicaría una distribución perfectamente normal, en este caso tenemos 0, lo que indica que nuestra distribucion no es normal. Por otro lado, la curtosis es de 12.651 lo cual quiere decir que es Leptocúrtica y hay más concentración en los valores centrales. Finalmente podemos ver que la asimetría es negativa o a la izqda, lo que indica que el coeficiente es negativo o  CAF<0. \n",
        "\n",
        "La estadística de Durbin Watson (DW) se utiliza como prueba para verificar la autocorrelación en los residuos. Si existe una autocorrelación, se subestima el error estándar y puede hacernos creer que los predictores son significativos cuando en realidad no lo son. En este caso se tiene 2.334 (el rango que generalmente se acepta es entre 1.5 y 2.5) esto lo que quiere decir, es que nuestros residuos no están autocorrelados y por ende los predictores sí son significativos para la variable respuesta. \n",
        "\n",
        "Jarque-Bera (JB) y Prob(JB) son métodos alternativos para medir el mismo valor que Omnibus y Prob(Omnibus) usando asimetría y curtosis. Usamos estos valores para confirmarnos unos a otros.\n",
        "\n",
        "Finalmente, Condition number es una medida de la sensibilidad de nuestro modelo en comparación con el tamaño de los cambios en los datos que está analizando. La multicolinealidad está fuertemente implícita en un número de condition number alto; asimismo, la multicolinealidad es un término que se utiliza para describir dos o más variables independientes que están fuertemente relacionadas entre sí y están afectando falsamente nuestra variable pronosticada por redundancia. Un número de condición entre 10 y 30 indica la presencia de multicolinealidad y cuando un valor es mayor que 30, la multicolinealidad se considera fuerte. Para nuestro caso es de 24.8 por lo que podemos decir que en nuestro modelo existe multicolinealidad y esto se pudo comprobar cuando realizamos el análisis de la correlación."
      ],
      "metadata": {
        "id": "yKtqz2Q3SFD9"
      }
    },
    {
      "cell_type": "code",
      "source": [
        "# Obteniendo la suma de los cuadrados de los residuos\n",
        "print(f\"SCE: {model.ssr:.6f}\")"
      ],
      "metadata": {
        "colab": {
          "base_uri": "https://localhost:8080/"
        },
        "id": "zRV_FIHqXG8o",
        "outputId": "656cdfbe-28e9-4269-aa33-4e8d2d5ade7e"
      },
      "execution_count": null,
      "outputs": [
        {
          "output_type": "stream",
          "name": "stdout",
          "text": [
            "SCE: 58.927288\n"
          ]
        }
      ]
    },
    {
      "cell_type": "markdown",
      "source": [
        "La Suma de los Cuadrados de los residios con statsModels nos da exactamente igual a la que calculamos a manualmente, por lo que podemos decir que el modelo es explicativo. "
      ],
      "metadata": {
        "id": "Lk5maJwFZSBb"
      }
    },
    {
      "cell_type": "code",
      "source": [
        "# Representación final de la recta de regresión\n",
        "plt.figure(figsize=(20,10))\n",
        "plt.plot(df[\"Inversion\"], df[\"Ventas\"], 'o', label='original data')\n",
        "plt.plot(df[\"Inversion\"], coeficiente + pendiente*df[\"Inversion\"], 'r', label='fitted line')\n",
        "plt.legend()\n",
        "\n",
        "# limits\n",
        "plt.xlim(inversion.min()-1 , ventas.max()+1 )\n",
        "plt.ylim(inversion.min()-1 , ventas.max()+1 )\n",
        "\n",
        "plt.show()"
      ],
      "metadata": {
        "colab": {
          "base_uri": "https://localhost:8080/",
          "height": 594
        },
        "id": "Uk2cE6K4QDIO",
        "outputId": "633c2566-0b0d-4a4f-975d-769166aea9e3"
      },
      "execution_count": null,
      "outputs": [
        {
          "output_type": "display_data",
          "data": {
            "image/png": "[encoded data removed]",
            "text/plain": [
              "<Figure size 1440x720 with 1 Axes>"
            ]
          },
          "metadata": {
            "needs_background": "light"
          }
        }
      ]
    },
    {
      "cell_type": "markdown",
      "source": [
        "**COnclusiones finales:** a nivel general se puede concluir que el presente modelo de regresión es explicativo, ya que genera un R2 cercano a 1, lo que implica que hay un buen ajuste. A nivel del error estándar este es pequeño y los resultados se desviación de 0.0378 millones de euros vs los datos reales. Con el paquete StatsModels pudimos cercionarnos que los residuos no son normales, pero no están autocorrelatados por ende los predictores sí son significativos para la variable respuesta. Además el modelo presenta multicolinealidad dada la alta correlación que existe entre la variable Inversión y Ventas. \n",
        "\n",
        "Finalmente el último gráfico nos ayuda a ver a nivel visual cómo se comporta nuestro modelo y podemos observar que los puntos están muy cercanos a la línea roja, excepto por dos puntos que están entre 2.5 y 5 millones de euros."
      ],
      "metadata": {
        "id": "PxUkYDI_DeHg"
      }
    }
  ]
}