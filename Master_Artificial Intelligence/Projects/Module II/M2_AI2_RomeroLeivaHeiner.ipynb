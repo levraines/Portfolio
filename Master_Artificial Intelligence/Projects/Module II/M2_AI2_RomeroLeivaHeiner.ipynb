{
  "nbformat": 4,
  "nbformat_minor": 0,
  "metadata": {
    "colab": {
      "name": "M2_AI2_RomeroLeivaHeiner.ipynb",
      "provenance": []
    },
    "kernelspec": {
      "name": "python3",
      "display_name": "Python 3"
    },
    "language_info": {
      "name": "python"
    }
  },
  "cells": [
    {
      "cell_type": "code",
      "execution_count": 1,
      "metadata": {
        "id": "abHpIW49kC2U"
      },
      "outputs": [],
      "source": [
        "# Importando bibliotecas\n",
        "import pandas as pd\n",
        "import numpy as np\n",
        "import matplotlib.pyplot as plt\n",
        "import seaborn as sns\n",
        "\n",
        "sns.set()"
      ]
    },
    {
      "cell_type": "code",
      "source": [
        "# Importando dataset \n",
        "df = pd.read_csv(\"https://raw.githubusercontent.com/md-lorente/data/master/datos_facturas.csv\", sep = ';', decimal = ',')"
      ],
      "metadata": {
        "id": "Iau2b34MmbLW"
      },
      "execution_count": 2,
      "outputs": []
    },
    {
      "cell_type": "code",
      "source": [
        "# Visualizando dataset\n",
        "df.head(5)"
      ],
      "metadata": {
        "colab": {
          "base_uri": "https://localhost:8080/",
          "height": 206
        },
        "id": "mJo-Phn1mlm5",
        "outputId": "73b868a5-7692-467c-cc77-1e907b959b8d"
      },
      "execution_count": 3,
      "outputs": [
        {
          "output_type": "execute_result",
          "data": {
            "text/html": [
              "\n",
              "  <div id=\"df-95541b26-fb04-4c9b-a947-c6f25b5cc1d5\">\n",
              "    <div class=\"colab-df-container\">\n",
              "      <div>\n",
              "<style scoped>\n",
              "    .dataframe tbody tr th:only-of-type {\n",
              "        vertical-align: middle;\n",
              "    }\n",
              "\n",
              "    .dataframe tbody tr th {\n",
              "        vertical-align: top;\n",
              "    }\n",
              "\n",
              "    .dataframe thead th {\n",
              "        text-align: right;\n",
              "    }\n",
              "</style>\n",
              "<table border=\"1\" class=\"dataframe\">\n",
              "  <thead>\n",
              "    <tr style=\"text-align: right;\">\n",
              "      <th></th>\n",
              "      <th>id</th>\n",
              "      <th>fecha</th>\n",
              "      <th>mes</th>\n",
              "      <th>cliente</th>\n",
              "      <th>factura_pagada</th>\n",
              "      <th>importe_factura</th>\n",
              "      <th>tipo_IVA</th>\n",
              "      <th>porcentaje_IVA</th>\n",
              "      <th>IVA</th>\n",
              "      <th>total_pagado</th>\n",
              "    </tr>\n",
              "  </thead>\n",
              "  <tbody>\n",
              "    <tr>\n",
              "      <th>0</th>\n",
              "      <td>1</td>\n",
              "      <td>01/01/2010</td>\n",
              "      <td>Enero</td>\n",
              "      <td>clienteA</td>\n",
              "      <td>si</td>\n",
              "      <td>100</td>\n",
              "      <td>normal</td>\n",
              "      <td>18</td>\n",
              "      <td>18.0</td>\n",
              "      <td>118.0</td>\n",
              "    </tr>\n",
              "    <tr>\n",
              "      <th>1</th>\n",
              "      <td>2</td>\n",
              "      <td>02/01/2010</td>\n",
              "      <td>Enero</td>\n",
              "      <td>clienteB</td>\n",
              "      <td>no</td>\n",
              "      <td>150</td>\n",
              "      <td>normal</td>\n",
              "      <td>18</td>\n",
              "      <td>27.0</td>\n",
              "      <td>177.0</td>\n",
              "    </tr>\n",
              "    <tr>\n",
              "      <th>2</th>\n",
              "      <td>3</td>\n",
              "      <td>03/01/2010</td>\n",
              "      <td>Enero</td>\n",
              "      <td>clienteC</td>\n",
              "      <td>si</td>\n",
              "      <td>75</td>\n",
              "      <td>normal</td>\n",
              "      <td>18</td>\n",
              "      <td>13.5</td>\n",
              "      <td>88.5</td>\n",
              "    </tr>\n",
              "    <tr>\n",
              "      <th>3</th>\n",
              "      <td>4</td>\n",
              "      <td>04/01/2010</td>\n",
              "      <td>Enero</td>\n",
              "      <td>clienteD</td>\n",
              "      <td>si</td>\n",
              "      <td>200</td>\n",
              "      <td>normal</td>\n",
              "      <td>18</td>\n",
              "      <td>36.0</td>\n",
              "      <td>236.0</td>\n",
              "    </tr>\n",
              "    <tr>\n",
              "      <th>4</th>\n",
              "      <td>5</td>\n",
              "      <td>05/01/2010</td>\n",
              "      <td>Enero</td>\n",
              "      <td>clienteA</td>\n",
              "      <td>no</td>\n",
              "      <td>125</td>\n",
              "      <td>normal</td>\n",
              "      <td>18</td>\n",
              "      <td>22.5</td>\n",
              "      <td>147.5</td>\n",
              "    </tr>\n",
              "  </tbody>\n",
              "</table>\n",
              "</div>\n",
              "      <button class=\"colab-df-convert\" onclick=\"convertToInteractive('df-95541b26-fb04-4c9b-a947-c6f25b5cc1d5')\"\n",
              "              title=\"Convert this dataframe to an interactive table.\"\n",
              "              style=\"display:none;\">\n",
              "        \n",
              "  <svg xmlns=\"http://www.w3.org/2000/svg\" height=\"24px\"viewBox=\"0 0 24 24\"\n",
              "       width=\"24px\">\n",
              "    <path d=\"M0 0h24v24H0V0z\" fill=\"none\"/>\n",
              "    <path d=\"M18.56 5.44l.94 2.06.94-2.06 2.06-.94-2.06-.94-.94-2.06-.94 2.06-2.06.94zm-11 1L8.5 8.5l.94-2.06 2.06-.94-2.06-.94L8.5 2.5l-.94 2.06-2.06.94zm10 10l.94 2.06.94-2.06 2.06-.94-2.06-.94-.94-2.06-.94 2.06-2.06.94z\"/><path d=\"M17.41 7.96l-1.37-1.37c-.4-.4-.92-.59-1.43-.59-.52 0-1.04.2-1.43.59L10.3 9.45l-7.72 7.72c-.78.78-.78 2.05 0 2.83L4 21.41c.39.39.9.59 1.41.59.51 0 1.02-.2 1.41-.59l7.78-7.78 2.81-2.81c.8-.78.8-2.07 0-2.86zM5.41 20L4 18.59l7.72-7.72 1.47 1.35L5.41 20z\"/>\n",
              "  </svg>\n",
              "      </button>\n",
              "      \n",
              "  <style>\n",
              "    .colab-df-container {\n",
              "      display:flex;\n",
              "      flex-wrap:wrap;\n",
              "      gap: 12px;\n",
              "    }\n",
              "\n",
              "    .colab-df-convert {\n",
              "      background-color: #E8F0FE;\n",
              "      border: none;\n",
              "      border-radius: 50%;\n",
              "      cursor: pointer;\n",
              "      display: none;\n",
              "      fill: #1967D2;\n",
              "      height: 32px;\n",
              "      padding: 0 0 0 0;\n",
              "      width: 32px;\n",
              "    }\n",
              "\n",
              "    .colab-df-convert:hover {\n",
              "      background-color: #E2EBFA;\n",
              "      box-shadow: 0px 1px 2px rgba(60, 64, 67, 0.3), 0px 1px 3px 1px rgba(60, 64, 67, 0.15);\n",
              "      fill: #174EA6;\n",
              "    }\n",
              "\n",
              "    [theme=dark] .colab-df-convert {\n",
              "      background-color: #3B4455;\n",
              "      fill: #D2E3FC;\n",
              "    }\n",
              "\n",
              "    [theme=dark] .colab-df-convert:hover {\n",
              "      background-color: #434B5C;\n",
              "      box-shadow: 0px 1px 3px 1px rgba(0, 0, 0, 0.15);\n",
              "      filter: drop-shadow(0px 1px 2px rgba(0, 0, 0, 0.3));\n",
              "      fill: #FFFFFF;\n",
              "    }\n",
              "  </style>\n",
              "\n",
              "      <script>\n",
              "        const buttonEl =\n",
              "          document.querySelector('#df-95541b26-fb04-4c9b-a947-c6f25b5cc1d5 button.colab-df-convert');\n",
              "        buttonEl.style.display =\n",
              "          google.colab.kernel.accessAllowed ? 'block' : 'none';\n",
              "\n",
              "        async function convertToInteractive(key) {\n",
              "          const element = document.querySelector('#df-95541b26-fb04-4c9b-a947-c6f25b5cc1d5');\n",
              "          const dataTable =\n",
              "            await google.colab.kernel.invokeFunction('convertToInteractive',\n",
              "                                                     [key], {});\n",
              "          if (!dataTable) return;\n",
              "\n",
              "          const docLinkHtml = 'Like what you see? Visit the ' +\n",
              "            '<a target=\"_blank\" href=https://colab.research.google.com/notebooks/data_table.ipynb>data table notebook</a>'\n",
              "            + ' to learn more about interactive tables.';\n",
              "          element.innerHTML = '';\n",
              "          dataTable['output_type'] = 'display_data';\n",
              "          await google.colab.output.renderOutput(dataTable, element);\n",
              "          const docLink = document.createElement('div');\n",
              "          docLink.innerHTML = docLinkHtml;\n",
              "          element.appendChild(docLink);\n",
              "        }\n",
              "      </script>\n",
              "    </div>\n",
              "  </div>\n",
              "  "
            ],
            "text/plain": [
              "   id       fecha    mes   cliente  ... tipo_IVA  porcentaje_IVA   IVA  total_pagado\n",
              "0   1  01/01/2010  Enero  clienteA  ...   normal              18  18.0         118.0\n",
              "1   2  02/01/2010  Enero  clienteB  ...   normal              18  27.0         177.0\n",
              "2   3  03/01/2010  Enero  clienteC  ...   normal              18  13.5          88.5\n",
              "3   4  04/01/2010  Enero  clienteD  ...   normal              18  36.0         236.0\n",
              "4   5  05/01/2010  Enero  clienteA  ...   normal              18  22.5         147.5\n",
              "\n",
              "[5 rows x 10 columns]"
            ]
          },
          "metadata": {},
          "execution_count": 3
        }
      ]
    },
    {
      "cell_type": "code",
      "source": [
        "# Resumen información del fichero\n",
        "print(df.info())"
      ],
      "metadata": {
        "colab": {
          "base_uri": "https://localhost:8080/"
        },
        "id": "23hrk4s6nmV8",
        "outputId": "f0b4d331-6c45-4055-c9fa-e53d93b10be5"
      },
      "execution_count": 4,
      "outputs": [
        {
          "output_type": "stream",
          "name": "stdout",
          "text": [
            "<class 'pandas.core.frame.DataFrame'>\n",
            "RangeIndex: 45 entries, 0 to 44\n",
            "Data columns (total 10 columns):\n",
            " #   Column           Non-Null Count  Dtype  \n",
            "---  ------           --------------  -----  \n",
            " 0   id               45 non-null     int64  \n",
            " 1   fecha            45 non-null     object \n",
            " 2   mes              45 non-null     object \n",
            " 3   cliente          45 non-null     object \n",
            " 4   factura_pagada   45 non-null     object \n",
            " 5   importe_factura  45 non-null     int64  \n",
            " 6   tipo_IVA         45 non-null     object \n",
            " 7   porcentaje_IVA   45 non-null     int64  \n",
            " 8   IVA              45 non-null     float64\n",
            " 9   total_pagado     45 non-null     float64\n",
            "dtypes: float64(2), int64(3), object(5)\n",
            "memory usage: 3.6+ KB\n",
            "None\n"
          ]
        }
      ]
    },
    {
      "cell_type": "code",
      "source": [
        "print(df[\"cliente\"].value_counts())"
      ],
      "metadata": {
        "colab": {
          "base_uri": "https://localhost:8080/"
        },
        "id": "-5TMwpqxWjbG",
        "outputId": "f04b73b6-73aa-43fe-e87e-1285554cae23"
      },
      "execution_count": 40,
      "outputs": [
        {
          "output_type": "stream",
          "name": "stdout",
          "text": [
            "clienteA    14\n",
            "clienteB    11\n",
            "clienteD    11\n",
            "clienteC     9\n",
            "Name: cliente, dtype: int64\n"
          ]
        }
      ]
    },
    {
      "cell_type": "markdown",
      "source": [
        "**Análisis del tipo de variables con que se trabajará:**\n",
        "\n",
        "**1. Id:** identificador correlativo y secuencial del número de registros de facturas. Esta variable es usada para agilizar el cruce de información y que, al mismo tiempo, no aporta información para el análisis de los datos, por lo que, no se clasifica como análitica o de clasificación. \n",
        "\n",
        "**2. Fecha:** fecha en la que se generó la factura. La naturaleza de la variable es **cuantitativa continua**, a nivel de dataset viene expresada como una variable de tipo **object** (cualitativa ordinal), ya que podemos ordenar los datos por la fecha específica en que sucedió cada pago. Por otro lado podemos ver que empezó el 01 enero de 2010 y hay pagos registrados en días posteriores. Por último a nivel de análisis de datos corresponde a una variable de **clasificación**, porque sus categorías o grupos son mutuamente excluyentes.\n",
        "\n",
        "**3. Mes:** mes en la que se generó la factura. La naturaleza de la variable es **cualitativa ordinal**, a nivel de dataset viene expresada como una variable de tipo **object** (cualitativa ordinal), ya que podemos ordenar los datos por el mes en que sucedió cada pago. Por último a nivel de análisis de datos corresponde a una variable de **clasificación**, porque sus categorías o grupos son mutuamente excluyentes.\n",
        "\n",
        "**4. Cliente:** tipo de cliente, clasificado de la A a la D. La naturaleza de la variable es **cualitativa nominal**, ya que ningún cliente es más importante que otro. A nivel de dataset viene expresada como una variable de tipo **object** (cualitativa) y aqui se pueden tener dos interpretaciones: si consideramos que el cliente A y el B son iguales, sería una variable nominal, pero si consideramos que el cliente A es primero que el B y este a su vez que el C y así podemos decir que es una variable ordinal, porque hay un orden. A nivel de dataset no es claro, si existe este orden, aunque las letras se pueden ordenar y por lo tanto, solo tomando el orden de las letras, sería una variable de tipo ordinal. Por último a nivel de análisis de datos corresponde a una variable de **clasificación**, porque sus categorías o grupos son mutuamente excluyentes.\n",
        "\n",
        "**5. Factura pagada:** descriptivo de si está pagada o no, en la fecha de generación. La naturaleza de la variable es **cualitativa binaria o dicotómica simétrica**, a nivel de dataset viene expresada como una variable de tipo **object** (cualitativa dicotómica simétrica) ya que solo tiene dos posibles categorías y estas no son 1 o 0; y a nivel de análisis de datos corresponde a una variable **categórica y analítica** (teniendo en cuenta que sólo se puede medir la frecuencia en este apartado).\n",
        "\n",
        "**6. Importe factura:** importe neto sin el IVA. La naturaleza de la variable es **cuantitativa continua**, ya que corresponde a una variable que puede tomar cualquier valor dentro de un intervalo. A nivel de dataset viene expresada como una variable de tipo **integer** (cuantitativa discreta). Por último a nivel de análisis de datos corresponde a una variable **analítica**. \n",
        "\n",
        "**7. Tipo IVA:** es el tipo de impuesto aplicado (descriptivo). La naturaleza de la variable es cualitativa binaria o dicotómica simétrica, a nivel de dataset viene expresada como una variable de tipo **object** (cualitativa dicotómica simétrica) ya que solo tiene dos posibles categorías y estas no son 1 o 0; y a nivel de análisis de datos corresponde a una variable categórica y analítica (teniendo en cuenta que sólo se puede medir la frecuencia en este apartado).\n",
        "\n",
        "**8. Porcentaje IVA:** es el porcentaje aplicado. La naturaleza de la variable es **cuantitativa continua**, ya que corresponde a una variable que puede tomar cualquier valor dentro de un intervalo. A nivel de dataset viene expresada como una variable de tipo **integer** (cuantitativa discreta).Por último a nivel de análisis de datos corresponde a una variable **analítica**. \n",
        "\n",
        "**9. IVA:** es el valor numérico del porcentaje correspondiente a la factura. La naturaleza de la variable es **cuantitativa continua**, ya que corresponde a una variable que puede tomar cualquier valor dentro de un intervalo. A nivel de dataset viene expresada como una variable de tipo **float** (cuantitativa continua). Por último a nivel de análisis de datos corresponde a una variable **analítica**. \n",
        "\n",
        "**10. Total pagado:** es el importe bruto de la factura (el neto más el importe IVA). La naturaleza de la variable es **cuantitativa continua**, ya que corresponde a una variable que puede tomar cualquier valor dentro de un intervalo. A nivel de dataset viene expresada como una variable de tipo **float** (cuantitativa continua), ya que puede tomar cualquier valor posible dentro de un intervalo. Por último a nivel de análisis de datos corresponde a una variable **analítica**. \n"
      ],
      "metadata": {
        "id": "ojqRruNon6sc"
      }
    },
    {
      "cell_type": "markdown",
      "source": [
        "**Medidas de centralización: media, mediana y moda.**"
      ],
      "metadata": {
        "id": "TF7y3SnLwOlF"
      }
    },
    {
      "cell_type": "code",
      "source": [
        "# Media\n",
        "df['total_pagado'].mean()"
      ],
      "metadata": {
        "colab": {
          "base_uri": "https://localhost:8080/"
        },
        "id": "p1i6PmeAwVP6",
        "outputId": "7cf8ef42-ec3f-4462-9ff8-454e79722c47"
      },
      "execution_count": 5,
      "outputs": [
        {
          "output_type": "execute_result",
          "data": {
            "text/plain": [
              "147.30888888888887"
            ]
          },
          "metadata": {},
          "execution_count": 5
        }
      ]
    },
    {
      "cell_type": "code",
      "source": [
        "# Mediana\n",
        "df['total_pagado'].median()"
      ],
      "metadata": {
        "colab": {
          "base_uri": "https://localhost:8080/"
        },
        "id": "zbcpvNIgwhtE",
        "outputId": "02e391d4-0765-4998-ffb9-0c2175a363fa"
      },
      "execution_count": 6,
      "outputs": [
        {
          "output_type": "execute_result",
          "data": {
            "text/plain": [
              "135.0"
            ]
          },
          "metadata": {},
          "execution_count": 6
        }
      ]
    },
    {
      "cell_type": "code",
      "source": [
        "# Moda\n",
        "df['total_pagado'].mode()"
      ],
      "metadata": {
        "colab": {
          "base_uri": "https://localhost:8080/"
        },
        "id": "MZEbi92bwkbG",
        "outputId": "b5b11500-8bd6-42df-82ea-bf3dea9ce217"
      },
      "execution_count": 7,
      "outputs": [
        {
          "output_type": "execute_result",
          "data": {
            "text/plain": [
              "0    118.0\n",
              "1    236.0\n",
              "dtype: float64"
            ]
          },
          "metadata": {},
          "execution_count": 7
        }
      ]
    },
    {
      "cell_type": "markdown",
      "source": [
        "**Análisis**: a nivel de la variable \"Total pagado\" se puede ver que su media es de 147.3088, esto quiere decir que el total pagado de las 45 facturas es de 147.3088 euros (hay que recordar que este estadístico se ve impactado por los valores extremos, ya sean muy altos o muy bajos).\n",
        "\n",
        "Con respecto a la mediana, obtenemos que es 135.0000 euros, esto quiere decir que del total pagado de las facturas el 50% de ellas son iguales o menores a 135.0 euros.\n",
        "\n",
        "Por último tenemos que la moda, es decir, el valor que más se repite en nuestros datos es 118.0000 y 236.0000 euros, en este caso al ser dos modas podemos decir que es bimodal y son los totales pagados más frecuentes. "
      ],
      "metadata": {
        "id": "RUdKF5IHw3Nq"
      }
    },
    {
      "cell_type": "markdown",
      "source": [
        "**Medidas de dispersión: rango, varianza, desviación típica y coeficiente de variación.**"
      ],
      "metadata": {
        "id": "lVWaiiCn0hlv"
      }
    },
    {
      "cell_type": "code",
      "source": [
        "# Rango\n",
        "df['total_pagado'].max()-df['total_pagado'].min()"
      ],
      "metadata": {
        "colab": {
          "base_uri": "https://localhost:8080/"
        },
        "id": "0vyL9JsjwmOk",
        "outputId": "1a380e19-b3c2-4bce-cf0a-3851bc618b41"
      },
      "execution_count": 8,
      "outputs": [
        {
          "output_type": "execute_result",
          "data": {
            "text/plain": [
              "206.5"
            ]
          },
          "metadata": {},
          "execution_count": 8
        }
      ]
    },
    {
      "cell_type": "code",
      "source": [
        "# Varianza\n",
        "df['total_pagado'].var()"
      ],
      "metadata": {
        "colab": {
          "base_uri": "https://localhost:8080/"
        },
        "id": "9-N70-1c05BX",
        "outputId": "0821b370-38af-4734-f3b6-96a9253500e8"
      },
      "execution_count": 9,
      "outputs": [
        {
          "output_type": "execute_result",
          "data": {
            "text/plain": [
              "3356.5935555555566"
            ]
          },
          "metadata": {},
          "execution_count": 9
        }
      ]
    },
    {
      "cell_type": "code",
      "source": [
        "# Desviación típica\n",
        "import math as mt\n",
        "mt.sqrt(df['total_pagado'].var())"
      ],
      "metadata": {
        "colab": {
          "base_uri": "https://localhost:8080/"
        },
        "id": "A2sAvM3M1CWK",
        "outputId": "2a340387-5248-4b8f-9266-59ada1a44960"
      },
      "execution_count": 10,
      "outputs": [
        {
          "output_type": "execute_result",
          "data": {
            "text/plain": [
              "57.93611615871016"
            ]
          },
          "metadata": {},
          "execution_count": 10
        }
      ]
    },
    {
      "cell_type": "code",
      "source": [
        "# Coeficiente de Variación\n",
        "mt.sqrt(df['total_pagado'].var()) / df['total_pagado'].mean()"
      ],
      "metadata": {
        "colab": {
          "base_uri": "https://localhost:8080/"
        },
        "id": "4AYN3J8S1JSF",
        "outputId": "122759b2-8a89-40ab-ad49-29c125fdcbfb"
      },
      "execution_count": 11,
      "outputs": [
        {
          "output_type": "execute_result",
          "data": {
            "text/plain": [
              "0.39329681050279197"
            ]
          },
          "metadata": {},
          "execution_count": 11
        }
      ]
    },
    {
      "cell_type": "markdown",
      "source": [
        "**Análisis**: en cuanto al rango que se obtiene de restar el valor más alto con el valor más bajo, tenemos que corresponde a 206.5 euros, es decir, tenemos una dispersión total de 206.5000 euros.\n",
        "\n",
        "La varianza obtenida es de 3356.58, esto quiere decir que la variabilidad de los datos con respecto a su media es de 3356.5935 euros. \n",
        "\n",
        "La desviación estándar o típica es de 57.9361 euros, dicho en otras palabras, esto quiere decir que, en media, la diferencia entre el total pagado de las distintas facturas es de 57.9361 euros.\n",
        "\n",
        "Finalmente tenemos que el coeficiente de variación es de 0.3932, como este valor está más cercano al 0, podemos decir que hay poca variabilidad en los datos."
      ],
      "metadata": {
        "id": "PAZULI2T2Wfc"
      }
    },
    {
      "cell_type": "code",
      "source": [
        "# Forma alternativa de encontrar los estadísticos solicitados:\n",
        "df['total_pagado'].describe()"
      ],
      "metadata": {
        "colab": {
          "base_uri": "https://localhost:8080/"
        },
        "id": "KN8cZS2I1vgC",
        "outputId": "bb3a36e1-d1d2-44b5-f495-d5aa0ec56603"
      },
      "execution_count": 12,
      "outputs": [
        {
          "output_type": "execute_result",
          "data": {
            "text/plain": [
              "count     45.000000\n",
              "mean     147.308889\n",
              "std       57.936116\n",
              "min       29.500000\n",
              "25%      108.000000\n",
              "50%      135.000000\n",
              "75%      189.000000\n",
              "max      236.000000\n",
              "Name: total_pagado, dtype: float64"
            ]
          },
          "metadata": {},
          "execution_count": 12
        }
      ]
    },
    {
      "cell_type": "markdown",
      "source": [
        "**Medidas de posición: rango intercuartílico, cuartil primero y decil 3.**"
      ],
      "metadata": {
        "id": "q0f54w7-4wuo"
      }
    },
    {
      "cell_type": "code",
      "source": [
        "# Rango intercuartílico \n",
        "df['total_pagado'].quantile(0.75) - df['total_pagado'].quantile(0.25)"
      ],
      "metadata": {
        "colab": {
          "base_uri": "https://localhost:8080/"
        },
        "id": "Pew8BByQ49Gn",
        "outputId": "c963b2ab-8c1d-4e77-9d76-f85344e04696"
      },
      "execution_count": 13,
      "outputs": [
        {
          "output_type": "execute_result",
          "data": {
            "text/plain": [
              "81.0"
            ]
          },
          "metadata": {},
          "execution_count": 13
        }
      ]
    },
    {
      "cell_type": "code",
      "source": [
        "# Primer cuartil\n",
        "df['total_pagado'].quantile(0.25)"
      ],
      "metadata": {
        "colab": {
          "base_uri": "https://localhost:8080/"
        },
        "id": "PJaCOkZt6KNv",
        "outputId": "5280a17d-df52-4415-ff86-05d55962a72d"
      },
      "execution_count": 14,
      "outputs": [
        {
          "output_type": "execute_result",
          "data": {
            "text/plain": [
              "108.0"
            ]
          },
          "metadata": {},
          "execution_count": 14
        }
      ]
    },
    {
      "cell_type": "code",
      "source": [
        "# Decil 3\n",
        "df['total_pagado'].quantile(0.30)"
      ],
      "metadata": {
        "colab": {
          "base_uri": "https://localhost:8080/"
        },
        "id": "aSuQverS6O7H",
        "outputId": "672c3676-8348-4445-d981-0a16ee802089"
      },
      "execution_count": 15,
      "outputs": [
        {
          "output_type": "execute_result",
          "data": {
            "text/plain": [
              "118.0"
            ]
          },
          "metadata": {},
          "execution_count": 15
        }
      ]
    },
    {
      "cell_type": "markdown",
      "source": [
        "**¿Cuál es la factura que tiene como mínimo el 10% del total pagado de las facturas?**"
      ],
      "metadata": {
        "id": "XwK5Xwgs42gf"
      }
    },
    {
      "cell_type": "code",
      "source": [
        "# Percentil 90\n",
        "\n",
        "p90 = df['total_pagado'].quantile(0.90)\n",
        "print('La factura que tiene como mínimo el 10% del total pagado de las facturas es:', (p90), \"euros\")"
      ],
      "metadata": {
        "colab": {
          "base_uri": "https://localhost:8080/"
        },
        "id": "JiigmAmN6T4T",
        "outputId": "c744f9de-208e-49e7-faa2-3d91121c3784"
      },
      "execution_count": 16,
      "outputs": [
        {
          "output_type": "stream",
          "name": "stdout",
          "text": [
            "La factura que tiene como mínimo el 10% del total pagado de las facturas es: 236.0 euros\n"
          ]
        }
      ]
    },
    {
      "cell_type": "markdown",
      "source": [
        "**Análisis:** en cuanto al rango intercuartílico, que es la diferencia entre el tercer y el primer cuartil es de 81.0000 euros.\n",
        "\n",
        "El primer cuartil (25%) es de 108.0 euros, esto quiere decir que del total pagado de las facturas el 25% de ellas son iguales o menores a 108.0000 euros.\n",
        "\n",
        "Con respecto al decil 3 (30%) es de 118.0000 euros, esto quiere decir que del total pagado de las facturas el 30% de ellas son iguales o menores a 118.0000 euros.\n",
        "\n",
        "Con respecto a la factura que tiene como mínimo el 10% del total pagado de las facturas, es la que tiene 236.0000 euros. "
      ],
      "metadata": {
        "id": "6KFOxGfX7XiZ"
      }
    },
    {
      "cell_type": "markdown",
      "source": [
        "Medidas de concentración y forma: curtosis y asimetría"
      ],
      "metadata": {
        "id": "-Mbmlg6Q86bn"
      }
    },
    {
      "cell_type": "code",
      "source": [
        "# Análisis de la distribución\n",
        "import scipy.stats as ss\n",
        "import warnings\n",
        "warnings.filterwarnings('ignore')\n",
        "\n",
        "print(\"Asimetría: %f\" % df[\"total_pagado\"].skew())\n",
        "print(\"Curtosis:  %f\" % df[\"total_pagado\"].kurt())\n",
        "\n",
        "# Gráfico de la distribución\n",
        "plt.figure(figsize=(20,10))\n",
        "plt.title(\"Distribución de la variable total pagado\")\n",
        "sns.distplot(df[\"total_pagado\"], color = 'darkblue')\n",
        "plt.show();"
      ],
      "metadata": {
        "colab": {
          "base_uri": "https://localhost:8080/",
          "height": 662
        },
        "id": "gNbub_jQ6ywM",
        "outputId": "ec9ec908-adf8-4e7f-acaf-1e53c30e5424"
      },
      "execution_count": 17,
      "outputs": [
        {
          "output_type": "stream",
          "name": "stdout",
          "text": [
            "Asimetría: 0.096442\n",
            "Curtosis:  -0.799096\n"
          ]
        },
        {
          "output_type": "display_data",
          "data": {
            "image/png": "[encoded data removed]",
            "text/plain": [
              "<Figure size 1440x720 with 1 Axes>"
            ]
          },
          "metadata": {
            "needs_background": "light"
          }
        }
      ]
    },
    {
      "cell_type": "markdown",
      "source": [
        "**Análisis**: en cuanto a la asimetría, tenemos una asimetría positiva o a la derecha con 0.0964. \n",
        "\n",
        "En cuanto a la curtosis es de -0.7990, es decir es una curtosis platicúrtica. "
      ],
      "metadata": {
        "id": "87xUHLCo-Bqm"
      }
    },
    {
      "cell_type": "markdown",
      "source": [
        "**Análisis rápido con box-plot y sus medidas**"
      ],
      "metadata": {
        "id": "fu355ulN_BZV"
      }
    },
    {
      "cell_type": "code",
      "source": [
        "# Box-plot de la variable Total Pagado\n",
        "import warnings\n",
        "warnings.filterwarnings(\"ignore\")\n",
        "\n",
        "plt.figure(figsize=(20,10))\n",
        "plt.title(\"Box Plot de la variable total_pagado\")\n",
        "sns.boxplot(df[\"total_pagado\"], notch = True, color = \"lightseagreen\")\n",
        "plt.text(df[\"total_pagado\"].quantile(0.50), 0.00, \"Mediana: %.4f\" % df[\"total_pagado\"].quantile(0.50), fontsize=14)\n",
        "plt.text(df[\"total_pagado\"].quantile(0.25), 0.42, \"Primer Cuartil: %.4f\" % df[\"total_pagado\"].quantile(0.25), fontsize=14)\n",
        "plt.text(df[\"total_pagado\"].quantile(0.75), -0.4, \"Tercer Cuartil: %.4f\" % df[\"total_pagado\"].quantile(0.75), fontsize=14)\n",
        "plt.text(df[\"total_pagado\"].quantile(0.00), 0.00, \"Mínimo: %.4f\" % df[\"total_pagado\"].quantile(0.00), fontsize=14)\n",
        "plt.text(df[\"total_pagado\"].quantile(0.99), 0.00, \"Máximo: %.4f\" % df[\"total_pagado\"].quantile(0.99), fontsize=14)\n",
        "plt.show()"
      ],
      "metadata": {
        "colab": {
          "base_uri": "https://localhost:8080/",
          "height": 627
        },
        "id": "pQEQ6XpA_P58",
        "outputId": "9d1cfbb8-204b-4c54-dd19-b6103da6eab5"
      },
      "execution_count": 29,
      "outputs": [
        {
          "output_type": "display_data",
          "data": {
            "image/png": "[encoded data removed]",
            "text/plain": [
              "<Figure size 1440x720 with 1 Axes>"
            ]
          },
          "metadata": {
            "needs_background": "light"
          }
        }
      ]
    },
    {
      "cell_type": "markdown",
      "source": [
        "**Análisis**: con el presente boxplot se puede ver de forma rápida las principales medidas de posición. En este caso se puede visualizar como el total pagado más pequeño en el lote de datos (mínimo) es de 29.5000, la factura cuyo valor representa el más alto del set de datos (máximo) es de 236.0000, la mediana corresponde a 135.0000 euros, es decir, 50% de las facturas son iguales o inferiores a 135.000 euros,  el primer cuartil corresponde a 108.0000, es decir, 25% de las facturas son iguales o menores a 108.000 euros y finalmente el tercer cuartil corrresponde a 189.0000 euros, esto quiere decir, que el 75% de las facturas son iguales o menores a 189.000 euros. "
      ],
      "metadata": {
        "id": "QAPKYmBkMW3x"
      }
    },
    {
      "cell_type": "markdown",
      "source": [
        "**Analiza los resultados e informa de quién es el cliente que ha pagado más en todas las facturas.**"
      ],
      "metadata": {
        "id": "oW2r1EzqNAGH"
      }
    },
    {
      "cell_type": "code",
      "source": [
        "# Tabla de doble entrada\n",
        "tabla = pd.crosstab(df[\"cliente\"], df[\"factura_pagada\"], values=df[\"total_pagado\"], aggfunc='sum', margins=True) \n",
        "tabla"
      ],
      "metadata": {
        "colab": {
          "base_uri": "https://localhost:8080/",
          "height": 238
        },
        "id": "sO6_A1fHMWTI",
        "outputId": "a4f8f1d5-53eb-4340-81cf-a7af5bc7e1c9"
      },
      "execution_count": 19,
      "outputs": [
        {
          "output_type": "execute_result",
          "data": {
            "text/html": [
              "\n",
              "  <div id=\"df-0e9f52d5-2ca3-4d81-a6f0-14e7dbb138d2\">\n",
              "    <div class=\"colab-df-container\">\n",
              "      <div>\n",
              "<style scoped>\n",
              "    .dataframe tbody tr th:only-of-type {\n",
              "        vertical-align: middle;\n",
              "    }\n",
              "\n",
              "    .dataframe tbody tr th {\n",
              "        vertical-align: top;\n",
              "    }\n",
              "\n",
              "    .dataframe thead th {\n",
              "        text-align: right;\n",
              "    }\n",
              "</style>\n",
              "<table border=\"1\" class=\"dataframe\">\n",
              "  <thead>\n",
              "    <tr style=\"text-align: right;\">\n",
              "      <th>factura_pagada</th>\n",
              "      <th>no</th>\n",
              "      <th>si</th>\n",
              "      <th>All</th>\n",
              "    </tr>\n",
              "    <tr>\n",
              "      <th>cliente</th>\n",
              "      <th></th>\n",
              "      <th></th>\n",
              "      <th></th>\n",
              "    </tr>\n",
              "  </thead>\n",
              "  <tbody>\n",
              "    <tr>\n",
              "      <th>clienteA</th>\n",
              "      <td>565.0</td>\n",
              "      <td>1534.0</td>\n",
              "      <td>2099.0</td>\n",
              "    </tr>\n",
              "    <tr>\n",
              "      <th>clienteB</th>\n",
              "      <td>413.0</td>\n",
              "      <td>924.0</td>\n",
              "      <td>1337.0</td>\n",
              "    </tr>\n",
              "    <tr>\n",
              "      <th>clienteC</th>\n",
              "      <td>570.0</td>\n",
              "      <td>584.5</td>\n",
              "      <td>1154.5</td>\n",
              "    </tr>\n",
              "    <tr>\n",
              "      <th>clienteD</th>\n",
              "      <td>504.4</td>\n",
              "      <td>1534.0</td>\n",
              "      <td>2038.4</td>\n",
              "    </tr>\n",
              "    <tr>\n",
              "      <th>All</th>\n",
              "      <td>2052.4</td>\n",
              "      <td>4576.5</td>\n",
              "      <td>6628.9</td>\n",
              "    </tr>\n",
              "  </tbody>\n",
              "</table>\n",
              "</div>\n",
              "      <button class=\"colab-df-convert\" onclick=\"convertToInteractive('df-0e9f52d5-2ca3-4d81-a6f0-14e7dbb138d2')\"\n",
              "              title=\"Convert this dataframe to an interactive table.\"\n",
              "              style=\"display:none;\">\n",
              "        \n",
              "  <svg xmlns=\"http://www.w3.org/2000/svg\" height=\"24px\"viewBox=\"0 0 24 24\"\n",
              "       width=\"24px\">\n",
              "    <path d=\"M0 0h24v24H0V0z\" fill=\"none\"/>\n",
              "    <path d=\"M18.56 5.44l.94 2.06.94-2.06 2.06-.94-2.06-.94-.94-2.06-.94 2.06-2.06.94zm-11 1L8.5 8.5l.94-2.06 2.06-.94-2.06-.94L8.5 2.5l-.94 2.06-2.06.94zm10 10l.94 2.06.94-2.06 2.06-.94-2.06-.94-.94-2.06-.94 2.06-2.06.94z\"/><path d=\"M17.41 7.96l-1.37-1.37c-.4-.4-.92-.59-1.43-.59-.52 0-1.04.2-1.43.59L10.3 9.45l-7.72 7.72c-.78.78-.78 2.05 0 2.83L4 21.41c.39.39.9.59 1.41.59.51 0 1.02-.2 1.41-.59l7.78-7.78 2.81-2.81c.8-.78.8-2.07 0-2.86zM5.41 20L4 18.59l7.72-7.72 1.47 1.35L5.41 20z\"/>\n",
              "  </svg>\n",
              "      </button>\n",
              "      \n",
              "  <style>\n",
              "    .colab-df-container {\n",
              "      display:flex;\n",
              "      flex-wrap:wrap;\n",
              "      gap: 12px;\n",
              "    }\n",
              "\n",
              "    .colab-df-convert {\n",
              "      background-color: #E8F0FE;\n",
              "      border: none;\n",
              "      border-radius: 50%;\n",
              "      cursor: pointer;\n",
              "      display: none;\n",
              "      fill: #1967D2;\n",
              "      height: 32px;\n",
              "      padding: 0 0 0 0;\n",
              "      width: 32px;\n",
              "    }\n",
              "\n",
              "    .colab-df-convert:hover {\n",
              "      background-color: #E2EBFA;\n",
              "      box-shadow: 0px 1px 2px rgba(60, 64, 67, 0.3), 0px 1px 3px 1px rgba(60, 64, 67, 0.15);\n",
              "      fill: #174EA6;\n",
              "    }\n",
              "\n",
              "    [theme=dark] .colab-df-convert {\n",
              "      background-color: #3B4455;\n",
              "      fill: #D2E3FC;\n",
              "    }\n",
              "\n",
              "    [theme=dark] .colab-df-convert:hover {\n",
              "      background-color: #434B5C;\n",
              "      box-shadow: 0px 1px 3px 1px rgba(0, 0, 0, 0.15);\n",
              "      filter: drop-shadow(0px 1px 2px rgba(0, 0, 0, 0.3));\n",
              "      fill: #FFFFFF;\n",
              "    }\n",
              "  </style>\n",
              "\n",
              "      <script>\n",
              "        const buttonEl =\n",
              "          document.querySelector('#df-0e9f52d5-2ca3-4d81-a6f0-14e7dbb138d2 button.colab-df-convert');\n",
              "        buttonEl.style.display =\n",
              "          google.colab.kernel.accessAllowed ? 'block' : 'none';\n",
              "\n",
              "        async function convertToInteractive(key) {\n",
              "          const element = document.querySelector('#df-0e9f52d5-2ca3-4d81-a6f0-14e7dbb138d2');\n",
              "          const dataTable =\n",
              "            await google.colab.kernel.invokeFunction('convertToInteractive',\n",
              "                                                     [key], {});\n",
              "          if (!dataTable) return;\n",
              "\n",
              "          const docLinkHtml = 'Like what you see? Visit the ' +\n",
              "            '<a target=\"_blank\" href=https://colab.research.google.com/notebooks/data_table.ipynb>data table notebook</a>'\n",
              "            + ' to learn more about interactive tables.';\n",
              "          element.innerHTML = '';\n",
              "          dataTable['output_type'] = 'display_data';\n",
              "          await google.colab.output.renderOutput(dataTable, element);\n",
              "          const docLink = document.createElement('div');\n",
              "          docLink.innerHTML = docLinkHtml;\n",
              "          element.appendChild(docLink);\n",
              "        }\n",
              "      </script>\n",
              "    </div>\n",
              "  </div>\n",
              "  "
            ],
            "text/plain": [
              "factura_pagada      no      si     All\n",
              "cliente                               \n",
              "clienteA         565.0  1534.0  2099.0\n",
              "clienteB         413.0   924.0  1337.0\n",
              "clienteC         570.0   584.5  1154.5\n",
              "clienteD         504.4  1534.0  2038.4\n",
              "All             2052.4  4576.5  6628.9"
            ]
          },
          "metadata": {},
          "execution_count": 19
        }
      ]
    },
    {
      "cell_type": "markdown",
      "source": [
        "**Análisis:** en realidad hay dos clientes que han pagado más en todas las facturas y estos son: cliente A y D, ya que, cada uno ha pagado 1534.00 euros. "
      ],
      "metadata": {
        "id": "20Jzfmwchx-2"
      }
    },
    {
      "cell_type": "markdown",
      "source": [
        "**¿Quién es el cliente que más facturas no ha pagado en el mes de febrero?**"
      ],
      "metadata": {
        "id": "Cmxfh9ICQOKd"
      }
    },
    {
      "cell_type": "code",
      "source": [
        "tabla_2 = pd.crosstab([df[\"cliente\"], df[\"mes\"]], df[\"factura_pagada\"], values=df[\"total_pagado\"], aggfunc='count', margins=True) \n",
        "tabla_2"
      ],
      "metadata": {
        "colab": {
          "base_uri": "https://localhost:8080/",
          "height": 363
        },
        "id": "JgUgJbJvOfqv",
        "outputId": "f242d080-4f56-41d2-ffe8-5836fbd421ab"
      },
      "execution_count": 20,
      "outputs": [
        {
          "output_type": "execute_result",
          "data": {
            "text/html": [
              "\n",
              "  <div id=\"df-f82ee3b4-7f76-4631-9396-c0364ee73972\">\n",
              "    <div class=\"colab-df-container\">\n",
              "      <div>\n",
              "<style scoped>\n",
              "    .dataframe tbody tr th:only-of-type {\n",
              "        vertical-align: middle;\n",
              "    }\n",
              "\n",
              "    .dataframe tbody tr th {\n",
              "        vertical-align: top;\n",
              "    }\n",
              "\n",
              "    .dataframe thead th {\n",
              "        text-align: right;\n",
              "    }\n",
              "</style>\n",
              "<table border=\"1\" class=\"dataframe\">\n",
              "  <thead>\n",
              "    <tr style=\"text-align: right;\">\n",
              "      <th></th>\n",
              "      <th>factura_pagada</th>\n",
              "      <th>no</th>\n",
              "      <th>si</th>\n",
              "      <th>All</th>\n",
              "    </tr>\n",
              "    <tr>\n",
              "      <th>cliente</th>\n",
              "      <th>mes</th>\n",
              "      <th></th>\n",
              "      <th></th>\n",
              "      <th></th>\n",
              "    </tr>\n",
              "  </thead>\n",
              "  <tbody>\n",
              "    <tr>\n",
              "      <th rowspan=\"2\" valign=\"top\">clienteA</th>\n",
              "      <th>Enero</th>\n",
              "      <td>3</td>\n",
              "      <td>7</td>\n",
              "      <td>10</td>\n",
              "    </tr>\n",
              "    <tr>\n",
              "      <th>Febrero</th>\n",
              "      <td>1</td>\n",
              "      <td>3</td>\n",
              "      <td>4</td>\n",
              "    </tr>\n",
              "    <tr>\n",
              "      <th rowspan=\"2\" valign=\"top\">clienteB</th>\n",
              "      <th>Enero</th>\n",
              "      <td>2</td>\n",
              "      <td>6</td>\n",
              "      <td>8</td>\n",
              "    </tr>\n",
              "    <tr>\n",
              "      <th>Febrero</th>\n",
              "      <td>1</td>\n",
              "      <td>2</td>\n",
              "      <td>3</td>\n",
              "    </tr>\n",
              "    <tr>\n",
              "      <th rowspan=\"2\" valign=\"top\">clienteC</th>\n",
              "      <th>Enero</th>\n",
              "      <td>2</td>\n",
              "      <td>4</td>\n",
              "      <td>6</td>\n",
              "    </tr>\n",
              "    <tr>\n",
              "      <th>Febrero</th>\n",
              "      <td>2</td>\n",
              "      <td>1</td>\n",
              "      <td>3</td>\n",
              "    </tr>\n",
              "    <tr>\n",
              "      <th rowspan=\"2\" valign=\"top\">clienteD</th>\n",
              "      <th>Enero</th>\n",
              "      <td>2</td>\n",
              "      <td>5</td>\n",
              "      <td>7</td>\n",
              "    </tr>\n",
              "    <tr>\n",
              "      <th>Febrero</th>\n",
              "      <td>1</td>\n",
              "      <td>3</td>\n",
              "      <td>4</td>\n",
              "    </tr>\n",
              "    <tr>\n",
              "      <th>All</th>\n",
              "      <th></th>\n",
              "      <td>14</td>\n",
              "      <td>31</td>\n",
              "      <td>45</td>\n",
              "    </tr>\n",
              "  </tbody>\n",
              "</table>\n",
              "</div>\n",
              "      <button class=\"colab-df-convert\" onclick=\"convertToInteractive('df-f82ee3b4-7f76-4631-9396-c0364ee73972')\"\n",
              "              title=\"Convert this dataframe to an interactive table.\"\n",
              "              style=\"display:none;\">\n",
              "        \n",
              "  <svg xmlns=\"http://www.w3.org/2000/svg\" height=\"24px\"viewBox=\"0 0 24 24\"\n",
              "       width=\"24px\">\n",
              "    <path d=\"M0 0h24v24H0V0z\" fill=\"none\"/>\n",
              "    <path d=\"M18.56 5.44l.94 2.06.94-2.06 2.06-.94-2.06-.94-.94-2.06-.94 2.06-2.06.94zm-11 1L8.5 8.5l.94-2.06 2.06-.94-2.06-.94L8.5 2.5l-.94 2.06-2.06.94zm10 10l.94 2.06.94-2.06 2.06-.94-2.06-.94-.94-2.06-.94 2.06-2.06.94z\"/><path d=\"M17.41 7.96l-1.37-1.37c-.4-.4-.92-.59-1.43-.59-.52 0-1.04.2-1.43.59L10.3 9.45l-7.72 7.72c-.78.78-.78 2.05 0 2.83L4 21.41c.39.39.9.59 1.41.59.51 0 1.02-.2 1.41-.59l7.78-7.78 2.81-2.81c.8-.78.8-2.07 0-2.86zM5.41 20L4 18.59l7.72-7.72 1.47 1.35L5.41 20z\"/>\n",
              "  </svg>\n",
              "      </button>\n",
              "      \n",
              "  <style>\n",
              "    .colab-df-container {\n",
              "      display:flex;\n",
              "      flex-wrap:wrap;\n",
              "      gap: 12px;\n",
              "    }\n",
              "\n",
              "    .colab-df-convert {\n",
              "      background-color: #E8F0FE;\n",
              "      border: none;\n",
              "      border-radius: 50%;\n",
              "      cursor: pointer;\n",
              "      display: none;\n",
              "      fill: #1967D2;\n",
              "      height: 32px;\n",
              "      padding: 0 0 0 0;\n",
              "      width: 32px;\n",
              "    }\n",
              "\n",
              "    .colab-df-convert:hover {\n",
              "      background-color: #E2EBFA;\n",
              "      box-shadow: 0px 1px 2px rgba(60, 64, 67, 0.3), 0px 1px 3px 1px rgba(60, 64, 67, 0.15);\n",
              "      fill: #174EA6;\n",
              "    }\n",
              "\n",
              "    [theme=dark] .colab-df-convert {\n",
              "      background-color: #3B4455;\n",
              "      fill: #D2E3FC;\n",
              "    }\n",
              "\n",
              "    [theme=dark] .colab-df-convert:hover {\n",
              "      background-color: #434B5C;\n",
              "      box-shadow: 0px 1px 3px 1px rgba(0, 0, 0, 0.15);\n",
              "      filter: drop-shadow(0px 1px 2px rgba(0, 0, 0, 0.3));\n",
              "      fill: #FFFFFF;\n",
              "    }\n",
              "  </style>\n",
              "\n",
              "      <script>\n",
              "        const buttonEl =\n",
              "          document.querySelector('#df-f82ee3b4-7f76-4631-9396-c0364ee73972 button.colab-df-convert');\n",
              "        buttonEl.style.display =\n",
              "          google.colab.kernel.accessAllowed ? 'block' : 'none';\n",
              "\n",
              "        async function convertToInteractive(key) {\n",
              "          const element = document.querySelector('#df-f82ee3b4-7f76-4631-9396-c0364ee73972');\n",
              "          const dataTable =\n",
              "            await google.colab.kernel.invokeFunction('convertToInteractive',\n",
              "                                                     [key], {});\n",
              "          if (!dataTable) return;\n",
              "\n",
              "          const docLinkHtml = 'Like what you see? Visit the ' +\n",
              "            '<a target=\"_blank\" href=https://colab.research.google.com/notebooks/data_table.ipynb>data table notebook</a>'\n",
              "            + ' to learn more about interactive tables.';\n",
              "          element.innerHTML = '';\n",
              "          dataTable['output_type'] = 'display_data';\n",
              "          await google.colab.output.renderOutput(dataTable, element);\n",
              "          const docLink = document.createElement('div');\n",
              "          docLink.innerHTML = docLinkHtml;\n",
              "          element.appendChild(docLink);\n",
              "        }\n",
              "      </script>\n",
              "    </div>\n",
              "  </div>\n",
              "  "
            ],
            "text/plain": [
              "factura_pagada    no  si  All\n",
              "cliente  mes                 \n",
              "clienteA Enero     3   7   10\n",
              "         Febrero   1   3    4\n",
              "clienteB Enero     2   6    8\n",
              "         Febrero   1   2    3\n",
              "clienteC Enero     2   4    6\n",
              "         Febrero   2   1    3\n",
              "clienteD Enero     2   5    7\n",
              "         Febrero   1   3    4\n",
              "All               14  31   45"
            ]
          },
          "metadata": {},
          "execution_count": 20
        }
      ]
    },
    {
      "cell_type": "code",
      "source": [
        "tabla_3 = pd.crosstab([df[\"cliente\"], df[\"mes\"]], df[\"factura_pagada\"], values=df[\"total_pagado\"], aggfunc='sum', margins=True) \n",
        "tabla_3"
      ],
      "metadata": {
        "colab": {
          "base_uri": "https://localhost:8080/",
          "height": 363
        },
        "id": "y-giT_9DiTf6",
        "outputId": "f466dc18-3f38-4245-9b81-261127031ae6"
      },
      "execution_count": 21,
      "outputs": [
        {
          "output_type": "execute_result",
          "data": {
            "text/html": [
              "\n",
              "  <div id=\"df-44a875ad-ce3c-4a44-a254-a2d205098574\">\n",
              "    <div class=\"colab-df-container\">\n",
              "      <div>\n",
              "<style scoped>\n",
              "    .dataframe tbody tr th:only-of-type {\n",
              "        vertical-align: middle;\n",
              "    }\n",
              "\n",
              "    .dataframe tbody tr th {\n",
              "        vertical-align: top;\n",
              "    }\n",
              "\n",
              "    .dataframe thead th {\n",
              "        text-align: right;\n",
              "    }\n",
              "</style>\n",
              "<table border=\"1\" class=\"dataframe\">\n",
              "  <thead>\n",
              "    <tr style=\"text-align: right;\">\n",
              "      <th></th>\n",
              "      <th>factura_pagada</th>\n",
              "      <th>no</th>\n",
              "      <th>si</th>\n",
              "      <th>All</th>\n",
              "    </tr>\n",
              "    <tr>\n",
              "      <th>cliente</th>\n",
              "      <th>mes</th>\n",
              "      <th></th>\n",
              "      <th></th>\n",
              "      <th></th>\n",
              "    </tr>\n",
              "  </thead>\n",
              "  <tbody>\n",
              "    <tr>\n",
              "      <th rowspan=\"2\" valign=\"top\">clienteA</th>\n",
              "      <th>Enero</th>\n",
              "      <td>430.0</td>\n",
              "      <td>1003.0</td>\n",
              "      <td>1433.0</td>\n",
              "    </tr>\n",
              "    <tr>\n",
              "      <th>Febrero</th>\n",
              "      <td>135.0</td>\n",
              "      <td>531.0</td>\n",
              "      <td>666.0</td>\n",
              "    </tr>\n",
              "    <tr>\n",
              "      <th rowspan=\"2\" valign=\"top\">clienteB</th>\n",
              "      <th>Enero</th>\n",
              "      <td>354.0</td>\n",
              "      <td>688.0</td>\n",
              "      <td>1042.0</td>\n",
              "    </tr>\n",
              "    <tr>\n",
              "      <th>Febrero</th>\n",
              "      <td>59.0</td>\n",
              "      <td>236.0</td>\n",
              "      <td>295.0</td>\n",
              "    </tr>\n",
              "    <tr>\n",
              "      <th rowspan=\"2\" valign=\"top\">clienteC</th>\n",
              "      <th>Enero</th>\n",
              "      <td>285.0</td>\n",
              "      <td>555.0</td>\n",
              "      <td>840.0</td>\n",
              "    </tr>\n",
              "    <tr>\n",
              "      <th>Febrero</th>\n",
              "      <td>285.0</td>\n",
              "      <td>29.5</td>\n",
              "      <td>314.5</td>\n",
              "    </tr>\n",
              "    <tr>\n",
              "      <th rowspan=\"2\" valign=\"top\">clienteD</th>\n",
              "      <th>Enero</th>\n",
              "      <td>472.0</td>\n",
              "      <td>1003.0</td>\n",
              "      <td>1475.0</td>\n",
              "    </tr>\n",
              "    <tr>\n",
              "      <th>Febrero</th>\n",
              "      <td>32.4</td>\n",
              "      <td>531.0</td>\n",
              "      <td>563.4</td>\n",
              "    </tr>\n",
              "    <tr>\n",
              "      <th>All</th>\n",
              "      <th></th>\n",
              "      <td>2052.4</td>\n",
              "      <td>4576.5</td>\n",
              "      <td>6628.9</td>\n",
              "    </tr>\n",
              "  </tbody>\n",
              "</table>\n",
              "</div>\n",
              "      <button class=\"colab-df-convert\" onclick=\"convertToInteractive('df-44a875ad-ce3c-4a44-a254-a2d205098574')\"\n",
              "              title=\"Convert this dataframe to an interactive table.\"\n",
              "              style=\"display:none;\">\n",
              "        \n",
              "  <svg xmlns=\"http://www.w3.org/2000/svg\" height=\"24px\"viewBox=\"0 0 24 24\"\n",
              "       width=\"24px\">\n",
              "    <path d=\"M0 0h24v24H0V0z\" fill=\"none\"/>\n",
              "    <path d=\"M18.56 5.44l.94 2.06.94-2.06 2.06-.94-2.06-.94-.94-2.06-.94 2.06-2.06.94zm-11 1L8.5 8.5l.94-2.06 2.06-.94-2.06-.94L8.5 2.5l-.94 2.06-2.06.94zm10 10l.94 2.06.94-2.06 2.06-.94-2.06-.94-.94-2.06-.94 2.06-2.06.94z\"/><path d=\"M17.41 7.96l-1.37-1.37c-.4-.4-.92-.59-1.43-.59-.52 0-1.04.2-1.43.59L10.3 9.45l-7.72 7.72c-.78.78-.78 2.05 0 2.83L4 21.41c.39.39.9.59 1.41.59.51 0 1.02-.2 1.41-.59l7.78-7.78 2.81-2.81c.8-.78.8-2.07 0-2.86zM5.41 20L4 18.59l7.72-7.72 1.47 1.35L5.41 20z\"/>\n",
              "  </svg>\n",
              "      </button>\n",
              "      \n",
              "  <style>\n",
              "    .colab-df-container {\n",
              "      display:flex;\n",
              "      flex-wrap:wrap;\n",
              "      gap: 12px;\n",
              "    }\n",
              "\n",
              "    .colab-df-convert {\n",
              "      background-color: #E8F0FE;\n",
              "      border: none;\n",
              "      border-radius: 50%;\n",
              "      cursor: pointer;\n",
              "      display: none;\n",
              "      fill: #1967D2;\n",
              "      height: 32px;\n",
              "      padding: 0 0 0 0;\n",
              "      width: 32px;\n",
              "    }\n",
              "\n",
              "    .colab-df-convert:hover {\n",
              "      background-color: #E2EBFA;\n",
              "      box-shadow: 0px 1px 2px rgba(60, 64, 67, 0.3), 0px 1px 3px 1px rgba(60, 64, 67, 0.15);\n",
              "      fill: #174EA6;\n",
              "    }\n",
              "\n",
              "    [theme=dark] .colab-df-convert {\n",
              "      background-color: #3B4455;\n",
              "      fill: #D2E3FC;\n",
              "    }\n",
              "\n",
              "    [theme=dark] .colab-df-convert:hover {\n",
              "      background-color: #434B5C;\n",
              "      box-shadow: 0px 1px 3px 1px rgba(0, 0, 0, 0.15);\n",
              "      filter: drop-shadow(0px 1px 2px rgba(0, 0, 0, 0.3));\n",
              "      fill: #FFFFFF;\n",
              "    }\n",
              "  </style>\n",
              "\n",
              "      <script>\n",
              "        const buttonEl =\n",
              "          document.querySelector('#df-44a875ad-ce3c-4a44-a254-a2d205098574 button.colab-df-convert');\n",
              "        buttonEl.style.display =\n",
              "          google.colab.kernel.accessAllowed ? 'block' : 'none';\n",
              "\n",
              "        async function convertToInteractive(key) {\n",
              "          const element = document.querySelector('#df-44a875ad-ce3c-4a44-a254-a2d205098574');\n",
              "          const dataTable =\n",
              "            await google.colab.kernel.invokeFunction('convertToInteractive',\n",
              "                                                     [key], {});\n",
              "          if (!dataTable) return;\n",
              "\n",
              "          const docLinkHtml = 'Like what you see? Visit the ' +\n",
              "            '<a target=\"_blank\" href=https://colab.research.google.com/notebooks/data_table.ipynb>data table notebook</a>'\n",
              "            + ' to learn more about interactive tables.';\n",
              "          element.innerHTML = '';\n",
              "          dataTable['output_type'] = 'display_data';\n",
              "          await google.colab.output.renderOutput(dataTable, element);\n",
              "          const docLink = document.createElement('div');\n",
              "          docLink.innerHTML = docLinkHtml;\n",
              "          element.appendChild(docLink);\n",
              "        }\n",
              "      </script>\n",
              "    </div>\n",
              "  </div>\n",
              "  "
            ],
            "text/plain": [
              "factura_pagada        no      si     All\n",
              "cliente  mes                            \n",
              "clienteA Enero     430.0  1003.0  1433.0\n",
              "         Febrero   135.0   531.0   666.0\n",
              "clienteB Enero     354.0   688.0  1042.0\n",
              "         Febrero    59.0   236.0   295.0\n",
              "clienteC Enero     285.0   555.0   840.0\n",
              "         Febrero   285.0    29.5   314.5\n",
              "clienteD Enero     472.0  1003.0  1475.0\n",
              "         Febrero    32.4   531.0   563.4\n",
              "All               2052.4  4576.5  6628.9"
            ]
          },
          "metadata": {},
          "execution_count": 21
        }
      ]
    },
    {
      "cell_type": "markdown",
      "source": [
        "**Análisis:** en cuanto al cliente que más facturas no ha pagado en el mes de febrero, corresponde al cliente C, con un total de 2 facturas no pagadas y cuyo monto asciende a los 285.0 euros."
      ],
      "metadata": {
        "id": "XOzyfguQiYPY"
      }
    },
    {
      "cell_type": "markdown",
      "source": [
        "**Crea un gráfico que represente el total pagado de las facturas respecto del IVA aplicado.**"
      ],
      "metadata": {
        "id": "jnA0JfT0RYAY"
      }
    },
    {
      "cell_type": "code",
      "source": [
        "# Definiendo los ejes\n",
        "import warnings\n",
        "warnings.filterwarnings(\"ignore\")\n",
        "fig, ax = plt.subplots(figsize=(16,10), dpi= 80)    \n",
        "sns.stripplot(df['IVA'], df['total_pagado'], jitter=0.25, size=8, ax=ax, linewidth=.5)\n",
        "\n",
        "# Decoraciones\n",
        "plt.title(\"Dispersión del IVA aplicado y el total pagado de las facturas\", fontsize=15)\n",
        "plt.xlabel(\"IVA Aplicado\") \n",
        "plt.ylabel(\"Total pagado de las facturas\")\n",
        "plt.show()"
      ],
      "metadata": {
        "id": "2plSD1WwRxw1",
        "colab": {
          "base_uri": "https://localhost:8080/",
          "height": 699
        },
        "outputId": "84a6a9e3-aa65-44c2-f0e6-3df4dd0a7ab4"
      },
      "execution_count": 28,
      "outputs": [
        {
          "output_type": "display_data",
          "data": {
            "image/png": "[encoded data removed]",
            "text/plain": [
              "<Figure size 1280x800 with 1 Axes>"
            ]
          },
          "metadata": {
            "needs_background": "light"
          }
        }
      ]
    },
    {
      "cell_type": "code",
      "source": [
        "print(df[['IVA', 'total_pagado', 'porcentaje_IVA']])"
      ],
      "metadata": {
        "colab": {
          "base_uri": "https://localhost:8080/"
        },
        "id": "Kym0CSIy_t97",
        "outputId": "e0b63e40-ed7c-4711-c363-f51bff73e19d"
      },
      "execution_count": 38,
      "outputs": [
        {
          "output_type": "stream",
          "name": "stdout",
          "text": [
            "     IVA  total_pagado  porcentaje_IVA\n",
            "0   18.0         118.0              18\n",
            "1   27.0         177.0              18\n",
            "2   13.5          88.5              18\n",
            "3   36.0         236.0              18\n",
            "4   22.5         147.5              18\n",
            "5    8.0         108.0               8\n",
            "6   14.0         189.0               8\n",
            "7   36.0         236.0              18\n",
            "8   18.0         118.0              18\n",
            "9   18.0         118.0              18\n",
            "10  27.0         177.0              18\n",
            "11  13.5          88.5              18\n",
            "12  36.0         236.0              18\n",
            "13  22.5         147.5              18\n",
            "14   8.0         108.0               8\n",
            "15  31.5         206.5              18\n",
            "16  18.0         118.0              18\n",
            "17  27.0         177.0              18\n",
            "18  13.5          88.5              18\n",
            "19  36.0         236.0              18\n",
            "20  10.0         135.0               8\n",
            "21  18.0         118.0              18\n",
            "22  27.0         177.0              18\n",
            "23  13.5          88.5              18\n",
            "24  36.0         236.0              18\n",
            "25  22.5         147.5              18\n",
            "26   8.0         108.0               8\n",
            "27  14.0         189.0               8\n",
            "28  36.0         236.0              18\n",
            "29  18.0         118.0              18\n",
            "30  18.0         118.0              18\n",
            "31  27.0         177.0              18\n",
            "32  13.5          88.5              18\n",
            "33  36.0         236.0              18\n",
            "34  22.5         147.5              18\n",
            "35   8.0         108.0               8\n",
            "36  31.5         206.5              18\n",
            "37  18.0         118.0              18\n",
            "38  27.0         177.0              18\n",
            "39  13.5          88.5              18\n",
            "40  36.0         236.0              18\n",
            "41  10.0         135.0               8\n",
            "42   9.0          59.0              18\n",
            "43   4.5          29.5              18\n",
            "44   2.4          32.4               8\n"
          ]
        }
      ]
    },
    {
      "cell_type": "markdown",
      "source": [
        "**Análisis:** en el gráfico de dispersión se puede observar como por lo ***general*** entre más alta es la factura más el cliente tiene que pagar de IVA, en este caso se puede observar que un cliente que debe una factura por 32.4 euros, tiene que pagar 2.4 euros de IVA, mientras que una persona que tiene que pagar una factura por 236 euros debe pagar 36 euros de IVA y así se puede ver con la mayoría de puntos en el gráfico.\n",
        "\n",
        "Con algunos, -como la factura que hay de 135 euros-, solo hay que pagar 10 euros, mientras que con la factura que hay por 88.5 euros hay que pagar 13.5 euros, esto se explica porque algunas facturas tienen un porcentaje de IVA de 8% (reducido) mientras que otras de un 18% (normal), ya que algunos productos cuando son de canasta básica pagarán un IVA reducido, mientras que otros que no lo son pagarán más, y esto se corrobora viendo el gráfico ya que se ven dos líneas, una más baja y otras más alta, pero como podemos ver ambas líneas crecen, es decir, ambas variables poseen una dependencia funcional y además, una relación lineal. \n",
        "* Dichos valores exactos se corroboraron con la tabla de arriba."
      ],
      "metadata": {
        "id": "sTIRfPSDitzs"
      }
    },
    {
      "cell_type": "markdown",
      "source": [
        "**Determina el valor de la covarianza de ambas variables.**\n"
      ],
      "metadata": {
        "id": "mP74YeuQelrl"
      }
    },
    {
      "cell_type": "code",
      "source": [
        "a = df['IVA']\n",
        "b = df['total_pagado']\n",
        "\n",
        "covarianza_2 = np.cov(a, b, ddof=0)[0][1]\n",
        "covarianza_2"
      ],
      "metadata": {
        "colab": {
          "base_uri": "https://localhost:8080/"
        },
        "id": "T3-_PewcYlRn",
        "outputId": "9444bfda-4eb0-4b71-c370-9f1726c82869"
      },
      "execution_count": 39,
      "outputs": [
        {
          "output_type": "execute_result",
          "data": {
            "text/plain": [
              "515.0628345679012"
            ]
          },
          "metadata": {},
          "execution_count": 39
        }
      ]
    },
    {
      "cell_type": "markdown",
      "source": [
        "**Análisis:** Viendo los valores observamos  que estos no están estandarizados (como sí sucede con la correlación), por consiguiente, la covarianza puede ir desde infinito negativo hasta infinito positivo, de ahí que el valor de la covarianza para ambas variables es de 515.0628 (covarianza poblacional).  \n",
        "\n",
        "Por último podemos decir que las variables IVA y Total Pagado varían en el mismo sentido (ya que 𝜇𝑥𝑦 > 0). Las dos variables crecen o decrecen a la vez (nube de puntos creciente). Por ejemplo, entre más elevada es una factura mayor será el IVA a pagar (en la mayoría de los casos). "
      ],
      "metadata": {
        "id": "O428wXQPnHUC"
      }
    }
  ]
}