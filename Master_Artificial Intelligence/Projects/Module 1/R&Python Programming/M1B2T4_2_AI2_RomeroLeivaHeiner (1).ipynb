{
  "cells": [
    {
      "cell_type": "markdown",
      "metadata": {
        "id": "tW3jK_BDgjno"
      },
      "source": [
        "# **Herramientas de Análisis**\n",
        "\n",
        "---\n",
        "---\n",
        "\n",
        "<!-- script html for image -->\n",
        "\n",
        "<center>\n",
        "\n",
        "\n",
        "<img src=\"https://upload.wikimedia.org/wikipedia/commons/thumb/a/ac/Sw-ep1-logo.svg/1280px-Sw-ep1-logo.svg.png\"  width=\"500\" height=\"150\"/>\n",
        "\n",
        "\n",
        "<br>\n",
        "\n",
        "Fuente de la imagen: [https://es.wikipedia.org](https://es.wikipedia.org/wiki/Star_Wars:_Episodio_I_-_La_amenaza_fantasma)\n",
        "\n",
        "</center>\n",
        "\n",
        "<br>"
      ]
    },
    {
      "cell_type": "markdown",
      "metadata": {
        "id": "CLuiMPEMSvF6"
      },
      "source": [
        "# **Índice**\n",
        "\n",
        "---\n",
        "---\n",
        "\n",
        "> [Herramientas de Análisis](#scrollTo=tW3jK_BDgjno&line=20&uniqifier=1)\n",
        "<br>\n",
        ">>\n",
        ">> [Preparación del Entorno](#scrollTo=5zZfGqOugjnr&line=3&uniqifier=1) \\\\\n",
        ">>   \\\\\n",
        ">> [Ejercicio 2](#scrollTo=EljLebnxgjqM) \\\\"
      ]
    },
    {
      "cell_type": "markdown",
      "metadata": {
        "id": "5zZfGqOugjnr"
      },
      "source": [
        "# Preparación del entorno\n",
        "\n",
        "Padawan! Cuando inicies sesión en Colab, prepara el entorno ejecutando el siguiente código."
      ]
    },
    {
      "cell_type": "code",
      "execution_count": 1,
      "metadata": {
        "id": "JiKiPQdQgjnu",
        "colab": {
          "base_uri": "https://localhost:8080/"
        },
        "outputId": "934c0cf2-1de8-4990-af13-5646ddabbecd"
      },
      "outputs": [
        {
          "output_type": "stream",
          "name": "stdout",
          "text": [
            "fatal: destination path '/content/mbdds_fc20' already exists and is not an empty directory.\n",
            "Already up to date.\n",
            "/content/mbdds_fc20/Python\n",
            "Requirement already satisfied: pandas==1.1.5 in /usr/local/lib/python3.7/dist-packages (from -r requirementsColab.txt (line 1)) (1.1.5)\n",
            "Requirement already satisfied: matplotlib==3.2.2 in /usr/local/lib/python3.7/dist-packages (from -r requirementsColab.txt (line 2)) (3.2.2)\n",
            "Requirement already satisfied: numpy==1.19.5 in /usr/local/lib/python3.7/dist-packages (from -r requirementsColab.txt (line 3)) (1.19.5)\n",
            "Requirement already satisfied: ipython==5.5.0 in /usr/local/lib/python3.7/dist-packages (from -r requirementsColab.txt (line 4)) (5.5.0)\n",
            "Requirement already satisfied: seaborn==0.11.2 in /usr/local/lib/python3.7/dist-packages (from -r requirementsColab.txt (line 5)) (0.11.2)\n",
            "Requirement already satisfied: beautifulsoup4==4.6.3 in /usr/local/lib/python3.7/dist-packages (from -r requirementsColab.txt (line 6)) (4.6.3)\n",
            "Requirement already satisfied: eurostat==0.2.1 in /usr/local/lib/python3.7/dist-packages (from -r requirementsColab.txt (line 7)) (0.2.1)\n",
            "Requirement already satisfied: world-bank-data==0.1.3 in /usr/local/lib/python3.7/dist-packages (from -r requirementsColab.txt (line 8)) (0.1.3)\n",
            "Requirement already satisfied: apiclient==1.0.4 in /usr/local/lib/python3.7/dist-packages (from -r requirementsColab.txt (line 9)) (1.0.4)\n",
            "Requirement already satisfied: oauth2client==4.1.3 in /usr/local/lib/python3.7/dist-packages (from -r requirementsColab.txt (line 10)) (4.1.3)\n",
            "Requirement already satisfied: pymongo==3.11.0 in /usr/local/lib/python3.7/dist-packages (from -r requirementsColab.txt (line 11)) (3.11.0)\n",
            "Requirement already satisfied: tweepy==3.6.0 in /usr/local/lib/python3.7/dist-packages (from -r requirementsColab.txt (line 12)) (3.6.0)\n",
            "Requirement already satisfied: facebook-business==9.0.3 in /usr/local/lib/python3.7/dist-packages (from -r requirementsColab.txt (line 13)) (9.0.3)\n",
            "Requirement already satisfied: lxml==4.2.6 in /usr/local/lib/python3.7/dist-packages (from -r requirementsColab.txt (line 14)) (4.2.6)\n",
            "Requirement already satisfied: bs4==0.0.1 in /usr/local/lib/python3.7/dist-packages (from -r requirementsColab.txt (line 15)) (0.0.1)\n",
            "Requirement already satisfied: selenium==3.141.0 in /usr/local/lib/python3.7/dist-packages (from -r requirementsColab.txt (line 16)) (3.141.0)\n",
            "Requirement already satisfied: httplib2==0.19.0 in /usr/local/lib/python3.7/dist-packages (from -r requirementsColab.txt (line 17)) (0.19.0)\n",
            "Requirement already satisfied: hootsweet==0.7.1 in /usr/local/lib/python3.7/dist-packages (from -r requirementsColab.txt (line 18)) (0.7.1)\n",
            "Requirement already satisfied: ipykernel==4.10.1 in /usr/local/lib/python3.7/dist-packages (from -r requirementsColab.txt (line 19)) (4.10.1)\n",
            "Requirement already satisfied: jupyter==1.0.0 in /usr/local/lib/python3.7/dist-packages (from -r requirementsColab.txt (line 20)) (1.0.0)\n",
            "Requirement already satisfied: jupyter-nbextensions-configurator==0.4.1 in /usr/local/lib/python3.7/dist-packages (from -r requirementsColab.txt (line 21)) (0.4.1)\n",
            "Requirement already satisfied: jupytext==1.6.0 in /usr/local/lib/python3.7/dist-packages (from -r requirementsColab.txt (line 22)) (1.6.0)\n",
            "Requirement already satisfied: nbconvert==5.6.1 in /usr/local/lib/python3.7/dist-packages (from -r requirementsColab.txt (line 23)) (5.6.1)\n",
            "Requirement already satisfied: folium==0.2.1 in /usr/local/lib/python3.7/dist-packages (from -r requirementsColab.txt (line 24)) (0.2.1)\n",
            "Requirement already satisfied: imgaug==0.2.5 in /usr/local/lib/python3.7/dist-packages (from -r requirementsColab.txt (line 25)) (0.2.5)\n",
            "Requirement already satisfied: python-dateutil>=2.7.3 in /usr/local/lib/python3.7/dist-packages (from pandas==1.1.5->-r requirementsColab.txt (line 1)) (2.8.2)\n",
            "Requirement already satisfied: pytz>=2017.2 in /usr/local/lib/python3.7/dist-packages (from pandas==1.1.5->-r requirementsColab.txt (line 1)) (2019.3)\n",
            "Requirement already satisfied: pyparsing!=2.0.4,!=2.1.2,!=2.1.6,>=2.0.1 in /usr/local/lib/python3.7/dist-packages (from matplotlib==3.2.2->-r requirementsColab.txt (line 2)) (2.4.7)\n",
            "Requirement already satisfied: kiwisolver>=1.0.1 in /usr/local/lib/python3.7/dist-packages (from matplotlib==3.2.2->-r requirementsColab.txt (line 2)) (1.3.2)\n",
            "Requirement already satisfied: cycler>=0.10 in /usr/local/lib/python3.7/dist-packages (from matplotlib==3.2.2->-r requirementsColab.txt (line 2)) (0.11.0)\n",
            "Requirement already satisfied: decorator in /usr/local/lib/python3.7/dist-packages (from ipython==5.5.0->-r requirementsColab.txt (line 4)) (4.4.2)\n",
            "Requirement already satisfied: setuptools>=18.5 in /usr/local/lib/python3.7/dist-packages (from ipython==5.5.0->-r requirementsColab.txt (line 4)) (57.4.0)\n",
            "Requirement already satisfied: pickleshare in /usr/local/lib/python3.7/dist-packages (from ipython==5.5.0->-r requirementsColab.txt (line 4)) (0.7.5)\n",
            "Requirement already satisfied: prompt-toolkit<2.0.0,>=1.0.4 in /usr/local/lib/python3.7/dist-packages (from ipython==5.5.0->-r requirementsColab.txt (line 4)) (1.0.18)\n",
            "Requirement already satisfied: simplegeneric>0.8 in /usr/local/lib/python3.7/dist-packages (from ipython==5.5.0->-r requirementsColab.txt (line 4)) (0.8.1)\n",
            "Requirement already satisfied: pexpect in /usr/local/lib/python3.7/dist-packages (from ipython==5.5.0->-r requirementsColab.txt (line 4)) (4.8.0)\n",
            "Requirement already satisfied: traitlets>=4.2 in /usr/local/lib/python3.7/dist-packages (from ipython==5.5.0->-r requirementsColab.txt (line 4)) (5.1.1)\n",
            "Requirement already satisfied: pygments in /usr/local/lib/python3.7/dist-packages (from ipython==5.5.0->-r requirementsColab.txt (line 4)) (2.6.1)\n",
            "Requirement already satisfied: scipy>=1.0 in /usr/local/lib/python3.7/dist-packages (from seaborn==0.11.2->-r requirementsColab.txt (line 5)) (1.4.1)\n",
            "Requirement already satisfied: pandasdmx<=0.9 in /usr/local/lib/python3.7/dist-packages (from eurostat==0.2.1->-r requirementsColab.txt (line 7)) (0.9)\n",
            "Requirement already satisfied: requests in /usr/local/lib/python3.7/dist-packages (from eurostat==0.2.1->-r requirementsColab.txt (line 7)) (2.23.0)\n",
            "Requirement already satisfied: cachetools in /usr/local/lib/python3.7/dist-packages (from world-bank-data==0.1.3->-r requirementsColab.txt (line 8)) (4.2.4)\n",
            "Requirement already satisfied: certifi in /usr/local/lib/python3.7/dist-packages (from apiclient==1.0.4->-r requirementsColab.txt (line 9)) (2021.10.8)\n",
            "Requirement already satisfied: urllib3 in /usr/local/lib/python3.7/dist-packages (from apiclient==1.0.4->-r requirementsColab.txt (line 9)) (1.24.3)\n",
            "Requirement already satisfied: pyasn1>=0.1.7 in /usr/local/lib/python3.7/dist-packages (from oauth2client==4.1.3->-r requirementsColab.txt (line 10)) (0.4.8)\n",
            "Requirement already satisfied: six>=1.6.1 in /usr/local/lib/python3.7/dist-packages (from oauth2client==4.1.3->-r requirementsColab.txt (line 10)) (1.15.0)\n",
            "Requirement already satisfied: rsa>=3.1.4 in /usr/local/lib/python3.7/dist-packages (from oauth2client==4.1.3->-r requirementsColab.txt (line 10)) (4.8)\n",
            "Requirement already satisfied: pyasn1-modules>=0.0.5 in /usr/local/lib/python3.7/dist-packages (from oauth2client==4.1.3->-r requirementsColab.txt (line 10)) (0.2.8)\n",
            "Requirement already satisfied: requests-oauthlib>=0.7.0 in /usr/local/lib/python3.7/dist-packages (from tweepy==3.6.0->-r requirementsColab.txt (line 12)) (1.3.0)\n",
            "Requirement already satisfied: PySocks>=1.5.7 in /usr/local/lib/python3.7/dist-packages (from tweepy==3.6.0->-r requirementsColab.txt (line 12)) (1.7.1)\n",
            "Requirement already satisfied: aiohttp in /usr/local/lib/python3.7/dist-packages (from facebook-business==9.0.3->-r requirementsColab.txt (line 13)) (3.8.1)\n",
            "Requirement already satisfied: curlify>=2.1.0 in /usr/local/lib/python3.7/dist-packages (from facebook-business==9.0.3->-r requirementsColab.txt (line 13)) (2.2.1)\n",
            "Requirement already satisfied: pycountry>=19.8.18 in /usr/local/lib/python3.7/dist-packages (from facebook-business==9.0.3->-r requirementsColab.txt (line 13)) (22.1.10)\n",
            "Requirement already satisfied: cherrypy<19.0.0,>=18.5.0 in /usr/local/lib/python3.7/dist-packages (from hootsweet==0.7.1->-r requirementsColab.txt (line 18)) (18.6.1)\n",
            "Requirement already satisfied: jupyter-client in /usr/local/lib/python3.7/dist-packages (from ipykernel==4.10.1->-r requirementsColab.txt (line 19)) (5.3.5)\n",
            "Requirement already satisfied: tornado>=4.0 in /usr/local/lib/python3.7/dist-packages (from ipykernel==4.10.1->-r requirementsColab.txt (line 19)) (5.1.1)\n",
            "Requirement already satisfied: jupyter-console in /usr/local/lib/python3.7/dist-packages (from jupyter==1.0.0->-r requirementsColab.txt (line 20)) (5.2.0)\n",
            "Requirement already satisfied: notebook in /usr/local/lib/python3.7/dist-packages (from jupyter==1.0.0->-r requirementsColab.txt (line 20)) (5.3.1)\n",
            "Requirement already satisfied: qtconsole in /usr/local/lib/python3.7/dist-packages (from jupyter==1.0.0->-r requirementsColab.txt (line 20)) (5.2.2)\n",
            "Requirement already satisfied: ipywidgets in /usr/local/lib/python3.7/dist-packages (from jupyter==1.0.0->-r requirementsColab.txt (line 20)) (7.6.5)\n",
            "Requirement already satisfied: jupyter-contrib-core>=0.3.3 in /usr/local/lib/python3.7/dist-packages (from jupyter-nbextensions-configurator==0.4.1->-r requirementsColab.txt (line 21)) (0.3.3)\n",
            "Requirement already satisfied: pyyaml in /usr/local/lib/python3.7/dist-packages (from jupyter-nbextensions-configurator==0.4.1->-r requirementsColab.txt (line 21)) (3.13)\n",
            "Requirement already satisfied: jupyter-core in /usr/local/lib/python3.7/dist-packages (from jupyter-nbextensions-configurator==0.4.1->-r requirementsColab.txt (line 21)) (4.9.1)\n",
            "Requirement already satisfied: nbformat>=4.0.0 in /usr/local/lib/python3.7/dist-packages (from jupytext==1.6.0->-r requirementsColab.txt (line 22)) (5.1.3)\n",
            "Requirement already satisfied: markdown-it-py~=0.5.2 in /usr/local/lib/python3.7/dist-packages (from jupytext==1.6.0->-r requirementsColab.txt (line 22)) (0.5.8)\n",
            "Requirement already satisfied: toml in /usr/local/lib/python3.7/dist-packages (from jupytext==1.6.0->-r requirementsColab.txt (line 22)) (0.10.2)\n",
            "Requirement already satisfied: mistune<2,>=0.8.1 in /usr/local/lib/python3.7/dist-packages (from nbconvert==5.6.1->-r requirementsColab.txt (line 23)) (0.8.4)\n",
            "Requirement already satisfied: pandocfilters>=1.4.1 in /usr/local/lib/python3.7/dist-packages (from nbconvert==5.6.1->-r requirementsColab.txt (line 23)) (1.5.0)\n",
            "Requirement already satisfied: defusedxml in /usr/local/lib/python3.7/dist-packages (from nbconvert==5.6.1->-r requirementsColab.txt (line 23)) (0.7.1)\n",
            "Requirement already satisfied: bleach in /usr/local/lib/python3.7/dist-packages (from nbconvert==5.6.1->-r requirementsColab.txt (line 23)) (4.1.0)\n",
            "Requirement already satisfied: entrypoints>=0.2.2 in /usr/local/lib/python3.7/dist-packages (from nbconvert==5.6.1->-r requirementsColab.txt (line 23)) (0.3)\n",
            "Requirement already satisfied: jinja2>=2.4 in /usr/local/lib/python3.7/dist-packages (from nbconvert==5.6.1->-r requirementsColab.txt (line 23)) (2.11.3)\n",
            "Requirement already satisfied: testpath in /usr/local/lib/python3.7/dist-packages (from nbconvert==5.6.1->-r requirementsColab.txt (line 23)) (0.5.0)\n",
            "Requirement already satisfied: scikit-image>=0.11.0 in /usr/local/lib/python3.7/dist-packages (from imgaug==0.2.5->-r requirementsColab.txt (line 25)) (0.18.3)\n",
            "Requirement already satisfied: more-itertools in /usr/local/lib/python3.7/dist-packages (from cherrypy<19.0.0,>=18.5.0->hootsweet==0.7.1->-r requirementsColab.txt (line 18)) (8.12.0)\n",
            "Requirement already satisfied: jaraco.collections in /usr/local/lib/python3.7/dist-packages (from cherrypy<19.0.0,>=18.5.0->hootsweet==0.7.1->-r requirementsColab.txt (line 18)) (3.5.1)\n",
            "Requirement already satisfied: cheroot>=8.2.1 in /usr/local/lib/python3.7/dist-packages (from cherrypy<19.0.0,>=18.5.0->hootsweet==0.7.1->-r requirementsColab.txt (line 18)) (8.6.0)\n",
            "Requirement already satisfied: portend>=2.1.1 in /usr/local/lib/python3.7/dist-packages (from cherrypy<19.0.0,>=18.5.0->hootsweet==0.7.1->-r requirementsColab.txt (line 18)) (3.1.0)\n",
            "Requirement already satisfied: zc.lockfile in /usr/local/lib/python3.7/dist-packages (from cherrypy<19.0.0,>=18.5.0->hootsweet==0.7.1->-r requirementsColab.txt (line 18)) (2.0)\n",
            "Requirement already satisfied: jaraco.functools in /usr/local/lib/python3.7/dist-packages (from cheroot>=8.2.1->cherrypy<19.0.0,>=18.5.0->hootsweet==0.7.1->-r requirementsColab.txt (line 18)) (3.5.0)\n",
            "Requirement already satisfied: MarkupSafe>=0.23 in /usr/local/lib/python3.7/dist-packages (from jinja2>=2.4->nbconvert==5.6.1->-r requirementsColab.txt (line 23)) (2.0.1)\n",
            "Requirement already satisfied: attrs<21,>=19 in /usr/local/lib/python3.7/dist-packages (from markdown-it-py~=0.5.2->jupytext==1.6.0->-r requirementsColab.txt (line 22)) (20.3.0)\n",
            "Requirement already satisfied: ipython-genutils in /usr/local/lib/python3.7/dist-packages (from nbformat>=4.0.0->jupytext==1.6.0->-r requirementsColab.txt (line 22)) (0.2.0)\n",
            "Requirement already satisfied: jsonschema!=2.5.0,>=2.4 in /usr/local/lib/python3.7/dist-packages (from nbformat>=4.0.0->jupytext==1.6.0->-r requirementsColab.txt (line 22)) (4.3.3)\n",
            "Requirement already satisfied: typing-extensions in /usr/local/lib/python3.7/dist-packages (from jsonschema!=2.5.0,>=2.4->nbformat>=4.0.0->jupytext==1.6.0->-r requirementsColab.txt (line 22)) (3.10.0.2)\n",
            "Requirement already satisfied: pyrsistent!=0.17.0,!=0.17.1,!=0.17.2,>=0.14.0 in /usr/local/lib/python3.7/dist-packages (from jsonschema!=2.5.0,>=2.4->nbformat>=4.0.0->jupytext==1.6.0->-r requirementsColab.txt (line 22)) (0.18.0)\n",
            "Requirement already satisfied: importlib-resources>=1.4.0 in /usr/local/lib/python3.7/dist-packages (from jsonschema!=2.5.0,>=2.4->nbformat>=4.0.0->jupytext==1.6.0->-r requirementsColab.txt (line 22)) (5.4.0)\n",
            "Requirement already satisfied: importlib-metadata in /usr/local/lib/python3.7/dist-packages (from jsonschema!=2.5.0,>=2.4->nbformat>=4.0.0->jupytext==1.6.0->-r requirementsColab.txt (line 22)) (4.10.0)\n",
            "Requirement already satisfied: zipp>=3.1.0 in /usr/local/lib/python3.7/dist-packages (from importlib-resources>=1.4.0->jsonschema!=2.5.0,>=2.4->nbformat>=4.0.0->jupytext==1.6.0->-r requirementsColab.txt (line 22)) (3.7.0)\n",
            "Requirement already satisfied: Send2Trash in /usr/local/lib/python3.7/dist-packages (from notebook->jupyter==1.0.0->-r requirementsColab.txt (line 20)) (1.8.0)\n",
            "Requirement already satisfied: terminado>=0.8.1 in /usr/local/lib/python3.7/dist-packages (from notebook->jupyter==1.0.0->-r requirementsColab.txt (line 20)) (0.12.1)\n",
            "Requirement already satisfied: pyzmq>=13 in /usr/local/lib/python3.7/dist-packages (from jupyter-client->ipykernel==4.10.1->-r requirementsColab.txt (line 19)) (22.3.0)\n",
            "Requirement already satisfied: jsonpath-rw in /usr/local/lib/python3.7/dist-packages (from pandasdmx<=0.9->eurostat==0.2.1->-r requirementsColab.txt (line 7)) (1.4.0)\n",
            "Requirement already satisfied: tempora>=1.8 in /usr/local/lib/python3.7/dist-packages (from portend>=2.1.1->cherrypy<19.0.0,>=18.5.0->hootsweet==0.7.1->-r requirementsColab.txt (line 18)) (5.0.0)\n",
            "Requirement already satisfied: wcwidth in /usr/local/lib/python3.7/dist-packages (from prompt-toolkit<2.0.0,>=1.0.4->ipython==5.5.0->-r requirementsColab.txt (line 4)) (0.2.5)\n",
            "Requirement already satisfied: chardet<4,>=3.0.2 in /usr/local/lib/python3.7/dist-packages (from requests->eurostat==0.2.1->-r requirementsColab.txt (line 7)) (3.0.4)\n",
            "Requirement already satisfied: idna<3,>=2.5 in /usr/local/lib/python3.7/dist-packages (from requests->eurostat==0.2.1->-r requirementsColab.txt (line 7)) (2.10)\n",
            "Requirement already satisfied: oauthlib>=3.0.0 in /usr/local/lib/python3.7/dist-packages (from requests-oauthlib>=0.7.0->tweepy==3.6.0->-r requirementsColab.txt (line 12)) (3.1.1)\n",
            "Requirement already satisfied: pillow!=7.1.0,!=7.1.1,>=4.3.0 in /usr/local/lib/python3.7/dist-packages (from scikit-image>=0.11.0->imgaug==0.2.5->-r requirementsColab.txt (line 25)) (7.1.2)\n",
            "Requirement already satisfied: networkx>=2.0 in /usr/local/lib/python3.7/dist-packages (from scikit-image>=0.11.0->imgaug==0.2.5->-r requirementsColab.txt (line 25)) (2.6.3)\n",
            "Requirement already satisfied: imageio>=2.3.0 in /usr/local/lib/python3.7/dist-packages (from scikit-image>=0.11.0->imgaug==0.2.5->-r requirementsColab.txt (line 25)) (2.4.1)\n",
            "Requirement already satisfied: PyWavelets>=1.1.1 in /usr/local/lib/python3.7/dist-packages (from scikit-image>=0.11.0->imgaug==0.2.5->-r requirementsColab.txt (line 25)) (1.2.0)\n",
            "Requirement already satisfied: tifffile>=2019.7.26 in /usr/local/lib/python3.7/dist-packages (from scikit-image>=0.11.0->imgaug==0.2.5->-r requirementsColab.txt (line 25)) (2021.11.2)\n",
            "Requirement already satisfied: ptyprocess in /usr/local/lib/python3.7/dist-packages (from terminado>=0.8.1->notebook->jupyter==1.0.0->-r requirementsColab.txt (line 20)) (0.7.0)\n",
            "Requirement already satisfied: frozenlist>=1.1.1 in /usr/local/lib/python3.7/dist-packages (from aiohttp->facebook-business==9.0.3->-r requirementsColab.txt (line 13)) (1.2.0)\n",
            "Requirement already satisfied: async-timeout<5.0,>=4.0.0a3 in /usr/local/lib/python3.7/dist-packages (from aiohttp->facebook-business==9.0.3->-r requirementsColab.txt (line 13)) (4.0.2)\n",
            "Requirement already satisfied: yarl<2.0,>=1.0 in /usr/local/lib/python3.7/dist-packages (from aiohttp->facebook-business==9.0.3->-r requirementsColab.txt (line 13)) (1.7.2)\n",
            "Requirement already satisfied: asynctest==0.13.0 in /usr/local/lib/python3.7/dist-packages (from aiohttp->facebook-business==9.0.3->-r requirementsColab.txt (line 13)) (0.13.0)\n",
            "Requirement already satisfied: charset-normalizer<3.0,>=2.0 in /usr/local/lib/python3.7/dist-packages (from aiohttp->facebook-business==9.0.3->-r requirementsColab.txt (line 13)) (2.0.10)\n",
            "Requirement already satisfied: aiosignal>=1.1.2 in /usr/local/lib/python3.7/dist-packages (from aiohttp->facebook-business==9.0.3->-r requirementsColab.txt (line 13)) (1.2.0)\n",
            "Requirement already satisfied: multidict<7.0,>=4.5 in /usr/local/lib/python3.7/dist-packages (from aiohttp->facebook-business==9.0.3->-r requirementsColab.txt (line 13)) (5.2.0)\n",
            "Requirement already satisfied: webencodings in /usr/local/lib/python3.7/dist-packages (from bleach->nbconvert==5.6.1->-r requirementsColab.txt (line 23)) (0.5.1)\n",
            "Requirement already satisfied: packaging in /usr/local/lib/python3.7/dist-packages (from bleach->nbconvert==5.6.1->-r requirementsColab.txt (line 23)) (21.3)\n",
            "Requirement already satisfied: widgetsnbextension~=3.5.0 in /usr/local/lib/python3.7/dist-packages (from ipywidgets->jupyter==1.0.0->-r requirementsColab.txt (line 20)) (3.5.2)\n",
            "Requirement already satisfied: jupyterlab-widgets>=1.0.0 in /usr/local/lib/python3.7/dist-packages (from ipywidgets->jupyter==1.0.0->-r requirementsColab.txt (line 20)) (1.0.2)\n",
            "Requirement already satisfied: jaraco.text in /usr/local/lib/python3.7/dist-packages (from jaraco.collections->cherrypy<19.0.0,>=18.5.0->hootsweet==0.7.1->-r requirementsColab.txt (line 18)) (3.6.0)\n",
            "Requirement already satisfied: jaraco.classes in /usr/local/lib/python3.7/dist-packages (from jaraco.collections->cherrypy<19.0.0,>=18.5.0->hootsweet==0.7.1->-r requirementsColab.txt (line 18)) (3.2.1)\n",
            "Requirement already satisfied: ply in /usr/local/lib/python3.7/dist-packages (from jsonpath-rw->pandasdmx<=0.9->eurostat==0.2.1->-r requirementsColab.txt (line 7)) (3.11)\n",
            "Requirement already satisfied: qtpy in /usr/local/lib/python3.7/dist-packages (from qtconsole->jupyter==1.0.0->-r requirementsColab.txt (line 20)) (2.0.0)\n"
          ]
        }
      ],
      "source": [
        "if 'google.colab' in str(get_ipython()):\n",
        "    !git clone https://github.com/griu/mbdds_fc20.git /content/mbdds_fc20\n",
        "    !git -C /content/mbdds_fc20 pull\n",
        "    %cd /content/mbdds_fc20/Python\n",
        "    !python -m pip install -r requirementsColab.txt"
      ]
    },
    {
      "cell_type": "markdown",
      "metadata": {
        "id": "EljLebnxgjqM"
      },
      "source": [
        "# Ejercicio 2\n",
        "\n",
        "Para el ejercicio 2, añadimos los datos del ejercicio 1 los datos de planetas."
      ]
    },
    {
      "cell_type": "code",
      "execution_count": 2,
      "metadata": {
        "id": "2V3mrVHSgjn7",
        "colab": {
          "base_uri": "https://localhost:8080/",
          "height": 238
        },
        "outputId": "03d28d77-270a-4907-a021-54c0db5bb77b"
      },
      "outputs": [
        {
          "output_type": "execute_result",
          "data": {
            "text/html": [
              "\n",
              "  <div id=\"df-645fdd5a-9d29-462f-b82b-df89ac76b409\">\n",
              "    <div class=\"colab-df-container\">\n",
              "      <div>\n",
              "<style scoped>\n",
              "    .dataframe tbody tr th:only-of-type {\n",
              "        vertical-align: middle;\n",
              "    }\n",
              "\n",
              "    .dataframe tbody tr th {\n",
              "        vertical-align: top;\n",
              "    }\n",
              "\n",
              "    .dataframe thead th {\n",
              "        text-align: right;\n",
              "    }\n",
              "</style>\n",
              "<table border=\"1\" class=\"dataframe\">\n",
              "  <thead>\n",
              "    <tr style=\"text-align: right;\">\n",
              "      <th></th>\n",
              "      <th>orbital_period</th>\n",
              "      <th>url</th>\n",
              "    </tr>\n",
              "    <tr>\n",
              "      <th>name</th>\n",
              "      <th></th>\n",
              "      <th></th>\n",
              "    </tr>\n",
              "  </thead>\n",
              "  <tbody>\n",
              "    <tr>\n",
              "      <th>Tatooine</th>\n",
              "      <td>304.0</td>\n",
              "      <td>http://swapi.dev/api/planets/1/</td>\n",
              "    </tr>\n",
              "    <tr>\n",
              "      <th>Alderaan</th>\n",
              "      <td>364.0</td>\n",
              "      <td>http://swapi.dev/api/planets/2/</td>\n",
              "    </tr>\n",
              "    <tr>\n",
              "      <th>Yavin IV</th>\n",
              "      <td>4818.0</td>\n",
              "      <td>http://swapi.dev/api/planets/3/</td>\n",
              "    </tr>\n",
              "    <tr>\n",
              "      <th>Hoth</th>\n",
              "      <td>549.0</td>\n",
              "      <td>http://swapi.dev/api/planets/4/</td>\n",
              "    </tr>\n",
              "    <tr>\n",
              "      <th>Dagobah</th>\n",
              "      <td>341.0</td>\n",
              "      <td>http://swapi.dev/api/planets/5/</td>\n",
              "    </tr>\n",
              "  </tbody>\n",
              "</table>\n",
              "</div>\n",
              "      <button class=\"colab-df-convert\" onclick=\"convertToInteractive('df-645fdd5a-9d29-462f-b82b-df89ac76b409')\"\n",
              "              title=\"Convert this dataframe to an interactive table.\"\n",
              "              style=\"display:none;\">\n",
              "        \n",
              "  <svg xmlns=\"http://www.w3.org/2000/svg\" height=\"24px\"viewBox=\"0 0 24 24\"\n",
              "       width=\"24px\">\n",
              "    <path d=\"M0 0h24v24H0V0z\" fill=\"none\"/>\n",
              "    <path d=\"M18.56 5.44l.94 2.06.94-2.06 2.06-.94-2.06-.94-.94-2.06-.94 2.06-2.06.94zm-11 1L8.5 8.5l.94-2.06 2.06-.94-2.06-.94L8.5 2.5l-.94 2.06-2.06.94zm10 10l.94 2.06.94-2.06 2.06-.94-2.06-.94-.94-2.06-.94 2.06-2.06.94z\"/><path d=\"M17.41 7.96l-1.37-1.37c-.4-.4-.92-.59-1.43-.59-.52 0-1.04.2-1.43.59L10.3 9.45l-7.72 7.72c-.78.78-.78 2.05 0 2.83L4 21.41c.39.39.9.59 1.41.59.51 0 1.02-.2 1.41-.59l7.78-7.78 2.81-2.81c.8-.78.8-2.07 0-2.86zM5.41 20L4 18.59l7.72-7.72 1.47 1.35L5.41 20z\"/>\n",
              "  </svg>\n",
              "      </button>\n",
              "      \n",
              "  <style>\n",
              "    .colab-df-container {\n",
              "      display:flex;\n",
              "      flex-wrap:wrap;\n",
              "      gap: 12px;\n",
              "    }\n",
              "\n",
              "    .colab-df-convert {\n",
              "      background-color: #E8F0FE;\n",
              "      border: none;\n",
              "      border-radius: 50%;\n",
              "      cursor: pointer;\n",
              "      display: none;\n",
              "      fill: #1967D2;\n",
              "      height: 32px;\n",
              "      padding: 0 0 0 0;\n",
              "      width: 32px;\n",
              "    }\n",
              "\n",
              "    .colab-df-convert:hover {\n",
              "      background-color: #E2EBFA;\n",
              "      box-shadow: 0px 1px 2px rgba(60, 64, 67, 0.3), 0px 1px 3px 1px rgba(60, 64, 67, 0.15);\n",
              "      fill: #174EA6;\n",
              "    }\n",
              "\n",
              "    [theme=dark] .colab-df-convert {\n",
              "      background-color: #3B4455;\n",
              "      fill: #D2E3FC;\n",
              "    }\n",
              "\n",
              "    [theme=dark] .colab-df-convert:hover {\n",
              "      background-color: #434B5C;\n",
              "      box-shadow: 0px 1px 3px 1px rgba(0, 0, 0, 0.15);\n",
              "      filter: drop-shadow(0px 1px 2px rgba(0, 0, 0, 0.3));\n",
              "      fill: #FFFFFF;\n",
              "    }\n",
              "  </style>\n",
              "\n",
              "      <script>\n",
              "        const buttonEl =\n",
              "          document.querySelector('#df-645fdd5a-9d29-462f-b82b-df89ac76b409 button.colab-df-convert');\n",
              "        buttonEl.style.display =\n",
              "          google.colab.kernel.accessAllowed ? 'block' : 'none';\n",
              "\n",
              "        async function convertToInteractive(key) {\n",
              "          const element = document.querySelector('#df-645fdd5a-9d29-462f-b82b-df89ac76b409');\n",
              "          const dataTable =\n",
              "            await google.colab.kernel.invokeFunction('convertToInteractive',\n",
              "                                                     [key], {});\n",
              "          if (!dataTable) return;\n",
              "\n",
              "          const docLinkHtml = 'Like what you see? Visit the ' +\n",
              "            '<a target=\"_blank\" href=https://colab.research.google.com/notebooks/data_table.ipynb>data table notebook</a>'\n",
              "            + ' to learn more about interactive tables.';\n",
              "          element.innerHTML = '';\n",
              "          dataTable['output_type'] = 'display_data';\n",
              "          await google.colab.output.renderOutput(dataTable, element);\n",
              "          const docLink = document.createElement('div');\n",
              "          docLink.innerHTML = docLinkHtml;\n",
              "          element.appendChild(docLink);\n",
              "        }\n",
              "      </script>\n",
              "    </div>\n",
              "  </div>\n",
              "  "
            ],
            "text/plain": [
              "          orbital_period                              url\n",
              "name                                                     \n",
              "Tatooine           304.0  http://swapi.dev/api/planets/1/\n",
              "Alderaan           364.0  http://swapi.dev/api/planets/2/\n",
              "Yavin IV          4818.0  http://swapi.dev/api/planets/3/\n",
              "Hoth               549.0  http://swapi.dev/api/planets/4/\n",
              "Dagobah            341.0  http://swapi.dev/api/planets/5/"
            ]
          },
          "metadata": {},
          "execution_count": 2
        }
      ],
      "source": [
        "import numpy as np\n",
        "import pandas as pd\n",
        "import matplotlib.pyplot as plt\n",
        "import seaborn as sns; sns.set()  # para el estilo de graficos\n",
        "\n",
        "entidades = ['planets','starships','vehicles','people','species']\n",
        "entidades_df = {x: pd.read_pickle('www/' + x + '_df.pkl') for x in entidades}\n",
        "\n",
        "# Datos people\n",
        "people_df = entidades_df['people'][[\"height\",\"mass\",\"birth_year\",\"gender\",\"homeworld\"]].dropna()\n",
        "\n",
        "# planetas\n",
        "planets_df = entidades_df['planets'][[\"orbital_period\",\"url\"]].dropna()\n",
        "planets_df.head()"
      ]
    },
    {
      "cell_type": "markdown",
      "metadata": {
        "id": "XfAwzyybgjqV"
      },
      "source": [
        "## Ejercicio 2.1.\n",
        "\n",
        "Construye una función que diga \"buenos días\", \"buenas tardes\" o \"buenas noches\" en función de la hora del día.\n",
        "\n",
        "> Truco 1: Para testear la función haz que tenga un parametro de entrada que tenga como valor por defecto: `datetime.now()` (primero carga `from datetime import datetime`).\n",
        "\n",
        "> Truco 2: Puedes extraer la hora de un datetime con `.hour`."
      ]
    },
    {
      "cell_type": "code",
      "execution_count": 3,
      "metadata": {
        "id": "ztjRWz0kgjqW",
        "colab": {
          "base_uri": "https://localhost:8080/"
        },
        "outputId": "77becd7c-edc9-4044-9703-300bcbaea5a9"
      },
      "outputs": [
        {
          "output_type": "stream",
          "name": "stdout",
          "text": [
            "Buenas noches\n"
          ]
        }
      ],
      "source": [
        "# Solución:\n",
        "from datetime import datetime\n",
        "\n",
        "hora_actual = datetime.now()\n",
        "hora = hora_actual.hour\n",
        "\n",
        "def saludar(hora):\n",
        "  if hora >= 6 and hora < 12:\n",
        "    print(\"Buenos días\")\n",
        "  elif hora >= 12 and hora < 19:\n",
        "    print(\"Buenas tardes\")\n",
        "  else:\n",
        "    print(\"Buenas noches\")\n",
        "\n",
        "# La función se construyó con las horas acostumbradas en Costa Rica para decir los distintos saludos. \n",
        "\n",
        "saludar(hora)"
      ]
    },
    {
      "cell_type": "markdown",
      "metadata": {
        "id": "N4CDynU2gjqe"
      },
      "source": [
        "## Ejercicio 2.2.\n",
        "\n",
        "En el data frame personajes_df, calcula de nuevo el IMC y crea una nueva variable con el trameado de la variable IMC definido en la siguiente tabla:\n",
        "\n",
        " | Categoría de nivel de peso | Intervalo del percentil |\n",
        " | -------------------------- | ----------------------- | \n",
        " | Bajo peso | < 18.5 |\n",
        " | Normal | >= 18.5 y < 25 |\n",
        " | Sobrepeso | >= 25 y <30 |\n",
        " | Obeso | >= 30 |\n",
        "\n",
        "> Truco: utiliza `pd.cut(..., right=False)` y modifica las etiquetas con `.cat.categories`.  "
      ]
    },
    {
      "cell_type": "code",
      "source": [
        "# Solución:\n",
        "# Creando nueva columna IMC\n",
        "people_df[\"IMC\"] = people_df.mass/(people_df.height/100)**2"
      ],
      "metadata": {
        "id": "Xyu6FWcG7wfk"
      },
      "execution_count": 4,
      "outputs": []
    },
    {
      "cell_type": "code",
      "source": [
        "# Creando columna con el trameado de la variable IMC\n",
        "people_df[\"Tramos_IMC\"] = pd.cut(people_df.IMC,[-np.infty,18.5,25,30,np.infty], right=False)\n",
        "people_df[[\"IMC\",\"Tramos_IMC\"]].head(5)"
      ],
      "metadata": {
        "colab": {
          "base_uri": "https://localhost:8080/",
          "height": 238
        },
        "id": "M-7epKm_vGF0",
        "outputId": "4bd6ec86-7f50-45dc-f4b5-6d780496cccb"
      },
      "execution_count": 5,
      "outputs": [
        {
          "output_type": "execute_result",
          "data": {
            "text/html": [
              "\n",
              "  <div id=\"df-10a02908-81e7-4d92-b3af-f4babdb3fa94\">\n",
              "    <div class=\"colab-df-container\">\n",
              "      <div>\n",
              "<style scoped>\n",
              "    .dataframe tbody tr th:only-of-type {\n",
              "        vertical-align: middle;\n",
              "    }\n",
              "\n",
              "    .dataframe tbody tr th {\n",
              "        vertical-align: top;\n",
              "    }\n",
              "\n",
              "    .dataframe thead th {\n",
              "        text-align: right;\n",
              "    }\n",
              "</style>\n",
              "<table border=\"1\" class=\"dataframe\">\n",
              "  <thead>\n",
              "    <tr style=\"text-align: right;\">\n",
              "      <th></th>\n",
              "      <th>IMC</th>\n",
              "      <th>Tramos_IMC</th>\n",
              "    </tr>\n",
              "    <tr>\n",
              "      <th>name</th>\n",
              "      <th></th>\n",
              "      <th></th>\n",
              "    </tr>\n",
              "  </thead>\n",
              "  <tbody>\n",
              "    <tr>\n",
              "      <th>Luke Skywalker</th>\n",
              "      <td>26.027582</td>\n",
              "      <td>[25.0, 30.0)</td>\n",
              "    </tr>\n",
              "    <tr>\n",
              "      <th>C-3PO</th>\n",
              "      <td>26.892323</td>\n",
              "      <td>[25.0, 30.0)</td>\n",
              "    </tr>\n",
              "    <tr>\n",
              "      <th>R2-D2</th>\n",
              "      <td>34.722222</td>\n",
              "      <td>[30.0, inf)</td>\n",
              "    </tr>\n",
              "    <tr>\n",
              "      <th>Darth Vader</th>\n",
              "      <td>33.330066</td>\n",
              "      <td>[30.0, inf)</td>\n",
              "    </tr>\n",
              "    <tr>\n",
              "      <th>Leia Organa</th>\n",
              "      <td>21.777778</td>\n",
              "      <td>[18.5, 25.0)</td>\n",
              "    </tr>\n",
              "  </tbody>\n",
              "</table>\n",
              "</div>\n",
              "      <button class=\"colab-df-convert\" onclick=\"convertToInteractive('df-10a02908-81e7-4d92-b3af-f4babdb3fa94')\"\n",
              "              title=\"Convert this dataframe to an interactive table.\"\n",
              "              style=\"display:none;\">\n",
              "        \n",
              "  <svg xmlns=\"http://www.w3.org/2000/svg\" height=\"24px\"viewBox=\"0 0 24 24\"\n",
              "       width=\"24px\">\n",
              "    <path d=\"M0 0h24v24H0V0z\" fill=\"none\"/>\n",
              "    <path d=\"M18.56 5.44l.94 2.06.94-2.06 2.06-.94-2.06-.94-.94-2.06-.94 2.06-2.06.94zm-11 1L8.5 8.5l.94-2.06 2.06-.94-2.06-.94L8.5 2.5l-.94 2.06-2.06.94zm10 10l.94 2.06.94-2.06 2.06-.94-2.06-.94-.94-2.06-.94 2.06-2.06.94z\"/><path d=\"M17.41 7.96l-1.37-1.37c-.4-.4-.92-.59-1.43-.59-.52 0-1.04.2-1.43.59L10.3 9.45l-7.72 7.72c-.78.78-.78 2.05 0 2.83L4 21.41c.39.39.9.59 1.41.59.51 0 1.02-.2 1.41-.59l7.78-7.78 2.81-2.81c.8-.78.8-2.07 0-2.86zM5.41 20L4 18.59l7.72-7.72 1.47 1.35L5.41 20z\"/>\n",
              "  </svg>\n",
              "      </button>\n",
              "      \n",
              "  <style>\n",
              "    .colab-df-container {\n",
              "      display:flex;\n",
              "      flex-wrap:wrap;\n",
              "      gap: 12px;\n",
              "    }\n",
              "\n",
              "    .colab-df-convert {\n",
              "      background-color: #E8F0FE;\n",
              "      border: none;\n",
              "      border-radius: 50%;\n",
              "      cursor: pointer;\n",
              "      display: none;\n",
              "      fill: #1967D2;\n",
              "      height: 32px;\n",
              "      padding: 0 0 0 0;\n",
              "      width: 32px;\n",
              "    }\n",
              "\n",
              "    .colab-df-convert:hover {\n",
              "      background-color: #E2EBFA;\n",
              "      box-shadow: 0px 1px 2px rgba(60, 64, 67, 0.3), 0px 1px 3px 1px rgba(60, 64, 67, 0.15);\n",
              "      fill: #174EA6;\n",
              "    }\n",
              "\n",
              "    [theme=dark] .colab-df-convert {\n",
              "      background-color: #3B4455;\n",
              "      fill: #D2E3FC;\n",
              "    }\n",
              "\n",
              "    [theme=dark] .colab-df-convert:hover {\n",
              "      background-color: #434B5C;\n",
              "      box-shadow: 0px 1px 3px 1px rgba(0, 0, 0, 0.15);\n",
              "      filter: drop-shadow(0px 1px 2px rgba(0, 0, 0, 0.3));\n",
              "      fill: #FFFFFF;\n",
              "    }\n",
              "  </style>\n",
              "\n",
              "      <script>\n",
              "        const buttonEl =\n",
              "          document.querySelector('#df-10a02908-81e7-4d92-b3af-f4babdb3fa94 button.colab-df-convert');\n",
              "        buttonEl.style.display =\n",
              "          google.colab.kernel.accessAllowed ? 'block' : 'none';\n",
              "\n",
              "        async function convertToInteractive(key) {\n",
              "          const element = document.querySelector('#df-10a02908-81e7-4d92-b3af-f4babdb3fa94');\n",
              "          const dataTable =\n",
              "            await google.colab.kernel.invokeFunction('convertToInteractive',\n",
              "                                                     [key], {});\n",
              "          if (!dataTable) return;\n",
              "\n",
              "          const docLinkHtml = 'Like what you see? Visit the ' +\n",
              "            '<a target=\"_blank\" href=https://colab.research.google.com/notebooks/data_table.ipynb>data table notebook</a>'\n",
              "            + ' to learn more about interactive tables.';\n",
              "          element.innerHTML = '';\n",
              "          dataTable['output_type'] = 'display_data';\n",
              "          await google.colab.output.renderOutput(dataTable, element);\n",
              "          const docLink = document.createElement('div');\n",
              "          docLink.innerHTML = docLinkHtml;\n",
              "          element.appendChild(docLink);\n",
              "        }\n",
              "      </script>\n",
              "    </div>\n",
              "  </div>\n",
              "  "
            ],
            "text/plain": [
              "                      IMC    Tramos_IMC\n",
              "name                                   \n",
              "Luke Skywalker  26.027582  [25.0, 30.0)\n",
              "C-3PO           26.892323  [25.0, 30.0)\n",
              "R2-D2           34.722222   [30.0, inf)\n",
              "Darth Vader     33.330066   [30.0, inf)\n",
              "Leia Organa     21.777778  [18.5, 25.0)"
            ]
          },
          "metadata": {},
          "execution_count": 5
        }
      ]
    },
    {
      "cell_type": "code",
      "execution_count": 9,
      "metadata": {
        "id": "1DPbZLk4gjqf",
        "colab": {
          "base_uri": "https://localhost:8080/",
          "height": 238
        },
        "outputId": "5b84def8-e401-46d6-f1ff-935ecf7fe1ba"
      },
      "outputs": [
        {
          "output_type": "execute_result",
          "data": {
            "text/html": [
              "\n",
              "  <div id=\"df-131ea150-e230-49e4-981b-74365ff8db1f\">\n",
              "    <div class=\"colab-df-container\">\n",
              "      <div>\n",
              "<style scoped>\n",
              "    .dataframe tbody tr th:only-of-type {\n",
              "        vertical-align: middle;\n",
              "    }\n",
              "\n",
              "    .dataframe tbody tr th {\n",
              "        vertical-align: top;\n",
              "    }\n",
              "\n",
              "    .dataframe thead th {\n",
              "        text-align: right;\n",
              "    }\n",
              "</style>\n",
              "<table border=\"1\" class=\"dataframe\">\n",
              "  <thead>\n",
              "    <tr style=\"text-align: right;\">\n",
              "      <th></th>\n",
              "      <th>IMC</th>\n",
              "      <th>Tramos_IMC</th>\n",
              "    </tr>\n",
              "    <tr>\n",
              "      <th>name</th>\n",
              "      <th></th>\n",
              "      <th></th>\n",
              "    </tr>\n",
              "  </thead>\n",
              "  <tbody>\n",
              "    <tr>\n",
              "      <th>Luke Skywalker</th>\n",
              "      <td>26.027582</td>\n",
              "      <td>Sobrepeso</td>\n",
              "    </tr>\n",
              "    <tr>\n",
              "      <th>C-3PO</th>\n",
              "      <td>26.892323</td>\n",
              "      <td>Sobrepeso</td>\n",
              "    </tr>\n",
              "    <tr>\n",
              "      <th>R2-D2</th>\n",
              "      <td>34.722222</td>\n",
              "      <td>Obeso</td>\n",
              "    </tr>\n",
              "    <tr>\n",
              "      <th>Darth Vader</th>\n",
              "      <td>33.330066</td>\n",
              "      <td>Obeso</td>\n",
              "    </tr>\n",
              "    <tr>\n",
              "      <th>Leia Organa</th>\n",
              "      <td>21.777778</td>\n",
              "      <td>Normal</td>\n",
              "    </tr>\n",
              "  </tbody>\n",
              "</table>\n",
              "</div>\n",
              "      <button class=\"colab-df-convert\" onclick=\"convertToInteractive('df-131ea150-e230-49e4-981b-74365ff8db1f')\"\n",
              "              title=\"Convert this dataframe to an interactive table.\"\n",
              "              style=\"display:none;\">\n",
              "        \n",
              "  <svg xmlns=\"http://www.w3.org/2000/svg\" height=\"24px\"viewBox=\"0 0 24 24\"\n",
              "       width=\"24px\">\n",
              "    <path d=\"M0 0h24v24H0V0z\" fill=\"none\"/>\n",
              "    <path d=\"M18.56 5.44l.94 2.06.94-2.06 2.06-.94-2.06-.94-.94-2.06-.94 2.06-2.06.94zm-11 1L8.5 8.5l.94-2.06 2.06-.94-2.06-.94L8.5 2.5l-.94 2.06-2.06.94zm10 10l.94 2.06.94-2.06 2.06-.94-2.06-.94-.94-2.06-.94 2.06-2.06.94z\"/><path d=\"M17.41 7.96l-1.37-1.37c-.4-.4-.92-.59-1.43-.59-.52 0-1.04.2-1.43.59L10.3 9.45l-7.72 7.72c-.78.78-.78 2.05 0 2.83L4 21.41c.39.39.9.59 1.41.59.51 0 1.02-.2 1.41-.59l7.78-7.78 2.81-2.81c.8-.78.8-2.07 0-2.86zM5.41 20L4 18.59l7.72-7.72 1.47 1.35L5.41 20z\"/>\n",
              "  </svg>\n",
              "      </button>\n",
              "      \n",
              "  <style>\n",
              "    .colab-df-container {\n",
              "      display:flex;\n",
              "      flex-wrap:wrap;\n",
              "      gap: 12px;\n",
              "    }\n",
              "\n",
              "    .colab-df-convert {\n",
              "      background-color: #E8F0FE;\n",
              "      border: none;\n",
              "      border-radius: 50%;\n",
              "      cursor: pointer;\n",
              "      display: none;\n",
              "      fill: #1967D2;\n",
              "      height: 32px;\n",
              "      padding: 0 0 0 0;\n",
              "      width: 32px;\n",
              "    }\n",
              "\n",
              "    .colab-df-convert:hover {\n",
              "      background-color: #E2EBFA;\n",
              "      box-shadow: 0px 1px 2px rgba(60, 64, 67, 0.3), 0px 1px 3px 1px rgba(60, 64, 67, 0.15);\n",
              "      fill: #174EA6;\n",
              "    }\n",
              "\n",
              "    [theme=dark] .colab-df-convert {\n",
              "      background-color: #3B4455;\n",
              "      fill: #D2E3FC;\n",
              "    }\n",
              "\n",
              "    [theme=dark] .colab-df-convert:hover {\n",
              "      background-color: #434B5C;\n",
              "      box-shadow: 0px 1px 3px 1px rgba(0, 0, 0, 0.15);\n",
              "      filter: drop-shadow(0px 1px 2px rgba(0, 0, 0, 0.3));\n",
              "      fill: #FFFFFF;\n",
              "    }\n",
              "  </style>\n",
              "\n",
              "      <script>\n",
              "        const buttonEl =\n",
              "          document.querySelector('#df-131ea150-e230-49e4-981b-74365ff8db1f button.colab-df-convert');\n",
              "        buttonEl.style.display =\n",
              "          google.colab.kernel.accessAllowed ? 'block' : 'none';\n",
              "\n",
              "        async function convertToInteractive(key) {\n",
              "          const element = document.querySelector('#df-131ea150-e230-49e4-981b-74365ff8db1f');\n",
              "          const dataTable =\n",
              "            await google.colab.kernel.invokeFunction('convertToInteractive',\n",
              "                                                     [key], {});\n",
              "          if (!dataTable) return;\n",
              "\n",
              "          const docLinkHtml = 'Like what you see? Visit the ' +\n",
              "            '<a target=\"_blank\" href=https://colab.research.google.com/notebooks/data_table.ipynb>data table notebook</a>'\n",
              "            + ' to learn more about interactive tables.';\n",
              "          element.innerHTML = '';\n",
              "          dataTable['output_type'] = 'display_data';\n",
              "          await google.colab.output.renderOutput(dataTable, element);\n",
              "          const docLink = document.createElement('div');\n",
              "          docLink.innerHTML = docLinkHtml;\n",
              "          element.appendChild(docLink);\n",
              "        }\n",
              "      </script>\n",
              "    </div>\n",
              "  </div>\n",
              "  "
            ],
            "text/plain": [
              "                      IMC Tramos_IMC\n",
              "name                                \n",
              "Luke Skywalker  26.027582  Sobrepeso\n",
              "C-3PO           26.892323  Sobrepeso\n",
              "R2-D2           34.722222      Obeso\n",
              "Darth Vader     33.330066      Obeso\n",
              "Leia Organa     21.777778     Normal"
            ]
          },
          "metadata": {},
          "execution_count": 9
        }
      ],
      "source": [
        "# Modificando las etiquetas\n",
        "people_df[\"Tramos_IMC\"].cat.categories = [\"Bajo peso\",\"Normal\",\"Sobrepeso\", \"Obeso\"]\n",
        "people_df[[\"IMC\",\"Tramos_IMC\"]].head()"
      ]
    },
    {
      "cell_type": "markdown",
      "metadata": {
        "id": "edo1k7Y-gjqn"
      },
      "source": [
        "## Ejercicio 2.3.\n",
        "\n",
        "Muestra las frecuencias de la nueva variable definida en 2.2."
      ]
    },
    {
      "cell_type": "code",
      "execution_count": 10,
      "metadata": {
        "id": "6OxcRrVpgjqo",
        "colab": {
          "base_uri": "https://localhost:8080/"
        },
        "outputId": "4cf87e2d-4cdd-4243-cf7c-81c40d1c4ac0"
      },
      "outputs": [
        {
          "output_type": "execute_result",
          "data": {
            "text/plain": [
              "Bajo peso     4\n",
              "Normal       14\n",
              "Sobrepeso    11\n",
              "Obeso         7\n",
              "Name: Tramos_IMC, dtype: int64"
            ]
          },
          "metadata": {},
          "execution_count": 10
        }
      ],
      "source": [
        "# Solución:\n",
        "people_df[\"Tramos_IMC\"].value_counts().sort_index()"
      ]
    },
    {
      "cell_type": "markdown",
      "metadata": {
        "id": "1CKTldfbgjqv"
      },
      "source": [
        "## Ejercicio 2.4.\n",
        "\n",
        "Calcula ahora un trameado de la edad en 5 grupos equiprobables.\n",
        "\n",
        "Muestra los recuentos (frecuencias) de la nueva obtenida por pantalla.\n",
        "\n",
        "> Truco: Busca ayuda de la función [pd.qcut()](https://pandas.pydata.org/pandas-docs/stable/reference/api/pandas.qcut.html)"
      ]
    },
    {
      "cell_type": "code",
      "execution_count": 11,
      "metadata": {
        "id": "O_WpukQVgjqx",
        "colab": {
          "base_uri": "https://localhost:8080/"
        },
        "outputId": "9452e9e7-57a4-4923-8eeb-3194b509b69b"
      },
      "outputs": [
        {
          "output_type": "execute_result",
          "data": {
            "text/plain": [
              "(7.999, 29.0]    8\n",
              "(29.0, 41.9]     8\n",
              "(41.9, 52.0]     6\n",
              "(52.0, 82.0]     7\n",
              "(82.0, 896.0]    7\n",
              "Name: Tramo_edad, dtype: int64"
            ]
          },
          "metadata": {},
          "execution_count": 11
        }
      ],
      "source": [
        "# Solución:\n",
        "people_df['Tramo_edad'] = pd.qcut(people_df.birth_year, 5)\n",
        "\n",
        "# Mostrando el recuento de la nueva variable de edad con 5 grupos equiprobables\n",
        "people_df[\"Tramo_edad\"].value_counts().sort_index()"
      ]
    },
    {
      "cell_type": "markdown",
      "metadata": {
        "id": "ounCvVAGgjq6"
      },
      "source": [
        "## Ejercicio 2.5.\n",
        "\n",
        "Presenta la tabla cruzada de tramos de edad (ej. 2.4) por tramos de IMC (ej. 2.2). \n",
        "\n",
        "¿Qué tramo de edad tiene un mayor número de personajes con Bajo peso?"
      ]
    },
    {
      "cell_type": "code",
      "execution_count": 12,
      "metadata": {
        "id": "umepvEN9gjq8",
        "colab": {
          "base_uri": "https://localhost:8080/",
          "height": 238
        },
        "outputId": "9ad6d1f2-7778-4b0e-d845-b11b3eea2f4c"
      },
      "outputs": [
        {
          "output_type": "execute_result",
          "data": {
            "text/html": [
              "\n",
              "  <div id=\"df-8d955705-5d9d-48e7-93c7-05a5f46e097b\">\n",
              "    <div class=\"colab-df-container\">\n",
              "      <div>\n",
              "<style scoped>\n",
              "    .dataframe tbody tr th:only-of-type {\n",
              "        vertical-align: middle;\n",
              "    }\n",
              "\n",
              "    .dataframe tbody tr th {\n",
              "        vertical-align: top;\n",
              "    }\n",
              "\n",
              "    .dataframe thead th {\n",
              "        text-align: right;\n",
              "    }\n",
              "</style>\n",
              "<table border=\"1\" class=\"dataframe\">\n",
              "  <thead>\n",
              "    <tr style=\"text-align: right;\">\n",
              "      <th>Tramos_IMC</th>\n",
              "      <th>Bajo peso</th>\n",
              "      <th>Normal</th>\n",
              "      <th>Sobrepeso</th>\n",
              "      <th>Obeso</th>\n",
              "    </tr>\n",
              "    <tr>\n",
              "      <th>Tramo_edad</th>\n",
              "      <th></th>\n",
              "      <th></th>\n",
              "      <th></th>\n",
              "      <th></th>\n",
              "    </tr>\n",
              "  </thead>\n",
              "  <tbody>\n",
              "    <tr>\n",
              "      <th>(7.999, 29.0]</th>\n",
              "      <td>0</td>\n",
              "      <td>3</td>\n",
              "      <td>4</td>\n",
              "      <td>1</td>\n",
              "    </tr>\n",
              "    <tr>\n",
              "      <th>(29.0, 41.9]</th>\n",
              "      <td>1</td>\n",
              "      <td>2</td>\n",
              "      <td>3</td>\n",
              "      <td>2</td>\n",
              "    </tr>\n",
              "    <tr>\n",
              "      <th>(41.9, 52.0]</th>\n",
              "      <td>3</td>\n",
              "      <td>1</td>\n",
              "      <td>1</td>\n",
              "      <td>1</td>\n",
              "    </tr>\n",
              "    <tr>\n",
              "      <th>(52.0, 82.0]</th>\n",
              "      <td>0</td>\n",
              "      <td>4</td>\n",
              "      <td>2</td>\n",
              "      <td>1</td>\n",
              "    </tr>\n",
              "    <tr>\n",
              "      <th>(82.0, 896.0]</th>\n",
              "      <td>0</td>\n",
              "      <td>4</td>\n",
              "      <td>1</td>\n",
              "      <td>2</td>\n",
              "    </tr>\n",
              "  </tbody>\n",
              "</table>\n",
              "</div>\n",
              "      <button class=\"colab-df-convert\" onclick=\"convertToInteractive('df-8d955705-5d9d-48e7-93c7-05a5f46e097b')\"\n",
              "              title=\"Convert this dataframe to an interactive table.\"\n",
              "              style=\"display:none;\">\n",
              "        \n",
              "  <svg xmlns=\"http://www.w3.org/2000/svg\" height=\"24px\"viewBox=\"0 0 24 24\"\n",
              "       width=\"24px\">\n",
              "    <path d=\"M0 0h24v24H0V0z\" fill=\"none\"/>\n",
              "    <path d=\"M18.56 5.44l.94 2.06.94-2.06 2.06-.94-2.06-.94-.94-2.06-.94 2.06-2.06.94zm-11 1L8.5 8.5l.94-2.06 2.06-.94-2.06-.94L8.5 2.5l-.94 2.06-2.06.94zm10 10l.94 2.06.94-2.06 2.06-.94-2.06-.94-.94-2.06-.94 2.06-2.06.94z\"/><path d=\"M17.41 7.96l-1.37-1.37c-.4-.4-.92-.59-1.43-.59-.52 0-1.04.2-1.43.59L10.3 9.45l-7.72 7.72c-.78.78-.78 2.05 0 2.83L4 21.41c.39.39.9.59 1.41.59.51 0 1.02-.2 1.41-.59l7.78-7.78 2.81-2.81c.8-.78.8-2.07 0-2.86zM5.41 20L4 18.59l7.72-7.72 1.47 1.35L5.41 20z\"/>\n",
              "  </svg>\n",
              "      </button>\n",
              "      \n",
              "  <style>\n",
              "    .colab-df-container {\n",
              "      display:flex;\n",
              "      flex-wrap:wrap;\n",
              "      gap: 12px;\n",
              "    }\n",
              "\n",
              "    .colab-df-convert {\n",
              "      background-color: #E8F0FE;\n",
              "      border: none;\n",
              "      border-radius: 50%;\n",
              "      cursor: pointer;\n",
              "      display: none;\n",
              "      fill: #1967D2;\n",
              "      height: 32px;\n",
              "      padding: 0 0 0 0;\n",
              "      width: 32px;\n",
              "    }\n",
              "\n",
              "    .colab-df-convert:hover {\n",
              "      background-color: #E2EBFA;\n",
              "      box-shadow: 0px 1px 2px rgba(60, 64, 67, 0.3), 0px 1px 3px 1px rgba(60, 64, 67, 0.15);\n",
              "      fill: #174EA6;\n",
              "    }\n",
              "\n",
              "    [theme=dark] .colab-df-convert {\n",
              "      background-color: #3B4455;\n",
              "      fill: #D2E3FC;\n",
              "    }\n",
              "\n",
              "    [theme=dark] .colab-df-convert:hover {\n",
              "      background-color: #434B5C;\n",
              "      box-shadow: 0px 1px 3px 1px rgba(0, 0, 0, 0.15);\n",
              "      filter: drop-shadow(0px 1px 2px rgba(0, 0, 0, 0.3));\n",
              "      fill: #FFFFFF;\n",
              "    }\n",
              "  </style>\n",
              "\n",
              "      <script>\n",
              "        const buttonEl =\n",
              "          document.querySelector('#df-8d955705-5d9d-48e7-93c7-05a5f46e097b button.colab-df-convert');\n",
              "        buttonEl.style.display =\n",
              "          google.colab.kernel.accessAllowed ? 'block' : 'none';\n",
              "\n",
              "        async function convertToInteractive(key) {\n",
              "          const element = document.querySelector('#df-8d955705-5d9d-48e7-93c7-05a5f46e097b');\n",
              "          const dataTable =\n",
              "            await google.colab.kernel.invokeFunction('convertToInteractive',\n",
              "                                                     [key], {});\n",
              "          if (!dataTable) return;\n",
              "\n",
              "          const docLinkHtml = 'Like what you see? Visit the ' +\n",
              "            '<a target=\"_blank\" href=https://colab.research.google.com/notebooks/data_table.ipynb>data table notebook</a>'\n",
              "            + ' to learn more about interactive tables.';\n",
              "          element.innerHTML = '';\n",
              "          dataTable['output_type'] = 'display_data';\n",
              "          await google.colab.output.renderOutput(dataTable, element);\n",
              "          const docLink = document.createElement('div');\n",
              "          docLink.innerHTML = docLinkHtml;\n",
              "          element.appendChild(docLink);\n",
              "        }\n",
              "      </script>\n",
              "    </div>\n",
              "  </div>\n",
              "  "
            ],
            "text/plain": [
              "Tramos_IMC     Bajo peso  Normal  Sobrepeso  Obeso\n",
              "Tramo_edad                                        \n",
              "(7.999, 29.0]          0       3          4      1\n",
              "(29.0, 41.9]           1       2          3      2\n",
              "(41.9, 52.0]           3       1          1      1\n",
              "(52.0, 82.0]           0       4          2      1\n",
              "(82.0, 896.0]          0       4          1      2"
            ]
          },
          "metadata": {},
          "execution_count": 12
        }
      ],
      "source": [
        "# Solución:\n",
        "tabla_cruzada_tramos = pd.crosstab(people_df.Tramo_edad,people_df.Tramos_IMC)\n",
        "tabla_cruzada_tramos"
      ]
    },
    {
      "cell_type": "markdown",
      "source": [
        "### Análisis:\n",
        "\n",
        "Se puede observar que el tramo de la edad que presenta mayor cantidad de personajes con bajo peso es el de 41.9 a 52 años de edad con 3 personajes respectivamente.  "
      ],
      "metadata": {
        "id": "SFGn1_yP4hJD"
      }
    },
    {
      "cell_type": "markdown",
      "metadata": {
        "id": "l2716nMZgjrE"
      },
      "source": [
        "## Ejercicio 2.6.\n",
        "\n",
        "Calcula una tabla resumen (data frame) donde se presente la media del IMC en cada tramo de edad calculado en ejercicio 2.4.\n",
        "\n",
        "Presenta por pantalla la nueva tabla resumen.\n"
      ]
    },
    {
      "cell_type": "code",
      "execution_count": 13,
      "metadata": {
        "id": "6fMs6ud7gjrG",
        "colab": {
          "base_uri": "https://localhost:8080/"
        },
        "outputId": "53553eef-c4c1-4293-9033-dcad64c4fb6f"
      },
      "outputs": [
        {
          "output_type": "execute_result",
          "data": {
            "text/plain": [
              "Tramo_edad\n",
              "(7.999, 29.0]    25.960538\n",
              "(29.0, 41.9]     26.242997\n",
              "(41.9, 52.0]     22.972490\n",
              "(52.0, 82.0]     24.774935\n",
              "(82.0, 896.0]    85.311313\n",
              "Name: IMC, dtype: float64"
            ]
          },
          "metadata": {},
          "execution_count": 13
        }
      ],
      "source": [
        "# Solución:\n",
        "summ_IMC_edad = people_df.groupby([\"Tramo_edad\"])[\"IMC\"].mean()\n",
        "summ_IMC_edad"
      ]
    },
    {
      "cell_type": "markdown",
      "metadata": {
        "id": "pcJwb6B5gjrO"
      },
      "source": [
        "## Ejercicio 2.7.\n",
        "\n",
        "Presenta los datos del ej. 2.6. como un gráfico de líneas donde el eje x sea la edad y el eje y el IMC medio.\n",
        "\n",
        "> Truco: Como eje x del gráfico de líneas, puedes calcular en 2.6., en el mismo cálculo del IMC medio, la mediana de edad de cada tramo de edad."
      ]
    },
    {
      "cell_type": "code",
      "execution_count": 14,
      "metadata": {
        "id": "U8dJ4dr5gjrQ",
        "colab": {
          "base_uri": "https://localhost:8080/",
          "height": 410
        },
        "outputId": "9b1647f9-15ac-4f6f-d956-d468d0a60682"
      },
      "outputs": [
        {
          "output_type": "display_data",
          "data": {
            "image/png": "[encoded data removed]",
            "text/plain": [
              "<Figure size 720x432 with 1 Axes>"
            ]
          },
          "metadata": {}
        }
      ],
      "source": [
        "# Solución:\n",
        "sns.set\n",
        "people_df.groupby([\"Tramo_edad\"])[\"IMC\"].mean().plot(title = \"Media del IMC por tramos de edad\", \n",
        "                                                     style='o-',\n",
        "                                                     colormap = \"inferno\",\n",
        "                                                     legend = True,\n",
        "                                                     xlabel = \"Tramo de edad\", \n",
        "                                                     ylabel = \"Media IMC\",\n",
        "                                                     figsize=(10, 6));"
      ]
    },
    {
      "cell_type": "markdown",
      "metadata": {
        "id": "qmjm1lwigjrY"
      },
      "source": [
        "## Ejercicio 2.8.\n",
        "\n",
        "Calcula el ratio del IMC sobre la mediana del IMC de su tramo de edad (definidos en el ejercicio 2.2.) mediante la función groupby(...).apply(...).\n",
        "\n",
        "> truco: primero crea una función que devuelva:  `x / np.nanmedian(x)`.\n",
        "\n",
        "Presenta los datos mediante un boxplot de la nueva variable: [pd.boxplot()](https://pandas.pydata.org/pandas-docs/stable/reference/api/pandas.DataFrame.boxplot.html). "
      ]
    },
    {
      "cell_type": "code",
      "execution_count": 15,
      "metadata": {
        "id": "XH3ijt6Dgjra",
        "colab": {
          "base_uri": "https://localhost:8080/",
          "height": 238
        },
        "outputId": "f3c30695-ce0f-4644-e5cf-29f9f38609bf"
      },
      "outputs": [
        {
          "output_type": "execute_result",
          "data": {
            "text/html": [
              "\n",
              "  <div id=\"df-0479c660-9440-4bb2-b27b-76196cacbc2a\">\n",
              "    <div class=\"colab-df-container\">\n",
              "      <div>\n",
              "<style scoped>\n",
              "    .dataframe tbody tr th:only-of-type {\n",
              "        vertical-align: middle;\n",
              "    }\n",
              "\n",
              "    .dataframe tbody tr th {\n",
              "        vertical-align: top;\n",
              "    }\n",
              "\n",
              "    .dataframe thead th {\n",
              "        text-align: right;\n",
              "    }\n",
              "</style>\n",
              "<table border=\"1\" class=\"dataframe\">\n",
              "  <thead>\n",
              "    <tr style=\"text-align: right;\">\n",
              "      <th></th>\n",
              "      <th>height</th>\n",
              "      <th>mass</th>\n",
              "      <th>birth_year</th>\n",
              "      <th>gender</th>\n",
              "      <th>homeworld</th>\n",
              "      <th>IMC</th>\n",
              "      <th>Tramos_IMC</th>\n",
              "      <th>Tramo_edad</th>\n",
              "      <th>Ratio_IMC</th>\n",
              "    </tr>\n",
              "    <tr>\n",
              "      <th>name</th>\n",
              "      <th></th>\n",
              "      <th></th>\n",
              "      <th></th>\n",
              "      <th></th>\n",
              "      <th></th>\n",
              "      <th></th>\n",
              "      <th></th>\n",
              "      <th></th>\n",
              "      <th></th>\n",
              "    </tr>\n",
              "  </thead>\n",
              "  <tbody>\n",
              "    <tr>\n",
              "      <th>Luke Skywalker</th>\n",
              "      <td>172.0</td>\n",
              "      <td>77.0</td>\n",
              "      <td>19.0</td>\n",
              "      <td>male</td>\n",
              "      <td>http://swapi.dev/api/planets/1/</td>\n",
              "      <td>26.027582</td>\n",
              "      <td>Sobrepeso</td>\n",
              "      <td>(7.999, 29.0]</td>\n",
              "      <td>1.022508</td>\n",
              "    </tr>\n",
              "    <tr>\n",
              "      <th>C-3PO</th>\n",
              "      <td>167.0</td>\n",
              "      <td>75.0</td>\n",
              "      <td>112.0</td>\n",
              "      <td>none</td>\n",
              "      <td>http://swapi.dev/api/planets/1/</td>\n",
              "      <td>26.892323</td>\n",
              "      <td>Sobrepeso</td>\n",
              "      <td>(82.0, 896.0]</td>\n",
              "      <td>1.125519</td>\n",
              "    </tr>\n",
              "    <tr>\n",
              "      <th>R2-D2</th>\n",
              "      <td>96.0</td>\n",
              "      <td>32.0</td>\n",
              "      <td>33.0</td>\n",
              "      <td>none</td>\n",
              "      <td>http://swapi.dev/api/planets/8/</td>\n",
              "      <td>34.722222</td>\n",
              "      <td>Obeso</td>\n",
              "      <td>(29.0, 41.9]</td>\n",
              "      <td>1.366115</td>\n",
              "    </tr>\n",
              "    <tr>\n",
              "      <th>Darth Vader</th>\n",
              "      <td>202.0</td>\n",
              "      <td>136.0</td>\n",
              "      <td>41.9</td>\n",
              "      <td>male</td>\n",
              "      <td>http://swapi.dev/api/planets/1/</td>\n",
              "      <td>33.330066</td>\n",
              "      <td>Obeso</td>\n",
              "      <td>(29.0, 41.9]</td>\n",
              "      <td>1.311342</td>\n",
              "    </tr>\n",
              "    <tr>\n",
              "      <th>Leia Organa</th>\n",
              "      <td>150.0</td>\n",
              "      <td>49.0</td>\n",
              "      <td>19.0</td>\n",
              "      <td>female</td>\n",
              "      <td>http://swapi.dev/api/planets/2/</td>\n",
              "      <td>21.777778</td>\n",
              "      <td>Normal</td>\n",
              "      <td>(7.999, 29.0]</td>\n",
              "      <td>0.855552</td>\n",
              "    </tr>\n",
              "  </tbody>\n",
              "</table>\n",
              "</div>\n",
              "      <button class=\"colab-df-convert\" onclick=\"convertToInteractive('df-0479c660-9440-4bb2-b27b-76196cacbc2a')\"\n",
              "              title=\"Convert this dataframe to an interactive table.\"\n",
              "              style=\"display:none;\">\n",
              "        \n",
              "  <svg xmlns=\"http://www.w3.org/2000/svg\" height=\"24px\"viewBox=\"0 0 24 24\"\n",
              "       width=\"24px\">\n",
              "    <path d=\"M0 0h24v24H0V0z\" fill=\"none\"/>\n",
              "    <path d=\"M18.56 5.44l.94 2.06.94-2.06 2.06-.94-2.06-.94-.94-2.06-.94 2.06-2.06.94zm-11 1L8.5 8.5l.94-2.06 2.06-.94-2.06-.94L8.5 2.5l-.94 2.06-2.06.94zm10 10l.94 2.06.94-2.06 2.06-.94-2.06-.94-.94-2.06-.94 2.06-2.06.94z\"/><path d=\"M17.41 7.96l-1.37-1.37c-.4-.4-.92-.59-1.43-.59-.52 0-1.04.2-1.43.59L10.3 9.45l-7.72 7.72c-.78.78-.78 2.05 0 2.83L4 21.41c.39.39.9.59 1.41.59.51 0 1.02-.2 1.41-.59l7.78-7.78 2.81-2.81c.8-.78.8-2.07 0-2.86zM5.41 20L4 18.59l7.72-7.72 1.47 1.35L5.41 20z\"/>\n",
              "  </svg>\n",
              "      </button>\n",
              "      \n",
              "  <style>\n",
              "    .colab-df-container {\n",
              "      display:flex;\n",
              "      flex-wrap:wrap;\n",
              "      gap: 12px;\n",
              "    }\n",
              "\n",
              "    .colab-df-convert {\n",
              "      background-color: #E8F0FE;\n",
              "      border: none;\n",
              "      border-radius: 50%;\n",
              "      cursor: pointer;\n",
              "      display: none;\n",
              "      fill: #1967D2;\n",
              "      height: 32px;\n",
              "      padding: 0 0 0 0;\n",
              "      width: 32px;\n",
              "    }\n",
              "\n",
              "    .colab-df-convert:hover {\n",
              "      background-color: #E2EBFA;\n",
              "      box-shadow: 0px 1px 2px rgba(60, 64, 67, 0.3), 0px 1px 3px 1px rgba(60, 64, 67, 0.15);\n",
              "      fill: #174EA6;\n",
              "    }\n",
              "\n",
              "    [theme=dark] .colab-df-convert {\n",
              "      background-color: #3B4455;\n",
              "      fill: #D2E3FC;\n",
              "    }\n",
              "\n",
              "    [theme=dark] .colab-df-convert:hover {\n",
              "      background-color: #434B5C;\n",
              "      box-shadow: 0px 1px 3px 1px rgba(0, 0, 0, 0.15);\n",
              "      filter: drop-shadow(0px 1px 2px rgba(0, 0, 0, 0.3));\n",
              "      fill: #FFFFFF;\n",
              "    }\n",
              "  </style>\n",
              "\n",
              "      <script>\n",
              "        const buttonEl =\n",
              "          document.querySelector('#df-0479c660-9440-4bb2-b27b-76196cacbc2a button.colab-df-convert');\n",
              "        buttonEl.style.display =\n",
              "          google.colab.kernel.accessAllowed ? 'block' : 'none';\n",
              "\n",
              "        async function convertToInteractive(key) {\n",
              "          const element = document.querySelector('#df-0479c660-9440-4bb2-b27b-76196cacbc2a');\n",
              "          const dataTable =\n",
              "            await google.colab.kernel.invokeFunction('convertToInteractive',\n",
              "                                                     [key], {});\n",
              "          if (!dataTable) return;\n",
              "\n",
              "          const docLinkHtml = 'Like what you see? Visit the ' +\n",
              "            '<a target=\"_blank\" href=https://colab.research.google.com/notebooks/data_table.ipynb>data table notebook</a>'\n",
              "            + ' to learn more about interactive tables.';\n",
              "          element.innerHTML = '';\n",
              "          dataTable['output_type'] = 'display_data';\n",
              "          await google.colab.output.renderOutput(dataTable, element);\n",
              "          const docLink = document.createElement('div');\n",
              "          docLink.innerHTML = docLinkHtml;\n",
              "          element.appendChild(docLink);\n",
              "        }\n",
              "      </script>\n",
              "    </div>\n",
              "  </div>\n",
              "  "
            ],
            "text/plain": [
              "                height   mass  birth_year  ... Tramos_IMC     Tramo_edad  Ratio_IMC\n",
              "name                                       ...                                     \n",
              "Luke Skywalker   172.0   77.0        19.0  ...  Sobrepeso  (7.999, 29.0]   1.022508\n",
              "C-3PO            167.0   75.0       112.0  ...  Sobrepeso  (82.0, 896.0]   1.125519\n",
              "R2-D2             96.0   32.0        33.0  ...      Obeso   (29.0, 41.9]   1.366115\n",
              "Darth Vader      202.0  136.0        41.9  ...      Obeso   (29.0, 41.9]   1.311342\n",
              "Leia Organa      150.0   49.0        19.0  ...     Normal  (7.999, 29.0]   0.855552\n",
              "\n",
              "[5 rows x 9 columns]"
            ]
          },
          "metadata": {},
          "execution_count": 15
        }
      ],
      "source": [
        "# Solución:\n",
        "def mediana(x):\n",
        "  x['Ratio_IMC'] = x['IMC']/np.nanmedian(x['IMC'])\n",
        "  return x\n",
        "\n",
        "people_df = people_df.groupby([\"Tramo_edad\"]).apply(mediana)\n",
        "\n",
        "people_df.head(5)"
      ]
    },
    {
      "cell_type": "code",
      "source": [
        "# Boxplot de la nueva variable\n",
        "people_df.boxplot(column=['Ratio_IMC'], grid = False, figsize=(10,6), fontsize=15)\n",
        "plt.title(\"Boxplot de Ratio de IMC de personajes de StarWars\")\n",
        "plt.show()\n"
      ],
      "metadata": {
        "colab": {
          "base_uri": "https://localhost:8080/",
          "height": 399
        },
        "id": "Xn6lspJ1Kb7a",
        "outputId": "e3c2520f-52f2-4267-c6ba-dc3029c186eb"
      },
      "execution_count": 16,
      "outputs": [
        {
          "output_type": "display_data",
          "data": {
            "image/png": "[encoded data removed]",
            "text/plain": [
              "<Figure size 720x432 with 1 Axes>"
            ]
          },
          "metadata": {}
        }
      ]
    },
    {
      "cell_type": "markdown",
      "metadata": {
        "id": "mkK-wUxCgjrg"
      },
      "source": [
        "## Ejercicio 2.9.\n",
        "\n",
        "¿Cual es planeta con un menor índice IMC medio de sus personajes?\n",
        "¿Que personaje/s son de ese planeta?"
      ]
    },
    {
      "cell_type": "code",
      "execution_count": 18,
      "metadata": {
        "id": "WsgelSYigjrh",
        "colab": {
          "base_uri": "https://localhost:8080/",
          "height": 388
        },
        "outputId": "b14c3f8e-79bb-4625-a3fa-3003918f33ad"
      },
      "outputs": [
        {
          "output_type": "execute_result",
          "data": {
            "text/html": [
              "\n",
              "  <div id=\"df-bd0cd40a-33c7-4ef0-9a31-bbcac6829c15\">\n",
              "    <div class=\"colab-df-container\">\n",
              "      <div>\n",
              "<style scoped>\n",
              "    .dataframe tbody tr th:only-of-type {\n",
              "        vertical-align: middle;\n",
              "    }\n",
              "\n",
              "    .dataframe tbody tr th {\n",
              "        vertical-align: top;\n",
              "    }\n",
              "\n",
              "    .dataframe thead th {\n",
              "        text-align: right;\n",
              "    }\n",
              "</style>\n",
              "<table border=\"1\" class=\"dataframe\">\n",
              "  <thead>\n",
              "    <tr style=\"text-align: right;\">\n",
              "      <th></th>\n",
              "      <th>name_x</th>\n",
              "      <th>height</th>\n",
              "      <th>mass</th>\n",
              "      <th>birth_year</th>\n",
              "      <th>gender</th>\n",
              "      <th>homeworld</th>\n",
              "      <th>IMC</th>\n",
              "      <th>Tramos_IMC</th>\n",
              "      <th>Tramo_edad</th>\n",
              "      <th>Ratio_IMC</th>\n",
              "      <th>name_y</th>\n",
              "      <th>orbital_period</th>\n",
              "      <th>url</th>\n",
              "    </tr>\n",
              "    <tr>\n",
              "      <th>name_x</th>\n",
              "      <th></th>\n",
              "      <th></th>\n",
              "      <th></th>\n",
              "      <th></th>\n",
              "      <th></th>\n",
              "      <th></th>\n",
              "      <th></th>\n",
              "      <th></th>\n",
              "      <th></th>\n",
              "      <th></th>\n",
              "      <th></th>\n",
              "      <th></th>\n",
              "      <th></th>\n",
              "    </tr>\n",
              "  </thead>\n",
              "  <tbody>\n",
              "    <tr>\n",
              "      <th>Luke Skywalker</th>\n",
              "      <td>Luke Skywalker</td>\n",
              "      <td>172.0</td>\n",
              "      <td>77.0</td>\n",
              "      <td>19.0</td>\n",
              "      <td>male</td>\n",
              "      <td>http://swapi.dev/api/planets/1/</td>\n",
              "      <td>26.027582</td>\n",
              "      <td>Sobrepeso</td>\n",
              "      <td>(7.999, 29.0]</td>\n",
              "      <td>1.022508</td>\n",
              "      <td>Tatooine</td>\n",
              "      <td>304.0</td>\n",
              "      <td>http://swapi.dev/api/planets/1/</td>\n",
              "    </tr>\n",
              "    <tr>\n",
              "      <th>C-3PO</th>\n",
              "      <td>C-3PO</td>\n",
              "      <td>167.0</td>\n",
              "      <td>75.0</td>\n",
              "      <td>112.0</td>\n",
              "      <td>none</td>\n",
              "      <td>http://swapi.dev/api/planets/1/</td>\n",
              "      <td>26.892323</td>\n",
              "      <td>Sobrepeso</td>\n",
              "      <td>(82.0, 896.0]</td>\n",
              "      <td>1.125519</td>\n",
              "      <td>Tatooine</td>\n",
              "      <td>304.0</td>\n",
              "      <td>http://swapi.dev/api/planets/1/</td>\n",
              "    </tr>\n",
              "    <tr>\n",
              "      <th>Darth Vader</th>\n",
              "      <td>Darth Vader</td>\n",
              "      <td>202.0</td>\n",
              "      <td>136.0</td>\n",
              "      <td>41.9</td>\n",
              "      <td>male</td>\n",
              "      <td>http://swapi.dev/api/planets/1/</td>\n",
              "      <td>33.330066</td>\n",
              "      <td>Obeso</td>\n",
              "      <td>(29.0, 41.9]</td>\n",
              "      <td>1.311342</td>\n",
              "      <td>Tatooine</td>\n",
              "      <td>304.0</td>\n",
              "      <td>http://swapi.dev/api/planets/1/</td>\n",
              "    </tr>\n",
              "    <tr>\n",
              "      <th>Owen Lars</th>\n",
              "      <td>Owen Lars</td>\n",
              "      <td>178.0</td>\n",
              "      <td>120.0</td>\n",
              "      <td>52.0</td>\n",
              "      <td>male</td>\n",
              "      <td>http://swapi.dev/api/planets/1/</td>\n",
              "      <td>37.874006</td>\n",
              "      <td>Obeso</td>\n",
              "      <td>(41.9, 52.0]</td>\n",
              "      <td>1.799920</td>\n",
              "      <td>Tatooine</td>\n",
              "      <td>304.0</td>\n",
              "      <td>http://swapi.dev/api/planets/1/</td>\n",
              "    </tr>\n",
              "    <tr>\n",
              "      <th>Beru Whitesun lars</th>\n",
              "      <td>Beru Whitesun lars</td>\n",
              "      <td>165.0</td>\n",
              "      <td>75.0</td>\n",
              "      <td>47.0</td>\n",
              "      <td>female</td>\n",
              "      <td>http://swapi.dev/api/planets/1/</td>\n",
              "      <td>27.548209</td>\n",
              "      <td>Sobrepeso</td>\n",
              "      <td>(41.9, 52.0]</td>\n",
              "      <td>1.309198</td>\n",
              "      <td>Tatooine</td>\n",
              "      <td>304.0</td>\n",
              "      <td>http://swapi.dev/api/planets/1/</td>\n",
              "    </tr>\n",
              "  </tbody>\n",
              "</table>\n",
              "</div>\n",
              "      <button class=\"colab-df-convert\" onclick=\"convertToInteractive('df-bd0cd40a-33c7-4ef0-9a31-bbcac6829c15')\"\n",
              "              title=\"Convert this dataframe to an interactive table.\"\n",
              "              style=\"display:none;\">\n",
              "        \n",
              "  <svg xmlns=\"http://www.w3.org/2000/svg\" height=\"24px\"viewBox=\"0 0 24 24\"\n",
              "       width=\"24px\">\n",
              "    <path d=\"M0 0h24v24H0V0z\" fill=\"none\"/>\n",
              "    <path d=\"M18.56 5.44l.94 2.06.94-2.06 2.06-.94-2.06-.94-.94-2.06-.94 2.06-2.06.94zm-11 1L8.5 8.5l.94-2.06 2.06-.94-2.06-.94L8.5 2.5l-.94 2.06-2.06.94zm10 10l.94 2.06.94-2.06 2.06-.94-2.06-.94-.94-2.06-.94 2.06-2.06.94z\"/><path d=\"M17.41 7.96l-1.37-1.37c-.4-.4-.92-.59-1.43-.59-.52 0-1.04.2-1.43.59L10.3 9.45l-7.72 7.72c-.78.78-.78 2.05 0 2.83L4 21.41c.39.39.9.59 1.41.59.51 0 1.02-.2 1.41-.59l7.78-7.78 2.81-2.81c.8-.78.8-2.07 0-2.86zM5.41 20L4 18.59l7.72-7.72 1.47 1.35L5.41 20z\"/>\n",
              "  </svg>\n",
              "      </button>\n",
              "      \n",
              "  <style>\n",
              "    .colab-df-container {\n",
              "      display:flex;\n",
              "      flex-wrap:wrap;\n",
              "      gap: 12px;\n",
              "    }\n",
              "\n",
              "    .colab-df-convert {\n",
              "      background-color: #E8F0FE;\n",
              "      border: none;\n",
              "      border-radius: 50%;\n",
              "      cursor: pointer;\n",
              "      display: none;\n",
              "      fill: #1967D2;\n",
              "      height: 32px;\n",
              "      padding: 0 0 0 0;\n",
              "      width: 32px;\n",
              "    }\n",
              "\n",
              "    .colab-df-convert:hover {\n",
              "      background-color: #E2EBFA;\n",
              "      box-shadow: 0px 1px 2px rgba(60, 64, 67, 0.3), 0px 1px 3px 1px rgba(60, 64, 67, 0.15);\n",
              "      fill: #174EA6;\n",
              "    }\n",
              "\n",
              "    [theme=dark] .colab-df-convert {\n",
              "      background-color: #3B4455;\n",
              "      fill: #D2E3FC;\n",
              "    }\n",
              "\n",
              "    [theme=dark] .colab-df-convert:hover {\n",
              "      background-color: #434B5C;\n",
              "      box-shadow: 0px 1px 3px 1px rgba(0, 0, 0, 0.15);\n",
              "      filter: drop-shadow(0px 1px 2px rgba(0, 0, 0, 0.3));\n",
              "      fill: #FFFFFF;\n",
              "    }\n",
              "  </style>\n",
              "\n",
              "      <script>\n",
              "        const buttonEl =\n",
              "          document.querySelector('#df-bd0cd40a-33c7-4ef0-9a31-bbcac6829c15 button.colab-df-convert');\n",
              "        buttonEl.style.display =\n",
              "          google.colab.kernel.accessAllowed ? 'block' : 'none';\n",
              "\n",
              "        async function convertToInteractive(key) {\n",
              "          const element = document.querySelector('#df-bd0cd40a-33c7-4ef0-9a31-bbcac6829c15');\n",
              "          const dataTable =\n",
              "            await google.colab.kernel.invokeFunction('convertToInteractive',\n",
              "                                                     [key], {});\n",
              "          if (!dataTable) return;\n",
              "\n",
              "          const docLinkHtml = 'Like what you see? Visit the ' +\n",
              "            '<a target=\"_blank\" href=https://colab.research.google.com/notebooks/data_table.ipynb>data table notebook</a>'\n",
              "            + ' to learn more about interactive tables.';\n",
              "          element.innerHTML = '';\n",
              "          dataTable['output_type'] = 'display_data';\n",
              "          await google.colab.output.renderOutput(dataTable, element);\n",
              "          const docLink = document.createElement('div');\n",
              "          docLink.innerHTML = docLinkHtml;\n",
              "          element.appendChild(docLink);\n",
              "        }\n",
              "      </script>\n",
              "    </div>\n",
              "  </div>\n",
              "  "
            ],
            "text/plain": [
              "                                name_x  ...                              url\n",
              "name_x                                  ...                                 \n",
              "Luke Skywalker          Luke Skywalker  ...  http://swapi.dev/api/planets/1/\n",
              "C-3PO                            C-3PO  ...  http://swapi.dev/api/planets/1/\n",
              "Darth Vader                Darth Vader  ...  http://swapi.dev/api/planets/1/\n",
              "Owen Lars                    Owen Lars  ...  http://swapi.dev/api/planets/1/\n",
              "Beru Whitesun lars  Beru Whitesun lars  ...  http://swapi.dev/api/planets/1/\n",
              "\n",
              "[5 rows x 13 columns]"
            ]
          },
          "metadata": {},
          "execution_count": 18
        }
      ],
      "source": [
        "# Solución:\n",
        "# Uniendo los datasets\n",
        "planetas = pd.merge(people_df.reset_index(), \n",
        "                         planets_df.reset_index(), left_on=[\"homeworld\"], right_on=[\"url\"])\n",
        "planetas.index= planetas.name_x \n",
        "planetas.head(5)"
      ]
    },
    {
      "cell_type": "code",
      "source": [
        "# Agrupando el dataset por nombre del personaje e IMC\n",
        "planetas_2 = planetas.groupby([\"name_y\"])[[\"IMC\"]].mean()\n",
        "# Ordenando la variable IMC en forma ascendente \n",
        "planetas_2.IMC.sort_values(ascending=True)"
      ],
      "metadata": {
        "colab": {
          "base_uri": "https://localhost:8080/"
        },
        "id": "ti2r-GZMmBbz",
        "outputId": "4418234e-b4eb-4ea4-e8ab-0ef4667a3d06"
      },
      "execution_count": 19,
      "outputs": [
        {
          "output_type": "execute_result",
          "data": {
            "text/plain": [
              "name_y\n",
              "Ryloth         17.358919\n",
              "Cerea          20.916233\n",
              "Kashyyyk       21.545091\n",
              "Alderaan       21.777778\n",
              "Dorin          22.634676\n",
              "Naboo          22.750601\n",
              "Kamino         23.350951\n",
              "Haruun Kal     23.766410\n",
              "Rodia          24.725183\n",
              "Socorro        25.216253\n",
              "Mon Cala       25.617284\n",
              "Corellia       25.667478\n",
              "Bespin         25.795918\n",
              "Endor          25.826446\n",
              "Dathomir       26.122449\n",
              "Tatooine       28.645923\n",
              "Trandosha      31.301939\n",
              "unknown        32.639963\n",
              "Nal Hutta     443.428571\n",
              "Name: IMC, dtype: float64"
            ]
          },
          "metadata": {},
          "execution_count": 19
        }
      ]
    },
    {
      "cell_type": "code",
      "source": [
        "# Obteniendo el nombre del personaje\n",
        "planetas.name_x[planetas.name_y == \"Ryloth\"]"
      ],
      "metadata": {
        "colab": {
          "base_uri": "https://localhost:8080/"
        },
        "id": "PIOW9tOPm1DG",
        "outputId": "1ea71cbc-5d98-4f81-f5ab-3389196ea234"
      },
      "execution_count": 20,
      "outputs": [
        {
          "output_type": "execute_result",
          "data": {
            "text/plain": [
              "name_x\n",
              "Ayla Secura    Ayla Secura\n",
              "Name: name_x, dtype: object"
            ]
          },
          "metadata": {},
          "execution_count": 20
        }
      ]
    },
    {
      "cell_type": "markdown",
      "source": [
        "### Análisis\n",
        "Se puede observar que el planeta que tiene el IMC medio más bajo corresponde al planeta Ryloth y el único personaje que es de ese planeta es Ayla Secura."
      ],
      "metadata": {
        "id": "ZuQuJI4qgrRY"
      }
    },
    {
      "cell_type": "markdown",
      "metadata": {
        "id": "7tWxDDGmgjrn"
      },
      "source": [
        "## Ejercicio 2.10.\n",
        "\n",
        "Convierte a datetime los siguientes strings con la función [datetime.strptime()](https://docs.python.org/3/library/datetime.html#strftime-strptime-behavior) (consulta la ayuda si es necesario) de la libreria datetime:\n",
        "\n",
        "- \"1 january, 2020\"\n",
        "- \"15-feb.-2017\"\n",
        "- \"20190701 22:30\"  # 1 de julio de 2019\n",
        "\n"
      ]
    },
    {
      "cell_type": "code",
      "execution_count": 21,
      "metadata": {
        "id": "ajD2V-K3gjrp",
        "colab": {
          "base_uri": "https://localhost:8080/"
        },
        "outputId": "430ecd19-1168-48cc-ef98-bfba64ef0167"
      },
      "outputs": [
        {
          "output_type": "stream",
          "name": "stdout",
          "text": [
            "2020-01-01 00:00:00\n"
          ]
        }
      ],
      "source": [
        "# Solución:\n",
        "# 1) \"1 january, 2020\"\n",
        "\n",
        "date_string = \"1 january, 2020\"\n",
        "date_object = datetime.strptime(date_string, \"%d %B, %Y\")\n",
        "print(date_object)"
      ]
    },
    {
      "cell_type": "code",
      "source": [
        "# 2) \"15-feb.-2017\"\n",
        "\n",
        "date_string_2 = \"15-feb.-2017\"\n",
        "date_object_2 = datetime.strptime(date_string_2, \"%d-%b.-%Y\")\n",
        "print(date_object_2)"
      ],
      "metadata": {
        "colab": {
          "base_uri": "https://localhost:8080/"
        },
        "id": "ddj63B_-HsfO",
        "outputId": "93228a38-0e3c-483e-db58-f04ebcebba56"
      },
      "execution_count": 26,
      "outputs": [
        {
          "output_type": "stream",
          "name": "stdout",
          "text": [
            "2017-02-15 00:00:00\n"
          ]
        }
      ]
    },
    {
      "cell_type": "code",
      "source": [
        "# 3) \"20190701 22:30\" # 1 de julio de 2019\n",
        "\n",
        "date_string_3 = pd.to_datetime(\"20190701 22:30\")\n",
        "date_string_3 = date_string_3.strftime(\"%d de %B de %Y\")\n",
        "print(date_string_3)"
      ],
      "metadata": {
        "colab": {
          "base_uri": "https://localhost:8080/"
        },
        "id": "-vEjpAH8IoGE",
        "outputId": "69dd2ead-4f33-4e1b-83d2-5442847408cb"
      },
      "execution_count": 28,
      "outputs": [
        {
          "output_type": "stream",
          "name": "stdout",
          "text": [
            "01 de July de 2019\n"
          ]
        }
      ]
    }
  ],
  "metadata": {
    "colab": {
      "name": "M1_B2_AI_Python_II.ipynb",
      "provenance": [],
      "collapsed_sections": []
    },
    "kernelspec": {
      "display_name": "mbdds_rpy20",
      "language": "python",
      "name": "mbdds_rpy20"
    },
    "language_info": {
      "codemirror_mode": {
        "name": "ipython",
        "version": 3
      },
      "file_extension": ".py",
      "mimetype": "text/x-python",
      "name": "python",
      "nbconvert_exporter": "python",
      "pygments_lexer": "ipython3",
      "version": "3.6.9"
    }
  },
  "nbformat": 4,
  "nbformat_minor": 0
}