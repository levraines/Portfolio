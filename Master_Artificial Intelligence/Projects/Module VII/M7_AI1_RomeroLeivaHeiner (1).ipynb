{
  "cells": [
    {
      "cell_type": "code",
      "execution_count": null,
      "metadata": {
        "id": "L_WB6FBFik9S"
      },
      "outputs": [],
      "source": [
        "# Importación de las bibliotecas\n",
        "import pandas as pd\n",
        "import numpy as np\n",
        "import matplotlib.pyplot as plt\n",
        "import seaborn as sns\n",
        "import tensorflow as tf\n",
        "from sklearn.svm import SVC\n",
        "from sklearn.model_selection import train_test_split\n",
        "from sklearn.metrics import classification_report, confusion_matrix\n",
        "from sklearn import metrics\n",
        "from sklearn.model_selection import cross_val_score\n",
        "from sklearn.model_selection import GridSearchCV\n",
        "import warnings\n",
        "warnings.filterwarnings(\"ignore\", category=FutureWarning)\n",
        "\n",
        "sns.set()"
      ]
    },
    {
      "cell_type": "markdown",
      "metadata": {
        "id": "1C3TEbOX-c8A"
      },
      "source": [
        "#### **Lectura de los datos desde TensorFlow - MNIST**"
      ]
    },
    {
      "cell_type": "code",
      "execution_count": null,
      "metadata": {
        "id": "Xr5vTiUNfUaR"
      },
      "outputs": [],
      "source": [
        "# Construcción de las variables de entrada y salida\n",
        "(x_train, y_train), (x_test, y_test) = tf.keras.datasets.mnist.load_data()"
      ]
    },
    {
      "cell_type": "code",
      "execution_count": null,
      "metadata": {
        "colab": {
          "base_uri": "https://localhost:8080/"
        },
        "id": "4ut0I2DvgP_h",
        "outputId": "cb7462dc-1cd8-4a10-848e-5b8974902119"
      },
      "outputs": [
        {
          "name": "stdout",
          "output_type": "stream",
          "text": [
            "(60000, 28, 28)\n",
            "(10000, 28, 28)\n",
            "(60000,)\n",
            "(10000,)\n"
          ]
        }
      ],
      "source": [
        "# Imprimiendo los resultados\n",
        "print (x_train.shape)\n",
        "print (x_test.shape)\n",
        "print (y_train.shape)\n",
        "print (y_test.shape)"
      ]
    },
    {
      "cell_type": "markdown",
      "metadata": {
        "id": "Bjo7wZmWswVb"
      },
      "source": [
        "#### **Aplicando las conversiones necesarias para pasar de 3d-array a 2d-array**"
      ]
    },
    {
      "cell_type": "code",
      "execution_count": null,
      "metadata": {
        "id": "5mq9LWRQWs4J"
      },
      "outputs": [],
      "source": [
        "# Creando separacion de los datos\n",
        "x_train = x_train.reshape(60000, -1)\n",
        "x_test = x_test.reshape(10000, -1)\n",
        "\n",
        "n_train = 20000\n",
        "\n",
        "x_train1 = x_train[0:n_train]\n",
        "y_train1 = y_train[0:n_train]"
      ]
    },
    {
      "cell_type": "code",
      "execution_count": null,
      "metadata": {
        "colab": {
          "base_uri": "https://localhost:8080/"
        },
        "id": "uiWdpvUz1u9h",
        "outputId": "37f160c7-18b8-4773-f28a-1e80fb5f65cf"
      },
      "outputs": [
        {
          "name": "stdout",
          "output_type": "stream",
          "text": [
            "(60000, 784)\n",
            "(10000, 784)\n",
            "(20000, 784)\n",
            "(20000,)\n"
          ]
        }
      ],
      "source": [
        "# Imprimiendo los resultados obtenidos\n",
        "print (x_train.shape)\n",
        "print (x_test.shape)\n",
        "print (x_train1.shape)\n",
        "print (y_train1.shape)"
      ]
    },
    {
      "cell_type": "markdown",
      "metadata": {
        "id": "nbFIM2GatEyi"
      },
      "source": [
        "#### **Creación del primer modelo con Kernel Gaussiano**\n",
        "\n",
        "Para este primer ejemplo vamos a utilizar la biblioteca GridSearch, la que nos va a ayudar a determinar cuáles son los mejores parámetros a utilizar en el hipertuneo, así podremos garantizar que nuestro algoritmo utilizará los mejores parámetros posibles. \n",
        "\n",
        "Al ser un proceso computacional costoso, vamos a hacerlo con solo aquellos paramétros que son más populares como: kernel, gamma, probability, C, y max_iter; ya que sino nuestro modelo tardará bastante tiempo ejecutándose. \n",
        "\n",
        "Por otro lado, se va a utilizar un cross validation de 3 para que se ejecute relativamente rápido, además se va a seguir la indicación de la tarea y para este kernel se utilzará un gamma \"scale\" y un probability \"False\" para acelerar el proceso de computo. "
      ]
    },
    {
      "cell_type": "code",
      "execution_count": null,
      "metadata": {
        "id": "2bTM63zzyn2h"
      },
      "outputs": [],
      "source": [
        "# Creando el modelo con Support Vector Machine\n",
        "supportvm = SVC(random_state=0)"
      ]
    },
    {
      "cell_type": "code",
      "execution_count": null,
      "metadata": {
        "id": "GpYERfmIoBak"
      },
      "outputs": [],
      "source": [
        "# Creando estimador de parametros\n",
        "param_grid = { \n",
        "    'kernel': ['rbf'],\n",
        "    'gamma': ['scale'],\n",
        "    'probability': [False],\n",
        "    'C': [1, 10, 100, 500],\n",
        "    'max_iter' :[1, 10, 100, 150]\n",
        "}"
      ]
    },
    {
      "cell_type": "code",
      "execution_count": null,
      "metadata": {
        "colab": {
          "base_uri": "https://localhost:8080/"
        },
        "id": "4N_l_7gboExt",
        "outputId": "1ee58859-20af-4e7b-f324-bf29e944c50c"
      },
      "outputs": [
        {
          "data": {
            "text/plain": [
              "GridSearchCV(cv=3, estimator=SVC(random_state=0),\n",
              "             param_grid={'C': [1, 10, 100, 500], 'gamma': ['scale'],\n",
              "                         'kernel': ['rbf'], 'max_iter': [1, 10, 100, 150],\n",
              "                         'probability': [False]})"
            ]
          },
          "execution_count": 8,
          "metadata": {},
          "output_type": "execute_result"
        }
      ],
      "source": [
        "# Realizando Cross Validation con 3 y probando parametros\n",
        "warnings.filterwarnings('ignore', 'Solver terminated early.*')\n",
        "CV_svc = GridSearchCV(estimator=supportvm, param_grid=param_grid, cv= 3)\n",
        "CV_svc.fit(x_train1, y_train1)"
      ]
    },
    {
      "cell_type": "code",
      "execution_count": null,
      "metadata": {
        "colab": {
          "base_uri": "https://localhost:8080/"
        },
        "id": "Mg3EXeIYoE0u",
        "outputId": "74ba56a6-e0f2-43a3-de4e-52e55da8743f"
      },
      "outputs": [
        {
          "data": {
            "text/plain": [
              "{'C': 10,\n",
              " 'gamma': 'scale',\n",
              " 'kernel': 'rbf',\n",
              " 'max_iter': 150,\n",
              " 'probability': False}"
            ]
          },
          "execution_count": 9,
          "metadata": {},
          "output_type": "execute_result"
        }
      ],
      "source": [
        "# Comprobando cuales son los mejores parametros a utilizar\n",
        "CV_svc.best_params_"
      ]
    },
    {
      "cell_type": "code",
      "execution_count": null,
      "metadata": {
        "id": "hX-mcpquoE5N"
      },
      "outputs": [],
      "source": [
        "# Creando modelo con los mejores parametros identificados \n",
        "SVC_model1 = SVC(C = 10, gamma = 'scale', kernel = 'rbf', max_iter= 150, probability = False)"
      ]
    },
    {
      "cell_type": "code",
      "execution_count": null,
      "metadata": {
        "colab": {
          "base_uri": "https://localhost:8080/"
        },
        "id": "Z3Bqk98blR1p",
        "outputId": "39ae9c59-e77a-41e8-9d3e-72b274e90fa9"
      },
      "outputs": [
        {
          "data": {
            "text/plain": [
              "SVC(C=10, max_iter=150)"
            ]
          },
          "execution_count": 17,
          "metadata": {},
          "output_type": "execute_result"
        }
      ],
      "source": [
        "# Ingestando los datos necesarios de training\n",
        "SVC_model1.fit(x_train1, y_train1)"
      ]
    },
    {
      "cell_type": "code",
      "execution_count": null,
      "metadata": {
        "id": "bi9yYEqsxFyy"
      },
      "outputs": [],
      "source": [
        "# Prediciendo el valor del digito en el subset de testing\n",
        "predicted = SVC_model1.predict(x_test)"
      ]
    },
    {
      "cell_type": "code",
      "execution_count": null,
      "metadata": {
        "colab": {
          "base_uri": "https://localhost:8080/",
          "height": 118
        },
        "id": "1noyYfIz22JD",
        "outputId": "ab52a25c-0419-44b3-9c75-41b7759efb4a"
      },
      "outputs": [
        {
          "data": {
            "image/png": "[encoded data removed]",
            "text/plain": [
              "<Figure size 1080x1080 with 10 Axes>"
            ]
          },
          "metadata": {},
          "output_type": "display_data"
        }
      ],
      "source": [
        "# Creando función que retorne los valores predichos versus los valores reales\n",
        "_, axes = plt.subplots(nrows=1, ncols=10, figsize=(15, 15))\n",
        "for ax, image, label in zip(axes, x_test, predicted):\n",
        "    ax.set_axis_off()\n",
        "    image = image.reshape(28, 28)\n",
        "    ax.imshow(image, cmap=plt.cm.gray_r, interpolation='nearest')\n",
        "    ax.set_title('Etiqueta: %i' % label)"
      ]
    },
    {
      "cell_type": "markdown",
      "metadata": {
        "id": "o_JSNzBytnxK"
      },
      "source": [
        "**Análisis:** se puede observar como utilizando la cantidad total de las 10000 imágenes del testing y utilizado el hipertuneo con GridSearch para entrenar el modelo, con un max_iter=150, random_state=0, C=10, gamma = 'scale', kernel = 'rbf', probability = False, se obtienen resultados bastante buenos, ya que se puede apreciar como de 10 predicciones en la imagen; el algoritmo logró acertar en 9 de ellas, es decir, solo un fallo. "
      ]
    },
    {
      "cell_type": "code",
      "execution_count": null,
      "metadata": {
        "colab": {
          "base_uri": "https://localhost:8080/"
        },
        "id": "NsXAorAuow_g",
        "outputId": "05ec8795-3749-4f40-b5e5-881d3f7f9b9f"
      },
      "outputs": [
        {
          "name": "stdout",
          "output_type": "stream",
          "text": [
            "Classification report for classifier SVC(C=10, max_iter=150):\n",
            "              precision    recall  f1-score   support\n",
            "\n",
            "           0       0.98      0.99      0.98       980\n",
            "           1       0.98      0.99      0.99      1135\n",
            "           2       0.97      0.97      0.97      1032\n",
            "           3       0.96      0.98      0.97      1010\n",
            "           4       0.97      0.98      0.97       982\n",
            "           5       0.98      0.95      0.96       892\n",
            "           6       0.98      0.98      0.98       958\n",
            "           7       0.96      0.96      0.96      1028\n",
            "           8       0.97      0.97      0.97       974\n",
            "           9       0.98      0.94      0.96      1009\n",
            "\n",
            "    accuracy                           0.97     10000\n",
            "   macro avg       0.97      0.97      0.97     10000\n",
            "weighted avg       0.97      0.97      0.97     10000\n",
            "\n",
            "\n"
          ]
        }
      ],
      "source": [
        "# Imprimiendo resultados para ver el accuracy, precision y recall\n",
        "print(\n",
        "    f\"Classification report for classifier {SVC_model1}:\\n\"\n",
        "    f\"{metrics.classification_report(y_test, predicted)}\\n\"\n",
        ")"
      ]
    },
    {
      "cell_type": "markdown",
      "metadata": {
        "id": "RXvSlJEYujAw"
      },
      "source": [
        "**Análisis:** gracias al resumen que se nos muestra podemos ver que la predicción a nivel de precisión, que recordemos que nos responde la siguiente pregunta: ¿qué porcentaje del dígito que identifiquemos estará realmente correcto? (es decir, mide la calidad del modelo). En este caso podemos ver que el dígito que tiene el score más alto es el dígito 0, 1, 5, 6 y 9, con un 98% de acierto, es decir, el 98% de las veces el algoritmo será capaz de idenficar los números mencionados, por ende nunca se equivocará un 2% de las veces, mientras que las más bajas es 3 y 7 con un 96%, es decir, se equivocará en un 4% de las veces, aunque los resultados en general son bastante buenos. \n",
        "\n",
        "\n",
        "A nivel del recall (esta nos informa sobre la cantidad que el modelo es capaz de identificar) que recordemos que este responde a la pregunta: ¿qué porcentaje del dígito correcto somos capaces de identificar? Podemos ver que el mayor es el dígito 0 y 1 con un 99%, es decir, se equivocará en un 1% de las veces, mientras que el más bajo es el dígito 9 con un 94%, es decir para el dígito 9 conlleva una mayor cantidad de FN que el algoritmo predice incorrectamente (error tipo II). \n",
        "\n",
        "Finalmente podemos ver como el F1 que, recordemos que hace más fácil el poder comparar el rendimiento combinado de la precisión y la exhaustividad entre varias soluciones, obtenemos que el que tiene mayores problemas idenficando es el dígito 9 con un 96%, mientras que el que idenfica de forma bastante aceptable es con el dígito 1 con un 99%, los demás se mantienen en un rango mayor a 97%."
      ]
    },
    {
      "cell_type": "code",
      "execution_count": null,
      "metadata": {
        "colab": {
          "base_uri": "https://localhost:8080/",
          "height": 848
        },
        "id": "y-_Nw2Y_z1TF",
        "outputId": "7a1293ef-ae35-4cb2-8542-6433d0699d8c"
      },
      "outputs": [
        {
          "name": "stdout",
          "output_type": "stream",
          "text": [
            "Confusion matrix:\n",
            "\n"
          ]
        },
        {
          "data": {
            "image/png": "[encoded data removed]",
            "text/plain": [
              "<Figure size 720x720 with 2 Axes>"
            ]
          },
          "metadata": {},
          "output_type": "display_data"
        },
        {
          "name": "stdout",
          "output_type": "stream",
          "text": [
            "\n",
            "\n",
            "Confusion matrix:\n",
            "[[ 970    0    2    1    0    3    2    1    1    0]\n",
            " [   0 1128    3    1    0    1    2    0    0    0]\n",
            " [   4    1 1005    1    2    1    2    9    7    0]\n",
            " [   0    0    7  985    1    6    0    3    5    3]\n",
            " [   1    0    4    0  961    0    4    4    2    6]\n",
            " [   5    1    1   16    2  851    7    0    7    2]\n",
            " [   5    3    0    1    2    5  940    0    2    0]\n",
            " [   0   13   11    2    3    0    0  991    0    8]\n",
            " [   3    1    3   12    2    4    1    3  944    1]\n",
            " [   3    2    2   12   17    1    0   18    4  950]]\n"
          ]
        }
      ],
      "source": [
        "# Creando visualizacion de la matriz de confusion\n",
        "print(f\"Confusion matrix:\\n\")\n",
        "fig, ax = plt.subplots(figsize=(10, 10))\n",
        "metrics.plot_confusion_matrix(SVC_model1, x_test, y_test, cmap=plt.cm.viridis, ax=ax)\n",
        "plt.show()\n",
        "\n",
        "print(\"\\n\")\n",
        "\n",
        "print(f\"Confusion matrix:\\n{confusion_matrix(y_test, predicted)}\")"
      ]
    },
    {
      "cell_type": "markdown",
      "metadata": {
        "id": "UvFx7ogF0kHP"
      },
      "source": [
        "**Análisis:** podemos observar de forma rápida que el dígito 1 es en el que suceden la mayor cantidad de aciertos (tal y como indicamos en el punto anterior) seguido del 0, mientras que las predicciones más pobres son realizadas por el número 9."
      ]
    },
    {
      "cell_type": "markdown",
      "metadata": {
        "id": "eNjSsYBJ1GOy"
      },
      "source": [
        "#### **Creación del segundo modelo con Kernel Lineal**"
      ]
    },
    {
      "cell_type": "code",
      "execution_count": null,
      "metadata": {
        "id": "8Fc9-bfF6g_s"
      },
      "outputs": [],
      "source": [
        "# Creando el modelo con Support Vector Machine\n",
        "supportvm2 = SVC(random_state=0)"
      ]
    },
    {
      "cell_type": "code",
      "execution_count": null,
      "metadata": {
        "id": "MmnIe6PK7yD7"
      },
      "outputs": [],
      "source": [
        "# Creando estimador de parametros\n",
        "param_grid = { \n",
        "    'kernel': ['linear'],\n",
        "    'gamma': ['scale', 'auto'],\n",
        "    'probability': [False, True],\n",
        "    'C': [1, 10, 100, 500],\n",
        "    'max_iter' :[1, 10, 100, 150]\n",
        "}"
      ]
    },
    {
      "cell_type": "code",
      "execution_count": null,
      "metadata": {
        "colab": {
          "base_uri": "https://localhost:8080/"
        },
        "id": "729_fcnly2M5",
        "outputId": "b687c650-a14f-444f-9539-2b7570c79bf7"
      },
      "outputs": [
        {
          "data": {
            "text/plain": [
              "GridSearchCV(cv=3, estimator=SVC(random_state=0),\n",
              "             param_grid={'C': [1, 10, 100, 500], 'gamma': ['scale', 'auto'],\n",
              "                         'kernel': ['linear'], 'max_iter': [1, 10, 100, 150],\n",
              "                         'probability': [False, True]})"
            ]
          },
          "execution_count": 25,
          "metadata": {},
          "output_type": "execute_result"
        }
      ],
      "source": [
        "# Realizando Cross Validation con 3 y probando parametros\n",
        "warnings.filterwarnings('ignore', 'Solver terminated early.*')\n",
        "CV_svc = GridSearchCV(estimator=supportvm2, param_grid=param_grid, cv= 3)\n",
        "CV_svc.fit(x_train1, y_train1)"
      ]
    },
    {
      "cell_type": "code",
      "execution_count": null,
      "metadata": {
        "colab": {
          "base_uri": "https://localhost:8080/"
        },
        "id": "njXttID3y3Gn",
        "outputId": "095eb69a-c8b6-4e40-c032-3090d986b548"
      },
      "outputs": [
        {
          "data": {
            "text/plain": [
              "{'C': 1,\n",
              " 'gamma': 'scale',\n",
              " 'kernel': 'linear',\n",
              " 'max_iter': 150,\n",
              " 'probability': False}"
            ]
          },
          "execution_count": 26,
          "metadata": {},
          "output_type": "execute_result"
        }
      ],
      "source": [
        "# Comprobando cuales son los mejores parametros a utilizar\n",
        "CV_svc.best_params_"
      ]
    },
    {
      "cell_type": "code",
      "execution_count": null,
      "metadata": {
        "id": "NT25frbjy3Jr"
      },
      "outputs": [],
      "source": [
        "# Creando modelo con los mejores parametros identificados \n",
        "SVC_model2 = SVC(C = 1, gamma = 'scale', kernel = 'linear', max_iter= 150, probability = False)"
      ]
    },
    {
      "cell_type": "code",
      "execution_count": null,
      "metadata": {
        "colab": {
          "base_uri": "https://localhost:8080/"
        },
        "id": "ZJ5cChT7y3MN",
        "outputId": "9991f619-8cdc-43a8-bb1b-c53eaae0c049"
      },
      "outputs": [
        {
          "data": {
            "text/plain": [
              "SVC(C=1, kernel='linear', max_iter=150)"
            ]
          },
          "execution_count": 28,
          "metadata": {},
          "output_type": "execute_result"
        }
      ],
      "source": [
        "# Ingestando los datos necesarios de training\n",
        "SVC_model2.fit(x_train1, y_train1)"
      ]
    },
    {
      "cell_type": "code",
      "execution_count": null,
      "metadata": {
        "id": "92ufc9QF72am"
      },
      "outputs": [],
      "source": [
        "# Prediciendo el valor del digito en el subset de testing\n",
        "predicted = SVC_model2.predict(x_test)"
      ]
    },
    {
      "cell_type": "code",
      "execution_count": null,
      "metadata": {
        "colab": {
          "base_uri": "https://localhost:8080/",
          "height": 118
        },
        "id": "iPEAGTvS7_UY",
        "outputId": "4c4dbcc1-eb7a-41d8-d3c0-7694ffdf252d"
      },
      "outputs": [
        {
          "data": {
            "image/png": "[encoded data removed]",
            "text/plain": [
              "<Figure size 1080x1080 with 10 Axes>"
            ]
          },
          "metadata": {},
          "output_type": "display_data"
        }
      ],
      "source": [
        "# Creando función que retorne los valores predichos versus los valores reales\n",
        "_, axes = plt.subplots(nrows=1, ncols=10, figsize=(15, 15))\n",
        "for ax, image, label in zip(axes, x_test, predicted):\n",
        "    ax.set_axis_off()\n",
        "    image = image.reshape(28, 28)\n",
        "    ax.imshow(image, cmap=plt.cm.gray_r, interpolation='nearest')\n",
        "    ax.set_title('Etiqueta: %i' % label)"
      ]
    },
    {
      "cell_type": "markdown",
      "metadata": {
        "id": "rpLWduT11kS_"
      },
      "source": [
        "**Análisis:** se puede observar como utilizando una cantidad de 10000 \"imágenes\" para entrenar el modelo, C = 1, gamma = 'scale', kernel = 'linear', max_iter= 150, probability = False, se obtienen resultados bastante buenos de igual forma, ya que el algoritmo fue capaz de identificar correctamente casi todos los dígitos y se equivocó en uno solamente."
      ]
    },
    {
      "cell_type": "code",
      "execution_count": null,
      "metadata": {
        "colab": {
          "base_uri": "https://localhost:8080/"
        },
        "id": "ZNCuy2YE8Luy",
        "outputId": "0e42f6a6-d540-4a86-9e41-f18dc95b1fe3"
      },
      "outputs": [
        {
          "name": "stdout",
          "output_type": "stream",
          "text": [
            "Classification report for classifier SVC(C=1, kernel='linear', max_iter=150):\n",
            "              precision    recall  f1-score   support\n",
            "\n",
            "           0       0.92      0.97      0.94       980\n",
            "           1       0.93      0.98      0.96      1135\n",
            "           2       0.82      0.81      0.81      1032\n",
            "           3       0.72      0.74      0.73      1010\n",
            "           4       0.80      0.90      0.85       982\n",
            "           5       0.78      0.74      0.76       892\n",
            "           6       0.95      0.95      0.95       958\n",
            "           7       0.86      0.69      0.76      1028\n",
            "           8       0.74      0.74      0.74       974\n",
            "           9       0.69      0.70      0.69      1009\n",
            "\n",
            "    accuracy                           0.82     10000\n",
            "   macro avg       0.82      0.82      0.82     10000\n",
            "weighted avg       0.82      0.82      0.82     10000\n",
            "\n",
            "\n"
          ]
        }
      ],
      "source": [
        "# Imprimiendo resultados para ver el accuracy, precision y recall\n",
        "print(\n",
        "    f\"Classification report for classifier {SVC_model2}:\\n\"\n",
        "    f\"{metrics.classification_report(y_test, predicted)}\\n\"\n",
        ")"
      ]
    },
    {
      "cell_type": "markdown",
      "metadata": {
        "id": "kWGigc1z2EJB"
      },
      "source": [
        "**Análisis:** a nivel de precisión con un testing de 10000 observaciones, podemos ver que los digitos que tienen el score más alto es el dígito 6, con un 95% de acierto, es decir, el 95% de las veces el algoritmo será capaz de idenficar el número 6, por ende se equivocará un 5% de las veces, mientras que la más baja es la de 9 con un 69%, es decir, para el algoritmo es tarea fácil identificar el 6, pero no así el 9 (tiende a cometer más error tipo I) con los demás tiene un rango aceptable de aciertos.\n",
        "\n",
        "A nivel del recall podemos ver que el mayor es el dígito 1 con un 96%, es decir, solo se equivocaría en un 4% de las veces, mientras que el más bajo es el dígito 9 con un 70%, es decir para el dígito 9 conlleva una mayor cantidad de FN que el algoritmo predice incorrectamente (error tipo II). \n",
        "\n",
        "Finalmente podemos ver como el F1 obtenemos que el que tiene mayores problemas idenficando es el dígito 9 con un 69%, mientras que el que idenfica de forma bastante buena es el 1 con un 96% respectivamente, los demás se mantienen en un rango entre 70 y 90%. "
      ]
    },
    {
      "cell_type": "code",
      "execution_count": null,
      "metadata": {
        "colab": {
          "base_uri": "https://localhost:8080/",
          "height": 848
        },
        "id": "u-5Jb1iY8SXI",
        "outputId": "79b26fca-01d7-4b5e-b798-1f08d4db3f56"
      },
      "outputs": [
        {
          "name": "stdout",
          "output_type": "stream",
          "text": [
            "Confusion matrix:\n",
            "\n"
          ]
        },
        {
          "data": {
            "image/png": "[encoded data removed]",
            "text/plain": [
              "<Figure size 720x720 with 2 Axes>"
            ]
          },
          "metadata": {},
          "output_type": "display_data"
        },
        {
          "name": "stdout",
          "output_type": "stream",
          "text": [
            "\n",
            "\n",
            "Confusion matrix:\n",
            "[[ 946    0    8    2    0   17    5    0    1    1]\n",
            " [   0 1116    3    1    0    4    2    1    7    1]\n",
            " [  13   21  833   57   14    5   12   10   66    1]\n",
            " [   8   12   45  751    4   91    1   11   81    6]\n",
            " [   2    1   16    2  880    2    7    4    3   65]\n",
            " [  15   11    9  102   11  659   10    2   69    4]\n",
            " [   9    2   17    0    7   11  906    1    5    0]\n",
            " [   3   10   26   26   15    0    0  705    0  243]\n",
            " [  18   17   60   84    8   49   11    6  717    4]\n",
            " [  10    8    2   18  156    3    0   83   19  710]]\n"
          ]
        }
      ],
      "source": [
        "# Creando visualizacion de la matriz de confusion\n",
        "print(f\"Confusion matrix:\\n\")\n",
        "fig, ax = plt.subplots(figsize=(10, 10))\n",
        "metrics.plot_confusion_matrix(SVC_model2, x_test, y_test, cmap=plt.cm.viridis, ax=ax)\n",
        "plt.show()\n",
        "\n",
        "print(\"\\n\")\n",
        "\n",
        "print(f\"Confusion matrix:\\n{confusion_matrix(y_test, predicted)}\")"
      ]
    },
    {
      "cell_type": "markdown",
      "metadata": {
        "id": "bAZ2id2m3Pn5"
      },
      "source": [
        "**Análisis:** podemos observar de forma rápida que el dígito 1 es en el que suceden la mayor cantidad de aciertos (tal y como indicamos en el punto anterior), mientras que las predicciones más pobres son realizadas por el número 9. Estos resultados distan de los obtenidos con el kernel gaussiano, ya que, pero se nota que en este modelo hay una mayor oportunidad de mejora, así que podemos afirmar que de los dos modelos el que utilizamos con el kernel \"RBF\" es el que genera los mejores resultados. "
      ]
    },
    {
      "cell_type": "markdown",
      "metadata": {
        "id": "F49GEs_NX7xx"
      },
      "source": [
        "#### **Lectura de los datos desde TensorFlow - Fashion-MNIST**"
      ]
    },
    {
      "cell_type": "code",
      "execution_count": null,
      "metadata": {
        "id": "hU1xn2HCXab9"
      },
      "outputs": [],
      "source": [
        "# Construcción de las variables de entrada y salida\n",
        "(x_train, y_train), (x_test, y_test) = tf.keras.datasets.fashion_mnist.load_data()"
      ]
    },
    {
      "cell_type": "code",
      "execution_count": null,
      "metadata": {
        "colab": {
          "base_uri": "https://localhost:8080/"
        },
        "id": "xpz41XguXaeS",
        "outputId": "1736a5ef-02fa-4f42-f25f-e56113bfab56"
      },
      "outputs": [
        {
          "output_type": "stream",
          "name": "stdout",
          "text": [
            "(60000, 28, 28)\n",
            "(10000, 28, 28)\n",
            "(60000,)\n",
            "(10000,)\n"
          ]
        }
      ],
      "source": [
        "# Imprimiendo los resultados\n",
        "print (x_train.shape)\n",
        "print (x_test.shape)\n",
        "print (y_train.shape)\n",
        "print (y_test.shape)"
      ]
    },
    {
      "cell_type": "markdown",
      "metadata": {
        "id": "aVbWaeZ1YfF6"
      },
      "source": [
        "#### **Aplicando las conversiones necesarias para pasar de 3d-array a 2d-array**"
      ]
    },
    {
      "cell_type": "code",
      "execution_count": null,
      "metadata": {
        "id": "0a2KXPh-Xagw"
      },
      "outputs": [],
      "source": [
        "# Creando separacion de los datos\n",
        "x_train = x_train.reshape(60000, -1)\n",
        "x_test = x_test.reshape(10000, -1)\n",
        "\n",
        "n_train = 20000\n",
        "\n",
        "x_train1 = x_train[0:n_train]\n",
        "y_train1 = y_train[0:n_train]"
      ]
    },
    {
      "cell_type": "code",
      "execution_count": null,
      "metadata": {
        "colab": {
          "base_uri": "https://localhost:8080/"
        },
        "id": "H9RzUdzTXajF",
        "outputId": "29c0e61f-778d-40eb-8b01-22ae8e1ca388"
      },
      "outputs": [
        {
          "output_type": "stream",
          "name": "stdout",
          "text": [
            "(60000, 784)\n",
            "(10000, 784)\n",
            "(20000, 784)\n",
            "(20000,)\n"
          ]
        }
      ],
      "source": [
        "# Imprimiendo los resultados obtenidos\n",
        "print (x_train.shape)\n",
        "print (x_test.shape)\n",
        "print (x_train1.shape)\n",
        "print (y_train1.shape)"
      ]
    },
    {
      "cell_type": "markdown",
      "metadata": {
        "id": "GQt7Aty3avui"
      },
      "source": [
        "#### **Creación del primer modelo con Kernel Gaussiano**\n",
        "\n",
        "Para este primer ejemplo vamos a utilizar la biblioteca GridSearch, la que nos va a ayudar a determinar cuáles son los mejores parámetros a utilizar en el hipertuneo, así podremos garantizar que nuestro algoritmo utilizará los mejores parámetros posibles. \n",
        "\n",
        "Al ser un proceso computacional costoso, vamos a hacerlo con solo aquellos paramétros que son más populares como: kernel, gamma, probability, C, y max_iter; ya que sino nuestro modelo tardará bastante tiempo ejecutándose. \n",
        "\n",
        "Por otro lado, se va a utilizar un cross validation de 3 para que se ejecute relativamente rápido, además se va a seguir la indicación de la tarea y para este kernel se utilzará un gamma \"scale\" y un probability \"False\" para acelerar el proceso de computo. "
      ]
    },
    {
      "cell_type": "code",
      "execution_count": null,
      "metadata": {
        "id": "q8fcb4BxavTB"
      },
      "outputs": [],
      "source": [
        "# Creando el modelo con Support Vector Machine\n",
        "supportvm_modelo1 = SVC(random_state=0)"
      ]
    },
    {
      "cell_type": "code",
      "execution_count": null,
      "metadata": {
        "id": "hiXSpNs0apGT"
      },
      "outputs": [],
      "source": [
        "# Creando estimador de parametros\n",
        "param_grid = { \n",
        "    'kernel': ['rbf'],\n",
        "    'gamma': ['scale'],\n",
        "    'probability': [False],\n",
        "    'C': [1, 10, 100, 500],\n",
        "    'max_iter' :[1, 10, 100, 150]\n",
        "}"
      ]
    },
    {
      "cell_type": "code",
      "execution_count": null,
      "metadata": {
        "colab": {
          "base_uri": "https://localhost:8080/"
        },
        "id": "Qp070xs7apIz",
        "outputId": "f531e4d5-3a22-48dc-e825-c755527dbdbb"
      },
      "outputs": [
        {
          "output_type": "execute_result",
          "data": {
            "text/plain": [
              "GridSearchCV(cv=3, estimator=SVC(random_state=0),\n",
              "             param_grid={'C': [1, 10, 100, 500], 'gamma': ['scale'],\n",
              "                         'kernel': ['rbf'], 'max_iter': [1, 10, 100, 150],\n",
              "                         'probability': [False]})"
            ]
          },
          "metadata": {},
          "execution_count": 60
        }
      ],
      "source": [
        "# Realizando Cross Validation con 3 y probando parametros\n",
        "warnings.filterwarnings('ignore', 'Solver terminated early.*')\n",
        "CV_svc = GridSearchCV(estimator=supportvm_modelo1, param_grid=param_grid, cv= 3)\n",
        "CV_svc.fit(x_train1, y_train1)"
      ]
    },
    {
      "cell_type": "code",
      "execution_count": null,
      "metadata": {
        "colab": {
          "base_uri": "https://localhost:8080/"
        },
        "id": "y1K1f4fFd2wv",
        "outputId": "1a37615b-5cda-4567-f94f-4ba1231a911b"
      },
      "outputs": [
        {
          "output_type": "execute_result",
          "data": {
            "text/plain": [
              "{'C': 10,\n",
              " 'gamma': 'scale',\n",
              " 'kernel': 'rbf',\n",
              " 'max_iter': 150,\n",
              " 'probability': False}"
            ]
          },
          "metadata": {},
          "execution_count": 61
        }
      ],
      "source": [
        "# Comprobando cuales son los mejores parametros a utilizar\n",
        "CV_svc.best_params_"
      ]
    },
    {
      "cell_type": "code",
      "execution_count": null,
      "metadata": {
        "id": "yHPnOL8-apLJ"
      },
      "outputs": [],
      "source": [
        "# Creando modelo con los mejores parametros identificados \n",
        "SVC_model_3 = SVC(C = 10, gamma = 'scale', kernel = 'rbf', max_iter= 150, probability = False)"
      ]
    },
    {
      "cell_type": "code",
      "execution_count": null,
      "metadata": {
        "colab": {
          "base_uri": "https://localhost:8080/"
        },
        "id": "uqk5k2qiapNa",
        "outputId": "f55de0c0-c013-46b6-bd88-61681f86e1f0"
      },
      "outputs": [
        {
          "output_type": "execute_result",
          "data": {
            "text/plain": [
              "SVC(C=10, max_iter=150)"
            ]
          },
          "metadata": {},
          "execution_count": 63
        }
      ],
      "source": [
        "# Ingestando los datos necesarios de training\n",
        "SVC_model_3.fit(x_train1, y_train1)"
      ]
    },
    {
      "cell_type": "code",
      "execution_count": null,
      "metadata": {
        "id": "mzpoS5khapPk"
      },
      "outputs": [],
      "source": [
        "# Prediciendo el valor del digito en el subset de testing\n",
        "predicted = SVC_model_3.predict(x_test)"
      ]
    },
    {
      "cell_type": "code",
      "execution_count": null,
      "metadata": {
        "colab": {
          "base_uri": "https://localhost:8080/",
          "height": 142
        },
        "id": "susS1EgWapRe",
        "outputId": "7d98664c-7a88-4e13-fbce-4d1100227c1c"
      },
      "outputs": [
        {
          "output_type": "display_data",
          "data": {
            "text/plain": [
              "<Figure size 1296x1296 with 9 Axes>"
            ],
            "image/png": "[encoded data removed]"
          },
          "metadata": {
            "needs_background": "light"
          }
        }
      ],
      "source": [
        "_, axes = plt.subplots(nrows=1, ncols=9, figsize=(18, 18))\n",
        "for ax, image, prediction, real in zip(axes, x_test, predicted, y_test):\n",
        "    ax.set_axis_off()\n",
        "    image = image.reshape(28, 28)\n",
        "    ax.imshow(image, cmap=plt.cm.gray_r, interpolation='nearest')\n",
        "    ax.set_title(f'Pred: {prediction}, Real:{real}')"
      ]
    },
    {
      "cell_type": "markdown",
      "metadata": {
        "id": "GtftgKrZePeM"
      },
      "source": [
        "**Análisis:** se puede observar como utilizando una cantidad de 10000 \"imágenes\" para testing y C = 10, gamma = 'scale', kernel = 'rbf', max_iter= 150, probability = False, se obtienen resultados bastante buenos, ya que el algoritmo fue capaz de identificar correctamente casi todos los items de ropa y se equivocó en uno solamente, en este caso el algoritmo confundió una sudadera con una camisa de manga larga. "
      ]
    },
    {
      "cell_type": "code",
      "execution_count": null,
      "metadata": {
        "colab": {
          "base_uri": "https://localhost:8080/"
        },
        "id": "fV57cAAueF35",
        "outputId": "a47e167d-2369-42ed-96a3-af2aee234752"
      },
      "outputs": [
        {
          "output_type": "stream",
          "name": "stdout",
          "text": [
            "Classification report for classifier SVC(C=10, max_iter=150):\n",
            "              precision    recall  f1-score   support\n",
            "\n",
            "           0       0.66      0.73      0.69      1000\n",
            "           1       0.98      0.97      0.97      1000\n",
            "           2       0.56      0.69      0.62      1000\n",
            "           3       0.83      0.84      0.84      1000\n",
            "           4       0.67      0.54      0.59      1000\n",
            "           5       0.90      0.95      0.92      1000\n",
            "           6       0.48      0.39      0.43      1000\n",
            "           7       0.92      0.92      0.92      1000\n",
            "           8       0.97      0.97      0.97      1000\n",
            "           9       0.95      0.91      0.93      1000\n",
            "\n",
            "    accuracy                           0.79     10000\n",
            "   macro avg       0.79      0.79      0.79     10000\n",
            "weighted avg       0.79      0.79      0.79     10000\n",
            "\n",
            "\n"
          ]
        }
      ],
      "source": [
        "# Imprimiendo resultados para ver el accuracy, precision y recall\n",
        "print(\n",
        "    f\"Classification report for classifier {SVC_model_3}:\\n\"\n",
        "    f\"{metrics.classification_report(y_test, predicted)}\\n\"\n",
        ")"
      ]
    },
    {
      "cell_type": "markdown",
      "metadata": {
        "id": "Zwq6l0RqelSa"
      },
      "source": [
        "**Análisis:** a nivel de precisión con testing de 10000, podemos ver que las imágenes que tienen el score más alto es la imagen con la etiqueta 1 (pantalón)con un 98% de acierto, es decir, el 98% de las veces el algoritmo será capaz de idenficar el pantalón, por ende se equivocará un 2% de las veces, mientras que la más baja es la de imagen con la etiqueta 6 (camisa/camiseta) con un 48%, es decir, para el algoritmo es tarea fácil identificar un pantalón, pero no así una camiseta/camisa (tiende a cometer más error tipo I) con los demás tiene un rango aceptable de aciertos.\n",
        "\n",
        "A nivel del recall podemos ver que el mayor es el pantalon con un 97%, es decir, solo se equivocaría en un 3% de las veces, mientras que el más bajo es la camiseta/camisa con un 39%, es decir para el algoritmo identificar una camiseta/camisa conlleva una mayor cantidad de FN que el algoritmo predice incorrectamente (error tipo II). \n",
        "\n",
        "Finalmente podemos ver como el F1 obtenemos que el que tiene mayores problemas idenficando es la camisa de manga larga con un 43%, mientras que el que idenfica de forma bastante buena es el pantalón con un 97% respectivamente, los demás se mantienen en un rango entre 50 y 90%. "
      ]
    },
    {
      "cell_type": "code",
      "execution_count": null,
      "metadata": {
        "colab": {
          "base_uri": "https://localhost:8080/",
          "height": 848
        },
        "id": "I2HEqe-IeGDd",
        "outputId": "44157009-7667-4c6f-f0f3-1076c0782456"
      },
      "outputs": [
        {
          "output_type": "stream",
          "name": "stdout",
          "text": [
            "Confusion matrix:\n",
            "\n"
          ]
        },
        {
          "output_type": "display_data",
          "data": {
            "text/plain": [
              "<Figure size 720x720 with 2 Axes>"
            ],
            "image/png": "[encoded data removed]"
          },
          "metadata": {
            "needs_background": "light"
          }
        },
        {
          "output_type": "stream",
          "name": "stdout",
          "text": [
            "\n",
            "\n",
            "Confusion matrix:\n",
            "[[732   0  15  35   5   2 202   0   9   0]\n",
            " [  7 968   0  21   2   0   2   0   0   0]\n",
            " [ 36   3 693  17 128   0 120   0   3   0]\n",
            " [ 74  13  30 842  27   0  11   0   3   0]\n",
            " [ 14   2 308  49 536   0  89   0   2   0]\n",
            " [  0   0   0   1   0 946   0  40   2  11]\n",
            " [243   3 197  49 104   0 393   0  11   0]\n",
            " [  0   0   0   0   0  48   0 918   0  34]\n",
            " [ 11   0   3   2   3   2   2   4 973   0]\n",
            " [  0   0   1   0   0  51   0  40   0 908]]\n"
          ]
        }
      ],
      "source": [
        "# Creando visualizacion de la matriz de confusion\n",
        "print(f\"Confusion matrix:\\n\")\n",
        "fig, ax = plt.subplots(figsize=(10, 10))\n",
        "metrics.plot_confusion_matrix(SVC_model_3, x_test, y_test, cmap=plt.cm.viridis, ax=ax)\n",
        "plt.show()\n",
        "\n",
        "print(\"\\n\")\n",
        "\n",
        "print(f\"Confusion matrix:\\n{confusion_matrix(y_test, predicted)}\")"
      ]
    },
    {
      "cell_type": "markdown",
      "metadata": {
        "id": "DxzOiE01gINX"
      },
      "source": [
        "**Análisis:** podemos observar de forma rápida que la etiqueta 1 (pantalón) es en el que suceden la mayor cantidad de aciertos (tal y como indicamos en el punto anterior), mientras que las predicciones más pobres son realizadas por la etiqueta 6 (camisa/camiseta)."
      ]
    },
    {
      "cell_type": "code",
      "execution_count": null,
      "metadata": {
        "id": "RXQzYkHEeGHQ"
      },
      "outputs": [],
      "source": [
        "# Creando el modelo con Support Vector Machine\n",
        "supportvm3 = SVC(random_state=0)"
      ]
    },
    {
      "cell_type": "code",
      "execution_count": null,
      "metadata": {
        "id": "h0qQbqBngn2m"
      },
      "outputs": [],
      "source": [
        "# Creando estimador de parametros\n",
        "param_grid = { \n",
        "    'kernel': ['linear'],\n",
        "    'gamma': ['scale', 'auto'],\n",
        "    'probability': [False, True],\n",
        "    'C': [1, 10, 100, 500],\n",
        "    'max_iter' :[1, 10, 100, 150]\n",
        "}"
      ]
    },
    {
      "cell_type": "code",
      "execution_count": null,
      "metadata": {
        "colab": {
          "base_uri": "https://localhost:8080/"
        },
        "id": "qGZ6NM-ggn5O",
        "outputId": "74ae673d-fda1-489d-ba45-3a599fd17395"
      },
      "outputs": [
        {
          "output_type": "execute_result",
          "data": {
            "text/plain": [
              "GridSearchCV(cv=3, estimator=SVC(random_state=0),\n",
              "             param_grid={'C': [1, 10, 100, 500], 'gamma': ['scale', 'auto'],\n",
              "                         'kernel': ['linear'], 'max_iter': [1, 10, 100, 150],\n",
              "                         'probability': [False, True]})"
            ]
          },
          "metadata": {},
          "execution_count": 70
        }
      ],
      "source": [
        "# Realizando Cross Validation con 3 y probando parametros\n",
        "warnings.filterwarnings('ignore', 'Solver terminated early.*')\n",
        "CV_svc = GridSearchCV(estimator=supportvm3, param_grid=param_grid, cv= 3)\n",
        "CV_svc.fit(x_train1, y_train1)"
      ]
    },
    {
      "cell_type": "code",
      "execution_count": null,
      "metadata": {
        "id": "8WQGD_Ohgn7s",
        "colab": {
          "base_uri": "https://localhost:8080/"
        },
        "outputId": "b9daa8c5-1919-4690-a42b-ab467ca78f17"
      },
      "outputs": [
        {
          "output_type": "execute_result",
          "data": {
            "text/plain": [
              "{'C': 1,\n",
              " 'gamma': 'scale',\n",
              " 'kernel': 'linear',\n",
              " 'max_iter': 150,\n",
              " 'probability': False}"
            ]
          },
          "metadata": {},
          "execution_count": 71
        }
      ],
      "source": [
        "# Comprobando cuales son los mejores parametros a utilizar\n",
        "CV_svc.best_params_"
      ]
    },
    {
      "cell_type": "code",
      "source": [
        "# Creando modelo con los mejores parametros identificados \n",
        "SVC_model_4 = SVC(C = 1, gamma = 'scale', kernel = 'linear', max_iter= 150, probability = False)"
      ],
      "metadata": {
        "id": "wrCztRnzw_AL"
      },
      "execution_count": null,
      "outputs": []
    },
    {
      "cell_type": "code",
      "source": [
        "# Ingestando los datos necesarios de training\n",
        "SVC_model_4.fit(x_train1, y_train1)"
      ],
      "metadata": {
        "colab": {
          "base_uri": "https://localhost:8080/"
        },
        "id": "XoHwvRv0w_EI",
        "outputId": "b89e951a-dd6a-4c52-a3cc-206b1b627d66"
      },
      "execution_count": null,
      "outputs": [
        {
          "output_type": "execute_result",
          "data": {
            "text/plain": [
              "SVC(C=1, kernel='linear', max_iter=150)"
            ]
          },
          "metadata": {},
          "execution_count": 73
        }
      ]
    },
    {
      "cell_type": "code",
      "source": [
        "# Prediciendo el valor del digito en el subset de testing\n",
        "predicted = SVC_model_4.predict(x_test)"
      ],
      "metadata": {
        "id": "Znddj4iiw_Gu"
      },
      "execution_count": null,
      "outputs": []
    },
    {
      "cell_type": "code",
      "source": [
        "_, axes = plt.subplots(nrows=1, ncols=9, figsize=(18, 18))\n",
        "for ax, image, prediction, real in zip(axes, x_test, predicted, y_test):\n",
        "    ax.set_axis_off()\n",
        "    image = image.reshape(28, 28)\n",
        "    ax.imshow(image, cmap=plt.cm.gray_r, interpolation='nearest')\n",
        "    ax.set_title(f'Pred: {prediction}, Real:{real}')"
      ],
      "metadata": {
        "colab": {
          "base_uri": "https://localhost:8080/",
          "height": 142
        },
        "id": "BXNxzhM16V-y",
        "outputId": "7601fde0-16f1-41dd-fe0c-ff7593827864"
      },
      "execution_count": null,
      "outputs": [
        {
          "output_type": "display_data",
          "data": {
            "text/plain": [
              "<Figure size 1296x1296 with 9 Axes>"
            ],
            "image/png": "[encoded data removed]"
          },
          "metadata": {
            "needs_background": "light"
          }
        }
      ]
    },
    {
      "cell_type": "markdown",
      "source": [
        "**Análisis:** se puede observar como utilizando una cantidad de 10000 \"imágenes\" para testing y C = 1, gamma = 'scale', kernel = 'linear', max_iter= 150, probability = False, se obtienen resultados bastante buenos, ya que el algoritmo fue capaz de identificar correctamente casi todos los items de ropa y se equivocó en uno solamente, en este caso el algoritmo confundió una sudadera con una camisa de manga larga. "
      ],
      "metadata": {
        "id": "ATuNZ3Q4rN14"
      }
    },
    {
      "cell_type": "code",
      "source": [
        "# Imprimiendo resultados para ver el accuracy, precision y recall\n",
        "print(\n",
        "    f\"Classification report for classifier {SVC_model_4}:\\n\"\n",
        "    f\"{metrics.classification_report(y_test, predicted)}\\n\"\n",
        ")"
      ],
      "metadata": {
        "colab": {
          "base_uri": "https://localhost:8080/"
        },
        "id": "2dubeqn36WDJ",
        "outputId": "84ccc03e-fd65-4bd8-85a6-3714596eb1f4"
      },
      "execution_count": null,
      "outputs": [
        {
          "output_type": "stream",
          "name": "stdout",
          "text": [
            "Classification report for classifier SVC(C=1, kernel='linear', max_iter=150):\n",
            "              precision    recall  f1-score   support\n",
            "\n",
            "           0       0.66      0.73      0.69      1000\n",
            "           1       0.98      0.97      0.97      1000\n",
            "           2       0.56      0.69      0.62      1000\n",
            "           3       0.83      0.84      0.84      1000\n",
            "           4       0.67      0.54      0.59      1000\n",
            "           5       0.90      0.95      0.92      1000\n",
            "           6       0.48      0.39      0.43      1000\n",
            "           7       0.92      0.92      0.92      1000\n",
            "           8       0.97      0.97      0.97      1000\n",
            "           9       0.95      0.91      0.93      1000\n",
            "\n",
            "    accuracy                           0.79     10000\n",
            "   macro avg       0.79      0.79      0.79     10000\n",
            "weighted avg       0.79      0.79      0.79     10000\n",
            "\n",
            "\n"
          ]
        }
      ]
    },
    {
      "cell_type": "markdown",
      "source": [
        "**Análisis:** a nivel de precisión con testing de 10000 observaciones, podemos ver que las imágenes que tienen el score más alto es la imagen con la etiqueta 1 (pantalón)con un 98% de acierto, es decir, el 98% de las veces el algoritmo será capaz de idenficar el pantalón, por ende se equivocará un 2% de las veces, mientras que la más baja es la de imagen con la etiqueta 6 (camisa/camiseta) con un 48%, es decir, para el algoritmo es tarea fácil identificar un pantalón, pero no así una camiseta/camisa (tiende a cometer más error tipo I) con los demás tiene un rango aceptable de aciertos.\n",
        "\n",
        "A nivel del recall podemos ver que el mayor es el pantalon con un 97%, es decir, solo se equivocaría en un 3% de las veces, mientras que el más bajo es la camiseta/camisa con un 39%, es decir para el algoritmo identificar una camiseta/camisa conlleva una mayor cantidad de FN que el algoritmo predice incorrectamente (error tipo II). \n",
        "\n",
        "Finalmente podemos ver como el F1 obtenemos que el que tiene mayores problemas idenficando es la camisa de manga larga con un 43%, mientras que el que idenfica de forma bastante buena es el pantalón con un 97% respectivamente.\n",
        "\n",
        "Los resultados obtenidos en este segundo modelo no distan de los obtenidos con el kernel \"RBF\", entonces se puede utilizar uno u otro, aunque a nivel de tiempo para compilar el modelo el que da los mejores resultados es el modelo con el kernel \"RBF\" ya que tardó cerca de 23 minutos, mientras que el modelo con el Kernel \"linear\" tardó casi 1 hora y 40 minutos. "
      ],
      "metadata": {
        "id": "RYxz1fn6rbjW"
      }
    },
    {
      "cell_type": "code",
      "source": [
        "# Creando visualizacion de la matriz de confusion\n",
        "print(f\"Confusion matrix:\\n\")\n",
        "fig, ax = plt.subplots(figsize=(10, 10))\n",
        "metrics.plot_confusion_matrix(SVC_model_4, x_test, y_test, cmap=plt.cm.viridis, ax=ax)\n",
        "plt.show()\n",
        "\n",
        "print(\"\\n\")\n",
        "\n",
        "print(f\"Confusion matrix:\\n{confusion_matrix(y_test, predicted)}\")"
      ],
      "metadata": {
        "colab": {
          "base_uri": "https://localhost:8080/",
          "height": 848
        },
        "id": "mXM7d6SR6rIa",
        "outputId": "debed20f-8c0f-4918-e7fb-07a317a9b51b"
      },
      "execution_count": null,
      "outputs": [
        {
          "output_type": "stream",
          "name": "stdout",
          "text": [
            "Confusion matrix:\n",
            "\n"
          ]
        },
        {
          "output_type": "display_data",
          "data": {
            "text/plain": [
              "<Figure size 720x720 with 2 Axes>"
            ],
            "image/png": "[encoded data removed]"
          },
          "metadata": {
            "needs_background": "light"
          }
        },
        {
          "output_type": "stream",
          "name": "stdout",
          "text": [
            "\n",
            "\n",
            "Confusion matrix:\n",
            "[[732   0  15  35   5   2 202   0   9   0]\n",
            " [  7 968   0  21   2   0   2   0   0   0]\n",
            " [ 36   3 693  17 128   0 120   0   3   0]\n",
            " [ 74  13  30 842  27   0  11   0   3   0]\n",
            " [ 14   2 308  49 536   0  89   0   2   0]\n",
            " [  0   0   0   1   0 946   0  40   2  11]\n",
            " [243   3 197  49 104   0 393   0  11   0]\n",
            " [  0   0   0   0   0  48   0 918   0  34]\n",
            " [ 11   0   3   2   3   2   2   4 973   0]\n",
            " [  0   0   1   0   0  51   0  40   0 908]]\n"
          ]
        }
      ]
    },
    {
      "cell_type": "markdown",
      "source": [
        "**Análisis:** podemos observar de forma rápida que la etiqueta 1 (pantalón) es en el que suceden la mayor cantidad de aciertos (tal y como indicamos en el punto anterior), mientras que las predicciones más pobres son realizadas por la etiqueta 6 (camisa/camiseta)."
      ],
      "metadata": {
        "id": "t4vFlSTfsjha"
      }
    },
    {
      "cell_type": "markdown",
      "metadata": {
        "id": "9KmtU7K6Bh8k"
      },
      "source": [
        "**Conclusiones:** se pudo con los modelos planteados que las máquinas de Soporte Vectorial retornan buenos resultados cuando se tiene una gran cantidad de datos, pero hay que utilizar un cross validation pequeño (diferente de 1 y 2) ya que sino se puede durar demasiado tiempo entrenando el modelo. Idealmente se tendría que utilizar un cross validation de 10, pero con 5 está bien y con 3 es descente. \n",
        "\n",
        "También se puede ver que los mejores resultados son los que arroja el kernel gaussiano o RBF, ya que el lineal no es el más óptimo y a nivel computacional tarda más tiempo, esto se pudo comparar con los dos datasets usados ya en que en los dos el kernel gaussiano fue el que dio los mejores resultados y en el menor tiempo.\n",
        "\n",
        "Es importante aclarar que los resultados aquí planteados pueden mejorarse si se cuenta con un servidor dedicado con varios clústers de procesamiento en paralelo, pero dado a que solo se cuenta con el servicio gratis no fue posisble utilizar más recursos. "
      ]
    }
  ],
  "metadata": {
    "colab": {
      "collapsed_sections": [],
      "name": "M7_AI1_RomeroLeivaHeiner.ipynb",
      "provenance": []
    },
    "kernelspec": {
      "display_name": "Python 3",
      "name": "python3"
    },
    "language_info": {
      "name": "python"
    }
  },
  "nbformat": 4,
  "nbformat_minor": 0
}