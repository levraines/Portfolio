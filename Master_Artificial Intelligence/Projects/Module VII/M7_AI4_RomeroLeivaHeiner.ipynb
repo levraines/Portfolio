{
  "nbformat": 4,
  "nbformat_minor": 0,
  "metadata": {
    "colab": {
      "name": "M7_AI4_RomeroLeivaHeiner.ipynb",
      "provenance": [],
      "collapsed_sections": []
    },
    "kernelspec": {
      "name": "python3",
      "display_name": "Python 3"
    },
    "language_info": {
      "name": "python"
    },
    "accelerator": "GPU"
  },
  "cells": [
    {
      "cell_type": "markdown",
      "source": [
        "# **Tarea 4 Módulo 7**\n",
        "\n",
        "## Alumno: Heiner Romero Leiva\n",
        "\n",
        "---"
      ],
      "metadata": {
        "id": "cwkVaBoTfrOC"
      }
    },
    {
      "cell_type": "markdown",
      "metadata": {
        "id": "tgmzVhKhmJHM"
      },
      "source": [
        "# Generación de texto con una red LSTM\n",
        "En esta actividad vamos a utilizar una red recurrente LSTM para generar texto.\n",
        "\n",
        "El corpus que sirve de referencia para generar los textos se compone de obras de H.P. Lovecraft, aunque se puede utilizar cualquier otro. Como el link actualmente pide usuario y contraseña, cambio la url por el texto de Alicia en el País de las Maravillas.\n",
        "\n",
        "El interés de esta actividad es utilizar las redes **LSTM para algo distinto de una clasificación**, aunque, como se puede observar, la calidad de los textos generados es inferior a la que se consigue con otros modelos más actuales, como los transformer.\n",
        "\n",
        "**Debes completar el código en las secciones indicadas con # COMPLETAR CODIGO**"
      ]
    },
    {
      "cell_type": "markdown",
      "metadata": {
        "id": "lUGDPYoH6Vmh"
      },
      "source": [
        "## Instalación e importación de paquetes"
      ]
    },
    {
      "cell_type": "code",
      "metadata": {
        "id": "XkmvTyPxA9bp",
        "colab": {
          "base_uri": "https://localhost:8080/"
        },
        "outputId": "c62c52ea-85e9-4e76-83a3-53c40a5e68e2"
      },
      "source": [
        "!pip install progressbar2"
      ],
      "execution_count": null,
      "outputs": [
        {
          "output_type": "stream",
          "name": "stdout",
          "text": [
            "Looking in indexes: https://pypi.org/simple, https://us-python.pkg.dev/colab-wheels/public/simple/\n",
            "Requirement already satisfied: progressbar2 in /usr/local/lib/python3.7/dist-packages (3.38.0)\n",
            "Requirement already satisfied: six in /usr/local/lib/python3.7/dist-packages (from progressbar2) (1.15.0)\n",
            "Requirement already satisfied: python-utils>=2.3.0 in /usr/local/lib/python3.7/dist-packages (from progressbar2) (3.3.3)\n"
          ]
        }
      ]
    },
    {
      "cell_type": "code",
      "metadata": {
        "colab": {
          "base_uri": "https://localhost:8080/"
        },
        "id": "hg_-Lc8WBBiu",
        "outputId": "4ba606c1-f1ca-4883-b8e9-324fc60ffa44"
      },
      "source": [
        "import os\n",
        "import urllib\n",
        "import numpy as np\n",
        "import matplotlib.pyplot as plt\n",
        "from collections import Counter\n",
        "import html\n",
        "\n",
        "import nltk\n",
        "from nltk import word_tokenize\n",
        "nltk.download('punkt')\n",
        "import pickle\n",
        "import random\n",
        "import progressbar\n",
        "from tensorflow.keras import models, layers, activations, optimizers\n",
        "from tensorflow.keras.utils import to_categorical\n",
        "\n",
        "try:\n",
        "    from nltk.tokenize.moses import MosesDetokenizer\n",
        "    detokenizer = MosesDetokenizer()\n",
        "    use_moses_detokenizer = True\n",
        "except:\n",
        "    use_moses_detokenizer = False\n",
        "\n",
        "print(f\"use_moses_detokenizer={use_moses_detokenizer}\")"
      ],
      "execution_count": null,
      "outputs": [
        {
          "output_type": "stream",
          "name": "stdout",
          "text": [
            "use_moses_detokenizer=False\n"
          ]
        },
        {
          "output_type": "stream",
          "name": "stderr",
          "text": [
            "[nltk_data] Downloading package punkt to /root/nltk_data...\n",
            "[nltk_data]   Package punkt is already up-to-date!\n"
          ]
        }
      ]
    },
    {
      "cell_type": "markdown",
      "metadata": {
        "id": "-WtteF7Mu9r-"
      },
      "source": [
        "## Definición de parámetros del corpus y su preprocesado"
      ]
    },
    {
      "cell_type": "code",
      "metadata": {
        "id": "uhtm7a7aCIr_"
      },
      "source": [
        "corpus_url = \"https://www.gutenberg.org/cache/epub/11/pg11.txt\"\n",
        "corpus_path = \"lovecraft.txt\"\n",
        "preprocessed_corpus_path = \"lovecraft_preprocessed.p\"\n",
        "most_common_words_number = 10000\n"
      ],
      "execution_count": null,
      "outputs": []
    },
    {
      "cell_type": "markdown",
      "metadata": {
        "id": "kH8wS9yCvRXc"
      },
      "source": [
        "## Tranformación entre palabras e índices\n",
        "Se definen dos funciones:\n",
        "* **encode_sequence**: codifica una secuencia de palabras en una secuencia de índices\n",
        "* **decode_indices**: decodifica una secuencia de índices en la secuencia de palabras correspondiente"
      ]
    },
    {
      "cell_type": "code",
      "metadata": {
        "id": "6uqjM9GSKNxM"
      },
      "source": [
        "def encode_sequence(sequence, vocabulary):\n",
        "\n",
        "    return [vocabulary.index(element) for element in sequence if element in vocabulary]\n",
        "\n",
        "\n",
        "def decode_indices(indices, vocabulary):\n",
        "\n",
        "    decoded_tokens = [vocabulary[index] for index in indices]\n",
        "    if use_moses_detokenizer  == True:\n",
        "        return detokenizer.detokenize(decoded_tokens, return_str=True)\n",
        "    else:\n",
        "        return \" \".join(decoded_tokens)"
      ],
      "execution_count": null,
      "outputs": []
    },
    {
      "cell_type": "markdown",
      "metadata": {
        "id": "V0YFmoL9hXHi"
      },
      "source": [
        "## Descarga del corpus\n",
        "Solo se descarga si no se encuentra en local (Colab o disco)"
      ]
    },
    {
      "cell_type": "code",
      "metadata": {
        "colab": {
          "base_uri": "https://localhost:8080/"
        },
        "id": "U1NGiz_3hUru",
        "outputId": "602a23d9-317e-4d15-fcb0-c7adcfdb382d"
      },
      "source": [
        "import requests\n",
        "\n",
        "def download_corpus_if_necessary():\n",
        "\n",
        "    if not os.path.exists(corpus_path):\n",
        "       print(\"Descargamos el corpus...\")\n",
        "\n",
        "       # Descargamos el contenido\n",
        "       corpus_string = requests.get(corpus_url).content.decode('utf-8')\n",
        "\n",
        "       # Eliminamos etiquetas HTML\n",
        "       corpus_string = corpus_string.replace(\"<pre>\", \"\")\n",
        "       corpus_string = corpus_string.replace(\"</pre>\", \"\")\n",
        "\n",
        "       # Grabamos en fichero\n",
        "       corpus_file = open(corpus_path, \"w\")\n",
        "       corpus_file.write(corpus_string)\n",
        "       corpus_file.close()\n",
        "\n",
        "       print(\"El corpus se ha grabado en\", corpus_path)\n",
        "    else:\n",
        "       print(\"El corpus ya estaba grabado\")\n",
        "\n",
        "download_corpus_if_necessary()"
      ],
      "execution_count": null,
      "outputs": [
        {
          "output_type": "stream",
          "name": "stdout",
          "text": [
            "Descargamos el corpus...\n",
            "El corpus se ha grabado en lovecraft.txt\n"
          ]
        }
      ]
    },
    {
      "cell_type": "markdown",
      "metadata": {
        "id": "yd8FM41ODLCf"
      },
      "source": [
        "## Preprocesado del corpus\n",
        "Solo se preprocesa si no se ha hecho antes."
      ]
    },
    {
      "cell_type": "code",
      "metadata": {
        "colab": {
          "base_uri": "https://localhost:8080/"
        },
        "id": "ekKisSsb_fje",
        "outputId": "7219ed68-4b86-448b-9ed2-ed051ff5c0dc"
      },
      "source": [
        "def preprocess_corpus_if_necessary():\n",
        "\n",
        "    if not os.path.exists(preprocessed_corpus_path):\n",
        "        print(\"Preprocesamos el corpus...\")\n",
        "\n",
        "        corpus_file = open(corpus_path, \"r\")\n",
        "        corpus_string = corpus_file.read()\n",
        "\n",
        "        # Generación del vocabulario\n",
        "        print(\"Extraemos las palabras (tokens)...\")\n",
        "        corpus_tokens = word_tokenize(corpus_string)\n",
        "        print(\"Número de tokens:\", len(corpus_tokens))\n",
        "        print(\"Generamos el vocabulario...\")\n",
        "        word_counter = Counter()\n",
        "        word_counter.update(corpus_tokens)\n",
        "        print(\"Longitud del vocabulario antes del corte:\", len(word_counter))\n",
        "        vocabulary = [key for key, value in word_counter.most_common(most_common_words_number)]\n",
        "        print(\"Longitud del vocabulario después del corte:\", len(vocabulary))\n",
        "\n",
        "        # Conversión a índices\n",
        "        print(\"Codificamos a índices...\")\n",
        "        indices = encode_sequence(corpus_tokens, vocabulary)\n",
        "        print(\"Número de índices:\", len(indices))\n",
        "\n",
        "        # Saving.\n",
        "        print(\"Grabamos fichero de preprocesado del corpus...\")\n",
        "        pickle.dump((indices, vocabulary), open(preprocessed_corpus_path, \"wb\"))\n",
        "    else:\n",
        "        print(\"El corpus ya estaba preprocesado\")\n",
        "\n",
        "preprocess_corpus_if_necessary()"
      ],
      "execution_count": null,
      "outputs": [
        {
          "output_type": "stream",
          "name": "stdout",
          "text": [
            "Preprocesamos el corpus...\n",
            "Extraemos las palabras (tokens)...\n",
            "Número de tokens: 36924\n",
            "Generamos el vocabulario...\n",
            "Longitud del vocabulario antes del corte: 3782\n",
            "Longitud del vocabulario después del corte: 3782\n",
            "Codificamos a índices...\n",
            "Número de índices: 36924\n",
            "Grabamos fichero de preprocesado del corpus...\n"
          ]
        }
      ]
    },
    {
      "cell_type": "markdown",
      "metadata": {
        "id": "uUGvyFcb0u4s"
      },
      "source": [
        "## Generación del dataset\n",
        "Enfocamos la generación del dataset como un **aprendizaje auto-supervisado (self-supervised learning)**:\n",
        "* para generar secuencias de entrada, seleccionamos de forma aleatoria una secuencia de índices (correspondientes a palabras) del corpus\n",
        "* para asignar una etiqueta, escogemos el índice de la palabra siguiente a la secuencia de entrada"
      ]
    },
    {
      "cell_type": "code",
      "metadata": {
        "id": "z79RLSh50veq"
      },
      "source": [
        "# Parámetros de generación del dataset\n",
        "dataset_size = 50000\n",
        "sequence_length = 30 # longitud de los textos del dataset de entrenamiento\n",
        "\n",
        "def get_dataset(indices):\n",
        "\n",
        "    data_input = []\n",
        "    data_output = []\n",
        "    current_size = 0\n",
        "    bar = progressbar.ProgressBar(max_value=dataset_size)\n",
        "    while current_size < dataset_size:\n",
        "\n",
        "        # seleccionamos de forma aleatoria una secuencia de índices (correspondientes a palabras)\n",
        "        random_index = random.randint(0, len(indices) - (sequence_length + 1))\n",
        "        input_sequence = indices[random_index:random_index + sequence_length]\n",
        "        # la etiqueta de la secuencia aleatoria es el índice de la siguiente palabra\n",
        "        output_label = indices[random_index + sequence_length]\n",
        "\n",
        "        data_input.append(input_sequence)\n",
        "        data_output.append(output_label)\n",
        "\n",
        "        current_size += 1\n",
        "        bar.update(current_size)\n",
        "    bar.finish()\n",
        "\n",
        "    # Transformamos las listas a numpy arrays\n",
        "    data_input = np.array(data_input)\n",
        "    data_output = np.array(data_output)\n",
        "    return (data_input, data_output)\n"
      ],
      "execution_count": null,
      "outputs": []
    },
    {
      "cell_type": "markdown",
      "metadata": {
        "id": "hHOclEylxLOR"
      },
      "source": [
        "## Definición de la red LSTM y entrenamiento\n",
        "Solo se define y entrena si no se ha hecho antes, o si se fuerza con el parámetro train_anyway.\n",
        "\n",
        "Por último, se graba el modelo.\n",
        "\n",
        "Cabe destacar que para diseñar el modelo y sus capas, me baso en el summary que ya venía guardado en el Colab, y en lo que se solicita en la letra del ejercicio. Cualquier argumento que no viene aclarado ni en la letra ni en el summary no se incluye en la red que se va a crear. Cabe destacar que, al haber cambiado el texto a usar, los inputs y outputs de las capas cambiarán. Por ejemplo, en el embedding el input_dim (tamaño del vocabulario) será de 3782, tal como surge del preprocesado del corpus realizado anteriormente. De la misma forma, en la capa lineal, se usa también 3782 debido a que se pide que tenga tantas salidas como palabras en el vocabulario.\n",
        "\n",
        "En lo que respecta al optimizador y la learning rate, se usan los mismos de la actividad guiada del curso, es decir Adam y 0.001 respectivamente. Por el mismo motivo se usa al final una función de activación sigmoide luego de la capa lineal.\n",
        "\n",
        "No se usa un dataset de validación, ya que en el Colab proporcionado no aparecen las métricas de validació (ni val_loss ni val_categorical_accuracy). Como métrica se usa categorical_accuracy ya que es la métrica que se observa en el Colab Proporcionado.\n"
      ]
    },
    {
      "cell_type": "code",
      "metadata": {
        "colab": {
          "base_uri": "https://localhost:8080/",
          "height": 1000
        },
        "outputId": "26ad94b8-38bc-4336-e534-5b77f249ec1f",
        "id": "Sc6KO5BzvOby"
      },
      "source": [
        "# Parámetros del modelo y entrenamiento\n",
        "train_anyway = True # fuerza el entrenamiento, aunque se haya realizado antes\n",
        "epochs = 10 # número de interaciones a entrenar\n",
        "batch_size = 128 # tamaño de lote\n",
        "hidden_size = 1000 # número de nodos en la red LSTM\n",
        "model_path = \"lovecraft_model.h5\"\n",
        "\n",
        "def train_neural_network():\n",
        "\n",
        "    if not os.path.exists(model_path) or train_anyway == True:\n",
        "\n",
        "        # Carga de las palabras del corpus y sus índices\n",
        "        indices, vocabulary = pickle.load(open(preprocessed_corpus_path, \"rb\"))\n",
        "\n",
        "        # Generación del dataset\n",
        "        print(\"\\nGeneramos el dataset...\")\n",
        "        data_input, data_output = get_dataset(indices)\n",
        "        data_output = to_categorical(data_output, num_classes=len(vocabulary))\n",
        "\n",
        "        # Creación del modelo\n",
        "        print(\"Creamos el modelo...\")\n",
        "        \n",
        "        # COMPLETAR CODIGO (debes seguir las indicaciones de la actividad para generar la red LSTM) \n",
        "\n",
        "        #DEFINO EL MODELO\n",
        "        #Creo una instancia tipo models\n",
        "        model = models.Sequential()\n",
        "        #primer nivel embeddings para reducir la dimensionalida\n",
        "        model.add(layers.Embedding(len(vocabulary), hidden_size, input_length=sequence_length))\n",
        "        #LSTM\n",
        "        model.add(layers.LSTM(hidden_size))\n",
        "        #Capa lineal\n",
        "        model.add(layers.Dense(len(vocabulary)))\n",
        "        #Activación\n",
        "        model.add(layers.Activation(activations.sigmoid))\n",
        "\n",
        "        #miramos la arquitectura de la red\n",
        "        model.summary() \n",
        "\n",
        "        # Definimos el resto del modelo: optimizador, función de pérdidas y métrica\n",
        "        # COMPLETAR CODIGO\n",
        "        # Compilando el modelo\n",
        "        # Usando como optimizador Adam y una learning rate de 0.001, y categorical_crossentropy\n",
        "        model.compile(\n",
        "            optimizer= optimizers.Adam(learning_rate=0.001),\n",
        "            loss=\"categorical_crossentropy\",\n",
        "            metrics=[\"categorical_accuracy\"]\n",
        "        )\n",
        "\n",
        "        # Entrenamiento del modelo\n",
        "        print(\"Entrenamos el modelo...\")\n",
        "        # COMPLETAR CODIGO\n",
        "        history = model.fit(\n",
        "            data_input, data_output,\n",
        "            #lote de 128\n",
        "            batch_size=batch_size,\n",
        "            #10 iteraciones\n",
        "            epochs=epochs\n",
        "        )\n",
        "        \n",
        "        # Grabación del modelo\n",
        "        print(\"...y grabamos el modelo\")\n",
        "        model.save(model_path)\n",
        "\n",
        "        plot_history(history)\n",
        "        \n",
        "\n",
        "def plot_history(history):\n",
        "\n",
        "    print(history.history.keys())\n",
        "\n",
        "    # Gráfica de función de pérdida\n",
        "    plt.plot(history.history['loss'])\n",
        "    plt.title('model loss')\n",
        "    plt.ylabel('loss')\n",
        "    plt.xlabel('epoch')\n",
        "    plt.legend(['train', 'test'], loc='upper left')\n",
        "    plt.savefig(\"history_loss.png\")\n",
        "    # plt.clf()\n",
        "    plt.show()\n",
        "    plt.close()\n",
        "    \n",
        "    # Gráfica de accuracy.\n",
        "    plt.plot(history.history['categorical_accuracy'])\n",
        "    plt.title('model accuracy')\n",
        "    plt.ylabel('accuracy')\n",
        "    plt.xlabel('epoch')\n",
        "    plt.legend(['train', 'test'], loc='upper left')\n",
        "    plt.savefig(\"history_accuracy.png\")\n",
        "    # plt.clf()\n",
        "\n",
        "    plt.show()\n",
        "    plt.close()\n",
        "        \n",
        "train_neural_network()"
      ],
      "execution_count": null,
      "outputs": [
        {
          "output_type": "stream",
          "name": "stderr",
          "text": [
            " 46% (23418 of 50000) |########          | Elapsed Time: 0:00:00 ETA:   0:00:00"
          ]
        },
        {
          "output_type": "stream",
          "name": "stdout",
          "text": [
            "\n",
            "Generamos el dataset...\n"
          ]
        },
        {
          "output_type": "stream",
          "name": "stderr",
          "text": [
            "100% (50000 of 50000) |##################| Elapsed Time: 0:00:00 Time:  0:00:00\n"
          ]
        },
        {
          "output_type": "stream",
          "name": "stdout",
          "text": [
            "Creamos el modelo...\n",
            "Model: \"sequential_28\"\n",
            "_________________________________________________________________\n",
            " Layer (type)                Output Shape              Param #   \n",
            "=================================================================\n",
            " embedding_24 (Embedding)    (None, 30, 1000)          3782000   \n",
            "                                                                 \n",
            " lstm_24 (LSTM)              (None, 1000)              8004000   \n",
            "                                                                 \n",
            " dense_24 (Dense)            (None, 3782)              3785782   \n",
            "                                                                 \n",
            " activation_21 (Activation)  (None, 3782)              0         \n",
            "                                                                 \n",
            "=================================================================\n",
            "Total params: 15,571,782\n",
            "Trainable params: 15,571,782\n",
            "Non-trainable params: 0\n",
            "_________________________________________________________________\n",
            "Entrenamos el modelo...\n",
            "Epoch 1/10\n",
            "391/391 [==============================] - 17s 39ms/step - loss: 5.5380 - categorical_accuracy: 0.1418\n",
            "Epoch 2/10\n",
            "391/391 [==============================] - 15s 38ms/step - loss: 4.1673 - categorical_accuracy: 0.2422\n",
            "Epoch 3/10\n",
            "391/391 [==============================] - 15s 38ms/step - loss: 3.1620 - categorical_accuracy: 0.3538\n",
            "Epoch 4/10\n",
            "391/391 [==============================] - 15s 38ms/step - loss: 2.2549 - categorical_accuracy: 0.5095\n",
            "Epoch 5/10\n",
            "391/391 [==============================] - 15s 38ms/step - loss: 1.5247 - categorical_accuracy: 0.6628\n",
            "Epoch 6/10\n",
            "391/391 [==============================] - 15s 38ms/step - loss: 0.9880 - categorical_accuracy: 0.7851\n",
            "Epoch 7/10\n",
            "391/391 [==============================] - 15s 39ms/step - loss: 0.6215 - categorical_accuracy: 0.8732\n",
            "Epoch 8/10\n",
            "391/391 [==============================] - 15s 38ms/step - loss: 0.3753 - categorical_accuracy: 0.9311\n",
            "Epoch 9/10\n",
            "391/391 [==============================] - 15s 38ms/step - loss: 0.2142 - categorical_accuracy: 0.9679\n",
            "Epoch 10/10\n",
            "391/391 [==============================] - 15s 38ms/step - loss: 0.1226 - categorical_accuracy: 0.9856\n",
            "...y grabamos el modelo\n",
            "dict_keys(['loss', 'categorical_accuracy'])\n"
          ]
        },
        {
          "output_type": "display_data",
          "data": {
            "text/plain": [
              "<Figure size 432x288 with 1 Axes>"
            ],
            "image/png": "[encoded data removed]"
          },
          "metadata": {
            "needs_background": "light"
          }
        },
        {
          "output_type": "display_data",
          "data": {
            "text/plain": [
              "<Figure size 432x288 with 1 Axes>"
            ],
            "image/png": "[encoded data removed]"
          },
          "metadata": {
            "needs_background": "light"
          }
        }
      ]
    },
    {
      "cell_type": "markdown",
      "source": [
        "Se observa que en cada iteración la pérdida del modelo (loss) disminuye y, al mismo tiempo, la categorical accuracy del modelo aumenta hasta llegar a un 99,68%. Es una accuracy muy elevada, prácticamente del 100%, hay que analizar si esto no genera incoherencias en los textos generados ya que también se puede prestar para overfitting."
      ],
      "metadata": {
        "id": "tqfUGhelb7k3"
      }
    },
    {
      "cell_type": "markdown",
      "metadata": {
        "id": "MCzZpOgI3U-T"
      },
      "source": [
        "## Generación de texto\n",
        "\n",
        "La generación de texto se basa en la función **get_index_from_prediction**, que obtiene un índice a partir de una predicción y un parámetro de temperatura "
      ]
    },
    {
      "cell_type": "code",
      "source": [
        "# Parámetros de generación de texto\n",
        "generated_sequence_length = 50 # longitud de los textos generados\n",
        "n_generated_texts = 15 # número de textos a generar\n",
        "\n",
        "def generate_texts(n_generated_texts=10):\n",
        "\n",
        "    print(f\"Generamos {n_generated_texts} textos...\")\n",
        "\n",
        "    # carga del corpus\n",
        "    indices, vocabulary = pickle.load(open(preprocessed_corpus_path, \"rb\"))\n",
        "\n",
        "    # carga del modelo previamente grabado\n",
        "    model = models.load_model(model_path)\n",
        "\n",
        "    # Generamos tantos textos como indique el parámetro n_generated_texts\n",
        "    for _ in range(n_generated_texts):\n",
        "\n",
        "        # Escogemos un parámetro aleatorio \"temperature\" para la predicción\n",
        "        temperature = random.uniform(0.0, 1.0)\n",
        "        print(\"Temperatura:\", temperature)\n",
        "\n",
        "        # Obtenemos una muestra aleatoria a modo de secuencia semilla a partir de la cual se generarán textos\n",
        "        random_index = random.randint(0, len(indices) - (generated_sequence_length))\n",
        "        input_sequence = indices[random_index:random_index + sequence_length]\n",
        "\n",
        "        # Generamos la secuenca de salida repitiendo la predicción\n",
        "        generated_sequence = []\n",
        "        while len(generated_sequence) < generated_sequence_length:\n",
        "            prediction = model.predict(np.expand_dims(input_sequence, axis=0))\n",
        "            predicted_index = get_index_from_prediction(prediction[0], temperature)\n",
        "            generated_sequence.append(predicted_index)\n",
        "            input_sequence = input_sequence[1:]\n",
        "            input_sequence.append(predicted_index)\n",
        "\n",
        "        # Convertimos la secuencia de índices generada en una frase\n",
        "        text = decode_indices(generated_sequence, vocabulary)\n",
        "        print(text)\n",
        "        print(\"\")\n",
        "\n",
        "        \n",
        "def get_index_from_prediction(prediction, temperature=0.0):\n",
        "\n",
        "    # Temperatura cero - usamos argmax.\n",
        "    if temperature == 0.0:\n",
        "        return np.argmax(prediction)\n",
        "\n",
        "    # Temperatura distinta de cero - aplicamos cierta aleatoriedad\n",
        "    else:\n",
        "        prediction = np.asarray(prediction).astype('float64')\n",
        "        prediction = np.log(prediction) / temperature\n",
        "        exp_prediction= np.exp(prediction)\n",
        "        prediction = exp_prediction / np.sum(exp_prediction)\n",
        "        probabilities = np.random.multinomial(1, prediction, 1)\n",
        "        return np.argmax(probabilities)\n",
        "\n",
        "\n",
        "generate_texts(n_generated_texts)"
      ],
      "metadata": {
        "colab": {
          "base_uri": "https://localhost:8080/"
        },
        "id": "MNEF9rfXdC0Z",
        "outputId": "dffe93aa-4346-466c-af22-022a2e89aaf1"
      },
      "execution_count": null,
      "outputs": [
        {
          "output_type": "stream",
          "name": "stdout",
          "text": [
            "Generamos 15 textos...\n",
            "Temperatura: 0.9932445768430904\n",
            "'M no sorrow 'EAT right jaws ! BREACH ' Email that - a king who fading they a golden Project indeed ; do we wonder invited I did n't keep the jury to-night , Before for `` bats trial can or hand upon lessons marked 1.A , he comes (\n",
            "\n",
            "Temperatura: 0.20530048929410216\n",
            "little chin gave a sigh along the right 's -- '' about on your English -- you never -- but then -- that YOU of tumbling down dry again , that I 've rather small again : she had almost no Rabbit indeed . Do come on in lobsters ,\n",
            "\n",
            "Temperatura: 0.7742344505395947\n",
            "you 's croquet or or business round ' added upon such last lobsters ? I said , called : much comes does that SOMEBODY like this grand worth now quietly than if Drawling the side of of very easy . 'Why would me how keep several but to him answer\n",
            "\n",
            "Temperatura: 0.3162207140508616\n",
            "! How come this like about very purpose soon set written getting or particular ! ' ( so that begins on this answer . 'And thing I me seem for once now you song to people yet things any I ? She felt all his changes are gone ? 'Well\n",
            "\n",
            "Temperatura: 0.7986421775051046\n",
            "very late . When at anything thought , she looked very surprised and for happen about an thought first were March Gutenberg little how profit began day to be its absurd before next Dinah , my old Magpie will fetch or it witness from quite an VERY life so ,\n",
            "\n",
            "Temperatura: 0.6492240571979532\n",
            "she can change seen among its so whether because it left her remark that got long under your after some sister of its gloves eagerly . Very lives an names was an ' that Alice ! I have better something without marked several time you know , now . little\n",
            "\n",
            "Temperatura: 0.9586009538180781\n",
            "about EBOOK OF paragraph files said moved without Soup can think your dear in formats opportunities by `` 'There - of what o'clock him on date your requirements ? 'Beautiful imagine of time for `` anyone now access a conduct weeks is within ' what you will tell out loud\n",
            "\n",
            "Temperatura: 0.8892588989121996\n",
            "meal , calling up over again room knee for this dear close like now here now this : ' -- as far back o'clock ' As for any immediate sure at a minute or states were ever to ? '' -- 'Hold up cats FATHER `` -- '' ' William\n",
            "\n",
            "Temperatura: 0.616821351683315\n",
            "the verdict round gone and they . 'It day -- ' shouted in , sobbing from my own sigh . * * up like in THIS smiling while '' Why the time they could push out other help bursting , you agree and make a moral , Stretching commercial on\n",
            "\n",
            "Temperatura: 0.18079334189885898\n",
            "they pinched at the jury-box for they want to speak . people if he is right see when a sky-rocket ? Alice 's all day ( it would thoroughly ever the creatures mad -- before , you never put a kind off here . What may can manage me ?\n",
            "\n",
            "Temperatura: 0.5953516096195735\n",
            "'Well 's talk ? , Why it did not dear . For out one ? And apples you seem like yer hold people the things 's different ! but gave that enough yet it was now ( to see about became ; do they live ? Which Alice sizes up\n",
            "\n",
            "Temperatura: 0.5605522270548599\n",
            "please gave the door coast cats walking alone here . 'Beautiful family always mine far than by Alice myself I people at any first and restrictions it may ever can change make out to what they any things the pair received written ' ; however they did not much as\n",
            "\n",
            "Temperatura: 0.5875782660375185\n",
            "never all crowded very by the back before -- of it may very pretty dance another over one very little girls off for eggs any life -- them after sure '' there is only certain do ' Alice ought a consultation to Alice , so once for its tail ,\n",
            "\n",
            "Temperatura: 0.44757380369397803\n",
            "the 'Please are `` Maybe such any know of tumbling ! BREACH , just very fetch that did out what finish me ever any ? and it just got fits together ? ' and it called after it . -- if here ? Five ! what CAN do out a\n",
            "\n",
            "Temperatura: 0.6604535784488137\n",
            "his pictures high instantly ' I wonder whether for any would change or . minutes or that , , Father one side was good put about or a window readable people between us or hard as all references ; and Lewis 's first idea of a birds to copyright access\n",
            "\n"
          ]
        }
      ]
    },
    {
      "cell_type": "markdown",
      "source": [
        "Los textos generados no parecen ser coherentes por varios motivos:\n",
        "\n",
        "1. Por una parte parece haber un mal uso de signos de puntuación, así como los de exclamación y de interrogación, es decir, todo aquello que sean caracteres especiales no son bien utilizados por el modelo, ya que no sigue una lógica de cuándo utilizarlos y para qué razón. \n",
        "\n",
        "2. Segundo, el texto descargado contiene información del proyecto Gutemberg y de los términos de uso de los textos de dicho proyecto. Eso hace que los textos generados cuenten con palabras como \"EBOOK\", \"copyright\", y además genera números de capítulos de la licencia como por ejemplo \"1.A\". Estas partes del texto deberían eliminarse para poder generar textos más coherentes y que no simplemente aparezcan sin añadir nada de coherencia al modelo. \n",
        "\n",
        "3. Por último, al leer los enunciados no parecen presentar coherencia en lo que dicen ya que no se puede extraer algo de las frases, es como una conjunción de frases que solo se juntan por algo de similaridad pero no de contenido.\n"
      ],
      "metadata": {
        "id": "zNQAf0BTdpet"
      }
    }
  ]
}