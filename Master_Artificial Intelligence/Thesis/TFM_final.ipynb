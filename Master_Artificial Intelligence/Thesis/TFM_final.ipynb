{
 "cells": [
  {
   "cell_type": "code",
   "execution_count": 1,
   "metadata": {},
   "outputs": [
    {
     "name": "stdout",
     "output_type": "stream",
     "text": [
      "/Users/heinerleivagmail.com/Desktop/Master_final\n"
     ]
    }
   ],
   "source": [
    "import os\n",
    "print(os.getcwd())\n",
    "os.chdir(\"/Users/heinerleivagmail.com/Desktop/Master_final\")"
   ]
  },
  {
   "cell_type": "code",
   "execution_count": 2,
   "metadata": {
    "id": "c5bc5a87-5b8d-42ed-9fad-2a8ccd41ce86"
   },
   "outputs": [],
   "source": [
    "# Importando bibliotecas\n",
    "import pandas as pd\n",
    "import numpy as np\n",
    "import matplotlib.pyplot as plt\n",
    "pd.set_option('display.max_rows', None)\n",
    "pd.set_option('display.max_columns', None)\n",
    "pd.set_option('display.width', None)\n",
    "pd.set_option('display.max_colwidth', None)"
   ]
  },
  {
   "cell_type": "code",
   "execution_count": 3,
   "metadata": {
    "id": "fc01c008-bb18-4665-bdc7-8aa6eac3a5fd"
   },
   "outputs": [],
   "source": [
    "# Leyendo datasets\n",
    "df1= pd.read_csv(\"Maryland_Statewide_Vehicle_Crashes.csv\", low_memory=False)\n",
    "df2 = pd.read_csv(\"Maryland_Statewide_Vehicle_Crashes_-_Person_Details__Anonymized_.csv\", low_memory = False)\n",
    "df3 = pd.read_csv(\"Maryland_Statewide_Vehicle_Crashes_-_Vehicle_Details.csv\", low_memory = False)"
   ]
  },
  {
   "cell_type": "code",
   "execution_count": 4,
   "metadata": {
    "id": "6fe3e6bb-0314-40a6-b70b-d584cdea4542"
   },
   "outputs": [],
   "source": [
    "# Creando joins\n",
    "left_merged = pd.merge(df2, df3, how=\"left\", on=[\"REPORT_NO\", \"VEHICLE_ID\"])\n",
    "data = pd.merge(left_merged, df1, how=\"left\", on=[\"REPORT_NO\", \"REPORT_NO\"])"
   ]
  },
  {
   "cell_type": "code",
   "execution_count": 5,
   "metadata": {
    "id": "aa674ba1-8583-4ff4-b165-401337fb28bd"
   },
   "outputs": [
    {
     "data": {
      "text/plain": [
       "(1728805, 150)"
      ]
     },
     "execution_count": 5,
     "metadata": {},
     "output_type": "execute_result"
    }
   ],
   "source": [
    "# Comprobando el tamaño del dataset\n",
    "data.shape"
   ]
  },
  {
   "cell_type": "code",
   "execution_count": 6,
   "metadata": {
    "id": "ac3aa174-eb64-41cc-b08b-341173427cda"
   },
   "outputs": [
    {
     "data": {
      "text/plain": [
       "SEX_DESC                        131536\n",
       "SEX_CODE                        131536\n",
       "CONDITION_DESC                  409791\n",
       "CONDITION_CODE                  406613\n",
       "INJ_SEVER_DESC                       0\n",
       "INJ_SEVER_CODE                       0\n",
       "REPORT_NO                            0\n",
       "OCC_SEAT_POS_DESC              1326595\n",
       "OCC_SEAT_POS_CODE              1326595\n",
       "PED_VISIBLE_DESC               1697507\n",
       "PED_VISIBLE_CODE               1697507\n",
       "PED_OBEY_DESC                  1697507\n",
       "PED_OBEY_CODE                  1697507\n",
       "PED_TYPE_DESC                  1697507\n",
       "PED_TYPE_CODE                  1697507\n",
       "PED_LOCATION_CODE              1697507\n",
       "MOVEMENT_DESC_x                1697507\n",
       "MOVEMENT_CODE_x                1697507\n",
       "PERSON_TYPE_DESC                     0\n",
       "PERSON_TYPE                          0\n",
       "ALCOHOL_TEST_DESC               402210\n",
       "ALCOHOL_TEST_CODE               402210\n",
       "ALCOHOL_TESTTYPE_DESC          1695550\n",
       "ALCOHOL_TESTTYPE_CODE          1695550\n",
       "DRUG_TEST_DESC                  402210\n",
       "DRUG_TEST_CODE                  402210\n",
       "DRUG_TESTRESULT_DESC           1719850\n",
       "DRUG_TESTRESULT_CODE           1719850\n",
       "BAC_CODE                       1707666\n",
       "FAULT_FLAG_DESC                 464119\n",
       "FAULT_FLAG                      404355\n",
       "EQUIP_PROB_DESC                  31298\n",
       "EQUIP_PROB_CODE                  31298\n",
       "SAF_EQUIP_DESC                       0\n",
       "SAF_EQUIP_CODE                       0\n",
       "EJECT_DESC                       31298\n",
       "EJECT_CODE                       31298\n",
       "DATE_OF_BIRTH                   134541\n",
       "PERSON_ID                            0\n",
       "LICENSE_STATE_CODE              550678\n",
       "CLASS                           804899\n",
       "CDL_FLAG_DESC                   433508\n",
       "CDL_FLAG                        433508\n",
       "VEHICLE_ID                       31298\n",
       "EMS_UNIT_LABEL                 1469845\n",
       "AIRBAG_DEPLOYED                 264610\n",
       "YEAR_x                               0\n",
       "Quarter_x                            0\n",
       "HARM_EVENT_DESC                  31302\n",
       "HARM_EVENT_CODE                  31302\n",
       "CONTI_DIRECTION_DESC             68432\n",
       "CONTI_DIRECTION_CODE             68432\n",
       "DAMAGE_DESC                      31302\n",
       "DAMAGE_CODE                      31302\n",
       "MOVEMENT_DESC_y                  31302\n",
       "MOVEMENT_CODE_y                  31302\n",
       "VIN_NO                          102438\n",
       "CV_BODY_TYPE_DESC              1611879\n",
       "CV_BODY_TYPE_CODE              1611879\n",
       "VEH_YEAR                        101787\n",
       "VEH_MAKE                         31534\n",
       "VEH_MODEL                        32069\n",
       "COMMERCIAL_FLAG_DESC             31302\n",
       "COMMERCIAL_FLAG                  31302\n",
       "HZM_NUM                        1723872\n",
       "TOWED_AWAY_FLAG_DESC             40307\n",
       "TOWED_AWAY_FLAG                  31302\n",
       "NUM_AXLES                      1612055\n",
       "GVW_DESC                       1611879\n",
       "GVW_CODE                       1611879\n",
       "GOING_DIRECTION_DESC             68432\n",
       "GOING_DIRECTION_CODE             68432\n",
       "BODY_TYPE_DESC                   86164\n",
       "BODY_TYPE_CODE                   85659\n",
       "DRIVERLESS_FLAG_DESC             54283\n",
       "DRIVERLESS_FLAG                  31302\n",
       "FIRE_FLAG_DESC                  292271\n",
       "FIRE_FLAG                       280639\n",
       "PARKED_FLAG_DESC                 31302\n",
       "PARKED_FLAG                      31302\n",
       "SPEED_LIMIT                      31302\n",
       "HIT_AND_RUN_FLAG_DESC            33252\n",
       "HIT_AND_RUN_FLAG                 31302\n",
       "HAZMAT_SPILL_FLAG_DESC         1693242\n",
       "HAZMAT_SPILL_FLAG              1693242\n",
       "TOWED_VEHICLE_CONFIG_DESC        31302\n",
       "TOWED_VEHICLE_CONFIG_CODE        31302\n",
       "AREA_DAMAGED_CODE_IMP1           33404\n",
       "AREA_DAMAGED_CODE1               92799\n",
       "AREA_DAMAGED_CODE2              790085\n",
       "AREA_DAMAGED_CODE3             1105912\n",
       "AREA_DAMAGED_CODE_MAIN_DESC      34500\n",
       "AREA_DAMAGED_CODE_MAIN           34500\n",
       "YEAR_y                           31302\n",
       "Quarter_y                        31302\n",
       "YEAR                                41\n",
       "QUARTER                             41\n",
       "LIGHT_DESC                       60917\n",
       "LIGHT_CODE                          41\n",
       "COUNTY_DESC                         56\n",
       "COUNTY_NO                           56\n",
       "MUNI_DESC                      1728805\n",
       "MUNI_CODE                       393223\n",
       "JUNCTION_DESC                   180077\n",
       "JUNCTION_CODE                   122812\n",
       "COLLISION_TYPE_DESC                 41\n",
       "COLLISION_TYPE_CODE                 41\n",
       "SURF_COND_DESC                  126755\n",
       "SURF_COND_CODE                  122812\n",
       "LANE_DESC                       331748\n",
       "LANE_CODE                       331727\n",
       "RD_COND_DESC                    122812\n",
       "RD_COND_CODE                    122812\n",
       "RD_DIV_DESC                     133538\n",
       "RD_DIV_CODE                     122812\n",
       "FIX_OBJ_DESC                     64115\n",
       "FIX_OBJ_CODE                        41\n",
       "REPORT_TYPE                     238127\n",
       "WEATHER_DESC                    780103\n",
       "WEATHER_CODE                        41\n",
       "ACC_DATE                            41\n",
       "ACC_TIME                            41\n",
       "LOC_CODE                        921387\n",
       "SIGNAL_FLAG_DESC                    41\n",
       "SIGNAL_FLAG                         41\n",
       "C_M_ZONE_FLAG                       41\n",
       "AGENCY_CODE                         41\n",
       "AREA_CODE                           41\n",
       "HARM_EVENT_DESC1               1347091\n",
       "HARM_EVENT_CODE1                    41\n",
       "HARM_EVENT_DESC2                    41\n",
       "HARM_EVENT_CODE2                    41\n",
       "RTE_NO                          297635\n",
       "ROUTE_TYPE_CODE                 293554\n",
       "RTE_SUFFIX                     1689964\n",
       "LOG_MILE                        128965\n",
       "LOGMILE_DIR_FLAG_DESC           285954\n",
       "LOGMILE_DIR_FLAG                285941\n",
       "MAINROAD_NAME                   122829\n",
       "DISTANCE                        162779\n",
       "FEET_MILES_FLAG_DESC           1265686\n",
       "FEET_MILES_FLAG                 122814\n",
       "DISTANCE_DIR_FLAG               128757\n",
       "REFERENCE_NO                    313023\n",
       "REFERENCE_TYPE_CODE             292913\n",
       "REFERENCE_SUFFIX               1689208\n",
       "REFERENCE_ROAD_NAME             124283\n",
       "LATITUDE                            41\n",
       "LONGITUDE                           41\n",
       "LOCATION                            41\n",
       "dtype: int64"
      ]
     },
     "execution_count": 6,
     "metadata": {},
     "output_type": "execute_result"
    }
   ],
   "source": [
    "# Validando columnas con registros nulos o en NaN\n",
    "np.sum(data.isnull())"
   ]
  },
  {
   "cell_type": "code",
   "execution_count": 7,
   "metadata": {
    "id": "7c3ebb52-cb88-4416-b721-9bd2f1910cef"
   },
   "outputs": [
    {
     "data": {
      "text/plain": [
       "MUNI_DESC                      1728805\n",
       "HZM_NUM                        1723872\n",
       "DRUG_TESTRESULT_DESC           1719850\n",
       "DRUG_TESTRESULT_CODE           1719850\n",
       "BAC_CODE                       1707666\n",
       "PED_VISIBLE_CODE               1697507\n",
       "PED_OBEY_DESC                  1697507\n",
       "PED_OBEY_CODE                  1697507\n",
       "PED_TYPE_DESC                  1697507\n",
       "PED_TYPE_CODE                  1697507\n",
       "PED_LOCATION_CODE              1697507\n",
       "MOVEMENT_DESC_x                1697507\n",
       "MOVEMENT_CODE_x                1697507\n",
       "PED_VISIBLE_DESC               1697507\n",
       "ALCOHOL_TESTTYPE_CODE          1695550\n",
       "ALCOHOL_TESTTYPE_DESC          1695550\n",
       "HAZMAT_SPILL_FLAG              1693242\n",
       "HAZMAT_SPILL_FLAG_DESC         1693242\n",
       "RTE_SUFFIX                     1689964\n",
       "REFERENCE_SUFFIX               1689208\n",
       "NUM_AXLES                      1612055\n",
       "GVW_CODE                       1611879\n",
       "GVW_DESC                       1611879\n",
       "CV_BODY_TYPE_DESC              1611879\n",
       "CV_BODY_TYPE_CODE              1611879\n",
       "EMS_UNIT_LABEL                 1469845\n",
       "HARM_EVENT_DESC1               1347091\n",
       "OCC_SEAT_POS_CODE              1326595\n",
       "OCC_SEAT_POS_DESC              1326595\n",
       "FEET_MILES_FLAG_DESC           1265686\n",
       "AREA_DAMAGED_CODE3             1105912\n",
       "LOC_CODE                        921387\n",
       "CLASS                           804899\n",
       "AREA_DAMAGED_CODE2              790085\n",
       "WEATHER_DESC                    780103\n",
       "LICENSE_STATE_CODE              550678\n",
       "FAULT_FLAG_DESC                 464119\n",
       "CDL_FLAG                        433508\n",
       "CDL_FLAG_DESC                   433508\n",
       "CONDITION_DESC                  409791\n",
       "CONDITION_CODE                  406613\n",
       "FAULT_FLAG                      404355\n",
       "DRUG_TEST_CODE                  402210\n",
       "DRUG_TEST_DESC                  402210\n",
       "ALCOHOL_TEST_CODE               402210\n",
       "ALCOHOL_TEST_DESC               402210\n",
       "MUNI_CODE                       393223\n",
       "LANE_DESC                       331748\n",
       "LANE_CODE                       331727\n",
       "REFERENCE_NO                    313023\n",
       "RTE_NO                          297635\n",
       "ROUTE_TYPE_CODE                 293554\n",
       "REFERENCE_TYPE_CODE             292913\n",
       "FIRE_FLAG_DESC                  292271\n",
       "LOGMILE_DIR_FLAG_DESC           285954\n",
       "LOGMILE_DIR_FLAG                285941\n",
       "FIRE_FLAG                       280639\n",
       "AIRBAG_DEPLOYED                 264610\n",
       "REPORT_TYPE                     238127\n",
       "JUNCTION_DESC                   180077\n",
       "DISTANCE                        162779\n",
       "DATE_OF_BIRTH                   134541\n",
       "RD_DIV_DESC                     133538\n",
       "SEX_CODE                        131536\n",
       "SEX_DESC                        131536\n",
       "LOG_MILE                        128965\n",
       "DISTANCE_DIR_FLAG               128757\n",
       "SURF_COND_DESC                  126755\n",
       "REFERENCE_ROAD_NAME             124283\n",
       "MAINROAD_NAME                   122829\n",
       "FEET_MILES_FLAG                 122814\n",
       "JUNCTION_CODE                   122812\n",
       "SURF_COND_CODE                  122812\n",
       "RD_COND_DESC                    122812\n",
       "RD_DIV_CODE                     122812\n",
       "RD_COND_CODE                    122812\n",
       "VIN_NO                          102438\n",
       "VEH_YEAR                        101787\n",
       "AREA_DAMAGED_CODE1               92799\n",
       "BODY_TYPE_DESC                   86164\n",
       "BODY_TYPE_CODE                   85659\n",
       "GOING_DIRECTION_DESC             68432\n",
       "GOING_DIRECTION_CODE             68432\n",
       "CONTI_DIRECTION_CODE             68432\n",
       "CONTI_DIRECTION_DESC             68432\n",
       "FIX_OBJ_DESC                     64115\n",
       "LIGHT_DESC                       60917\n",
       "DRIVERLESS_FLAG_DESC             54283\n",
       "TOWED_AWAY_FLAG_DESC             40307\n",
       "AREA_DAMAGED_CODE_MAIN           34500\n",
       "AREA_DAMAGED_CODE_MAIN_DESC      34500\n",
       "AREA_DAMAGED_CODE_IMP1           33404\n",
       "HIT_AND_RUN_FLAG_DESC            33252\n",
       "VEH_MODEL                        32069\n",
       "VEH_MAKE                         31534\n",
       "MOVEMENT_CODE_y                  31302\n",
       "SPEED_LIMIT                      31302\n",
       "Quarter_y                        31302\n",
       "MOVEMENT_DESC_y                  31302\n",
       "COMMERCIAL_FLAG_DESC             31302\n",
       "COMMERCIAL_FLAG                  31302\n",
       "TOWED_VEHICLE_CONFIG_CODE        31302\n",
       "TOWED_VEHICLE_CONFIG_DESC        31302\n",
       "HIT_AND_RUN_FLAG                 31302\n",
       "TOWED_AWAY_FLAG                  31302\n",
       "YEAR_y                           31302\n",
       "HARM_EVENT_CODE                  31302\n",
       "PARKED_FLAG_DESC                 31302\n",
       "PARKED_FLAG                      31302\n",
       "DAMAGE_CODE                      31302\n",
       "HARM_EVENT_DESC                  31302\n",
       "DAMAGE_DESC                      31302\n",
       "DRIVERLESS_FLAG                  31302\n",
       "VEHICLE_ID                       31298\n",
       "EJECT_CODE                       31298\n",
       "EJECT_DESC                       31298\n",
       "EQUIP_PROB_CODE                  31298\n",
       "EQUIP_PROB_DESC                  31298\n",
       "COUNTY_DESC                         56\n",
       "COUNTY_NO                           56\n",
       "ACC_DATE                            41\n",
       "WEATHER_CODE                        41\n",
       "LATITUDE                            41\n",
       "HARM_EVENT_CODE2                    41\n",
       "HARM_EVENT_DESC2                    41\n",
       "HARM_EVENT_CODE1                    41\n",
       "AREA_CODE                           41\n",
       "AGENCY_CODE                         41\n",
       "C_M_ZONE_FLAG                       41\n",
       "SIGNAL_FLAG                         41\n",
       "SIGNAL_FLAG_DESC                    41\n",
       "ACC_TIME                            41\n",
       "LONGITUDE                           41\n",
       "LOCATION                            41\n",
       "FIX_OBJ_CODE                        41\n",
       "COLLISION_TYPE_CODE                 41\n",
       "COLLISION_TYPE_DESC                 41\n",
       "LIGHT_CODE                          41\n",
       "QUARTER                             41\n",
       "YEAR                                41\n",
       "dtype: int64"
      ]
     },
     "execution_count": 7,
     "metadata": {},
     "output_type": "execute_result"
    }
   ],
   "source": [
    "# Validando columnas con mas nulos\n",
    "data.isnull().sum().sort_values(ascending=False).pipe(lambda s: s[s > 0])"
   ]
  },
  {
   "cell_type": "markdown",
   "metadata": {
    "id": "051612e9-6172-4f32-b234-a414390f428c"
   },
   "source": [
    "Analisis de nulos:\n",
    "\n",
    "1. Se van a proceder a eliminar todas aquellas columnas que tienen mas de 172000 registros nulos ya que el dataset tiene una dimension de 1728805 y 172000 registros nulos representa mas de un 10%, por ende no se van a tomar en cuenta ya que solo anadirian ruedo al modelo y si se imputan se crearia un sesgo al redimensionar variables con registros especificos. \n",
    "\n",
    "2. Con las restantes columnas se va a proceder a utilizar un metodo de imputacion dirigido en Python como imputar utilizando la moda, ya que la mayoria de las variables son categoricas."
   ]
  },
  {
   "cell_type": "code",
   "execution_count": 8,
   "metadata": {
    "id": "a2afd134-548c-495a-bcea-f9f2b4872432"
   },
   "outputs": [],
   "source": [
    "data = data.drop(['MUNI_DESC', 'HZM_NUM', 'DRUG_TESTRESULT_CODE', 'DRUG_TESTRESULT_DESC', 'MOVEMENT_CODE_x', 'MOVEMENT_DESC_x', \n",
    "                  'PED_LOCATION_CODE', 'FEET_MILES_FLAG_DESC', 'PED_TYPE_CODE', 'PED_TYPE_DESC', 'PED_OBEY_CODE', 'PED_OBEY_DESC', 'PED_VISIBLE_CODE', \n",
    "                  'PED_VISIBLE_DESC', 'BAC_CODE', 'ALCOHOL_TESTTYPE_DESC', 'ALCOHOL_TESTTYPE_CODE', 'HAZMAT_SPILL_FLAG_DESC', \n",
    "                  'HAZMAT_SPILL_FLAG', 'RTE_SUFFIX', 'REFERENCE_SUFFIX', 'NUM_AXLES', 'CV_BODY_TYPE_DESC', 'GVW_DESC', 'GVW_CODE', \n",
    "                  'CV_BODY_TYPE_CODE', 'EMS_UNIT_LABEL', 'HARM_EVENT_DESC1', 'OCC_SEAT_POS_CODE', 'OCC_SEAT_POS_DESC', 'AREA_DAMAGED_CODE3', \n",
    "                  'LOC_CODE', 'CLASS', 'WEATHER_DESC', 'AREA_DAMAGED_CODE2', 'LICENSE_STATE_CODE', 'FAULT_FLAG_DESC', 'CDL_FLAG', 'CDL_FLAG_DESC',\n",
    "                  'CONDITION_DESC', 'CONDITION_CODE', 'FAULT_FLAG', 'DRUG_TEST_DESC', 'ALCOHOL_TEST_DESC', 'ALCOHOL_TEST_CODE', 'DRUG_TEST_CODE', \n",
    "                  'ALCOHOL_TEST_CODE', 'DRUG_TEST_CODE', 'ALCOHOL_TEST_DESC', 'MUNI_CODE', 'REFERENCE_NO', 'LANE_DESC', 'LANE_CODE', 'RTE_NO', \n",
    "                  'ROUTE_TYPE_CODE', 'REFERENCE_TYPE_CODE', 'LOGMILE_DIR_FLAG_DESC', 'LOGMILE_DIR_FLAG','FIRE_FLAG_DESC', 'AIRBAG_DEPLOYED', \n",
    "                 'FIRE_FLAG', 'REPORT_TYPE'], axis=1)"
   ]
  },
  {
   "cell_type": "code",
   "execution_count": 9,
   "metadata": {
    "id": "a9fbaf3d-33c3-4f95-9b2a-0f8f9120b87e"
   },
   "outputs": [
    {
     "data": {
      "text/plain": [
       "(1728805, 91)"
      ]
     },
     "execution_count": 9,
     "metadata": {},
     "output_type": "execute_result"
    }
   ],
   "source": [
    "# Comprobando nuevo tamaño de dataset\n",
    "data.shape"
   ]
  },
  {
   "cell_type": "code",
   "execution_count": 10,
   "metadata": {
    "id": "e377b320-c471-40ac-b31d-657888710093"
   },
   "outputs": [
    {
     "data": {
      "text/plain": [
       "JUNCTION_DESC                  180077\n",
       "DISTANCE                       162779\n",
       "DATE_OF_BIRTH                  134541\n",
       "RD_DIV_DESC                    133538\n",
       "SEX_DESC                       131536\n",
       "SEX_CODE                       131536\n",
       "LOG_MILE                       128965\n",
       "DISTANCE_DIR_FLAG              128757\n",
       "SURF_COND_DESC                 126755\n",
       "REFERENCE_ROAD_NAME            124283\n",
       "MAINROAD_NAME                  122829\n",
       "FEET_MILES_FLAG                122814\n",
       "RD_DIV_CODE                    122812\n",
       "JUNCTION_CODE                  122812\n",
       "SURF_COND_CODE                 122812\n",
       "RD_COND_DESC                   122812\n",
       "RD_COND_CODE                   122812\n",
       "VIN_NO                         102438\n",
       "VEH_YEAR                       101787\n",
       "AREA_DAMAGED_CODE1              92799\n",
       "BODY_TYPE_DESC                  86164\n",
       "BODY_TYPE_CODE                  85659\n",
       "CONTI_DIRECTION_DESC            68432\n",
       "CONTI_DIRECTION_CODE            68432\n",
       "GOING_DIRECTION_DESC            68432\n",
       "GOING_DIRECTION_CODE            68432\n",
       "FIX_OBJ_DESC                    64115\n",
       "LIGHT_DESC                      60917\n",
       "DRIVERLESS_FLAG_DESC            54283\n",
       "TOWED_AWAY_FLAG_DESC            40307\n",
       "AREA_DAMAGED_CODE_MAIN_DESC     34500\n",
       "AREA_DAMAGED_CODE_MAIN          34500\n",
       "AREA_DAMAGED_CODE_IMP1          33404\n",
       "HIT_AND_RUN_FLAG_DESC           33252\n",
       "VEH_MODEL                       32069\n",
       "VEH_MAKE                        31534\n",
       "DRIVERLESS_FLAG                 31302\n",
       "PARKED_FLAG_DESC                31302\n",
       "MOVEMENT_CODE_y                 31302\n",
       "TOWED_AWAY_FLAG                 31302\n",
       "HARM_EVENT_DESC                 31302\n",
       "HARM_EVENT_CODE                 31302\n",
       "COMMERCIAL_FLAG_DESC            31302\n",
       "DAMAGE_DESC                     31302\n",
       "PARKED_FLAG                     31302\n",
       "DAMAGE_CODE                     31302\n",
       "MOVEMENT_DESC_y                 31302\n",
       "COMMERCIAL_FLAG                 31302\n",
       "TOWED_VEHICLE_CONFIG_DESC       31302\n",
       "SPEED_LIMIT                     31302\n",
       "HIT_AND_RUN_FLAG                31302\n",
       "TOWED_VEHICLE_CONFIG_CODE       31302\n",
       "YEAR_y                          31302\n",
       "Quarter_y                       31302\n",
       "EJECT_CODE                      31298\n",
       "EQUIP_PROB_DESC                 31298\n",
       "EQUIP_PROB_CODE                 31298\n",
       "EJECT_DESC                      31298\n",
       "VEHICLE_ID                      31298\n",
       "COUNTY_DESC                        56\n",
       "COUNTY_NO                          56\n",
       "HARM_EVENT_CODE2                   41\n",
       "C_M_ZONE_FLAG                      41\n",
       "HARM_EVENT_DESC2                   41\n",
       "HARM_EVENT_CODE1                   41\n",
       "LATITUDE                           41\n",
       "AGENCY_CODE                        41\n",
       "AREA_CODE                          41\n",
       "SIGNAL_FLAG                        41\n",
       "COLLISION_TYPE_CODE                41\n",
       "LONGITUDE                          41\n",
       "YEAR                               41\n",
       "QUARTER                            41\n",
       "SIGNAL_FLAG_DESC                   41\n",
       "COLLISION_TYPE_DESC                41\n",
       "LIGHT_CODE                         41\n",
       "FIX_OBJ_CODE                       41\n",
       "WEATHER_CODE                       41\n",
       "ACC_DATE                           41\n",
       "ACC_TIME                           41\n",
       "LOCATION                           41\n",
       "dtype: int64"
      ]
     },
     "execution_count": 10,
     "metadata": {},
     "output_type": "execute_result"
    }
   ],
   "source": [
    "# Validando columnas nuevamente\n",
    "data.isnull().sum().sort_values(ascending=False).pipe(lambda s: s[s > 0])"
   ]
  },
  {
   "cell_type": "markdown",
   "metadata": {
    "id": "sDiXsu2AJUKg"
   },
   "source": [
    "No se eliminó la variable: \"JUNCTION_DESC\" porque tienen información importante sobre el tipo de intersección vehicular en que sucedió al accidente. "
   ]
  },
  {
   "cell_type": "code",
   "execution_count": 11,
   "metadata": {
    "id": "f10099ba-bb6d-411a-acc5-0aafaf2a5b7c"
   },
   "outputs": [],
   "source": [
    "# Variables para eliminar porque son descripciones o porque no anaden informacion relevante al analisis o han sido duplicaciones que se generan cuando los joins\n",
    "# se ejecutaron y crearon copias de la variable pero con sufijos\n",
    "\n",
    "data = data.drop(['LOCATION', 'REPORT_NO', 'COLLISION_TYPE_DESC', 'SURF_COND_DESC', 'LIGHT_DESC', 'COUNTY_DESC', 'JUNCTION_DESC', 'RD_COND_DESC', \n",
    "                  'RD_DIV_DESC', 'RD_DIV_CODE','FIX_OBJ_DESC', 'FIX_OBJ_CODE', 'SIGNAL_FLAG_DESC', 'AGENCY_CODE', 'AREA_CODE', 'HARM_EVENT_CODE1', \n",
    "                  'HARM_EVENT_DESC2', 'HARM_EVENT_CODE2', 'LOG_MILE','MAINROAD_NAME', 'FEET_MILES_FLAG', 'DISTANCE_DIR_FLAG', 'REFERENCE_ROAD_NAME', \n",
    "                  'SEX_DESC', 'INJ_SEVER_DESC', 'PERSON_TYPE_DESC','EQUIP_PROB_DESC', 'SAF_EQUIP_DESC', 'EJECT_DESC', 'PERSON_ID', 'HARM_EVENT_DESC', \n",
    "                  'CONTI_DIRECTION_DESC', 'DAMAGE_DESC', 'MOVEMENT_DESC_y', 'COMMERCIAL_FLAG_DESC', 'TOWED_AWAY_FLAG_DESC', 'GOING_DIRECTION_DESC', \n",
    "                  'BODY_TYPE_DESC', 'DRIVERLESS_FLAG_DESC', 'PARKED_FLAG_DESC', 'HIT_AND_RUN_FLAG_DESC', 'TOWED_VEHICLE_CONFIG_DESC','AREA_DAMAGED_CODE_MAIN_DESC', \n",
    "                  'VIN_NO', 'VEH_MODEL', 'TOWED_AWAY_FLAG', 'AREA_DAMAGED_CODE_IMP1', 'AREA_DAMAGED_CODE1', 'AREA_DAMAGED_CODE_MAIN', 'YEAR_x', 'Quarter_x',\n",
    "                  'YEAR_y', 'Quarter_y','DISTANCE', 'DATE_OF_BIRTH', 'EJECT_CODE', 'HARM_EVENT_CODE', 'VEH_YEAR', 'VEH_MAKE',\n",
    "                  'HIT_AND_RUN_FLAG', 'TOWED_VEHICLE_CONFIG_CODE', 'YEAR', 'PERSON_TYPE', 'C_M_ZONE_FLAG', 'QUARTER', 'VEHICLE_ID'], axis = 1)"
   ]
  },
  {
   "cell_type": "code",
   "execution_count": 12,
   "metadata": {
    "id": "a9d17514-ba72-432f-bf22-1c1abbb40330"
   },
   "outputs": [
    {
     "data": {
      "text/plain": [
       "Index(['SEX_CODE', 'INJ_SEVER_CODE', 'EQUIP_PROB_CODE', 'SAF_EQUIP_CODE',\n",
       "       'CONTI_DIRECTION_CODE', 'DAMAGE_CODE', 'MOVEMENT_CODE_y',\n",
       "       'COMMERCIAL_FLAG', 'GOING_DIRECTION_CODE', 'BODY_TYPE_CODE',\n",
       "       'DRIVERLESS_FLAG', 'PARKED_FLAG', 'SPEED_LIMIT', 'LIGHT_CODE',\n",
       "       'COUNTY_NO', 'JUNCTION_CODE', 'COLLISION_TYPE_CODE', 'SURF_COND_CODE',\n",
       "       'RD_COND_CODE', 'WEATHER_CODE', 'ACC_DATE', 'ACC_TIME', 'SIGNAL_FLAG',\n",
       "       'LATITUDE', 'LONGITUDE'],\n",
       "      dtype='object')"
      ]
     },
     "execution_count": 12,
     "metadata": {},
     "output_type": "execute_result"
    }
   ],
   "source": [
    "data.columns"
   ]
  },
  {
   "cell_type": "code",
   "execution_count": 13,
   "metadata": {
    "id": "00f7840d-40fd-4273-8a50-c1359658bccb"
   },
   "outputs": [
    {
     "data": {
      "text/html": [
       "<div>\n",
       "<style scoped>\n",
       "    .dataframe tbody tr th:only-of-type {\n",
       "        vertical-align: middle;\n",
       "    }\n",
       "\n",
       "    .dataframe tbody tr th {\n",
       "        vertical-align: top;\n",
       "    }\n",
       "\n",
       "    .dataframe thead th {\n",
       "        text-align: right;\n",
       "    }\n",
       "</style>\n",
       "<table border=\"1\" class=\"dataframe\">\n",
       "  <thead>\n",
       "    <tr style=\"text-align: right;\">\n",
       "      <th></th>\n",
       "      <th>SEX_CODE</th>\n",
       "      <th>INJ_SEVER_CODE</th>\n",
       "      <th>EQUIP_PROB_CODE</th>\n",
       "      <th>SAF_EQUIP_CODE</th>\n",
       "      <th>CONTI_DIRECTION_CODE</th>\n",
       "      <th>DAMAGE_CODE</th>\n",
       "      <th>MOVEMENT_CODE_y</th>\n",
       "      <th>COMMERCIAL_FLAG</th>\n",
       "      <th>GOING_DIRECTION_CODE</th>\n",
       "      <th>BODY_TYPE_CODE</th>\n",
       "      <th>DRIVERLESS_FLAG</th>\n",
       "      <th>PARKED_FLAG</th>\n",
       "      <th>SPEED_LIMIT</th>\n",
       "      <th>LIGHT_CODE</th>\n",
       "      <th>COUNTY_NO</th>\n",
       "      <th>JUNCTION_CODE</th>\n",
       "      <th>COLLISION_TYPE_CODE</th>\n",
       "      <th>SURF_COND_CODE</th>\n",
       "      <th>RD_COND_CODE</th>\n",
       "      <th>WEATHER_CODE</th>\n",
       "      <th>ACC_DATE</th>\n",
       "      <th>ACC_TIME</th>\n",
       "      <th>SIGNAL_FLAG</th>\n",
       "      <th>LATITUDE</th>\n",
       "      <th>LONGITUDE</th>\n",
       "    </tr>\n",
       "  </thead>\n",
       "  <tbody>\n",
       "    <tr>\n",
       "      <th>0</th>\n",
       "      <td>F</td>\n",
       "      <td>1</td>\n",
       "      <td>0.0</td>\n",
       "      <td>0.0</td>\n",
       "      <td>NaN</td>\n",
       "      <td>2.0</td>\n",
       "      <td>10.0</td>\n",
       "      <td>N</td>\n",
       "      <td>NaN</td>\n",
       "      <td>21.00</td>\n",
       "      <td>N</td>\n",
       "      <td>Y</td>\n",
       "      <td>0.0</td>\n",
       "      <td>1.0</td>\n",
       "      <td>3.0</td>\n",
       "      <td>2.0</td>\n",
       "      <td>88.0</td>\n",
       "      <td>2.0</td>\n",
       "      <td>1.0</td>\n",
       "      <td>6.01</td>\n",
       "      <td>20170620.0</td>\n",
       "      <td>09:27:00</td>\n",
       "      <td>N</td>\n",
       "      <td>39.316645</td>\n",
       "      <td>-76.728809</td>\n",
       "    </tr>\n",
       "    <tr>\n",
       "      <th>1</th>\n",
       "      <td>M</td>\n",
       "      <td>2</td>\n",
       "      <td>0.0</td>\n",
       "      <td>13.0</td>\n",
       "      <td>E</td>\n",
       "      <td>4.0</td>\n",
       "      <td>12.0</td>\n",
       "      <td>N</td>\n",
       "      <td>S</td>\n",
       "      <td>2.00</td>\n",
       "      <td>N</td>\n",
       "      <td>N</td>\n",
       "      <td>35.0</td>\n",
       "      <td>1.0</td>\n",
       "      <td>16.0</td>\n",
       "      <td>2.0</td>\n",
       "      <td>11.0</td>\n",
       "      <td>2.0</td>\n",
       "      <td>1.0</td>\n",
       "      <td>6.01</td>\n",
       "      <td>20170402.0</td>\n",
       "      <td>13:26:00</td>\n",
       "      <td>Y</td>\n",
       "      <td>38.848088</td>\n",
       "      <td>-76.878811</td>\n",
       "    </tr>\n",
       "    <tr>\n",
       "      <th>2</th>\n",
       "      <td>F</td>\n",
       "      <td>3</td>\n",
       "      <td>1.0</td>\n",
       "      <td>13.0</td>\n",
       "      <td>N</td>\n",
       "      <td>4.0</td>\n",
       "      <td>2.0</td>\n",
       "      <td>N</td>\n",
       "      <td>N</td>\n",
       "      <td>23.08</td>\n",
       "      <td>N</td>\n",
       "      <td>N</td>\n",
       "      <td>35.0</td>\n",
       "      <td>3.0</td>\n",
       "      <td>21.0</td>\n",
       "      <td>1.0</td>\n",
       "      <td>17.0</td>\n",
       "      <td>1.0</td>\n",
       "      <td>1.0</td>\n",
       "      <td>6.01</td>\n",
       "      <td>20160603.0</td>\n",
       "      <td>01:17:00</td>\n",
       "      <td>N</td>\n",
       "      <td>39.619699</td>\n",
       "      <td>-77.769977</td>\n",
       "    </tr>\n",
       "    <tr>\n",
       "      <th>3</th>\n",
       "      <td>M</td>\n",
       "      <td>1</td>\n",
       "      <td>1.0</td>\n",
       "      <td>13.0</td>\n",
       "      <td>S</td>\n",
       "      <td>4.0</td>\n",
       "      <td>7.0</td>\n",
       "      <td>N</td>\n",
       "      <td>S</td>\n",
       "      <td>2.00</td>\n",
       "      <td>N</td>\n",
       "      <td>N</td>\n",
       "      <td>40.0</td>\n",
       "      <td>1.0</td>\n",
       "      <td>23.0</td>\n",
       "      <td>3.0</td>\n",
       "      <td>8.0</td>\n",
       "      <td>2.0</td>\n",
       "      <td>1.0</td>\n",
       "      <td>6.01</td>\n",
       "      <td>20180903.0</td>\n",
       "      <td>06:51:00</td>\n",
       "      <td>Y</td>\n",
       "      <td>38.387455</td>\n",
       "      <td>-75.065723</td>\n",
       "    </tr>\n",
       "    <tr>\n",
       "      <th>4</th>\n",
       "      <td>F</td>\n",
       "      <td>1</td>\n",
       "      <td>1.0</td>\n",
       "      <td>13.0</td>\n",
       "      <td>E</td>\n",
       "      <td>2.0</td>\n",
       "      <td>15.0</td>\n",
       "      <td>N</td>\n",
       "      <td>E</td>\n",
       "      <td>2.00</td>\n",
       "      <td>N</td>\n",
       "      <td>N</td>\n",
       "      <td>35.0</td>\n",
       "      <td>1.0</td>\n",
       "      <td>16.0</td>\n",
       "      <td>2.0</td>\n",
       "      <td>11.0</td>\n",
       "      <td>2.0</td>\n",
       "      <td>1.0</td>\n",
       "      <td>6.01</td>\n",
       "      <td>20150503.0</td>\n",
       "      <td>12:45:00</td>\n",
       "      <td>Y</td>\n",
       "      <td>38.939275</td>\n",
       "      <td>-76.915326</td>\n",
       "    </tr>\n",
       "  </tbody>\n",
       "</table>\n",
       "</div>"
      ],
      "text/plain": [
       "  SEX_CODE  INJ_SEVER_CODE  EQUIP_PROB_CODE  SAF_EQUIP_CODE  \\\n",
       "0        F               1              0.0             0.0   \n",
       "1        M               2              0.0            13.0   \n",
       "2        F               3              1.0            13.0   \n",
       "3        M               1              1.0            13.0   \n",
       "4        F               1              1.0            13.0   \n",
       "\n",
       "  CONTI_DIRECTION_CODE  DAMAGE_CODE  MOVEMENT_CODE_y COMMERCIAL_FLAG  \\\n",
       "0                  NaN          2.0             10.0               N   \n",
       "1                    E          4.0             12.0               N   \n",
       "2                    N          4.0              2.0               N   \n",
       "3                    S          4.0              7.0               N   \n",
       "4                    E          2.0             15.0               N   \n",
       "\n",
       "  GOING_DIRECTION_CODE  BODY_TYPE_CODE DRIVERLESS_FLAG PARKED_FLAG  \\\n",
       "0                  NaN           21.00               N           Y   \n",
       "1                    S            2.00               N           N   \n",
       "2                    N           23.08               N           N   \n",
       "3                    S            2.00               N           N   \n",
       "4                    E            2.00               N           N   \n",
       "\n",
       "   SPEED_LIMIT  LIGHT_CODE  COUNTY_NO  JUNCTION_CODE  COLLISION_TYPE_CODE  \\\n",
       "0          0.0         1.0        3.0            2.0                 88.0   \n",
       "1         35.0         1.0       16.0            2.0                 11.0   \n",
       "2         35.0         3.0       21.0            1.0                 17.0   \n",
       "3         40.0         1.0       23.0            3.0                  8.0   \n",
       "4         35.0         1.0       16.0            2.0                 11.0   \n",
       "\n",
       "   SURF_COND_CODE  RD_COND_CODE  WEATHER_CODE    ACC_DATE  ACC_TIME  \\\n",
       "0             2.0           1.0          6.01  20170620.0  09:27:00   \n",
       "1             2.0           1.0          6.01  20170402.0  13:26:00   \n",
       "2             1.0           1.0          6.01  20160603.0  01:17:00   \n",
       "3             2.0           1.0          6.01  20180903.0  06:51:00   \n",
       "4             2.0           1.0          6.01  20150503.0  12:45:00   \n",
       "\n",
       "  SIGNAL_FLAG   LATITUDE  LONGITUDE  \n",
       "0           N  39.316645 -76.728809  \n",
       "1           Y  38.848088 -76.878811  \n",
       "2           N  39.619699 -77.769977  \n",
       "3           Y  38.387455 -75.065723  \n",
       "4           Y  38.939275 -76.915326  "
      ]
     },
     "execution_count": 13,
     "metadata": {},
     "output_type": "execute_result"
    }
   ],
   "source": [
    "data.head()"
   ]
  },
  {
   "cell_type": "code",
   "execution_count": 14,
   "metadata": {},
   "outputs": [
    {
     "name": "stdout",
     "output_type": "stream",
     "text": [
      "Index(['SEX_CODE', 'CONTI_DIRECTION_CODE', 'COMMERCIAL_FLAG',\n",
      "       'GOING_DIRECTION_CODE', 'DRIVERLESS_FLAG', 'PARKED_FLAG', 'ACC_TIME',\n",
      "       'SIGNAL_FLAG'],\n",
      "      dtype='object')\n"
     ]
    }
   ],
   "source": [
    "# Hay que transformar las variables categorias a numericas\n",
    "obj_df = data.select_dtypes(include=['object']).copy()\n",
    "print(obj_df.columns)"
   ]
  },
  {
   "cell_type": "code",
   "execution_count": 15,
   "metadata": {},
   "outputs": [],
   "source": [
    "# Importando Label Encoder\n",
    "from sklearn.preprocessing import LabelEncoder\n",
    "lb_encoder = LabelEncoder()"
   ]
  },
  {
   "cell_type": "code",
   "execution_count": 16,
   "metadata": {},
   "outputs": [],
   "source": [
    "# Quitando la variable ACC_TIME\n",
    "obj_df = obj_df[['SEX_CODE', 'CONTI_DIRECTION_CODE', \n",
    "                 'COMMERCIAL_FLAG','GOING_DIRECTION_CODE', \n",
    "                 'DRIVERLESS_FLAG', 'PARKED_FLAG','SIGNAL_FLAG']]"
   ]
  },
  {
   "cell_type": "code",
   "execution_count": 17,
   "metadata": {},
   "outputs": [],
   "source": [
    "# Creando un for para iterar por todo el subset\n",
    "for col in obj_df.columns:\n",
    "    data[col] = lb_encoder.fit_transform(data[col].astype(str))"
   ]
  },
  {
   "cell_type": "code",
   "execution_count": 18,
   "metadata": {
    "id": "2ff10335-2ddb-42ee-94b2-ddac62158576"
   },
   "outputs": [
    {
     "data": {
      "text/plain": [
       "(1728805, 25)"
      ]
     },
     "execution_count": 18,
     "metadata": {},
     "output_type": "execute_result"
    }
   ],
   "source": [
    "data.shape"
   ]
  },
  {
   "cell_type": "code",
   "execution_count": 19,
   "metadata": {
    "id": "2a55ecd3-3b4a-4a4c-a04a-6386b7fea131"
   },
   "outputs": [
    {
     "data": {
      "text/plain": [
       "SEX_CODE                  int64\n",
       "INJ_SEVER_CODE            int64\n",
       "EQUIP_PROB_CODE         float64\n",
       "SAF_EQUIP_CODE          float64\n",
       "CONTI_DIRECTION_CODE      int64\n",
       "DAMAGE_CODE             float64\n",
       "MOVEMENT_CODE_y         float64\n",
       "COMMERCIAL_FLAG           int64\n",
       "GOING_DIRECTION_CODE      int64\n",
       "BODY_TYPE_CODE          float64\n",
       "DRIVERLESS_FLAG           int64\n",
       "PARKED_FLAG               int64\n",
       "SPEED_LIMIT             float64\n",
       "LIGHT_CODE              float64\n",
       "COUNTY_NO               float64\n",
       "JUNCTION_CODE           float64\n",
       "COLLISION_TYPE_CODE     float64\n",
       "SURF_COND_CODE          float64\n",
       "RD_COND_CODE            float64\n",
       "WEATHER_CODE            float64\n",
       "ACC_DATE                float64\n",
       "ACC_TIME                 object\n",
       "SIGNAL_FLAG               int64\n",
       "LATITUDE                float64\n",
       "LONGITUDE               float64\n",
       "dtype: object"
      ]
     },
     "execution_count": 19,
     "metadata": {},
     "output_type": "execute_result"
    }
   ],
   "source": [
    "# Comprobando si las variables fueron convertidas de forma correcta\n",
    "data.dtypes"
   ]
  },
  {
   "cell_type": "markdown",
   "metadata": {
    "id": "a21d059d-74d8-4f04-a136-e2a7d5b83693"
   },
   "source": [
    "Se puede observar que todas las variables ahora son integer o flotantes"
   ]
  },
  {
   "cell_type": "markdown",
   "metadata": {
    "id": "45efb93b-7e90-43b3-86a2-57caa07a59aa"
   },
   "source": [
    "#### Imputacion de valores nulos utilizando metodo de la moda\n",
    "\n",
    "Al ser variables categoricas hay que imputar usando algun metodo de imputacion que utilice las mas frecuentes, para este caso y por la cantidad de valores que se deben imputar vamos a utilizar la media, si se tuviese un cluster dedicado de procesamiento o un servidor se hubiese utilizado el KNNImputer."
   ]
  },
  {
   "cell_type": "code",
   "execution_count": 20,
   "metadata": {
    "id": "d8ec1708-0a9b-444d-8fcb-a4c179d085dc"
   },
   "outputs": [
    {
     "data": {
      "text/plain": [
       "SEX_CODE                     0\n",
       "INJ_SEVER_CODE               0\n",
       "EQUIP_PROB_CODE          31298\n",
       "SAF_EQUIP_CODE               0\n",
       "CONTI_DIRECTION_CODE         0\n",
       "DAMAGE_CODE              31302\n",
       "MOVEMENT_CODE_y          31302\n",
       "COMMERCIAL_FLAG              0\n",
       "GOING_DIRECTION_CODE         0\n",
       "BODY_TYPE_CODE           85659\n",
       "DRIVERLESS_FLAG              0\n",
       "PARKED_FLAG                  0\n",
       "SPEED_LIMIT              31302\n",
       "LIGHT_CODE                  41\n",
       "COUNTY_NO                   56\n",
       "JUNCTION_CODE           122812\n",
       "COLLISION_TYPE_CODE         41\n",
       "SURF_COND_CODE          122812\n",
       "RD_COND_CODE            122812\n",
       "WEATHER_CODE                41\n",
       "ACC_DATE                    41\n",
       "ACC_TIME                    41\n",
       "SIGNAL_FLAG                  0\n",
       "LATITUDE                    41\n",
       "LONGITUDE                   41\n",
       "dtype: int64"
      ]
     },
     "execution_count": 20,
     "metadata": {},
     "output_type": "execute_result"
    }
   ],
   "source": [
    "# Imputando valores nulos utilizando la moda\n",
    "np.sum(data.isnull())"
   ]
  },
  {
   "cell_type": "code",
   "execution_count": 21,
   "metadata": {
    "id": "b85881b2-7c74-49ac-b63f-5c2be6139632"
   },
   "outputs": [],
   "source": [
    "data = data.reset_index()"
   ]
  },
  {
   "cell_type": "code",
   "execution_count": 22,
   "metadata": {
    "id": "c6778bde-e434-4c85-b2a1-2b2de0252ab8"
   },
   "outputs": [],
   "source": [
    "data = data.fillna(data.mode().iloc[0])"
   ]
  },
  {
   "cell_type": "code",
   "execution_count": 23,
   "metadata": {
    "id": "3c776da8-2a34-43f8-9a72-0da7e21ee7e9"
   },
   "outputs": [
    {
     "data": {
      "text/plain": [
       "index                   0\n",
       "SEX_CODE                0\n",
       "INJ_SEVER_CODE          0\n",
       "EQUIP_PROB_CODE         0\n",
       "SAF_EQUIP_CODE          0\n",
       "CONTI_DIRECTION_CODE    0\n",
       "DAMAGE_CODE             0\n",
       "MOVEMENT_CODE_y         0\n",
       "COMMERCIAL_FLAG         0\n",
       "GOING_DIRECTION_CODE    0\n",
       "BODY_TYPE_CODE          0\n",
       "DRIVERLESS_FLAG         0\n",
       "PARKED_FLAG             0\n",
       "SPEED_LIMIT             0\n",
       "LIGHT_CODE              0\n",
       "COUNTY_NO               0\n",
       "JUNCTION_CODE           0\n",
       "COLLISION_TYPE_CODE     0\n",
       "SURF_COND_CODE          0\n",
       "RD_COND_CODE            0\n",
       "WEATHER_CODE            0\n",
       "ACC_DATE                0\n",
       "ACC_TIME                0\n",
       "SIGNAL_FLAG             0\n",
       "LATITUDE                0\n",
       "LONGITUDE               0\n",
       "dtype: int64"
      ]
     },
     "execution_count": 23,
     "metadata": {},
     "output_type": "execute_result"
    }
   ],
   "source": [
    "# Comprobando si hay valores nulos despues de la imputacion\n",
    "np.sum(data.isnull())"
   ]
  },
  {
   "cell_type": "code",
   "execution_count": 24,
   "metadata": {
    "id": "562015f5-3d06-4a5b-b5a9-977c88f02f3d"
   },
   "outputs": [
    {
     "data": {
      "text/plain": [
       "index                     int64\n",
       "SEX_CODE                  int64\n",
       "INJ_SEVER_CODE            int64\n",
       "EQUIP_PROB_CODE         float64\n",
       "SAF_EQUIP_CODE          float64\n",
       "CONTI_DIRECTION_CODE      int64\n",
       "DAMAGE_CODE             float64\n",
       "MOVEMENT_CODE_y         float64\n",
       "COMMERCIAL_FLAG           int64\n",
       "GOING_DIRECTION_CODE      int64\n",
       "BODY_TYPE_CODE          float64\n",
       "DRIVERLESS_FLAG           int64\n",
       "PARKED_FLAG               int64\n",
       "SPEED_LIMIT             float64\n",
       "LIGHT_CODE              float64\n",
       "COUNTY_NO               float64\n",
       "JUNCTION_CODE           float64\n",
       "COLLISION_TYPE_CODE     float64\n",
       "SURF_COND_CODE          float64\n",
       "RD_COND_CODE            float64\n",
       "WEATHER_CODE            float64\n",
       "ACC_DATE                float64\n",
       "ACC_TIME                 object\n",
       "SIGNAL_FLAG               int64\n",
       "LATITUDE                float64\n",
       "LONGITUDE               float64\n",
       "dtype: object"
      ]
     },
     "execution_count": 24,
     "metadata": {},
     "output_type": "execute_result"
    }
   ],
   "source": [
    "# Comprobando si las variables fueron convertidas de forma correcta\n",
    "data.dtypes"
   ]
  },
  {
   "cell_type": "markdown",
   "metadata": {
    "id": "f8967b02-c2e3-4569-9226-102acd201012"
   },
   "source": [
    "Ahora se puede observar como todas las variables son de formato \"integer64\", menos latitude y longitude."
   ]
  },
  {
   "cell_type": "code",
   "execution_count": 25,
   "metadata": {
    "id": "71017aa1-fe39-4c87-a270-78dcef235dc7"
   },
   "outputs": [
    {
     "data": {
      "text/plain": [
       "(1728805, 26)"
      ]
     },
     "execution_count": 25,
     "metadata": {},
     "output_type": "execute_result"
    }
   ],
   "source": [
    "data.shape"
   ]
  },
  {
   "cell_type": "code",
   "execution_count": 26,
   "metadata": {
    "id": "9fff1817-3a1d-487c-83dc-6424e7693ee7"
   },
   "outputs": [
    {
     "name": "stdout",
     "output_type": "stream",
     "text": [
      "Index(['EQUIP_PROB_CODE', 'SAF_EQUIP_CODE', 'DAMAGE_CODE', 'MOVEMENT_CODE_y',\n",
      "       'BODY_TYPE_CODE', 'SPEED_LIMIT', 'LIGHT_CODE', 'COUNTY_NO',\n",
      "       'JUNCTION_CODE', 'COLLISION_TYPE_CODE', 'SURF_COND_CODE',\n",
      "       'RD_COND_CODE', 'WEATHER_CODE', 'ACC_DATE', 'LATITUDE', 'LONGITUDE'],\n",
      "      dtype='object')\n"
     ]
    }
   ],
   "source": [
    "# Aplicando funcion floor a las variables flotantes\n",
    "obj_floor = data.select_dtypes(include=['float']).copy()\n",
    "print(obj_floor.columns)"
   ]
  },
  {
   "cell_type": "code",
   "execution_count": 27,
   "metadata": {
    "id": "cb0cef90-f242-4f25-a315-bf2f4f1702bc"
   },
   "outputs": [],
   "source": [
    "obj_floor = obj_floor[['LIGHT_CODE', 'COUNTY_NO', 'JUNCTION_CODE', 'SURF_COND_CODE',\n",
    "                       'RD_COND_CODE', 'WEATHER_CODE', 'EQUIP_PROB_CODE', \n",
    "                       'SAF_EQUIP_CODE', 'DAMAGE_CODE','MOVEMENT_CODE_y', 'BODY_TYPE_CODE', \n",
    "                       'SPEED_LIMIT']]"
   ]
  },
  {
   "cell_type": "code",
   "execution_count": 28,
   "metadata": {
    "id": "613fe5a2-41d7-49a7-8958-171ba4411439"
   },
   "outputs": [
    {
     "data": {
      "text/plain": [
       "13.00    1225675\n",
       "99.00     217594\n",
       "0.00      127544\n",
       "1.00       82996\n",
       "15.14      22859\n",
       "12.00      10266\n",
       "11.00       9895\n",
       "16.14       8500\n",
       "21.00       6705\n",
       "17.14       5030\n",
       "18.14       3290\n",
       "23.00       3223\n",
       "88.00       3168\n",
       "24.88       1064\n",
       "25.88        741\n",
       "26.88        148\n",
       "22.00        107\n",
       "Name: SAF_EQUIP_CODE, dtype: int64"
      ]
     },
     "execution_count": 28,
     "metadata": {},
     "output_type": "execute_result"
    }
   ],
   "source": [
    "# Comprobando decimales en los factores\n",
    "obj_floor['SAF_EQUIP_CODE'].value_counts()"
   ]
  },
  {
   "cell_type": "code",
   "execution_count": 29,
   "metadata": {
    "id": "9a6b7382-d0ce-418a-94bf-89a5114e853c"
   },
   "outputs": [],
   "source": [
    "# Creando un for para iterar por todo el subset\n",
    "for col in obj_floor.columns:\n",
    "    data[col] = np.floor(data[col])"
   ]
  },
  {
   "cell_type": "code",
   "execution_count": 30,
   "metadata": {
    "id": "63ff6c46-acab-4e3e-882f-8caa3cae2e4e"
   },
   "outputs": [
    {
     "data": {
      "text/plain": [
       "13.0    1225675\n",
       "99.0     217594\n",
       "0.0      127544\n",
       "1.0       82996\n",
       "15.0      22859\n",
       "12.0      10266\n",
       "11.0       9895\n",
       "16.0       8500\n",
       "21.0       6705\n",
       "17.0       5030\n",
       "18.0       3290\n",
       "23.0       3223\n",
       "88.0       3168\n",
       "24.0       1064\n",
       "25.0        741\n",
       "26.0        148\n",
       "22.0        107\n",
       "Name: SAF_EQUIP_CODE, dtype: int64"
      ]
     },
     "execution_count": 30,
     "metadata": {},
     "output_type": "execute_result"
    }
   ],
   "source": [
    "# Las variables fueron redondeadas a las decena mas cercana (siempre redondeando hacia abajo con exito).\n",
    "data['SAF_EQUIP_CODE'].value_counts()"
   ]
  },
  {
   "cell_type": "markdown",
   "metadata": {
    "id": "5d0f9a70-eb4c-4e13-b6de-f25e9e1f2c1c"
   },
   "source": [
    "Se puede observar como los valores fueron limpiados correctamente. \n",
    "\n",
    "Ahora vamos a hacer un feature engineering para la variable \"ACC_DATE\", para con ello poder extraer el ano, el mes y el dia en que ocurrieron los accidentes y asi poder modelar para encontrar asociaciones entre los registros."
   ]
  },
  {
   "cell_type": "code",
   "execution_count": 31,
   "metadata": {
    "id": "a9bd218a-b3f2-4b46-b4f8-5031786d830d"
   },
   "outputs": [
    {
     "data": {
      "text/plain": [
       "index                     int64\n",
       "SEX_CODE                  int64\n",
       "INJ_SEVER_CODE            int64\n",
       "EQUIP_PROB_CODE         float64\n",
       "SAF_EQUIP_CODE          float64\n",
       "CONTI_DIRECTION_CODE      int64\n",
       "DAMAGE_CODE             float64\n",
       "MOVEMENT_CODE_y         float64\n",
       "COMMERCIAL_FLAG           int64\n",
       "GOING_DIRECTION_CODE      int64\n",
       "BODY_TYPE_CODE          float64\n",
       "DRIVERLESS_FLAG           int64\n",
       "PARKED_FLAG               int64\n",
       "SPEED_LIMIT             float64\n",
       "LIGHT_CODE              float64\n",
       "COUNTY_NO               float64\n",
       "JUNCTION_CODE           float64\n",
       "COLLISION_TYPE_CODE     float64\n",
       "SURF_COND_CODE          float64\n",
       "RD_COND_CODE            float64\n",
       "WEATHER_CODE            float64\n",
       "ACC_DATE                float64\n",
       "ACC_TIME                 object\n",
       "SIGNAL_FLAG               int64\n",
       "LATITUDE                float64\n",
       "LONGITUDE               float64\n",
       "dtype: object"
      ]
     },
     "execution_count": 31,
     "metadata": {},
     "output_type": "execute_result"
    }
   ],
   "source": [
    "data.dtypes"
   ]
  },
  {
   "cell_type": "code",
   "execution_count": 32,
   "metadata": {
    "id": "13b18d98-2c26-4603-97c9-cdde50ff7dbd"
   },
   "outputs": [],
   "source": [
    "# Haciendo conversiones necesarias en la variable\n",
    "data['ACC_DATE'] = data['ACC_DATE'].astype('int')\n",
    "data['ACC_DATE'] = data['ACC_DATE'].astype('string')"
   ]
  },
  {
   "cell_type": "code",
   "execution_count": 33,
   "metadata": {
    "id": "JADP-f4HNZfY"
   },
   "outputs": [],
   "source": [
    "# Extrayendo de la variable la hora ACC_TIME en formato estandar de integer\n",
    "data['ACC_TIME'] = data['ACC_TIME'].astype('string')\n",
    "data['HOUR'] = data['ACC_TIME'].str.slice(0,2)\n",
    "data['HOUR'] = data['HOUR'].astype(int)"
   ]
  },
  {
   "cell_type": "code",
   "execution_count": 34,
   "metadata": {
    "id": "90782eb8-e359-4414-b2d0-5e08ec01002c"
   },
   "outputs": [],
   "source": [
    "# Creando variable de año y convirtiendola a formato de \"integer\"\n",
    "data['year'] = data['ACC_DATE'].str.slice(0, 4)\n",
    "data['year'] = data['year'].astype(int)"
   ]
  },
  {
   "cell_type": "code",
   "execution_count": 35,
   "metadata": {
    "id": "b2892a3a-d4be-4065-9aab-5bb9bbd002dc"
   },
   "outputs": [],
   "source": [
    "# Creando variable de mes y convirtiendola a formato de \"integer\"\n",
    "data['month'] = data['ACC_DATE'].str.slice(4, -2)\n",
    "data['month'] = data['month'].astype(int)"
   ]
  },
  {
   "cell_type": "code",
   "execution_count": 36,
   "metadata": {
    "id": "6eb234a5-4519-4877-aaef-337859408c4f"
   },
   "outputs": [],
   "source": [
    "# Creando variable de dia y convirtiendola a formato de \"integer\"\n",
    "data['day'] = data['ACC_DATE'].str.slice(6)\n",
    "data['day'] = data['day'].astype(int)"
   ]
  },
  {
   "cell_type": "code",
   "execution_count": 37,
   "metadata": {
    "id": "6f0QMZhEMHPg"
   },
   "outputs": [
    {
     "data": {
      "text/html": [
       "<div>\n",
       "<style scoped>\n",
       "    .dataframe tbody tr th:only-of-type {\n",
       "        vertical-align: middle;\n",
       "    }\n",
       "\n",
       "    .dataframe tbody tr th {\n",
       "        vertical-align: top;\n",
       "    }\n",
       "\n",
       "    .dataframe thead th {\n",
       "        text-align: right;\n",
       "    }\n",
       "</style>\n",
       "<table border=\"1\" class=\"dataframe\">\n",
       "  <thead>\n",
       "    <tr style=\"text-align: right;\">\n",
       "      <th></th>\n",
       "      <th>index</th>\n",
       "      <th>SEX_CODE</th>\n",
       "      <th>INJ_SEVER_CODE</th>\n",
       "      <th>EQUIP_PROB_CODE</th>\n",
       "      <th>SAF_EQUIP_CODE</th>\n",
       "      <th>CONTI_DIRECTION_CODE</th>\n",
       "      <th>DAMAGE_CODE</th>\n",
       "      <th>MOVEMENT_CODE_y</th>\n",
       "      <th>COMMERCIAL_FLAG</th>\n",
       "      <th>GOING_DIRECTION_CODE</th>\n",
       "      <th>BODY_TYPE_CODE</th>\n",
       "      <th>DRIVERLESS_FLAG</th>\n",
       "      <th>PARKED_FLAG</th>\n",
       "      <th>SPEED_LIMIT</th>\n",
       "      <th>LIGHT_CODE</th>\n",
       "      <th>COUNTY_NO</th>\n",
       "      <th>JUNCTION_CODE</th>\n",
       "      <th>COLLISION_TYPE_CODE</th>\n",
       "      <th>SURF_COND_CODE</th>\n",
       "      <th>RD_COND_CODE</th>\n",
       "      <th>WEATHER_CODE</th>\n",
       "      <th>ACC_DATE</th>\n",
       "      <th>ACC_TIME</th>\n",
       "      <th>SIGNAL_FLAG</th>\n",
       "      <th>LATITUDE</th>\n",
       "      <th>LONGITUDE</th>\n",
       "      <th>HOUR</th>\n",
       "      <th>year</th>\n",
       "      <th>month</th>\n",
       "      <th>day</th>\n",
       "    </tr>\n",
       "  </thead>\n",
       "  <tbody>\n",
       "    <tr>\n",
       "      <th>0</th>\n",
       "      <td>0</td>\n",
       "      <td>0</td>\n",
       "      <td>1</td>\n",
       "      <td>0.0</td>\n",
       "      <td>0.0</td>\n",
       "      <td>5</td>\n",
       "      <td>2.0</td>\n",
       "      <td>10.0</td>\n",
       "      <td>0</td>\n",
       "      <td>5</td>\n",
       "      <td>21.0</td>\n",
       "      <td>0</td>\n",
       "      <td>1</td>\n",
       "      <td>0.0</td>\n",
       "      <td>1.0</td>\n",
       "      <td>3.0</td>\n",
       "      <td>2.0</td>\n",
       "      <td>88.0</td>\n",
       "      <td>2.0</td>\n",
       "      <td>1.0</td>\n",
       "      <td>6.0</td>\n",
       "      <td>20170620</td>\n",
       "      <td>09:27:00</td>\n",
       "      <td>0</td>\n",
       "      <td>39.316645</td>\n",
       "      <td>-76.728809</td>\n",
       "      <td>9</td>\n",
       "      <td>2017</td>\n",
       "      <td>6</td>\n",
       "      <td>20</td>\n",
       "    </tr>\n",
       "    <tr>\n",
       "      <th>1</th>\n",
       "      <td>1</td>\n",
       "      <td>1</td>\n",
       "      <td>2</td>\n",
       "      <td>0.0</td>\n",
       "      <td>13.0</td>\n",
       "      <td>0</td>\n",
       "      <td>4.0</td>\n",
       "      <td>12.0</td>\n",
       "      <td>0</td>\n",
       "      <td>2</td>\n",
       "      <td>2.0</td>\n",
       "      <td>0</td>\n",
       "      <td>0</td>\n",
       "      <td>35.0</td>\n",
       "      <td>1.0</td>\n",
       "      <td>16.0</td>\n",
       "      <td>2.0</td>\n",
       "      <td>11.0</td>\n",
       "      <td>2.0</td>\n",
       "      <td>1.0</td>\n",
       "      <td>6.0</td>\n",
       "      <td>20170402</td>\n",
       "      <td>13:26:00</td>\n",
       "      <td>1</td>\n",
       "      <td>38.848088</td>\n",
       "      <td>-76.878811</td>\n",
       "      <td>13</td>\n",
       "      <td>2017</td>\n",
       "      <td>4</td>\n",
       "      <td>2</td>\n",
       "    </tr>\n",
       "    <tr>\n",
       "      <th>2</th>\n",
       "      <td>2</td>\n",
       "      <td>0</td>\n",
       "      <td>3</td>\n",
       "      <td>1.0</td>\n",
       "      <td>13.0</td>\n",
       "      <td>1</td>\n",
       "      <td>4.0</td>\n",
       "      <td>2.0</td>\n",
       "      <td>0</td>\n",
       "      <td>1</td>\n",
       "      <td>23.0</td>\n",
       "      <td>0</td>\n",
       "      <td>0</td>\n",
       "      <td>35.0</td>\n",
       "      <td>3.0</td>\n",
       "      <td>21.0</td>\n",
       "      <td>1.0</td>\n",
       "      <td>17.0</td>\n",
       "      <td>1.0</td>\n",
       "      <td>1.0</td>\n",
       "      <td>6.0</td>\n",
       "      <td>20160603</td>\n",
       "      <td>01:17:00</td>\n",
       "      <td>0</td>\n",
       "      <td>39.619699</td>\n",
       "      <td>-77.769977</td>\n",
       "      <td>1</td>\n",
       "      <td>2016</td>\n",
       "      <td>6</td>\n",
       "      <td>3</td>\n",
       "    </tr>\n",
       "    <tr>\n",
       "      <th>3</th>\n",
       "      <td>3</td>\n",
       "      <td>1</td>\n",
       "      <td>1</td>\n",
       "      <td>1.0</td>\n",
       "      <td>13.0</td>\n",
       "      <td>2</td>\n",
       "      <td>4.0</td>\n",
       "      <td>7.0</td>\n",
       "      <td>0</td>\n",
       "      <td>2</td>\n",
       "      <td>2.0</td>\n",
       "      <td>0</td>\n",
       "      <td>0</td>\n",
       "      <td>40.0</td>\n",
       "      <td>1.0</td>\n",
       "      <td>23.0</td>\n",
       "      <td>3.0</td>\n",
       "      <td>8.0</td>\n",
       "      <td>2.0</td>\n",
       "      <td>1.0</td>\n",
       "      <td>6.0</td>\n",
       "      <td>20180903</td>\n",
       "      <td>06:51:00</td>\n",
       "      <td>1</td>\n",
       "      <td>38.387455</td>\n",
       "      <td>-75.065723</td>\n",
       "      <td>6</td>\n",
       "      <td>2018</td>\n",
       "      <td>9</td>\n",
       "      <td>3</td>\n",
       "    </tr>\n",
       "    <tr>\n",
       "      <th>4</th>\n",
       "      <td>4</td>\n",
       "      <td>0</td>\n",
       "      <td>1</td>\n",
       "      <td>1.0</td>\n",
       "      <td>13.0</td>\n",
       "      <td>0</td>\n",
       "      <td>2.0</td>\n",
       "      <td>15.0</td>\n",
       "      <td>0</td>\n",
       "      <td>0</td>\n",
       "      <td>2.0</td>\n",
       "      <td>0</td>\n",
       "      <td>0</td>\n",
       "      <td>35.0</td>\n",
       "      <td>1.0</td>\n",
       "      <td>16.0</td>\n",
       "      <td>2.0</td>\n",
       "      <td>11.0</td>\n",
       "      <td>2.0</td>\n",
       "      <td>1.0</td>\n",
       "      <td>6.0</td>\n",
       "      <td>20150503</td>\n",
       "      <td>12:45:00</td>\n",
       "      <td>1</td>\n",
       "      <td>38.939275</td>\n",
       "      <td>-76.915326</td>\n",
       "      <td>12</td>\n",
       "      <td>2015</td>\n",
       "      <td>5</td>\n",
       "      <td>3</td>\n",
       "    </tr>\n",
       "  </tbody>\n",
       "</table>\n",
       "</div>"
      ],
      "text/plain": [
       "   index  SEX_CODE  INJ_SEVER_CODE  EQUIP_PROB_CODE  SAF_EQUIP_CODE  \\\n",
       "0      0         0               1              0.0             0.0   \n",
       "1      1         1               2              0.0            13.0   \n",
       "2      2         0               3              1.0            13.0   \n",
       "3      3         1               1              1.0            13.0   \n",
       "4      4         0               1              1.0            13.0   \n",
       "\n",
       "   CONTI_DIRECTION_CODE  DAMAGE_CODE  MOVEMENT_CODE_y  COMMERCIAL_FLAG  \\\n",
       "0                     5          2.0             10.0                0   \n",
       "1                     0          4.0             12.0                0   \n",
       "2                     1          4.0              2.0                0   \n",
       "3                     2          4.0              7.0                0   \n",
       "4                     0          2.0             15.0                0   \n",
       "\n",
       "   GOING_DIRECTION_CODE  BODY_TYPE_CODE  DRIVERLESS_FLAG  PARKED_FLAG  \\\n",
       "0                     5            21.0                0            1   \n",
       "1                     2             2.0                0            0   \n",
       "2                     1            23.0                0            0   \n",
       "3                     2             2.0                0            0   \n",
       "4                     0             2.0                0            0   \n",
       "\n",
       "   SPEED_LIMIT  LIGHT_CODE  COUNTY_NO  JUNCTION_CODE  COLLISION_TYPE_CODE  \\\n",
       "0          0.0         1.0        3.0            2.0                 88.0   \n",
       "1         35.0         1.0       16.0            2.0                 11.0   \n",
       "2         35.0         3.0       21.0            1.0                 17.0   \n",
       "3         40.0         1.0       23.0            3.0                  8.0   \n",
       "4         35.0         1.0       16.0            2.0                 11.0   \n",
       "\n",
       "   SURF_COND_CODE  RD_COND_CODE  WEATHER_CODE  ACC_DATE  ACC_TIME  \\\n",
       "0             2.0           1.0           6.0  20170620  09:27:00   \n",
       "1             2.0           1.0           6.0  20170402  13:26:00   \n",
       "2             1.0           1.0           6.0  20160603  01:17:00   \n",
       "3             2.0           1.0           6.0  20180903  06:51:00   \n",
       "4             2.0           1.0           6.0  20150503  12:45:00   \n",
       "\n",
       "   SIGNAL_FLAG   LATITUDE  LONGITUDE  HOUR  year  month  day  \n",
       "0            0  39.316645 -76.728809     9  2017      6   20  \n",
       "1            1  38.848088 -76.878811    13  2017      4    2  \n",
       "2            0  39.619699 -77.769977     1  2016      6    3  \n",
       "3            1  38.387455 -75.065723     6  2018      9    3  \n",
       "4            1  38.939275 -76.915326    12  2015      5    3  "
      ]
     },
     "execution_count": 37,
     "metadata": {},
     "output_type": "execute_result"
    }
   ],
   "source": [
    "# Comprobando nuevas variables creadas\n",
    "data.head()"
   ]
  },
  {
   "cell_type": "markdown",
   "metadata": {
    "id": "7cfbc137-79f1-40a0-8990-969f471e2ffc"
   },
   "source": [
    "Como podemos obversar pudimos extraer las fechas y ahora podemos eliminar la variable: \"ACC_DATE\" y la variable \"ACC_TIME\" ya que solo se va a trabajar con las fechas especificas. "
   ]
  },
  {
   "cell_type": "code",
   "execution_count": 38,
   "metadata": {
    "id": "189c3115-0e8f-4576-8923-631f62250454"
   },
   "outputs": [
    {
     "data": {
      "text/plain": [
       "index                     int64\n",
       "SEX_CODE                  int64\n",
       "INJ_SEVER_CODE            int64\n",
       "EQUIP_PROB_CODE         float64\n",
       "SAF_EQUIP_CODE          float64\n",
       "CONTI_DIRECTION_CODE      int64\n",
       "DAMAGE_CODE             float64\n",
       "MOVEMENT_CODE_y         float64\n",
       "COMMERCIAL_FLAG           int64\n",
       "GOING_DIRECTION_CODE      int64\n",
       "BODY_TYPE_CODE          float64\n",
       "DRIVERLESS_FLAG           int64\n",
       "PARKED_FLAG               int64\n",
       "SPEED_LIMIT             float64\n",
       "LIGHT_CODE              float64\n",
       "COUNTY_NO               float64\n",
       "JUNCTION_CODE           float64\n",
       "COLLISION_TYPE_CODE     float64\n",
       "SURF_COND_CODE          float64\n",
       "RD_COND_CODE            float64\n",
       "WEATHER_CODE            float64\n",
       "ACC_DATE                 string\n",
       "ACC_TIME                 string\n",
       "SIGNAL_FLAG               int64\n",
       "LATITUDE                float64\n",
       "LONGITUDE               float64\n",
       "HOUR                      int64\n",
       "year                      int64\n",
       "month                     int64\n",
       "day                       int64\n",
       "dtype: object"
      ]
     },
     "execution_count": 38,
     "metadata": {},
     "output_type": "execute_result"
    }
   ],
   "source": [
    "data.dtypes"
   ]
  },
  {
   "cell_type": "code",
   "execution_count": 39,
   "metadata": {
    "id": "d2e5b14e-55bd-4fa0-9bd1-c63209f5ffb7"
   },
   "outputs": [
    {
     "data": {
      "text/plain": [
       "Index(['index', 'SEX_CODE', 'INJ_SEVER_CODE', 'EQUIP_PROB_CODE',\n",
       "       'SAF_EQUIP_CODE', 'CONTI_DIRECTION_CODE', 'DAMAGE_CODE',\n",
       "       'MOVEMENT_CODE_y', 'COMMERCIAL_FLAG', 'GOING_DIRECTION_CODE',\n",
       "       'BODY_TYPE_CODE', 'DRIVERLESS_FLAG', 'PARKED_FLAG', 'SPEED_LIMIT',\n",
       "       'LIGHT_CODE', 'COUNTY_NO', 'JUNCTION_CODE', 'COLLISION_TYPE_CODE',\n",
       "       'SURF_COND_CODE', 'RD_COND_CODE', 'WEATHER_CODE', 'ACC_DATE',\n",
       "       'ACC_TIME', 'SIGNAL_FLAG', 'LATITUDE', 'LONGITUDE', 'HOUR', 'year',\n",
       "       'month', 'day'],\n",
       "      dtype='object')"
      ]
     },
     "execution_count": 39,
     "metadata": {},
     "output_type": "execute_result"
    }
   ],
   "source": [
    "data.columns"
   ]
  },
  {
   "cell_type": "code",
   "execution_count": 40,
   "metadata": {
    "id": "52ab3a8f-4252-45db-926a-94500a4e1206"
   },
   "outputs": [],
   "source": [
    "data = data[['LIGHT_CODE', 'JUNCTION_CODE','COLLISION_TYPE_CODE', 'SURF_COND_CODE', \n",
    "           'RD_COND_CODE', 'WEATHER_CODE', 'SIGNAL_FLAG', 'LATITUDE', 'LONGITUDE',\n",
    "           'SEX_CODE', 'INJ_SEVER_CODE', 'EQUIP_PROB_CODE','SAF_EQUIP_CODE','DAMAGE_CODE',\n",
    "           'MOVEMENT_CODE_y','COMMERCIAL_FLAG', 'BODY_TYPE_CODE','DRIVERLESS_FLAG',\n",
    "           'SPEED_LIMIT', 'HOUR', 'year','month', 'day']]"
   ]
  },
  {
   "cell_type": "code",
   "execution_count": 41,
   "metadata": {
    "id": "1288dbb7-221c-4ed5-9cc2-4865b0a9470e"
   },
   "outputs": [
    {
     "data": {
      "text/plain": [
       "Index(['LIGHT_CODE', 'JUNCTION_CODE', 'COLLISION_TYPE_CODE', 'SURF_COND_CODE',\n",
       "       'RD_COND_CODE', 'WEATHER_CODE', 'SIGNAL_FLAG', 'LATITUDE', 'LONGITUDE',\n",
       "       'SEX_CODE', 'INJ_SEVER_CODE', 'EQUIP_PROB_CODE', 'SAF_EQUIP_CODE',\n",
       "       'DAMAGE_CODE', 'MOVEMENT_CODE_y', 'COMMERCIAL_FLAG', 'BODY_TYPE_CODE',\n",
       "       'DRIVERLESS_FLAG', 'SPEED_LIMIT', 'HOUR', 'year', 'month', 'day'],\n",
       "      dtype='object')"
      ]
     },
     "execution_count": 41,
     "metadata": {},
     "output_type": "execute_result"
    }
   ],
   "source": [
    "data.columns"
   ]
  },
  {
   "cell_type": "code",
   "execution_count": 42,
   "metadata": {
    "id": "f13dd84c-9614-450f-bab2-95475bda28a2"
   },
   "outputs": [],
   "source": [
    "# Eliminando años 2015 por ser registros muy viejos; y 2020 y 2021 para impedir que la pandemia tenga influencia\n",
    "data = data[(data.year != 2015) & (data.year != 2020) & (data.year != 2021)]"
   ]
  },
  {
   "cell_type": "code",
   "execution_count": 43,
   "metadata": {
    "id": "72b14fa3-8972-446c-84cd-6ff2c85cbeaa"
   },
   "outputs": [
    {
     "data": {
      "text/plain": [
       "1    855912\n",
       "2    111713\n",
       "3     72960\n",
       "4     12425\n",
       "5      1886\n",
       "Name: INJ_SEVER_CODE, dtype: int64"
      ]
     },
     "execution_count": 43,
     "metadata": {},
     "output_type": "execute_result"
    }
   ],
   "source": [
    "data['INJ_SEVER_CODE'].value_counts()"
   ]
  },
  {
   "cell_type": "code",
   "execution_count": 44,
   "metadata": {
    "id": "80773395-f3d1-4718-8eb1-ac3544be3638"
   },
   "outputs": [],
   "source": [
    "# Convirtiendo variable de salida a string para crear asignacion\n",
    "data['INJ_SEVER_CODE'] = data['INJ_SEVER_CODE'].astype(str)"
   ]
  },
  {
   "cell_type": "code",
   "execution_count": 45,
   "metadata": {
    "id": "76ffe943-9986-450e-a5b7-4d1e62e776f1"
   },
   "outputs": [
    {
     "data": {
      "text/plain": [
       "1    855912\n",
       "2    111713\n",
       "3     72960\n",
       "4     12425\n",
       "5      1886\n",
       "Name: INJ_SEVER_CODE, dtype: int64"
      ]
     },
     "execution_count": 45,
     "metadata": {},
     "output_type": "execute_result"
    }
   ],
   "source": [
    "data['INJ_SEVER_CODE'].value_counts()"
   ]
  },
  {
   "cell_type": "code",
   "execution_count": 46,
   "metadata": {
    "id": "2a4dd316-a097-4d25-a730-8788d808240c"
   },
   "outputs": [],
   "source": [
    "# Empezando con reemplazo de valores para crear dos categorias de herido y no herido\n",
    "data['INJ_SEVER_CODE'] = data['INJ_SEVER_CODE'].str.replace('1', 'No')"
   ]
  },
  {
   "cell_type": "code",
   "execution_count": 47,
   "metadata": {
    "id": "dc5031d9-c082-443c-826e-74ff0644b491"
   },
   "outputs": [],
   "source": [
    "# Creando asignaciones restantes\n",
    "data['INJ_SEVER_CODE'] = data['INJ_SEVER_CODE'].str.replace('2','Si')\n",
    "data['INJ_SEVER_CODE'] = data['INJ_SEVER_CODE'].str.replace('3','Si')\n",
    "data['INJ_SEVER_CODE'] = data['INJ_SEVER_CODE'].str.replace('4','Si')\n",
    "data['INJ_SEVER_CODE'] = data['INJ_SEVER_CODE'].str.replace('5','Si')"
   ]
  },
  {
   "cell_type": "code",
   "execution_count": 48,
   "metadata": {
    "id": "c2389c6f-903a-49f6-a5a0-e1b475bd7298"
   },
   "outputs": [
    {
     "data": {
      "text/plain": [
       "No    855912\n",
       "Si    198984\n",
       "Name: INJ_SEVER_CODE, dtype: int64"
      ]
     },
     "execution_count": 48,
     "metadata": {},
     "output_type": "execute_result"
    }
   ],
   "source": [
    "# Corroborando nuevos valores creados\n",
    "data['INJ_SEVER_CODE'].value_counts()"
   ]
  },
  {
   "cell_type": "code",
   "execution_count": 49,
   "metadata": {
    "id": "94507034-af07-42df-ac04-2faba4352183"
   },
   "outputs": [
    {
     "data": {
      "text/plain": [
       "Index(['LIGHT_CODE', 'JUNCTION_CODE', 'COLLISION_TYPE_CODE', 'SURF_COND_CODE',\n",
       "       'RD_COND_CODE', 'WEATHER_CODE', 'SIGNAL_FLAG', 'LATITUDE', 'LONGITUDE',\n",
       "       'SEX_CODE', 'INJ_SEVER_CODE', 'EQUIP_PROB_CODE', 'SAF_EQUIP_CODE',\n",
       "       'DAMAGE_CODE', 'MOVEMENT_CODE_y', 'COMMERCIAL_FLAG', 'BODY_TYPE_CODE',\n",
       "       'DRIVERLESS_FLAG', 'SPEED_LIMIT', 'HOUR', 'year', 'month', 'day'],\n",
       "      dtype='object')"
      ]
     },
     "execution_count": 49,
     "metadata": {},
     "output_type": "execute_result"
    }
   ],
   "source": [
    "data.columns"
   ]
  },
  {
   "cell_type": "code",
   "execution_count": 50,
   "metadata": {
    "id": "80686f04-c5de-4153-8702-bb9709ed430b"
   },
   "outputs": [],
   "source": [
    "# Limpiando nombres de las variables\n",
    "data['YEAR'] = data['year']\n",
    "data['MONTH'] = data['month']\n",
    "data['DAY'] = data['day']\n",
    "data['MOVEMENT_CODE'] = data['MOVEMENT_CODE_y']"
   ]
  },
  {
   "cell_type": "code",
   "execution_count": 51,
   "metadata": {
    "id": "92b7edaa-daef-4cbc-9d0b-a16d12ea6abd"
   },
   "outputs": [
    {
     "data": {
      "text/plain": [
       "Index(['LIGHT_CODE', 'JUNCTION_CODE', 'COLLISION_TYPE_CODE', 'SURF_COND_CODE',\n",
       "       'RD_COND_CODE', 'WEATHER_CODE', 'SIGNAL_FLAG', 'LATITUDE', 'LONGITUDE',\n",
       "       'SEX_CODE', 'INJ_SEVER_CODE', 'EQUIP_PROB_CODE', 'SAF_EQUIP_CODE',\n",
       "       'DAMAGE_CODE', 'MOVEMENT_CODE_y', 'COMMERCIAL_FLAG', 'BODY_TYPE_CODE',\n",
       "       'DRIVERLESS_FLAG', 'SPEED_LIMIT', 'HOUR', 'year', 'month', 'day',\n",
       "       'YEAR', 'MONTH', 'DAY', 'MOVEMENT_CODE'],\n",
       "      dtype='object')"
      ]
     },
     "execution_count": 51,
     "metadata": {},
     "output_type": "execute_result"
    }
   ],
   "source": [
    "data.columns"
   ]
  },
  {
   "cell_type": "code",
   "execution_count": 52,
   "metadata": {
    "id": "34842368-734e-42ca-b38a-664a55baade3"
   },
   "outputs": [
    {
     "name": "stdout",
     "output_type": "stream",
     "text": [
      "Index(['INJ_SEVER_CODE'], dtype='object')\n"
     ]
    }
   ],
   "source": [
    "# Convirtiendo la variable de salida a numerica para aplicar pruebas de hipotesis\n",
    "obj_predictivo = data.select_dtypes(include=['object']).copy()\n",
    "print(obj_predictivo.columns)"
   ]
  },
  {
   "cell_type": "code",
   "execution_count": 53,
   "metadata": {
    "id": "3b3afae3-0bda-4dfb-8f66-2f3d678fd57f"
   },
   "outputs": [],
   "source": [
    "# Creando un for para iterar por todo el subset\n",
    "for col in obj_predictivo.columns:\n",
    "    data[col] = lb_encoder.fit_transform(data[col])"
   ]
  },
  {
   "cell_type": "code",
   "execution_count": 54,
   "metadata": {
    "id": "670b1a8c-978d-49d8-9d88-b71094c05ada"
   },
   "outputs": [],
   "source": [
    "# Cambiando orden de la variable para dejar variable a predecir al final del dataset\n",
    "data = data[['LIGHT_CODE', 'JUNCTION_CODE', 'COLLISION_TYPE_CODE', 'SURF_COND_CODE',\n",
    "       'RD_COND_CODE', 'WEATHER_CODE', 'SIGNAL_FLAG', 'SEX_CODE',\n",
    "       'EQUIP_PROB_CODE', 'SAF_EQUIP_CODE', 'DAMAGE_CODE',\n",
    "       'MOVEMENT_CODE', 'COMMERCIAL_FLAG', 'BODY_TYPE_CODE',\n",
    "       'DRIVERLESS_FLAG', 'SPEED_LIMIT', 'LATITUDE', 'LONGITUDE', \n",
    "       'HOUR', 'YEAR', 'MONTH', 'DAY', 'INJ_SEVER_CODE']]"
   ]
  },
  {
   "cell_type": "code",
   "execution_count": 55,
   "metadata": {
    "id": "34735b35-da28-470e-9e0a-0703c12702c4"
   },
   "outputs": [
    {
     "data": {
      "text/html": [
       "<div>\n",
       "<style scoped>\n",
       "    .dataframe tbody tr th:only-of-type {\n",
       "        vertical-align: middle;\n",
       "    }\n",
       "\n",
       "    .dataframe tbody tr th {\n",
       "        vertical-align: top;\n",
       "    }\n",
       "\n",
       "    .dataframe thead th {\n",
       "        text-align: right;\n",
       "    }\n",
       "</style>\n",
       "<table border=\"1\" class=\"dataframe\">\n",
       "  <thead>\n",
       "    <tr style=\"text-align: right;\">\n",
       "      <th></th>\n",
       "      <th>LIGHT_CODE</th>\n",
       "      <th>JUNCTION_CODE</th>\n",
       "      <th>COLLISION_TYPE_CODE</th>\n",
       "      <th>SURF_COND_CODE</th>\n",
       "      <th>RD_COND_CODE</th>\n",
       "      <th>WEATHER_CODE</th>\n",
       "      <th>SIGNAL_FLAG</th>\n",
       "      <th>SEX_CODE</th>\n",
       "      <th>EQUIP_PROB_CODE</th>\n",
       "      <th>SAF_EQUIP_CODE</th>\n",
       "      <th>DAMAGE_CODE</th>\n",
       "      <th>MOVEMENT_CODE</th>\n",
       "      <th>COMMERCIAL_FLAG</th>\n",
       "      <th>BODY_TYPE_CODE</th>\n",
       "      <th>DRIVERLESS_FLAG</th>\n",
       "      <th>SPEED_LIMIT</th>\n",
       "      <th>LATITUDE</th>\n",
       "      <th>LONGITUDE</th>\n",
       "      <th>HOUR</th>\n",
       "      <th>YEAR</th>\n",
       "      <th>MONTH</th>\n",
       "      <th>DAY</th>\n",
       "      <th>INJ_SEVER_CODE</th>\n",
       "    </tr>\n",
       "  </thead>\n",
       "  <tbody>\n",
       "    <tr>\n",
       "      <th>0</th>\n",
       "      <td>1.0</td>\n",
       "      <td>2.0</td>\n",
       "      <td>88.0</td>\n",
       "      <td>2.0</td>\n",
       "      <td>1.0</td>\n",
       "      <td>6.0</td>\n",
       "      <td>0</td>\n",
       "      <td>0</td>\n",
       "      <td>0.0</td>\n",
       "      <td>0.0</td>\n",
       "      <td>2.0</td>\n",
       "      <td>10.0</td>\n",
       "      <td>0</td>\n",
       "      <td>21.0</td>\n",
       "      <td>0</td>\n",
       "      <td>0.0</td>\n",
       "      <td>39.316645</td>\n",
       "      <td>-76.728809</td>\n",
       "      <td>9</td>\n",
       "      <td>2017</td>\n",
       "      <td>6</td>\n",
       "      <td>20</td>\n",
       "      <td>0</td>\n",
       "    </tr>\n",
       "    <tr>\n",
       "      <th>1</th>\n",
       "      <td>1.0</td>\n",
       "      <td>2.0</td>\n",
       "      <td>11.0</td>\n",
       "      <td>2.0</td>\n",
       "      <td>1.0</td>\n",
       "      <td>6.0</td>\n",
       "      <td>1</td>\n",
       "      <td>1</td>\n",
       "      <td>0.0</td>\n",
       "      <td>13.0</td>\n",
       "      <td>4.0</td>\n",
       "      <td>12.0</td>\n",
       "      <td>0</td>\n",
       "      <td>2.0</td>\n",
       "      <td>0</td>\n",
       "      <td>35.0</td>\n",
       "      <td>38.848088</td>\n",
       "      <td>-76.878811</td>\n",
       "      <td>13</td>\n",
       "      <td>2017</td>\n",
       "      <td>4</td>\n",
       "      <td>2</td>\n",
       "      <td>1</td>\n",
       "    </tr>\n",
       "    <tr>\n",
       "      <th>2</th>\n",
       "      <td>3.0</td>\n",
       "      <td>1.0</td>\n",
       "      <td>17.0</td>\n",
       "      <td>1.0</td>\n",
       "      <td>1.0</td>\n",
       "      <td>6.0</td>\n",
       "      <td>0</td>\n",
       "      <td>0</td>\n",
       "      <td>1.0</td>\n",
       "      <td>13.0</td>\n",
       "      <td>4.0</td>\n",
       "      <td>2.0</td>\n",
       "      <td>0</td>\n",
       "      <td>23.0</td>\n",
       "      <td>0</td>\n",
       "      <td>35.0</td>\n",
       "      <td>39.619699</td>\n",
       "      <td>-77.769977</td>\n",
       "      <td>1</td>\n",
       "      <td>2016</td>\n",
       "      <td>6</td>\n",
       "      <td>3</td>\n",
       "      <td>1</td>\n",
       "    </tr>\n",
       "    <tr>\n",
       "      <th>3</th>\n",
       "      <td>1.0</td>\n",
       "      <td>3.0</td>\n",
       "      <td>8.0</td>\n",
       "      <td>2.0</td>\n",
       "      <td>1.0</td>\n",
       "      <td>6.0</td>\n",
       "      <td>1</td>\n",
       "      <td>1</td>\n",
       "      <td>1.0</td>\n",
       "      <td>13.0</td>\n",
       "      <td>4.0</td>\n",
       "      <td>7.0</td>\n",
       "      <td>0</td>\n",
       "      <td>2.0</td>\n",
       "      <td>0</td>\n",
       "      <td>40.0</td>\n",
       "      <td>38.387455</td>\n",
       "      <td>-75.065723</td>\n",
       "      <td>6</td>\n",
       "      <td>2018</td>\n",
       "      <td>9</td>\n",
       "      <td>3</td>\n",
       "      <td>0</td>\n",
       "    </tr>\n",
       "    <tr>\n",
       "      <th>5</th>\n",
       "      <td>1.0</td>\n",
       "      <td>2.0</td>\n",
       "      <td>11.0</td>\n",
       "      <td>1.0</td>\n",
       "      <td>1.0</td>\n",
       "      <td>3.0</td>\n",
       "      <td>1</td>\n",
       "      <td>0</td>\n",
       "      <td>1.0</td>\n",
       "      <td>13.0</td>\n",
       "      <td>4.0</td>\n",
       "      <td>2.0</td>\n",
       "      <td>0</td>\n",
       "      <td>23.0</td>\n",
       "      <td>0</td>\n",
       "      <td>25.0</td>\n",
       "      <td>39.371149</td>\n",
       "      <td>-76.792838</td>\n",
       "      <td>9</td>\n",
       "      <td>2017</td>\n",
       "      <td>5</td>\n",
       "      <td>22</td>\n",
       "      <td>0</td>\n",
       "    </tr>\n",
       "  </tbody>\n",
       "</table>\n",
       "</div>"
      ],
      "text/plain": [
       "   LIGHT_CODE  JUNCTION_CODE  COLLISION_TYPE_CODE  SURF_COND_CODE  \\\n",
       "0         1.0            2.0                 88.0             2.0   \n",
       "1         1.0            2.0                 11.0             2.0   \n",
       "2         3.0            1.0                 17.0             1.0   \n",
       "3         1.0            3.0                  8.0             2.0   \n",
       "5         1.0            2.0                 11.0             1.0   \n",
       "\n",
       "   RD_COND_CODE  WEATHER_CODE  SIGNAL_FLAG  SEX_CODE  EQUIP_PROB_CODE  \\\n",
       "0           1.0           6.0            0         0              0.0   \n",
       "1           1.0           6.0            1         1              0.0   \n",
       "2           1.0           6.0            0         0              1.0   \n",
       "3           1.0           6.0            1         1              1.0   \n",
       "5           1.0           3.0            1         0              1.0   \n",
       "\n",
       "   SAF_EQUIP_CODE  DAMAGE_CODE  MOVEMENT_CODE  COMMERCIAL_FLAG  \\\n",
       "0             0.0          2.0           10.0                0   \n",
       "1            13.0          4.0           12.0                0   \n",
       "2            13.0          4.0            2.0                0   \n",
       "3            13.0          4.0            7.0                0   \n",
       "5            13.0          4.0            2.0                0   \n",
       "\n",
       "   BODY_TYPE_CODE  DRIVERLESS_FLAG  SPEED_LIMIT   LATITUDE  LONGITUDE  HOUR  \\\n",
       "0            21.0                0          0.0  39.316645 -76.728809     9   \n",
       "1             2.0                0         35.0  38.848088 -76.878811    13   \n",
       "2            23.0                0         35.0  39.619699 -77.769977     1   \n",
       "3             2.0                0         40.0  38.387455 -75.065723     6   \n",
       "5            23.0                0         25.0  39.371149 -76.792838     9   \n",
       "\n",
       "   YEAR  MONTH  DAY  INJ_SEVER_CODE  \n",
       "0  2017      6   20               0  \n",
       "1  2017      4    2               1  \n",
       "2  2016      6    3               1  \n",
       "3  2018      9    3               0  \n",
       "5  2017      5   22               0  "
      ]
     },
     "execution_count": 55,
     "metadata": {},
     "output_type": "execute_result"
    }
   ],
   "source": [
    "# Comprobando si cambios fueron exitosos\n",
    "data.head()"
   ]
  },
  {
   "cell_type": "code",
   "execution_count": 56,
   "metadata": {
    "id": "c5585551-7bd7-4eda-866f-b34a830fd95c"
   },
   "outputs": [],
   "source": [
    "# Creando subset de variables categoricas\n",
    "categoricas = data[['LIGHT_CODE', 'JUNCTION_CODE',\n",
    "                      'COLLISION_TYPE_CODE', 'SURF_COND_CODE',\n",
    "                      'RD_COND_CODE', 'WEATHER_CODE', 'SIGNAL_FLAG', \n",
    "                      'SEX_CODE', 'INJ_SEVER_CODE', 'EQUIP_PROB_CODE', \n",
    "                      'SAF_EQUIP_CODE','DAMAGE_CODE', 'MOVEMENT_CODE', \n",
    "                      'COMMERCIAL_FLAG', 'BODY_TYPE_CODE','DRIVERLESS_FLAG']]"
   ]
  },
  {
   "cell_type": "code",
   "execution_count": 57,
   "metadata": {
    "id": "6eff9455-ea39-4c0e-ad15-fe1f75a75180"
   },
   "outputs": [],
   "source": [
    "# Creando subset de variables numericas\n",
    "numericas = data[['SPEED_LIMIT', 'LATITUDE', 'LONGITUDE', 'HOUR', 'YEAR', 'MONTH', 'DAY']]"
   ]
  },
  {
   "cell_type": "code",
   "execution_count": 58,
   "metadata": {
    "id": "844bd37b-cb4f-4ccf-b698-07f7a43d836b"
   },
   "outputs": [
    {
     "name": "stderr",
     "output_type": "stream",
     "text": [
      "/Users/heinerleivagmail.com/opt/anaconda3/lib/python3.7/site-packages/statsmodels/tools/_testing.py:19: FutureWarning: pandas.util.testing is deprecated. Use the functions in the public API at pandas.testing instead.\n",
      "  import pandas.util.testing as tm\n"
     ]
    }
   ],
   "source": [
    "from statsmodels.stats.multicomp import pairwise_tukeyhsd\n",
    "import statsmodels.stats.multicomp as multi\n",
    "import pandas.util.testing as tm"
   ]
  },
  {
   "cell_type": "code",
   "execution_count": 59,
   "metadata": {
    "id": "9c938c39-12c9-4e9e-99dd-8c8983b792b0"
   },
   "outputs": [
    {
     "data": {
      "image/png": "[encoded data removed]",
      "text/plain": [
       "<Figure size 864x720 with 2 Axes>"
      ]
     },
     "metadata": {
      "needs_background": "light"
     },
     "output_type": "display_data"
    }
   ],
   "source": [
    "# creando matriz de correlacion con variables numericas\n",
    "import seaborn as sns\n",
    "f, ax = plt.subplots(figsize = (12, 10))\n",
    "sns.heatmap(numericas.corr(method = 'pearson'), annot = True, vmin = -1, vmax = 1, center = 0)\n",
    "plt.show()"
   ]
  },
  {
   "cell_type": "markdown",
   "metadata": {
    "id": "4ea0f94f-14fc-4382-b62f-2e37ee193613"
   },
   "source": [
    "Análisis:\n",
    "\n",
    "Se puede ver como las variables de tipo numéricas no tienen correlación, por ende se pueden utilizar dentro del modelo. "
   ]
  },
  {
   "cell_type": "code",
   "execution_count": 60,
   "metadata": {
    "id": "d44f941e-8482-4fe0-a2d4-cfdaca2dccfd"
   },
   "outputs": [
    {
     "name": "stdout",
     "output_type": "stream",
     "text": [
      "Influencia de las condiciones de luz\n",
      "Multiple Comparison of Means - Tukey HSD, FWER=0.05 \n",
      "====================================================\n",
      "group1 group2 meandiff p-adj   lower   upper  reject\n",
      "----------------------------------------------------\n",
      "   0.0    1.0   0.0458  0.001  0.0362  0.0555   True\n",
      "   0.0    3.0   0.0499  0.001    0.04  0.0597   True\n",
      "   0.0    4.0   0.0675  0.001  0.0567  0.0782   True\n",
      "   0.0    5.0   0.0482  0.001  0.0357  0.0607   True\n",
      "   0.0    6.0   0.0487  0.001  0.0366  0.0608   True\n",
      "   0.0    7.0   0.0148 0.0333  0.0006   0.029   True\n",
      "   0.0   88.0   0.0134 0.7104 -0.0109  0.0377  False\n",
      "   0.0   99.0  -0.1287  0.001 -0.1452 -0.1121   True\n",
      "   1.0    3.0    0.004  0.001  0.0011   0.007   True\n",
      "   1.0    4.0   0.0217  0.001  0.0165  0.0268   True\n",
      "   1.0    5.0   0.0023    0.9 -0.0058  0.0105  False\n",
      "   1.0    6.0   0.0029    0.9 -0.0047  0.0105  False\n",
      "   1.0    7.0   -0.031  0.001 -0.0417 -0.0204   True\n",
      "   1.0   88.0  -0.0324  0.001 -0.0548 -0.0101   True\n",
      "   1.0   99.0  -0.1745  0.001 -0.1881 -0.1609   True\n",
      "   3.0    4.0   0.0176  0.001   0.012  0.0232   True\n",
      "   3.0    5.0  -0.0017    0.9 -0.0102  0.0068  False\n",
      "   3.0    6.0  -0.0012    0.9  -0.009  0.0067  False\n",
      "   3.0    7.0   -0.035  0.001 -0.0459 -0.0242   True\n",
      "   3.0   88.0  -0.0365  0.001 -0.0589  -0.014   True\n",
      "   3.0   99.0  -0.1785  0.001 -0.1923 -0.1648   True\n",
      "   4.0    5.0  -0.0193  0.001 -0.0288 -0.0098   True\n",
      "   4.0    6.0  -0.0188  0.001 -0.0277 -0.0098   True\n",
      "   4.0    7.0  -0.0527  0.001 -0.0643  -0.041   True\n",
      "   4.0   88.0  -0.0541  0.001 -0.0769 -0.0312   True\n",
      "   4.0   99.0  -0.1961  0.001 -0.2105 -0.1817   True\n",
      "   5.0    6.0   0.0005    0.9 -0.0104  0.0115  False\n",
      "   5.0    7.0  -0.0333  0.001 -0.0466 -0.0201   True\n",
      "   5.0   88.0  -0.0348  0.001 -0.0585  -0.011   True\n",
      "   5.0   99.0  -0.1768  0.001 -0.1926 -0.1611   True\n",
      "   6.0    7.0  -0.0339  0.001 -0.0468  -0.021   True\n",
      "   6.0   88.0  -0.0353  0.001 -0.0588 -0.0118   True\n",
      "   6.0   99.0  -0.1774  0.001 -0.1928 -0.1619   True\n",
      "   7.0   88.0  -0.0014    0.9 -0.0261  0.0233  False\n",
      "   7.0   99.0  -0.1435  0.001 -0.1606 -0.1263   True\n",
      "  88.0   99.0  -0.1421  0.001 -0.1682  -0.116   True\n",
      "----------------------------------------------------\n"
     ]
    }
   ],
   "source": [
    "# Influencia de las condiciones de luz\n",
    "x = data[\"LIGHT_CODE\"]\n",
    "y = data[\"INJ_SEVER_CODE\"]\n",
    "\n",
    "mcDate = multi.MultiComparison(y,x)\n",
    "Results = mcDate.tukeyhsd()\n",
    "print(\"Influencia de las condiciones de luz\")\n",
    "print(Results)"
   ]
  },
  {
   "cell_type": "code",
   "execution_count": 61,
   "metadata": {
    "id": "19b76fd7-dc0e-456d-afe7-52f6d04cb22c"
   },
   "outputs": [
    {
     "name": "stdout",
     "output_type": "stream",
     "text": [
      "Influencia del tipo de interseccion\n",
      "Multiple Comparison of Means - Tukey HSD, FWER=0.05 \n",
      "====================================================\n",
      "group1 group2 meandiff p-adj   lower   upper  reject\n",
      "----------------------------------------------------\n",
      "   0.0    1.0  -0.0051  0.001 -0.0088 -0.0014   True\n",
      "   0.0    2.0   0.0609  0.001   0.057  0.0648   True\n",
      "   0.0    3.0   0.0239  0.001  0.0189  0.0289   True\n",
      "   0.0    5.0   0.0003    0.9 -0.0105  0.0111  False\n",
      "   0.0    6.0   0.0759  0.001  0.0576  0.0943   True\n",
      "   0.0    7.0    0.034    0.9 -0.0402  0.1082  False\n",
      "   0.0    8.0   0.0397  0.001  0.0191  0.0602   True\n",
      "   0.0    9.0   0.0442  0.001  0.0317  0.0566   True\n",
      "   0.0   10.0  -0.0422  0.104 -0.0878  0.0034  False\n",
      "   0.0   11.0  -0.0219 0.2015 -0.0477   0.004  False\n",
      "   0.0   88.0  -0.0182  0.001  -0.031 -0.0054   True\n",
      "   0.0   99.0   -0.056  0.001 -0.0955 -0.0165   True\n",
      "   1.0    2.0   0.0659  0.001  0.0629   0.069   True\n",
      "   1.0    3.0    0.029  0.001  0.0246  0.0334   True\n",
      "   1.0    5.0   0.0054    0.9 -0.0052  0.0159  False\n",
      "   1.0    6.0    0.081  0.001  0.0628  0.0992   True\n",
      "   1.0    7.0   0.0391 0.8665 -0.0351  0.1132  False\n",
      "   1.0    8.0   0.0448  0.001  0.0243  0.0652   True\n",
      "   1.0    9.0   0.0493  0.001  0.0371  0.0615   True\n",
      "   1.0   10.0  -0.0371  0.254 -0.0827  0.0085  False\n",
      "   1.0   11.0  -0.0168 0.6044 -0.0425   0.009  False\n",
      "   1.0   88.0  -0.0131 0.0309 -0.0257 -0.0006   True\n",
      "   1.0   99.0  -0.0509 0.0013 -0.0903 -0.0115   True\n",
      "   2.0    3.0   -0.037  0.001 -0.0415 -0.0324   True\n",
      "   2.0    5.0  -0.0606  0.001 -0.0712   -0.05   True\n",
      "   2.0    6.0   0.0151 0.2321 -0.0032  0.0333  False\n",
      "   2.0    7.0  -0.0269    0.9  -0.101  0.0473  False\n",
      "   2.0    8.0  -0.0212 0.0347 -0.0416 -0.0007   True\n",
      "   2.0    9.0  -0.0167  0.001 -0.0289 -0.0044   True\n",
      "   2.0   10.0   -0.103  0.001 -0.1486 -0.0575   True\n",
      "   2.0   11.0  -0.0827  0.001 -0.1085 -0.0569   True\n",
      "   2.0   88.0  -0.0791  0.001 -0.0917 -0.0664   True\n",
      "   2.0   99.0  -0.1168  0.001 -0.1563 -0.0774   True\n",
      "   3.0    5.0  -0.0236  0.001 -0.0347 -0.0125   True\n",
      "   3.0    6.0    0.052  0.001  0.0335  0.0705   True\n",
      "   3.0    7.0   0.0101    0.9 -0.0642  0.0843  False\n",
      "   3.0    8.0   0.0158 0.3597 -0.0049  0.0365  False\n",
      "   3.0    9.0   0.0203  0.001  0.0076   0.033   True\n",
      "   3.0   10.0  -0.0661  0.001 -0.1118 -0.0204   True\n",
      "   3.0   11.0  -0.0458  0.001 -0.0718 -0.0198   True\n",
      "   3.0   88.0  -0.0421  0.001 -0.0551 -0.0291   True\n",
      "   3.0   99.0  -0.0799  0.001 -0.1194 -0.0403   True\n",
      "   5.0    6.0   0.0756  0.001  0.0548  0.0965   True\n",
      "   5.0    7.0   0.0337    0.9 -0.0412  0.1085  False\n",
      "   5.0    8.0   0.0394  0.001  0.0166  0.0622   True\n",
      "   5.0    9.0   0.0439  0.001   0.028  0.0598   True\n",
      "   5.0   10.0  -0.0425 0.1192 -0.0892  0.0042  False\n",
      "   5.0   11.0  -0.0222 0.2804 -0.0499  0.0055  False\n",
      "   5.0   88.0  -0.0185 0.0096 -0.0346 -0.0023   True\n",
      "   5.0   99.0  -0.0563  0.001  -0.097 -0.0156   True\n",
      "   6.0    7.0  -0.0419  0.818 -0.1182  0.0343  False\n",
      "   6.0    8.0  -0.0362  0.001 -0.0634  -0.009   True\n",
      "   6.0    9.0  -0.0317  0.001 -0.0534   -0.01   True\n",
      "   6.0   10.0  -0.1181  0.001 -0.1671 -0.0691   True\n",
      "   6.0   11.0  -0.0978  0.001 -0.1292 -0.0664   True\n",
      "   6.0   88.0  -0.0941  0.001  -0.116 -0.0722   True\n",
      "   6.0   99.0  -0.1319  0.001 -0.1752 -0.0886   True\n",
      "   7.0    8.0   0.0057    0.9 -0.0712  0.0826  False\n",
      "   7.0    9.0   0.0102    0.9 -0.0649  0.0853  False\n",
      "   7.0   10.0  -0.0762  0.159 -0.1631  0.0108  False\n",
      "   7.0   11.0  -0.0558 0.4767 -0.1343  0.0226  False\n",
      "   7.0   88.0  -0.0522 0.5147 -0.1273   0.023  False\n",
      "   7.0   99.0    -0.09 0.0229 -0.1739  -0.006   True\n",
      "   8.0    9.0   0.0045    0.9 -0.0191  0.0282  False\n",
      "   8.0   10.0  -0.0819  0.001 -0.1317  -0.032   True\n",
      "   8.0   11.0  -0.0615  0.001 -0.0943 -0.0288   True\n",
      "   8.0   88.0  -0.0579  0.001 -0.0817 -0.0341   True\n",
      "   8.0   99.0  -0.0957  0.001 -0.1399 -0.0514   True\n",
      "   9.0   10.0  -0.0864  0.001 -0.1335 -0.0393   True\n",
      "   9.0   11.0  -0.0661  0.001 -0.0944 -0.0377   True\n",
      "   9.0   88.0  -0.0624  0.001 -0.0797 -0.0451   True\n",
      "   9.0   99.0  -0.1002  0.001 -0.1413  -0.059   True\n",
      "  10.0   11.0   0.0203    0.9  -0.032  0.0726  False\n",
      "  10.0   88.0    0.024    0.9 -0.0232  0.0712  False\n",
      "  10.0   99.0  -0.0138    0.9  -0.074  0.0464  False\n",
      "  11.0   88.0   0.0037    0.9 -0.0248  0.0322  False\n",
      "  11.0   99.0  -0.0341 0.4445 -0.0811  0.0129  False\n",
      "  88.0   99.0  -0.0378 0.1126  -0.079  0.0035  False\n",
      "----------------------------------------------------\n"
     ]
    }
   ],
   "source": [
    "# Influencia del tipo de interseccion\n",
    "x = data[\"JUNCTION_CODE\"]\n",
    "y = data[\"INJ_SEVER_CODE\"]\n",
    "\n",
    "mcDate = multi.MultiComparison(y,x)\n",
    "Results = mcDate.tukeyhsd()\n",
    "print(\"Influencia del tipo de interseccion\")\n",
    "print(Results)"
   ]
  },
  {
   "cell_type": "code",
   "execution_count": 62,
   "metadata": {
    "id": "158bb3d7-9429-4ffc-a05b-c0f70d96f1fb"
   },
   "outputs": [
    {
     "name": "stdout",
     "output_type": "stream",
     "text": [
      "Influencia del tipo de colision\n",
      "Multiple Comparison of Means - Tukey HSD, FWER=0.05 \n",
      "====================================================\n",
      "group1 group2 meandiff p-adj   lower   upper  reject\n",
      "----------------------------------------------------\n",
      "   0.0    1.0   0.1426  0.001  0.1251  0.1601   True\n",
      "   0.0    2.0   0.1003  0.001   0.084  0.1166   True\n",
      "   0.0    3.0  -0.0203  0.001 -0.0358 -0.0048   True\n",
      "   0.0    4.0  -0.0298 0.0031 -0.0544 -0.0052   True\n",
      "   0.0    5.0   0.0066    0.9 -0.0154  0.0285  False\n",
      "   0.0    6.0  -0.0528  0.001 -0.0718 -0.0339   True\n",
      "   0.0    7.0  -0.0888  0.001 -0.1049 -0.0728   True\n",
      "   0.0    8.0  -0.0622  0.001 -0.0796 -0.0448   True\n",
      "   0.0    9.0  -0.0447  0.001 -0.0621 -0.0273   True\n",
      "   0.0   10.0  -0.1094  0.001 -0.1343 -0.0846   True\n",
      "   0.0   11.0   0.0747  0.001   0.059  0.0904   True\n",
      "   0.0   12.0  -0.0047    0.9 -0.0297  0.0204  False\n",
      "   0.0   13.0   0.0392  0.001  0.0165  0.0619   True\n",
      "   0.0   14.0   0.0275 0.0464  0.0002  0.0549   True\n",
      "   0.0   15.0  -0.0321 0.0511 -0.0643  0.0001  False\n",
      "   0.0   17.0   0.0675  0.001  0.0517  0.0832   True\n",
      "   0.0   88.0  -0.0383  0.001 -0.0541 -0.0225   True\n",
      "   0.0   99.0  -0.1543  0.001 -0.1737 -0.1349   True\n",
      "   1.0    2.0  -0.0423  0.001 -0.0526  -0.032   True\n",
      "   1.0    3.0  -0.1629  0.001 -0.1718 -0.1541   True\n",
      "   1.0    4.0  -0.1724  0.001 -0.1935 -0.1513   True\n",
      "   1.0    5.0   -0.136  0.001 -0.1539 -0.1182   True\n",
      "   1.0    6.0  -0.1954  0.001 -0.2095 -0.1813   True\n",
      "   1.0    7.0  -0.2314  0.001 -0.2412 -0.2216   True\n",
      "   1.0    8.0  -0.2048  0.001 -0.2167 -0.1929   True\n",
      "   1.0    9.0  -0.1873  0.001 -0.1992 -0.1754   True\n",
      "   1.0   10.0   -0.252  0.001 -0.2734 -0.2307   True\n",
      "   1.0   11.0  -0.0679  0.001 -0.0771 -0.0587   True\n",
      "   1.0   12.0  -0.1473  0.001 -0.1689 -0.1257   True\n",
      "   1.0   13.0  -0.1034  0.001 -0.1223 -0.0846   True\n",
      "   1.0   14.0  -0.1151  0.001 -0.1393 -0.0908   True\n",
      "   1.0   15.0  -0.1747  0.001 -0.2043 -0.1451   True\n",
      "   1.0   17.0  -0.0751  0.001 -0.0845 -0.0658   True\n",
      "   1.0   88.0  -0.1809  0.001 -0.1903 -0.1715   True\n",
      "   1.0   99.0  -0.2969  0.001 -0.3116 -0.2822   True\n",
      "   2.0    3.0  -0.1206  0.001 -0.1268 -0.1145   True\n",
      "   2.0    4.0  -0.1301  0.001 -0.1502   -0.11   True\n",
      "   2.0    5.0  -0.0937  0.001 -0.1104  -0.077   True\n",
      "   2.0    6.0  -0.1531  0.001 -0.1657 -0.1406   True\n",
      "   2.0    7.0  -0.1891  0.001 -0.1966 -0.1817   True\n",
      "   2.0    8.0  -0.1625  0.001 -0.1725 -0.1524   True\n",
      "   2.0    9.0   -0.145  0.001  -0.155 -0.1349   True\n",
      "   2.0   10.0  -0.2097  0.001 -0.2301 -0.1894   True\n",
      "   2.0   11.0  -0.0256  0.001 -0.0322  -0.019   True\n",
      "   2.0   12.0   -0.105  0.001 -0.1256 -0.0843   True\n",
      "   2.0   13.0  -0.0611  0.001 -0.0788 -0.0434   True\n",
      "   2.0   14.0  -0.0728  0.001 -0.0961 -0.0494   True\n",
      "   2.0   15.0  -0.1324  0.001 -0.1613 -0.1035   True\n",
      "   2.0   17.0  -0.0328  0.001 -0.0396 -0.0261   True\n",
      "   2.0   88.0  -0.1386  0.001 -0.1455 -0.1317   True\n",
      "   2.0   99.0  -0.2546  0.001 -0.2679 -0.2413   True\n",
      "   3.0    4.0  -0.0095    0.9 -0.0289    0.01  False\n",
      "   3.0    5.0   0.0269  0.001   0.011  0.0428   True\n",
      "   3.0    6.0  -0.0325  0.001 -0.0439 -0.0211   True\n",
      "   3.0    7.0  -0.0685  0.001 -0.0738 -0.0632   True\n",
      "   3.0    8.0  -0.0419  0.001 -0.0505 -0.0332   True\n",
      "   3.0    9.0  -0.0244  0.001  -0.033 -0.0158   True\n",
      "   3.0   10.0  -0.0891  0.001 -0.1088 -0.0694   True\n",
      "   3.0   11.0    0.095  0.001   0.091  0.0991   True\n",
      "   3.0   12.0   0.0157 0.3677 -0.0043  0.0356  False\n",
      "   3.0   13.0   0.0595  0.001  0.0426  0.0764   True\n",
      "   3.0   14.0   0.0479  0.001  0.0251  0.0706   True\n",
      "   3.0   15.0  -0.0118    0.9 -0.0402  0.0166  False\n",
      "   3.0   17.0   0.0878  0.001  0.0834  0.0922   True\n",
      "   3.0   88.0   -0.018  0.001 -0.0225 -0.0135   True\n",
      "   3.0   99.0   -0.134  0.001 -0.1462 -0.1218   True\n",
      "   4.0    5.0   0.0364  0.001  0.0115  0.0612   True\n",
      "   4.0    6.0   -0.023 0.0337 -0.0453 -0.0008   True\n",
      "   4.0    7.0   -0.059  0.001 -0.0789 -0.0392   True\n",
      "   4.0    8.0  -0.0324  0.001 -0.0534 -0.0114   True\n",
      "   4.0    9.0  -0.0149 0.5517 -0.0359  0.0061  False\n",
      "   4.0   10.0  -0.0796  0.001 -0.1071 -0.0522   True\n",
      "   4.0   11.0   0.1045  0.001  0.0849  0.1241   True\n",
      "   4.0   12.0   0.0251 0.1314 -0.0026  0.0528  False\n",
      "   4.0   13.0    0.069  0.001  0.0434  0.0945   True\n",
      "   4.0   14.0   0.0573  0.001  0.0276  0.0871   True\n",
      "   4.0   15.0  -0.0023    0.9 -0.0366  0.0319  False\n",
      "   4.0   17.0   0.0972  0.001  0.0776  0.1169   True\n",
      "   4.0   88.0  -0.0085    0.9 -0.0282  0.0112  False\n",
      "   4.0   99.0  -0.1245  0.001 -0.1472 -0.1018   True\n",
      "   5.0    6.0  -0.0594  0.001 -0.0787 -0.0401   True\n",
      "   5.0    7.0  -0.0954  0.001 -0.1118  -0.079   True\n",
      "   5.0    8.0  -0.0687  0.001 -0.0865  -0.051   True\n",
      "   5.0    9.0  -0.0512  0.001  -0.069 -0.0335   True\n",
      "   5.0   10.0   -0.116  0.001 -0.1411 -0.0909   True\n",
      "   5.0   11.0   0.0681  0.001  0.0521  0.0842   True\n",
      "   5.0   12.0  -0.0112    0.9 -0.0365  0.0141  False\n",
      "   5.0   13.0   0.0326  0.001  0.0096  0.0556   True\n",
      "   5.0   14.0    0.021 0.4279 -0.0066  0.0485  False\n",
      "   5.0   15.0  -0.0387 0.0038  -0.071 -0.0063   True\n",
      "   5.0   17.0   0.0609  0.001  0.0448   0.077   True\n",
      "   5.0   88.0  -0.0449  0.001  -0.061 -0.0287   True\n",
      "   5.0   99.0  -0.1609  0.001 -0.1806 -0.1411   True\n",
      "   6.0    7.0   -0.036  0.001 -0.0482 -0.0238   True\n",
      "   6.0    8.0  -0.0094 0.6388 -0.0233  0.0046  False\n",
      "   6.0    9.0   0.0082 0.8374 -0.0058  0.0221  False\n",
      "   6.0   10.0  -0.0566  0.001 -0.0791 -0.0341   True\n",
      "   6.0   11.0   0.1275  0.001  0.1159  0.1392   True\n",
      "   6.0   12.0   0.0482  0.001  0.0254  0.0709   True\n",
      "   6.0   13.0    0.092  0.001  0.0719  0.1122   True\n",
      "   6.0   14.0   0.0804  0.001  0.0551  0.1056   True\n",
      "   6.0   15.0   0.0207 0.6178 -0.0097  0.0511  False\n",
      "   6.0   17.0   0.1203  0.001  0.1085  0.1321   True\n",
      "   6.0   88.0   0.0145 0.0023  0.0027  0.0264   True\n",
      "   6.0   99.0  -0.1015  0.001 -0.1179 -0.0851   True\n",
      "   7.0    8.0   0.0266  0.001  0.0171  0.0362   True\n",
      "   7.0    9.0   0.0441  0.001  0.0346  0.0537   True\n",
      "   7.0   10.0  -0.0206 0.0381 -0.0407 -0.0005   True\n",
      "   7.0   11.0   0.1635  0.001  0.1577  0.1694   True\n",
      "   7.0   12.0   0.0842  0.001  0.0637  0.1046   True\n",
      "   7.0   13.0    0.128  0.001  0.1106  0.1455   True\n",
      "   7.0   14.0   0.1164  0.001  0.0932  0.1395   True\n",
      "   7.0   15.0   0.0567  0.001   0.028  0.0854   True\n",
      "   7.0   17.0   0.1563  0.001  0.1502  0.1624   True\n",
      "   7.0   88.0   0.0505  0.001  0.0444  0.0567   True\n",
      "   7.0   99.0  -0.0655  0.001 -0.0784 -0.0526   True\n",
      "   8.0    9.0   0.0175  0.001  0.0058  0.0292   True\n",
      "   8.0   10.0  -0.0473  0.001 -0.0685  -0.026   True\n",
      "   8.0   11.0   0.1369  0.001  0.1279  0.1458   True\n",
      "   8.0   12.0   0.0575  0.001   0.036   0.079   True\n",
      "   8.0   13.0   0.1014  0.001  0.0827  0.1201   True\n",
      "   8.0   14.0   0.0897  0.001  0.0656  0.1138   True\n",
      "   8.0   15.0   0.0301 0.0399  0.0006  0.0596   True\n",
      "   8.0   17.0   0.1296  0.001  0.1206  0.1387   True\n",
      "   8.0   88.0   0.0239  0.001  0.0147   0.033   True\n",
      "   8.0   99.0  -0.0921  0.001 -0.1067 -0.0775   True\n",
      "   9.0   10.0  -0.0648  0.001  -0.086 -0.0435   True\n",
      "   9.0   11.0   0.1194  0.001  0.1104  0.1283   True\n",
      "   9.0   12.0     0.04  0.001  0.0185  0.0615   True\n",
      "   9.0   13.0   0.0839  0.001  0.0652  0.1026   True\n",
      "   9.0   14.0   0.0722  0.001  0.0481  0.0963   True\n",
      "   9.0   15.0   0.0126    0.9 -0.0169  0.0421  False\n",
      "   9.0   17.0   0.1121  0.001  0.1031  0.1212   True\n",
      "   9.0   88.0   0.0064 0.5792 -0.0028  0.0155  False\n",
      "   9.0   99.0  -0.1096  0.001 -0.1242 -0.0951   True\n",
      "  10.0   11.0   0.1841  0.001  0.1643   0.204   True\n",
      "  10.0   12.0   0.1048  0.001  0.0769  0.1326   True\n",
      "  10.0   13.0   0.1486  0.001  0.1229  0.1744   True\n",
      "  10.0   14.0    0.137  0.001   0.107  0.1669   True\n",
      "  10.0   15.0   0.0773  0.001  0.0429  0.1117   True\n",
      "  10.0   17.0   0.1769  0.001   0.157  0.1968   True\n",
      "  10.0   88.0   0.0711  0.001  0.0512  0.0911   True\n",
      "  10.0   99.0  -0.0449  0.001 -0.0678 -0.0219   True\n",
      "  11.0   12.0  -0.0794  0.001 -0.0995 -0.0592   True\n",
      "  11.0   13.0  -0.0355  0.001 -0.0526 -0.0184   True\n",
      "  11.0   14.0  -0.0472  0.001 -0.0701 -0.0243   True\n",
      "  11.0   15.0  -0.1068  0.001 -0.1353 -0.0783   True\n",
      "  11.0   17.0  -0.0072  0.001 -0.0122 -0.0022   True\n",
      "  11.0   88.0   -0.113  0.001 -0.1181 -0.1079   True\n",
      "  11.0   99.0   -0.229  0.001 -0.2414 -0.2166   True\n",
      "  12.0   13.0   0.0439  0.001  0.0179  0.0699   True\n",
      "  12.0   14.0   0.0322 0.0217  0.0021  0.0623   True\n",
      "  12.0   15.0  -0.0274 0.3406  -0.062  0.0071  False\n",
      "  12.0   17.0   0.0721  0.001  0.0519  0.0923   True\n",
      "  12.0   88.0  -0.0336  0.001 -0.0538 -0.0134   True\n",
      "  12.0   99.0  -0.1496  0.001 -0.1728 -0.1264   True\n",
      "  13.0   14.0  -0.0117    0.9 -0.0399  0.0165  False\n",
      "  13.0   15.0  -0.0713  0.001 -0.1042 -0.0384   True\n",
      "  13.0   17.0   0.0283  0.001  0.0111  0.0455   True\n",
      "  13.0   88.0  -0.0775  0.001 -0.0947 -0.0603   True\n",
      "  13.0   99.0  -0.1935  0.001 -0.2141 -0.1729   True\n",
      "  14.0   15.0  -0.0596  0.001 -0.0959 -0.0234   True\n",
      "  14.0   17.0   0.0399  0.001   0.017  0.0629   True\n",
      "  14.0   88.0  -0.0658  0.001 -0.0888 -0.0428   True\n",
      "  14.0   99.0  -0.1818  0.001 -0.2075 -0.1562   True\n",
      "  15.0   17.0   0.0996  0.001   0.071  0.1281   True\n",
      "  15.0   88.0  -0.0062    0.9 -0.0347  0.0224  False\n",
      "  15.0   99.0  -0.1222  0.001 -0.1529 -0.0915   True\n",
      "  17.0   88.0  -0.1058  0.001 -0.1111 -0.1004   True\n",
      "  17.0   99.0  -0.2218  0.001 -0.2343 -0.2092   True\n",
      "  88.0   99.0   -0.116  0.001 -0.1286 -0.1034   True\n",
      "----------------------------------------------------\n"
     ]
    }
   ],
   "source": [
    "# Influencia del tipo de colision\n",
    "x = data[\"COLLISION_TYPE_CODE\"]\n",
    "y = data[\"INJ_SEVER_CODE\"]\n",
    "\n",
    "mcDate = multi.MultiComparison(y,x)\n",
    "Results = mcDate.tukeyhsd()\n",
    "print(\"Influencia del tipo de colision\")\n",
    "print(Results)"
   ]
  },
  {
   "cell_type": "code",
   "execution_count": 63,
   "metadata": {
    "id": "4b49a94d-a2a5-4cbc-85f6-a56181b7f857"
   },
   "outputs": [
    {
     "name": "stdout",
     "output_type": "stream",
     "text": [
      "Influencia del estado de la carretera\n",
      "Multiple Comparison of Means - Tukey HSD, FWER=0.05 \n",
      "====================================================\n",
      "group1 group2 meandiff p-adj   lower   upper  reject\n",
      "----------------------------------------------------\n",
      "   0.0    1.0   0.0249  0.001  0.0176  0.0321   True\n",
      "   0.0    2.0   0.0219  0.001  0.0152  0.0286   True\n",
      "   0.0    3.0  -0.0008    0.9 -0.0158  0.0142  False\n",
      "   0.0    4.0   0.0273  0.001  0.0114  0.0433   True\n",
      "   0.0    5.0   0.0709 0.0043  0.0124  0.1295   True\n",
      "   0.0    6.0   0.0229 0.4722 -0.0095  0.0554  False\n",
      "   0.0    7.0  -0.0265    0.9 -0.0961  0.0432  False\n",
      "   0.0    8.0   0.2546  0.001  0.0639  0.4452   True\n",
      "   0.0    9.0   0.0509 0.8206 -0.0438  0.1456  False\n",
      "   0.0   88.0   0.0625  0.001  0.0202  0.1049   True\n",
      "   0.0   99.0  -0.1114  0.001 -0.1324 -0.0904   True\n",
      "   1.0    2.0   -0.003 0.1293 -0.0063  0.0003  False\n",
      "   1.0    3.0  -0.0256  0.001 -0.0395 -0.0118   True\n",
      "   1.0    4.0   0.0024    0.9 -0.0124  0.0173  False\n",
      "   1.0    5.0   0.0461 0.2896 -0.0122  0.1044  False\n",
      "   1.0    6.0  -0.0019    0.9 -0.0339    0.03  False\n",
      "   1.0    7.0  -0.0513 0.3966 -0.1207   0.018  False\n",
      "   1.0    8.0   0.2297 0.0047  0.0392  0.4203   True\n",
      "   1.0    9.0   0.0261    0.9 -0.0685  0.1206  False\n",
      "   1.0   88.0   0.0377 0.1275 -0.0043  0.0796  False\n",
      "   1.0   99.0  -0.1363  0.001 -0.1564 -0.1161   True\n",
      "   2.0    3.0  -0.0226  0.001 -0.0362 -0.0091   True\n",
      "   2.0    4.0   0.0054    0.9 -0.0091    0.02  False\n",
      "   2.0    5.0   0.0491 0.2002 -0.0092  0.1073  False\n",
      "   2.0    6.0   0.0011    0.9 -0.0308  0.0329  False\n",
      "   2.0    7.0  -0.0483 0.4927 -0.1177   0.021  False\n",
      "   2.0    8.0   0.2327 0.0038  0.0422  0.4232   True\n",
      "   2.0    9.0   0.0291    0.9 -0.0654  0.1236  False\n",
      "   2.0   88.0   0.0407 0.0662 -0.0012  0.0825  False\n",
      "   2.0   99.0  -0.1333  0.001 -0.1533 -0.1133   True\n",
      "   3.0    4.0   0.0281  0.001  0.0082  0.0479   True\n",
      "   3.0    5.0   0.0717  0.005  0.0119  0.1315   True\n",
      "   3.0    6.0   0.0237 0.5156 -0.0108  0.0582  False\n",
      "   3.0    7.0  -0.0257    0.9 -0.0963  0.0449  False\n",
      "   3.0    8.0   0.2553  0.001  0.0643  0.4463   True\n",
      "   3.0    9.0   0.0517 0.8127 -0.0438  0.1471  False\n",
      "   3.0   88.0   0.0633  0.001  0.0194  0.1072   True\n",
      "   3.0   99.0  -0.1106  0.001 -0.1347 -0.0865   True\n",
      "   4.0    5.0   0.0436 0.4264 -0.0164  0.1036  False\n",
      "   4.0    6.0  -0.0044    0.9 -0.0393  0.0306  False\n",
      "   4.0    7.0  -0.0538 0.3523 -0.1246   0.017  False\n",
      "   4.0    8.0   0.2273 0.0057  0.0362  0.4183   True\n",
      "   4.0    9.0   0.0236    0.9  -0.072  0.1192  False\n",
      "   4.0   88.0   0.0352 0.2795  -0.009  0.0795  False\n",
      "   4.0   99.0  -0.1387  0.001 -0.1634  -0.114   True\n",
      "   5.0    6.0   -0.048 0.4344 -0.1143  0.0183  False\n",
      "   5.0    7.0  -0.0974 0.0223 -0.1879 -0.0069   True\n",
      "   5.0    8.0   0.1836  0.105 -0.0156  0.3829  False\n",
      "   5.0    9.0    -0.02    0.9  -0.131   0.091  False\n",
      "   5.0   88.0  -0.0084    0.9 -0.0801  0.0633  False\n",
      "   5.0   99.0  -0.1823  0.001 -0.2439 -0.1208   True\n",
      "   6.0    7.0  -0.0494 0.5942 -0.1257  0.0268  False\n",
      "   6.0    8.0   0.2316 0.0051  0.0385  0.4248   True\n",
      "   6.0    9.0    0.028    0.9 -0.0717  0.1277  False\n",
      "   6.0   88.0   0.0396 0.3651 -0.0129  0.0921  False\n",
      "   6.0   99.0  -0.1343  0.001 -0.1719 -0.0968   True\n",
      "   7.0    8.0    0.281  0.001  0.0783  0.4838   True\n",
      "   7.0    9.0   0.0774 0.5684 -0.0398  0.1946  False\n",
      "   7.0   88.0    0.089 0.0171  0.0081    0.17   True\n",
      "   7.0   99.0  -0.0849 0.0067  -0.157 -0.0128   True\n",
      "   8.0    9.0  -0.2036 0.0761 -0.4163   0.009  False\n",
      "   8.0   88.0   -0.192 0.0585 -0.3871   0.003  False\n",
      "   8.0   99.0   -0.366  0.001 -0.5575 -0.1744   True\n",
      "   9.0   88.0   0.0116    0.9 -0.0917  0.1149  False\n",
      "   9.0   99.0  -0.1623  0.001 -0.2589 -0.0658   True\n",
      "  88.0   99.0  -0.1739  0.001 -0.2203 -0.1276   True\n",
      "----------------------------------------------------\n"
     ]
    }
   ],
   "source": [
    "# Influencia del estado de la carretera\n",
    "x = data[\"SURF_COND_CODE\"]\n",
    "y = data[\"INJ_SEVER_CODE\"]\n",
    "\n",
    "mcDate = multi.MultiComparison(y,x)\n",
    "Results = mcDate.tukeyhsd()\n",
    "print(\"Influencia del estado de la carretera\")\n",
    "print(Results)"
   ]
  },
  {
   "cell_type": "code",
   "execution_count": 64,
   "metadata": {
    "id": "01e4159e-4acd-434c-b2a3-bf1984735691"
   },
   "outputs": [
    {
     "name": "stdout",
     "output_type": "stream",
     "text": [
      "Influencia de la condicion de la carretera\n",
      "Multiple Comparison of Means - Tukey HSD, FWER=0.05 \n",
      "====================================================\n",
      "group1 group2 meandiff p-adj   lower   upper  reject\n",
      "----------------------------------------------------\n",
      "   0.0    1.0   0.0102  0.001  0.0041  0.0163   True\n",
      "   0.0    2.0   0.0435 0.0157  0.0043  0.0827   True\n",
      "   0.0    3.0    0.024 0.0049  0.0041  0.0438   True\n",
      "   0.0    4.0  -0.0137    0.9 -0.0447  0.0173  False\n",
      "   0.0    5.0   0.0668  0.001  0.0384  0.0952   True\n",
      "   0.0    6.0   -0.072 0.5644 -0.1821  0.0382  False\n",
      "   0.0    7.0  -0.1431 0.0331 -0.2806 -0.0056   True\n",
      "   0.0    8.0   0.0548 0.0032  0.0106   0.099   True\n",
      "   0.0   88.0   0.0092    0.9  -0.012  0.0304  False\n",
      "   0.0   99.0  -0.0449  0.001  -0.069 -0.0207   True\n",
      "   1.0    2.0   0.0333  0.172 -0.0055   0.072  False\n",
      "   1.0    3.0   0.0138 0.4134 -0.0052  0.0327  False\n",
      "   1.0    4.0  -0.0239 0.2869 -0.0544  0.0065  False\n",
      "   1.0    5.0   0.0566  0.001  0.0288  0.0844   True\n",
      "   1.0    6.0  -0.0822 0.3654 -0.1922  0.0278  False\n",
      "   1.0    7.0  -0.1533 0.0146 -0.2907 -0.0159   True\n",
      "   1.0    8.0   0.0446 0.0419  0.0008  0.0884   True\n",
      "   1.0   88.0   -0.001    0.9 -0.0214  0.0194  False\n",
      "   1.0   99.0  -0.0551  0.001 -0.0785 -0.0316   True\n",
      "   2.0    3.0  -0.0195    0.9 -0.0626  0.0236  False\n",
      "   2.0    4.0  -0.0572 0.0085 -0.1065  -0.008   True\n",
      "   2.0    5.0   0.0233 0.8937 -0.0244  0.0709  False\n",
      "   2.0    6.0  -0.1155 0.0552 -0.2321  0.0012  False\n",
      "   2.0    7.0  -0.1866 0.0013 -0.3293 -0.0439   True\n",
      "   2.0    8.0   0.0113    0.9 -0.0471  0.0698  False\n",
      "   2.0   88.0  -0.0343  0.293  -0.078  0.0095  False\n",
      "   2.0   99.0  -0.0883  0.001 -0.1336 -0.0431   True\n",
      "   3.0    4.0  -0.0377 0.0294 -0.0735 -0.0019   True\n",
      "   3.0    5.0   0.0428  0.002  0.0092  0.0764   True\n",
      "   3.0    6.0  -0.0959 0.1715 -0.2076  0.0157  False\n",
      "   3.0    7.0  -0.1671  0.005 -0.3058 -0.0284   True\n",
      "   3.0    8.0   0.0309 0.5782 -0.0169  0.0786  False\n",
      "   3.0   88.0  -0.0147 0.8117 -0.0425  0.0131  False\n",
      "   3.0   99.0  -0.0688  0.001 -0.0989 -0.0387   True\n",
      "   4.0    5.0   0.0805  0.001  0.0393  0.1217   True\n",
      "   4.0    6.0  -0.0582 0.8508 -0.1724  0.0559  False\n",
      "   4.0    7.0  -0.1294  0.105 -0.2701  0.0113  False\n",
      "   4.0    8.0   0.0685 0.0018  0.0152  0.1219   True\n",
      "   4.0   88.0    0.023 0.6164 -0.0136  0.0596  False\n",
      "   4.0   99.0  -0.0311 0.2424 -0.0695  0.0072  False\n",
      "   5.0    6.0  -0.1388  0.004 -0.2522 -0.0253   True\n",
      "   5.0    7.0  -0.2099  0.001 -0.3501 -0.0697   True\n",
      "   5.0    8.0   -0.012    0.9 -0.0638  0.0399  False\n",
      "   5.0   88.0  -0.0576  0.001  -0.092 -0.0231   True\n",
      "   5.0   99.0  -0.1116  0.001  -0.148 -0.0753   True\n",
      "   6.0    7.0  -0.0712    0.9 -0.2472  0.1048  False\n",
      "   6.0    8.0   0.1268 0.0241  0.0084  0.2452   True\n",
      "   6.0   88.0   0.0812 0.4123 -0.0307  0.1931  False\n",
      "   6.0   99.0   0.0271    0.9 -0.0854  0.1396  False\n",
      "   7.0    8.0   0.1979  0.001  0.0537  0.3421   True\n",
      "   7.0   88.0   0.1524 0.0181  0.0135  0.2912   True\n",
      "   7.0   99.0   0.0983 0.4583 -0.0411  0.2376  False\n",
      "   8.0   88.0  -0.0456 0.0854 -0.0939  0.0027  False\n",
      "   8.0   99.0  -0.0997  0.001 -0.1493   -0.05   True\n",
      "  88.0   99.0  -0.0541  0.001 -0.0851 -0.0231   True\n",
      "----------------------------------------------------\n"
     ]
    }
   ],
   "source": [
    "# Influencia de la condicion de la carretera\n",
    "x = data[\"RD_COND_CODE\"]\n",
    "y = data[\"INJ_SEVER_CODE\"]\n",
    "\n",
    "mcDate = multi.MultiComparison(y,x)\n",
    "Results = mcDate.tukeyhsd()\n",
    "print(\"Influencia de la condicion de la carretera\")\n",
    "print(Results)"
   ]
  },
  {
   "cell_type": "code",
   "execution_count": 65,
   "metadata": {
    "id": "6936358b-d152-4993-b6f2-b25a4724c841"
   },
   "outputs": [
    {
     "name": "stdout",
     "output_type": "stream",
     "text": [
      "Influencia del clima\n",
      "Multiple Comparison of Means - Tukey HSD, FWER=0.05 \n",
      "====================================================\n",
      "group1 group2 meandiff p-adj   lower   upper  reject\n",
      "----------------------------------------------------\n",
      "   0.0    2.0   0.0329  0.001  0.0144  0.0514   True\n",
      "   0.0    3.0   0.0069 0.0019  0.0014  0.0123   True\n",
      "   0.0    5.0   0.0094    0.9 -0.0228  0.0415  False\n",
      "   0.0    6.0   0.0126  0.001  0.0082   0.017   True\n",
      "   0.0    7.0    0.019  0.001  0.0131  0.0249   True\n",
      "   0.0    8.0  -0.0193  0.001  -0.032 -0.0067   True\n",
      "   0.0    9.0    0.012    0.9 -0.0175  0.0416  False\n",
      "   0.0   10.0   0.0175    0.9  -0.027   0.062  False\n",
      "   0.0   11.0  -0.0354    0.9 -0.2205  0.1497  False\n",
      "   0.0   12.0   0.0258  0.005  0.0042  0.0473   True\n",
      "   0.0   88.0  -0.0006    0.9 -0.0256  0.0244  False\n",
      "   0.0   99.0  -0.1409  0.001 -0.1602 -0.1216   True\n",
      "   2.0    3.0   -0.026  0.001 -0.0444 -0.0076   True\n",
      "   2.0    5.0  -0.0235 0.6245 -0.0601  0.0131  False\n",
      "   2.0    6.0  -0.0203 0.0132 -0.0383 -0.0022   True\n",
      "   2.0    7.0  -0.0139  0.389 -0.0324  0.0046  False\n",
      "   2.0    8.0  -0.0522  0.001 -0.0739 -0.0305   True\n",
      "   2.0    9.0  -0.0208 0.6988 -0.0552  0.0135  False\n",
      "   2.0   10.0  -0.0154    0.9 -0.0633  0.0325  False\n",
      "   2.0   11.0  -0.0683    0.9 -0.2542  0.1176  False\n",
      "   2.0   12.0  -0.0071    0.9 -0.0349  0.0207  False\n",
      "   2.0   88.0  -0.0335 0.0174  -0.064 -0.0029   True\n",
      "   2.0   99.0  -0.1738  0.001 -0.1999 -0.1477   True\n",
      "   3.0    5.0   0.0025    0.9 -0.0296  0.0346  False\n",
      "   3.0    6.0   0.0058  0.001  0.0019  0.0096   True\n",
      "   3.0    7.0   0.0121  0.001  0.0066  0.0176   True\n",
      "   3.0    8.0  -0.0262  0.001 -0.0387 -0.0137   True\n",
      "   3.0    9.0   0.0052    0.9 -0.0243  0.0346  False\n",
      "   3.0   10.0   0.0106    0.9 -0.0339  0.0551  False\n",
      "   3.0   11.0  -0.0423    0.9 -0.2274  0.1428  False\n",
      "   3.0   12.0   0.0189 0.1518 -0.0026  0.0404  False\n",
      "   3.0   88.0  -0.0074    0.9 -0.0323  0.0175  False\n",
      "   3.0   99.0  -0.1478  0.001 -0.1669 -0.1286   True\n",
      "   5.0    6.0   0.0033    0.9 -0.0287  0.0352  False\n",
      "   5.0    7.0   0.0096    0.9 -0.0225  0.0418  False\n",
      "   5.0    8.0  -0.0287 0.2061 -0.0627  0.0054  False\n",
      "   5.0    9.0   0.0027    0.9 -0.0406  0.0459  False\n",
      "   5.0   10.0   0.0081    0.9 -0.0465  0.0627  False\n",
      "   5.0   11.0  -0.0448    0.9 -0.2326   0.143  False\n",
      "   5.0   12.0   0.0164    0.9 -0.0219  0.0547  False\n",
      "   5.0   88.0  -0.0099    0.9 -0.0502  0.0303  False\n",
      "   5.0   99.0  -0.1503  0.001 -0.1873 -0.1133   True\n",
      "   6.0    7.0   0.0064  0.001  0.0019  0.0108   True\n",
      "   6.0    8.0  -0.0319  0.001  -0.044 -0.0199   True\n",
      "   6.0    9.0  -0.0006    0.9 -0.0298  0.0287  False\n",
      "   6.0   10.0   0.0049    0.9 -0.0395  0.0493  False\n",
      "   6.0   11.0  -0.0481    0.9 -0.2331   0.137  False\n",
      "   6.0   12.0   0.0131 0.6713 -0.0081  0.0344  False\n",
      "   6.0   88.0  -0.0132 0.8498 -0.0379  0.0115  False\n",
      "   6.0   99.0  -0.1535  0.001 -0.1724 -0.1346   True\n",
      "   7.0    8.0  -0.0383  0.001  -0.051 -0.0256   True\n",
      "   7.0    9.0   -0.007    0.9 -0.0365  0.0226  False\n",
      "   7.0   10.0  -0.0015    0.9 -0.0461   0.043  False\n",
      "   7.0   11.0  -0.0544    0.9 -0.2395  0.1307  False\n",
      "   7.0   12.0   0.0068    0.9 -0.0148  0.0283  False\n",
      "   7.0   88.0  -0.0196 0.3134 -0.0446  0.0054  False\n",
      "   7.0   99.0  -0.1599  0.001 -0.1792 -0.1406   True\n",
      "   8.0    9.0   0.0314 0.0537 -0.0002   0.063  False\n",
      "   8.0   10.0   0.0368 0.2779 -0.0091  0.0828  False\n",
      "   8.0   11.0  -0.0161    0.9 -0.2016  0.1694  False\n",
      "   8.0   12.0   0.0451  0.001  0.0208  0.0694   True\n",
      "   8.0   88.0   0.0187 0.5361 -0.0087  0.0462  False\n",
      "   8.0   99.0  -0.1216  0.001 -0.1439 -0.0993   True\n",
      "   9.0   10.0   0.0054    0.9 -0.0477  0.0586  False\n",
      "   9.0   11.0  -0.0475    0.9 -0.2348  0.1399  False\n",
      "   9.0   12.0   0.0137    0.9 -0.0224  0.0498  False\n",
      "   9.0   88.0  -0.0126    0.9 -0.0509  0.0256  False\n",
      "   9.0   99.0   -0.153  0.001 -0.1877 -0.1182   True\n",
      "  10.0   11.0  -0.0529    0.9 -0.2432  0.1374  False\n",
      "  10.0   12.0   0.0083    0.9 -0.0409  0.0574  False\n",
      "  10.0   88.0  -0.0181    0.9 -0.0688  0.0327  False\n",
      "  10.0   99.0  -0.1584  0.001 -0.2066 -0.1102   True\n",
      "  11.0   12.0   0.0612    0.9 -0.1251  0.2475  False\n",
      "  11.0   88.0   0.0348    0.9 -0.1519  0.2215  False\n",
      "  11.0   99.0  -0.1055 0.7818 -0.2915  0.0805  False\n",
      "  12.0   88.0  -0.0263 0.2594 -0.0588  0.0061  False\n",
      "  12.0   99.0  -0.1667  0.001  -0.195 -0.1384   True\n",
      "  88.0   99.0  -0.1403  0.001 -0.1713 -0.1093   True\n",
      "----------------------------------------------------\n"
     ]
    }
   ],
   "source": [
    "# Influencia del clima\n",
    "x = data[\"WEATHER_CODE\"]\n",
    "y = data[\"INJ_SEVER_CODE\"]\n",
    "\n",
    "mcDate = multi.MultiComparison(y,x)\n",
    "Results = mcDate.tukeyhsd()\n",
    "print(\"Influencia del clima\")\n",
    "print(Results)"
   ]
  },
  {
   "cell_type": "code",
   "execution_count": 66,
   "metadata": {
    "id": "83d44c5f-4858-44c5-806a-4908e0eb979d"
   },
   "outputs": [
    {
     "name": "stdout",
     "output_type": "stream",
     "text": [
      "Influencia de la senal del control de trafico\n",
      "Multiple Comparison of Means - Tukey HSD, FWER=0.05\n",
      "===================================================\n",
      "group1 group2 meandiff p-adj   lower  upper  reject\n",
      "---------------------------------------------------\n",
      "     0      1   0.0509  0.001   0.049 0.0528   True\n",
      "     0      2   0.0233    0.9 -0.1196 0.1663  False\n",
      "     1      2  -0.0276 0.8846 -0.1705 0.1153  False\n",
      "---------------------------------------------------\n"
     ]
    }
   ],
   "source": [
    "# Influencia de la senal del control de trafico\n",
    "x = data[\"SIGNAL_FLAG\"]\n",
    "y = data[\"INJ_SEVER_CODE\"]\n",
    "\n",
    "mcDate = multi.MultiComparison(y,x)\n",
    "Results = mcDate.tukeyhsd()\n",
    "print(\"Influencia de la senal del control de trafico\")\n",
    "print(Results)"
   ]
  },
  {
   "cell_type": "code",
   "execution_count": 67,
   "metadata": {
    "id": "10bcf79b-ff90-4276-858c-c9fe0339c952"
   },
   "outputs": [
    {
     "name": "stdout",
     "output_type": "stream",
     "text": [
      "Influencia del genero\n",
      "Multiple Comparison of Means - Tukey HSD, FWER=0.05\n",
      "===================================================\n",
      "group1 group2 meandiff p-adj  lower   upper  reject\n",
      "---------------------------------------------------\n",
      "     0      1  -0.0649 0.001  -0.067 -0.0629   True\n",
      "     0      2  -0.1255 0.001 -0.1355 -0.1155   True\n",
      "     0      3  -0.2255 0.001 -0.2293 -0.2216   True\n",
      "     1      2  -0.0606 0.001 -0.0705 -0.0506   True\n",
      "     1      3  -0.1605 0.001 -0.1643 -0.1568   True\n",
      "     2      3     -0.1 0.001 -0.1105 -0.0895   True\n",
      "---------------------------------------------------\n"
     ]
    }
   ],
   "source": [
    "# Influencia del genero\n",
    "x = data[\"SEX_CODE\"]\n",
    "y = data[\"INJ_SEVER_CODE\"]\n",
    "\n",
    "mcDate = multi.MultiComparison(y,x)\n",
    "Results = mcDate.tukeyhsd()\n",
    "print(\"Influencia del genero\")\n",
    "print(Results)"
   ]
  },
  {
   "cell_type": "code",
   "execution_count": 68,
   "metadata": {
    "id": "47134ccf-361b-418b-a78c-569c301283e3"
   },
   "outputs": [
    {
     "name": "stdout",
     "output_type": "stream",
     "text": [
      "Influencia del equipamiento\n",
      "Multiple Comparison of Means - Tukey HSD, FWER=0.05 \n",
      "====================================================\n",
      "group1 group2 meandiff p-adj   lower   upper  reject\n",
      "----------------------------------------------------\n",
      "   0.0    1.0   0.0383  0.001  0.0352  0.0415   True\n",
      "   0.0   11.0   0.1007 0.4586 -0.0392  0.2406  False\n",
      "   0.0   13.0   0.2459  0.001    0.19  0.3017   True\n",
      "   0.0   31.0   0.1298  0.001  0.0907   0.169   True\n",
      "   0.0   42.0    0.149 0.0755 -0.0063  0.3042  False\n",
      "   0.0   43.0   0.4016  0.001  0.2663  0.5368   True\n",
      "   0.0   44.0   0.3756  0.001  0.1811    0.57   True\n",
      "   0.0   45.0   0.3591  0.001  0.2493  0.4689   True\n",
      "   0.0   46.0   0.3219  0.001  0.1568  0.4871   True\n",
      "   0.0   47.0   0.3301  0.001  0.2281  0.4321   True\n",
      "   0.0   88.0   0.0368 0.3577 -0.0114  0.0851  False\n",
      "   0.0   99.0  -0.0893  0.001 -0.0942 -0.0843   True\n",
      "   1.0   11.0   0.0624    0.9 -0.0775  0.2023  False\n",
      "   1.0   13.0   0.2075  0.001  0.1517  0.2633   True\n",
      "   1.0   31.0   0.0915  0.001  0.0524  0.1306   True\n",
      "   1.0   42.0   0.1106 0.4754 -0.0446  0.2659  False\n",
      "   1.0   43.0   0.3632  0.001   0.228  0.4984   True\n",
      "   1.0   44.0   0.3372  0.001  0.1428  0.5317   True\n",
      "   1.0   45.0   0.3208  0.001   0.211  0.4306   True\n",
      "   1.0   46.0   0.2836  0.001  0.1185  0.4487   True\n",
      "   1.0   47.0   0.2918  0.001  0.1898  0.3937   True\n",
      "   1.0   88.0  -0.0015    0.9 -0.0497  0.0467  False\n",
      "   1.0   99.0  -0.1276  0.001  -0.132 -0.1232   True\n",
      "  11.0   13.0   0.1451 0.0723 -0.0055  0.2957  False\n",
      "  11.0   31.0   0.0291    0.9 -0.1161  0.1744  False\n",
      "  11.0   42.0   0.0483    0.9 -0.1607  0.2572  False\n",
      "  11.0   43.0   0.3008  0.001  0.1063  0.4954   True\n",
      "  11.0   44.0   0.2749 0.0093  0.0354  0.5144   True\n",
      "  11.0   45.0   0.2584  0.001  0.0806  0.4362   True\n",
      "  11.0   46.0   0.2212 0.0397  0.0048  0.4376   True\n",
      "  11.0   47.0   0.2294  0.001  0.0563  0.4025   True\n",
      "  11.0   88.0  -0.0639    0.9 -0.2118  0.0841  False\n",
      "  11.0   99.0    -0.19  0.001 -0.3299 -0.0501   True\n",
      "  13.0   31.0   -0.116  0.001 -0.1841 -0.0479   True\n",
      "  13.0   42.0  -0.0969 0.7393 -0.2619  0.0681  False\n",
      "  13.0   43.0   0.1557 0.0249  0.0094   0.302   True\n",
      "  13.0   44.0   0.1297 0.6257 -0.0725   0.332  False\n",
      "  13.0   45.0   0.1133 0.1089 -0.0099  0.2364  False\n",
      "  13.0   46.0   0.0761    0.9 -0.0982  0.2504  False\n",
      "  13.0   47.0   0.0843 0.4466  -0.032  0.2005  False\n",
      "  13.0   88.0   -0.209  0.001 -0.2828 -0.1353   True\n",
      "  13.0   99.0  -0.3351  0.001 -0.3911 -0.2792   True\n",
      "  31.0   42.0   0.0191    0.9  -0.141  0.1792  False\n",
      "  31.0   43.0   0.2717  0.001   0.131  0.4124   True\n",
      "  31.0   44.0   0.2457 0.0028  0.0474   0.444   True\n",
      "  31.0   45.0   0.2293  0.001  0.1127  0.3458   True\n",
      "  31.0   46.0   0.1921 0.0112  0.0224  0.3618   True\n",
      "  31.0   47.0   0.2003  0.001  0.0911  0.3094   True\n",
      "  31.0   88.0   -0.093  0.001  -0.155  -0.031   True\n",
      "  31.0   99.0  -0.2191  0.001 -0.2584 -0.1799   True\n",
      "  42.0   43.0   0.2526 0.0033  0.0467  0.4585   True\n",
      "  42.0   44.0   0.2266  0.118 -0.0222  0.4754  False\n",
      "  42.0   45.0   0.2101 0.0155    0.02  0.4003   True\n",
      "  42.0   46.0    0.173 0.3571 -0.0537  0.3996  False\n",
      "  42.0   47.0   0.1812 0.0644 -0.0046  0.3669  False\n",
      "  42.0   88.0  -0.1121 0.5239 -0.2747  0.0504  False\n",
      "  42.0   99.0  -0.2383  0.001 -0.3936 -0.0829   True\n",
      "  43.0   44.0   -0.026    0.9 -0.2628  0.2108  False\n",
      "  43.0   45.0  -0.0424    0.9 -0.2166  0.1317  False\n",
      "  43.0   46.0  -0.0796    0.9  -0.293  0.1338  False\n",
      "  43.0   47.0  -0.0714    0.9 -0.2408  0.0979  False\n",
      "  43.0   88.0  -0.3647  0.001 -0.5082 -0.2212   True\n",
      "  43.0   99.0  -0.4908  0.001 -0.6261 -0.3556   True\n",
      "  44.0   45.0  -0.0165    0.9 -0.2397  0.2068  False\n",
      "  44.0   46.0  -0.0537    0.9 -0.3087  0.2014  False\n",
      "  44.0   47.0  -0.0455    0.9  -0.265  0.1741  False\n",
      "  44.0   88.0  -0.3388  0.001 -0.5391 -0.1384   True\n",
      "  44.0   99.0  -0.4649  0.001 -0.6593 -0.2704   True\n",
      "  45.0   46.0  -0.0372    0.9 -0.2355  0.1611  False\n",
      "  45.0   47.0   -0.029    0.9 -0.1788  0.1208  False\n",
      "  45.0   88.0  -0.3223  0.001 -0.4422 -0.2024   True\n",
      "  45.0   99.0  -0.4484  0.001 -0.5583 -0.3385   True\n",
      "  46.0   47.0   0.0082    0.9 -0.1859  0.2023  False\n",
      "  46.0   88.0  -0.2851  0.001 -0.4571 -0.1131   True\n",
      "  46.0   99.0  -0.4112  0.001 -0.5764  -0.246   True\n",
      "  47.0   88.0  -0.2933  0.001 -0.4061 -0.1805   True\n",
      "  47.0   99.0  -0.4194  0.001 -0.5214 -0.3174   True\n",
      "  88.0   99.0  -0.1261  0.001 -0.1745 -0.0777   True\n",
      "----------------------------------------------------\n"
     ]
    }
   ],
   "source": [
    "# Influencia del equipamiento\n",
    "x = data[\"EQUIP_PROB_CODE\"]\n",
    "y = data[\"INJ_SEVER_CODE\"]\n",
    "\n",
    "mcDate = multi.MultiComparison(y,x)\n",
    "Results = mcDate.tukeyhsd()\n",
    "print(\"Influencia del equipamiento\")\n",
    "print(Results)"
   ]
  },
  {
   "cell_type": "code",
   "execution_count": 69,
   "metadata": {
    "id": "e610e487-16d3-4e24-aeb5-4ada29e6300d"
   },
   "outputs": [
    {
     "name": "stdout",
     "output_type": "stream",
     "text": [
      "Influencia del equipamiento propio del vehiculo\n",
      "Multiple Comparison of Means - Tukey HSD, FWER=0.05 \n",
      "====================================================\n",
      "group1 group2 meandiff p-adj   lower   upper  reject\n",
      "----------------------------------------------------\n",
      "   0.0    1.0   0.1958  0.001  0.1883  0.2033   True\n",
      "   0.0   11.0   -0.018  0.046  -0.036 -0.0001   True\n",
      "   0.0   12.0   0.0112 0.6833 -0.0062  0.0287  False\n",
      "   0.0   13.0   0.0163  0.001  0.0112  0.0213   True\n",
      "   0.0   15.0   0.0232  0.001  0.0111  0.0353   True\n",
      "   0.0   16.0    0.051  0.001  0.0324  0.0696   True\n",
      "   0.0   17.0   0.0562  0.001  0.0322  0.0802   True\n",
      "   0.0   18.0   0.0397  0.001  0.0102  0.0692   True\n",
      "   0.0   21.0   0.6353  0.001  0.6132  0.6575   True\n",
      "   0.0   22.0   0.4888  0.001  0.3108  0.6668   True\n",
      "   0.0   23.0   0.6399  0.001  0.6086  0.6712   True\n",
      "   0.0   24.0  -0.0972  0.001  -0.147 -0.0474   True\n",
      "   0.0   25.0    0.574  0.001  0.5092  0.6388   True\n",
      "   0.0   26.0   0.4484  0.001  0.2985  0.5983   True\n",
      "   0.0   88.0  -0.0358 0.0038 -0.0655  -0.006   True\n",
      "   0.0   99.0   -0.072  0.001  -0.078 -0.0659   True\n",
      "   1.0   11.0  -0.2139  0.001 -0.2321 -0.1956   True\n",
      "   1.0   12.0  -0.1846  0.001 -0.2024 -0.1668   True\n",
      "   1.0   13.0  -0.1795  0.001 -0.1856 -0.1735   True\n",
      "   1.0   15.0  -0.1727  0.001 -0.1852 -0.1601   True\n",
      "   1.0   16.0  -0.1448  0.001 -0.1637 -0.1259   True\n",
      "   1.0   17.0  -0.1396  0.001 -0.1638 -0.1154   True\n",
      "   1.0   18.0  -0.1561  0.001 -0.1858 -0.1265   True\n",
      "   1.0   21.0   0.4395  0.001  0.4171  0.4619   True\n",
      "   1.0   22.0    0.293  0.001   0.115  0.4711   True\n",
      "   1.0   23.0   0.4441  0.001  0.4126  0.4755   True\n",
      "   1.0   24.0   -0.293  0.001 -0.3429 -0.2431   True\n",
      "   1.0   25.0   0.3782  0.001  0.3133   0.443   True\n",
      "   1.0   26.0   0.2526  0.001  0.1026  0.4025   True\n",
      "   1.0   88.0  -0.2316  0.001 -0.2615 -0.2016   True\n",
      "   1.0   99.0  -0.2678  0.001 -0.2747 -0.2609   True\n",
      "  11.0   12.0   0.0293 0.0031  0.0052  0.0533   True\n",
      "  11.0   13.0   0.0343  0.001   0.017  0.0516   True\n",
      "  11.0   15.0   0.0412  0.001  0.0207  0.0617   True\n",
      "  11.0   16.0    0.069  0.001  0.0441   0.094   True\n",
      "  11.0   17.0   0.0742  0.001  0.0451  0.1034   True\n",
      "  11.0   18.0   0.0577  0.001  0.0239  0.0915   True\n",
      "  11.0   21.0   0.6534  0.001  0.6257   0.681   True\n",
      "  11.0   22.0   0.5069  0.001  0.3281  0.6856   True\n",
      "  11.0   23.0   0.6579  0.001  0.6225  0.6933   True\n",
      "  11.0   24.0  -0.0792  0.001 -0.1316 -0.0267   True\n",
      "  11.0   25.0    0.592  0.001  0.5252  0.6589   True\n",
      "  11.0   26.0   0.4664  0.001  0.3156  0.6172   True\n",
      "  11.0   88.0  -0.0177    0.9 -0.0518  0.0163  False\n",
      "  11.0   99.0  -0.0539  0.001 -0.0716 -0.0363   True\n",
      "  12.0   13.0   0.0051    0.9 -0.0118  0.0219  False\n",
      "  12.0   15.0   0.0119 0.7946 -0.0082  0.0321  False\n",
      "  12.0   16.0   0.0398  0.001  0.0152  0.0644   True\n",
      "  12.0   17.0    0.045  0.001  0.0161  0.0738   True\n",
      "  12.0   18.0   0.0285 0.2188 -0.0051   0.062  False\n",
      "  12.0   21.0   0.6241  0.001  0.5967  0.6515   True\n",
      "  12.0   22.0   0.4776  0.001  0.2989  0.6563   True\n",
      "  12.0   23.0   0.6287  0.001  0.5935  0.6638   True\n",
      "  12.0   24.0  -0.1084  0.001 -0.1607 -0.0561   True\n",
      "  12.0   25.0   0.5628  0.001   0.496  0.6295   True\n",
      "  12.0   26.0   0.4371  0.001  0.2864  0.5879   True\n",
      "  12.0   88.0   -0.047  0.001 -0.0808 -0.0132   True\n",
      "  12.0   99.0  -0.0832  0.001 -0.1004  -0.066   True\n",
      "  13.0   15.0   0.0069 0.7492 -0.0043  0.0181  False\n",
      "  13.0   16.0   0.0347  0.001  0.0166  0.0528   True\n",
      "  13.0   17.0   0.0399  0.001  0.0164  0.0634   True\n",
      "  13.0   18.0   0.0234 0.3062 -0.0057  0.0525  False\n",
      "  13.0   21.0    0.619  0.001  0.5974  0.6407   True\n",
      "  13.0   22.0   0.4725  0.001  0.2946  0.6505   True\n",
      "  13.0   23.0   0.6236  0.001  0.5926  0.6546   True\n",
      "  13.0   24.0  -0.1135  0.001  -0.163 -0.0639   True\n",
      "  13.0   25.0   0.5577  0.001  0.4931  0.6223   True\n",
      "  13.0   26.0   0.4321  0.001  0.2823  0.5819   True\n",
      "  13.0   88.0   -0.052  0.001 -0.0814 -0.0226   True\n",
      "  13.0   99.0  -0.0883  0.001 -0.0923 -0.0843   True\n",
      "  15.0   16.0   0.0279  0.001  0.0067   0.049   True\n",
      "  15.0   17.0    0.033 0.0013  0.0071   0.059   True\n",
      "  15.0   18.0   0.0165    0.9 -0.0146  0.0477  False\n",
      "  15.0   21.0   0.6122  0.001  0.5879  0.6365   True\n",
      "  15.0   22.0   0.4657  0.001  0.2874   0.644   True\n",
      "  15.0   23.0   0.6167  0.001  0.5839  0.6496   True\n",
      "  15.0   24.0  -0.1204  0.001 -0.1711 -0.0696   True\n",
      "  15.0   25.0   0.5508  0.001  0.4853  0.6164   True\n",
      "  15.0   26.0   0.4252  0.001   0.275  0.5754   True\n",
      "  15.0   88.0  -0.0589  0.001 -0.0903 -0.0275   True\n",
      "  15.0   99.0  -0.0951  0.001 -0.1068 -0.0834   True\n",
      "  16.0   17.0   0.0052    0.9 -0.0244  0.0348  False\n",
      "  16.0   18.0  -0.0113    0.9 -0.0456  0.0229  False\n",
      "  16.0   21.0   0.5843  0.001  0.5562  0.6125   True\n",
      "  16.0   22.0   0.4378  0.001   0.259  0.6167   True\n",
      "  16.0   23.0   0.5889  0.001  0.5531  0.6247   True\n",
      "  16.0   24.0  -0.1482  0.001 -0.2009 -0.0955   True\n",
      "  16.0   25.0    0.523  0.001  0.4559    0.59   True\n",
      "  16.0   26.0   0.3974  0.001  0.2465  0.5483   True\n",
      "  16.0   88.0  -0.0868  0.001 -0.1212 -0.0523   True\n",
      "  16.0   99.0   -0.123  0.001 -0.1414 -0.1046   True\n",
      "  17.0   18.0  -0.0165    0.9 -0.0539  0.0209  False\n",
      "  17.0   21.0   0.5791  0.001  0.5472   0.611   True\n",
      "  17.0   22.0   0.4326  0.001  0.2531  0.6121   True\n",
      "  17.0   23.0   0.5837  0.001  0.5448  0.6225   True\n",
      "  17.0   24.0  -0.1534  0.001 -0.2082 -0.0986   True\n",
      "  17.0   25.0   0.5178  0.001  0.4491  0.5865   True\n",
      "  17.0   26.0   0.3922  0.001  0.2405  0.5438   True\n",
      "  17.0   88.0   -0.092  0.001 -0.1296 -0.0544   True\n",
      "  17.0   99.0  -0.1282  0.001  -0.152 -0.1044   True\n",
      "  18.0   21.0   0.5957  0.001  0.5594  0.6319   True\n",
      "  18.0   22.0   0.4492  0.001  0.2689  0.6295   True\n",
      "  18.0   23.0   0.6002  0.001  0.5577  0.6427   True\n",
      "  18.0   24.0  -0.1369  0.001 -0.1943 -0.0794   True\n",
      "  18.0   25.0   0.5343  0.001  0.4635  0.6052   True\n",
      "  18.0   26.0   0.4087  0.001  0.2561  0.5613   True\n",
      "  18.0   88.0  -0.0754  0.001 -0.1168 -0.0341   True\n",
      "  18.0   99.0  -0.1117  0.001  -0.141 -0.0823   True\n",
      "  21.0   22.0  -0.1465 0.2752 -0.3257  0.0327  False\n",
      "  21.0   23.0   0.0045    0.9 -0.0332  0.0423  False\n",
      "  21.0   24.0  -0.7325  0.001 -0.7866 -0.6785   True\n",
      "  21.0   25.0  -0.0613 0.1369 -0.1294  0.0068  False\n",
      "  21.0   26.0   -0.187 0.0023 -0.3383 -0.0356   True\n",
      "  21.0   88.0  -0.6711  0.001 -0.7076 -0.6346   True\n",
      "  21.0   99.0  -0.7073  0.001 -0.7292 -0.6854   True\n",
      "  22.0   23.0    0.151 0.2375 -0.0296  0.3316  False\n",
      "  22.0   24.0   -0.586  0.001 -0.7707 -0.4013   True\n",
      "  22.0   25.0   0.0852    0.9 -0.1041  0.2745  False\n",
      "  22.0   26.0  -0.0405    0.9 -0.2731  0.1921  False\n",
      "  22.0   88.0  -0.5246  0.001 -0.7049 -0.3443   True\n",
      "  22.0   99.0  -0.5608  0.001 -0.7388 -0.3828   True\n",
      "  23.0   24.0  -0.7371  0.001 -0.7955 -0.6787   True\n",
      "  23.0   25.0  -0.0659 0.1151 -0.1375  0.0057  False\n",
      "  23.0   26.0  -0.1915 0.0018 -0.3445 -0.0385   True\n",
      "  23.0   88.0  -0.6756  0.001 -0.7183  -0.633   True\n",
      "  23.0   99.0  -0.7119  0.001  -0.743 -0.6807   True\n",
      "  24.0   25.0   0.6712  0.001  0.5898  0.7526   True\n",
      "  24.0   26.0   0.5456  0.001  0.3878  0.7033   True\n",
      "  24.0   88.0   0.0614 0.0229  0.0039   0.119   True\n",
      "  24.0   99.0   0.0252    0.9 -0.0244  0.0749  False\n",
      "  25.0   26.0  -0.1256 0.3843 -0.2888  0.0375  False\n",
      "  25.0   88.0  -0.6098  0.001 -0.6807 -0.5388   True\n",
      "  25.0   99.0   -0.646  0.001 -0.7107 -0.5813   True\n",
      "  26.0   88.0  -0.4841  0.001 -0.6368 -0.3315   True\n",
      "  26.0   99.0  -0.5204  0.001 -0.6702 -0.3705   True\n",
      "  88.0   99.0  -0.0362 0.0027 -0.0658 -0.0066   True\n",
      "----------------------------------------------------\n"
     ]
    }
   ],
   "source": [
    "# Influencia del equipamiento propio del vehiculo\n",
    "x = data[\"SAF_EQUIP_CODE\"]\n",
    "y = data[\"INJ_SEVER_CODE\"]\n",
    "\n",
    "mcDate = multi.MultiComparison(y,x)\n",
    "Results = mcDate.tukeyhsd()\n",
    "print(\"Influencia del equipamiento propio del vehiculo\")\n",
    "print(Results)"
   ]
  },
  {
   "cell_type": "code",
   "execution_count": 70,
   "metadata": {
    "id": "e4ef864b-400c-44cc-8099-57cf5b512f47"
   },
   "outputs": [
    {
     "name": "stdout",
     "output_type": "stream",
     "text": [
      "Influencia del tipo de dano sobre el vehiculo\n",
      "Multiple Comparison of Means - Tukey HSD, FWER=0.05 \n",
      "====================================================\n",
      "group1 group2 meandiff p-adj   lower   upper  reject\n",
      "----------------------------------------------------\n",
      "   0.0    1.0  -0.0201 0.0176 -0.0382  -0.002   True\n",
      "   0.0    2.0   -0.008 0.8383 -0.0252  0.0092  False\n",
      "   0.0    3.0   0.0359  0.001  0.0187  0.0531   True\n",
      "   0.0    4.0   0.1923  0.001  0.1752  0.2095   True\n",
      "   0.0    5.0   0.4145  0.001  0.3968  0.4322   True\n",
      "   0.0   88.0   0.0068    0.9  -0.033  0.0466  False\n",
      "   0.0   99.0  -0.0763  0.001 -0.0941 -0.0586   True\n",
      "   1.0    2.0   0.0121  0.001  0.0056  0.0186   True\n",
      "   1.0    3.0    0.056  0.001  0.0495  0.0625   True\n",
      "   1.0    4.0   0.2124  0.001  0.2061  0.2188   True\n",
      "   1.0    5.0   0.4346  0.001  0.4269  0.4423   True\n",
      "   1.0   88.0   0.0269   0.33 -0.0096  0.0634  False\n",
      "   1.0   99.0  -0.0562  0.001  -0.064 -0.0485   True\n",
      "   2.0    3.0   0.0439  0.001  0.0407   0.047   True\n",
      "   2.0    4.0   0.2003  0.001  0.1974  0.2032   True\n",
      "   2.0    5.0   0.4225  0.001  0.4173  0.4276   True\n",
      "   2.0   88.0   0.0148    0.9 -0.0212  0.0508  False\n",
      "   2.0   99.0  -0.0684  0.001 -0.0736 -0.0631   True\n",
      "   3.0    4.0   0.1565  0.001  0.1536  0.1593   True\n",
      "   3.0    5.0   0.3786  0.001  0.3735  0.3838   True\n",
      "   3.0   88.0  -0.0291   0.22 -0.0651   0.007  False\n",
      "   3.0   99.0  -0.1122  0.001 -0.1175 -0.1069   True\n",
      "   4.0    5.0   0.2222  0.001  0.2172  0.2271   True\n",
      "   4.0   88.0  -0.1855  0.001 -0.2215 -0.1495   True\n",
      "   4.0   99.0  -0.2687  0.001 -0.2738 -0.2636   True\n",
      "   5.0   88.0  -0.4077  0.001 -0.4439 -0.3714   True\n",
      "   5.0   99.0  -0.4908  0.001 -0.4975 -0.4841   True\n",
      "  88.0   99.0  -0.0832  0.001 -0.1194 -0.0469   True\n",
      "----------------------------------------------------\n"
     ]
    }
   ],
   "source": [
    "# Influencia del tipo de dano sobre el vehiculo\n",
    "x = data[\"DAMAGE_CODE\"]\n",
    "y = data[\"INJ_SEVER_CODE\"]\n",
    "\n",
    "mcDate = multi.MultiComparison(y,x)\n",
    "Results = mcDate.tukeyhsd()\n",
    "print(\"Influencia del tipo de dano sobre el vehiculo\")\n",
    "print(Results)"
   ]
  },
  {
   "cell_type": "code",
   "execution_count": 71,
   "metadata": {
    "id": "abe9466e-682c-4729-b457-ab825f5f789a"
   },
   "outputs": [
    {
     "name": "stdout",
     "output_type": "stream",
     "text": [
      "Influencia del tipo de movimiento del vehiculo\n",
      "Multiple Comparison of Means - Tukey HSD, FWER=0.05 \n",
      "====================================================\n",
      "group1 group2 meandiff p-adj   lower   upper  reject\n",
      "----------------------------------------------------\n",
      "   0.0    1.0   0.1115  0.001  0.0946  0.1284   True\n",
      "   0.0    2.0   0.0503  0.001  0.0327   0.068   True\n",
      "   0.0    3.0   0.0218  0.001  0.0047  0.0389   True\n",
      "   0.0    4.0   0.0417  0.001  0.0224   0.061   True\n",
      "   0.0    5.0   -0.048  0.001 -0.0695 -0.0265   True\n",
      "   0.0    6.0   0.0663  0.001   0.049  0.0837   True\n",
      "   0.0    7.0  -0.0111 0.8967 -0.0302   0.008  False\n",
      "   0.0    8.0  -0.0343  0.001 -0.0595 -0.0092   True\n",
      "   0.0    9.0  -0.0936  0.001 -0.1166 -0.0705   True\n",
      "   0.0   10.0  -0.0474  0.001 -0.0666 -0.0282   True\n",
      "   0.0   11.0  -0.1082  0.001  -0.127 -0.0894   True\n",
      "   0.0   12.0   0.0676  0.001    0.05  0.0852   True\n",
      "   0.0   13.0  -0.0264  0.001 -0.0455 -0.0073   True\n",
      "   0.0   14.0  -0.0335 0.7756 -0.0866  0.0196  False\n",
      "   0.0   15.0   0.0308 0.0015   0.006  0.0555   True\n",
      "   0.0   16.0   0.0891  0.001  0.0666  0.1116   True\n",
      "   0.0   17.0   -0.016    0.9 -0.1019  0.0699  False\n",
      "   0.0   18.0   0.1287  0.001  0.0947  0.1627   True\n",
      "   0.0   19.0   0.0288 0.0234  0.0016  0.0559   True\n",
      "   0.0   20.0   0.1142  0.001  0.0875  0.1409   True\n",
      "   0.0   88.0   0.0179 0.6373 -0.0081   0.044  False\n",
      "   0.0   99.0  -0.0525  0.001 -0.0713 -0.0337   True\n",
      "   1.0    2.0  -0.0611  0.001  -0.067 -0.0553   True\n",
      "   1.0    3.0  -0.0897  0.001 -0.0937 -0.0857   True\n",
      "   1.0    4.0  -0.0698  0.001 -0.0796   -0.06   True\n",
      "   1.0    5.0  -0.1595  0.001 -0.1731 -0.1459   True\n",
      "   1.0    6.0  -0.0451  0.001 -0.0502 -0.0401   True\n",
      "   1.0    7.0  -0.1226  0.001 -0.1321 -0.1131   True\n",
      "   1.0    8.0  -0.1458  0.001 -0.1647  -0.127   True\n",
      "   1.0    9.0  -0.2051  0.001  -0.221 -0.1891   True\n",
      "   1.0   10.0  -0.1589  0.001 -0.1685 -0.1493   True\n",
      "   1.0   11.0  -0.2197  0.001 -0.2284 -0.2109   True\n",
      "   1.0   12.0  -0.0439  0.001 -0.0495 -0.0382   True\n",
      "   1.0   13.0  -0.1379  0.001 -0.1472 -0.1285   True\n",
      "   1.0   14.0   -0.145  0.001 -0.1955 -0.0945   True\n",
      "   1.0   15.0  -0.0807  0.001  -0.099 -0.0624   True\n",
      "   1.0   16.0  -0.0224  0.001 -0.0376 -0.0072   True\n",
      "   1.0   17.0  -0.1275  0.001 -0.2117 -0.0433   True\n",
      "   1.0   18.0   0.0172 0.8948 -0.0124  0.0468  False\n",
      "   1.0   19.0  -0.0827  0.001 -0.1042 -0.0612   True\n",
      "   1.0   20.0   0.0027    0.9 -0.0182  0.0236  False\n",
      "   1.0   88.0  -0.0935  0.001 -0.1136 -0.0735   True\n",
      "   1.0   99.0   -0.164  0.001 -0.1728 -0.1552   True\n",
      "   2.0    3.0  -0.0286  0.001  -0.035 -0.0221   True\n",
      "   2.0    4.0  -0.0087 0.3813 -0.0197  0.0023  False\n",
      "   2.0    5.0  -0.0983  0.001 -0.1128 -0.0839   True\n",
      "   2.0    6.0    0.016  0.001  0.0088  0.0232   True\n",
      "   2.0    7.0  -0.0615  0.001 -0.0722 -0.0507   True\n",
      "   2.0    8.0  -0.0847  0.001 -0.1042 -0.0652   True\n",
      "   2.0    9.0  -0.1439  0.001 -0.1606 -0.1272   True\n",
      "   2.0   10.0  -0.0978  0.001 -0.1086 -0.0869   True\n",
      "   2.0   11.0  -0.1585  0.001 -0.1686 -0.1484   True\n",
      "   2.0   12.0   0.0173  0.001  0.0097  0.0249   True\n",
      "   2.0   13.0  -0.0767  0.001 -0.0874 -0.0661   True\n",
      "   2.0   14.0  -0.0839  0.001 -0.1346 -0.0332   True\n",
      "   2.0   15.0  -0.0196 0.0336 -0.0386 -0.0006   True\n",
      "   2.0   16.0   0.0387  0.001  0.0227  0.0547   True\n",
      "   2.0   17.0  -0.0663 0.3893 -0.1507   0.018  False\n",
      "   2.0   18.0   0.0784  0.001  0.0483  0.1084   True\n",
      "   2.0   19.0  -0.0216 0.0653 -0.0436  0.0005  False\n",
      "   2.0   20.0   0.0638  0.001  0.0423  0.0853   True\n",
      "   2.0   88.0  -0.0324  0.001 -0.0531 -0.0117   True\n",
      "   2.0   99.0  -0.1028  0.001  -0.113 -0.0927   True\n",
      "   3.0    4.0   0.0199  0.001  0.0098  0.0301   True\n",
      "   3.0    5.0  -0.0698  0.001 -0.0836 -0.0559   True\n",
      "   3.0    6.0   0.0446  0.001  0.0388  0.0503   True\n",
      "   3.0    7.0  -0.0329  0.001 -0.0427  -0.023   True\n",
      "   3.0    8.0  -0.0561  0.001 -0.0752 -0.0371   True\n",
      "   3.0    9.0  -0.1153  0.001 -0.1315 -0.0992   True\n",
      "   3.0   10.0  -0.0692  0.001 -0.0792 -0.0592   True\n",
      "   3.0   11.0    -0.13  0.001 -0.1391 -0.1208   True\n",
      "   3.0   12.0   0.0459  0.001  0.0396  0.0522   True\n",
      "   3.0   13.0  -0.0481  0.001 -0.0579 -0.0384   True\n",
      "   3.0   14.0  -0.0553 0.0149 -0.1058 -0.0047   True\n",
      "   3.0   15.0    0.009    0.9 -0.0095  0.0275  False\n",
      "   3.0   16.0   0.0673  0.001  0.0519  0.0828   True\n",
      "   3.0   17.0  -0.0378    0.9  -0.122  0.0465  False\n",
      "   3.0   18.0   0.1069  0.001  0.0772  0.1367   True\n",
      "   3.0   19.0    0.007    0.9 -0.0146  0.0287  False\n",
      "   3.0   20.0   0.0924  0.001  0.0713  0.1135   True\n",
      "   3.0   88.0  -0.0038    0.9 -0.0241  0.0165  False\n",
      "   3.0   99.0  -0.0743  0.001 -0.0835  -0.065   True\n",
      "   4.0    5.0  -0.0897  0.001 -0.1061 -0.0732   True\n",
      "   4.0    6.0   0.0247  0.001  0.0141  0.0353   True\n",
      "   4.0    7.0  -0.0528  0.001 -0.0661 -0.0395   True\n",
      "   4.0    8.0   -0.076  0.001  -0.097  -0.055   True\n",
      "   4.0    9.0  -0.1352  0.001 -0.1537 -0.1168   True\n",
      "   4.0   10.0  -0.0891  0.001 -0.1025 -0.0757   True\n",
      "   4.0   11.0  -0.1499  0.001 -0.1626 -0.1371   True\n",
      "   4.0   12.0    0.026  0.001   0.015  0.0369   True\n",
      "   4.0   13.0   -0.068  0.001 -0.0813 -0.0548   True\n",
      "   4.0   14.0  -0.0752  0.001 -0.1265 -0.0239   True\n",
      "   4.0   15.0  -0.0109    0.9 -0.0314  0.0096  False\n",
      "   4.0   16.0   0.0474  0.001  0.0296  0.0652   True\n",
      "   4.0   17.0  -0.0577  0.656 -0.1424  0.0271  False\n",
      "   4.0   18.0    0.087  0.001   0.056  0.1181   True\n",
      "   4.0   19.0  -0.0129    0.9 -0.0363  0.0105  False\n",
      "   4.0   20.0   0.0725  0.001  0.0496  0.0954   True\n",
      "   4.0   88.0  -0.0237 0.0203 -0.0459 -0.0016   True\n",
      "   4.0   99.0  -0.0942  0.001  -0.107 -0.0813   True\n",
      "   5.0    6.0   0.1143  0.001  0.1001  0.1285   True\n",
      "   5.0    7.0   0.0369  0.001  0.0206  0.0532   True\n",
      "   5.0    8.0   0.0137 0.8679 -0.0094  0.0367  False\n",
      "   5.0    9.0  -0.0456  0.001 -0.0663 -0.0248   True\n",
      "   5.0   10.0   0.0006    0.9 -0.0158   0.017  False\n",
      "   5.0   11.0  -0.0602  0.001 -0.0761 -0.0443   True\n",
      "   5.0   12.0   0.1156  0.001  0.1012  0.1301   True\n",
      "   5.0   13.0   0.0216  0.001  0.0054  0.0379   True\n",
      "   5.0   14.0   0.0145    0.9 -0.0377  0.0667  False\n",
      "   5.0   15.0   0.0788  0.001  0.0562  0.1013   True\n",
      "   5.0   16.0   0.1371  0.001  0.1169  0.1572   True\n",
      "   5.0   17.0    0.032    0.9 -0.0533  0.1173  False\n",
      "   5.0   18.0   0.1767  0.001  0.1443  0.2092   True\n",
      "   5.0   19.0   0.0768  0.001  0.0516   0.102   True\n",
      "   5.0   20.0   0.1622  0.001  0.1374  0.1869   True\n",
      "   5.0   88.0   0.0659  0.001  0.0419    0.09   True\n",
      "   5.0   99.0  -0.0045    0.9 -0.0204  0.0114  False\n",
      "   6.0    7.0  -0.0775  0.001 -0.0878 -0.0671   True\n",
      "   6.0    8.0  -0.1007  0.001   -0.12 -0.0814   True\n",
      "   6.0    9.0  -0.1599  0.001 -0.1764 -0.1434   True\n",
      "   6.0   10.0  -0.1138  0.001 -0.1242 -0.1033   True\n",
      "   6.0   11.0  -0.1745  0.001 -0.1842 -0.1649   True\n",
      "   6.0   12.0   0.0013    0.9 -0.0057  0.0083  False\n",
      "   6.0   13.0  -0.0927  0.001  -0.103 -0.0825   True\n",
      "   6.0   14.0  -0.0999  0.001 -0.1505 -0.0492   True\n",
      "   6.0   15.0  -0.0356  0.001 -0.0543 -0.0168   True\n",
      "   6.0   16.0   0.0227  0.001   0.007  0.0385   True\n",
      "   6.0   17.0  -0.0823 0.0664 -0.1667   0.002  False\n",
      "   6.0   18.0   0.0624  0.001  0.0325  0.0923   True\n",
      "   6.0   19.0  -0.0376  0.001 -0.0594 -0.0157   True\n",
      "   6.0   20.0   0.0478  0.001  0.0265  0.0691   True\n",
      "   6.0   88.0  -0.0484  0.001 -0.0689 -0.0279   True\n",
      "   6.0   99.0  -0.1188  0.001 -0.1286 -0.1091   True\n",
      "   7.0    8.0  -0.0232 0.0115 -0.0441 -0.0023   True\n",
      "   7.0    9.0  -0.0825  0.001 -0.1008 -0.0642   True\n",
      "   7.0   10.0  -0.0363  0.001 -0.0495 -0.0231   True\n",
      "   7.0   11.0  -0.0971  0.001 -0.1096 -0.0845   True\n",
      "   7.0   12.0   0.0787  0.001  0.0681  0.0894   True\n",
      "   7.0   13.0  -0.0153 0.0047 -0.0283 -0.0023   True\n",
      "   7.0   14.0  -0.0224    0.9 -0.0737  0.0288  False\n",
      "   7.0   15.0   0.0419  0.001  0.0215  0.0622   True\n",
      "   7.0   16.0   0.1002  0.001  0.0825  0.1178   True\n",
      "   7.0   17.0  -0.0049    0.9 -0.0896  0.0798  False\n",
      "   7.0   18.0   0.1398  0.001  0.1089  0.1708   True\n",
      "   7.0   19.0   0.0399  0.001  0.0166  0.0632   True\n",
      "   7.0   20.0   0.1253  0.001  0.1025   0.148   True\n",
      "   7.0   88.0   0.0291  0.001   0.007  0.0511   True\n",
      "   7.0   99.0  -0.0414  0.001  -0.054 -0.0288   True\n",
      "   8.0    9.0  -0.0592  0.001 -0.0837 -0.0347   True\n",
      "   8.0   10.0  -0.0131 0.7922  -0.034  0.0079  False\n",
      "   8.0   11.0  -0.0738  0.001 -0.0944 -0.0533   True\n",
      "   8.0   12.0    0.102  0.001  0.0825  0.1214   True\n",
      "   8.0   13.0    0.008    0.9 -0.0129  0.0288  False\n",
      "   8.0   14.0   0.0008    0.9 -0.0529  0.0546  False\n",
      "   8.0   15.0   0.0651  0.001   0.039  0.0912   True\n",
      "   8.0   16.0   0.1234  0.001  0.0994  0.1475   True\n",
      "   8.0   17.0   0.0183    0.9 -0.0679  0.1046  False\n",
      "   8.0   18.0   0.1631  0.001  0.1281   0.198   True\n",
      "   8.0   19.0   0.0631  0.001  0.0347  0.0915   True\n",
      "   8.0   20.0   0.1485  0.001  0.1205  0.1765   True\n",
      "   8.0   88.0   0.0523  0.001  0.0249  0.0797   True\n",
      "   8.0   99.0  -0.0181 0.1777 -0.0387  0.0024  False\n",
      "   9.0   10.0   0.0462  0.001  0.0278  0.0645   True\n",
      "   9.0   11.0  -0.0146 0.3148 -0.0326  0.0033  False\n",
      "   9.0   12.0   0.1612  0.001  0.1445  0.1779   True\n",
      "   9.0   13.0   0.0672  0.001  0.0489  0.0855   True\n",
      "   9.0   14.0   0.0601 0.0081  0.0072  0.1129   True\n",
      "   9.0   15.0   0.1243  0.001  0.1002  0.1484   True\n",
      "   9.0   16.0   0.1827  0.001  0.1608  0.2045   True\n",
      "   9.0   17.0   0.0776 0.1406 -0.0081  0.1632  False\n",
      "   9.0   18.0   0.2223  0.001  0.1888  0.2558   True\n",
      "   9.0   19.0   0.1224  0.001  0.0958  0.1489   True\n",
      "   9.0   20.0   0.2077  0.001  0.1816  0.2339   True\n",
      "   9.0   88.0   0.1115  0.001   0.086   0.137   True\n",
      "   9.0   99.0   0.0411  0.001  0.0231  0.0591   True\n",
      "  10.0   11.0  -0.0608  0.001 -0.0734 -0.0481   True\n",
      "  10.0   12.0    0.115  0.001  0.1043  0.1258   True\n",
      "  10.0   13.0    0.021  0.001  0.0079  0.0341   True\n",
      "  10.0   14.0   0.0139    0.9 -0.0374  0.0652  False\n",
      "  10.0   15.0   0.0782  0.001  0.0577  0.0986   True\n",
      "  10.0   16.0   0.1365  0.001  0.1188  0.1542   True\n",
      "  10.0   17.0   0.0314    0.9 -0.0533  0.1161  False\n",
      "  10.0   18.0   0.1761  0.001  0.1451  0.2071   True\n",
      "  10.0   19.0   0.0762  0.001  0.0529  0.0995   True\n",
      "  10.0   20.0   0.1616  0.001  0.1388  0.1844   True\n",
      "  10.0   88.0   0.0654  0.001  0.0433  0.0874   True\n",
      "  10.0   99.0  -0.0051    0.9 -0.0178  0.0076  False\n",
      "  11.0   12.0   0.1758  0.001  0.1658  0.1858   True\n",
      "  11.0   13.0   0.0818  0.001  0.0693  0.0943   True\n",
      "  11.0   14.0   0.0747  0.001  0.0236  0.1258   True\n",
      "  11.0   15.0   0.1389  0.001  0.1189   0.159   True\n",
      "  11.0   16.0   0.1973  0.001    0.18  0.2146   True\n",
      "  11.0   17.0   0.0922 0.0159  0.0076  0.1768   True\n",
      "  11.0   18.0   0.2369  0.001  0.2061  0.2676   True\n",
      "  11.0   19.0    0.137  0.001   0.114    0.16   True\n",
      "  11.0   20.0   0.2224  0.001  0.1999  0.2448   True\n",
      "  11.0   88.0   0.1261  0.001  0.1044  0.1478   True\n",
      "  11.0   99.0   0.0557  0.001  0.0436  0.0678   True\n",
      "  12.0   13.0   -0.094  0.001 -0.1046 -0.0834   True\n",
      "  12.0   14.0  -0.1011  0.001 -0.1518 -0.0504   True\n",
      "  12.0   15.0  -0.0369  0.001 -0.0558 -0.0179   True\n",
      "  12.0   16.0   0.0215  0.001  0.0055  0.0374   True\n",
      "  12.0   17.0  -0.0836 0.0557  -0.168  0.0007  False\n",
      "  12.0   18.0   0.0611  0.001  0.0311  0.0911   True\n",
      "  12.0   19.0  -0.0388  0.001 -0.0608 -0.0168   True\n",
      "  12.0   20.0   0.0465  0.001  0.0251   0.068   True\n",
      "  12.0   88.0  -0.0497  0.001 -0.0703  -0.029   True\n",
      "  12.0   99.0  -0.1201  0.001 -0.1302 -0.1101   True\n",
      "  13.0   14.0  -0.0071    0.9 -0.0584  0.0441  False\n",
      "  13.0   15.0   0.0571  0.001  0.0368  0.0775   True\n",
      "  13.0   16.0   0.1155  0.001  0.0979  0.1331   True\n",
      "  13.0   17.0   0.0104    0.9 -0.0743  0.0951  False\n",
      "  13.0   18.0   0.1551  0.001  0.1241   0.186   True\n",
      "  13.0   19.0   0.0552  0.001  0.0319  0.0784   True\n",
      "  13.0   20.0   0.1405  0.001  0.1178  0.1633   True\n",
      "  13.0   88.0   0.0443  0.001  0.0223  0.0663   True\n",
      "  13.0   99.0  -0.0261  0.001 -0.0386 -0.0136   True\n",
      "  14.0   15.0   0.0643 0.0031  0.0107  0.1179   True\n",
      "  14.0   16.0   0.1226  0.001    0.07  0.1752   True\n",
      "  14.0   17.0   0.0175    0.9 -0.0806  0.1157  False\n",
      "  14.0   18.0   0.1622  0.001  0.1038  0.2207   True\n",
      "  14.0   19.0   0.0623  0.008  0.0076  0.1171   True\n",
      "  14.0   20.0   0.1477  0.001  0.0931  0.2022   True\n",
      "  14.0   88.0   0.0515 0.0891 -0.0028  0.1057  False\n",
      "  14.0   99.0   -0.019    0.9 -0.0701  0.0322  False\n",
      "  15.0   16.0   0.0583  0.001  0.0347  0.0819   True\n",
      "  15.0   17.0  -0.0468    0.9 -0.1329  0.0394  False\n",
      "  15.0   18.0    0.098  0.001  0.0633  0.1326   True\n",
      "  15.0   19.0   -0.002    0.9   -0.03  0.0261  False\n",
      "  15.0   20.0   0.0834  0.001  0.0558   0.111   True\n",
      "  15.0   88.0  -0.0128    0.9 -0.0398  0.0142  False\n",
      "  15.0   99.0  -0.0832  0.001 -0.1033 -0.0632   True\n",
      "  16.0   17.0  -0.1051  0.002 -0.1906 -0.0196   True\n",
      "  16.0   18.0   0.0396 0.0034  0.0065  0.0728   True\n",
      "  16.0   19.0  -0.0603  0.001 -0.0864 -0.0342   True\n",
      "  16.0   20.0   0.0251 0.0659 -0.0006  0.0507  False\n",
      "  16.0   88.0  -0.0711  0.001 -0.0961 -0.0461   True\n",
      "  16.0   99.0  -0.1416  0.001 -0.1589 -0.1243   True\n",
      "  17.0   18.0   0.1447  0.001  0.0555  0.2339   True\n",
      "  17.0   19.0   0.0448    0.9 -0.0421  0.1317  False\n",
      "  17.0   20.0   0.1302  0.001  0.0434  0.2169   True\n",
      "  17.0   88.0   0.0339    0.9 -0.0526  0.1205  False\n",
      "  17.0   99.0  -0.0365    0.9 -0.1211  0.0481  False\n",
      "  18.0   19.0  -0.0999  0.001 -0.1364 -0.0635   True\n",
      "  18.0   20.0  -0.0145    0.9 -0.0507  0.0216  False\n",
      "  18.0   88.0  -0.1108  0.001 -0.1464 -0.0751   True\n",
      "  18.0   99.0  -0.1812  0.001  -0.212 -0.1504   True\n",
      "  19.0   20.0   0.0854  0.001  0.0556  0.1152   True\n",
      "  19.0   88.0  -0.0108    0.9 -0.0401  0.0184  False\n",
      "  19.0   99.0  -0.0813  0.001 -0.1043 -0.0583   True\n",
      "  20.0   88.0  -0.0962  0.001 -0.1251 -0.0674   True\n",
      "  20.0   99.0  -0.1667  0.001 -0.1891 -0.1442   True\n",
      "  88.0   99.0  -0.0704  0.001 -0.0922 -0.0487   True\n",
      "----------------------------------------------------\n"
     ]
    }
   ],
   "source": [
    "# Influencia del tipo de movimiento del vehiculo\n",
    "x = data[\"MOVEMENT_CODE\"]\n",
    "y = data[\"INJ_SEVER_CODE\"]\n",
    "\n",
    "mcDate = multi.MultiComparison(y,x)\n",
    "Results = mcDate.tukeyhsd()\n",
    "print(\"Influencia del tipo de movimiento del vehiculo\")\n",
    "print(Results)"
   ]
  },
  {
   "cell_type": "code",
   "execution_count": 72,
   "metadata": {
    "id": "dd97372e-39a3-4279-8dc2-97e2c4494172"
   },
   "outputs": [
    {
     "name": "stdout",
     "output_type": "stream",
     "text": [
      "Influencia de tener presencia de comercios\n",
      "Multiple Comparison of Means - Tukey HSD, FWER=0.05\n",
      "===================================================\n",
      "group1 group2 meandiff p-adj  lower   upper  reject\n",
      "---------------------------------------------------\n",
      "     0      1  -0.0999 0.001 -0.1032 -0.0965   True\n",
      "     0      2     0.65 0.001  0.6435  0.6566   True\n",
      "     1      2   0.7499 0.001  0.7427  0.7571   True\n",
      "---------------------------------------------------\n"
     ]
    }
   ],
   "source": [
    "# Influencia de tener presencia de comercios\n",
    "x = data[\"COMMERCIAL_FLAG\"]\n",
    "y = data[\"INJ_SEVER_CODE\"]\n",
    "\n",
    "mcDate = multi.MultiComparison(y,x)\n",
    "Results = mcDate.tukeyhsd()\n",
    "print(\"Influencia de tener presencia de comercios\")\n",
    "print(Results)"
   ]
  },
  {
   "cell_type": "code",
   "execution_count": 73,
   "metadata": {
    "id": "ba15b97e-4dbf-49c6-a1f2-f6882415cce9"
   },
   "outputs": [
    {
     "name": "stdout",
     "output_type": "stream",
     "text": [
      "Influencia del tipo de vehiculo\n",
      "Multiple Comparison of Means - Tukey HSD, FWER=0.05 \n",
      "====================================================\n",
      "group1 group2 meandiff p-adj   lower   upper  reject\n",
      "----------------------------------------------------\n",
      "   0.0    1.0   0.5479  0.001  0.5077  0.5881   True\n",
      "   0.0    2.0  -0.0236  0.741 -0.0589  0.0117  False\n",
      "   0.0    3.0  -0.0343 0.3042 -0.0755  0.0069  False\n",
      "   0.0    4.0  -0.0884  0.553 -0.2075  0.0306  False\n",
      "   0.0    5.0  -0.1377  0.001  -0.176 -0.0994   True\n",
      "   0.0    6.0  -0.1553  0.001 -0.1947  -0.116   True\n",
      "   0.0    7.0   -0.174  0.001 -0.2127 -0.1353   True\n",
      "   0.0    8.0  -0.0518 0.0021 -0.0945  -0.009   True\n",
      "   0.0    9.0  -0.1217 0.0077 -0.2293 -0.0141   True\n",
      "   0.0   10.0   0.0439  0.004  0.0064  0.0814   True\n",
      "   0.0   11.0  -0.1795  0.001 -0.2546 -0.1045   True\n",
      "   0.0   12.0  -0.2085  0.001 -0.2445 -0.1724   True\n",
      "   0.0   13.0  -0.1328  0.001 -0.1774 -0.0883   True\n",
      "   0.0   14.0  -0.1848  0.001 -0.2401 -0.1296   True\n",
      "   0.0   15.0  -0.1968  0.001  -0.243 -0.1505   True\n",
      "   0.0   16.0  -0.1984  0.001 -0.2598  -0.137   True\n",
      "   0.0   17.0  -0.0836  0.001 -0.1232 -0.0439   True\n",
      "   0.0   18.0  -0.1371  0.001 -0.1764 -0.0978   True\n",
      "   0.0   19.0   0.4893  0.001  0.4237  0.5548   True\n",
      "   0.0   20.0   -0.091  0.001 -0.1267 -0.0553   True\n",
      "   0.0   21.0  -0.0595  0.001 -0.0956 -0.0235   True\n",
      "   0.0   22.0  -0.1221  0.001 -0.1605 -0.0837   True\n",
      "   0.0   23.0  -0.0394 0.0105 -0.0749 -0.0039   True\n",
      "   0.0   24.0  -0.0824 0.0017 -0.1498 -0.0151   True\n",
      "   0.0   25.0  -0.1222  0.001 -0.1652 -0.0792   True\n",
      "   0.0   26.0   0.0663 0.0056  0.0087  0.1239   True\n",
      "   0.0   27.0  -0.0142    0.9 -0.0733  0.0449  False\n",
      "   0.0   28.0   0.0134    0.9 -0.0714  0.0982  False\n",
      "   0.0   88.0  -0.0589  0.001 -0.0965 -0.0213   True\n",
      "   0.0   99.0  -0.2101  0.001 -0.2486 -0.1716   True\n",
      "   1.0    2.0  -0.5715  0.001 -0.5909 -0.5521   True\n",
      "   1.0    3.0  -0.5822  0.001  -0.611 -0.5533   True\n",
      "   1.0    4.0  -0.6363  0.001 -0.7517  -0.521   True\n",
      "   1.0    5.0  -0.6856  0.001 -0.7101 -0.6611   True\n",
      "   1.0    6.0  -0.7032  0.001 -0.7293 -0.6771   True\n",
      "   1.0    7.0  -0.7219  0.001 -0.7469 -0.6968   True\n",
      "   1.0    8.0  -0.5997  0.001 -0.6307 -0.5686   True\n",
      "   1.0    9.0  -0.6696  0.001 -0.7731 -0.5661   True\n",
      "   1.0   10.0   -0.504  0.001 -0.5272 -0.4808   True\n",
      "   1.0   11.0  -0.7274  0.001 -0.7965 -0.6584   True\n",
      "   1.0   12.0  -0.7564  0.001 -0.7772 -0.7356   True\n",
      "   1.0   13.0  -0.6807  0.001 -0.7142 -0.6473   True\n",
      "   1.0   14.0  -0.7327  0.001 -0.7795  -0.686   True\n",
      "   1.0   15.0  -0.7446  0.001 -0.7803  -0.709   True\n",
      "   1.0   16.0  -0.7463  0.001 -0.8001 -0.6924   True\n",
      "   1.0   17.0  -0.6315  0.001  -0.658 -0.6049   True\n",
      "   1.0   18.0   -0.685  0.001  -0.711 -0.6589   True\n",
      "   1.0   19.0  -0.0586 0.0496 -0.1172    -0.0   True\n",
      "   1.0   20.0  -0.6389  0.001 -0.6591 -0.6186   True\n",
      "   1.0   21.0  -0.6074  0.001 -0.6282 -0.5867   True\n",
      "   1.0   22.0    -0.67  0.001 -0.6946 -0.6454   True\n",
      "   1.0   23.0  -0.5873  0.001 -0.6071 -0.5675   True\n",
      "   1.0   24.0  -0.6303  0.001 -0.6909 -0.5697   True\n",
      "   1.0   25.0  -0.6701  0.001 -0.7015 -0.6388   True\n",
      "   1.0   26.0  -0.4816  0.001 -0.5311 -0.4321   True\n",
      "   1.0   27.0  -0.5621  0.001 -0.6133 -0.5109   True\n",
      "   1.0   28.0  -0.5345  0.001 -0.6141 -0.4549   True\n",
      "   1.0   88.0  -0.6068  0.001 -0.6302 -0.5835   True\n",
      "   1.0   99.0   -0.758  0.001 -0.7828 -0.7332   True\n",
      "   2.0    3.0  -0.0107    0.9 -0.0321  0.0108  False\n",
      "   2.0    4.0  -0.0648    0.9 -0.1786  0.0489  False\n",
      "   2.0    5.0  -0.1141  0.001 -0.1293 -0.0989   True\n",
      "   2.0    6.0  -0.1317  0.001 -0.1493 -0.1141   True\n",
      "   2.0    7.0  -0.1504  0.001 -0.1664 -0.1343   True\n",
      "   2.0    8.0  -0.0282  0.005 -0.0525 -0.0038   True\n",
      "   2.0    9.0  -0.0981 0.0784 -0.1998  0.0036  False\n",
      "   2.0   10.0   0.0675  0.001  0.0546  0.0805   True\n",
      "   2.0   11.0  -0.1559  0.001 -0.2222 -0.0896   True\n",
      "   2.0   12.0  -0.1849  0.001 -0.1927  -0.177   True\n",
      "   2.0   13.0  -0.1092  0.001 -0.1366 -0.0819   True\n",
      "   2.0   14.0  -0.1612  0.001 -0.2038 -0.1186   True\n",
      "   2.0   15.0  -0.1731  0.001 -0.2032 -0.1431   True\n",
      "   2.0   16.0  -0.1748  0.001 -0.2251 -0.1245   True\n",
      "   2.0   17.0    -0.06  0.001 -0.0783 -0.0417   True\n",
      "   2.0   18.0  -0.1134  0.001  -0.131 -0.0959   True\n",
      "   2.0   19.0   0.5129  0.001  0.4576  0.5682   True\n",
      "   2.0   20.0  -0.0674  0.001 -0.0736 -0.0612   True\n",
      "   2.0   21.0  -0.0359  0.001 -0.0436 -0.0283   True\n",
      "   2.0   22.0  -0.0985  0.001 -0.1138 -0.0832   True\n",
      "   2.0   23.0  -0.0158  0.001 -0.0204 -0.0112   True\n",
      "   2.0   24.0  -0.0588 0.0367 -0.1163 -0.0014   True\n",
      "   2.0   25.0  -0.0986  0.001 -0.1233 -0.0739   True\n",
      "   2.0   26.0   0.0899  0.001  0.0443  0.1356   True\n",
      "   2.0   27.0   0.0094    0.9  -0.038  0.0569  False\n",
      "   2.0   28.0    0.037    0.9 -0.0402  0.1142  False\n",
      "   2.0   88.0  -0.0353  0.001 -0.0486 -0.0221   True\n",
      "   2.0   99.0  -0.1865  0.001 -0.2021 -0.1709   True\n",
      "   3.0    4.0  -0.0542    0.9 -0.1699  0.0615  False\n",
      "   3.0    5.0  -0.1034  0.001 -0.1296 -0.0773   True\n",
      "   3.0    6.0  -0.1211  0.001 -0.1487 -0.0934   True\n",
      "   3.0    7.0  -0.1397  0.001 -0.1664  -0.113   True\n",
      "   3.0    8.0  -0.0175    0.9 -0.0498  0.0148  False\n",
      "   3.0    9.0  -0.0874 0.2794 -0.1913  0.0165  False\n",
      "   3.0   10.0   0.0782  0.001  0.0533  0.1031   True\n",
      "   3.0   11.0  -0.1453  0.001 -0.2149 -0.0756   True\n",
      "   3.0   12.0  -0.1742  0.001 -0.1969 -0.1515   True\n",
      "   3.0   13.0  -0.0986  0.001 -0.1333 -0.0639   True\n",
      "   3.0   14.0  -0.1506  0.001 -0.1982 -0.1029   True\n",
      "   3.0   15.0  -0.1625  0.001 -0.1993 -0.1257   True\n",
      "   3.0   16.0  -0.1641  0.001 -0.2187 -0.1095   True\n",
      "   3.0   17.0  -0.0493  0.001 -0.0774 -0.0213   True\n",
      "   3.0   18.0  -0.1028  0.001 -0.1304 -0.0752   True\n",
      "   3.0   19.0   0.5236  0.001  0.4643  0.5828   True\n",
      "   3.0   20.0  -0.0567  0.001 -0.0789 -0.0345   True\n",
      "   3.0   21.0  -0.0253 0.0097 -0.0479 -0.0026   True\n",
      "   3.0   22.0  -0.0879  0.001 -0.1141 -0.0616   True\n",
      "   3.0   23.0  -0.0052    0.9 -0.0269  0.0166  False\n",
      "   3.0   24.0  -0.0482 0.4372 -0.1095  0.0131  False\n",
      "   3.0   25.0   -0.088  0.001 -0.1206 -0.0553   True\n",
      "   3.0   26.0   0.1006  0.001  0.0502  0.1509   True\n",
      "   3.0   27.0   0.0201    0.9 -0.0319  0.0721  False\n",
      "   3.0   28.0   0.0477    0.9 -0.0324  0.1277  False\n",
      "   3.0   88.0  -0.0247 0.0615 -0.0497  0.0004  False\n",
      "   3.0   99.0  -0.1758  0.001 -0.2022 -0.1495   True\n",
      "   4.0    5.0  -0.0493    0.9  -0.164  0.0655  False\n",
      "   4.0    6.0  -0.0669    0.9  -0.182  0.0482  False\n",
      "   4.0    7.0  -0.0855 0.5479 -0.2004  0.0293  False\n",
      "   4.0    8.0   0.0367    0.9 -0.0796   0.153  False\n",
      "   4.0    9.0  -0.0333    0.9 -0.1858  0.1193  False\n",
      "   4.0   10.0   0.1324 0.0051  0.0179  0.2468   True\n",
      "   4.0   11.0  -0.0911 0.6826 -0.2227  0.0405  False\n",
      "   4.0   12.0    -0.12 0.0245  -0.234  -0.006   True\n",
      "   4.0   13.0  -0.0444    0.9 -0.1614  0.0726  False\n",
      "   4.0   14.0  -0.0964  0.414 -0.2178  0.0251  False\n",
      "   4.0   15.0  -0.1083 0.1273 -0.2259  0.0093  False\n",
      "   4.0   16.0  -0.1099 0.1879 -0.2343  0.0144  False\n",
      "   4.0   17.0   0.0048    0.9 -0.1103    0.12  False\n",
      "   4.0   18.0  -0.0486    0.9 -0.1637  0.0664  False\n",
      "   4.0   19.0   0.5777  0.001  0.4513  0.7042   True\n",
      "   4.0   20.0  -0.0025    0.9 -0.1164  0.1113  False\n",
      "   4.0   21.0   0.0289    0.9 -0.0851  0.1429  False\n",
      "   4.0   22.0  -0.0337    0.9 -0.1484  0.0811  False\n",
      "   4.0   23.0    0.049    0.9 -0.0648  0.1628  False\n",
      "   4.0   24.0    0.006    0.9 -0.1214  0.1334  False\n",
      "   4.0   25.0  -0.0338    0.9 -0.1502  0.0826  False\n",
      "   4.0   26.0   0.1548  0.001  0.0322  0.2773   True\n",
      "   4.0   27.0   0.0742    0.9  -0.049  0.1975  False\n",
      "   4.0   28.0   0.1018 0.5578 -0.0356  0.2393  False\n",
      "   4.0   88.0   0.0295    0.9  -0.085   0.144  False\n",
      "   4.0   99.0  -0.1217 0.0222 -0.2365 -0.0069   True\n",
      "   5.0    6.0  -0.0176 0.5034 -0.0408  0.0055  False\n",
      "   5.0    7.0  -0.0363  0.001 -0.0582 -0.0143   True\n",
      "   5.0    8.0   0.0859  0.001  0.0574  0.1145   True\n",
      "   5.0    9.0    0.016    0.9 -0.0868  0.1188  False\n",
      "   5.0   10.0   0.1816  0.001  0.1618  0.2014   True\n",
      "   5.0   11.0  -0.0418 0.8787 -0.1098  0.0261  False\n",
      "   5.0   12.0  -0.0708  0.001 -0.0877 -0.0538   True\n",
      "   5.0   13.0   0.0049    0.9 -0.0264  0.0361  False\n",
      "   5.0   14.0  -0.0471 0.0282 -0.0923 -0.0019   True\n",
      "   5.0   15.0   -0.059  0.001 -0.0926 -0.0255   True\n",
      "   5.0   16.0  -0.0607 0.0052 -0.1132 -0.0082   True\n",
      "   5.0   17.0   0.0541  0.001  0.0305  0.0778   True\n",
      "   5.0   18.0   0.0007    0.9 -0.0224  0.0237  False\n",
      "   5.0   19.0    0.627  0.001  0.5697  0.6843   True\n",
      "   5.0   20.0   0.0467  0.001  0.0305   0.063   True\n",
      "   5.0   21.0   0.0782  0.001  0.0613   0.095   True\n",
      "   5.0   22.0   0.0156 0.5925 -0.0058   0.037  False\n",
      "   5.0   23.0   0.0983  0.001  0.0826   0.114   True\n",
      "   5.0   24.0   0.0553 0.1161 -0.0041  0.1147  False\n",
      "   5.0   25.0   0.0155    0.9 -0.0134  0.0444  False\n",
      "   5.0   26.0    0.204  0.001   0.156  0.2521   True\n",
      "   5.0   27.0   0.1235  0.001  0.0738  0.1733   True\n",
      "   5.0   28.0   0.1511  0.001  0.0725  0.2297   True\n",
      "   5.0   88.0   0.0788  0.001  0.0588  0.0988   True\n",
      "   5.0   99.0  -0.0724  0.001  -0.094 -0.0508   True\n",
      "   6.0    7.0  -0.0186 0.4362 -0.0423  0.0051  False\n",
      "   6.0    8.0   0.1036  0.001  0.0737  0.1335   True\n",
      "   6.0    9.0   0.0336    0.9 -0.0695  0.1368  False\n",
      "   6.0   10.0   0.1993  0.001  0.1776   0.221   True\n",
      "   6.0   11.0  -0.0242    0.9 -0.0928  0.0444  False\n",
      "   6.0   12.0  -0.0531  0.001 -0.0722  -0.034   True\n",
      "   6.0   13.0   0.0225 0.6797   -0.01   0.055  False\n",
      "   6.0   14.0  -0.0295 0.8144 -0.0755  0.0166  False\n",
      "   6.0   15.0  -0.0414 0.0028 -0.0761 -0.0067   True\n",
      "   6.0   16.0   -0.043 0.3699 -0.0963  0.0102  False\n",
      "   6.0   17.0   0.0717  0.001  0.0465   0.097   True\n",
      "   6.0   18.0   0.0183 0.5591 -0.0064   0.043  False\n",
      "   6.0   19.0   0.6446  0.001  0.5866  0.7026   True\n",
      "   6.0   20.0   0.0644  0.001  0.0458  0.0829   True\n",
      "   6.0   21.0   0.0958  0.001  0.0768  0.1149   True\n",
      "   6.0   22.0   0.0332  0.001    0.01  0.0564   True\n",
      "   6.0   23.0   0.1159  0.001  0.0979  0.1339   True\n",
      "   6.0   24.0   0.0729  0.002  0.0128   0.133   True\n",
      "   6.0   25.0   0.0331 0.0134  0.0029  0.0634   True\n",
      "   6.0   26.0   0.2217  0.001  0.1728  0.2705   True\n",
      "   6.0   27.0   0.1411  0.001  0.0906  0.1917   True\n",
      "   6.0   28.0   0.1687  0.001  0.0896  0.2479   True\n",
      "   6.0   88.0   0.0964  0.001  0.0745  0.1183   True\n",
      "   6.0   99.0  -0.0548  0.001 -0.0781 -0.0314   True\n",
      "   7.0    8.0   0.1222  0.001  0.0932  0.1513   True\n",
      "   7.0    9.0   0.0523    0.9 -0.0506  0.1552  False\n",
      "   7.0   10.0   0.2179  0.001  0.1974  0.2384   True\n",
      "   7.0   11.0  -0.0056    0.9 -0.0737  0.0626  False\n",
      "   7.0   12.0  -0.0345  0.001 -0.0522 -0.0168   True\n",
      "   7.0   13.0   0.0411  0.001  0.0095  0.0728   True\n",
      "   7.0   14.0  -0.0109    0.9 -0.0563  0.0346  False\n",
      "   7.0   15.0  -0.0228  0.737 -0.0567  0.0112  False\n",
      "   7.0   16.0  -0.0244    0.9 -0.0771  0.0284  False\n",
      "   7.0   17.0   0.0904  0.001  0.0662  0.1146   True\n",
      "   7.0   18.0   0.0369  0.001  0.0133  0.0605   True\n",
      "   7.0   19.0   0.6633  0.001  0.6057  0.7208   True\n",
      "   7.0   20.0    0.083  0.001  0.0659     0.1   True\n",
      "   7.0   21.0   0.1144  0.001  0.0968  0.1321   True\n",
      "   7.0   22.0   0.0519  0.001  0.0298  0.0739   True\n",
      "   7.0   23.0   0.1346  0.001   0.118  0.1511   True\n",
      "   7.0   24.0   0.0915  0.001  0.0319  0.1512   True\n",
      "   7.0   25.0   0.0518  0.001  0.0224  0.0811   True\n",
      "   7.0   26.0   0.2403  0.001   0.192  0.2886   True\n",
      "   7.0   27.0   0.1598  0.001  0.1098  0.2098   True\n",
      "   7.0   28.0   0.1874  0.001  0.1086  0.2662   True\n",
      "   7.0   88.0    0.115  0.001  0.0944  0.1357   True\n",
      "   7.0   99.0  -0.0361  0.001 -0.0584 -0.0139   True\n",
      "   8.0    9.0  -0.0699 0.7412 -0.1745  0.0346  False\n",
      "   8.0   10.0   0.0957  0.001  0.0682  0.1231   True\n",
      "   8.0   11.0  -0.1278  0.001 -0.1984 -0.0572   True\n",
      "   8.0   12.0  -0.1567  0.001 -0.1821 -0.1313   True\n",
      "   8.0   13.0  -0.0811  0.001 -0.1176 -0.0445   True\n",
      "   8.0   14.0  -0.1331  0.001 -0.1821 -0.0841   True\n",
      "   8.0   15.0   -0.145  0.001 -0.1835 -0.1064   True\n",
      "   8.0   16.0  -0.1466  0.001 -0.2024 -0.0908   True\n",
      "   8.0   17.0  -0.0318 0.0256 -0.0622 -0.0015   True\n",
      "   8.0   18.0  -0.0853  0.001 -0.1152 -0.0554   True\n",
      "   8.0   19.0   0.5411  0.001  0.4807  0.6014   True\n",
      "   8.0   20.0  -0.0392  0.001 -0.0642 -0.0142   True\n",
      "   8.0   21.0  -0.0078    0.9 -0.0332  0.0176  False\n",
      "   8.0   22.0  -0.0704  0.001  -0.099 -0.0417   True\n",
      "   8.0   23.0   0.0123    0.9 -0.0123   0.037  False\n",
      "   8.0   24.0  -0.0307    0.9  -0.093  0.0317  False\n",
      "   8.0   25.0  -0.0705  0.001 -0.1051 -0.0359   True\n",
      "   8.0   26.0   0.1181  0.001  0.0664  0.1697   True\n",
      "   8.0   27.0   0.0376 0.6486 -0.0157  0.0908  False\n",
      "   8.0   28.0   0.0652 0.3783 -0.0157  0.1461  False\n",
      "   8.0   88.0  -0.0072    0.9 -0.0348  0.0204  False\n",
      "   8.0   99.0  -0.1584  0.001 -0.1871 -0.1296   True\n",
      "   9.0   10.0   0.1656  0.001  0.0631  0.2681   True\n",
      "   9.0   11.0  -0.0578    0.9 -0.1792  0.0635  False\n",
      "   9.0   12.0  -0.0868 0.2568 -0.1887  0.0152  False\n",
      "   9.0   13.0  -0.0111    0.9 -0.1164  0.0941  False\n",
      "   9.0   14.0  -0.0631    0.9 -0.1734  0.0471  False\n",
      "   9.0   15.0   -0.075 0.6417  -0.181  0.0309  False\n",
      "   9.0   16.0  -0.0767 0.7238 -0.1901  0.0368  False\n",
      "   9.0   17.0   0.0381    0.9 -0.0652  0.1414  False\n",
      "   9.0   18.0  -0.0154    0.9 -0.1185  0.0878  False\n",
      "   9.0   19.0    0.611  0.001  0.4953  0.7267   True\n",
      "   9.0   20.0   0.0307    0.9 -0.0711  0.1326  False\n",
      "   9.0   21.0   0.0622 0.8929 -0.0398  0.1641  False\n",
      "   9.0   22.0  -0.0004    0.9 -0.1032  0.1024  False\n",
      "   9.0   23.0   0.0823 0.3685 -0.0195   0.184  False\n",
      "   9.0   24.0   0.0393    0.9 -0.0775   0.156  False\n",
      "   9.0   25.0  -0.0005    0.9 -0.1051  0.1041  False\n",
      "   9.0   26.0    0.188  0.001  0.0766  0.2994   True\n",
      "   9.0   27.0   0.1075 0.0845 -0.0047  0.2197  False\n",
      "   9.0   28.0   0.1351 0.0228  0.0075  0.2627   True\n",
      "   9.0   88.0   0.0628 0.8866 -0.0397  0.1653  False\n",
      "   9.0   99.0  -0.0884 0.2375 -0.1912  0.0144  False\n",
      "  10.0   11.0  -0.2235  0.001  -0.291  -0.156   True\n",
      "  10.0   12.0  -0.2524  0.001 -0.2673 -0.2375   True\n",
      "  10.0   13.0  -0.1768  0.001 -0.2069 -0.1466   True\n",
      "  10.0   14.0  -0.2288  0.001 -0.2732 -0.1843   True\n",
      "  10.0   15.0  -0.2407  0.001 -0.2733 -0.2081   True\n",
      "  10.0   16.0  -0.2423  0.001 -0.2942 -0.1904   True\n",
      "  10.0   17.0  -0.1275  0.001 -0.1498 -0.1053   True\n",
      "  10.0   18.0   -0.181  0.001 -0.2026 -0.1593   True\n",
      "  10.0   19.0   0.4454  0.001  0.3886  0.5021   True\n",
      "  10.0   20.0  -0.1349  0.001 -0.1491 -0.1208   True\n",
      "  10.0   21.0  -0.1035  0.001 -0.1183 -0.0886   True\n",
      "  10.0   22.0   -0.166  0.001 -0.1859 -0.1461   True\n",
      "  10.0   23.0  -0.0833  0.001 -0.0968 -0.0698   True\n",
      "  10.0   24.0  -0.1264  0.001 -0.1852 -0.0675   True\n",
      "  10.0   25.0  -0.1661  0.001 -0.1939 -0.1383   True\n",
      "  10.0   26.0   0.0224    0.9  -0.025  0.0698  False\n",
      "  10.0   27.0  -0.0581 0.0033 -0.1072  -0.009   True\n",
      "  10.0   28.0  -0.0305    0.9 -0.1088  0.0477  False\n",
      "  10.0   88.0  -0.1029  0.001 -0.1212 -0.0845   True\n",
      "  10.0   99.0   -0.254  0.001 -0.2741 -0.2339   True\n",
      "  11.0   12.0  -0.0289    0.9 -0.0956  0.0378  False\n",
      "  11.0   13.0   0.0467 0.7864  -0.025  0.1184  False\n",
      "  11.0   14.0  -0.0053    0.9 -0.0841  0.0735  False\n",
      "  11.0   15.0  -0.0172    0.9 -0.0899  0.0555  False\n",
      "  11.0   16.0  -0.0188    0.9  -0.102  0.0644  False\n",
      "  11.0   17.0    0.096  0.001  0.0272  0.1647   True\n",
      "  11.0   18.0   0.0425 0.8668  -0.026   0.111  False\n",
      "  11.0   19.0   0.6688  0.001  0.5825  0.7551   True\n",
      "  11.0   20.0   0.0886  0.001   0.022  0.1551   True\n",
      "  11.0   21.0     0.12  0.001  0.0533  0.1867   True\n",
      "  11.0   22.0   0.0574 0.2724 -0.0106  0.1254  False\n",
      "  11.0   23.0   0.1401  0.001  0.0737  0.2065   True\n",
      "  11.0   24.0   0.0971 0.0111  0.0094  0.1848   True\n",
      "  11.0   25.0   0.0573 0.3622 -0.0134   0.128  False\n",
      "  11.0   26.0   0.2459  0.001  0.1654  0.3263   True\n",
      "  11.0   27.0   0.1654  0.001  0.0839  0.2468   True\n",
      "  11.0   28.0   0.1929  0.001  0.0912  0.2947   True\n",
      "  11.0   88.0   0.1206  0.001   0.053  0.1882   True\n",
      "  11.0   99.0  -0.0306    0.9 -0.0986  0.0375  False\n",
      "  12.0   13.0   0.0756  0.001  0.0473   0.104   True\n",
      "  12.0   14.0   0.0236    0.9 -0.0196  0.0669  False\n",
      "  12.0   15.0   0.0117    0.9 -0.0192  0.0427  False\n",
      "  12.0   16.0   0.0101    0.9 -0.0408   0.061  False\n",
      "  12.0   17.0   0.1249  0.001  0.1051  0.1446   True\n",
      "  12.0   18.0   0.0714  0.001  0.0524  0.0904   True\n",
      "  12.0   19.0   0.6978  0.001   0.642  0.7536   True\n",
      "  12.0   20.0   0.1175  0.001  0.1078  0.1272   True\n",
      "  12.0   21.0   0.1489  0.001  0.1382  0.1596   True\n",
      "  12.0   22.0   0.0864  0.001  0.0693  0.1034   True\n",
      "  12.0   23.0    0.169  0.001  0.1603  0.1778   True\n",
      "  12.0   24.0    0.126  0.001  0.0681   0.184   True\n",
      "  12.0   25.0   0.0863  0.001  0.0604  0.1121   True\n",
      "  12.0   26.0   0.2748  0.001  0.2285   0.321   True\n",
      "  12.0   27.0   0.1943  0.001  0.1463  0.2423   True\n",
      "  12.0   28.0   0.2219  0.001  0.1443  0.2994   True\n",
      "  12.0   88.0   0.1495  0.001  0.1344  0.1647   True\n",
      "  12.0   99.0  -0.0016    0.9 -0.0189  0.0156  False\n",
      "  13.0   14.0   -0.052 0.0349 -0.1026 -0.0014   True\n",
      "  13.0   15.0  -0.0639  0.001 -0.1045 -0.0234   True\n",
      "  13.0   16.0  -0.0655 0.0062 -0.1228 -0.0083   True\n",
      "  13.0   17.0   0.0492  0.001  0.0164  0.0821   True\n",
      "  13.0   18.0  -0.0042    0.9 -0.0366  0.0282  False\n",
      "  13.0   19.0   0.6221  0.001  0.5605  0.6838   True\n",
      "  13.0   20.0   0.0419  0.001  0.0139  0.0698   True\n",
      "  13.0   21.0   0.0733  0.001   0.045  0.1016   True\n",
      "  13.0   22.0   0.0107    0.9 -0.0206   0.042  False\n",
      "  13.0   23.0   0.0934  0.001  0.0658  0.1211   True\n",
      "  13.0   24.0   0.0504 0.4184 -0.0132   0.114  False\n",
      "  13.0   25.0   0.0106    0.9 -0.0262  0.0474  False\n",
      "  13.0   26.0   0.1992  0.001   0.146  0.2523   True\n",
      "  13.0   27.0   0.1186  0.001  0.0639  0.1734   True\n",
      "  13.0   28.0   0.1462  0.001  0.0644  0.2281   True\n",
      "  13.0   88.0   0.0739  0.001  0.0436  0.1042   True\n",
      "  13.0   99.0  -0.0773  0.001 -0.1087 -0.0459   True\n",
      "  14.0   15.0  -0.0119    0.9  -0.064  0.0401  False\n",
      "  14.0   16.0  -0.0135    0.9 -0.0794  0.0524  False\n",
      "  14.0   17.0   0.1012  0.001  0.0549  0.1475   True\n",
      "  14.0   18.0   0.0478   0.03  0.0018  0.0938   True\n",
      "  14.0   19.0   0.6741  0.001  0.6044  0.7439   True\n",
      "  14.0   20.0   0.0938  0.001  0.0508  0.1368   True\n",
      "  14.0   21.0   0.1253  0.001  0.0821  0.1685   True\n",
      "  14.0   22.0   0.0627  0.001  0.0175  0.1079   True\n",
      "  14.0   23.0   0.1454  0.001  0.1026  0.1882   True\n",
      "  14.0   24.0   0.1024  0.001  0.0309  0.1739   True\n",
      "  14.0   25.0   0.0626  0.001  0.0134  0.1118   True\n",
      "  14.0   26.0   0.2511  0.001  0.1888  0.3135   True\n",
      "  14.0   27.0   0.1706  0.001  0.1069  0.2344   True\n",
      "  14.0   28.0   0.1982  0.001  0.1101  0.2864   True\n",
      "  14.0   88.0   0.1259  0.001  0.0813  0.1704   True\n",
      "  14.0   99.0  -0.0253    0.9 -0.0706    0.02  False\n",
      "  15.0   16.0  -0.0016    0.9 -0.0602  0.0569  False\n",
      "  15.0   17.0   0.1132  0.001  0.0781  0.1482   True\n",
      "  15.0   18.0   0.0597  0.001   0.025  0.0944   True\n",
      "  15.0   19.0    0.686  0.001  0.6232  0.7489   True\n",
      "  15.0   20.0   0.1058  0.001  0.0752  0.1363   True\n",
      "  15.0   21.0   0.1372  0.001  0.1063  0.1681   True\n",
      "  15.0   22.0   0.0746  0.001   0.041  0.1082   True\n",
      "  15.0   23.0   0.1573  0.001  0.1271  0.1876   True\n",
      "  15.0   24.0   0.1143  0.001  0.0495  0.1791   True\n",
      "  15.0   25.0   0.0745  0.001  0.0357  0.1133   True\n",
      "  15.0   26.0   0.2631  0.001  0.2085  0.3176   True\n",
      "  15.0   27.0   0.1826  0.001  0.1265  0.2386   True\n",
      "  15.0   28.0   0.2101  0.001  0.1274  0.2929   True\n",
      "  15.0   88.0   0.1378  0.001  0.1051  0.1705   True\n",
      "  15.0   99.0  -0.0134    0.9 -0.0471  0.0204  False\n",
      "  16.0   17.0   0.1148  0.001  0.0613  0.1682   True\n",
      "  16.0   18.0   0.0613 0.0055  0.0081  0.1145   True\n",
      "  16.0   19.0   0.6877  0.001  0.6129  0.7624   True\n",
      "  16.0   20.0   0.1074  0.001  0.0567   0.158   True\n",
      "  16.0   21.0   0.1388  0.001   0.088  0.1897   True\n",
      "  16.0   22.0   0.0763  0.001  0.0237  0.1288   True\n",
      "  16.0   23.0   0.1589  0.001  0.1085  0.2094   True\n",
      "  16.0   24.0   0.1159  0.001  0.0396  0.1923   True\n",
      "  16.0   25.0   0.0762  0.001  0.0201  0.1322   True\n",
      "  16.0   26.0   0.2647  0.001  0.1968  0.3326   True\n",
      "  16.0   27.0   0.1842  0.001  0.1151  0.2533   True\n",
      "  16.0   28.0   0.2118  0.001  0.1197  0.3039   True\n",
      "  16.0   88.0   0.1394  0.001  0.0875  0.1914   True\n",
      "  16.0   99.0  -0.0117    0.9 -0.0644  0.0409  False\n",
      "  17.0   18.0  -0.0535  0.001 -0.0786 -0.0283   True\n",
      "  17.0   19.0   0.5729  0.001  0.5147  0.6311   True\n",
      "  17.0   20.0  -0.0074    0.9 -0.0265  0.0118  False\n",
      "  17.0   21.0   0.0241 0.0017  0.0044  0.0437   True\n",
      "  17.0   22.0  -0.0385  0.001 -0.0622 -0.0148   True\n",
      "  17.0   23.0   0.0442  0.001  0.0255  0.0629   True\n",
      "  17.0   24.0   0.0012    0.9 -0.0591  0.0614  False\n",
      "  17.0   25.0  -0.0386  0.001 -0.0693  -0.008   True\n",
      "  17.0   26.0   0.1499  0.001  0.1008   0.199   True\n",
      "  17.0   27.0   0.0694  0.001  0.0186  0.1202   True\n",
      "  17.0   28.0    0.097 0.0017  0.0177  0.1763   True\n",
      "  17.0   88.0   0.0247 0.0125  0.0022  0.0471   True\n",
      "  17.0   99.0  -0.1265  0.001 -0.1504 -0.1026   True\n",
      "  18.0   19.0   0.6263  0.001  0.5684  0.6843   True\n",
      "  18.0   20.0   0.0461  0.001  0.0277  0.0645   True\n",
      "  18.0   21.0   0.0775  0.001  0.0586  0.0965   True\n",
      "  18.0   22.0   0.0149 0.8004 -0.0082  0.0381  False\n",
      "  18.0   23.0   0.0976  0.001  0.0797  0.1156   True\n",
      "  18.0   24.0   0.0546  0.144 -0.0054  0.1146  False\n",
      "  18.0   25.0   0.0148    0.9 -0.0154   0.045  False\n",
      "  18.0   26.0   0.2034  0.001  0.1546  0.2522   True\n",
      "  18.0   27.0   0.1229  0.001  0.0724  0.1734   True\n",
      "  18.0   28.0   0.1504  0.001  0.0713  0.2296   True\n",
      "  18.0   88.0   0.0781  0.001  0.0563  0.0999   True\n",
      "  18.0   99.0  -0.0731  0.001 -0.0964 -0.0498   True\n",
      "  19.0   20.0  -0.5803  0.001 -0.6359 -0.5247   True\n",
      "  19.0   21.0  -0.5488  0.001 -0.6046  -0.493   True\n",
      "  19.0   22.0  -0.6114  0.001 -0.6687 -0.5541   True\n",
      "  19.0   23.0  -0.5287  0.001 -0.5842 -0.4733   True\n",
      "  19.0   24.0  -0.5717  0.001 -0.6515  -0.492   True\n",
      "  19.0   25.0  -0.6115  0.001  -0.672  -0.551   True\n",
      "  19.0   26.0   -0.423  0.001 -0.4946 -0.3513   True\n",
      "  19.0   27.0  -0.5035  0.001 -0.5763 -0.4307   True\n",
      "  19.0   28.0  -0.4759  0.001 -0.5708  -0.381   True\n",
      "  19.0   88.0  -0.5482  0.001  -0.605 -0.4914   True\n",
      "  19.0   99.0  -0.6994  0.001 -0.7568  -0.642   True\n",
      "  20.0   21.0   0.0315  0.001  0.0219   0.041   True\n",
      "  20.0   22.0  -0.0311  0.001 -0.0475 -0.0148   True\n",
      "  20.0   23.0   0.0516  0.001  0.0442  0.0589   True\n",
      "  20.0   24.0   0.0085    0.9 -0.0492  0.0663  False\n",
      "  20.0   25.0  -0.0312 0.0015 -0.0566 -0.0059   True\n",
      "  20.0   26.0   0.1573  0.001  0.1113  0.2033   True\n",
      "  20.0   27.0   0.0768  0.001   0.029  0.1246   True\n",
      "  20.0   28.0   0.1044  0.001   0.027  0.1818   True\n",
      "  20.0   88.0   0.0321  0.001  0.0176  0.0465   True\n",
      "  20.0   99.0  -0.1191  0.001 -0.1357 -0.1025   True\n",
      "  21.0   22.0  -0.0626  0.001 -0.0795 -0.0456   True\n",
      "  21.0   23.0   0.0201  0.001  0.0115  0.0287   True\n",
      "  21.0   24.0  -0.0229    0.9 -0.0808   0.035  False\n",
      "  21.0   25.0  -0.0627  0.001 -0.0885 -0.0369   True\n",
      "  21.0   26.0   0.1258  0.001  0.0796  0.1721   True\n",
      "  21.0   27.0   0.0453 0.0981 -0.0027  0.0933  False\n",
      "  21.0   28.0   0.0729 0.1031 -0.0046  0.1505  False\n",
      "  21.0   88.0   0.0006    0.9 -0.0145  0.0157  False\n",
      "  21.0   99.0  -0.1506  0.001 -0.1678 -0.1334   True\n",
      "  22.0   23.0   0.0827  0.001  0.0669  0.0985   True\n",
      "  22.0   24.0   0.0397  0.745 -0.0197  0.0991  False\n",
      "  22.0   25.0  -0.0001    0.9 -0.0291  0.0289  False\n",
      "  22.0   26.0   0.1884  0.001  0.1404  0.2365   True\n",
      "  22.0   27.0   0.1079  0.001  0.0581  0.1577   True\n",
      "  22.0   28.0   0.1355  0.001  0.0568  0.2142   True\n",
      "  22.0   88.0   0.0632  0.001  0.0431  0.0833   True\n",
      "  22.0   99.0   -0.088  0.001 -0.1097 -0.0663   True\n",
      "  23.0   24.0   -0.043 0.5427 -0.1006  0.0146  False\n",
      "  23.0   25.0  -0.0828  0.001 -0.1078 -0.0578   True\n",
      "  23.0   26.0   0.1057  0.001  0.0599  0.1515   True\n",
      "  23.0   27.0   0.0252    0.9 -0.0224  0.0728  False\n",
      "  23.0   28.0   0.0528  0.705 -0.0245  0.1301  False\n",
      "  23.0   88.0  -0.0195  0.001 -0.0333 -0.0057   True\n",
      "  23.0   99.0  -0.1707  0.001 -0.1867 -0.1546   True\n",
      "  24.0   25.0  -0.0398 0.8253 -0.1023  0.0227  False\n",
      "  24.0   26.0   0.1488  0.001  0.0754  0.2221   True\n",
      "  24.0   27.0   0.0682  0.134 -0.0062  0.1427  False\n",
      "  24.0   28.0   0.0958 0.0526 -0.0004   0.192  False\n",
      "  24.0   88.0   0.0235    0.9 -0.0354  0.0824  False\n",
      "  24.0   99.0  -0.1277  0.001 -0.1872 -0.0682   True\n",
      "  25.0   26.0   0.1885  0.001  0.1367  0.2404   True\n",
      "  25.0   27.0    0.108  0.001  0.0546  0.1615   True\n",
      "  25.0   28.0   0.1356  0.001  0.0546  0.2166   True\n",
      "  25.0   88.0   0.0633  0.001  0.0353  0.0912   True\n",
      "  25.0   99.0  -0.0879  0.001  -0.117 -0.0588   True\n",
      "  26.0   27.0  -0.0805 0.0017 -0.1463 -0.0147   True\n",
      "  26.0   28.0  -0.0529    0.9 -0.1426  0.0367  False\n",
      "  26.0   88.0  -0.1252  0.001 -0.1727 -0.0778   True\n",
      "  26.0   99.0  -0.2764  0.001 -0.3246 -0.2283   True\n",
      "  27.0   28.0   0.0276    0.9  -0.063  0.1182  False\n",
      "  27.0   88.0  -0.0447 0.1445 -0.0939  0.0044  False\n",
      "  27.0   99.0  -0.1959  0.001 -0.2458  -0.146   True\n",
      "  28.0   88.0  -0.0723  0.125 -0.1506   0.006  False\n",
      "  28.0   99.0  -0.2235  0.001 -0.3022 -0.1448   True\n",
      "  88.0   99.0  -0.1512  0.001 -0.1715 -0.1309   True\n",
      "----------------------------------------------------\n"
     ]
    }
   ],
   "source": [
    "# Influencia del tipo de vehiculo\n",
    "x = data[\"BODY_TYPE_CODE\"]\n",
    "y = data[\"INJ_SEVER_CODE\"]\n",
    "\n",
    "mcDate = multi.MultiComparison(y,x)\n",
    "Results = mcDate.tukeyhsd()\n",
    "print(\"Influencia del tipo de vehiculo\")\n",
    "print(Results)"
   ]
  },
  {
   "cell_type": "code",
   "execution_count": 74,
   "metadata": {
    "id": "096ffe76-d5c0-4960-bed8-5c0f526d25c6"
   },
   "outputs": [
    {
     "name": "stdout",
     "output_type": "stream",
     "text": [
      "Influencia de si el vehiculo era conducido\n",
      "Multiple Comparison of Means - Tukey HSD, FWER=0.05 \n",
      "====================================================\n",
      "group1 group2 meandiff p-adj   lower   upper  reject\n",
      "----------------------------------------------------\n",
      "     0      1  -0.1037  0.001 -0.1121 -0.0953   True\n",
      "     0      2  -0.0242 0.0434 -0.0478 -0.0005   True\n",
      "     0      3   0.6561  0.001  0.6489  0.6633   True\n",
      "     1      2   0.0796  0.001  0.0545  0.1046   True\n",
      "     1      3   0.7598  0.001  0.7488  0.7708   True\n",
      "     2      3   0.6803  0.001  0.6556   0.705   True\n",
      "----------------------------------------------------\n"
     ]
    }
   ],
   "source": [
    "# Influencia de si el vehiculo era conducido\n",
    "x = data[\"DRIVERLESS_FLAG\"]\n",
    "y = data[\"INJ_SEVER_CODE\"]\n",
    "\n",
    "mcDate = multi.MultiComparison(y,x)\n",
    "Results = mcDate.tukeyhsd()\n",
    "print(\"Influencia de si el vehiculo era conducido\")\n",
    "print(Results)"
   ]
  },
  {
   "cell_type": "code",
   "execution_count": 75,
   "metadata": {
    "id": "d186d6e9-c61d-4c79-9652-07567601fe45"
   },
   "outputs": [
    {
     "data": {
      "text/plain": [
       "Index(['LIGHT_CODE', 'JUNCTION_CODE', 'COLLISION_TYPE_CODE', 'SURF_COND_CODE',\n",
       "       'RD_COND_CODE', 'WEATHER_CODE', 'SIGNAL_FLAG', 'SEX_CODE',\n",
       "       'INJ_SEVER_CODE', 'EQUIP_PROB_CODE', 'SAF_EQUIP_CODE', 'DAMAGE_CODE',\n",
       "       'MOVEMENT_CODE', 'COMMERCIAL_FLAG', 'BODY_TYPE_CODE',\n",
       "       'DRIVERLESS_FLAG'],\n",
       "      dtype='object')"
      ]
     },
     "execution_count": 75,
     "metadata": {},
     "output_type": "execute_result"
    }
   ],
   "source": [
    "categoricas.columns"
   ]
  },
  {
   "cell_type": "markdown",
   "metadata": {
    "id": "cd6da504-7e3c-4f7e-af00-b2f0be246ed3"
   },
   "source": [
    "### Analisis: \n",
    "\n",
    "Con todas las variables categoricas analizadas se puede ver como la hipotesis nula se puede rechazar, por lo que con estas variables, es necesario trabajar:\n",
    "\n",
    "* LIGHT_CODE\n",
    "* JUNCTION_CODE\n",
    "* COLLISION_TYPE_CODE\n",
    "* SURF_COND_CODE\n",
    "* RD_COND_CODE\n",
    "* WEATHER_CODE\n",
    "* SIGNAL_FLAG\n",
    "* SEX_CODE\n",
    "* EQUIP_PROB_CODE\n",
    "* SAF_EQUIP_CODE\n",
    "* DAMAGE_CODE\n",
    "* MOVEMENT_CODE\n",
    "* COMMERCIAL_FLAG\n",
    "* BODY_TYPE_CODE\n",
    "* DRIVERLESS_FLAG"
   ]
  },
  {
   "cell_type": "markdown",
   "metadata": {
    "id": "4b173164-598f-4400-b537-1c85ff7020ee"
   },
   "source": [
    "### Seleccion de variables:\n",
    "\n",
    "Habiendo hecho los analisis anteriores, se identificaron que todas las variables que se identificaron es necesario utilizarlas para el modelo, quedando asi: \n",
    "\n",
    "\n",
    "* LIGHT_CODE\n",
    "* JUNCTION_CODE\n",
    "* COLLISION_TYPE_CODE\n",
    "* SURF_COND_CODE\n",
    "* RD_COND_CODE\n",
    "* WEATHER_CODE\n",
    "* SIGNAL_FLAG\n",
    "* SEX_CODE\n",
    "* EQUIP_PROB_CODE\n",
    "* SAF_EQUIP_CODE\n",
    "* DAMAGE_CODE\n",
    "* MOVEMENT_CODE\n",
    "* COMMERCIAL_FLAG\n",
    "* BODY_TYPE_CODE\n",
    "* DRIVERLESS_FLAG\n",
    "* SPEED_LIMIT\n",
    "* LATITUDE\n",
    "* LONGITUDE\n",
    "* HOUR\n",
    "* YEAR\n",
    "* MONTH\n",
    "* DAY"
   ]
  },
  {
   "cell_type": "markdown",
   "metadata": {
    "id": "e1afab21-2386-435e-a880-db5f2971fd9f"
   },
   "source": [
    "### Seleccion del modelo\n",
    "\n",
    "Ahora se va a proceder a utilizar varios modelos para ver que tan bien se pueden crear predicciones, por ello se van a crear 3 modelos:\n",
    "\n",
    "\n",
    "1. Gradient Boosting\n",
    "2. Maquinas de Soporte Vectorial\n",
    "3. Arboles de decision"
   ]
  },
  {
   "cell_type": "code",
   "execution_count": 76,
   "metadata": {
    "id": "3768cbf4-6164-45f9-b91f-67720c749c30"
   },
   "outputs": [],
   "source": [
    "# Importando bibliotecas\n",
    "from sklearn.model_selection import train_test_split #lograr dividir las muestras\n",
    "from sklearn.model_selection import cross_val_score #validación cruzada score \n",
    "from sklearn.model_selection import StratifiedKFold #validacion cruzada \n",
    "from sklearn.metrics import classification_report \n",
    "from sklearn.metrics import confusion_matrix #matriz de confusión\n",
    "from sklearn.metrics import accuracy_score #score de validación cruzada \n",
    "\n",
    "# Modelos de ML con que se va a trabajar\n",
    "from sklearn.linear_model import LogisticRegression #regresion logística\n",
    "from sklearn.tree import DecisionTreeClassifier #arboles de decision\n",
    "from sklearn.discriminant_analysis import LinearDiscriminantAnalysis #Análisis discriminante lineal \n",
    "from sklearn.naive_bayes import GaussianNB #Gauss Bayesiana\n",
    "from sklearn.ensemble import GradientBoostingClassifier\n",
    "from sklearn.ensemble import RandomForestClassifier\n",
    "from sklearn.datasets import make_classification\n",
    "from sklearn.svm import SVC"
   ]
  },
  {
   "cell_type": "markdown",
   "metadata": {
    "id": "c1076b83-f94d-4b3f-b97d-4b646191379f"
   },
   "source": [
    "### Escalado de datos numericos"
   ]
  },
  {
   "cell_type": "code",
   "execution_count": 77,
   "metadata": {
    "id": "3e0922d5-43c4-4605-86ad-93fe4a2ba0d8"
   },
   "outputs": [
    {
     "data": {
      "text/plain": [
       "(1054896, 23)"
      ]
     },
     "execution_count": 77,
     "metadata": {},
     "output_type": "execute_result"
    }
   ],
   "source": [
    "# Comprobando tamano del dataset\n",
    "data.shape"
   ]
  },
  {
   "cell_type": "markdown",
   "metadata": {
    "id": "fpgNM6jZPUJ4"
   },
   "source": [
    "Dataset cumple con tener más de un millón de filas para el modelo."
   ]
  },
  {
   "cell_type": "code",
   "execution_count": 78,
   "metadata": {
    "id": "79e01828-99be-4b46-8eea-2f7e238396dd"
   },
   "outputs": [
    {
     "data": {
      "text/plain": [
       "LIGHT_CODE             0\n",
       "JUNCTION_CODE          0\n",
       "COLLISION_TYPE_CODE    0\n",
       "SURF_COND_CODE         0\n",
       "RD_COND_CODE           0\n",
       "WEATHER_CODE           0\n",
       "SIGNAL_FLAG            0\n",
       "SEX_CODE               0\n",
       "EQUIP_PROB_CODE        0\n",
       "SAF_EQUIP_CODE         0\n",
       "DAMAGE_CODE            0\n",
       "MOVEMENT_CODE          0\n",
       "COMMERCIAL_FLAG        0\n",
       "BODY_TYPE_CODE         0\n",
       "DRIVERLESS_FLAG        0\n",
       "SPEED_LIMIT            0\n",
       "LATITUDE               0\n",
       "LONGITUDE              0\n",
       "HOUR                   0\n",
       "YEAR                   0\n",
       "MONTH                  0\n",
       "DAY                    0\n",
       "INJ_SEVER_CODE         0\n",
       "dtype: int64"
      ]
     },
     "execution_count": 78,
     "metadata": {},
     "output_type": "execute_result"
    }
   ],
   "source": [
    "# Comprobando si hay nulos\n",
    "np.sum(data.isnull())"
   ]
  },
  {
   "cell_type": "code",
   "execution_count": 79,
   "metadata": {
    "id": "lTs38tsmPcsO"
   },
   "outputs": [
    {
     "data": {
      "text/html": [
       "<div>\n",
       "<style scoped>\n",
       "    .dataframe tbody tr th:only-of-type {\n",
       "        vertical-align: middle;\n",
       "    }\n",
       "\n",
       "    .dataframe tbody tr th {\n",
       "        vertical-align: top;\n",
       "    }\n",
       "\n",
       "    .dataframe thead th {\n",
       "        text-align: right;\n",
       "    }\n",
       "</style>\n",
       "<table border=\"1\" class=\"dataframe\">\n",
       "  <thead>\n",
       "    <tr style=\"text-align: right;\">\n",
       "      <th></th>\n",
       "      <th>LIGHT_CODE</th>\n",
       "      <th>JUNCTION_CODE</th>\n",
       "      <th>COLLISION_TYPE_CODE</th>\n",
       "      <th>SURF_COND_CODE</th>\n",
       "      <th>RD_COND_CODE</th>\n",
       "      <th>WEATHER_CODE</th>\n",
       "      <th>SIGNAL_FLAG</th>\n",
       "      <th>SEX_CODE</th>\n",
       "      <th>EQUIP_PROB_CODE</th>\n",
       "      <th>SAF_EQUIP_CODE</th>\n",
       "      <th>DAMAGE_CODE</th>\n",
       "      <th>MOVEMENT_CODE</th>\n",
       "      <th>COMMERCIAL_FLAG</th>\n",
       "      <th>BODY_TYPE_CODE</th>\n",
       "      <th>DRIVERLESS_FLAG</th>\n",
       "      <th>SPEED_LIMIT</th>\n",
       "      <th>LATITUDE</th>\n",
       "      <th>LONGITUDE</th>\n",
       "      <th>HOUR</th>\n",
       "      <th>YEAR</th>\n",
       "      <th>MONTH</th>\n",
       "      <th>DAY</th>\n",
       "      <th>INJ_SEVER_CODE</th>\n",
       "    </tr>\n",
       "  </thead>\n",
       "  <tbody>\n",
       "    <tr>\n",
       "      <th>0</th>\n",
       "      <td>1.0</td>\n",
       "      <td>2.0</td>\n",
       "      <td>88.0</td>\n",
       "      <td>2.0</td>\n",
       "      <td>1.0</td>\n",
       "      <td>6.0</td>\n",
       "      <td>0</td>\n",
       "      <td>0</td>\n",
       "      <td>0.0</td>\n",
       "      <td>0.0</td>\n",
       "      <td>2.0</td>\n",
       "      <td>10.0</td>\n",
       "      <td>0</td>\n",
       "      <td>21.0</td>\n",
       "      <td>0</td>\n",
       "      <td>0.0</td>\n",
       "      <td>39.316645</td>\n",
       "      <td>-76.728809</td>\n",
       "      <td>9</td>\n",
       "      <td>2017</td>\n",
       "      <td>6</td>\n",
       "      <td>20</td>\n",
       "      <td>0</td>\n",
       "    </tr>\n",
       "    <tr>\n",
       "      <th>1</th>\n",
       "      <td>1.0</td>\n",
       "      <td>2.0</td>\n",
       "      <td>11.0</td>\n",
       "      <td>2.0</td>\n",
       "      <td>1.0</td>\n",
       "      <td>6.0</td>\n",
       "      <td>1</td>\n",
       "      <td>1</td>\n",
       "      <td>0.0</td>\n",
       "      <td>13.0</td>\n",
       "      <td>4.0</td>\n",
       "      <td>12.0</td>\n",
       "      <td>0</td>\n",
       "      <td>2.0</td>\n",
       "      <td>0</td>\n",
       "      <td>35.0</td>\n",
       "      <td>38.848088</td>\n",
       "      <td>-76.878811</td>\n",
       "      <td>13</td>\n",
       "      <td>2017</td>\n",
       "      <td>4</td>\n",
       "      <td>2</td>\n",
       "      <td>1</td>\n",
       "    </tr>\n",
       "    <tr>\n",
       "      <th>2</th>\n",
       "      <td>3.0</td>\n",
       "      <td>1.0</td>\n",
       "      <td>17.0</td>\n",
       "      <td>1.0</td>\n",
       "      <td>1.0</td>\n",
       "      <td>6.0</td>\n",
       "      <td>0</td>\n",
       "      <td>0</td>\n",
       "      <td>1.0</td>\n",
       "      <td>13.0</td>\n",
       "      <td>4.0</td>\n",
       "      <td>2.0</td>\n",
       "      <td>0</td>\n",
       "      <td>23.0</td>\n",
       "      <td>0</td>\n",
       "      <td>35.0</td>\n",
       "      <td>39.619699</td>\n",
       "      <td>-77.769977</td>\n",
       "      <td>1</td>\n",
       "      <td>2016</td>\n",
       "      <td>6</td>\n",
       "      <td>3</td>\n",
       "      <td>1</td>\n",
       "    </tr>\n",
       "    <tr>\n",
       "      <th>3</th>\n",
       "      <td>1.0</td>\n",
       "      <td>3.0</td>\n",
       "      <td>8.0</td>\n",
       "      <td>2.0</td>\n",
       "      <td>1.0</td>\n",
       "      <td>6.0</td>\n",
       "      <td>1</td>\n",
       "      <td>1</td>\n",
       "      <td>1.0</td>\n",
       "      <td>13.0</td>\n",
       "      <td>4.0</td>\n",
       "      <td>7.0</td>\n",
       "      <td>0</td>\n",
       "      <td>2.0</td>\n",
       "      <td>0</td>\n",
       "      <td>40.0</td>\n",
       "      <td>38.387455</td>\n",
       "      <td>-75.065723</td>\n",
       "      <td>6</td>\n",
       "      <td>2018</td>\n",
       "      <td>9</td>\n",
       "      <td>3</td>\n",
       "      <td>0</td>\n",
       "    </tr>\n",
       "    <tr>\n",
       "      <th>5</th>\n",
       "      <td>1.0</td>\n",
       "      <td>2.0</td>\n",
       "      <td>11.0</td>\n",
       "      <td>1.0</td>\n",
       "      <td>1.0</td>\n",
       "      <td>3.0</td>\n",
       "      <td>1</td>\n",
       "      <td>0</td>\n",
       "      <td>1.0</td>\n",
       "      <td>13.0</td>\n",
       "      <td>4.0</td>\n",
       "      <td>2.0</td>\n",
       "      <td>0</td>\n",
       "      <td>23.0</td>\n",
       "      <td>0</td>\n",
       "      <td>25.0</td>\n",
       "      <td>39.371149</td>\n",
       "      <td>-76.792838</td>\n",
       "      <td>9</td>\n",
       "      <td>2017</td>\n",
       "      <td>5</td>\n",
       "      <td>22</td>\n",
       "      <td>0</td>\n",
       "    </tr>\n",
       "  </tbody>\n",
       "</table>\n",
       "</div>"
      ],
      "text/plain": [
       "   LIGHT_CODE  JUNCTION_CODE  COLLISION_TYPE_CODE  SURF_COND_CODE  \\\n",
       "0         1.0            2.0                 88.0             2.0   \n",
       "1         1.0            2.0                 11.0             2.0   \n",
       "2         3.0            1.0                 17.0             1.0   \n",
       "3         1.0            3.0                  8.0             2.0   \n",
       "5         1.0            2.0                 11.0             1.0   \n",
       "\n",
       "   RD_COND_CODE  WEATHER_CODE  SIGNAL_FLAG  SEX_CODE  EQUIP_PROB_CODE  \\\n",
       "0           1.0           6.0            0         0              0.0   \n",
       "1           1.0           6.0            1         1              0.0   \n",
       "2           1.0           6.0            0         0              1.0   \n",
       "3           1.0           6.0            1         1              1.0   \n",
       "5           1.0           3.0            1         0              1.0   \n",
       "\n",
       "   SAF_EQUIP_CODE  DAMAGE_CODE  MOVEMENT_CODE  COMMERCIAL_FLAG  \\\n",
       "0             0.0          2.0           10.0                0   \n",
       "1            13.0          4.0           12.0                0   \n",
       "2            13.0          4.0            2.0                0   \n",
       "3            13.0          4.0            7.0                0   \n",
       "5            13.0          4.0            2.0                0   \n",
       "\n",
       "   BODY_TYPE_CODE  DRIVERLESS_FLAG  SPEED_LIMIT   LATITUDE  LONGITUDE  HOUR  \\\n",
       "0            21.0                0          0.0  39.316645 -76.728809     9   \n",
       "1             2.0                0         35.0  38.848088 -76.878811    13   \n",
       "2            23.0                0         35.0  39.619699 -77.769977     1   \n",
       "3             2.0                0         40.0  38.387455 -75.065723     6   \n",
       "5            23.0                0         25.0  39.371149 -76.792838     9   \n",
       "\n",
       "   YEAR  MONTH  DAY  INJ_SEVER_CODE  \n",
       "0  2017      6   20               0  \n",
       "1  2017      4    2               1  \n",
       "2  2016      6    3               1  \n",
       "3  2018      9    3               0  \n",
       "5  2017      5   22               0  "
      ]
     },
     "execution_count": 79,
     "metadata": {},
     "output_type": "execute_result"
    }
   ],
   "source": [
    "data.head()"
   ]
  },
  {
   "cell_type": "code",
   "execution_count": 80,
   "metadata": {
    "id": "da4662d3-33bf-4976-bec0-bedc22a56741"
   },
   "outputs": [
    {
     "name": "stdout",
     "output_type": "stream",
     "text": [
      "(1054896, 22)\n",
      "(1054896,)\n"
     ]
    }
   ],
   "source": [
    "# Conjunto de datos de validación dividida\n",
    "# Con el 80% se crea el modelo y con el 20% se entrena\n",
    "\n",
    "array = data.values #los datos ahora se transforman en un arreglo\n",
    "\n",
    "X = array[:,0:22]  \n",
    "y = array[:,22]\n",
    "print(X.shape)\n",
    "print(y.shape)\n",
    "\n",
    "from sklearn.preprocessing import StandardScaler\n",
    "scaler = StandardScaler()\n",
    "X = scaler.fit(X).transform(X)"
   ]
  },
  {
   "cell_type": "code",
   "execution_count": 81,
   "metadata": {
    "id": "68eadc21-a7d4-4ffd-8826-642cfb9c0206"
   },
   "outputs": [],
   "source": [
    "# Se dividen los datos en conjunto de entrenamiento y prueba, se utiliza random_state = 0 \n",
    "X_train, X_test, y_train, y_test = train_test_split(X, y, test_size=0.20, random_state=0)"
   ]
  },
  {
   "cell_type": "markdown",
   "metadata": {
    "id": "e3827e44-8cc9-4f68-87b1-5a355e1a514e"
   },
   "source": [
    "### Hipertuneo de Criterios"
   ]
  },
  {
   "cell_type": "code",
   "execution_count": 82,
   "metadata": {
    "id": "d94c7f9c-3b57-4266-9974-de4ba7e5e5f2"
   },
   "outputs": [],
   "source": [
    "from sklearn.model_selection import cross_val_score\n",
    "from sklearn.model_selection import GridSearchCV"
   ]
  },
  {
   "cell_type": "code",
   "execution_count": 83,
   "metadata": {
    "id": "e2ed3447-6f07-4034-9a3a-92ca59227092"
   },
   "outputs": [],
   "source": [
    "# Creando el modelo de Regresion logistica para utilizar con GridSearch\n",
    "logic = LogisticRegression(random_state=0)"
   ]
  },
  {
   "cell_type": "code",
   "execution_count": 84,
   "metadata": {
    "id": "e125912a-f23f-4f90-afa2-7c9828d20ff7"
   },
   "outputs": [],
   "source": [
    "# Creando estimador de parametros\n",
    "param_grid = { \n",
    "    'penalty':['none', 'l2'],\n",
    "    'fit_intercept':[True, False]\n",
    "}"
   ]
  },
  {
   "cell_type": "code",
   "execution_count": 85,
   "metadata": {
    "id": "0d5508d0-7e6e-43b8-9b1c-230284246dd7"
   },
   "outputs": [
    {
     "data": {
      "text/plain": [
       "GridSearchCV(cv=3, estimator=LogisticRegression(random_state=0),\n",
       "             param_grid={'fit_intercept': [True, False],\n",
       "                         'penalty': ['none', 'l2']})"
      ]
     },
     "execution_count": 85,
     "metadata": {},
     "output_type": "execute_result"
    }
   ],
   "source": [
    "# Realizando Cross Validation con 3 y probando parametros\n",
    "CV_1 = GridSearchCV(estimator = logic, param_grid=param_grid, cv= 3)\n",
    "CV_1.fit(X_train, y_train)"
   ]
  },
  {
   "cell_type": "code",
   "execution_count": 86,
   "metadata": {
    "id": "8089cd98-e9a2-4ce8-ad0a-38d6b8e5f848"
   },
   "outputs": [
    {
     "data": {
      "text/plain": [
       "{'fit_intercept': True, 'penalty': 'none'}"
      ]
     },
     "execution_count": 86,
     "metadata": {},
     "output_type": "execute_result"
    }
   ],
   "source": [
    "# Comprobando cuales son los mejores parametros a utilizar\n",
    "CV_1.best_params_"
   ]
  },
  {
   "cell_type": "code",
   "execution_count": 87,
   "metadata": {
    "id": "f8bcd9f0-1384-49a7-a347-0f0831064e87"
   },
   "outputs": [],
   "source": [
    "# Creando el modelo de Analisis de Discriminante lineal para utilizar con GridSearch\n",
    "discriminante = LinearDiscriminantAnalysis()"
   ]
  },
  {
   "cell_type": "code",
   "execution_count": 88,
   "metadata": {
    "id": "d9ee6abc-4840-4d74-9203-28690ec83dbd"
   },
   "outputs": [],
   "source": [
    "# Creando estimador de parametros\n",
    "param_grid = { \n",
    "    'solver': ['svd', 'lsqr', 'eigen']\n",
    "}"
   ]
  },
  {
   "cell_type": "code",
   "execution_count": 89,
   "metadata": {
    "id": "017f83c6-ed33-484b-8b54-7778c688735b"
   },
   "outputs": [
    {
     "data": {
      "text/plain": [
       "GridSearchCV(cv=3, estimator=LinearDiscriminantAnalysis(),\n",
       "             param_grid={'solver': ['svd', 'lsqr', 'eigen']})"
      ]
     },
     "execution_count": 89,
     "metadata": {},
     "output_type": "execute_result"
    }
   ],
   "source": [
    "# Realizando Cross Validation con 3 y probando parametros\n",
    "CV_2 = GridSearchCV(estimator = discriminante, param_grid=param_grid, cv= 3)\n",
    "CV_2.fit(X_train, y_train)"
   ]
  },
  {
   "cell_type": "code",
   "execution_count": 90,
   "metadata": {
    "id": "992179ac-b9f2-422e-bb53-a22000c52b4d"
   },
   "outputs": [
    {
     "data": {
      "text/plain": [
       "{'solver': 'svd'}"
      ]
     },
     "execution_count": 90,
     "metadata": {},
     "output_type": "execute_result"
    }
   ],
   "source": [
    "# Comprobando cuales son los mejores parametros a utilizar\n",
    "CV_2.best_params_"
   ]
  },
  {
   "cell_type": "code",
   "execution_count": 91,
   "metadata": {
    "id": "32ce1f6a-ca1d-4c79-85b4-a4920dd091f6"
   },
   "outputs": [],
   "source": [
    "# Creando el modelo de Decision Tree para utilizar con GridSearch\n",
    "tree = DecisionTreeClassifier(random_state=0)"
   ]
  },
  {
   "cell_type": "code",
   "execution_count": 92,
   "metadata": {
    "id": "391b6d7f-e0c6-4d14-afa2-fc3ee8b46e48"
   },
   "outputs": [],
   "source": [
    "# Creando estimador de parametros\n",
    "param_grid = { \n",
    "    'splitter':['best','random'],\n",
    "    'max_depth' : [3,5,7],\n",
    "    'criterion' :['gini', 'entropy']\n",
    "}"
   ]
  },
  {
   "cell_type": "code",
   "execution_count": 93,
   "metadata": {
    "id": "0a1ffcc3-3658-4e9f-bc20-2d34ea190b8f"
   },
   "outputs": [
    {
     "data": {
      "text/plain": [
       "GridSearchCV(cv=3, estimator=DecisionTreeClassifier(random_state=0),\n",
       "             param_grid={'criterion': ['gini', 'entropy'],\n",
       "                         'max_depth': [3, 5, 7],\n",
       "                         'splitter': ['best', 'random']})"
      ]
     },
     "execution_count": 93,
     "metadata": {},
     "output_type": "execute_result"
    }
   ],
   "source": [
    "# Realizando Cross Validation con 3 y probando parametros\n",
    "CV_3 = GridSearchCV(estimator = tree, param_grid=param_grid, cv= 3)\n",
    "CV_3.fit(X_train, y_train)"
   ]
  },
  {
   "cell_type": "code",
   "execution_count": 94,
   "metadata": {
    "id": "8e965be7-0a46-4df7-b844-f6d7c9c32e6e"
   },
   "outputs": [
    {
     "data": {
      "text/plain": [
       "{'criterion': 'gini', 'max_depth': 7, 'splitter': 'best'}"
      ]
     },
     "execution_count": 94,
     "metadata": {},
     "output_type": "execute_result"
    }
   ],
   "source": [
    "# Comprobando cuales son los mejores parametros a utilizar\n",
    "CV_3.best_params_"
   ]
  },
  {
   "cell_type": "code",
   "execution_count": 95,
   "metadata": {
    "id": "96267365-d95b-4437-979e-e3457a36a9dc"
   },
   "outputs": [],
   "source": [
    "# Creando el modelo de Random Forest para utilizar con GridSearch\n",
    "random = RandomForestClassifier(random_state=0)"
   ]
  },
  {
   "cell_type": "code",
   "execution_count": 96,
   "metadata": {
    "id": "0d8e467a-ee1f-4b93-91fc-1b79ba43f3e7"
   },
   "outputs": [],
   "source": [
    "# Creando estimador de parametros\n",
    "param_grid = { \n",
    "    'max_depth' : [3,5,7],\n",
    "    'criterion' :['gini', 'entropy']\n",
    "}"
   ]
  },
  {
   "cell_type": "code",
   "execution_count": 97,
   "metadata": {
    "id": "8eb2a079-9427-4545-8d1a-1f9b7fbd9a6c"
   },
   "outputs": [
    {
     "data": {
      "text/plain": [
       "GridSearchCV(cv=3, estimator=RandomForestClassifier(random_state=0),\n",
       "             param_grid={'criterion': ['gini', 'entropy'],\n",
       "                         'max_depth': [3, 5, 7]})"
      ]
     },
     "execution_count": 97,
     "metadata": {},
     "output_type": "execute_result"
    }
   ],
   "source": [
    "# Realizando Cross Validation con 3 y probando parametros\n",
    "CV_4 = GridSearchCV(estimator = random, param_grid=param_grid, cv= 3)\n",
    "CV_4.fit(X_train, y_train)"
   ]
  },
  {
   "cell_type": "code",
   "execution_count": 98,
   "metadata": {
    "id": "bb4534b2-002c-4e22-8b74-ef44603bdd74"
   },
   "outputs": [
    {
     "data": {
      "text/plain": [
       "{'criterion': 'gini', 'max_depth': 7}"
      ]
     },
     "execution_count": 98,
     "metadata": {},
     "output_type": "execute_result"
    }
   ],
   "source": [
    "# Comprobando cuales son los mejores parametros a utilizar\n",
    "CV_4.best_params_"
   ]
  },
  {
   "cell_type": "code",
   "execution_count": 99,
   "metadata": {
    "id": "46dc5527-2415-4383-b0d8-270c6d8611f7"
   },
   "outputs": [],
   "source": [
    "gauss = GaussianNB()"
   ]
  },
  {
   "cell_type": "code",
   "execution_count": 100,
   "metadata": {
    "id": "3f3850f1-c633-49b9-8844-23ea3b41bb68"
   },
   "outputs": [],
   "source": [
    "# Creando estimador de parametros\n",
    "param_grid = { \n",
    "    'var_smoothing': [1e-2, 1e-3, 1e-4, 1e-5]\n",
    "}"
   ]
  },
  {
   "cell_type": "code",
   "execution_count": 101,
   "metadata": {
    "id": "1c9f633d-4575-4afc-a997-e7ede0618ada"
   },
   "outputs": [
    {
     "data": {
      "text/plain": [
       "GridSearchCV(cv=3, estimator=GaussianNB(),\n",
       "             param_grid={'var_smoothing': [0.01, 0.001, 0.0001, 1e-05]})"
      ]
     },
     "execution_count": 101,
     "metadata": {},
     "output_type": "execute_result"
    }
   ],
   "source": [
    "# Realizando Cross Validation con 3 y probando parametros\n",
    "CV_5 = GridSearchCV(estimator = gauss, param_grid=param_grid, cv= 3)\n",
    "CV_5.fit(X_train, y_train)"
   ]
  },
  {
   "cell_type": "code",
   "execution_count": 102,
   "metadata": {
    "id": "858d7981-593e-4a45-8af4-7908231b28c7"
   },
   "outputs": [
    {
     "data": {
      "text/plain": [
       "{'var_smoothing': 0.01}"
      ]
     },
     "execution_count": 102,
     "metadata": {},
     "output_type": "execute_result"
    }
   ],
   "source": [
    "# Comprobando cuales son los mejores parametros a utilizar\n",
    "CV_5.best_params_"
   ]
  },
  {
   "cell_type": "code",
   "execution_count": 103,
   "metadata": {
    "id": "b6d9f6bd-4bfa-4ac9-83f4-53b8dac56f21"
   },
   "outputs": [],
   "source": [
    "# Algoritmos de Comprobación, se guardan en una lista\n",
    "models = []\n",
    "models.append(('LR', LogisticRegression(penalty = 'none', fit_intercept = True)))\n",
    "models.append(('LDA', LinearDiscriminantAnalysis(solver = 'svd')))\n",
    "models.append(('CART', DecisionTreeClassifier(criterion = 'gini', max_depth = 7, splitter = 'best')))\n",
    "models.append(('RF', RandomForestClassifier(max_depth = 7, criterion = 'gini')))\n",
    "models.append(('GB', GradientBoostingClassifier(max_depth = 5)))\n",
    "models.append(('NB', GaussianNB(var_smoothing = 0.01)))"
   ]
  },
  {
   "cell_type": "code",
   "execution_count": 104,
   "metadata": {
    "id": "17b7a1be-0992-4c31-90ca-db892941aeef"
   },
   "outputs": [
    {
     "name": "stdout",
     "output_type": "stream",
     "text": [
      "LR: 0.821519 (0.000096)\n",
      "LDA: 0.820660 (0.000074)\n",
      "CART: 0.829161 (0.000106)\n",
      "RF: 0.826015 (0.000109)\n",
      "GB: 0.834805 (0.000120)\n",
      "NB: 0.378038 (0.001795)\n"
     ]
    }
   ],
   "source": [
    "resultados = []\n",
    "names = []\n",
    "\n",
    "for name, model in models:\n",
    "    kfold = StratifiedKFold(n_splits=3, random_state=1, shuffle=True) # Declaracion de la validación cruzada\n",
    "    cv_resultados = cross_val_score(model, X_train, y_train, cv=kfold, scoring='accuracy') # genera la precisión de la validación cruzada\n",
    "    resultados.append(cv_resultados)  # genera la precisión de la validación cruzada\n",
    "    names.append(name)\n",
    "    print('%s: %f (%f)' % (name, cv_resultados.mean(), cv_resultados.std()))"
   ]
  },
  {
   "cell_type": "markdown",
   "metadata": {
    "id": "dd0d686d-0c7d-412e-a5d8-ac735b185f5b"
   },
   "source": [
    "#### Comparación de los Algoritmos\n",
    "\n",
    "Se puede observar que el algoritmo que da los mejores resultados corresponde al Gradient Boosting, seguido del Árbol de Decisión, por ello se van a comparar ambos para ver que podemos ver con la matriz de confusión. \n"
   ]
  },
  {
   "cell_type": "code",
   "execution_count": 105,
   "metadata": {
    "id": "e73c42bf-e25b-439a-8736-c9e37322df03"
   },
   "outputs": [],
   "source": [
    "# Haciendo predicciones y evaluación del dataset con Gradient Boosting\n",
    "model = GradientBoostingClassifier(max_depth = 5)\n",
    "model.fit(X_train, y_train)\n",
    "prediccion = model.predict(X_test)"
   ]
  },
  {
   "cell_type": "code",
   "execution_count": 106,
   "metadata": {
    "id": "9c1a2fd5-f021-4043-a0a8-e1eb6fe68a5d"
   },
   "outputs": [
    {
     "data": {
      "text/plain": [
       "array([[168163,   3169],\n",
       "       [ 31525,   8123]])"
      ]
     },
     "execution_count": 106,
     "metadata": {},
     "output_type": "execute_result"
    }
   ],
   "source": [
    "from sklearn.metrics import confusion_matrix\n",
    "confusion_matrix(y_test, prediccion)"
   ]
  },
  {
   "cell_type": "code",
   "execution_count": 107,
   "metadata": {
    "id": "63b231f3-0162-4ffc-8d12-0a5f6af91171"
   },
   "outputs": [
    {
     "name": "stdout",
     "output_type": "stream",
     "text": [
      "Informe de Clasificación:\n",
      "              precision    recall  f1-score   support\n",
      "\n",
      "         0.0       0.84      0.98      0.91    171332\n",
      "         1.0       0.72      0.20      0.32     39648\n",
      "\n",
      "    accuracy                           0.84    210980\n",
      "   macro avg       0.78      0.59      0.61    210980\n",
      "weighted avg       0.82      0.84      0.80    210980\n",
      "\n"
     ]
    }
   ],
   "source": [
    "from sklearn.metrics import classification_report\n",
    "print(f\"Informe de Clasificación:\\n\"\n",
    "      f\"{classification_report(y_test, prediccion)}\")"
   ]
  },
  {
   "cell_type": "code",
   "execution_count": 108,
   "metadata": {
    "id": "04085425-0d10-46d0-8295-87ddffa57e47"
   },
   "outputs": [
    {
     "data": {
      "image/png": "[encoded data removed]",
      "text/plain": [
       "<Figure size 432x288 with 1 Axes>"
      ]
     },
     "metadata": {
      "needs_background": "light"
     },
     "output_type": "display_data"
    }
   ],
   "source": [
    "from sklearn.metrics import plot_roc_curve\n",
    "import warnings\n",
    "warnings.filterwarnings(\"ignore\", category=FutureWarning)\n",
    "plot_roc_curve(model, X_test, y_test)\n",
    "plt.suptitle(\"ROC‑AUC‑CURVE\")\n",
    "plt.show()"
   ]
  },
  {
   "cell_type": "code",
   "execution_count": 109,
   "metadata": {
    "id": "fb1a750e-6e58-4513-8e67-fe7bfb5debd2"
   },
   "outputs": [],
   "source": [
    "# Haciendo predicciones y evaluación del dataset con Decision Tree\n",
    "model_2 = DecisionTreeClassifier(criterion = 'gini', max_depth = 7, splitter = 'best')\n",
    "model_2.fit(X_train, y_train)\n",
    "prediccion = model_2.predict(X_test)"
   ]
  },
  {
   "cell_type": "code",
   "execution_count": 110,
   "metadata": {
    "id": "651eb367-0f6e-40ed-ad79-aabdc7d1dc53"
   },
   "outputs": [
    {
     "data": {
      "text/plain": [
       "array([[168531,   2801],\n",
       "       [ 33191,   6457]])"
      ]
     },
     "execution_count": 110,
     "metadata": {},
     "output_type": "execute_result"
    }
   ],
   "source": [
    "confusion_matrix(y_test, prediccion)"
   ]
  },
  {
   "cell_type": "code",
   "execution_count": 111,
   "metadata": {
    "id": "0e09df7f-2fd8-445a-bc42-52f5b6153bb2"
   },
   "outputs": [
    {
     "name": "stdout",
     "output_type": "stream",
     "text": [
      "Informe de Clasificación:\n",
      "              precision    recall  f1-score   support\n",
      "\n",
      "         0.0       0.84      0.98      0.90    171332\n",
      "         1.0       0.70      0.16      0.26     39648\n",
      "\n",
      "    accuracy                           0.83    210980\n",
      "   macro avg       0.77      0.57      0.58    210980\n",
      "weighted avg       0.81      0.83      0.78    210980\n",
      "\n"
     ]
    }
   ],
   "source": [
    "from sklearn.metrics import classification_report\n",
    "print(f\"Informe de Clasificación:\\n\"\n",
    "      f\"{classification_report(y_test, prediccion)}\")"
   ]
  },
  {
   "cell_type": "code",
   "execution_count": 112,
   "metadata": {
    "id": "17e4805b-bfeb-4f33-b3e6-fce1503b705b"
   },
   "outputs": [
    {
     "data": {
      "image/png": "[encoded data removed]",
      "text/plain": [
       "<Figure size 432x288 with 1 Axes>"
      ]
     },
     "metadata": {
      "needs_background": "light"
     },
     "output_type": "display_data"
    }
   ],
   "source": [
    "from sklearn.metrics import plot_roc_curve\n",
    "plot_roc_curve(model_2, X_test, y_test)\n",
    "plt.suptitle(\"ROC‑AUC‑CURVE\")\n",
    "plt.show()"
   ]
  },
  {
   "cell_type": "markdown",
   "metadata": {
    "id": "f28a0e08-57e1-443e-b911-378a00ab8c39"
   },
   "source": [
    "Vamos a evaluar lo mismo pero utilizando una máquina de soporte vectorial con soporte para clases desbalanceadas para ver como se comporta con este algoritmo tan potente. "
   ]
  },
  {
   "cell_type": "code",
   "execution_count": 113,
   "metadata": {
    "id": "31520741-8d00-48a2-93c1-2a4e9a99b2f5"
   },
   "outputs": [
    {
     "name": "stderr",
     "output_type": "stream",
     "text": [
      "/Users/heinerleivagmail.com/opt/anaconda3/lib/python3.7/site-packages/sklearn/svm/_base.py:249: ConvergenceWarning: Solver terminated early (max_iter=500).  Consider pre-processing your data with StandardScaler or MinMaxScaler.\n",
      "  % self.max_iter, ConvergenceWarning)\n"
     ]
    }
   ],
   "source": [
    "# Haciendo predicciones y evaluación del dataset con Maquinas de Soporte vectorial\n",
    "model_3 = SVC(kernel='sigmoid', gamma = 'scale', class_weight = 'balanced', max_iter = 500)\n",
    "model_3.fit(X_train, y_train)\n",
    "prediccion = model_3.predict(X_test)"
   ]
  },
  {
   "cell_type": "code",
   "execution_count": 114,
   "metadata": {
    "id": "581d3757-a5b7-419a-9c96-753de4170765"
   },
   "outputs": [
    {
     "data": {
      "text/plain": [
       "array([[ 46873, 124459],\n",
       "       [  6407,  33241]])"
      ]
     },
     "execution_count": 114,
     "metadata": {},
     "output_type": "execute_result"
    }
   ],
   "source": [
    "confusion_matrix(y_test, prediccion)"
   ]
  },
  {
   "cell_type": "code",
   "execution_count": 115,
   "metadata": {
    "id": "ab843ffd-8360-43a3-b0b5-5b683ed1cc4b"
   },
   "outputs": [
    {
     "name": "stdout",
     "output_type": "stream",
     "text": [
      "Informe de Clasificación:\n",
      "              precision    recall  f1-score   support\n",
      "\n",
      "         0.0       0.88      0.27      0.42    171332\n",
      "         1.0       0.21      0.84      0.34     39648\n",
      "\n",
      "    accuracy                           0.38    210980\n",
      "   macro avg       0.55      0.56      0.38    210980\n",
      "weighted avg       0.75      0.38      0.40    210980\n",
      "\n"
     ]
    }
   ],
   "source": [
    "from sklearn.metrics import classification_report\n",
    "print(f\"Informe de Clasificación:\\n\"\n",
    "      f\"{classification_report(y_test, prediccion)}\")"
   ]
  },
  {
   "cell_type": "code",
   "execution_count": 116,
   "metadata": {
    "id": "ce896115-aabf-441d-b521-78350cf44a4f"
   },
   "outputs": [
    {
     "data": {
      "image/png": "[encoded data removed]",
      "text/plain": [
       "<Figure size 432x288 with 1 Axes>"
      ]
     },
     "metadata": {
      "needs_background": "light"
     },
     "output_type": "display_data"
    }
   ],
   "source": [
    "from sklearn.metrics import plot_roc_curve\n",
    "plot_roc_curve(model_3, X_test, y_test)\n",
    "plt.suptitle(\"ROC‑AUC‑CURVE\")\n",
    "plt.show()"
   ]
  },
  {
   "cell_type": "markdown",
   "metadata": {
    "id": "c0e36d00-44a3-49e3-b8dd-c3005109d2f6"
   },
   "source": [
    "Se puede observar que aunque el modelo no es bueno, con la Máquina de Soporte Vectorial se le trata de dar importancia a la clase minoritaria y ahora el F1 del \"No\" es 42% y el \"Si\" es de un 34%. Asimismo el recall del \"No\" es de un 27% y el del \"Si\" un 84%."
   ]
  },
  {
   "cell_type": "markdown",
   "metadata": {
    "id": "6e1a6db6-423e-4341-8cf7-1065143c0928"
   },
   "source": [
    "### SMOTE\n",
    "\n",
    "Ahora que hemos probado con varios algoritmos y no han funcionado ya que las clases estan bastante desbalanceadas vamos a proceder a utilizar una técnica SMOTE (Synthetic Minority Over-sampling Technique) con la que vamos a crear observaciones artificiales en la clase minoritaria para con ello tratar de aumentar la predicción que se obtiene al nivel del \"si\", es decir, de aquellas personas que han sufrido lesiones en los accidentes de tránsito."
   ]
  },
  {
   "cell_type": "code",
   "execution_count": 117,
   "metadata": {
    "id": "46e437a9-9521-4238-acf5-2b0add551f6d"
   },
   "outputs": [
    {
     "name": "stdout",
     "output_type": "stream",
     "text": [
      "Antes del OverSampling, conteo de la etiqueta '1': 159336\n",
      "Antes del OverSampling, conteo de la etiqueta '0': 684580 \n",
      "\n",
      "Después del OverSampling, el tamaño del train_X: (1369160, 22)\n",
      "Después del OverSampling, el tamaño del train_y: (1369160,) \n",
      "\n",
      "Después del OverSampling, conteo de la etiqueta '1': 684580\n",
      "Después del OverSampling, conteo de la etiqueta '0': 684580\n"
     ]
    }
   ],
   "source": [
    "print(\"Antes del OverSampling, conteo de la etiqueta '1': {}\".format(sum(y_train == 1)))\n",
    "print(\"Antes del OverSampling, conteo de la etiqueta '0': {} \\n\".format(sum(y_train == 0)))\n",
    "\n",
    "from imblearn.over_sampling import SMOTE\n",
    "sm = SMOTE(random_state = 2)\n",
    "X_train_res, y_train_res = sm.fit_resample(X_train, y_train.ravel())\n",
    "\n",
    "print('Después del OverSampling, el tamaño del train_X: {}'.format(X_train_res.shape))\n",
    "print('Después del OverSampling, el tamaño del train_y: {} \\n'.format(y_train_res.shape))\n",
    "\n",
    "print(\"Después del OverSampling, conteo de la etiqueta '1': {}\".format(sum(y_train_res == 1)))\n",
    "print(\"Después del OverSampling, conteo de la etiqueta '0': {}\".format(sum(y_train_res == 0)))"
   ]
  },
  {
   "cell_type": "code",
   "execution_count": 118,
   "metadata": {
    "id": "ab3bbf59-335c-41cf-9ab8-4646b2d9e186"
   },
   "outputs": [
    {
     "name": "stdout",
     "output_type": "stream",
     "text": [
      "              precision    recall  f1-score   support\n",
      "\n",
      "         0.0       0.85      0.95      0.90    171332\n",
      "         1.0       0.59      0.29      0.39     39648\n",
      "\n",
      "    accuracy                           0.83    210980\n",
      "   macro avg       0.72      0.62      0.65    210980\n",
      "weighted avg       0.80      0.83      0.80    210980\n",
      "\n"
     ]
    }
   ],
   "source": [
    "# Entrenando el modelo con el nuevo oversampling creado y con Gradient Boosting\n",
    "modelo_oversampling = GradientBoostingClassifier(max_depth = 5)\n",
    "modelo_oversampling.fit(X_train_res, y_train_res.ravel())\n",
    "prediccion = modelo_oversampling.predict(X_test)\n",
    "\n",
    "# print classification report\n",
    "print(classification_report(y_test, prediccion))"
   ]
  },
  {
   "cell_type": "code",
   "execution_count": 119,
   "metadata": {
    "id": "MMtgrqiIvprL"
   },
   "outputs": [
    {
     "data": {
      "text/plain": [
       "array([[163092,   8240],\n",
       "       [ 27959,  11689]])"
      ]
     },
     "execution_count": 119,
     "metadata": {},
     "output_type": "execute_result"
    }
   ],
   "source": [
    "confusion_matrix(y_test, prediccion)"
   ]
  },
  {
   "cell_type": "code",
   "execution_count": 120,
   "metadata": {
    "id": "LDm_ZRZhwKk_"
   },
   "outputs": [
    {
     "name": "stdout",
     "output_type": "stream",
     "text": [
      "              precision    recall  f1-score   support\n",
      "\n",
      "         0.0       0.85      0.96      0.90    171332\n",
      "         1.0       0.57      0.25      0.35     39648\n",
      "\n",
      "    accuracy                           0.82    210980\n",
      "   macro avg       0.71      0.60      0.62    210980\n",
      "weighted avg       0.79      0.82      0.79    210980\n",
      "\n"
     ]
    }
   ],
   "source": [
    "# Entrenando el modelo con el nuevo oversampling creado y con Arbol de Decision\n",
    "modelo_oversampling_2 = DecisionTreeClassifier(criterion = 'gini', max_depth = 7, splitter = 'best')\n",
    "modelo_oversampling_2.fit(X_train_res, y_train_res.ravel())\n",
    "prediccion = modelo_oversampling_2.predict(X_test)\n",
    "\n",
    "# print classification report\n",
    "print(classification_report(y_test, prediccion))"
   ]
  },
  {
   "cell_type": "code",
   "execution_count": 121,
   "metadata": {
    "id": "dlMCb5U_waue"
   },
   "outputs": [
    {
     "data": {
      "text/plain": [
       "array([[163735,   7597],\n",
       "       [ 29755,   9893]])"
      ]
     },
     "execution_count": 121,
     "metadata": {},
     "output_type": "execute_result"
    }
   ],
   "source": [
    "confusion_matrix(y_test, prediccion)"
   ]
  },
  {
   "cell_type": "code",
   "execution_count": 122,
   "metadata": {
    "id": "UivHStoS15PL"
   },
   "outputs": [
    {
     "name": "stderr",
     "output_type": "stream",
     "text": [
      "/Users/heinerleivagmail.com/opt/anaconda3/lib/python3.7/site-packages/sklearn/svm/_base.py:249: ConvergenceWarning: Solver terminated early (max_iter=500).  Consider pre-processing your data with StandardScaler or MinMaxScaler.\n",
      "  % self.max_iter, ConvergenceWarning)\n"
     ]
    },
    {
     "name": "stdout",
     "output_type": "stream",
     "text": [
      "              precision    recall  f1-score   support\n",
      "\n",
      "         0.0       0.86      0.35      0.50    171332\n",
      "         1.0       0.21      0.75      0.33     39648\n",
      "\n",
      "    accuracy                           0.43    210980\n",
      "   macro avg       0.54      0.55      0.42    210980\n",
      "weighted avg       0.74      0.43      0.47    210980\n",
      "\n"
     ]
    }
   ],
   "source": [
    "# Entrenando el modelo con el nuevo oversampling creado y con la maquina de soporte vectorial\n",
    "modelo_oversampling_3 = SVC(kernel='sigmoid', gamma = 'scale', class_weight = 'balanced', max_iter = 500)\n",
    "modelo_oversampling_3.fit(X_train_res, y_train_res.ravel())\n",
    "prediccion = modelo_oversampling_3.predict(X_test)\n",
    "\n",
    "# print classification report\n",
    "print(classification_report(y_test, prediccion))"
   ]
  },
  {
   "cell_type": "code",
   "execution_count": 123,
   "metadata": {
    "id": "ce-mLczR2JN7"
   },
   "outputs": [
    {
     "name": "stdout",
     "output_type": "stream",
     "text": [
      "Antes del Undersampling, conteo de la etiqueta '1': 159336\n",
      "Antes del Undersampling, conteo de la etiqueta '0': 684580 \n",
      "\n",
      "Después del Undersampling, el tamaño del train_X: (318672, 22)\n",
      "Después del Undersampling, el tamaño del train_y: (318672,) \n",
      "\n",
      "Después del Undersampling, conteo de la etiqueta '1': 159336\n",
      "Después del Undersampling, conteo de la etiqueta '0': 159336\n"
     ]
    }
   ],
   "source": [
    "print(\"Antes del Undersampling, conteo de la etiqueta '1': {}\".format(sum(y_train == 1)))\n",
    "print(\"Antes del Undersampling, conteo de la etiqueta '0': {} \\n\".format(sum(y_train == 0)))\n",
    "\n",
    "from imblearn.under_sampling import NearMiss\n",
    "nr = NearMiss()\n",
    "\n",
    "X_train_miss, y_train_miss = nr.fit_resample(X_train, y_train.ravel())\n",
    "\n",
    "print('Después del Undersampling, el tamaño del train_X: {}'.format(X_train_miss.shape))\n",
    "print('Después del Undersampling, el tamaño del train_y: {} \\n'.format(y_train_miss.shape))\n",
    "\n",
    "print(\"Después del Undersampling, conteo de la etiqueta '1': {}\".format(sum(y_train_miss == 1)))\n",
    "print(\"Después del Undersampling, conteo de la etiqueta '0': {}\".format(sum(y_train_miss == 0)))"
   ]
  },
  {
   "cell_type": "code",
   "execution_count": 124,
   "metadata": {
    "id": "scOz599q3GIx"
   },
   "outputs": [
    {
     "name": "stdout",
     "output_type": "stream",
     "text": [
      "              precision    recall  f1-score   support\n",
      "\n",
      "         0.0       0.83      0.45      0.59    171332\n",
      "         1.0       0.20      0.60      0.30     39648\n",
      "\n",
      "    accuracy                           0.48    210980\n",
      "   macro avg       0.52      0.53      0.45    210980\n",
      "weighted avg       0.71      0.48      0.53    210980\n",
      "\n"
     ]
    }
   ],
   "source": [
    "# train the model on train set\n",
    "modelo_subsampling = DecisionTreeClassifier(criterion = 'gini', max_depth = 7, \n",
    "                                            splitter = 'best', min_samples_split = 2, max_features = 8, class_weight = 'balanced')\n",
    "modelo_subsampling.fit(X_train_miss, y_train_miss.ravel())\n",
    "prediccion = modelo_subsampling.predict(X_test)\n",
    "  \n",
    "# print classification report\n",
    "print(classification_report(y_test, prediccion))"
   ]
  },
  {
   "cell_type": "markdown",
   "metadata": {
    "id": "kOXjgHg6Pngc"
   },
   "source": [
    "Con los modelos creados no se han obtenido buenos resultados, por ende vamos a tratar de crear una red neuronal para ver cómo se comportan. "
   ]
  },
  {
   "cell_type": "code",
   "execution_count": 125,
   "metadata": {
    "id": "TSd0lMWqF-au"
   },
   "outputs": [
    {
     "name": "stderr",
     "output_type": "stream",
     "text": [
      "Using TensorFlow backend.\n"
     ]
    }
   ],
   "source": [
    "# Importando las bibliotecas para la red neuronal\n",
    "from sklearn.neural_network import MLPClassifier\n",
    "from sklearn.metrics import confusion_matrix\n",
    "from keras.models import Sequential\n",
    "from keras.layers import Dense\n",
    "from sklearn.preprocessing import MinMaxScaler"
   ]
  },
  {
   "cell_type": "code",
   "execution_count": 126,
   "metadata": {
    "id": "6zeJwebaP7Gl"
   },
   "outputs": [],
   "source": [
    "# Función para calcular los índices de calidad de la predicción\n",
    "def indices_general(MC, nombres = None):\n",
    "    precision_global = np.sum(MC.diagonal()) / np.sum(MC)\n",
    "    error_global = 1 - precision_global\n",
    "    precision_categoria  = pd.DataFrame(MC.diagonal()/np.sum(MC,axis = 1)).T\n",
    "    if nombres!=None:\n",
    "        precision_categoria.columns = nombres\n",
    "    return {\"Matriz de Confusión\":MC, \n",
    "            \"Precisión Global\":precision_global, \n",
    "            \"Error Global\":error_global, \n",
    "            \"Precisión por categoría\":precision_categoria}"
   ]
  },
  {
   "cell_type": "code",
   "execution_count": 127,
   "metadata": {
    "id": "vFgTlxx_TdFx"
   },
   "outputs": [],
   "source": [
    "# Creando copia\n",
    "d = data.copy()"
   ]
  },
  {
   "cell_type": "code",
   "execution_count": 128,
   "metadata": {
    "id": "E4uNwq_oQMq7"
   },
   "outputs": [],
   "source": [
    "from sklearn.preprocessing import StandardScaler\n",
    "scaler = StandardScaler()"
   ]
  },
  {
   "cell_type": "code",
   "execution_count": 129,
   "metadata": {
    "id": "qTNZ85K4SP_v"
   },
   "outputs": [
    {
     "data": {
      "text/html": [
       "<div>\n",
       "<style scoped>\n",
       "    .dataframe tbody tr th:only-of-type {\n",
       "        vertical-align: middle;\n",
       "    }\n",
       "\n",
       "    .dataframe tbody tr th {\n",
       "        vertical-align: top;\n",
       "    }\n",
       "\n",
       "    .dataframe thead th {\n",
       "        text-align: right;\n",
       "    }\n",
       "</style>\n",
       "<table border=\"1\" class=\"dataframe\">\n",
       "  <thead>\n",
       "    <tr style=\"text-align: right;\">\n",
       "      <th></th>\n",
       "      <th>LIGHT_CODE</th>\n",
       "      <th>JUNCTION_CODE</th>\n",
       "      <th>COLLISION_TYPE_CODE</th>\n",
       "      <th>SURF_COND_CODE</th>\n",
       "      <th>RD_COND_CODE</th>\n",
       "      <th>WEATHER_CODE</th>\n",
       "      <th>SIGNAL_FLAG</th>\n",
       "      <th>SEX_CODE</th>\n",
       "      <th>EQUIP_PROB_CODE</th>\n",
       "      <th>SAF_EQUIP_CODE</th>\n",
       "      <th>DAMAGE_CODE</th>\n",
       "      <th>MOVEMENT_CODE</th>\n",
       "      <th>COMMERCIAL_FLAG</th>\n",
       "      <th>BODY_TYPE_CODE</th>\n",
       "      <th>DRIVERLESS_FLAG</th>\n",
       "      <th>SPEED_LIMIT</th>\n",
       "      <th>LATITUDE</th>\n",
       "      <th>LONGITUDE</th>\n",
       "      <th>HOUR</th>\n",
       "      <th>YEAR</th>\n",
       "      <th>MONTH</th>\n",
       "      <th>DAY</th>\n",
       "    </tr>\n",
       "  </thead>\n",
       "  <tbody>\n",
       "    <tr>\n",
       "      <th>0</th>\n",
       "      <td>1.0</td>\n",
       "      <td>2.0</td>\n",
       "      <td>88.0</td>\n",
       "      <td>2.0</td>\n",
       "      <td>1.0</td>\n",
       "      <td>6.0</td>\n",
       "      <td>0</td>\n",
       "      <td>0</td>\n",
       "      <td>0.0</td>\n",
       "      <td>0.0</td>\n",
       "      <td>2.0</td>\n",
       "      <td>10.0</td>\n",
       "      <td>0</td>\n",
       "      <td>21.0</td>\n",
       "      <td>0</td>\n",
       "      <td>0.0</td>\n",
       "      <td>39.316645</td>\n",
       "      <td>-76.728809</td>\n",
       "      <td>9</td>\n",
       "      <td>2017</td>\n",
       "      <td>6</td>\n",
       "      <td>20</td>\n",
       "    </tr>\n",
       "    <tr>\n",
       "      <th>1</th>\n",
       "      <td>1.0</td>\n",
       "      <td>2.0</td>\n",
       "      <td>11.0</td>\n",
       "      <td>2.0</td>\n",
       "      <td>1.0</td>\n",
       "      <td>6.0</td>\n",
       "      <td>1</td>\n",
       "      <td>1</td>\n",
       "      <td>0.0</td>\n",
       "      <td>13.0</td>\n",
       "      <td>4.0</td>\n",
       "      <td>12.0</td>\n",
       "      <td>0</td>\n",
       "      <td>2.0</td>\n",
       "      <td>0</td>\n",
       "      <td>35.0</td>\n",
       "      <td>38.848088</td>\n",
       "      <td>-76.878811</td>\n",
       "      <td>13</td>\n",
       "      <td>2017</td>\n",
       "      <td>4</td>\n",
       "      <td>2</td>\n",
       "    </tr>\n",
       "    <tr>\n",
       "      <th>2</th>\n",
       "      <td>3.0</td>\n",
       "      <td>1.0</td>\n",
       "      <td>17.0</td>\n",
       "      <td>1.0</td>\n",
       "      <td>1.0</td>\n",
       "      <td>6.0</td>\n",
       "      <td>0</td>\n",
       "      <td>0</td>\n",
       "      <td>1.0</td>\n",
       "      <td>13.0</td>\n",
       "      <td>4.0</td>\n",
       "      <td>2.0</td>\n",
       "      <td>0</td>\n",
       "      <td>23.0</td>\n",
       "      <td>0</td>\n",
       "      <td>35.0</td>\n",
       "      <td>39.619699</td>\n",
       "      <td>-77.769977</td>\n",
       "      <td>1</td>\n",
       "      <td>2016</td>\n",
       "      <td>6</td>\n",
       "      <td>3</td>\n",
       "    </tr>\n",
       "    <tr>\n",
       "      <th>3</th>\n",
       "      <td>1.0</td>\n",
       "      <td>3.0</td>\n",
       "      <td>8.0</td>\n",
       "      <td>2.0</td>\n",
       "      <td>1.0</td>\n",
       "      <td>6.0</td>\n",
       "      <td>1</td>\n",
       "      <td>1</td>\n",
       "      <td>1.0</td>\n",
       "      <td>13.0</td>\n",
       "      <td>4.0</td>\n",
       "      <td>7.0</td>\n",
       "      <td>0</td>\n",
       "      <td>2.0</td>\n",
       "      <td>0</td>\n",
       "      <td>40.0</td>\n",
       "      <td>38.387455</td>\n",
       "      <td>-75.065723</td>\n",
       "      <td>6</td>\n",
       "      <td>2018</td>\n",
       "      <td>9</td>\n",
       "      <td>3</td>\n",
       "    </tr>\n",
       "    <tr>\n",
       "      <th>5</th>\n",
       "      <td>1.0</td>\n",
       "      <td>2.0</td>\n",
       "      <td>11.0</td>\n",
       "      <td>1.0</td>\n",
       "      <td>1.0</td>\n",
       "      <td>3.0</td>\n",
       "      <td>1</td>\n",
       "      <td>0</td>\n",
       "      <td>1.0</td>\n",
       "      <td>13.0</td>\n",
       "      <td>4.0</td>\n",
       "      <td>2.0</td>\n",
       "      <td>0</td>\n",
       "      <td>23.0</td>\n",
       "      <td>0</td>\n",
       "      <td>25.0</td>\n",
       "      <td>39.371149</td>\n",
       "      <td>-76.792838</td>\n",
       "      <td>9</td>\n",
       "      <td>2017</td>\n",
       "      <td>5</td>\n",
       "      <td>22</td>\n",
       "    </tr>\n",
       "  </tbody>\n",
       "</table>\n",
       "</div>"
      ],
      "text/plain": [
       "   LIGHT_CODE  JUNCTION_CODE  COLLISION_TYPE_CODE  SURF_COND_CODE  \\\n",
       "0         1.0            2.0                 88.0             2.0   \n",
       "1         1.0            2.0                 11.0             2.0   \n",
       "2         3.0            1.0                 17.0             1.0   \n",
       "3         1.0            3.0                  8.0             2.0   \n",
       "5         1.0            2.0                 11.0             1.0   \n",
       "\n",
       "   RD_COND_CODE  WEATHER_CODE  SIGNAL_FLAG  SEX_CODE  EQUIP_PROB_CODE  \\\n",
       "0           1.0           6.0            0         0              0.0   \n",
       "1           1.0           6.0            1         1              0.0   \n",
       "2           1.0           6.0            0         0              1.0   \n",
       "3           1.0           6.0            1         1              1.0   \n",
       "5           1.0           3.0            1         0              1.0   \n",
       "\n",
       "   SAF_EQUIP_CODE  DAMAGE_CODE  MOVEMENT_CODE  COMMERCIAL_FLAG  \\\n",
       "0             0.0          2.0           10.0                0   \n",
       "1            13.0          4.0           12.0                0   \n",
       "2            13.0          4.0            2.0                0   \n",
       "3            13.0          4.0            7.0                0   \n",
       "5            13.0          4.0            2.0                0   \n",
       "\n",
       "   BODY_TYPE_CODE  DRIVERLESS_FLAG  SPEED_LIMIT   LATITUDE  LONGITUDE  HOUR  \\\n",
       "0            21.0                0          0.0  39.316645 -76.728809     9   \n",
       "1             2.0                0         35.0  38.848088 -76.878811    13   \n",
       "2            23.0                0         35.0  39.619699 -77.769977     1   \n",
       "3             2.0                0         40.0  38.387455 -75.065723     6   \n",
       "5            23.0                0         25.0  39.371149 -76.792838     9   \n",
       "\n",
       "   YEAR  MONTH  DAY  \n",
       "0  2017      6   20  \n",
       "1  2017      4    2  \n",
       "2  2016      6    3  \n",
       "3  2018      9    3  \n",
       "5  2017      5   22  "
      ]
     },
     "execution_count": 129,
     "metadata": {},
     "output_type": "execute_result"
    }
   ],
   "source": [
    "# Elimina la variable catégorica, deja las variables predictoras en X\n",
    "X = d.iloc[:,0:22] \n",
    "X.head()"
   ]
  },
  {
   "cell_type": "code",
   "execution_count": 130,
   "metadata": {
    "id": "5MI7TKNJWkfR"
   },
   "outputs": [],
   "source": [
    "# Cambiando valores\n",
    "d['INJ_SEVER_CODE'].replace({0: \"No\", 1: \"Si\"}, inplace = True)"
   ]
  },
  {
   "cell_type": "code",
   "execution_count": 131,
   "metadata": {
    "id": "6QrqxUaMYMEF"
   },
   "outputs": [
    {
     "data": {
      "text/html": [
       "<div>\n",
       "<style scoped>\n",
       "    .dataframe tbody tr th:only-of-type {\n",
       "        vertical-align: middle;\n",
       "    }\n",
       "\n",
       "    .dataframe tbody tr th {\n",
       "        vertical-align: top;\n",
       "    }\n",
       "\n",
       "    .dataframe thead th {\n",
       "        text-align: right;\n",
       "    }\n",
       "</style>\n",
       "<table border=\"1\" class=\"dataframe\">\n",
       "  <thead>\n",
       "    <tr style=\"text-align: right;\">\n",
       "      <th></th>\n",
       "      <th>INJ_SEVER_CODE</th>\n",
       "    </tr>\n",
       "  </thead>\n",
       "  <tbody>\n",
       "    <tr>\n",
       "      <th>0</th>\n",
       "      <td>No</td>\n",
       "    </tr>\n",
       "    <tr>\n",
       "      <th>1</th>\n",
       "      <td>Si</td>\n",
       "    </tr>\n",
       "    <tr>\n",
       "      <th>2</th>\n",
       "      <td>Si</td>\n",
       "    </tr>\n",
       "    <tr>\n",
       "      <th>3</th>\n",
       "      <td>No</td>\n",
       "    </tr>\n",
       "    <tr>\n",
       "      <th>5</th>\n",
       "      <td>No</td>\n",
       "    </tr>\n",
       "  </tbody>\n",
       "</table>\n",
       "</div>"
      ],
      "text/plain": [
       "  INJ_SEVER_CODE\n",
       "0             No\n",
       "1             Si\n",
       "2             Si\n",
       "3             No\n",
       "5             No"
      ]
     },
     "execution_count": 131,
     "metadata": {},
     "output_type": "execute_result"
    }
   ],
   "source": [
    "# Obteniendo variable y\n",
    "y = d.iloc[:,22:23] \n",
    "y.head()"
   ]
  },
  {
   "cell_type": "code",
   "execution_count": 132,
   "metadata": {
    "id": "bliTtZhrYm-f"
   },
   "outputs": [],
   "source": [
    "# Separando los datos\n",
    "dummy_y = pd.get_dummies(y)\n",
    "scaler = MinMaxScaler(feature_range = (0, 1))\n",
    "scaled_X  = pd.DataFrame(scaler.fit_transform(X), columns = list(X))\n",
    "X_train, X_test, y_train, y_test = train_test_split(scaled_X, dummy_y, train_size = 0.7, random_state = 0)"
   ]
  },
  {
   "cell_type": "code",
   "execution_count": 133,
   "metadata": {
    "id": "UjL4-x_dYxMU"
   },
   "outputs": [
    {
     "data": {
      "text/html": [
       "<div>\n",
       "<style scoped>\n",
       "    .dataframe tbody tr th:only-of-type {\n",
       "        vertical-align: middle;\n",
       "    }\n",
       "\n",
       "    .dataframe tbody tr th {\n",
       "        vertical-align: top;\n",
       "    }\n",
       "\n",
       "    .dataframe thead th {\n",
       "        text-align: right;\n",
       "    }\n",
       "</style>\n",
       "<table border=\"1\" class=\"dataframe\">\n",
       "  <thead>\n",
       "    <tr style=\"text-align: right;\">\n",
       "      <th></th>\n",
       "      <th>INJ_SEVER_CODE_No</th>\n",
       "      <th>INJ_SEVER_CODE_Si</th>\n",
       "    </tr>\n",
       "  </thead>\n",
       "  <tbody>\n",
       "    <tr>\n",
       "      <th>0</th>\n",
       "      <td>1</td>\n",
       "      <td>0</td>\n",
       "    </tr>\n",
       "    <tr>\n",
       "      <th>1</th>\n",
       "      <td>0</td>\n",
       "      <td>1</td>\n",
       "    </tr>\n",
       "    <tr>\n",
       "      <th>2</th>\n",
       "      <td>0</td>\n",
       "      <td>1</td>\n",
       "    </tr>\n",
       "    <tr>\n",
       "      <th>3</th>\n",
       "      <td>1</td>\n",
       "      <td>0</td>\n",
       "    </tr>\n",
       "    <tr>\n",
       "      <th>5</th>\n",
       "      <td>1</td>\n",
       "      <td>0</td>\n",
       "    </tr>\n",
       "  </tbody>\n",
       "</table>\n",
       "</div>"
      ],
      "text/plain": [
       "   INJ_SEVER_CODE_No  INJ_SEVER_CODE_Si\n",
       "0                  1                  0\n",
       "1                  0                  1\n",
       "2                  0                  1\n",
       "3                  1                  0\n",
       "5                  1                  0"
      ]
     },
     "execution_count": 133,
     "metadata": {},
     "output_type": "execute_result"
    }
   ],
   "source": [
    "# Corroborando que la variable a explicar haya sido convertida de forma correcta\n",
    "dummy_y.head()"
   ]
  },
  {
   "cell_type": "code",
   "execution_count": 134,
   "metadata": {
    "id": "yL4PAeunbs3G"
   },
   "outputs": [
    {
     "data": {
      "text/plain": [
       "''"
      ]
     },
     "execution_count": 134,
     "metadata": {},
     "output_type": "execute_result"
    }
   ],
   "source": [
    "import tensorflow as tf\n",
    "tf.test.gpu_device_name()"
   ]
  },
  {
   "cell_type": "code",
   "execution_count": 135,
   "metadata": {
    "id": "p7IQHY_IY1xl"
   },
   "outputs": [],
   "source": [
    "# Creando modelo con Keras\n",
    "model = Sequential()\n",
    "model.add(Dense(10, input_dim = 22, activation = 'relu'))  # primera capa oculta con 10 neuronas\n",
    "model.add(Dense(5, activation = 'sigmoid'))  # segunda capa oculta con 5 neuronas\n",
    "model.add(Dense(2, activation = 'softmax')) # Agregamos capa output con 2 neuronas"
   ]
  },
  {
   "cell_type": "code",
   "execution_count": 136,
   "metadata": {
    "id": "7VS7m6YMaL_k"
   },
   "outputs": [],
   "source": [
    "# Compilando modelo\n",
    "model.compile(loss = 'categorical_crossentropy', optimizer = 'adam', metrics = ['accuracy'])"
   ]
  },
  {
   "cell_type": "code",
   "execution_count": 137,
   "metadata": {
    "id": "gF7gH8ohaRNT"
   },
   "outputs": [
    {
     "name": "stdout",
     "output_type": "stream",
     "text": [
      "Model: \"sequential_1\"\n",
      "_________________________________________________________________\n",
      "Layer (type)                 Output Shape              Param #   \n",
      "=================================================================\n",
      "dense_1 (Dense)              (None, 10)                230       \n",
      "_________________________________________________________________\n",
      "dense_2 (Dense)              (None, 5)                 55        \n",
      "_________________________________________________________________\n",
      "dense_3 (Dense)              (None, 2)                 12        \n",
      "=================================================================\n",
      "Total params: 297\n",
      "Trainable params: 297\n",
      "Non-trainable params: 0\n",
      "_________________________________________________________________\n",
      "None\n"
     ]
    }
   ],
   "source": [
    "# Resumen del modelo\n",
    "print(model.summary())"
   ]
  },
  {
   "cell_type": "code",
   "execution_count": 138,
   "metadata": {
    "id": "wqbTaPdvaUv5"
   },
   "outputs": [],
   "source": [
    "# Ajustando modelo\n",
    "model.fit(X_train, y_train, epochs = 120, batch_size = 20, verbose = 0)\n",
    "# La predicción es una matriz con 3 columnas\n",
    "y_pred = model.predict(X_test)\n",
    "# Convertimos a columna\n",
    "y_test_class = np.argmax(np.asanyarray(y_test), axis = 1)  # Convertimos a array\n",
    "y_pred_class = np.argmax(y_pred, axis = 1)"
   ]
  },
  {
   "cell_type": "code",
   "execution_count": 139,
   "metadata": {
    "id": "WxqQwVupafmF"
   },
   "outputs": [
    {
     "name": "stdout",
     "output_type": "stream",
     "text": [
      "316469/316469 [==============================] - 4s 12us/step\n",
      "\n",
      "Matriz de Confusión:\n",
      "[[250960   6087]\n",
      " [ 48385  11037]]\n",
      "\n",
      "Precisión Global:\n",
      "0.827875716104895\n",
      "\n",
      "Error Global:\n",
      "0.17212428389510503\n",
      "\n",
      "Precisión por categoría:\n",
      "        No        Si\n",
      "0  0.97632  0.185739\n"
     ]
    }
   ],
   "source": [
    "# Predicciones del modelo\n",
    "scores = model.evaluate(X_test, y_test)\n",
    "MC = confusion_matrix(y_test_class, y_pred_class)\n",
    "indices = indices_general(MC,list(np.unique(y)))\n",
    "for k in indices:\n",
    "    print(\"\\n%s:\\n%s\"%(k,str(indices[k])))"
   ]
  },
  {
   "cell_type": "code",
   "execution_count": 143,
   "metadata": {},
   "outputs": [],
   "source": [
    "# Creando segundo modelo con red neuronal y aumentando la cantidad de capas de procesamiento\n",
    "# Creando modelo con Keras\n",
    "model = Sequential()\n",
    "model.add(Dense(30, input_dim = 22, activation = 'relu'))  # primera capa oculta con 30 neuronas\n",
    "model.add(Dense(20, activation = 'sigmoid'))  # segunda capa oculta con 20 neuronas\n",
    "model.add(Dense(10, activation = 'relu'))  # segunda capa oculta con 10 neuronas\n",
    "model.add(Dense(2, activation = 'softmax')) # Agregamos capa output con 5 neuronas"
   ]
  },
  {
   "cell_type": "code",
   "execution_count": 144,
   "metadata": {},
   "outputs": [],
   "source": [
    "# Compilando modelo\n",
    "model.compile(loss = 'categorical_crossentropy', optimizer = 'adam', metrics = ['accuracy'])"
   ]
  },
  {
   "cell_type": "code",
   "execution_count": 145,
   "metadata": {},
   "outputs": [],
   "source": [
    "# Ajustando modelo\n",
    "model.fit(X_train, y_train, epochs = 200, batch_size = 20, verbose = 0)\n",
    "# La predicción es una matriz con 3 columnas\n",
    "y_pred = model.predict(X_test)\n",
    "# Convertimos a columna\n",
    "y_test_class = np.argmax(np.asanyarray(y_test), axis = 1)  # Convertimos a array\n",
    "y_pred_class = np.argmax(y_pred, axis = 1)"
   ]
  },
  {
   "cell_type": "code",
   "execution_count": 146,
   "metadata": {},
   "outputs": [
    {
     "name": "stdout",
     "output_type": "stream",
     "text": [
      "316469/316469 [==============================] - 3s 8us/step\n",
      "\n",
      "Matriz de Confusión:\n",
      "[[252316   4731]\n",
      " [ 47740  11682]]\n",
      "\n",
      "Precisión Global:\n",
      "0.8341986102904234\n",
      "\n",
      "Error Global:\n",
      "0.16580138970957659\n",
      "\n",
      "Precisión por categoría:\n",
      "         No        Si\n",
      "0  0.981595  0.196594\n"
     ]
    }
   ],
   "source": [
    "# Predicciones del modelo\n",
    "scores = model.evaluate(X_test, y_test)\n",
    "MC = confusion_matrix(y_test_class, y_pred_class)\n",
    "indices = indices_general(MC,list(np.unique(y)))\n",
    "for k in indices:\n",
    "    print(\"\\n%s:\\n%s\"%(k,str(indices[k])))"
   ]
  }
 ],
 "metadata": {
  "accelerator": "TPU",
  "colab": {
   "collapsed_sections": [
    "cd6da504-7e3c-4f7e-af00-b2f0be246ed3",
    "4b173164-598f-4400-b537-1c85ff7020ee"
   ],
   "machine_shape": "hm",
   "name": "TFM final.ipynb",
   "provenance": []
  },
  "gpuClass": "standard",
  "kernelspec": {
   "display_name": "Python 3",
   "language": "python",
   "name": "python3"
  },
  "language_info": {
   "codemirror_mode": {
    "name": "ipython",
    "version": 3
   },
   "file_extension": ".py",
   "mimetype": "text/x-python",
   "name": "python",
   "nbconvert_exporter": "python",
   "pygments_lexer": "ipython3",
   "version": "3.7.4"
  }
 },
 "nbformat": 4,
 "nbformat_minor": 5
}
